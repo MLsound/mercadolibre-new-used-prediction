{
 "cells": [
  {
   "cell_type": "code",
   "execution_count": 13,
   "id": "edbabc84",
   "metadata": {},
   "outputs": [],
   "source": [
    "import pandas as pd\n",
    "import numpy as np\n",
    "import matplotlib.pyplot as plt\n",
    "import seaborn as sns\n",
    "from new_or_used import build_dataset"
   ]
  },
  {
   "cell_type": "code",
   "execution_count": 14,
   "id": "a4415153",
   "metadata": {},
   "outputs": [],
   "source": [
    "X_train, y_train, X_test, y_test = build_dataset()"
   ]
  },
  {
   "cell_type": "code",
   "execution_count": 15,
   "id": "ccad51f9",
   "metadata": {},
   "outputs": [],
   "source": [
    "X_train_df = pd.DataFrame(X_train)\n",
    "X_test_df = pd.DataFrame(X_test)\n",
    "y_train_df = pd.Series(y_train)\n",
    "y_test_df = pd.Series(y_test)"
   ]
  },
  {
   "cell_type": "markdown",
   "id": "02fe515b",
   "metadata": {},
   "source": [
    "# EDA"
   ]
  },
  {
   "cell_type": "markdown",
   "id": "7cc1e1a4",
   "metadata": {},
   "source": [
    "## Understanding data structure"
   ]
  },
  {
   "cell_type": "markdown",
   "id": "d4d2b5e6",
   "metadata": {},
   "source": [
    "### Features"
   ]
  },
  {
   "cell_type": "code",
   "execution_count": null,
   "id": "e084d68a",
   "metadata": {},
   "outputs": [
    {
     "data": {
      "text/plain": [
       "Index(['seller_address', 'warranty', 'sub_status', 'condition', 'deal_ids',\n",
       "       'base_price', 'shipping', 'non_mercado_pago_payment_methods',\n",
       "       'seller_id', 'variations', 'site_id', 'listing_type_id', 'price',\n",
       "       'attributes', 'buying_mode', 'tags', 'listing_source', 'parent_item_id',\n",
       "       'coverage_areas', 'category_id', 'descriptions', 'last_updated',\n",
       "       'international_delivery_mode', 'pictures', 'id', 'official_store_id',\n",
       "       'differential_pricing', 'accepts_mercadopago', 'original_price',\n",
       "       'currency_id', 'thumbnail', 'title', 'automatic_relist', 'date_created',\n",
       "       'secure_thumbnail', 'stop_time', 'status', 'video_id',\n",
       "       'catalog_product_id', 'subtitle', 'initial_quantity', 'start_time',\n",
       "       'permalink', 'sold_quantity', 'available_quantity'],\n",
       "      dtype='object')"
      ]
     },
     "metadata": {},
     "output_type": "display_data"
    }
   ],
   "source": [
    "X_train_df.columns"
   ]
  },
  {
   "cell_type": "code",
   "execution_count": null,
   "id": "44e64fb7",
   "metadata": {},
   "outputs": [
    {
     "data": {
      "text/html": [
       "<div>\n",
       "<style scoped>\n",
       "    .dataframe tbody tr th:only-of-type {\n",
       "        vertical-align: middle;\n",
       "    }\n",
       "\n",
       "    .dataframe tbody tr th {\n",
       "        vertical-align: top;\n",
       "    }\n",
       "\n",
       "    .dataframe thead th {\n",
       "        text-align: right;\n",
       "    }\n",
       "</style>\n",
       "<table border=\"1\" class=\"dataframe\">\n",
       "  <thead>\n",
       "    <tr style=\"text-align: right;\">\n",
       "      <th></th>\n",
       "      <th>seller_address</th>\n",
       "      <th>warranty</th>\n",
       "      <th>sub_status</th>\n",
       "      <th>condition</th>\n",
       "      <th>deal_ids</th>\n",
       "      <th>base_price</th>\n",
       "      <th>shipping</th>\n",
       "      <th>non_mercado_pago_payment_methods</th>\n",
       "      <th>seller_id</th>\n",
       "      <th>variations</th>\n",
       "      <th>site_id</th>\n",
       "      <th>listing_type_id</th>\n",
       "      <th>price</th>\n",
       "      <th>attributes</th>\n",
       "      <th>buying_mode</th>\n",
       "      <th>...</th>\n",
       "      <th>thumbnail</th>\n",
       "      <th>title</th>\n",
       "      <th>automatic_relist</th>\n",
       "      <th>date_created</th>\n",
       "      <th>secure_thumbnail</th>\n",
       "      <th>stop_time</th>\n",
       "      <th>status</th>\n",
       "      <th>video_id</th>\n",
       "      <th>catalog_product_id</th>\n",
       "      <th>subtitle</th>\n",
       "      <th>initial_quantity</th>\n",
       "      <th>start_time</th>\n",
       "      <th>permalink</th>\n",
       "      <th>sold_quantity</th>\n",
       "      <th>available_quantity</th>\n",
       "    </tr>\n",
       "  </thead>\n",
       "  <tbody>\n",
       "    <tr>\n",
       "      <th>59587</th>\n",
       "      <td>{'country': {'name': 'Argentina', 'id': 'AR'},...</td>\n",
       "      <td>Es original</td>\n",
       "      <td>[]</td>\n",
       "      <td>used</td>\n",
       "      <td>[]</td>\n",
       "      <td>60.00</td>\n",
       "      <td>{'local_pick_up': True, 'methods': [], 'tags':...</td>\n",
       "      <td>[]</td>\n",
       "      <td>7732535781</td>\n",
       "      <td>[]</td>\n",
       "      <td>MLA</td>\n",
       "      <td>free</td>\n",
       "      <td>60.00</td>\n",
       "      <td>[]</td>\n",
       "      <td>buy_it_now</td>\n",
       "      <td>...</td>\n",
       "      <td>http://mla-s1-p.mlstatic.com/22936-MLA46927320...</td>\n",
       "      <td>Moneda De Un Centavo Argentina Año 1884</td>\n",
       "      <td>False</td>\n",
       "      <td>2015-09-04T16:22:41.000Z</td>\n",
       "      <td>https://a248.e.akamai.net/mla-s1-p.mlstatic.co...</td>\n",
       "      <td>1446567761000</td>\n",
       "      <td>active</td>\n",
       "      <td>None</td>\n",
       "      <td>NaN</td>\n",
       "      <td>None</td>\n",
       "      <td>1</td>\n",
       "      <td>1441383761000</td>\n",
       "      <td>http://articulo.mercadolibre.com.ar/MLA4692732...</td>\n",
       "      <td>0</td>\n",
       "      <td>1</td>\n",
       "    </tr>\n",
       "    <tr>\n",
       "      <th>34722</th>\n",
       "      <td>{'country': {'name': 'Argentina', 'id': 'AR'},...</td>\n",
       "      <td>None</td>\n",
       "      <td>[]</td>\n",
       "      <td>used</td>\n",
       "      <td>[]</td>\n",
       "      <td>1700.00</td>\n",
       "      <td>{'local_pick_up': False, 'methods': [], 'tags'...</td>\n",
       "      <td>[]</td>\n",
       "      <td>8096270142</td>\n",
       "      <td>[]</td>\n",
       "      <td>MLA</td>\n",
       "      <td>gold_premium</td>\n",
       "      <td>1700.00</td>\n",
       "      <td>[{'value_id': 'CAPPERSO-4', 'attribute_group_i...</td>\n",
       "      <td>classified</td>\n",
       "      <td>...</td>\n",
       "      <td>http://mla-s2-p.mlstatic.com/9275-MLA800616244...</td>\n",
       "      <td>Quinta  Pileta Y Cancha De Tenis</td>\n",
       "      <td>False</td>\n",
       "      <td>2015-02-08T21:38:53.000Z</td>\n",
       "      <td>https://a248.e.akamai.net/mla-s2-p.mlstatic.co...</td>\n",
       "      <td>1447567486529</td>\n",
       "      <td>active</td>\n",
       "      <td>None</td>\n",
       "      <td>NaN</td>\n",
       "      <td>None</td>\n",
       "      <td>1</td>\n",
       "      <td>1423431533000</td>\n",
       "      <td>http://casa.mercadolibre.com.ar/MLA8006162442-...</td>\n",
       "      <td>0</td>\n",
       "      <td>1</td>\n",
       "    </tr>\n",
       "    <tr>\n",
       "      <th>27573</th>\n",
       "      <td>{'country': {'name': 'Argentina', 'id': 'AR'},...</td>\n",
       "      <td>None</td>\n",
       "      <td>[]</td>\n",
       "      <td>new</td>\n",
       "      <td>[]</td>\n",
       "      <td>130.00</td>\n",
       "      <td>{'local_pick_up': True, 'methods': [], 'tags':...</td>\n",
       "      <td>[{'description': 'Transferencia bancaria', 'id...</td>\n",
       "      <td>7884138892</td>\n",
       "      <td>[]</td>\n",
       "      <td>MLA</td>\n",
       "      <td>bronze</td>\n",
       "      <td>130.00</td>\n",
       "      <td>[]</td>\n",
       "      <td>buy_it_now</td>\n",
       "      <td>...</td>\n",
       "      <td>http://mla-s2-p.mlstatic.com/743701-MLA2586391...</td>\n",
       "      <td>Elf Brocha Para Difuminar Ojos Crease Brush</td>\n",
       "      <td>False</td>\n",
       "      <td>2015-08-18T17:40:43.000Z</td>\n",
       "      <td>https://a248.e.akamai.net/mla-s2-p.mlstatic.co...</td>\n",
       "      <td>1445103643000</td>\n",
       "      <td>paused</td>\n",
       "      <td>None</td>\n",
       "      <td>NaN</td>\n",
       "      <td>None</td>\n",
       "      <td>1</td>\n",
       "      <td>1439919643000</td>\n",
       "      <td>http://articulo.mercadolibre.com.ar/MLA2586391...</td>\n",
       "      <td>0</td>\n",
       "      <td>1</td>\n",
       "    </tr>\n",
       "    <tr>\n",
       "      <th>37186</th>\n",
       "      <td>{'country': {'name': 'Argentina', 'id': 'AR'},...</td>\n",
       "      <td>Local a la calle, con mas de 30 años de experi...</td>\n",
       "      <td>[]</td>\n",
       "      <td>new</td>\n",
       "      <td>[]</td>\n",
       "      <td>902.00</td>\n",
       "      <td>{'local_pick_up': True, 'methods': [], 'tags':...</td>\n",
       "      <td>[{'description': 'Transferencia bancaria', 'id...</td>\n",
       "      <td>2183488158</td>\n",
       "      <td>[]</td>\n",
       "      <td>MLA</td>\n",
       "      <td>bronze</td>\n",
       "      <td>902.00</td>\n",
       "      <td>[{'value_id': '', 'attribute_group_id': 'DFLT'...</td>\n",
       "      <td>buy_it_now</td>\n",
       "      <td>...</td>\n",
       "      <td>http://mla-s1-p.mlstatic.com/16749-MLA83745786...</td>\n",
       "      <td>Amortiguador Delantero Fiat Marea Todos</td>\n",
       "      <td>False</td>\n",
       "      <td>2015-09-29T20:43:18.000Z</td>\n",
       "      <td>https://a248.e.akamai.net/mla-s1-p.mlstatic.co...</td>\n",
       "      <td>1448743397000</td>\n",
       "      <td>active</td>\n",
       "      <td>None</td>\n",
       "      <td>NaN</td>\n",
       "      <td>None</td>\n",
       "      <td>8</td>\n",
       "      <td>1443559397000</td>\n",
       "      <td>http://articulo.mercadolibre.com.ar/MLA8374578...</td>\n",
       "      <td>2</td>\n",
       "      <td>8</td>\n",
       "    </tr>\n",
       "    <tr>\n",
       "      <th>72724</th>\n",
       "      <td>{'country': {'name': 'Argentina', 'id': 'AR'},...</td>\n",
       "      <td>DE CALIDAD. MIRA MIS CALIFICACIONES Y COMENTAR...</td>\n",
       "      <td>[]</td>\n",
       "      <td>new</td>\n",
       "      <td>[]</td>\n",
       "      <td>219.99</td>\n",
       "      <td>{'local_pick_up': True, 'methods': [], 'tags':...</td>\n",
       "      <td>[{'description': 'Transferencia bancaria', 'id...</td>\n",
       "      <td>2983886656</td>\n",
       "      <td>[]</td>\n",
       "      <td>MLA</td>\n",
       "      <td>gold</td>\n",
       "      <td>219.99</td>\n",
       "      <td>[]</td>\n",
       "      <td>buy_it_now</td>\n",
       "      <td>...</td>\n",
       "      <td>http://mla-s1-p.mlstatic.com/4046-MLA435556924...</td>\n",
       "      <td>Corbatas Importadas Seda Jacquard Top #~#444</td>\n",
       "      <td>False</td>\n",
       "      <td>2015-08-19T20:33:46.000Z</td>\n",
       "      <td>https://a248.e.akamai.net/mla-s1-p.mlstatic.co...</td>\n",
       "      <td>1445200426000</td>\n",
       "      <td>active</td>\n",
       "      <td>None</td>\n",
       "      <td>NaN</td>\n",
       "      <td>None</td>\n",
       "      <td>6</td>\n",
       "      <td>1440016426000</td>\n",
       "      <td>http://articulo.mercadolibre.com.ar/MLA4355569...</td>\n",
       "      <td>14</td>\n",
       "      <td>6</td>\n",
       "    </tr>\n",
       "  </tbody>\n",
       "</table>\n",
       "<p>5 rows × 45 columns</p>\n",
       "</div>"
      ],
      "text/plain": [
       "                                          seller_address  \\\n",
       "59587  {'country': {'name': 'Argentina', 'id': 'AR'},...   \n",
       "34722  {'country': {'name': 'Argentina', 'id': 'AR'},...   \n",
       "27573  {'country': {'name': 'Argentina', 'id': 'AR'},...   \n",
       "37186  {'country': {'name': 'Argentina', 'id': 'AR'},...   \n",
       "72724  {'country': {'name': 'Argentina', 'id': 'AR'},...   \n",
       "\n",
       "                                                warranty sub_status condition  \\\n",
       "59587                                        Es original         []      used   \n",
       "34722                                               None         []      used   \n",
       "27573                                               None         []       new   \n",
       "37186  Local a la calle, con mas de 30 años de experi...         []       new   \n",
       "72724  DE CALIDAD. MIRA MIS CALIFICACIONES Y COMENTAR...         []       new   \n",
       "\n",
       "      deal_ids  base_price                                           shipping  \\\n",
       "59587       []       60.00  {'local_pick_up': True, 'methods': [], 'tags':...   \n",
       "34722       []     1700.00  {'local_pick_up': False, 'methods': [], 'tags'...   \n",
       "27573       []      130.00  {'local_pick_up': True, 'methods': [], 'tags':...   \n",
       "37186       []      902.00  {'local_pick_up': True, 'methods': [], 'tags':...   \n",
       "72724       []      219.99  {'local_pick_up': True, 'methods': [], 'tags':...   \n",
       "\n",
       "                        non_mercado_pago_payment_methods   seller_id  \\\n",
       "59587                                                 []  7732535781   \n",
       "34722                                                 []  8096270142   \n",
       "27573  [{'description': 'Transferencia bancaria', 'id...  7884138892   \n",
       "37186  [{'description': 'Transferencia bancaria', 'id...  2183488158   \n",
       "72724  [{'description': 'Transferencia bancaria', 'id...  2983886656   \n",
       "\n",
       "      variations site_id listing_type_id    price  \\\n",
       "59587         []     MLA            free    60.00   \n",
       "34722         []     MLA    gold_premium  1700.00   \n",
       "27573         []     MLA          bronze   130.00   \n",
       "37186         []     MLA          bronze   902.00   \n",
       "72724         []     MLA            gold   219.99   \n",
       "\n",
       "                                              attributes buying_mode  ...  \\\n",
       "59587                                                 []  buy_it_now  ...   \n",
       "34722  [{'value_id': 'CAPPERSO-4', 'attribute_group_i...  classified  ...   \n",
       "27573                                                 []  buy_it_now  ...   \n",
       "37186  [{'value_id': '', 'attribute_group_id': 'DFLT'...  buy_it_now  ...   \n",
       "72724                                                 []  buy_it_now  ...   \n",
       "\n",
       "                                               thumbnail  \\\n",
       "59587  http://mla-s1-p.mlstatic.com/22936-MLA46927320...   \n",
       "34722  http://mla-s2-p.mlstatic.com/9275-MLA800616244...   \n",
       "27573  http://mla-s2-p.mlstatic.com/743701-MLA2586391...   \n",
       "37186  http://mla-s1-p.mlstatic.com/16749-MLA83745786...   \n",
       "72724  http://mla-s1-p.mlstatic.com/4046-MLA435556924...   \n",
       "\n",
       "                                              title automatic_relist  \\\n",
       "59587       Moneda De Un Centavo Argentina Año 1884            False   \n",
       "34722              Quinta  Pileta Y Cancha De Tenis            False   \n",
       "27573   Elf Brocha Para Difuminar Ojos Crease Brush            False   \n",
       "37186       Amortiguador Delantero Fiat Marea Todos            False   \n",
       "72724  Corbatas Importadas Seda Jacquard Top #~#444            False   \n",
       "\n",
       "                   date_created  \\\n",
       "59587  2015-09-04T16:22:41.000Z   \n",
       "34722  2015-02-08T21:38:53.000Z   \n",
       "27573  2015-08-18T17:40:43.000Z   \n",
       "37186  2015-09-29T20:43:18.000Z   \n",
       "72724  2015-08-19T20:33:46.000Z   \n",
       "\n",
       "                                        secure_thumbnail      stop_time  \\\n",
       "59587  https://a248.e.akamai.net/mla-s1-p.mlstatic.co...  1446567761000   \n",
       "34722  https://a248.e.akamai.net/mla-s2-p.mlstatic.co...  1447567486529   \n",
       "27573  https://a248.e.akamai.net/mla-s2-p.mlstatic.co...  1445103643000   \n",
       "37186  https://a248.e.akamai.net/mla-s1-p.mlstatic.co...  1448743397000   \n",
       "72724  https://a248.e.akamai.net/mla-s1-p.mlstatic.co...  1445200426000   \n",
       "\n",
       "       status video_id catalog_product_id subtitle  initial_quantity  \\\n",
       "59587  active     None                NaN     None                 1   \n",
       "34722  active     None                NaN     None                 1   \n",
       "27573  paused     None                NaN     None                 1   \n",
       "37186  active     None                NaN     None                 8   \n",
       "72724  active     None                NaN     None                 6   \n",
       "\n",
       "          start_time                                          permalink  \\\n",
       "59587  1441383761000  http://articulo.mercadolibre.com.ar/MLA4692732...   \n",
       "34722  1423431533000  http://casa.mercadolibre.com.ar/MLA8006162442-...   \n",
       "27573  1439919643000  http://articulo.mercadolibre.com.ar/MLA2586391...   \n",
       "37186  1443559397000  http://articulo.mercadolibre.com.ar/MLA8374578...   \n",
       "72724  1440016426000  http://articulo.mercadolibre.com.ar/MLA4355569...   \n",
       "\n",
       "       sold_quantity available_quantity  \n",
       "59587              0                  1  \n",
       "34722              0                  1  \n",
       "27573              0                  1  \n",
       "37186              2                  8  \n",
       "72724             14                  6  \n",
       "\n",
       "[5 rows x 45 columns]"
      ]
     },
     "execution_count": 6,
     "metadata": {},
     "output_type": "execute_result"
    }
   ],
   "source": [
    "X_train_df.sample(5)  # Display a sample of the training data"
   ]
  },
  {
   "cell_type": "code",
   "execution_count": null,
   "id": "cc9aa68f",
   "metadata": {},
   "outputs": [
    {
     "data": {
      "text/html": [
       "<div>\n",
       "<style scoped>\n",
       "    .dataframe tbody tr th:only-of-type {\n",
       "        vertical-align: middle;\n",
       "    }\n",
       "\n",
       "    .dataframe tbody tr th {\n",
       "        vertical-align: top;\n",
       "    }\n",
       "\n",
       "    .dataframe thead th {\n",
       "        text-align: right;\n",
       "    }\n",
       "</style>\n",
       "<table border=\"1\" class=\"dataframe\">\n",
       "  <thead>\n",
       "    <tr style=\"text-align: right;\">\n",
       "      <th></th>\n",
       "      <th>buying_mode</th>\n",
       "      <th>tags</th>\n",
       "      <th>listing_source</th>\n",
       "      <th>parent_item_id</th>\n",
       "      <th>coverage_areas</th>\n",
       "      <th>category_id</th>\n",
       "      <th>descriptions</th>\n",
       "      <th>last_updated</th>\n",
       "      <th>international_delivery_mode</th>\n",
       "      <th>pictures</th>\n",
       "      <th>id</th>\n",
       "      <th>official_store_id</th>\n",
       "      <th>differential_pricing</th>\n",
       "      <th>accepts_mercadopago</th>\n",
       "      <th>original_price</th>\n",
       "      <th>currency_id</th>\n",
       "      <th>thumbnail</th>\n",
       "    </tr>\n",
       "  </thead>\n",
       "  <tbody>\n",
       "    <tr>\n",
       "      <th>85140</th>\n",
       "      <td>buy_it_now</td>\n",
       "      <td>[dragged_bids_and_visits]</td>\n",
       "      <td></td>\n",
       "      <td>MLA5040216364</td>\n",
       "      <td>[]</td>\n",
       "      <td>MLA60595</td>\n",
       "      <td>[{'id': 'MLA4931751761-929756542'}]</td>\n",
       "      <td>2015-10-01T13:19:56.000Z</td>\n",
       "      <td>none</td>\n",
       "      <td>[{'size': '377x250', 'secure_url': 'https://a2...</td>\n",
       "      <td>MLA4931751761</td>\n",
       "      <td>NaN</td>\n",
       "      <td>None</td>\n",
       "      <td>True</td>\n",
       "      <td>NaN</td>\n",
       "      <td>ARS</td>\n",
       "      <td>http://mla-s1-p.mlstatic.com/17026-MLA49317517...</td>\n",
       "    </tr>\n",
       "    <tr>\n",
       "      <th>46130</th>\n",
       "      <td>auction</td>\n",
       "      <td>[]</td>\n",
       "      <td></td>\n",
       "      <td>MLA7882422497</td>\n",
       "      <td>[]</td>\n",
       "      <td>MLA41287</td>\n",
       "      <td>[{'id': 'MLA7281577948-944105691'}]</td>\n",
       "      <td>2015-10-14T11:00:35.000Z</td>\n",
       "      <td>none</td>\n",
       "      <td>[{'size': '280x500', 'secure_url': 'https://a2...</td>\n",
       "      <td>MLA7281577948</td>\n",
       "      <td>NaN</td>\n",
       "      <td>None</td>\n",
       "      <td>True</td>\n",
       "      <td>NaN</td>\n",
       "      <td>ARS</td>\n",
       "      <td>http://mla-s2-p.mlstatic.com/300401-MLA7281577...</td>\n",
       "    </tr>\n",
       "    <tr>\n",
       "      <th>47440</th>\n",
       "      <td>buy_it_now</td>\n",
       "      <td>[dragged_bids_and_visits]</td>\n",
       "      <td></td>\n",
       "      <td>MLA8500974149</td>\n",
       "      <td>[]</td>\n",
       "      <td>MLA37759</td>\n",
       "      <td>[{'id': 'MLA6100979825-912197108'}]</td>\n",
       "      <td>2015-10-13T22:14:51.000Z</td>\n",
       "      <td>none</td>\n",
       "      <td>[{'size': '375x500', 'secure_url': 'https://a2...</td>\n",
       "      <td>MLA6100979825</td>\n",
       "      <td>NaN</td>\n",
       "      <td>None</td>\n",
       "      <td>True</td>\n",
       "      <td>NaN</td>\n",
       "      <td>ARS</td>\n",
       "      <td>http://mla-s2-p.mlstatic.com/626401-MLA6100979...</td>\n",
       "    </tr>\n",
       "    <tr>\n",
       "      <th>605</th>\n",
       "      <td>buy_it_now</td>\n",
       "      <td>[]</td>\n",
       "      <td></td>\n",
       "      <td>None</td>\n",
       "      <td>[]</td>\n",
       "      <td>MLA45672</td>\n",
       "      <td>[{'id': 'MLA3204639461-905879115'}]</td>\n",
       "      <td>2015-10-14T00:00:56.000Z</td>\n",
       "      <td>none</td>\n",
       "      <td>[{'size': '370x370', 'secure_url': 'https://a2...</td>\n",
       "      <td>MLA3204639461</td>\n",
       "      <td>NaN</td>\n",
       "      <td>None</td>\n",
       "      <td>True</td>\n",
       "      <td>NaN</td>\n",
       "      <td>ARS</td>\n",
       "      <td>http://mla-s2-p.mlstatic.com/638801-MLA3204639...</td>\n",
       "    </tr>\n",
       "    <tr>\n",
       "      <th>26575</th>\n",
       "      <td>buy_it_now</td>\n",
       "      <td>[dragged_bids_and_visits]</td>\n",
       "      <td></td>\n",
       "      <td>MLA6519258229</td>\n",
       "      <td>[]</td>\n",
       "      <td>MLA31907</td>\n",
       "      <td>[{'id': 'MLA9493094857-942374957'}]</td>\n",
       "      <td>2015-10-11T21:21:27.000Z</td>\n",
       "      <td>none</td>\n",
       "      <td>[{'size': '320x240', 'secure_url': 'https://a2...</td>\n",
       "      <td>MLA9493094857</td>\n",
       "      <td>NaN</td>\n",
       "      <td>None</td>\n",
       "      <td>True</td>\n",
       "      <td>NaN</td>\n",
       "      <td>ARS</td>\n",
       "      <td>http://mla-s1-p.mlstatic.com/13574-MLA94930948...</td>\n",
       "    </tr>\n",
       "  </tbody>\n",
       "</table>\n",
       "</div>"
      ],
      "text/plain": [
       "      buying_mode                       tags listing_source parent_item_id  \\\n",
       "85140  buy_it_now  [dragged_bids_and_visits]                 MLA5040216364   \n",
       "46130     auction                         []                 MLA7882422497   \n",
       "47440  buy_it_now  [dragged_bids_and_visits]                 MLA8500974149   \n",
       "605    buy_it_now                         []                          None   \n",
       "26575  buy_it_now  [dragged_bids_and_visits]                 MLA6519258229   \n",
       "\n",
       "      coverage_areas category_id                         descriptions  \\\n",
       "85140             []    MLA60595  [{'id': 'MLA4931751761-929756542'}]   \n",
       "46130             []    MLA41287  [{'id': 'MLA7281577948-944105691'}]   \n",
       "47440             []    MLA37759  [{'id': 'MLA6100979825-912197108'}]   \n",
       "605               []    MLA45672  [{'id': 'MLA3204639461-905879115'}]   \n",
       "26575             []    MLA31907  [{'id': 'MLA9493094857-942374957'}]   \n",
       "\n",
       "                   last_updated international_delivery_mode  \\\n",
       "85140  2015-10-01T13:19:56.000Z                        none   \n",
       "46130  2015-10-14T11:00:35.000Z                        none   \n",
       "47440  2015-10-13T22:14:51.000Z                        none   \n",
       "605    2015-10-14T00:00:56.000Z                        none   \n",
       "26575  2015-10-11T21:21:27.000Z                        none   \n",
       "\n",
       "                                                pictures             id  \\\n",
       "85140  [{'size': '377x250', 'secure_url': 'https://a2...  MLA4931751761   \n",
       "46130  [{'size': '280x500', 'secure_url': 'https://a2...  MLA7281577948   \n",
       "47440  [{'size': '375x500', 'secure_url': 'https://a2...  MLA6100979825   \n",
       "605    [{'size': '370x370', 'secure_url': 'https://a2...  MLA3204639461   \n",
       "26575  [{'size': '320x240', 'secure_url': 'https://a2...  MLA9493094857   \n",
       "\n",
       "       official_store_id differential_pricing  accepts_mercadopago  \\\n",
       "85140                NaN                 None                 True   \n",
       "46130                NaN                 None                 True   \n",
       "47440                NaN                 None                 True   \n",
       "605                  NaN                 None                 True   \n",
       "26575                NaN                 None                 True   \n",
       "\n",
       "       original_price currency_id  \\\n",
       "85140             NaN         ARS   \n",
       "46130             NaN         ARS   \n",
       "47440             NaN         ARS   \n",
       "605               NaN         ARS   \n",
       "26575             NaN         ARS   \n",
       "\n",
       "                                               thumbnail  \n",
       "85140  http://mla-s1-p.mlstatic.com/17026-MLA49317517...  \n",
       "46130  http://mla-s2-p.mlstatic.com/300401-MLA7281577...  \n",
       "47440  http://mla-s2-p.mlstatic.com/626401-MLA6100979...  \n",
       "605    http://mla-s2-p.mlstatic.com/638801-MLA3204639...  \n",
       "26575  http://mla-s1-p.mlstatic.com/13574-MLA94930948...  "
      ]
     },
     "execution_count": 7,
     "metadata": {},
     "output_type": "execute_result"
    }
   ],
   "source": [
    "# There are too many columns to display all at once, so we will show a subset\n",
    "X_train_df[['buying_mode', 'tags', 'listing_source', 'parent_item_id',\n",
    "       'coverage_areas', 'category_id', 'descriptions', 'last_updated',\n",
    "       'international_delivery_mode', 'pictures', 'id', 'official_store_id',\n",
    "       'differential_pricing', 'accepts_mercadopago', 'original_price',\n",
    "       'currency_id', 'thumbnail']].sample(5)"
   ]
  },
  {
   "cell_type": "markdown",
   "id": "57627c3a",
   "metadata": {},
   "source": [
    "Probably, `condition` feature should be deleted because it's the actual target. This hypotesis have to be checked first."
   ]
  },
  {
   "cell_type": "markdown",
   "id": "2cd6ad5d",
   "metadata": {},
   "source": [
    "`international_delivery_mode` has a wrong 'none' value so it needs to be corrected."
   ]
  },
  {
   "cell_type": "code",
   "execution_count": null,
   "id": "138433e7",
   "metadata": {},
   "outputs": [
    {
     "name": "stdout",
     "output_type": "stream",
     "text": [
      "<class 'pandas.core.frame.DataFrame'>\n",
      "RangeIndex: 90000 entries, 0 to 89999\n",
      "Data columns (total 45 columns):\n",
      " #   Column                            Non-Null Count  Dtype  \n",
      "---  ------                            --------------  -----  \n",
      " 0   seller_address                    90000 non-null  object \n",
      " 1   warranty                          35243 non-null  object \n",
      " 2   sub_status                        90000 non-null  object \n",
      " 3   condition                         90000 non-null  object \n",
      " 4   deal_ids                          90000 non-null  object \n",
      " 5   base_price                        90000 non-null  float64\n",
      " 6   shipping                          90000 non-null  object \n",
      " 7   non_mercado_pago_payment_methods  90000 non-null  object \n",
      " 8   seller_id                         90000 non-null  int64  \n",
      " 9   variations                        90000 non-null  object \n",
      " 10  site_id                           90000 non-null  object \n",
      " 11  listing_type_id                   90000 non-null  object \n",
      " 12  price                             90000 non-null  float64\n",
      " 13  attributes                        90000 non-null  object \n",
      " 14  buying_mode                       90000 non-null  object \n",
      " 15  tags                              90000 non-null  object \n",
      " 16  listing_source                    90000 non-null  object \n",
      " 17  parent_item_id                    69310 non-null  object \n",
      " 18  coverage_areas                    90000 non-null  object \n",
      " 19  category_id                       90000 non-null  object \n",
      " 20  descriptions                      90000 non-null  object \n",
      " 21  last_updated                      90000 non-null  object \n",
      " 22  international_delivery_mode       90000 non-null  object \n",
      " 23  pictures                          90000 non-null  object \n",
      " 24  id                                90000 non-null  object \n",
      " 25  official_store_id                 745 non-null    float64\n",
      " 26  differential_pricing              0 non-null      object \n",
      " 27  accepts_mercadopago               90000 non-null  bool   \n",
      " 28  original_price                    130 non-null    float64\n",
      " 29  currency_id                       90000 non-null  object \n",
      " 30  thumbnail                         90000 non-null  object \n",
      " 31  title                             90000 non-null  object \n",
      " 32  automatic_relist                  90000 non-null  bool   \n",
      " 33  date_created                      90000 non-null  object \n",
      " 34  secure_thumbnail                  90000 non-null  object \n",
      " 35  stop_time                         90000 non-null  int64  \n",
      " 36  status                            90000 non-null  object \n",
      " 37  video_id                          2676 non-null   object \n",
      " 38  catalog_product_id                7 non-null      float64\n",
      " 39  subtitle                          0 non-null      object \n",
      " 40  initial_quantity                  90000 non-null  int64  \n",
      " 41  start_time                        90000 non-null  int64  \n",
      " 42  permalink                         90000 non-null  object \n",
      " 43  sold_quantity                     90000 non-null  int64  \n",
      " 44  available_quantity                90000 non-null  int64  \n",
      "dtypes: bool(2), float64(5), int64(6), object(32)\n",
      "memory usage: 29.7+ MB\n"
     ]
    }
   ],
   "source": [
    "X_train_df.info()"
   ]
  },
  {
   "cell_type": "markdown",
   "id": "5d2df4bd",
   "metadata": {},
   "source": [
    "#### Nulls analysis"
   ]
  },
  {
   "cell_type": "markdown",
   "id": "2067ebe1",
   "metadata": {},
   "source": [
    "For some variables, we have missing values."
   ]
  },
  {
   "cell_type": "markdown",
   "id": "8f1ac9af",
   "metadata": {},
   "source": [
    "**Some nulls:**\n",
    "1. `parent_item_id` (23.0%)\n",
    "1. `warranty` (60.8%)\n",
    "\n",
    "**Almost empty:**\n",
    "1. `video_id` (97.0%)\n",
    "1. `official_store_id` (99.2%)\n",
    "1. `original_price` (99.9%)\n",
    "1. `catalog_product_id` (~100%)\n",
    "\n",
    "**No data:**\n",
    "1. `differential_pricing`\n",
    "1. `subtitle`"
   ]
  },
  {
   "cell_type": "markdown",
   "id": "572d891f",
   "metadata": {},
   "source": [
    "At a first glance, it looks like many features are null but have some content '[]', so they'll not be displayed as null by `.info()`."
   ]
  },
  {
   "cell_type": "code",
   "execution_count": null,
   "id": "373498bf",
   "metadata": {},
   "outputs": [
    {
     "data": {
      "text/plain": [
       "count     90000\n",
       "unique        4\n",
       "top          []\n",
       "freq      89109\n",
       "Name: sub_status, dtype: object"
      ]
     },
     "execution_count": 9,
     "metadata": {},
     "output_type": "execute_result"
    }
   ],
   "source": [
    "X_train_df['sub_status'].describe()"
   ]
  },
  {
   "cell_type": "code",
   "execution_count": 31,
   "id": "d701656d",
   "metadata": {},
   "outputs": [
    {
     "name": "stdout",
     "output_type": "stream",
     "text": [
      "{'expired', 'suspended', 'deleted'}\n"
     ]
    }
   ],
   "source": [
    "# Flatten all tag lists and get unique tag values\n",
    "unique_substatus = set(substatus for substatus_list in X_train_df['sub_status'] for substatus in substatus_list)\n",
    "print(unique_substatus)"
   ]
  },
  {
   "cell_type": "code",
   "execution_count": null,
   "id": "fae0f118",
   "metadata": {},
   "outputs": [
    {
     "data": {
      "text/plain": [
       "count     90000\n",
       "unique       31\n",
       "top          []\n",
       "freq      89783\n",
       "Name: deal_ids, dtype: object"
      ]
     },
     "execution_count": 10,
     "metadata": {},
     "output_type": "execute_result"
    }
   ],
   "source": [
    "X_train_df['deal_ids'].describe()"
   ]
  },
  {
   "cell_type": "code",
   "execution_count": 17,
   "id": "69526a0b",
   "metadata": {},
   "outputs": [
    {
     "data": {
      "text/plain": [
       "count     90000\n",
       "unique     7375\n",
       "top          []\n",
       "freq      82626\n",
       "Name: variations, dtype: object"
      ]
     },
     "execution_count": 17,
     "metadata": {},
     "output_type": "execute_result"
    }
   ],
   "source": [
    "X_train_df['variations'].describe()"
   ]
  },
  {
   "cell_type": "code",
   "execution_count": null,
   "id": "109a8477",
   "metadata": {},
   "outputs": [
    {
     "data": {
      "text/plain": [
       "count     90000\n",
       "unique     3118\n",
       "top          []\n",
       "freq      78850\n",
       "Name: attributes, dtype: object"
      ]
     },
     "execution_count": 15,
     "metadata": {},
     "output_type": "execute_result"
    }
   ],
   "source": [
    "X_train_df['attributes'].describe()"
   ]
  },
  {
   "cell_type": "code",
   "execution_count": null,
   "id": "38c32e05",
   "metadata": {},
   "outputs": [
    {
     "data": {
      "text/plain": [
       "count                         90000\n",
       "unique                            8\n",
       "top       [dragged_bids_and_visits]\n",
       "freq                          65315\n",
       "Name: tags, dtype: object"
      ]
     },
     "execution_count": 24,
     "metadata": {},
     "output_type": "execute_result"
    }
   ],
   "source": [
    "X_train_df['tags'].describe()"
   ]
  },
  {
   "cell_type": "code",
   "execution_count": 29,
   "id": "71b3ccdf",
   "metadata": {},
   "outputs": [
    {
     "name": "stdout",
     "output_type": "stream",
     "text": [
      "{'free_relist', 'poor_quality_thumbnail', 'good_quality_thumbnail', 'dragged_visits', 'dragged_bids_and_visits'}\n"
     ]
    }
   ],
   "source": [
    "# Flatten all tag lists and get unique tag values\n",
    "unique_tags = set(tag for tags_list in X_train_df['tags'] for tag in tags_list)\n",
    "print(unique_tags)"
   ]
  },
  {
   "cell_type": "markdown",
   "id": "cb2685f0",
   "metadata": {},
   "source": [
    "It seems we only have 5 relevant values for 'tags'.\n",
    "\n",
    "So, it's plausible to assume that the remaining 3 appearing values are related with an empty field (NaN).\n",
    "\n",
    "It'll be explored later."
   ]
  },
  {
   "cell_type": "code",
   "execution_count": null,
   "id": "ae51b14d",
   "metadata": {},
   "outputs": [
    {
     "data": {
      "text/plain": [
       "count     90000\n",
       "unique        1\n",
       "top            \n",
       "freq      90000\n",
       "Name: listing_source, dtype: object"
      ]
     },
     "execution_count": 25,
     "metadata": {},
     "output_type": "execute_result"
    }
   ],
   "source": [
    "X_train_df['listing_source'].describe()"
   ]
  },
  {
   "cell_type": "code",
   "execution_count": null,
   "id": "cdeb4bd5",
   "metadata": {},
   "outputs": [
    {
     "data": {
      "text/plain": [
       "count     90000\n",
       "unique        1\n",
       "top          []\n",
       "freq      90000\n",
       "Name: coverage_areas, dtype: object"
      ]
     },
     "execution_count": 26,
     "metadata": {},
     "output_type": "execute_result"
    }
   ],
   "source": [
    "X_train_df['coverage_areas'].describe()"
   ]
  },
  {
   "cell_type": "markdown",
   "id": "54661b97",
   "metadata": {},
   "source": [
    "It's been verified that most of these features has '[]' instead of 'NaN'. It has to be modified.\n",
    "\n",
    "***Conflictive Features:*** coverage_areas, listing_source, tags, attributes, variations, deal_ids, sub_status"
   ]
  },
  {
   "cell_type": "markdown",
   "id": "2364a695",
   "metadata": {},
   "source": [
    "Both `listing_source` and `coverage_areas` are completely empty. The others have between 87% up to 99% nulls."
   ]
  },
  {
   "cell_type": "markdown",
   "id": "f83fa877",
   "metadata": {},
   "source": [
    "---"
   ]
  },
  {
   "cell_type": "markdown",
   "id": "f77174ad",
   "metadata": {},
   "source": [
    "#### Variables distribution"
   ]
  },
  {
   "cell_type": "code",
   "execution_count": null,
   "id": "6b718df9",
   "metadata": {},
   "outputs": [
    {
     "data": {
      "text/html": [
       "<div>\n",
       "<style scoped>\n",
       "    .dataframe tbody tr th:only-of-type {\n",
       "        vertical-align: middle;\n",
       "    }\n",
       "\n",
       "    .dataframe tbody tr th {\n",
       "        vertical-align: top;\n",
       "    }\n",
       "\n",
       "    .dataframe thead th {\n",
       "        text-align: right;\n",
       "    }\n",
       "</style>\n",
       "<table border=\"1\" class=\"dataframe\">\n",
       "  <thead>\n",
       "    <tr style=\"text-align: right;\">\n",
       "      <th></th>\n",
       "      <th>base_price</th>\n",
       "      <th>seller_id</th>\n",
       "      <th>price</th>\n",
       "      <th>official_store_id</th>\n",
       "      <th>original_price</th>\n",
       "      <th>stop_time</th>\n",
       "      <th>catalog_product_id</th>\n",
       "      <th>initial_quantity</th>\n",
       "      <th>start_time</th>\n",
       "      <th>sold_quantity</th>\n",
       "      <th>available_quantity</th>\n",
       "    </tr>\n",
       "  </thead>\n",
       "  <tbody>\n",
       "    <tr>\n",
       "      <th>count</th>\n",
       "      <td>9.000000e+04</td>\n",
       "      <td>9.000000e+04</td>\n",
       "      <td>9.000000e+04</td>\n",
       "      <td>745.000000</td>\n",
       "      <td>130.000000</td>\n",
       "      <td>9.000000e+04</td>\n",
       "      <td>7.000000e+00</td>\n",
       "      <td>90000.000000</td>\n",
       "      <td>9.000000e+04</td>\n",
       "      <td>90000.000000</td>\n",
       "      <td>90000.000000</td>\n",
       "    </tr>\n",
       "    <tr>\n",
       "      <th>mean</th>\n",
       "      <td>5.781341e+04</td>\n",
       "      <td>5.487386e+09</td>\n",
       "      <td>5.781352e+04</td>\n",
       "      <td>5802.018792</td>\n",
       "      <td>1492.522308</td>\n",
       "      <td>1.447648e+12</td>\n",
       "      <td>2.895700e+06</td>\n",
       "      <td>34.957178</td>\n",
       "      <td>1.442383e+12</td>\n",
       "      <td>2.328044</td>\n",
       "      <td>34.700767</td>\n",
       "    </tr>\n",
       "    <tr>\n",
       "      <th>std</th>\n",
       "      <td>9.089555e+06</td>\n",
       "      <td>2.587140e+09</td>\n",
       "      <td>9.089555e+06</td>\n",
       "      <td>2657.056302</td>\n",
       "      <td>1954.905741</td>\n",
       "      <td>3.251040e+09</td>\n",
       "      <td>1.919771e+06</td>\n",
       "      <td>421.091981</td>\n",
       "      <td>2.122683e+09</td>\n",
       "      <td>33.839328</td>\n",
       "      <td>420.811703</td>\n",
       "    </tr>\n",
       "    <tr>\n",
       "      <th>min</th>\n",
       "      <td>8.400000e-01</td>\n",
       "      <td>1.000319e+09</td>\n",
       "      <td>8.400000e-01</td>\n",
       "      <td>1024.000000</td>\n",
       "      <td>120.000000</td>\n",
       "      <td>1.444823e+12</td>\n",
       "      <td>9.440400e+04</td>\n",
       "      <td>1.000000</td>\n",
       "      <td>1.369110e+12</td>\n",
       "      <td>0.000000</td>\n",
       "      <td>1.000000</td>\n",
       "    </tr>\n",
       "    <tr>\n",
       "      <th>25%</th>\n",
       "      <td>9.000000e+01</td>\n",
       "      <td>3.184875e+09</td>\n",
       "      <td>9.000000e+01</td>\n",
       "      <td>3590.000000</td>\n",
       "      <td>449.000000</td>\n",
       "      <td>1.446313e+12</td>\n",
       "      <td>1.925518e+06</td>\n",
       "      <td>1.000000</td>\n",
       "      <td>1.441144e+12</td>\n",
       "      <td>0.000000</td>\n",
       "      <td>1.000000</td>\n",
       "    </tr>\n",
       "    <tr>\n",
       "      <th>50%</th>\n",
       "      <td>2.500000e+02</td>\n",
       "      <td>5.512496e+09</td>\n",
       "      <td>2.500000e+02</td>\n",
       "      <td>6158.000000</td>\n",
       "      <td>850.000000</td>\n",
       "      <td>1.447643e+12</td>\n",
       "      <td>3.051112e+06</td>\n",
       "      <td>1.000000</td>\n",
       "      <td>1.442524e+12</td>\n",
       "      <td>0.000000</td>\n",
       "      <td>1.000000</td>\n",
       "    </tr>\n",
       "    <tr>\n",
       "      <th>75%</th>\n",
       "      <td>8.000000e+02</td>\n",
       "      <td>7.704930e+09</td>\n",
       "      <td>8.000000e+02</td>\n",
       "      <td>8216.000000</td>\n",
       "      <td>1500.000000</td>\n",
       "      <td>1.448930e+12</td>\n",
       "      <td>4.073615e+06</td>\n",
       "      <td>2.000000</td>\n",
       "      <td>1.443800e+12</td>\n",
       "      <td>0.000000</td>\n",
       "      <td>2.000000</td>\n",
       "    </tr>\n",
       "    <tr>\n",
       "      <th>max</th>\n",
       "      <td>2.222222e+09</td>\n",
       "      <td>9.999853e+09</td>\n",
       "      <td>2.222222e+09</td>\n",
       "      <td>9996.000000</td>\n",
       "      <td>12248.000000</td>\n",
       "      <td>1.730732e+12</td>\n",
       "      <td>5.126117e+06</td>\n",
       "      <td>9999.000000</td>\n",
       "      <td>1.444900e+12</td>\n",
       "      <td>6065.000000</td>\n",
       "      <td>9999.000000</td>\n",
       "    </tr>\n",
       "  </tbody>\n",
       "</table>\n",
       "</div>"
      ],
      "text/plain": [
       "         base_price     seller_id         price  official_store_id  \\\n",
       "count  9.000000e+04  9.000000e+04  9.000000e+04         745.000000   \n",
       "mean   5.781341e+04  5.487386e+09  5.781352e+04        5802.018792   \n",
       "std    9.089555e+06  2.587140e+09  9.089555e+06        2657.056302   \n",
       "min    8.400000e-01  1.000319e+09  8.400000e-01        1024.000000   \n",
       "25%    9.000000e+01  3.184875e+09  9.000000e+01        3590.000000   \n",
       "50%    2.500000e+02  5.512496e+09  2.500000e+02        6158.000000   \n",
       "75%    8.000000e+02  7.704930e+09  8.000000e+02        8216.000000   \n",
       "max    2.222222e+09  9.999853e+09  2.222222e+09        9996.000000   \n",
       "\n",
       "       original_price     stop_time  catalog_product_id  initial_quantity  \\\n",
       "count      130.000000  9.000000e+04        7.000000e+00      90000.000000   \n",
       "mean      1492.522308  1.447648e+12        2.895700e+06         34.957178   \n",
       "std       1954.905741  3.251040e+09        1.919771e+06        421.091981   \n",
       "min        120.000000  1.444823e+12        9.440400e+04          1.000000   \n",
       "25%        449.000000  1.446313e+12        1.925518e+06          1.000000   \n",
       "50%        850.000000  1.447643e+12        3.051112e+06          1.000000   \n",
       "75%       1500.000000  1.448930e+12        4.073615e+06          2.000000   \n",
       "max      12248.000000  1.730732e+12        5.126117e+06       9999.000000   \n",
       "\n",
       "         start_time  sold_quantity  available_quantity  \n",
       "count  9.000000e+04   90000.000000        90000.000000  \n",
       "mean   1.442383e+12       2.328044           34.700767  \n",
       "std    2.122683e+09      33.839328          420.811703  \n",
       "min    1.369110e+12       0.000000            1.000000  \n",
       "25%    1.441144e+12       0.000000            1.000000  \n",
       "50%    1.442524e+12       0.000000            1.000000  \n",
       "75%    1.443800e+12       0.000000            2.000000  \n",
       "max    1.444900e+12    6065.000000         9999.000000  "
      ]
     },
     "execution_count": 6,
     "metadata": {},
     "output_type": "execute_result"
    }
   ],
   "source": [
    "# Descriptive statistics for numeric features\n",
    "X_train_df.describe(include='number')"
   ]
  },
  {
   "cell_type": "markdown",
   "id": "889aeabc",
   "metadata": {},
   "source": [
    "**Observations:**"
   ]
  },
  {
   "cell_type": "code",
   "execution_count": null,
   "id": "7a2c8612",
   "metadata": {},
   "outputs": [
    {
     "data": {
      "text/html": [
       "<div>\n",
       "<style scoped>\n",
       "    .dataframe tbody tr th:only-of-type {\n",
       "        vertical-align: middle;\n",
       "    }\n",
       "\n",
       "    .dataframe tbody tr th {\n",
       "        vertical-align: top;\n",
       "    }\n",
       "\n",
       "    .dataframe thead th {\n",
       "        text-align: right;\n",
       "    }\n",
       "</style>\n",
       "<table border=\"1\" class=\"dataframe\">\n",
       "  <thead>\n",
       "    <tr style=\"text-align: right;\">\n",
       "      <th></th>\n",
       "      <th>seller_address</th>\n",
       "      <th>warranty</th>\n",
       "      <th>sub_status</th>\n",
       "      <th>condition</th>\n",
       "      <th>deal_ids</th>\n",
       "      <th>shipping</th>\n",
       "      <th>non_mercado_pago_payment_methods</th>\n",
       "      <th>variations</th>\n",
       "      <th>site_id</th>\n",
       "      <th>listing_type_id</th>\n",
       "      <th>attributes</th>\n",
       "      <th>buying_mode</th>\n",
       "      <th>tags</th>\n",
       "      <th>listing_source</th>\n",
       "      <th>parent_item_id</th>\n",
       "      <th>...</th>\n",
       "      <th>descriptions</th>\n",
       "      <th>last_updated</th>\n",
       "      <th>international_delivery_mode</th>\n",
       "      <th>pictures</th>\n",
       "      <th>id</th>\n",
       "      <th>differential_pricing</th>\n",
       "      <th>currency_id</th>\n",
       "      <th>thumbnail</th>\n",
       "      <th>title</th>\n",
       "      <th>date_created</th>\n",
       "      <th>secure_thumbnail</th>\n",
       "      <th>status</th>\n",
       "      <th>video_id</th>\n",
       "      <th>subtitle</th>\n",
       "      <th>permalink</th>\n",
       "    </tr>\n",
       "  </thead>\n",
       "  <tbody>\n",
       "    <tr>\n",
       "      <th>count</th>\n",
       "      <td>18000</td>\n",
       "      <td>7023</td>\n",
       "      <td>18000</td>\n",
       "      <td>18000</td>\n",
       "      <td>18000</td>\n",
       "      <td>18000</td>\n",
       "      <td>18000</td>\n",
       "      <td>18000</td>\n",
       "      <td>18000</td>\n",
       "      <td>18000</td>\n",
       "      <td>18000</td>\n",
       "      <td>18000</td>\n",
       "      <td>18000</td>\n",
       "      <td>18000</td>\n",
       "      <td>13926</td>\n",
       "      <td>...</td>\n",
       "      <td>18000</td>\n",
       "      <td>18000</td>\n",
       "      <td>18000</td>\n",
       "      <td>18000</td>\n",
       "      <td>18000</td>\n",
       "      <td>0</td>\n",
       "      <td>18000</td>\n",
       "      <td>18000</td>\n",
       "      <td>18000</td>\n",
       "      <td>18000</td>\n",
       "      <td>18000</td>\n",
       "      <td>18000</td>\n",
       "      <td>551</td>\n",
       "      <td>0</td>\n",
       "      <td>18000</td>\n",
       "    </tr>\n",
       "    <tr>\n",
       "      <th>unique</th>\n",
       "      <td>1746</td>\n",
       "      <td>2817</td>\n",
       "      <td>4</td>\n",
       "      <td>2</td>\n",
       "      <td>8</td>\n",
       "      <td>19</td>\n",
       "      <td>89</td>\n",
       "      <td>1458</td>\n",
       "      <td>1</td>\n",
       "      <td>7</td>\n",
       "      <td>668</td>\n",
       "      <td>3</td>\n",
       "      <td>6</td>\n",
       "      <td>1</td>\n",
       "      <td>13926</td>\n",
       "      <td>...</td>\n",
       "      <td>17504</td>\n",
       "      <td>17817</td>\n",
       "      <td>1</td>\n",
       "      <td>17860</td>\n",
       "      <td>18000</td>\n",
       "      <td>0</td>\n",
       "      <td>2</td>\n",
       "      <td>17854</td>\n",
       "      <td>17925</td>\n",
       "      <td>17494</td>\n",
       "      <td>17854</td>\n",
       "      <td>3</td>\n",
       "      <td>438</td>\n",
       "      <td>0</td>\n",
       "      <td>18000</td>\n",
       "    </tr>\n",
       "    <tr>\n",
       "      <th>top</th>\n",
       "      <td>{'country': {'name': 'Argentina', 'id': 'AR'},...</td>\n",
       "      <td>Sí</td>\n",
       "      <td>[]</td>\n",
       "      <td>new</td>\n",
       "      <td>[]</td>\n",
       "      <td>{'local_pick_up': True, 'methods': [], 'tags':...</td>\n",
       "      <td>[]</td>\n",
       "      <td>[]</td>\n",
       "      <td>MLA</td>\n",
       "      <td>bronze</td>\n",
       "      <td>[]</td>\n",
       "      <td>buy_it_now</td>\n",
       "      <td>[dragged_bids_and_visits]</td>\n",
       "      <td></td>\n",
       "      <td>MLA3336455118</td>\n",
       "      <td>...</td>\n",
       "      <td>[]</td>\n",
       "      <td>2015-10-06T15:53:00.000Z</td>\n",
       "      <td>none</td>\n",
       "      <td>[]</td>\n",
       "      <td>MLA4304326838</td>\n",
       "      <td>NaN</td>\n",
       "      <td>ARS</td>\n",
       "      <td></td>\n",
       "      <td>50 Suspensores Para Short De Baño Tela Calada</td>\n",
       "      <td>2015-09-17T05:04:22.000Z</td>\n",
       "      <td></td>\n",
       "      <td>active</td>\n",
       "      <td>QQNfOicE_o8</td>\n",
       "      <td>NaN</td>\n",
       "      <td>http://articulo.mercadolibre.com.ar/MLA4304326...</td>\n",
       "    </tr>\n",
       "    <tr>\n",
       "      <th>freq</th>\n",
       "      <td>683</td>\n",
       "      <td>1017</td>\n",
       "      <td>17836</td>\n",
       "      <td>9699</td>\n",
       "      <td>17972</td>\n",
       "      <td>7529</td>\n",
       "      <td>5409</td>\n",
       "      <td>16543</td>\n",
       "      <td>18000</td>\n",
       "      <td>11435</td>\n",
       "      <td>15797</td>\n",
       "      <td>17476</td>\n",
       "      <td>13166</td>\n",
       "      <td>18000</td>\n",
       "      <td>1</td>\n",
       "      <td>...</td>\n",
       "      <td>497</td>\n",
       "      <td>3</td>\n",
       "      <td>18000</td>\n",
       "      <td>141</td>\n",
       "      <td>1</td>\n",
       "      <td>NaN</td>\n",
       "      <td>17904</td>\n",
       "      <td>141</td>\n",
       "      <td>15</td>\n",
       "      <td>4</td>\n",
       "      <td>141</td>\n",
       "      <td>17203</td>\n",
       "      <td>51</td>\n",
       "      <td>NaN</td>\n",
       "      <td>1</td>\n",
       "    </tr>\n",
       "  </tbody>\n",
       "</table>\n",
       "<p>4 rows × 32 columns</p>\n",
       "</div>"
      ],
      "text/plain": [
       "                                           seller_address warranty sub_status  \\\n",
       "count                                               18000     7023      18000   \n",
       "unique                                               1746     2817          4   \n",
       "top     {'country': {'name': 'Argentina', 'id': 'AR'},...       Sí         []   \n",
       "freq                                                  683     1017      17836   \n",
       "\n",
       "       condition deal_ids                                           shipping  \\\n",
       "count      18000    18000                                              18000   \n",
       "unique         2        8                                                 19   \n",
       "top          new       []  {'local_pick_up': True, 'methods': [], 'tags':...   \n",
       "freq        9699    17972                                               7529   \n",
       "\n",
       "       non_mercado_pago_payment_methods variations site_id listing_type_id  \\\n",
       "count                             18000      18000   18000           18000   \n",
       "unique                               89       1458       1               7   \n",
       "top                                  []         []     MLA          bronze   \n",
       "freq                               5409      16543   18000           11435   \n",
       "\n",
       "       attributes buying_mode                       tags listing_source  \\\n",
       "count       18000       18000                      18000          18000   \n",
       "unique        668           3                          6              1   \n",
       "top            []  buy_it_now  [dragged_bids_and_visits]                  \n",
       "freq        15797       17476                      13166          18000   \n",
       "\n",
       "       parent_item_id  ... descriptions              last_updated  \\\n",
       "count           13926  ...        18000                     18000   \n",
       "unique          13926  ...        17504                     17817   \n",
       "top     MLA3336455118  ...           []  2015-10-06T15:53:00.000Z   \n",
       "freq                1  ...          497                         3   \n",
       "\n",
       "       international_delivery_mode pictures             id  \\\n",
       "count                        18000    18000          18000   \n",
       "unique                           1    17860          18000   \n",
       "top                           none       []  MLA4304326838   \n",
       "freq                         18000      141              1   \n",
       "\n",
       "       differential_pricing currency_id thumbnail  \\\n",
       "count                     0       18000     18000   \n",
       "unique                    0           2     17854   \n",
       "top                     NaN         ARS             \n",
       "freq                    NaN       17904       141   \n",
       "\n",
       "                                                title  \\\n",
       "count                                           18000   \n",
       "unique                                          17925   \n",
       "top     50 Suspensores Para Short De Baño Tela Calada   \n",
       "freq                                               15   \n",
       "\n",
       "                    date_created secure_thumbnail  status     video_id  \\\n",
       "count                      18000            18000   18000          551   \n",
       "unique                     17494            17854       3          438   \n",
       "top     2015-09-17T05:04:22.000Z                   active  QQNfOicE_o8   \n",
       "freq                           4              141   17203           51   \n",
       "\n",
       "       subtitle                                          permalink  \n",
       "count         0                                              18000  \n",
       "unique        0                                              18000  \n",
       "top         NaN  http://articulo.mercadolibre.com.ar/MLA4304326...  \n",
       "freq        NaN                                                  1  \n",
       "\n",
       "[4 rows x 32 columns]"
      ]
     },
     "execution_count": 32,
     "metadata": {},
     "output_type": "execute_result"
    }
   ],
   "source": [
    "# Descriptive statistics for string features\n",
    "# Due to the large number of columns and rows, we will sample a subset of the data\n",
    "X_train_df.sample(int(len(X_train_df)*0.2)).describe(include='object') # pd.describe() for 'objects' is a time consuming process"
   ]
  },
  {
   "cell_type": "markdown",
   "id": "c8e9edcf",
   "metadata": {},
   "source": [
    "**Observations:**\n",
    "\n",
    "* **Price Discrepancy & Outliers**: The `base_price` and `price` columns show extreme outliers and a heavily right-skewed distribution, where the majority of products are inexpensive, but a few are exceptionally high-priced.\n",
    "* **Seller Diversity**: The dataset covers a wide range of sellers.\n",
    "* **Lack of Official Store & Catalog Data**: Most products are not from official stores nor linked to specific catalog product IDs, indicating a diverse marketplace with many independent sellers and general listings.\n",
    "* **Sparse Discount Information**: `original_price` is rarely recorded, suggesting that discounts aren't a primary feature in the majority of these listings.\n",
    "* **Inventory & Sales Distribution**: While most listings have low initial and available quantities and sell few items, there are some high-volume listings that significantly impact the average `initial_quantity`, `sold_quantity`, and `available_quantity`. This suggests a \"power law\" distribution typical of sales data, where a small percentage of listings account for a large percentage of sales."
   ]
  },
  {
   "cell_type": "code",
   "execution_count": 20,
   "id": "fdd598fb",
   "metadata": {},
   "outputs": [
    {
     "data": {
      "text/plain": [
       "array(['active', 'paused', 'closed', 'not_yet_active'], dtype=object)"
      ]
     },
     "execution_count": 20,
     "metadata": {},
     "output_type": "execute_result"
    }
   ],
   "source": [
    "X_train_df['status'].unique()"
   ]
  },
  {
   "cell_type": "code",
   "execution_count": null,
   "id": "4ff42d13",
   "metadata": {},
   "outputs": [
    {
     "data": {
      "text/plain": [
       "count      90000\n",
       "unique         4\n",
       "top       active\n",
       "freq       86116\n",
       "Name: status, dtype: object"
      ]
     },
     "execution_count": 16,
     "metadata": {},
     "output_type": "execute_result"
    }
   ],
   "source": [
    "X_train_df['status'].describe()"
   ]
  },
  {
   "cell_type": "markdown",
   "id": "77105349",
   "metadata": {},
   "source": [
    "#### Unique values"
   ]
  },
  {
   "cell_type": "code",
   "execution_count": null,
   "id": "33e6820c",
   "metadata": {},
   "outputs": [],
   "source": [
    "def create_unique_value_lists(df: pd.DataFrame) -> dict:\n",
    "    \"\"\"\n",
    "    Creates a dictionary of unique values for each column in a DataFrame,\n",
    "    but only if the number of unique values in a column is less than 16.\n",
    "\n",
    "    Args:\n",
    "        df: The input pandas DataFrame.\n",
    "\n",
    "    Returns:\n",
    "        A dictionary where keys are column names and values are lists of\n",
    "        unique values for those columns, subject to the condition.\n",
    "    \"\"\"\n",
    "    unique_values_dict = {}\n",
    "    for column in df.columns:\n",
    "        # Check if the column contains dictionaries or other unhashable types\n",
    "        # and convert them to strings for unique() to work.\n",
    "        # This is a robust way to handle mixed types or potential unhashable objects.\n",
    "        if df[column].apply(lambda x: isinstance(x, (dict, list, set))).any():\n",
    "            unique_vals = df[column].astype(str).unique()\n",
    "        else:\n",
    "            unique_vals = df[column].unique()\n",
    "\n",
    "        if len(unique_vals) < 16:\n",
    "            unique_values_dict[column] = unique_vals.tolist()\n",
    "    return unique_values_dict"
   ]
  },
  {
   "cell_type": "code",
   "execution_count": 44,
   "id": "cd02ee85",
   "metadata": {},
   "outputs": [
    {
     "name": "stdout",
     "output_type": "stream",
     "text": [
      "Unique values (with less than 16 possibilities):\n",
      "Column 'site_id': ['MLA']\n",
      "Column 'listing_source': ['']\n",
      "Column 'coverage_areas': ['[]']\n",
      "Column 'international_delivery_mode': ['none']\n",
      "Column 'differential_pricing': [None]\n",
      "Column 'subtitle': [None]\n",
      "Column 'condition': ['new', 'used']\n",
      "Column 'accepts_mercadopago': [True, False]\n",
      "Column 'currency_id': ['ARS', 'USD']\n",
      "Column 'automatic_relist': [False, True]\n",
      "Column 'buying_mode': ['buy_it_now', 'classified', 'auction']\n",
      "Column 'sub_status': ['[]', \"['suspended']\", \"['expired']\", \"['deleted']\"]\n",
      "Column 'status': ['active', 'paused', 'closed', 'not_yet_active']\n",
      "Column 'listing_type_id': ['bronze', 'silver', 'free', 'gold_special', 'gold', 'gold_premium', 'gold_pro']\n",
      "Column 'tags': [\"['dragged_bids_and_visits']\", '[]', \"['good_quality_thumbnail', 'dragged_bids_and_visits']\", \"['good_quality_thumbnail']\", \"['dragged_visits']\", \"['dragged_visits', 'free_relist']\", \"['poor_quality_thumbnail', 'dragged_bids_and_visits']\", \"['poor_quality_thumbnail']\"]\n",
      "Column 'catalog_product_id': [nan, 800744.0, 5093232.0, 3050291.0, 5126117.0, 94404.0, 3051112.0, 3053998.0]\n"
     ]
    }
   ],
   "source": [
    "# Get unique values for each column with less than 16 unique values\n",
    "filtered_unique_values = create_unique_value_lists(X_train_df)\n",
    "filtered_unique_values = sorted(filtered_unique_values.items(), key=lambda x: len(x[1]), reverse=False)\n",
    "\n",
    "print(\"Unique values (with less than 16 possibilities):\")\n",
    "for col, values in filtered_unique_values:\n",
    "    print(f\"Column '{col}': {values}\")"
   ]
  },
  {
   "cell_type": "markdown",
   "id": "b7bf3d1c",
   "metadata": {},
   "source": [
    "**Observations:**\n",
    "- It looks like `tags` work as a list of strings that specify every tag that applies to that item.\n",
    "- It appears that `site_id` is always 'MLA' or NaN.\n",
    "- Some are binary features: `condition`, `currency_id`, `automatic_relist`\n",
    "- `catalog_product_id` is almost empty (just a few items with data)."
   ]
  },
  {
   "cell_type": "markdown",
   "id": "03bbfd96",
   "metadata": {},
   "source": [
    "### Target variable"
   ]
  },
  {
   "cell_type": "code",
   "execution_count": 18,
   "id": "e928cf8d",
   "metadata": {},
   "outputs": [
    {
     "data": {
      "text/plain": [
       "count     90000\n",
       "unique        2\n",
       "top         new\n",
       "freq      48352\n",
       "dtype: object"
      ]
     },
     "execution_count": 18,
     "metadata": {},
     "output_type": "execute_result"
    }
   ],
   "source": [
    "# Target variable distribution\n",
    "y_train_df.describe()"
   ]
  },
  {
   "cell_type": "code",
   "execution_count": 19,
   "id": "e010d8f0",
   "metadata": {},
   "outputs": [
    {
     "data": {
      "text/plain": [
       "count     90000\n",
       "unique        2\n",
       "top         new\n",
       "freq      48352\n",
       "Name: condition, dtype: object"
      ]
     },
     "execution_count": 19,
     "metadata": {},
     "output_type": "execute_result"
    }
   ],
   "source": [
    "X_train_df['condition'].describe()"
   ]
  },
  {
   "cell_type": "code",
   "execution_count": 51,
   "id": "c8c2bb6c",
   "metadata": {},
   "outputs": [
    {
     "name": "stdout",
     "output_type": "stream",
     "text": [
      "No mismatches detected between 'condition' and target variable.\n"
     ]
    }
   ],
   "source": [
    "detected = False\n",
    "for i, row in enumerate(X_train_df['condition']):\n",
    "    if row == y_train_df.iloc[i]:\n",
    "        pass\n",
    "    else:\n",
    "        print(f\"Mismatch at index {i}:\", row)\n",
    "        detected = True\n",
    "if not detected:\n",
    "    print(\"No mismatches detected between 'condition' and target variable.\")"
   ]
  },
  {
   "cell_type": "markdown",
   "id": "97a6af52",
   "metadata": {},
   "source": [
    "As we verified, the column `condition` is effectively the target value. We will remove it from dataset."
   ]
  },
  {
   "cell_type": "code",
   "execution_count": 55,
   "id": "8f6ff6cc",
   "metadata": {},
   "outputs": [
    {
     "data": {
      "text/plain": [
       "Index(['seller_address', 'warranty', 'sub_status', 'deal_ids', 'base_price',\n",
       "       'shipping', 'non_mercado_pago_payment_methods', 'seller_id',\n",
       "       'variations', 'site_id', 'listing_type_id', 'price', 'attributes',\n",
       "       'buying_mode', 'tags', 'listing_source', 'parent_item_id',\n",
       "       'coverage_areas', 'category_id', 'descriptions', 'last_updated',\n",
       "       'international_delivery_mode', 'pictures', 'id', 'official_store_id',\n",
       "       'differential_pricing', 'accepts_mercadopago', 'original_price',\n",
       "       'currency_id', 'thumbnail', 'title', 'automatic_relist', 'date_created',\n",
       "       'secure_thumbnail', 'stop_time', 'status', 'video_id',\n",
       "       'catalog_product_id', 'subtitle', 'initial_quantity', 'start_time',\n",
       "       'permalink', 'sold_quantity', 'available_quantity'],\n",
       "      dtype='object')"
      ]
     },
     "execution_count": 55,
     "metadata": {},
     "output_type": "execute_result"
    }
   ],
   "source": [
    "X_test_df.columns"
   ]
  },
  {
   "cell_type": "markdown",
   "id": "3b3bc812",
   "metadata": {},
   "source": [
    "Actually, it should've been removed by the `new_or_used.py` script, but it seems that feature was forgotten for the test split.\n",
    "\n",
    "The `build_dataset()` function should be fixed to delete it previously."
   ]
  },
  {
   "cell_type": "code",
   "execution_count": 56,
   "id": "7a338c16",
   "metadata": {},
   "outputs": [],
   "source": [
    "# Remove 'condition' column as it is the target variable\n",
    "del X_train_df['condition']"
   ]
  }
 ],
 "metadata": {
  "kernelspec": {
   "display_name": ".venv",
   "language": "python",
   "name": "python3"
  },
  "language_info": {
   "codemirror_mode": {
    "name": "ipython",
    "version": 3
   },
   "file_extension": ".py",
   "mimetype": "text/x-python",
   "name": "python",
   "nbconvert_exporter": "python",
   "pygments_lexer": "ipython3",
   "version": "3.11.7"
  }
 },
 "nbformat": 4,
 "nbformat_minor": 5
}

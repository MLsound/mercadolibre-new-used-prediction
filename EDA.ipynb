{
 "cells": [
  {
   "cell_type": "code",
   "execution_count": 94,
   "id": "edbabc84",
   "metadata": {},
   "outputs": [],
   "source": [
    "import pandas as pd\n",
    "import numpy as np\n",
    "import matplotlib.pyplot as plt\n",
    "import seaborn as sns\n",
    "from new_or_used import build_dataset"
   ]
  },
  {
   "cell_type": "code",
   "execution_count": 95,
   "id": "a4415153",
   "metadata": {},
   "outputs": [],
   "source": [
    "X_train, y_train, X_test, y_test = build_dataset()"
   ]
  },
  {
   "cell_type": "code",
   "execution_count": 377,
   "id": "ccad51f9",
   "metadata": {},
   "outputs": [],
   "source": [
    "X_train_df = pd.DataFrame(X_train)\n",
    "X_test_df = pd.DataFrame(X_test)\n",
    "y_train_df = pd.Series(y_train)\n",
    "y_test_df = pd.Series(y_test)"
   ]
  },
  {
   "cell_type": "markdown",
   "id": "02fe515b",
   "metadata": {},
   "source": [
    "# EDA"
   ]
  },
  {
   "cell_type": "markdown",
   "id": "7cc1e1a4",
   "metadata": {},
   "source": [
    "# 1. Understanding data structure"
   ]
  },
  {
   "cell_type": "code",
   "execution_count": 4,
   "id": "7fbb61e9",
   "metadata": {},
   "outputs": [
    {
     "name": "stdout",
     "output_type": "stream",
     "text": [
      "Provided dataset has 45 variables and 100000 items\n",
      "It was splitted into 90.0% training and 10.0% test items\n"
     ]
    }
   ],
   "source": [
    "# Dataset size\n",
    "n = len(X_train+X_test)\n",
    "print(f\"Provided dataset has {len(X_train_df.columns)} variables and {n} items\")\n",
    "print(f\"It was splitted into {len(X_train_df)/n*100:.1f}% training and {len(X_test_df)/n*100:.1f}% test items\")"
   ]
  },
  {
   "cell_type": "markdown",
   "id": "d4d2b5e6",
   "metadata": {},
   "source": [
    "## 1.1 Features"
   ]
  },
  {
   "cell_type": "code",
   "execution_count": 5,
   "id": "e084d68a",
   "metadata": {},
   "outputs": [
    {
     "data": {
      "text/plain": [
       "Index(['seller_address', 'warranty', 'sub_status', 'condition', 'deal_ids',\n",
       "       'base_price', 'shipping', 'non_mercado_pago_payment_methods',\n",
       "       'seller_id', 'variations', 'site_id', 'listing_type_id', 'price',\n",
       "       'attributes', 'buying_mode', 'tags', 'listing_source', 'parent_item_id',\n",
       "       'coverage_areas', 'category_id', 'descriptions', 'last_updated',\n",
       "       'international_delivery_mode', 'pictures', 'id', 'official_store_id',\n",
       "       'differential_pricing', 'accepts_mercadopago', 'original_price',\n",
       "       'currency_id', 'thumbnail', 'title', 'automatic_relist', 'date_created',\n",
       "       'secure_thumbnail', 'stop_time', 'status', 'video_id',\n",
       "       'catalog_product_id', 'subtitle', 'initial_quantity', 'start_time',\n",
       "       'permalink', 'sold_quantity', 'available_quantity'],\n",
       "      dtype='object')"
      ]
     },
     "execution_count": 5,
     "metadata": {},
     "output_type": "execute_result"
    }
   ],
   "source": [
    "X_train_df.columns"
   ]
  },
  {
   "cell_type": "code",
   "execution_count": 6,
   "id": "44e64fb7",
   "metadata": {},
   "outputs": [
    {
     "data": {
      "text/html": [
       "<div>\n",
       "<style scoped>\n",
       "    .dataframe tbody tr th:only-of-type {\n",
       "        vertical-align: middle;\n",
       "    }\n",
       "\n",
       "    .dataframe tbody tr th {\n",
       "        vertical-align: top;\n",
       "    }\n",
       "\n",
       "    .dataframe thead th {\n",
       "        text-align: right;\n",
       "    }\n",
       "</style>\n",
       "<table border=\"1\" class=\"dataframe\">\n",
       "  <thead>\n",
       "    <tr style=\"text-align: right;\">\n",
       "      <th></th>\n",
       "      <th>seller_address</th>\n",
       "      <th>warranty</th>\n",
       "      <th>sub_status</th>\n",
       "      <th>condition</th>\n",
       "      <th>deal_ids</th>\n",
       "      <th>base_price</th>\n",
       "      <th>shipping</th>\n",
       "      <th>non_mercado_pago_payment_methods</th>\n",
       "      <th>seller_id</th>\n",
       "      <th>variations</th>\n",
       "      <th>site_id</th>\n",
       "      <th>listing_type_id</th>\n",
       "      <th>price</th>\n",
       "      <th>attributes</th>\n",
       "      <th>buying_mode</th>\n",
       "      <th>...</th>\n",
       "      <th>thumbnail</th>\n",
       "      <th>title</th>\n",
       "      <th>automatic_relist</th>\n",
       "      <th>date_created</th>\n",
       "      <th>secure_thumbnail</th>\n",
       "      <th>stop_time</th>\n",
       "      <th>status</th>\n",
       "      <th>video_id</th>\n",
       "      <th>catalog_product_id</th>\n",
       "      <th>subtitle</th>\n",
       "      <th>initial_quantity</th>\n",
       "      <th>start_time</th>\n",
       "      <th>permalink</th>\n",
       "      <th>sold_quantity</th>\n",
       "      <th>available_quantity</th>\n",
       "    </tr>\n",
       "  </thead>\n",
       "  <tbody>\n",
       "    <tr>\n",
       "      <th>62583</th>\n",
       "      <td>{'country': {'name': 'Argentina', 'id': 'AR'},...</td>\n",
       "      <td>None</td>\n",
       "      <td>[]</td>\n",
       "      <td>new</td>\n",
       "      <td>[]</td>\n",
       "      <td>148.66</td>\n",
       "      <td>{'local_pick_up': True, 'methods': [], 'tags':...</td>\n",
       "      <td>[{'description': 'Tarjeta de crédito', 'id': '...</td>\n",
       "      <td>9035315464</td>\n",
       "      <td>[]</td>\n",
       "      <td>MLA</td>\n",
       "      <td>gold_special</td>\n",
       "      <td>148.66</td>\n",
       "      <td>[]</td>\n",
       "      <td>buy_it_now</td>\n",
       "      <td>...</td>\n",
       "      <td>http://mla-s1-p.mlstatic.com/108701-MLA9141720...</td>\n",
       "      <td>Filtro Cabina Carbon Fram Citroen C3 Aircross ...</td>\n",
       "      <td>True</td>\n",
       "      <td>2015-08-25T03:40:07.000Z</td>\n",
       "      <td>https://a248.e.akamai.net/mla-s1-p.mlstatic.co...</td>\n",
       "      <td>1445658006000</td>\n",
       "      <td>paused</td>\n",
       "      <td>None</td>\n",
       "      <td>NaN</td>\n",
       "      <td>None</td>\n",
       "      <td>360</td>\n",
       "      <td>1440474006000</td>\n",
       "      <td>http://articulo.mercadolibre.com.ar/MLA9141720...</td>\n",
       "      <td>0</td>\n",
       "      <td>360</td>\n",
       "    </tr>\n",
       "    <tr>\n",
       "      <th>38214</th>\n",
       "      <td>{'country': {'name': 'Argentina', 'id': 'AR'},...</td>\n",
       "      <td>None</td>\n",
       "      <td>[]</td>\n",
       "      <td>used</td>\n",
       "      <td>[]</td>\n",
       "      <td>5500.00</td>\n",
       "      <td>{'local_pick_up': True, 'methods': [], 'tags':...</td>\n",
       "      <td>[]</td>\n",
       "      <td>5808950547</td>\n",
       "      <td>[]</td>\n",
       "      <td>MLA</td>\n",
       "      <td>free</td>\n",
       "      <td>5500.00</td>\n",
       "      <td>[]</td>\n",
       "      <td>buy_it_now</td>\n",
       "      <td>...</td>\n",
       "      <td>http://mla-s1-p.mlstatic.com/224701-MLA8286923...</td>\n",
       "      <td>Bicicleta Gt Talle 16 Usa Original</td>\n",
       "      <td>False</td>\n",
       "      <td>2015-08-22T05:02:21.000Z</td>\n",
       "      <td>https://a248.e.akamai.net/mla-s1-p.mlstatic.co...</td>\n",
       "      <td>1445403741000</td>\n",
       "      <td>active</td>\n",
       "      <td>None</td>\n",
       "      <td>NaN</td>\n",
       "      <td>None</td>\n",
       "      <td>1</td>\n",
       "      <td>1440219741000</td>\n",
       "      <td>http://articulo.mercadolibre.com.ar/MLA8286923...</td>\n",
       "      <td>0</td>\n",
       "      <td>1</td>\n",
       "    </tr>\n",
       "    <tr>\n",
       "      <th>81317</th>\n",
       "      <td>{'country': {'name': 'Argentina', 'id': 'AR'},...</td>\n",
       "      <td>6 meses oficial del importador.</td>\n",
       "      <td>[]</td>\n",
       "      <td>new</td>\n",
       "      <td>[]</td>\n",
       "      <td>265.00</td>\n",
       "      <td>{'local_pick_up': True, 'methods': [], 'tags':...</td>\n",
       "      <td>[{'description': 'Transferencia bancaria', 'id...</td>\n",
       "      <td>6547532595</td>\n",
       "      <td>[]</td>\n",
       "      <td>MLA</td>\n",
       "      <td>bronze</td>\n",
       "      <td>265.00</td>\n",
       "      <td>[]</td>\n",
       "      <td>buy_it_now</td>\n",
       "      <td>...</td>\n",
       "      <td>http://mla-s1-p.mlstatic.com/427701-MLA2917430...</td>\n",
       "      <td>Correa Cort Profesional</td>\n",
       "      <td>False</td>\n",
       "      <td>2015-08-21T21:00:01.000Z</td>\n",
       "      <td>https://a248.e.akamai.net/mla-s1-p.mlstatic.co...</td>\n",
       "      <td>1445374801000</td>\n",
       "      <td>active</td>\n",
       "      <td>None</td>\n",
       "      <td>NaN</td>\n",
       "      <td>None</td>\n",
       "      <td>10</td>\n",
       "      <td>1440190801000</td>\n",
       "      <td>http://articulo.mercadolibre.com.ar/MLA2917430...</td>\n",
       "      <td>0</td>\n",
       "      <td>10</td>\n",
       "    </tr>\n",
       "    <tr>\n",
       "      <th>20094</th>\n",
       "      <td>{'country': {'name': 'Argentina', 'id': 'AR'},...</td>\n",
       "      <td>None</td>\n",
       "      <td>[]</td>\n",
       "      <td>new</td>\n",
       "      <td>[]</td>\n",
       "      <td>600.00</td>\n",
       "      <td>{'local_pick_up': True, 'methods': [], 'tags':...</td>\n",
       "      <td>[]</td>\n",
       "      <td>4765805505</td>\n",
       "      <td>[]</td>\n",
       "      <td>MLA</td>\n",
       "      <td>bronze</td>\n",
       "      <td>600.00</td>\n",
       "      <td>[]</td>\n",
       "      <td>buy_it_now</td>\n",
       "      <td>...</td>\n",
       "      <td>http://mla-s2-p.mlstatic.com/19869-MLA84815618...</td>\n",
       "      <td>Toner Konica Minolta Tn 710</td>\n",
       "      <td>False</td>\n",
       "      <td>2015-08-20T19:39:57.000Z</td>\n",
       "      <td>https://a248.e.akamai.net/mla-s2-p.mlstatic.co...</td>\n",
       "      <td>1445283596000</td>\n",
       "      <td>active</td>\n",
       "      <td>None</td>\n",
       "      <td>NaN</td>\n",
       "      <td>None</td>\n",
       "      <td>10</td>\n",
       "      <td>1440099596000</td>\n",
       "      <td>http://articulo.mercadolibre.com.ar/MLA8481561...</td>\n",
       "      <td>0</td>\n",
       "      <td>10</td>\n",
       "    </tr>\n",
       "    <tr>\n",
       "      <th>76062</th>\n",
       "      <td>{'country': {'name': 'Argentina', 'id': 'AR'},...</td>\n",
       "      <td>None</td>\n",
       "      <td>[]</td>\n",
       "      <td>used</td>\n",
       "      <td>[]</td>\n",
       "      <td>350.00</td>\n",
       "      <td>{'local_pick_up': True, 'methods': [], 'tags':...</td>\n",
       "      <td>[]</td>\n",
       "      <td>2730152108</td>\n",
       "      <td>[]</td>\n",
       "      <td>MLA</td>\n",
       "      <td>free</td>\n",
       "      <td>350.00</td>\n",
       "      <td>[]</td>\n",
       "      <td>buy_it_now</td>\n",
       "      <td>...</td>\n",
       "      <td>http://mla-s2-p.mlstatic.com/211001-MLA8213476...</td>\n",
       "      <td>Mesa Tv 90x45x80 Cm</td>\n",
       "      <td>False</td>\n",
       "      <td>2015-10-04T00:06:28.000Z</td>\n",
       "      <td>https://a248.e.akamai.net/mla-s2-p.mlstatic.co...</td>\n",
       "      <td>1449101188000</td>\n",
       "      <td>active</td>\n",
       "      <td>None</td>\n",
       "      <td>NaN</td>\n",
       "      <td>None</td>\n",
       "      <td>1</td>\n",
       "      <td>1443917188000</td>\n",
       "      <td>http://articulo.mercadolibre.com.ar/MLA8213476...</td>\n",
       "      <td>0</td>\n",
       "      <td>1</td>\n",
       "    </tr>\n",
       "  </tbody>\n",
       "</table>\n",
       "<p>5 rows × 45 columns</p>\n",
       "</div>"
      ],
      "text/plain": [
       "                                          seller_address  \\\n",
       "62583  {'country': {'name': 'Argentina', 'id': 'AR'},...   \n",
       "38214  {'country': {'name': 'Argentina', 'id': 'AR'},...   \n",
       "81317  {'country': {'name': 'Argentina', 'id': 'AR'},...   \n",
       "20094  {'country': {'name': 'Argentina', 'id': 'AR'},...   \n",
       "76062  {'country': {'name': 'Argentina', 'id': 'AR'},...   \n",
       "\n",
       "                              warranty sub_status condition deal_ids  \\\n",
       "62583                             None         []       new       []   \n",
       "38214                             None         []      used       []   \n",
       "81317  6 meses oficial del importador.         []       new       []   \n",
       "20094                             None         []       new       []   \n",
       "76062                             None         []      used       []   \n",
       "\n",
       "       base_price                                           shipping  \\\n",
       "62583      148.66  {'local_pick_up': True, 'methods': [], 'tags':...   \n",
       "38214     5500.00  {'local_pick_up': True, 'methods': [], 'tags':...   \n",
       "81317      265.00  {'local_pick_up': True, 'methods': [], 'tags':...   \n",
       "20094      600.00  {'local_pick_up': True, 'methods': [], 'tags':...   \n",
       "76062      350.00  {'local_pick_up': True, 'methods': [], 'tags':...   \n",
       "\n",
       "                        non_mercado_pago_payment_methods   seller_id  \\\n",
       "62583  [{'description': 'Tarjeta de crédito', 'id': '...  9035315464   \n",
       "38214                                                 []  5808950547   \n",
       "81317  [{'description': 'Transferencia bancaria', 'id...  6547532595   \n",
       "20094                                                 []  4765805505   \n",
       "76062                                                 []  2730152108   \n",
       "\n",
       "      variations site_id listing_type_id    price attributes buying_mode  ...  \\\n",
       "62583         []     MLA    gold_special   148.66         []  buy_it_now  ...   \n",
       "38214         []     MLA            free  5500.00         []  buy_it_now  ...   \n",
       "81317         []     MLA          bronze   265.00         []  buy_it_now  ...   \n",
       "20094         []     MLA          bronze   600.00         []  buy_it_now  ...   \n",
       "76062         []     MLA            free   350.00         []  buy_it_now  ...   \n",
       "\n",
       "                                               thumbnail  \\\n",
       "62583  http://mla-s1-p.mlstatic.com/108701-MLA9141720...   \n",
       "38214  http://mla-s1-p.mlstatic.com/224701-MLA8286923...   \n",
       "81317  http://mla-s1-p.mlstatic.com/427701-MLA2917430...   \n",
       "20094  http://mla-s2-p.mlstatic.com/19869-MLA84815618...   \n",
       "76062  http://mla-s2-p.mlstatic.com/211001-MLA8213476...   \n",
       "\n",
       "                                                   title automatic_relist  \\\n",
       "62583  Filtro Cabina Carbon Fram Citroen C3 Aircross ...             True   \n",
       "38214                 Bicicleta Gt Talle 16 Usa Original            False   \n",
       "81317                            Correa Cort Profesional            False   \n",
       "20094                        Toner Konica Minolta Tn 710            False   \n",
       "76062                                Mesa Tv 90x45x80 Cm            False   \n",
       "\n",
       "                   date_created  \\\n",
       "62583  2015-08-25T03:40:07.000Z   \n",
       "38214  2015-08-22T05:02:21.000Z   \n",
       "81317  2015-08-21T21:00:01.000Z   \n",
       "20094  2015-08-20T19:39:57.000Z   \n",
       "76062  2015-10-04T00:06:28.000Z   \n",
       "\n",
       "                                        secure_thumbnail      stop_time  \\\n",
       "62583  https://a248.e.akamai.net/mla-s1-p.mlstatic.co...  1445658006000   \n",
       "38214  https://a248.e.akamai.net/mla-s1-p.mlstatic.co...  1445403741000   \n",
       "81317  https://a248.e.akamai.net/mla-s1-p.mlstatic.co...  1445374801000   \n",
       "20094  https://a248.e.akamai.net/mla-s2-p.mlstatic.co...  1445283596000   \n",
       "76062  https://a248.e.akamai.net/mla-s2-p.mlstatic.co...  1449101188000   \n",
       "\n",
       "       status video_id catalog_product_id subtitle  initial_quantity  \\\n",
       "62583  paused     None                NaN     None               360   \n",
       "38214  active     None                NaN     None                 1   \n",
       "81317  active     None                NaN     None                10   \n",
       "20094  active     None                NaN     None                10   \n",
       "76062  active     None                NaN     None                 1   \n",
       "\n",
       "          start_time                                          permalink  \\\n",
       "62583  1440474006000  http://articulo.mercadolibre.com.ar/MLA9141720...   \n",
       "38214  1440219741000  http://articulo.mercadolibre.com.ar/MLA8286923...   \n",
       "81317  1440190801000  http://articulo.mercadolibre.com.ar/MLA2917430...   \n",
       "20094  1440099596000  http://articulo.mercadolibre.com.ar/MLA8481561...   \n",
       "76062  1443917188000  http://articulo.mercadolibre.com.ar/MLA8213476...   \n",
       "\n",
       "       sold_quantity available_quantity  \n",
       "62583              0                360  \n",
       "38214              0                  1  \n",
       "81317              0                 10  \n",
       "20094              0                 10  \n",
       "76062              0                  1  \n",
       "\n",
       "[5 rows x 45 columns]"
      ]
     },
     "execution_count": 6,
     "metadata": {},
     "output_type": "execute_result"
    }
   ],
   "source": [
    "X_train_df.sample(5)  # Display a sample of the training data"
   ]
  },
  {
   "cell_type": "code",
   "execution_count": 7,
   "id": "cc9aa68f",
   "metadata": {},
   "outputs": [
    {
     "data": {
      "text/html": [
       "<div>\n",
       "<style scoped>\n",
       "    .dataframe tbody tr th:only-of-type {\n",
       "        vertical-align: middle;\n",
       "    }\n",
       "\n",
       "    .dataframe tbody tr th {\n",
       "        vertical-align: top;\n",
       "    }\n",
       "\n",
       "    .dataframe thead th {\n",
       "        text-align: right;\n",
       "    }\n",
       "</style>\n",
       "<table border=\"1\" class=\"dataframe\">\n",
       "  <thead>\n",
       "    <tr style=\"text-align: right;\">\n",
       "      <th></th>\n",
       "      <th>buying_mode</th>\n",
       "      <th>tags</th>\n",
       "      <th>listing_source</th>\n",
       "      <th>parent_item_id</th>\n",
       "      <th>coverage_areas</th>\n",
       "      <th>category_id</th>\n",
       "      <th>descriptions</th>\n",
       "      <th>last_updated</th>\n",
       "      <th>international_delivery_mode</th>\n",
       "      <th>pictures</th>\n",
       "      <th>id</th>\n",
       "      <th>official_store_id</th>\n",
       "      <th>differential_pricing</th>\n",
       "      <th>accepts_mercadopago</th>\n",
       "      <th>original_price</th>\n",
       "      <th>currency_id</th>\n",
       "      <th>thumbnail</th>\n",
       "    </tr>\n",
       "  </thead>\n",
       "  <tbody>\n",
       "    <tr>\n",
       "      <th>8298</th>\n",
       "      <td>buy_it_now</td>\n",
       "      <td>[dragged_bids_and_visits]</td>\n",
       "      <td></td>\n",
       "      <td>MLA2153808611</td>\n",
       "      <td>[]</td>\n",
       "      <td>MLA15206</td>\n",
       "      <td>[{'id': 'MLA5662025207-932592919'}]</td>\n",
       "      <td>2015-09-29T00:21:05.000Z</td>\n",
       "      <td>none</td>\n",
       "      <td>[{'size': '500x422', 'secure_url': 'https://a2...</td>\n",
       "      <td>MLA5662025207</td>\n",
       "      <td>NaN</td>\n",
       "      <td>None</td>\n",
       "      <td>True</td>\n",
       "      <td>NaN</td>\n",
       "      <td>ARS</td>\n",
       "      <td>http://mla-s1-p.mlstatic.com/21335-MLA56620252...</td>\n",
       "    </tr>\n",
       "    <tr>\n",
       "      <th>77469</th>\n",
       "      <td>buy_it_now</td>\n",
       "      <td>[dragged_bids_and_visits]</td>\n",
       "      <td></td>\n",
       "      <td>MLA8447590166</td>\n",
       "      <td>[]</td>\n",
       "      <td>MLA15226</td>\n",
       "      <td>[{'id': 'MLA9118621584-932830818'}]</td>\n",
       "      <td>2015-09-29T10:01:09.000Z</td>\n",
       "      <td>none</td>\n",
       "      <td>[{'size': '448x336', 'secure_url': 'https://a2...</td>\n",
       "      <td>MLA9118621584</td>\n",
       "      <td>NaN</td>\n",
       "      <td>None</td>\n",
       "      <td>True</td>\n",
       "      <td>NaN</td>\n",
       "      <td>ARS</td>\n",
       "      <td>http://mla-s1-p.mlstatic.com/446301-MLA9118621...</td>\n",
       "    </tr>\n",
       "    <tr>\n",
       "      <th>41460</th>\n",
       "      <td>buy_it_now</td>\n",
       "      <td>[]</td>\n",
       "      <td></td>\n",
       "      <td>MLA1235719154</td>\n",
       "      <td>[]</td>\n",
       "      <td>MLA127424</td>\n",
       "      <td>[{'id': 'MLA2422460070-937873845'}]</td>\n",
       "      <td>2015-10-13T18:21:14.000Z</td>\n",
       "      <td>none</td>\n",
       "      <td>[{'size': '500x500', 'secure_url': 'https://a2...</td>\n",
       "      <td>MLA2422460070</td>\n",
       "      <td>NaN</td>\n",
       "      <td>None</td>\n",
       "      <td>True</td>\n",
       "      <td>NaN</td>\n",
       "      <td>ARS</td>\n",
       "      <td>http://mla-s2-p.mlstatic.com/20879-MLA24224600...</td>\n",
       "    </tr>\n",
       "    <tr>\n",
       "      <th>73411</th>\n",
       "      <td>buy_it_now</td>\n",
       "      <td>[dragged_bids_and_visits]</td>\n",
       "      <td></td>\n",
       "      <td>MLA1233756328</td>\n",
       "      <td>[]</td>\n",
       "      <td>MLA5496</td>\n",
       "      <td>[{'id': 'MLA9044407582-936262874'}]</td>\n",
       "      <td>2015-10-03T12:29:31.000Z</td>\n",
       "      <td>none</td>\n",
       "      <td>[{'size': '500x375', 'secure_url': 'https://a2...</td>\n",
       "      <td>MLA9044407582</td>\n",
       "      <td>NaN</td>\n",
       "      <td>None</td>\n",
       "      <td>True</td>\n",
       "      <td>NaN</td>\n",
       "      <td>ARS</td>\n",
       "      <td>http://mla-s2-p.mlstatic.com/15434-MLA90444075...</td>\n",
       "    </tr>\n",
       "    <tr>\n",
       "      <th>9169</th>\n",
       "      <td>buy_it_now</td>\n",
       "      <td>[dragged_bids_and_visits]</td>\n",
       "      <td></td>\n",
       "      <td>MLA7536257824</td>\n",
       "      <td>[]</td>\n",
       "      <td>MLA1227</td>\n",
       "      <td>[{'id': 'MLA5801131884-906513515'}]</td>\n",
       "      <td>2015-08-29T01:54:59.000Z</td>\n",
       "      <td>none</td>\n",
       "      <td>[{'size': '375x500', 'secure_url': 'https://a2...</td>\n",
       "      <td>MLA5801131884</td>\n",
       "      <td>NaN</td>\n",
       "      <td>None</td>\n",
       "      <td>True</td>\n",
       "      <td>NaN</td>\n",
       "      <td>ARS</td>\n",
       "      <td>http://mla-s1-p.mlstatic.com/708401-MLA5801131...</td>\n",
       "    </tr>\n",
       "  </tbody>\n",
       "</table>\n",
       "</div>"
      ],
      "text/plain": [
       "      buying_mode                       tags listing_source parent_item_id  \\\n",
       "8298   buy_it_now  [dragged_bids_and_visits]                 MLA2153808611   \n",
       "77469  buy_it_now  [dragged_bids_and_visits]                 MLA8447590166   \n",
       "41460  buy_it_now                         []                 MLA1235719154   \n",
       "73411  buy_it_now  [dragged_bids_and_visits]                 MLA1233756328   \n",
       "9169   buy_it_now  [dragged_bids_and_visits]                 MLA7536257824   \n",
       "\n",
       "      coverage_areas category_id                         descriptions  \\\n",
       "8298              []    MLA15206  [{'id': 'MLA5662025207-932592919'}]   \n",
       "77469             []    MLA15226  [{'id': 'MLA9118621584-932830818'}]   \n",
       "41460             []   MLA127424  [{'id': 'MLA2422460070-937873845'}]   \n",
       "73411             []     MLA5496  [{'id': 'MLA9044407582-936262874'}]   \n",
       "9169              []     MLA1227  [{'id': 'MLA5801131884-906513515'}]   \n",
       "\n",
       "                   last_updated international_delivery_mode  \\\n",
       "8298   2015-09-29T00:21:05.000Z                        none   \n",
       "77469  2015-09-29T10:01:09.000Z                        none   \n",
       "41460  2015-10-13T18:21:14.000Z                        none   \n",
       "73411  2015-10-03T12:29:31.000Z                        none   \n",
       "9169   2015-08-29T01:54:59.000Z                        none   \n",
       "\n",
       "                                                pictures             id  \\\n",
       "8298   [{'size': '500x422', 'secure_url': 'https://a2...  MLA5662025207   \n",
       "77469  [{'size': '448x336', 'secure_url': 'https://a2...  MLA9118621584   \n",
       "41460  [{'size': '500x500', 'secure_url': 'https://a2...  MLA2422460070   \n",
       "73411  [{'size': '500x375', 'secure_url': 'https://a2...  MLA9044407582   \n",
       "9169   [{'size': '375x500', 'secure_url': 'https://a2...  MLA5801131884   \n",
       "\n",
       "       official_store_id differential_pricing  accepts_mercadopago  \\\n",
       "8298                 NaN                 None                 True   \n",
       "77469                NaN                 None                 True   \n",
       "41460                NaN                 None                 True   \n",
       "73411                NaN                 None                 True   \n",
       "9169                 NaN                 None                 True   \n",
       "\n",
       "       original_price currency_id  \\\n",
       "8298              NaN         ARS   \n",
       "77469             NaN         ARS   \n",
       "41460             NaN         ARS   \n",
       "73411             NaN         ARS   \n",
       "9169              NaN         ARS   \n",
       "\n",
       "                                               thumbnail  \n",
       "8298   http://mla-s1-p.mlstatic.com/21335-MLA56620252...  \n",
       "77469  http://mla-s1-p.mlstatic.com/446301-MLA9118621...  \n",
       "41460  http://mla-s2-p.mlstatic.com/20879-MLA24224600...  \n",
       "73411  http://mla-s2-p.mlstatic.com/15434-MLA90444075...  \n",
       "9169   http://mla-s1-p.mlstatic.com/708401-MLA5801131...  "
      ]
     },
     "execution_count": 7,
     "metadata": {},
     "output_type": "execute_result"
    }
   ],
   "source": [
    "# There are too many columns to display all at once, so we will show a subset\n",
    "X_train_df[['buying_mode', 'tags', 'listing_source', 'parent_item_id',\n",
    "       'coverage_areas', 'category_id', 'descriptions', 'last_updated',\n",
    "       'international_delivery_mode', 'pictures', 'id', 'official_store_id',\n",
    "       'differential_pricing', 'accepts_mercadopago', 'original_price',\n",
    "       'currency_id', 'thumbnail']].sample(5)"
   ]
  },
  {
   "cell_type": "markdown",
   "id": "57627c3a",
   "metadata": {},
   "source": [
    "Probably, `condition` feature should be deleted because it's the actual target. This hypotesis have to be checked first."
   ]
  },
  {
   "cell_type": "markdown",
   "id": "2cd6ad5d",
   "metadata": {},
   "source": [
    "`international_delivery_mode` has a wrong 'none' value so it needs to be corrected."
   ]
  },
  {
   "cell_type": "code",
   "execution_count": 8,
   "id": "138433e7",
   "metadata": {},
   "outputs": [
    {
     "name": "stdout",
     "output_type": "stream",
     "text": [
      "<class 'pandas.core.frame.DataFrame'>\n",
      "RangeIndex: 90000 entries, 0 to 89999\n",
      "Data columns (total 45 columns):\n",
      " #   Column                            Non-Null Count  Dtype  \n",
      "---  ------                            --------------  -----  \n",
      " 0   seller_address                    90000 non-null  object \n",
      " 1   warranty                          35243 non-null  object \n",
      " 2   sub_status                        90000 non-null  object \n",
      " 3   condition                         90000 non-null  object \n",
      " 4   deal_ids                          90000 non-null  object \n",
      " 5   base_price                        90000 non-null  float64\n",
      " 6   shipping                          90000 non-null  object \n",
      " 7   non_mercado_pago_payment_methods  90000 non-null  object \n",
      " 8   seller_id                         90000 non-null  int64  \n",
      " 9   variations                        90000 non-null  object \n",
      " 10  site_id                           90000 non-null  object \n",
      " 11  listing_type_id                   90000 non-null  object \n",
      " 12  price                             90000 non-null  float64\n",
      " 13  attributes                        90000 non-null  object \n",
      " 14  buying_mode                       90000 non-null  object \n",
      " 15  tags                              90000 non-null  object \n",
      " 16  listing_source                    90000 non-null  object \n",
      " 17  parent_item_id                    69310 non-null  object \n",
      " 18  coverage_areas                    90000 non-null  object \n",
      " 19  category_id                       90000 non-null  object \n",
      " 20  descriptions                      90000 non-null  object \n",
      " 21  last_updated                      90000 non-null  object \n",
      " 22  international_delivery_mode       90000 non-null  object \n",
      " 23  pictures                          90000 non-null  object \n",
      " 24  id                                90000 non-null  object \n",
      " 25  official_store_id                 745 non-null    float64\n",
      " 26  differential_pricing              0 non-null      object \n",
      " 27  accepts_mercadopago               90000 non-null  bool   \n",
      " 28  original_price                    130 non-null    float64\n",
      " 29  currency_id                       90000 non-null  object \n",
      " 30  thumbnail                         90000 non-null  object \n",
      " 31  title                             90000 non-null  object \n",
      " 32  automatic_relist                  90000 non-null  bool   \n",
      " 33  date_created                      90000 non-null  object \n",
      " 34  secure_thumbnail                  90000 non-null  object \n",
      " 35  stop_time                         90000 non-null  int64  \n",
      " 36  status                            90000 non-null  object \n",
      " 37  video_id                          2676 non-null   object \n",
      " 38  catalog_product_id                7 non-null      float64\n",
      " 39  subtitle                          0 non-null      object \n",
      " 40  initial_quantity                  90000 non-null  int64  \n",
      " 41  start_time                        90000 non-null  int64  \n",
      " 42  permalink                         90000 non-null  object \n",
      " 43  sold_quantity                     90000 non-null  int64  \n",
      " 44  available_quantity                90000 non-null  int64  \n",
      "dtypes: bool(2), float64(5), int64(6), object(32)\n",
      "memory usage: 29.7+ MB\n"
     ]
    }
   ],
   "source": [
    "X_train_df.info()"
   ]
  },
  {
   "cell_type": "markdown",
   "id": "740f89fc",
   "metadata": {},
   "source": [
    "Dataset is formed by:\n",
    "- **IDs:** `id`,`parent_item_id`, `official_store_id`, `category_id`, `site_id`, `video_id`, `catalog_product_id`, `deal_ids`, `seller_id`, `descriptions`\n",
    "- **Price-related variables:** `price`, `original_price`, `base_price`\n",
    "- **Transaction-related variables:**  `currency_id`, `accepts_mercadopago`, `warranty`\n",
    "- **Quantity-related variables:** `initial_quantity`, `sold_quantity`, `available_quantity`\n",
    "- **Post-related variables:** `title`, `thumbnail`, `pictures`, `permalink`, `secure_thumbnail`, `status`, `sub_status`, `buying_mode`, `condition`, `automatic_relist`\n",
    "- **Time-related variables:** `start_time`, `stop_time`, `date_created`, `last_updated`\n",
    "- **Seller-related variables:** `seller_address`, `listing_type_id`\n",
    "- **Tags:** `tags`, `variations`, `shipping`, `attributes`, `non_mercado_pago_payment_methods`"
   ]
  },
  {
   "cell_type": "markdown",
   "id": "af0ff709",
   "metadata": {},
   "source": [
    "As common practice, ID variables will be ignored during feature selection. Also, time-related variables won't be used."
   ]
  },
  {
   "cell_type": "code",
   "execution_count": 9,
   "id": "12f57241",
   "metadata": {},
   "outputs": [
    {
     "data": {
      "text/plain": [
       "count             90000\n",
       "unique            90000\n",
       "top       MLA4695330653\n",
       "freq                  1\n",
       "Name: id, dtype: object"
      ]
     },
     "execution_count": 9,
     "metadata": {},
     "output_type": "execute_result"
    }
   ],
   "source": [
    "X_train_df['id'].describe()"
   ]
  },
  {
   "cell_type": "code",
   "execution_count": 10,
   "id": "5e8ebe4e",
   "metadata": {},
   "outputs": [
    {
     "data": {
      "text/plain": [
       "count             69310\n",
       "unique            69310\n",
       "top       MLA6553902747\n",
       "freq                  1\n",
       "Name: parent_item_id, dtype: object"
      ]
     },
     "execution_count": 10,
     "metadata": {},
     "output_type": "execute_result"
    }
   ],
   "source": [
    "X_train_df['parent_item_id'].describe()"
   ]
  },
  {
   "cell_type": "markdown",
   "id": "39d20fd9",
   "metadata": {},
   "source": [
    "Probably, `parent_item_id` is pointing to item's `id`, because they follow the same code structure *'MLA' + identifier* (int, 10)"
   ]
  },
  {
   "cell_type": "markdown",
   "id": "5d2df4bd",
   "metadata": {},
   "source": [
    "### Identifying Missing Values"
   ]
  },
  {
   "cell_type": "markdown",
   "id": "2067ebe1",
   "metadata": {},
   "source": [
    "For some variables, we have missing values."
   ]
  },
  {
   "cell_type": "markdown",
   "id": "8f1ac9af",
   "metadata": {},
   "source": [
    "**Some nulls:**\n",
    "1. `parent_item_id` (23.0%)\n",
    "1. `warranty` (60.8%)\n",
    "\n",
    "**Almost empty:**\n",
    "1. `video_id` (97.0%)\n",
    "1. `official_store_id` (99.2%)\n",
    "1. `original_price` (99.9%)\n",
    "1. `catalog_product_id` (~100%)\n",
    "\n",
    "**No data:**\n",
    "1. `differential_pricing`\n",
    "1. `subtitle`"
   ]
  },
  {
   "cell_type": "markdown",
   "id": "572d891f",
   "metadata": {},
   "source": [
    "At a first glance, it looks like many features are null but have some content '[]', so they'll not be displayed as null by `.info()`."
   ]
  },
  {
   "cell_type": "code",
   "execution_count": 11,
   "id": "373498bf",
   "metadata": {},
   "outputs": [
    {
     "data": {
      "text/plain": [
       "count     90000\n",
       "unique        4\n",
       "top          []\n",
       "freq      89109\n",
       "Name: sub_status, dtype: object"
      ]
     },
     "execution_count": 11,
     "metadata": {},
     "output_type": "execute_result"
    }
   ],
   "source": [
    "X_train_df['sub_status'].describe()"
   ]
  },
  {
   "cell_type": "code",
   "execution_count": 12,
   "id": "91bb26f3",
   "metadata": {},
   "outputs": [
    {
     "data": {
      "text/plain": [
       "sub_status\n",
       "[]             89109\n",
       "[suspended]      871\n",
       "[expired]         13\n",
       "[deleted]          7\n",
       "Name: count, dtype: int64"
      ]
     },
     "execution_count": 12,
     "metadata": {},
     "output_type": "execute_result"
    }
   ],
   "source": [
    "# Showing options for 'sub_status'\n",
    "X_train_df['sub_status'].value_counts()"
   ]
  },
  {
   "cell_type": "markdown",
   "id": "c675c931",
   "metadata": {},
   "source": [
    "We can see that `sub_status` marks a few cases as suspended, expired, or deleted. These items should be removed from the dataset."
   ]
  },
  {
   "cell_type": "code",
   "execution_count": 13,
   "id": "fae0f118",
   "metadata": {},
   "outputs": [
    {
     "data": {
      "text/plain": [
       "count     90000\n",
       "unique       31\n",
       "top          []\n",
       "freq      89783\n",
       "Name: deal_ids, dtype: object"
      ]
     },
     "execution_count": 13,
     "metadata": {},
     "output_type": "execute_result"
    }
   ],
   "source": [
    "X_train_df['deal_ids'].describe()"
   ]
  },
  {
   "cell_type": "code",
   "execution_count": 14,
   "id": "69526a0b",
   "metadata": {},
   "outputs": [
    {
     "data": {
      "text/plain": [
       "count     90000\n",
       "unique     7375\n",
       "top          []\n",
       "freq      82626\n",
       "Name: variations, dtype: object"
      ]
     },
     "execution_count": 14,
     "metadata": {},
     "output_type": "execute_result"
    }
   ],
   "source": [
    "X_train_df['variations'].describe()"
   ]
  },
  {
   "cell_type": "code",
   "execution_count": 15,
   "id": "109a8477",
   "metadata": {},
   "outputs": [
    {
     "data": {
      "text/plain": [
       "count     90000\n",
       "unique     3118\n",
       "top          []\n",
       "freq      78850\n",
       "Name: attributes, dtype: object"
      ]
     },
     "execution_count": 15,
     "metadata": {},
     "output_type": "execute_result"
    }
   ],
   "source": [
    "X_train_df['attributes'].describe()"
   ]
  },
  {
   "cell_type": "code",
   "execution_count": 16,
   "id": "38c32e05",
   "metadata": {},
   "outputs": [
    {
     "data": {
      "text/plain": [
       "count                         90000\n",
       "unique                            8\n",
       "top       [dragged_bids_and_visits]\n",
       "freq                          65315\n",
       "Name: tags, dtype: object"
      ]
     },
     "execution_count": 16,
     "metadata": {},
     "output_type": "execute_result"
    }
   ],
   "source": [
    "X_train_df['tags'].describe()"
   ]
  },
  {
   "cell_type": "code",
   "execution_count": 17,
   "id": "71b3ccdf",
   "metadata": {},
   "outputs": [
    {
     "name": "stdout",
     "output_type": "stream",
     "text": [
      "{'dragged_visits', 'free_relist', 'dragged_bids_and_visits', 'good_quality_thumbnail', 'poor_quality_thumbnail'}\n"
     ]
    }
   ],
   "source": [
    "# Flatten all tag lists and get unique tag values\n",
    "unique_tags = set(tag for tags_list in X_train_df['tags'] for tag in tags_list)\n",
    "print(unique_tags)"
   ]
  },
  {
   "cell_type": "markdown",
   "id": "cb2685f0",
   "metadata": {},
   "source": [
    "It seems we only have 5 relevant values for 'tags'.\n",
    "\n",
    "So, it's plausible to assume that the remaining 3 appearing values are related with an empty field (NaN).\n",
    "\n",
    "It'll be explored later."
   ]
  },
  {
   "cell_type": "code",
   "execution_count": 18,
   "id": "ae51b14d",
   "metadata": {},
   "outputs": [
    {
     "data": {
      "text/plain": [
       "count     90000\n",
       "unique        1\n",
       "top            \n",
       "freq      90000\n",
       "Name: listing_source, dtype: object"
      ]
     },
     "execution_count": 18,
     "metadata": {},
     "output_type": "execute_result"
    }
   ],
   "source": [
    "X_train_df['listing_source'].describe()"
   ]
  },
  {
   "cell_type": "code",
   "execution_count": 19,
   "id": "cdeb4bd5",
   "metadata": {},
   "outputs": [
    {
     "data": {
      "text/plain": [
       "count     90000\n",
       "unique        1\n",
       "top          []\n",
       "freq      90000\n",
       "Name: coverage_areas, dtype: object"
      ]
     },
     "execution_count": 19,
     "metadata": {},
     "output_type": "execute_result"
    }
   ],
   "source": [
    "X_train_df['coverage_areas'].describe()"
   ]
  },
  {
   "cell_type": "markdown",
   "id": "54661b97",
   "metadata": {},
   "source": [
    "It's been verified that most of these features has '[]' instead of 'NaN'. It has to be modified.\n",
    "\n",
    "***Conflictive Features:*** coverage_areas, listing_source, tags, attributes, variations, deal_ids, sub_status"
   ]
  },
  {
   "cell_type": "markdown",
   "id": "2364a695",
   "metadata": {},
   "source": [
    "Both `listing_source` and `coverage_areas` are completely empty. The others have between 87% up to 99% nulls."
   ]
  },
  {
   "cell_type": "markdown",
   "id": "f83fa877",
   "metadata": {},
   "source": [
    "---"
   ]
  },
  {
   "cell_type": "markdown",
   "id": "f77174ad",
   "metadata": {},
   "source": [
    "### Variables distribution"
   ]
  },
  {
   "cell_type": "code",
   "execution_count": 20,
   "id": "6b718df9",
   "metadata": {},
   "outputs": [
    {
     "data": {
      "text/html": [
       "<div>\n",
       "<style scoped>\n",
       "    .dataframe tbody tr th:only-of-type {\n",
       "        vertical-align: middle;\n",
       "    }\n",
       "\n",
       "    .dataframe tbody tr th {\n",
       "        vertical-align: top;\n",
       "    }\n",
       "\n",
       "    .dataframe thead th {\n",
       "        text-align: right;\n",
       "    }\n",
       "</style>\n",
       "<table border=\"1\" class=\"dataframe\">\n",
       "  <thead>\n",
       "    <tr style=\"text-align: right;\">\n",
       "      <th></th>\n",
       "      <th>base_price</th>\n",
       "      <th>seller_id</th>\n",
       "      <th>price</th>\n",
       "      <th>official_store_id</th>\n",
       "      <th>original_price</th>\n",
       "      <th>stop_time</th>\n",
       "      <th>catalog_product_id</th>\n",
       "      <th>initial_quantity</th>\n",
       "      <th>start_time</th>\n",
       "      <th>sold_quantity</th>\n",
       "      <th>available_quantity</th>\n",
       "    </tr>\n",
       "  </thead>\n",
       "  <tbody>\n",
       "    <tr>\n",
       "      <th>count</th>\n",
       "      <td>9.000000e+04</td>\n",
       "      <td>9.000000e+04</td>\n",
       "      <td>9.000000e+04</td>\n",
       "      <td>745.000000</td>\n",
       "      <td>130.000000</td>\n",
       "      <td>9.000000e+04</td>\n",
       "      <td>7.000000e+00</td>\n",
       "      <td>90000.000000</td>\n",
       "      <td>9.000000e+04</td>\n",
       "      <td>90000.000000</td>\n",
       "      <td>90000.000000</td>\n",
       "    </tr>\n",
       "    <tr>\n",
       "      <th>mean</th>\n",
       "      <td>5.781341e+04</td>\n",
       "      <td>5.487386e+09</td>\n",
       "      <td>5.781352e+04</td>\n",
       "      <td>5802.018792</td>\n",
       "      <td>1492.522308</td>\n",
       "      <td>1.447648e+12</td>\n",
       "      <td>2.895700e+06</td>\n",
       "      <td>34.957178</td>\n",
       "      <td>1.442383e+12</td>\n",
       "      <td>2.328044</td>\n",
       "      <td>34.700767</td>\n",
       "    </tr>\n",
       "    <tr>\n",
       "      <th>std</th>\n",
       "      <td>9.089555e+06</td>\n",
       "      <td>2.587140e+09</td>\n",
       "      <td>9.089555e+06</td>\n",
       "      <td>2657.056302</td>\n",
       "      <td>1954.905741</td>\n",
       "      <td>3.251040e+09</td>\n",
       "      <td>1.919771e+06</td>\n",
       "      <td>421.091981</td>\n",
       "      <td>2.122683e+09</td>\n",
       "      <td>33.839328</td>\n",
       "      <td>420.811703</td>\n",
       "    </tr>\n",
       "    <tr>\n",
       "      <th>min</th>\n",
       "      <td>8.400000e-01</td>\n",
       "      <td>1.000319e+09</td>\n",
       "      <td>8.400000e-01</td>\n",
       "      <td>1024.000000</td>\n",
       "      <td>120.000000</td>\n",
       "      <td>1.444823e+12</td>\n",
       "      <td>9.440400e+04</td>\n",
       "      <td>1.000000</td>\n",
       "      <td>1.369110e+12</td>\n",
       "      <td>0.000000</td>\n",
       "      <td>1.000000</td>\n",
       "    </tr>\n",
       "    <tr>\n",
       "      <th>25%</th>\n",
       "      <td>9.000000e+01</td>\n",
       "      <td>3.184875e+09</td>\n",
       "      <td>9.000000e+01</td>\n",
       "      <td>3590.000000</td>\n",
       "      <td>449.000000</td>\n",
       "      <td>1.446313e+12</td>\n",
       "      <td>1.925518e+06</td>\n",
       "      <td>1.000000</td>\n",
       "      <td>1.441144e+12</td>\n",
       "      <td>0.000000</td>\n",
       "      <td>1.000000</td>\n",
       "    </tr>\n",
       "    <tr>\n",
       "      <th>50%</th>\n",
       "      <td>2.500000e+02</td>\n",
       "      <td>5.512496e+09</td>\n",
       "      <td>2.500000e+02</td>\n",
       "      <td>6158.000000</td>\n",
       "      <td>850.000000</td>\n",
       "      <td>1.447643e+12</td>\n",
       "      <td>3.051112e+06</td>\n",
       "      <td>1.000000</td>\n",
       "      <td>1.442524e+12</td>\n",
       "      <td>0.000000</td>\n",
       "      <td>1.000000</td>\n",
       "    </tr>\n",
       "    <tr>\n",
       "      <th>75%</th>\n",
       "      <td>8.000000e+02</td>\n",
       "      <td>7.704930e+09</td>\n",
       "      <td>8.000000e+02</td>\n",
       "      <td>8216.000000</td>\n",
       "      <td>1500.000000</td>\n",
       "      <td>1.448930e+12</td>\n",
       "      <td>4.073615e+06</td>\n",
       "      <td>2.000000</td>\n",
       "      <td>1.443800e+12</td>\n",
       "      <td>0.000000</td>\n",
       "      <td>2.000000</td>\n",
       "    </tr>\n",
       "    <tr>\n",
       "      <th>max</th>\n",
       "      <td>2.222222e+09</td>\n",
       "      <td>9.999853e+09</td>\n",
       "      <td>2.222222e+09</td>\n",
       "      <td>9996.000000</td>\n",
       "      <td>12248.000000</td>\n",
       "      <td>1.730732e+12</td>\n",
       "      <td>5.126117e+06</td>\n",
       "      <td>9999.000000</td>\n",
       "      <td>1.444900e+12</td>\n",
       "      <td>6065.000000</td>\n",
       "      <td>9999.000000</td>\n",
       "    </tr>\n",
       "  </tbody>\n",
       "</table>\n",
       "</div>"
      ],
      "text/plain": [
       "         base_price     seller_id         price  official_store_id  \\\n",
       "count  9.000000e+04  9.000000e+04  9.000000e+04         745.000000   \n",
       "mean   5.781341e+04  5.487386e+09  5.781352e+04        5802.018792   \n",
       "std    9.089555e+06  2.587140e+09  9.089555e+06        2657.056302   \n",
       "min    8.400000e-01  1.000319e+09  8.400000e-01        1024.000000   \n",
       "25%    9.000000e+01  3.184875e+09  9.000000e+01        3590.000000   \n",
       "50%    2.500000e+02  5.512496e+09  2.500000e+02        6158.000000   \n",
       "75%    8.000000e+02  7.704930e+09  8.000000e+02        8216.000000   \n",
       "max    2.222222e+09  9.999853e+09  2.222222e+09        9996.000000   \n",
       "\n",
       "       original_price     stop_time  catalog_product_id  initial_quantity  \\\n",
       "count      130.000000  9.000000e+04        7.000000e+00      90000.000000   \n",
       "mean      1492.522308  1.447648e+12        2.895700e+06         34.957178   \n",
       "std       1954.905741  3.251040e+09        1.919771e+06        421.091981   \n",
       "min        120.000000  1.444823e+12        9.440400e+04          1.000000   \n",
       "25%        449.000000  1.446313e+12        1.925518e+06          1.000000   \n",
       "50%        850.000000  1.447643e+12        3.051112e+06          1.000000   \n",
       "75%       1500.000000  1.448930e+12        4.073615e+06          2.000000   \n",
       "max      12248.000000  1.730732e+12        5.126117e+06       9999.000000   \n",
       "\n",
       "         start_time  sold_quantity  available_quantity  \n",
       "count  9.000000e+04   90000.000000        90000.000000  \n",
       "mean   1.442383e+12       2.328044           34.700767  \n",
       "std    2.122683e+09      33.839328          420.811703  \n",
       "min    1.369110e+12       0.000000            1.000000  \n",
       "25%    1.441144e+12       0.000000            1.000000  \n",
       "50%    1.442524e+12       0.000000            1.000000  \n",
       "75%    1.443800e+12       0.000000            2.000000  \n",
       "max    1.444900e+12    6065.000000         9999.000000  "
      ]
     },
     "execution_count": 20,
     "metadata": {},
     "output_type": "execute_result"
    }
   ],
   "source": [
    "# Descriptive statistics for numeric features\n",
    "X_train_df.describe(include=['number'])"
   ]
  },
  {
   "cell_type": "code",
   "execution_count": 21,
   "id": "4356a069",
   "metadata": {},
   "outputs": [
    {
     "data": {
      "text/html": [
       "<div>\n",
       "<style scoped>\n",
       "    .dataframe tbody tr th:only-of-type {\n",
       "        vertical-align: middle;\n",
       "    }\n",
       "\n",
       "    .dataframe tbody tr th {\n",
       "        vertical-align: top;\n",
       "    }\n",
       "\n",
       "    .dataframe thead th {\n",
       "        text-align: right;\n",
       "    }\n",
       "</style>\n",
       "<table border=\"1\" class=\"dataframe\">\n",
       "  <thead>\n",
       "    <tr style=\"text-align: right;\">\n",
       "      <th></th>\n",
       "      <th>accepts_mercadopago</th>\n",
       "      <th>automatic_relist</th>\n",
       "    </tr>\n",
       "  </thead>\n",
       "  <tbody>\n",
       "    <tr>\n",
       "      <th>count</th>\n",
       "      <td>90000</td>\n",
       "      <td>90000</td>\n",
       "    </tr>\n",
       "    <tr>\n",
       "      <th>unique</th>\n",
       "      <td>2</td>\n",
       "      <td>2</td>\n",
       "    </tr>\n",
       "    <tr>\n",
       "      <th>top</th>\n",
       "      <td>True</td>\n",
       "      <td>False</td>\n",
       "    </tr>\n",
       "    <tr>\n",
       "      <th>freq</th>\n",
       "      <td>88018</td>\n",
       "      <td>85773</td>\n",
       "    </tr>\n",
       "  </tbody>\n",
       "</table>\n",
       "</div>"
      ],
      "text/plain": [
       "       accepts_mercadopago automatic_relist\n",
       "count                90000            90000\n",
       "unique                   2                2\n",
       "top                   True            False\n",
       "freq                 88018            85773"
      ]
     },
     "execution_count": 21,
     "metadata": {},
     "output_type": "execute_result"
    }
   ],
   "source": [
    "# Descriptive statistics for bool features\n",
    "X_train_df.describe(include=['bool'])"
   ]
  },
  {
   "cell_type": "markdown",
   "id": "c8e9edcf",
   "metadata": {},
   "source": [
    "**Observations:**\n",
    "\n",
    "* **Price Discrepancy & Outliers**: The `base_price` and `price` columns show extreme outliers and a heavily right-skewed distribution, where the majority of products are inexpensive, but a few are exceptionally high-priced.\n",
    "* **Seller Diversity**: The dataset covers a wide range of sellers.\n",
    "* **Lack of Official Store & Catalog Data**: Most products are not from official stores nor linked to specific catalog product IDs, indicating a diverse marketplace with many independent sellers and general listings.\n",
    "* **Sparse Discount Information**: `original_price` is rarely recorded, suggesting that discounts aren't a primary feature in the majority of these listings.\n",
    "* **Inventory & Sales Distribution**: While most listings have low initial and available quantities and sell few items, there are some high-volume listings that significantly impact the average `initial_quantity`, `sold_quantity`, and `available_quantity`. This suggests a \"power law\" distribution typical of sales data, where a small percentage of listings account for a large percentage of sales."
   ]
  },
  {
   "cell_type": "code",
   "execution_count": 22,
   "id": "7a2c8612",
   "metadata": {},
   "outputs": [
    {
     "data": {
      "text/html": [
       "<div>\n",
       "<style scoped>\n",
       "    .dataframe tbody tr th:only-of-type {\n",
       "        vertical-align: middle;\n",
       "    }\n",
       "\n",
       "    .dataframe tbody tr th {\n",
       "        vertical-align: top;\n",
       "    }\n",
       "\n",
       "    .dataframe thead th {\n",
       "        text-align: right;\n",
       "    }\n",
       "</style>\n",
       "<table border=\"1\" class=\"dataframe\">\n",
       "  <thead>\n",
       "    <tr style=\"text-align: right;\">\n",
       "      <th></th>\n",
       "      <th>seller_address</th>\n",
       "      <th>warranty</th>\n",
       "      <th>sub_status</th>\n",
       "      <th>condition</th>\n",
       "      <th>deal_ids</th>\n",
       "      <th>shipping</th>\n",
       "      <th>non_mercado_pago_payment_methods</th>\n",
       "      <th>variations</th>\n",
       "      <th>site_id</th>\n",
       "      <th>listing_type_id</th>\n",
       "      <th>attributes</th>\n",
       "      <th>buying_mode</th>\n",
       "      <th>tags</th>\n",
       "      <th>listing_source</th>\n",
       "      <th>parent_item_id</th>\n",
       "      <th>...</th>\n",
       "      <th>descriptions</th>\n",
       "      <th>last_updated</th>\n",
       "      <th>international_delivery_mode</th>\n",
       "      <th>pictures</th>\n",
       "      <th>id</th>\n",
       "      <th>differential_pricing</th>\n",
       "      <th>currency_id</th>\n",
       "      <th>thumbnail</th>\n",
       "      <th>title</th>\n",
       "      <th>date_created</th>\n",
       "      <th>secure_thumbnail</th>\n",
       "      <th>status</th>\n",
       "      <th>video_id</th>\n",
       "      <th>subtitle</th>\n",
       "      <th>permalink</th>\n",
       "    </tr>\n",
       "  </thead>\n",
       "  <tbody>\n",
       "    <tr>\n",
       "      <th>count</th>\n",
       "      <td>18000</td>\n",
       "      <td>7021</td>\n",
       "      <td>18000</td>\n",
       "      <td>18000</td>\n",
       "      <td>18000</td>\n",
       "      <td>18000</td>\n",
       "      <td>18000</td>\n",
       "      <td>18000</td>\n",
       "      <td>18000</td>\n",
       "      <td>18000</td>\n",
       "      <td>18000</td>\n",
       "      <td>18000</td>\n",
       "      <td>18000</td>\n",
       "      <td>18000</td>\n",
       "      <td>13812</td>\n",
       "      <td>...</td>\n",
       "      <td>18000</td>\n",
       "      <td>18000</td>\n",
       "      <td>18000</td>\n",
       "      <td>18000</td>\n",
       "      <td>18000</td>\n",
       "      <td>0</td>\n",
       "      <td>18000</td>\n",
       "      <td>18000</td>\n",
       "      <td>18000</td>\n",
       "      <td>18000</td>\n",
       "      <td>18000</td>\n",
       "      <td>18000</td>\n",
       "      <td>547</td>\n",
       "      <td>0</td>\n",
       "      <td>18000</td>\n",
       "    </tr>\n",
       "    <tr>\n",
       "      <th>unique</th>\n",
       "      <td>1736</td>\n",
       "      <td>2803</td>\n",
       "      <td>4</td>\n",
       "      <td>2</td>\n",
       "      <td>13</td>\n",
       "      <td>24</td>\n",
       "      <td>84</td>\n",
       "      <td>1481</td>\n",
       "      <td>1</td>\n",
       "      <td>7</td>\n",
       "      <td>683</td>\n",
       "      <td>3</td>\n",
       "      <td>8</td>\n",
       "      <td>1</td>\n",
       "      <td>13812</td>\n",
       "      <td>...</td>\n",
       "      <td>17496</td>\n",
       "      <td>17817</td>\n",
       "      <td>1</td>\n",
       "      <td>17852</td>\n",
       "      <td>18000</td>\n",
       "      <td>0</td>\n",
       "      <td>2</td>\n",
       "      <td>17845</td>\n",
       "      <td>17908</td>\n",
       "      <td>17478</td>\n",
       "      <td>17845</td>\n",
       "      <td>3</td>\n",
       "      <td>421</td>\n",
       "      <td>0</td>\n",
       "      <td>18000</td>\n",
       "    </tr>\n",
       "    <tr>\n",
       "      <th>top</th>\n",
       "      <td>{'country': {'name': 'Argentina', 'id': 'AR'},...</td>\n",
       "      <td>Sí</td>\n",
       "      <td>[]</td>\n",
       "      <td>new</td>\n",
       "      <td>[]</td>\n",
       "      <td>{'local_pick_up': True, 'methods': [], 'tags':...</td>\n",
       "      <td>[]</td>\n",
       "      <td>[]</td>\n",
       "      <td>MLA</td>\n",
       "      <td>bronze</td>\n",
       "      <td>[]</td>\n",
       "      <td>buy_it_now</td>\n",
       "      <td>[dragged_bids_and_visits]</td>\n",
       "      <td></td>\n",
       "      <td>MLA1383439798</td>\n",
       "      <td>...</td>\n",
       "      <td>[]</td>\n",
       "      <td>2015-10-12T19:14:34.000Z</td>\n",
       "      <td>none</td>\n",
       "      <td>[]</td>\n",
       "      <td>MLA3255414993</td>\n",
       "      <td>NaN</td>\n",
       "      <td>ARS</td>\n",
       "      <td></td>\n",
       "      <td>50 Suspensores Para Short De Baño Tela Calada</td>\n",
       "      <td>2015-08-19T21:49:10.000Z</td>\n",
       "      <td></td>\n",
       "      <td>active</td>\n",
       "      <td>QQNfOicE_o8</td>\n",
       "      <td>NaN</td>\n",
       "      <td>http://articulo.mercadolibre.com.ar/MLA3255414...</td>\n",
       "    </tr>\n",
       "    <tr>\n",
       "      <th>freq</th>\n",
       "      <td>762</td>\n",
       "      <td>1022</td>\n",
       "      <td>17824</td>\n",
       "      <td>9778</td>\n",
       "      <td>17953</td>\n",
       "      <td>7549</td>\n",
       "      <td>5531</td>\n",
       "      <td>16520</td>\n",
       "      <td>18000</td>\n",
       "      <td>11433</td>\n",
       "      <td>15752</td>\n",
       "      <td>17462</td>\n",
       "      <td>13013</td>\n",
       "      <td>18000</td>\n",
       "      <td>1</td>\n",
       "      <td>...</td>\n",
       "      <td>505</td>\n",
       "      <td>3</td>\n",
       "      <td>18000</td>\n",
       "      <td>149</td>\n",
       "      <td>1</td>\n",
       "      <td>NaN</td>\n",
       "      <td>17897</td>\n",
       "      <td>149</td>\n",
       "      <td>15</td>\n",
       "      <td>4</td>\n",
       "      <td>149</td>\n",
       "      <td>17202</td>\n",
       "      <td>56</td>\n",
       "      <td>NaN</td>\n",
       "      <td>1</td>\n",
       "    </tr>\n",
       "  </tbody>\n",
       "</table>\n",
       "<p>4 rows × 32 columns</p>\n",
       "</div>"
      ],
      "text/plain": [
       "                                           seller_address warranty sub_status  \\\n",
       "count                                               18000     7021      18000   \n",
       "unique                                               1736     2803          4   \n",
       "top     {'country': {'name': 'Argentina', 'id': 'AR'},...       Sí         []   \n",
       "freq                                                  762     1022      17824   \n",
       "\n",
       "       condition deal_ids                                           shipping  \\\n",
       "count      18000    18000                                              18000   \n",
       "unique         2       13                                                 24   \n",
       "top          new       []  {'local_pick_up': True, 'methods': [], 'tags':...   \n",
       "freq        9778    17953                                               7549   \n",
       "\n",
       "       non_mercado_pago_payment_methods variations site_id listing_type_id  \\\n",
       "count                             18000      18000   18000           18000   \n",
       "unique                               84       1481       1               7   \n",
       "top                                  []         []     MLA          bronze   \n",
       "freq                               5531      16520   18000           11433   \n",
       "\n",
       "       attributes buying_mode                       tags listing_source  \\\n",
       "count       18000       18000                      18000          18000   \n",
       "unique        683           3                          8              1   \n",
       "top            []  buy_it_now  [dragged_bids_and_visits]                  \n",
       "freq        15752       17462                      13013          18000   \n",
       "\n",
       "       parent_item_id  ... descriptions              last_updated  \\\n",
       "count           13812  ...        18000                     18000   \n",
       "unique          13812  ...        17496                     17817   \n",
       "top     MLA1383439798  ...           []  2015-10-12T19:14:34.000Z   \n",
       "freq                1  ...          505                         3   \n",
       "\n",
       "       international_delivery_mode pictures             id  \\\n",
       "count                        18000    18000          18000   \n",
       "unique                           1    17852          18000   \n",
       "top                           none       []  MLA3255414993   \n",
       "freq                         18000      149              1   \n",
       "\n",
       "       differential_pricing currency_id thumbnail  \\\n",
       "count                     0       18000     18000   \n",
       "unique                    0           2     17845   \n",
       "top                     NaN         ARS             \n",
       "freq                    NaN       17897       149   \n",
       "\n",
       "                                                title  \\\n",
       "count                                           18000   \n",
       "unique                                          17908   \n",
       "top     50 Suspensores Para Short De Baño Tela Calada   \n",
       "freq                                               15   \n",
       "\n",
       "                    date_created secure_thumbnail  status     video_id  \\\n",
       "count                      18000            18000   18000          547   \n",
       "unique                     17478            17845       3          421   \n",
       "top     2015-08-19T21:49:10.000Z                   active  QQNfOicE_o8   \n",
       "freq                           4              149   17202           56   \n",
       "\n",
       "       subtitle                                          permalink  \n",
       "count         0                                              18000  \n",
       "unique        0                                              18000  \n",
       "top         NaN  http://articulo.mercadolibre.com.ar/MLA3255414...  \n",
       "freq        NaN                                                  1  \n",
       "\n",
       "[4 rows x 32 columns]"
      ]
     },
     "execution_count": 22,
     "metadata": {},
     "output_type": "execute_result"
    }
   ],
   "source": [
    "# Descriptive statistics for string features\n",
    "# NOTE: Due to the large number of columns and rows, we will sample a subset of the data\n",
    "X_train_df.sample(int(len(X_train_df)*0.2)).describe(include=['object']) # pd.describe() for 'objects' is a time consuming process"
   ]
  },
  {
   "cell_type": "code",
   "execution_count": 23,
   "id": "fdd598fb",
   "metadata": {},
   "outputs": [
    {
     "data": {
      "text/plain": [
       "array(['active', 'paused', 'closed', 'not_yet_active'], dtype=object)"
      ]
     },
     "execution_count": 23,
     "metadata": {},
     "output_type": "execute_result"
    }
   ],
   "source": [
    "X_train_df['status'].unique()"
   ]
  },
  {
   "cell_type": "code",
   "execution_count": 24,
   "id": "8b7095bd",
   "metadata": {},
   "outputs": [
    {
     "data": {
      "text/plain": [
       "[{'country': {'name': 'Argentina', 'id': 'AR'},\n",
       "  'state': {'name': 'Capital Federal', 'id': 'AR-C'},\n",
       "  'city': {'name': 'capital federal', 'id': ''}}]"
      ]
     },
     "execution_count": 24,
     "metadata": {},
     "output_type": "execute_result"
    }
   ],
   "source": [
    "X_train_df['seller_address'].sample().to_list()"
   ]
  },
  {
   "cell_type": "code",
   "execution_count": 25,
   "id": "4ff42d13",
   "metadata": {},
   "outputs": [
    {
     "data": {
      "text/plain": [
       "count      90000\n",
       "unique         4\n",
       "top       active\n",
       "freq       86116\n",
       "Name: status, dtype: object"
      ]
     },
     "execution_count": 25,
     "metadata": {},
     "output_type": "execute_result"
    }
   ],
   "source": [
    "X_train_df['status'].describe()"
   ]
  },
  {
   "cell_type": "markdown",
   "id": "77105349",
   "metadata": {},
   "source": [
    "### Unique values"
   ]
  },
  {
   "cell_type": "code",
   "execution_count": 26,
   "id": "33e6820c",
   "metadata": {},
   "outputs": [],
   "source": [
    "def create_unique_value_lists(df: pd.DataFrame) -> dict:\n",
    "    \"\"\"\n",
    "    Creates a dictionary of unique values for each column in a DataFrame,\n",
    "    but only if the number of unique values in a column is less than 16.\n",
    "\n",
    "    Args:\n",
    "        df: The input pandas DataFrame.\n",
    "\n",
    "    Returns:\n",
    "        A dictionary where keys are column names and values are lists of\n",
    "        unique values for those columns, subject to the condition.\n",
    "    \"\"\"\n",
    "    unique_values_dict = {}\n",
    "    for column in df.columns:\n",
    "        # Check if the column contains dictionaries or other unhashable types\n",
    "        # and convert them to strings for unique() to work.\n",
    "        # This is a robust way to handle mixed types or potential unhashable objects.\n",
    "        if df[column].apply(lambda x: isinstance(x, (dict, list, set))).any():\n",
    "            unique_vals = df[column].astype(str).unique()\n",
    "        else:\n",
    "            unique_vals = df[column].unique()\n",
    "\n",
    "        if len(unique_vals) < 16:\n",
    "            unique_values_dict[column] = unique_vals.tolist()\n",
    "    return unique_values_dict"
   ]
  },
  {
   "cell_type": "code",
   "execution_count": 27,
   "id": "514042ab",
   "metadata": {},
   "outputs": [
    {
     "data": {
      "text/plain": [
       "array([''], dtype=object)"
      ]
     },
     "execution_count": 27,
     "metadata": {},
     "output_type": "execute_result"
    }
   ],
   "source": [
    "X_train_df['listing_source'].unique()"
   ]
  },
  {
   "cell_type": "code",
   "execution_count": 28,
   "id": "cd02ee85",
   "metadata": {},
   "outputs": [
    {
     "name": "stdout",
     "output_type": "stream",
     "text": [
      "Unique values (with less than 16 possibilities):\n",
      "Column 'site_id': ['MLA']\n",
      "Column 'listing_source': ['']\n",
      "Column 'coverage_areas': ['[]']\n",
      "Column 'international_delivery_mode': ['none']\n",
      "Column 'differential_pricing': [None]\n",
      "Column 'subtitle': [None]\n",
      "Column 'condition': ['new', 'used']\n",
      "Column 'accepts_mercadopago': [True, False]\n",
      "Column 'currency_id': ['ARS', 'USD']\n",
      "Column 'automatic_relist': [False, True]\n",
      "Column 'buying_mode': ['buy_it_now', 'classified', 'auction']\n",
      "Column 'sub_status': ['[]', \"['suspended']\", \"['expired']\", \"['deleted']\"]\n",
      "Column 'status': ['active', 'paused', 'closed', 'not_yet_active']\n",
      "Column 'listing_type_id': ['bronze', 'silver', 'free', 'gold_special', 'gold', 'gold_premium', 'gold_pro']\n",
      "Column 'tags': [\"['dragged_bids_and_visits']\", '[]', \"['good_quality_thumbnail', 'dragged_bids_and_visits']\", \"['good_quality_thumbnail']\", \"['dragged_visits']\", \"['dragged_visits', 'free_relist']\", \"['poor_quality_thumbnail', 'dragged_bids_and_visits']\", \"['poor_quality_thumbnail']\"]\n",
      "Column 'catalog_product_id': [nan, 800744.0, 5093232.0, 3050291.0, 5126117.0, 94404.0, 3051112.0, 3053998.0]\n"
     ]
    }
   ],
   "source": [
    "# Get unique values for each column with less than 16 unique values\n",
    "filtered_unique_values = create_unique_value_lists(X_train_df)\n",
    "filtered_unique_values = sorted(filtered_unique_values.items(), key=lambda x: len(x[1]), reverse=False)\n",
    "\n",
    "print(\"Unique values (with less than 16 possibilities):\")\n",
    "for col, values in filtered_unique_values:\n",
    "    print(f\"Column '{col}': {values}\")"
   ]
  },
  {
   "cell_type": "code",
   "execution_count": 29,
   "id": "4040cb08",
   "metadata": {},
   "outputs": [
    {
     "data": {
      "text/plain": [
       "tags\n",
       "[dragged_bids_and_visits]                            65315\n",
       "[]                                                   22412\n",
       "[good_quality_thumbnail, dragged_bids_and_visits]     1191\n",
       "[dragged_visits]                                       464\n",
       "[good_quality_thumbnail]                               346\n",
       "[dragged_visits, free_relist]                          259\n",
       "[poor_quality_thumbnail, dragged_bids_and_visits]       10\n",
       "[poor_quality_thumbnail]                                 3\n",
       "Name: count, dtype: int64"
      ]
     },
     "execution_count": 29,
     "metadata": {},
     "output_type": "execute_result"
    }
   ],
   "source": [
    "X_train_df['tags'].value_counts()"
   ]
  },
  {
   "cell_type": "markdown",
   "id": "b7bf3d1c",
   "metadata": {},
   "source": [
    "**Observations:**\n",
    "- It looks like `tags` work as a list of strings that specify every tag that applies to that item.\n",
    "- It appears that `site_id` is always 'MLA'.\n",
    "- Some are binary features: `condition`, `currency_id`, `automatic_relist`\n",
    "- `catalog_product_id` is almost empty (just a few items with data)."
   ]
  },
  {
   "cell_type": "markdown",
   "id": "7a412dba",
   "metadata": {},
   "source": [
    "For this dataset, `site_id` doesn't add any information because it's 'MLA' value for every item. Therefore, it won't be used."
   ]
  },
  {
   "cell_type": "code",
   "execution_count": 30,
   "id": "2c51ba1b",
   "metadata": {},
   "outputs": [
    {
     "data": {
      "text/plain": [
       "count     90000\n",
       "unique        1\n",
       "top         MLA\n",
       "freq      90000\n",
       "Name: site_id, dtype: object"
      ]
     },
     "execution_count": 30,
     "metadata": {},
     "output_type": "execute_result"
    }
   ],
   "source": [
    "X_train_df['site_id'].describe()"
   ]
  },
  {
   "cell_type": "markdown",
   "id": "d258e365",
   "metadata": {},
   "source": [
    "### Outliers"
   ]
  },
  {
   "cell_type": "markdown",
   "id": "fc77e802",
   "metadata": {},
   "source": [
    "### Correlation"
   ]
  },
  {
   "cell_type": "code",
   "execution_count": 31,
   "id": "3261c98f",
   "metadata": {},
   "outputs": [
    {
     "name": "stdout",
     "output_type": "stream",
     "text": [
      "Numerical features for filtering:\n",
      "['base_price', 'seller_id', 'price', 'official_store_id', 'original_price', 'stop_time', 'catalog_product_id', 'initial_quantity', 'start_time', 'sold_quantity', 'available_quantity']\n"
     ]
    }
   ],
   "source": [
    "# Get the numerical columns\n",
    "numerical_features = X_train_df.select_dtypes(include=['number']).columns.tolist()\n",
    "\n",
    "print(\"Numerical features for filtering:\")\n",
    "print(numerical_features)"
   ]
  },
  {
   "cell_type": "code",
   "execution_count": 32,
   "id": "6cf190dd",
   "metadata": {},
   "outputs": [
    {
     "data": {
      "image/png": "[encoded data removed]",
      "text/plain": [
       "<Figure size 1000x800 with 2 Axes>"
      ]
     },
     "metadata": {},
     "output_type": "display_data"
    }
   ],
   "source": [
    "# Compute correlation matrix for numerical features\n",
    "corr_matrix = X_train_df[numerical_features].corr()\n",
    "\n",
    "# Plot correlation heatmap\n",
    "plt.figure(figsize=(10, 8))\n",
    "sns.heatmap(corr_matrix, annot=True, cmap='coolwarm', fmt='.2f')\n",
    "plt.title('Correlation Matrix of Numerical Features')\n",
    "plt.show()"
   ]
  },
  {
   "cell_type": "markdown",
   "id": "231d3f3d",
   "metadata": {},
   "source": [
    "**Observations:**\n",
    "- ***Linear correlation:***\n",
    "    - best_price/price/original_price\n",
    "    - initial_quantity/available_quantity\n",
    "- ***Positive correlation:***\n",
    "    1. catalog_product_id/seller_id\n",
    "    1. catalog_product_id/initial_quantity/sold_quantity/available_quantity\n",
    "    1. start_time/stop_time\n",
    "    1. original_price/initial_quantity/available_quantity/sold_quantity\n",
    "    1. start_time/catalog_product_id\n",
    "- ***Negative correlation:***\n",
    "    1. catalog_product_id/price/base_price\n",
    "    1. official_store_id/initial_quantity/available_quantity\n",
    "    1. official_store_id/original_price"
   ]
  },
  {
   "cell_type": "markdown",
   "id": "99d3a8f0",
   "metadata": {},
   "source": [
    "**Insights:**\n",
    "- High correlation between different price & quantity variables is expectable.\n",
    "- Both `catalog_product_id` & `official_store_id` have a strong negative correlation with price & quantity variables. However, these features had a lot of null values, then they won't be useful for inference.\n",
    "\n"
   ]
  },
  {
   "cell_type": "markdown",
   "id": "03bbfd96",
   "metadata": {},
   "source": [
    "## 1.2 Target variable"
   ]
  },
  {
   "cell_type": "code",
   "execution_count": 307,
   "id": "e928cf8d",
   "metadata": {},
   "outputs": [
    {
     "data": {
      "text/plain": [
       "count     90000\n",
       "unique        2\n",
       "top         new\n",
       "freq      48352\n",
       "dtype: object"
      ]
     },
     "execution_count": 307,
     "metadata": {},
     "output_type": "execute_result"
    }
   ],
   "source": [
    "# Target variable distribution\n",
    "y_train_df.describe()"
   ]
  },
  {
   "cell_type": "code",
   "execution_count": 308,
   "id": "e010d8f0",
   "metadata": {},
   "outputs": [
    {
     "data": {
      "text/plain": [
       "count     90000\n",
       "unique        2\n",
       "top         new\n",
       "freq      48352\n",
       "Name: condition, dtype: object"
      ]
     },
     "execution_count": 308,
     "metadata": {},
     "output_type": "execute_result"
    }
   ],
   "source": [
    "X_train_df['condition'].describe()"
   ]
  },
  {
   "cell_type": "code",
   "execution_count": 309,
   "id": "c8c2bb6c",
   "metadata": {},
   "outputs": [
    {
     "name": "stdout",
     "output_type": "stream",
     "text": [
      "No mismatches detected between 'condition' and target variable.\n"
     ]
    }
   ],
   "source": [
    "detected = False\n",
    "for i, row in enumerate(X_train_df['condition']):\n",
    "    if row == y_train_df.iloc[i]:\n",
    "        pass\n",
    "    else:\n",
    "        print(f\"Mismatch at index {i}:\", row)\n",
    "        detected = True\n",
    "if not detected:\n",
    "    print(\"No mismatches detected between 'condition' and target variable.\")"
   ]
  },
  {
   "cell_type": "code",
   "execution_count": 310,
   "id": "8f6ff6cc",
   "metadata": {},
   "outputs": [
    {
     "data": {
      "text/plain": [
       "Index(['seller_address', 'warranty', 'sub_status', 'deal_ids', 'base_price',\n",
       "       'shipping', 'non_mercado_pago_payment_methods', 'seller_id',\n",
       "       'variations', 'site_id', 'listing_type_id', 'price', 'attributes',\n",
       "       'buying_mode', 'tags', 'listing_source', 'parent_item_id',\n",
       "       'coverage_areas', 'category_id', 'descriptions', 'last_updated',\n",
       "       'international_delivery_mode', 'pictures', 'id', 'official_store_id',\n",
       "       'differential_pricing', 'accepts_mercadopago', 'original_price',\n",
       "       'currency_id', 'thumbnail', 'title', 'automatic_relist', 'date_created',\n",
       "       'secure_thumbnail', 'stop_time', 'status', 'video_id',\n",
       "       'catalog_product_id', 'subtitle', 'initial_quantity', 'start_time',\n",
       "       'permalink', 'sold_quantity', 'available_quantity'],\n",
       "      dtype='object')"
      ]
     },
     "execution_count": 310,
     "metadata": {},
     "output_type": "execute_result"
    }
   ],
   "source": [
    "X_test_df.columns"
   ]
  },
  {
   "cell_type": "markdown",
   "id": "97a6af52",
   "metadata": {},
   "source": [
    "As we verified, the column `condition` is effectively the target value. We will remove it from dataset."
   ]
  },
  {
   "cell_type": "markdown",
   "id": "3b3bc812",
   "metadata": {},
   "source": [
    "Actually, it should've been removed by the `new_or_used.py` script, but it seems that feature was forgotten for the test split.\n",
    "\n",
    "The `build_dataset()` function should be fixed to delete it previously."
   ]
  },
  {
   "cell_type": "code",
   "execution_count": 378,
   "id": "7a338c16",
   "metadata": {},
   "outputs": [],
   "source": [
    "# Remove 'condition' column as it is the target variable\n",
    "del X_train_df['condition']"
   ]
  },
  {
   "cell_type": "code",
   "execution_count": 379,
   "id": "d3cb0c5e",
   "metadata": {},
   "outputs": [
    {
     "data": {
      "text/plain": [
       "Index(['seller_address', 'warranty', 'sub_status', 'deal_ids', 'base_price',\n",
       "       'shipping', 'non_mercado_pago_payment_methods', 'seller_id',\n",
       "       'variations', 'site_id', 'listing_type_id', 'price', 'attributes',\n",
       "       'buying_mode', 'tags', 'listing_source', 'parent_item_id',\n",
       "       'coverage_areas', 'category_id', 'descriptions', 'last_updated',\n",
       "       'international_delivery_mode', 'pictures', 'id', 'official_store_id',\n",
       "       'differential_pricing', 'accepts_mercadopago', 'original_price',\n",
       "       'currency_id', 'thumbnail', 'title', 'automatic_relist', 'date_created',\n",
       "       'secure_thumbnail', 'stop_time', 'status', 'video_id',\n",
       "       'catalog_product_id', 'subtitle', 'initial_quantity', 'start_time',\n",
       "       'permalink', 'sold_quantity', 'available_quantity'],\n",
       "      dtype='object')"
      ]
     },
     "execution_count": 379,
     "metadata": {},
     "output_type": "execute_result"
    }
   ],
   "source": [
    "X_train_df.columns"
   ]
  },
  {
   "cell_type": "markdown",
   "id": "b3513fa1",
   "metadata": {},
   "source": [
    "# 2. Feature Engineering"
   ]
  },
  {
   "cell_type": "markdown",
   "id": "4eefdb7d",
   "metadata": {},
   "source": [
    "## Removing empty values"
   ]
  },
  {
   "cell_type": "code",
   "execution_count": 380,
   "id": "800d4d48",
   "metadata": {},
   "outputs": [
    {
     "data": {
      "text/html": [
       "<div>\n",
       "<style scoped>\n",
       "    .dataframe tbody tr th:only-of-type {\n",
       "        vertical-align: middle;\n",
       "    }\n",
       "\n",
       "    .dataframe tbody tr th {\n",
       "        vertical-align: top;\n",
       "    }\n",
       "\n",
       "    .dataframe thead th {\n",
       "        text-align: right;\n",
       "    }\n",
       "</style>\n",
       "<table border=\"1\" class=\"dataframe\">\n",
       "  <thead>\n",
       "    <tr style=\"text-align: right;\">\n",
       "      <th></th>\n",
       "      <th>differential_pricing</th>\n",
       "      <th>subtitle</th>\n",
       "      <th>listing_source</th>\n",
       "      <th>coverage_areas</th>\n",
       "      <th>international_delivery_mode</th>\n",
       "    </tr>\n",
       "  </thead>\n",
       "  <tbody>\n",
       "    <tr>\n",
       "      <th>count</th>\n",
       "      <td>0</td>\n",
       "      <td>0</td>\n",
       "      <td>90000</td>\n",
       "      <td>90000</td>\n",
       "      <td>90000</td>\n",
       "    </tr>\n",
       "    <tr>\n",
       "      <th>unique</th>\n",
       "      <td>0</td>\n",
       "      <td>0</td>\n",
       "      <td>1</td>\n",
       "      <td>1</td>\n",
       "      <td>1</td>\n",
       "    </tr>\n",
       "    <tr>\n",
       "      <th>top</th>\n",
       "      <td>NaN</td>\n",
       "      <td>NaN</td>\n",
       "      <td></td>\n",
       "      <td>[]</td>\n",
       "      <td>none</td>\n",
       "    </tr>\n",
       "    <tr>\n",
       "      <th>freq</th>\n",
       "      <td>NaN</td>\n",
       "      <td>NaN</td>\n",
       "      <td>90000</td>\n",
       "      <td>90000</td>\n",
       "      <td>90000</td>\n",
       "    </tr>\n",
       "  </tbody>\n",
       "</table>\n",
       "</div>"
      ],
      "text/plain": [
       "       differential_pricing subtitle listing_source coverage_areas  \\\n",
       "count                     0        0          90000          90000   \n",
       "unique                    0        0              1              1   \n",
       "top                     NaN      NaN                            []   \n",
       "freq                    NaN      NaN          90000          90000   \n",
       "\n",
       "       international_delivery_mode  \n",
       "count                        90000  \n",
       "unique                           1  \n",
       "top                           none  \n",
       "freq                         90000  "
      ]
     },
     "execution_count": 380,
     "metadata": {},
     "output_type": "execute_result"
    }
   ],
   "source": [
    "empty_columns = ['differential_pricing', 'subtitle', 'listing_source', 'coverage_areas','international_delivery_mode']\n",
    "X_train_df[empty_columns].describe()"
   ]
  },
  {
   "cell_type": "code",
   "execution_count": 381,
   "id": "541b490b",
   "metadata": {},
   "outputs": [],
   "source": [
    "# Remove empty columns\n",
    "X_train_df.drop(columns=empty_columns, inplace=True)\n",
    "y_train_df.drop(columns=empty_columns, inplace=True)"
   ]
  },
  {
   "cell_type": "markdown",
   "id": "068b29e3",
   "metadata": {},
   "source": [
    "## Missing Values handling\n",
    "- Nulls: `parent_item_id`, `warranty`\n",
    "- empty list ('[]'): `sub_status`, `tags`"
   ]
  },
  {
   "cell_type": "markdown",
   "id": "64101fbf",
   "metadata": {},
   "source": [
    "### Nulls\n",
    "We have previously detected missing values for `parent_item_id` and `warranty`, but these features won't be taken in consideration, so handling missing values is no needed by now."
   ]
  },
  {
   "cell_type": "markdown",
   "id": "f36562e6",
   "metadata": {},
   "source": [
    "### Empty lists\n",
    "Some features has '[]' values"
   ]
  },
  {
   "cell_type": "code",
   "execution_count": 382,
   "id": "c954b8e2",
   "metadata": {},
   "outputs": [],
   "source": [
    "# Convert the column to string type to ensure consistency\n",
    "X_train_df['sub_status'] = X_train_df['sub_status'].astype(str)\n",
    "X_train_df['sub_status'] = X_train_df['sub_status'].replace('[]', np.nan)"
   ]
  },
  {
   "cell_type": "code",
   "execution_count": 383,
   "id": "9fcb7c12",
   "metadata": {},
   "outputs": [
    {
     "data": {
      "text/plain": [
       "array([nan, \"['suspended']\", \"['expired']\", \"['deleted']\"], dtype=object)"
      ]
     },
     "execution_count": 383,
     "metadata": {},
     "output_type": "execute_result"
    }
   ],
   "source": [
    "X_train_df['sub_status'].unique()"
   ]
  },
  {
   "cell_type": "code",
   "execution_count": 384,
   "id": "59351d4d",
   "metadata": {},
   "outputs": [
    {
     "name": "stdout",
     "output_type": "stream",
     "text": [
      "Removed 891 items (-0.99%) with 'sub_status' data.\n"
     ]
    }
   ],
   "source": [
    "# Remove items where 'sub_status' contains any data (not active items)\n",
    "original = len(X_train_df)\n",
    "mask = X_train_df['sub_status'].isna()\n",
    "X_train_df = X_train_df[mask]\n",
    "y_train_df = y_train_df[mask]\n",
    "cleaned = len(X_train_df)\n",
    "print(f\"Removed {original - cleaned} items ({cleaned/original-1:.2%}) with 'sub_status' data.\")"
   ]
  },
  {
   "cell_type": "code",
   "execution_count": 385,
   "id": "922eb2f0",
   "metadata": {},
   "outputs": [
    {
     "data": {
      "text/plain": [
       "array([nan], dtype=object)"
      ]
     },
     "execution_count": 385,
     "metadata": {},
     "output_type": "execute_result"
    }
   ],
   "source": [
    "# Double check if values were removed correctly\n",
    "X_train_df['sub_status'].unique()"
   ]
  },
  {
   "cell_type": "code",
   "execution_count": 386,
   "id": "2c25ee29",
   "metadata": {},
   "outputs": [],
   "source": [
    "# 'sub_status' is no longer needed, so we can drop it\n",
    "X_train_df.drop(columns=['sub_status'], inplace=True)"
   ]
  },
  {
   "cell_type": "markdown",
   "id": "463b5e37",
   "metadata": {},
   "source": [
    "## Outliers handling\n",
    "## ‼️ pending"
   ]
  },
  {
   "cell_type": "markdown",
   "id": "b1385762",
   "metadata": {},
   "source": [
    "## Binary Encoding"
   ]
  },
  {
   "cell_type": "code",
   "execution_count": 387,
   "id": "2cd3be4a",
   "metadata": {},
   "outputs": [
    {
     "data": {
      "text/plain": [
       "currency_id\n",
       "ARS    88605\n",
       "USD      504\n",
       "Name: count, dtype: int64"
      ]
     },
     "execution_count": 387,
     "metadata": {},
     "output_type": "execute_result"
    }
   ],
   "source": [
    "X_train_df['currency_id'].value_counts()"
   ]
  },
  {
   "cell_type": "code",
   "execution_count": 388,
   "id": "0afd4749",
   "metadata": {},
   "outputs": [],
   "source": [
    "# Create the new boolean feature 'is_USD'\n",
    "X_train_df['is_USD'] = (X_train_df['currency_id'] == 'USD')\n",
    "\n",
    "# Store it as numeric (1/0)\n",
    "X_train_df['is_USD'] = X_train_df['is_USD'].astype('uint8')"
   ]
  },
  {
   "cell_type": "code",
   "execution_count": 389,
   "id": "2d28763f",
   "metadata": {},
   "outputs": [],
   "source": [
    "X_train_df.drop(columns=['currency_id'], inplace=True)"
   ]
  },
  {
   "cell_type": "markdown",
   "id": "53b09b1f",
   "metadata": {},
   "source": [
    "checkear object -> bool\n",
    "automatic_relist, is_USD, accepts_mercadopago, automatic_relist, secure_thumbnail\n",
    ".astype(bool)"
   ]
  },
  {
   "cell_type": "code",
   "execution_count": 390,
   "id": "45817202",
   "metadata": {},
   "outputs": [
    {
     "data": {
      "text/plain": [
       "is_USD\n",
       "0    88605\n",
       "1      504\n",
       "Name: count, dtype: int64"
      ]
     },
     "execution_count": 390,
     "metadata": {},
     "output_type": "execute_result"
    }
   ],
   "source": [
    "X_train_df['is_USD'].value_counts()"
   ]
  },
  {
   "cell_type": "code",
   "execution_count": 391,
   "id": "efa014de",
   "metadata": {},
   "outputs": [],
   "source": [
    "# Convert booleans into integers\n",
    "for col in ['accepts_mercadopago', 'automatic_relist']:\n",
    "    X_train_df[col] = X_train_df[col].astype('uint8')"
   ]
  },
  {
   "cell_type": "markdown",
   "id": "b1876af3",
   "metadata": {},
   "source": [
    "## One-hot encoding\n",
    "**(Categorical features)**"
   ]
  },
  {
   "cell_type": "code",
   "execution_count": 392,
   "id": "ef672cc8",
   "metadata": {},
   "outputs": [
    {
     "data": {
      "text/plain": [
       "listing_type_id\n",
       "bronze          56182\n",
       "free            19139\n",
       "silver           8154\n",
       "gold_special     2690\n",
       "gold             2166\n",
       "gold_premium      765\n",
       "gold_pro           13\n",
       "Name: count, dtype: int64"
      ]
     },
     "execution_count": 392,
     "metadata": {},
     "output_type": "execute_result"
    }
   ],
   "source": [
    "X_train_df['listing_type_id'].value_counts()"
   ]
  },
  {
   "cell_type": "markdown",
   "id": "ac8ae222",
   "metadata": {},
   "source": [
    "Since these categories (bronze, free, etc.) don't have an inherent ordinal relationship (e.g., 'gold' isn't necessarily \"greater\" than 'silver' in a numerical sense that a model would understand without context, even if they represent tiers), one-hot encoding is a suitable choice."
   ]
  },
  {
   "cell_type": "code",
   "execution_count": 393,
   "id": "6034b64a",
   "metadata": {},
   "outputs": [
    {
     "data": {
      "text/plain": [
       "buying_mode\n",
       "buy_it_now    86439\n",
       "classified     1979\n",
       "auction         691\n",
       "Name: count, dtype: int64"
      ]
     },
     "execution_count": 393,
     "metadata": {},
     "output_type": "execute_result"
    }
   ],
   "source": [
    "X_train_df['buying_mode'].value_counts()"
   ]
  },
  {
   "cell_type": "code",
   "execution_count": 394,
   "id": "347abecd",
   "metadata": {},
   "outputs": [
    {
     "data": {
      "text/plain": [
       "status\n",
       "active            86116\n",
       "paused             2992\n",
       "not_yet_active        1\n",
       "Name: count, dtype: int64"
      ]
     },
     "execution_count": 394,
     "metadata": {},
     "output_type": "execute_result"
    }
   ],
   "source": [
    "X_train_df['status'].value_counts()"
   ]
  },
  {
   "cell_type": "code",
   "execution_count": 395,
   "id": "634d8968",
   "metadata": {},
   "outputs": [],
   "source": [
    "from sklearn.preprocessing import OneHotEncoder\n",
    "\n",
    "# Define the columns to encode\n",
    "categorical_features = ['listing_type_id', 'buying_mode', 'status']\n",
    "\n",
    "# Initialize OneHotEncoder\n",
    "encoder = OneHotEncoder(handle_unknown='ignore', sparse_output=False, drop='first') # drop='first' for multicollinearity\n",
    "\n",
    "# Fit and transform the selected categorical columns\n",
    "encoded_data = encoder.fit_transform(X_train_df[categorical_features])\n",
    "\n",
    "# Get the feature names for the new columns\n",
    "encoded_feature_names = encoder.get_feature_names_out(categorical_features)\n",
    "\n",
    "# Create a DataFrame from the encoded array\n",
    "ecoded_features = pd.DataFrame(encoded_data, columns=encoded_feature_names)\n",
    "\n",
    "# Concatenate with the original DataFrame (dropping the original categorical columns)\n",
    "X_train_transformed_df = pd.concat([X_train_df.drop(columns=categorical_features), ecoded_features], axis=1)"
   ]
  },
  {
   "cell_type": "code",
   "execution_count": 396,
   "id": "30441e25",
   "metadata": {},
   "outputs": [
    {
     "data": {
      "text/html": [
       "<div>\n",
       "<style scoped>\n",
       "    .dataframe tbody tr th:only-of-type {\n",
       "        vertical-align: middle;\n",
       "    }\n",
       "\n",
       "    .dataframe tbody tr th {\n",
       "        vertical-align: top;\n",
       "    }\n",
       "\n",
       "    .dataframe thead th {\n",
       "        text-align: right;\n",
       "    }\n",
       "</style>\n",
       "<table border=\"1\" class=\"dataframe\">\n",
       "  <thead>\n",
       "    <tr style=\"text-align: right;\">\n",
       "      <th></th>\n",
       "      <th>seller_address</th>\n",
       "      <th>warranty</th>\n",
       "      <th>deal_ids</th>\n",
       "      <th>base_price</th>\n",
       "      <th>shipping</th>\n",
       "      <th>non_mercado_pago_payment_methods</th>\n",
       "      <th>seller_id</th>\n",
       "      <th>variations</th>\n",
       "      <th>site_id</th>\n",
       "      <th>price</th>\n",
       "      <th>attributes</th>\n",
       "      <th>tags</th>\n",
       "      <th>parent_item_id</th>\n",
       "      <th>category_id</th>\n",
       "      <th>descriptions</th>\n",
       "      <th>...</th>\n",
       "      <th>start_time</th>\n",
       "      <th>permalink</th>\n",
       "      <th>sold_quantity</th>\n",
       "      <th>available_quantity</th>\n",
       "      <th>is_USD</th>\n",
       "      <th>listing_type_id_free</th>\n",
       "      <th>listing_type_id_gold</th>\n",
       "      <th>listing_type_id_gold_premium</th>\n",
       "      <th>listing_type_id_gold_pro</th>\n",
       "      <th>listing_type_id_gold_special</th>\n",
       "      <th>listing_type_id_silver</th>\n",
       "      <th>buying_mode_buy_it_now</th>\n",
       "      <th>buying_mode_classified</th>\n",
       "      <th>status_not_yet_active</th>\n",
       "      <th>status_paused</th>\n",
       "    </tr>\n",
       "  </thead>\n",
       "  <tbody>\n",
       "    <tr>\n",
       "      <th>59382</th>\n",
       "      <td>{'country': {'name': 'Argentina', 'id': 'AR'},...</td>\n",
       "      <td>None</td>\n",
       "      <td>[]</td>\n",
       "      <td>170.0</td>\n",
       "      <td>{'local_pick_up': True, 'methods': [], 'tags':...</td>\n",
       "      <td>[{'description': 'Transferencia bancaria', 'id...</td>\n",
       "      <td>5.564568e+09</td>\n",
       "      <td>[{'attribute_combinations': [{'value_id': '919...</td>\n",
       "      <td>MLA</td>\n",
       "      <td>170.0</td>\n",
       "      <td>[{'value_id': 'female', 'attribute_group_id': ...</td>\n",
       "      <td>[dragged_bids_and_visits]</td>\n",
       "      <td>MLA9626731095</td>\n",
       "      <td>MLA60500</td>\n",
       "      <td>[{'id': 'MLA4910374920-904861771'}]</td>\n",
       "      <td>...</td>\n",
       "      <td>1.440635e+12</td>\n",
       "      <td>http://articulo.mercadolibre.com.ar/MLA4910374...</td>\n",
       "      <td>0.0</td>\n",
       "      <td>1.0</td>\n",
       "      <td>0.0</td>\n",
       "      <td>0.0</td>\n",
       "      <td>0.0</td>\n",
       "      <td>0.0</td>\n",
       "      <td>0.0</td>\n",
       "      <td>0.0</td>\n",
       "      <td>0.0</td>\n",
       "      <td>1.0</td>\n",
       "      <td>0.0</td>\n",
       "      <td>0.0</td>\n",
       "      <td>0.0</td>\n",
       "    </tr>\n",
       "    <tr>\n",
       "      <th>70275</th>\n",
       "      <td>{'country': {'name': 'Argentina', 'id': 'AR'},...</td>\n",
       "      <td>None</td>\n",
       "      <td>[]</td>\n",
       "      <td>3000.0</td>\n",
       "      <td>{'local_pick_up': False, 'methods': [], 'tags'...</td>\n",
       "      <td>[]</td>\n",
       "      <td>3.849629e+09</td>\n",
       "      <td>[]</td>\n",
       "      <td>MLA</td>\n",
       "      <td>3000.0</td>\n",
       "      <td>[]</td>\n",
       "      <td>[dragged_bids_and_visits]</td>\n",
       "      <td>MLA1060546731</td>\n",
       "      <td>MLA4335</td>\n",
       "      <td>[{'id': 'MLA6912518471-915978469'}]</td>\n",
       "      <td>...</td>\n",
       "      <td>1.441810e+12</td>\n",
       "      <td>http://articulo.mercadolibre.com.ar/MLA6912518...</td>\n",
       "      <td>0.0</td>\n",
       "      <td>1.0</td>\n",
       "      <td>0.0</td>\n",
       "      <td>0.0</td>\n",
       "      <td>0.0</td>\n",
       "      <td>0.0</td>\n",
       "      <td>0.0</td>\n",
       "      <td>1.0</td>\n",
       "      <td>0.0</td>\n",
       "      <td>1.0</td>\n",
       "      <td>0.0</td>\n",
       "      <td>0.0</td>\n",
       "      <td>0.0</td>\n",
       "    </tr>\n",
       "    <tr>\n",
       "      <th>33440</th>\n",
       "      <td>{'country': {'name': 'Argentina', 'id': 'AR'},...</td>\n",
       "      <td>Sí</td>\n",
       "      <td>[]</td>\n",
       "      <td>25.0</td>\n",
       "      <td>{'local_pick_up': True, 'methods': [], 'tags':...</td>\n",
       "      <td>[{'description': 'Transferencia bancaria', 'id...</td>\n",
       "      <td>6.890032e+09</td>\n",
       "      <td>[]</td>\n",
       "      <td>MLA</td>\n",
       "      <td>25.0</td>\n",
       "      <td>[]</td>\n",
       "      <td>[dragged_bids_and_visits]</td>\n",
       "      <td>MLA8466617768</td>\n",
       "      <td>MLA43912</td>\n",
       "      <td>[{'id': 'MLA4211826585-929228352'}]</td>\n",
       "      <td>...</td>\n",
       "      <td>1.443132e+12</td>\n",
       "      <td>http://articulo.mercadolibre.com.ar/MLA4211826...</td>\n",
       "      <td>0.0</td>\n",
       "      <td>1.0</td>\n",
       "      <td>0.0</td>\n",
       "      <td>0.0</td>\n",
       "      <td>0.0</td>\n",
       "      <td>0.0</td>\n",
       "      <td>0.0</td>\n",
       "      <td>0.0</td>\n",
       "      <td>0.0</td>\n",
       "      <td>1.0</td>\n",
       "      <td>0.0</td>\n",
       "      <td>0.0</td>\n",
       "      <td>0.0</td>\n",
       "    </tr>\n",
       "    <tr>\n",
       "      <th>38127</th>\n",
       "      <td>{'country': {'name': 'Argentina', 'id': 'AR'},...</td>\n",
       "      <td>None</td>\n",
       "      <td>[]</td>\n",
       "      <td>120.0</td>\n",
       "      <td>{'local_pick_up': False, 'methods': [], 'tags'...</td>\n",
       "      <td>[]</td>\n",
       "      <td>3.540144e+09</td>\n",
       "      <td>[]</td>\n",
       "      <td>MLA</td>\n",
       "      <td>120.0</td>\n",
       "      <td>[]</td>\n",
       "      <td>[]</td>\n",
       "      <td>None</td>\n",
       "      <td>MLA82437</td>\n",
       "      <td>[{'id': 'MLA2878328871-924789132'}]</td>\n",
       "      <td>...</td>\n",
       "      <td>1.442691e+12</td>\n",
       "      <td>http://articulo.mercadolibre.com.ar/MLA2878328...</td>\n",
       "      <td>0.0</td>\n",
       "      <td>1.0</td>\n",
       "      <td>0.0</td>\n",
       "      <td>1.0</td>\n",
       "      <td>0.0</td>\n",
       "      <td>0.0</td>\n",
       "      <td>0.0</td>\n",
       "      <td>0.0</td>\n",
       "      <td>0.0</td>\n",
       "      <td>1.0</td>\n",
       "      <td>0.0</td>\n",
       "      <td>0.0</td>\n",
       "      <td>0.0</td>\n",
       "    </tr>\n",
       "    <tr>\n",
       "      <th>3903</th>\n",
       "      <td>{'country': {'name': 'Argentina', 'id': 'AR'},...</td>\n",
       "      <td>None</td>\n",
       "      <td>[]</td>\n",
       "      <td>200.0</td>\n",
       "      <td>{'local_pick_up': False, 'methods': [], 'tags'...</td>\n",
       "      <td>[{'description': 'Transferencia bancaria', 'id...</td>\n",
       "      <td>1.896514e+09</td>\n",
       "      <td>[]</td>\n",
       "      <td>MLA</td>\n",
       "      <td>200.0</td>\n",
       "      <td>[]</td>\n",
       "      <td>[dragged_bids_and_visits]</td>\n",
       "      <td>MLA5846724796</td>\n",
       "      <td>MLA15188</td>\n",
       "      <td>[]</td>\n",
       "      <td>...</td>\n",
       "      <td>1.443185e+12</td>\n",
       "      <td>http://articulo.mercadolibre.com.ar/MLA9508625...</td>\n",
       "      <td>0.0</td>\n",
       "      <td>1.0</td>\n",
       "      <td>0.0</td>\n",
       "      <td>0.0</td>\n",
       "      <td>0.0</td>\n",
       "      <td>0.0</td>\n",
       "      <td>0.0</td>\n",
       "      <td>0.0</td>\n",
       "      <td>0.0</td>\n",
       "      <td>1.0</td>\n",
       "      <td>0.0</td>\n",
       "      <td>0.0</td>\n",
       "      <td>1.0</td>\n",
       "    </tr>\n",
       "  </tbody>\n",
       "</table>\n",
       "<p>5 rows × 45 columns</p>\n",
       "</div>"
      ],
      "text/plain": [
       "                                          seller_address warranty deal_ids  \\\n",
       "59382  {'country': {'name': 'Argentina', 'id': 'AR'},...     None       []   \n",
       "70275  {'country': {'name': 'Argentina', 'id': 'AR'},...     None       []   \n",
       "33440  {'country': {'name': 'Argentina', 'id': 'AR'},...       Sí       []   \n",
       "38127  {'country': {'name': 'Argentina', 'id': 'AR'},...     None       []   \n",
       "3903   {'country': {'name': 'Argentina', 'id': 'AR'},...     None       []   \n",
       "\n",
       "       base_price                                           shipping  \\\n",
       "59382       170.0  {'local_pick_up': True, 'methods': [], 'tags':...   \n",
       "70275      3000.0  {'local_pick_up': False, 'methods': [], 'tags'...   \n",
       "33440        25.0  {'local_pick_up': True, 'methods': [], 'tags':...   \n",
       "38127       120.0  {'local_pick_up': False, 'methods': [], 'tags'...   \n",
       "3903        200.0  {'local_pick_up': False, 'methods': [], 'tags'...   \n",
       "\n",
       "                        non_mercado_pago_payment_methods     seller_id  \\\n",
       "59382  [{'description': 'Transferencia bancaria', 'id...  5.564568e+09   \n",
       "70275                                                 []  3.849629e+09   \n",
       "33440  [{'description': 'Transferencia bancaria', 'id...  6.890032e+09   \n",
       "38127                                                 []  3.540144e+09   \n",
       "3903   [{'description': 'Transferencia bancaria', 'id...  1.896514e+09   \n",
       "\n",
       "                                              variations site_id   price  \\\n",
       "59382  [{'attribute_combinations': [{'value_id': '919...     MLA   170.0   \n",
       "70275                                                 []     MLA  3000.0   \n",
       "33440                                                 []     MLA    25.0   \n",
       "38127                                                 []     MLA   120.0   \n",
       "3903                                                  []     MLA   200.0   \n",
       "\n",
       "                                              attributes  \\\n",
       "59382  [{'value_id': 'female', 'attribute_group_id': ...   \n",
       "70275                                                 []   \n",
       "33440                                                 []   \n",
       "38127                                                 []   \n",
       "3903                                                  []   \n",
       "\n",
       "                            tags parent_item_id category_id  \\\n",
       "59382  [dragged_bids_and_visits]  MLA9626731095    MLA60500   \n",
       "70275  [dragged_bids_and_visits]  MLA1060546731     MLA4335   \n",
       "33440  [dragged_bids_and_visits]  MLA8466617768    MLA43912   \n",
       "38127                         []           None    MLA82437   \n",
       "3903   [dragged_bids_and_visits]  MLA5846724796    MLA15188   \n",
       "\n",
       "                              descriptions  ...    start_time  \\\n",
       "59382  [{'id': 'MLA4910374920-904861771'}]  ...  1.440635e+12   \n",
       "70275  [{'id': 'MLA6912518471-915978469'}]  ...  1.441810e+12   \n",
       "33440  [{'id': 'MLA4211826585-929228352'}]  ...  1.443132e+12   \n",
       "38127  [{'id': 'MLA2878328871-924789132'}]  ...  1.442691e+12   \n",
       "3903                                    []  ...  1.443185e+12   \n",
       "\n",
       "                                               permalink sold_quantity  \\\n",
       "59382  http://articulo.mercadolibre.com.ar/MLA4910374...           0.0   \n",
       "70275  http://articulo.mercadolibre.com.ar/MLA6912518...           0.0   \n",
       "33440  http://articulo.mercadolibre.com.ar/MLA4211826...           0.0   \n",
       "38127  http://articulo.mercadolibre.com.ar/MLA2878328...           0.0   \n",
       "3903   http://articulo.mercadolibre.com.ar/MLA9508625...           0.0   \n",
       "\n",
       "       available_quantity  is_USD  listing_type_id_free listing_type_id_gold  \\\n",
       "59382                 1.0     0.0                   0.0                  0.0   \n",
       "70275                 1.0     0.0                   0.0                  0.0   \n",
       "33440                 1.0     0.0                   0.0                  0.0   \n",
       "38127                 1.0     0.0                   1.0                  0.0   \n",
       "3903                  1.0     0.0                   0.0                  0.0   \n",
       "\n",
       "      listing_type_id_gold_premium  listing_type_id_gold_pro  \\\n",
       "59382                          0.0                       0.0   \n",
       "70275                          0.0                       0.0   \n",
       "33440                          0.0                       0.0   \n",
       "38127                          0.0                       0.0   \n",
       "3903                           0.0                       0.0   \n",
       "\n",
       "      listing_type_id_gold_special listing_type_id_silver  \\\n",
       "59382                          0.0                    0.0   \n",
       "70275                          1.0                    0.0   \n",
       "33440                          0.0                    0.0   \n",
       "38127                          0.0                    0.0   \n",
       "3903                           0.0                    0.0   \n",
       "\n",
       "       buying_mode_buy_it_now buying_mode_classified  status_not_yet_active  \\\n",
       "59382                     1.0                    0.0                    0.0   \n",
       "70275                     1.0                    0.0                    0.0   \n",
       "33440                     1.0                    0.0                    0.0   \n",
       "38127                     1.0                    0.0                    0.0   \n",
       "3903                      1.0                    0.0                    0.0   \n",
       "\n",
       "       status_paused  \n",
       "59382            0.0  \n",
       "70275            0.0  \n",
       "33440            0.0  \n",
       "38127            0.0  \n",
       "3903             1.0  \n",
       "\n",
       "[5 rows x 45 columns]"
      ]
     },
     "execution_count": 396,
     "metadata": {},
     "output_type": "execute_result"
    }
   ],
   "source": [
    "X_train_transformed_df.sample(5)  # Display a sample of the transformed training data"
   ]
  },
  {
   "cell_type": "markdown",
   "id": "5641cfed",
   "metadata": {},
   "source": [
    "## Final result"
   ]
  },
  {
   "cell_type": "code",
   "execution_count": 397,
   "id": "548eaada",
   "metadata": {},
   "outputs": [
    {
     "name": "stdout",
     "output_type": "stream",
     "text": [
      "Number of features:\n",
      " - Before transformations: 38\n",
      " - After transformations: 45\n",
      "Increase of 7 features (18.42%)\n"
     ]
    }
   ],
   "source": [
    "before_len = len(X_train_df.columns)\n",
    "after_len = len(X_train_transformed_df.columns)\n",
    "dif_len = after_len - before_len\n",
    "print(\"Number of features:\")\n",
    "print(f\" - Before transformations: {before_len}\")\n",
    "print(f\" - After transformations: {after_len}\")\n",
    "print(f\"Increase of {dif_len} features ({(dif_len/before_len):.2%})\")"
   ]
  },
  {
   "cell_type": "markdown",
   "id": "e6c8f9ce",
   "metadata": {},
   "source": [
    "# 3. Feature Selection"
   ]
  },
  {
   "cell_type": "code",
   "execution_count": 398,
   "id": "d2290c9f",
   "metadata": {},
   "outputs": [],
   "source": [
    "# Store all features in a list\n",
    "features = X_train_transformed_df.columns.tolist()"
   ]
  },
  {
   "cell_type": "markdown",
   "id": "2d71c8af",
   "metadata": {},
   "source": [
    "During missing values analysis it was noticed that these variables were problematic:\n",
    "`site_id`,`video_id`, `official_store_id`, `original_price`, `catalog_product_id`,`deal_ids`"
   ]
  },
  {
   "cell_type": "code",
   "execution_count": 399,
   "id": "ab6b61a4",
   "metadata": {},
   "outputs": [],
   "source": [
    "# As it was stated before, ID variables will be ignored during feature selection.\n",
    "# Also, time-related and tags variables won't be used.\n",
    "id_variables = ['id', 'parent_item_id', 'official_store_id', 'category_id', 'site_id', 'video_id', 'catalog_product_id', 'deal_ids', 'seller_id', 'descriptions']\n",
    "time_variables = ['start_time', 'stop_time', 'date_created', 'last_updated']\n",
    "tag_variables = ['tags', 'variations', 'shipping', 'attributes', 'non_mercado_pago_payment_methods']\n",
    "post_related_variables = ['title', 'permalink', 'secure_thumbnail', 'thumbnail', 'pictures'] "
   ]
  },
  {
   "cell_type": "code",
   "execution_count": 400,
   "id": "ce9a225c",
   "metadata": {},
   "outputs": [
    {
     "name": "stdout",
     "output_type": "stream",
     "text": [
      "Selected features (15):\n"
     ]
    },
    {
     "data": {
      "text/plain": [
       "\"['price', 'accepts_mercadopago', 'automatic_relist', 'initial_quantity', 'is_USD', 'listing_type_id_free', 'listing_type_id_gold', 'listing_type_id_gold_premium', 'listing_type_id_gold_pro', 'listing_type_id_gold_special', 'listing_type_id_silver', 'buying_mode_buy_it_now', 'buying_mode_classified', 'status_not_yet_active', 'status_paused']\""
      ]
     },
     "execution_count": 400,
     "metadata": {},
     "output_type": "execute_result"
    }
   ],
   "source": [
    "# Remove specific features that are not needed for the analysis\n",
    "[features.remove(x) for x in (id_variables + time_variables + tag_variables + post_related_variables)]\n",
    "\n",
    "# Remove other specific features that are not relevant for the analysis\n",
    "other_features = ['original_price', 'base_price', 'warranty', 'seller_address', 'sold_quantity', 'available_quantity']\n",
    "[features.remove(x) for x in other_features]\n",
    "\n",
    "# Show the selected features\n",
    "print(f\"Selected features ({len(features)}):\")\n",
    "str(features)"
   ]
  },
  {
   "cell_type": "markdown",
   "id": "cba9f35e",
   "metadata": {},
   "source": [
    "**Criteria:**\n",
    "* **Highly correlated features:**\n",
    "    * **Quantity:** Only `initial_quantity` will be used. The hypothesis is that it could serve to differentiate brand-new items because usually there are more than one available.\n",
    "    * **Price:** Only `price` will be used.\n",
    "* **Unrelated features:**\n",
    "    * Seller address is not relevant for our target.\n",
    "    * Warranty has a lot of missing values, and there is a lot of diversity of arbitrary values; it's difficult to extract useful information from this feature.\n",
    "    * Post-related features."
   ]
  },
  {
   "cell_type": "code",
   "execution_count": 401,
   "id": "cec79bab",
   "metadata": {},
   "outputs": [
    {
     "data": {
      "text/plain": [
       "Index(['price', 'accepts_mercadopago', 'automatic_relist', 'initial_quantity',\n",
       "       'is_USD', 'listing_type_id_free', 'listing_type_id_gold',\n",
       "       'listing_type_id_gold_premium', 'listing_type_id_gold_pro',\n",
       "       'listing_type_id_gold_special', 'listing_type_id_silver',\n",
       "       'buying_mode_buy_it_now', 'buying_mode_classified',\n",
       "       'status_not_yet_active', 'status_paused'],\n",
       "      dtype='object')"
      ]
     },
     "execution_count": 401,
     "metadata": {},
     "output_type": "execute_result"
    }
   ],
   "source": [
    "X_train_transformed_df[features].columns"
   ]
  },
  {
   "cell_type": "markdown",
   "id": "100338a2",
   "metadata": {},
   "source": [
    "### Dype Optimization\n",
    "Every variable will be transformed to its optimal size based on its content, minimizing storage, processing, and training."
   ]
  },
  {
   "cell_type": "code",
   "execution_count": 402,
   "id": "430314bb",
   "metadata": {},
   "outputs": [
    {
     "name": "stdout",
     "output_type": "stream",
     "text": [
      "<class 'pandas.core.frame.DataFrame'>\n",
      "Index: 89990 entries, 0 to 89095\n",
      "Data columns (total 15 columns):\n",
      " #   Column                        Non-Null Count  Dtype  \n",
      "---  ------                        --------------  -----  \n",
      " 0   price                         89109 non-null  float64\n",
      " 1   accepts_mercadopago           89109 non-null  float64\n",
      " 2   automatic_relist              89109 non-null  float64\n",
      " 3   initial_quantity              89109 non-null  float64\n",
      " 4   is_USD                        89109 non-null  float64\n",
      " 5   listing_type_id_free          89109 non-null  float64\n",
      " 6   listing_type_id_gold          89109 non-null  float64\n",
      " 7   listing_type_id_gold_premium  89109 non-null  float64\n",
      " 8   listing_type_id_gold_pro      89109 non-null  float64\n",
      " 9   listing_type_id_gold_special  89109 non-null  float64\n",
      " 10  listing_type_id_silver        89109 non-null  float64\n",
      " 11  buying_mode_buy_it_now        89109 non-null  float64\n",
      " 12  buying_mode_classified        89109 non-null  float64\n",
      " 13  status_not_yet_active         89109 non-null  float64\n",
      " 14  status_paused                 89109 non-null  float64\n",
      "dtypes: float64(15)\n",
      "memory usage: 11.0 MB\n"
     ]
    }
   ],
   "source": [
    "X_train_transformed_df[features].info()"
   ]
  },
  {
   "cell_type": "code",
   "execution_count": 403,
   "id": "d99d7298",
   "metadata": {},
   "outputs": [
    {
     "name": "stdout",
     "output_type": "stream",
     "text": [
      "                              Min_Value     Max_Value\n",
      "price                              0.84  2.222222e+09\n",
      "accepts_mercadopago                0.00  1.000000e+00\n",
      "automatic_relist                   0.00  1.000000e+00\n",
      "initial_quantity                   1.00  9.999000e+03\n",
      "is_USD                             0.00  1.000000e+00\n",
      "listing_type_id_free               0.00  1.000000e+00\n",
      "listing_type_id_gold               0.00  1.000000e+00\n",
      "listing_type_id_gold_premium       0.00  1.000000e+00\n",
      "listing_type_id_gold_pro           0.00  1.000000e+00\n",
      "listing_type_id_gold_special       0.00  1.000000e+00\n",
      "listing_type_id_silver             0.00  1.000000e+00\n",
      "buying_mode_buy_it_now             0.00  1.000000e+00\n",
      "buying_mode_classified             0.00  1.000000e+00\n",
      "status_not_yet_active              0.00  1.000000e+00\n",
      "status_paused                      0.00  1.000000e+00\n"
     ]
    }
   ],
   "source": [
    "df = X_train_transformed_df[features].copy()\n",
    "\n",
    "# Select only numerical columns\n",
    "numerical_features = df.select_dtypes(include=[np.number]).columns\n",
    "\n",
    "min_max_values = pd.DataFrame(columns=['Min_Value', 'Max_Value'])\n",
    "\n",
    "for col in numerical_features:\n",
    "    min_val = df[col].min()\n",
    "    max_val = df[col].max()\n",
    "    min_max_values.loc[col] = [min_val, max_val]\n",
    "\n",
    "print(min_max_values)"
   ]
  },
  {
   "cell_type": "markdown",
   "id": "a1e627ff",
   "metadata": {},
   "source": [
    "All are unsigned integers:\n",
    "- For bool-type lower variable will be used (uint8).\n",
    "- For `initial_quantity` 'int32' will be enough.\n",
    "- For `price` 'int64' will be needed."
   ]
  },
  {
   "cell_type": "code",
   "execution_count": null,
   "id": "95649924",
   "metadata": {},
   "outputs": [
    {
     "data": {
      "text/plain": [
       "seller_address              881\n",
       "warranty                  55100\n",
       "deal_ids                    881\n",
       "base_price                  881\n",
       "shipping                    881\n",
       "                          ...  \n",
       "listing_type_id_silver      881\n",
       "buying_mode_buy_it_now      881\n",
       "buying_mode_classified      881\n",
       "status_not_yet_active       881\n",
       "status_paused               881\n",
       "Length: 45, dtype: int64"
      ]
     },
     "execution_count": 375,
     "metadata": {},
     "output_type": "execute_result"
    }
   ],
   "source": [
    "X_train_transformed_df.isnull().sum()"
   ]
  },
  {
   "cell_type": "code",
   "execution_count": 406,
   "id": "f5ea0ee3",
   "metadata": {},
   "outputs": [],
   "source": [
    "bool_features = features\n",
    "bool_features.remove('price')\n",
    "bool_features.remove('initial_quantity')"
   ]
  },
  {
   "cell_type": "code",
   "execution_count": 407,
   "id": "98a0ee61",
   "metadata": {},
   "outputs": [
    {
     "name": "stdout",
     "output_type": "stream",
     "text": [
      "<class 'pandas.core.frame.DataFrame'>\n",
      "Index: 89990 entries, 0 to 89095\n",
      "Data columns (total 13 columns):\n",
      " #   Column                        Non-Null Count  Dtype  \n",
      "---  ------                        --------------  -----  \n",
      " 0   accepts_mercadopago           89109 non-null  float64\n",
      " 1   automatic_relist              89109 non-null  float64\n",
      " 2   is_USD                        89109 non-null  float64\n",
      " 3   listing_type_id_free          89109 non-null  float64\n",
      " 4   listing_type_id_gold          89109 non-null  float64\n",
      " 5   listing_type_id_gold_premium  89109 non-null  float64\n",
      " 6   listing_type_id_gold_pro      89109 non-null  float64\n",
      " 7   listing_type_id_gold_special  89109 non-null  float64\n",
      " 8   listing_type_id_silver        89109 non-null  float64\n",
      " 9   buying_mode_buy_it_now        89109 non-null  float64\n",
      " 10  buying_mode_classified        89109 non-null  float64\n",
      " 11  status_not_yet_active         89109 non-null  float64\n",
      " 12  status_paused                 89109 non-null  float64\n",
      "dtypes: float64(13)\n",
      "memory usage: 9.6 MB\n"
     ]
    }
   ],
   "source": [
    "X_train_transformed_df[features].info()"
   ]
  },
  {
   "cell_type": "code",
   "execution_count": 408,
   "id": "2dc85850",
   "metadata": {},
   "outputs": [],
   "source": [
    "optimized_df = X_train_transformed_df[features].copy()\n",
    "\n",
    "for col in optimized_df.columns:\n",
    "        optimized_df[col] = pd.to_numeric(optimized_df[col], downcast='integer')"
   ]
  },
  {
   "cell_type": "code",
   "execution_count": 409,
   "id": "3d9c25eb",
   "metadata": {},
   "outputs": [
    {
     "name": "stdout",
     "output_type": "stream",
     "text": [
      "<class 'pandas.core.frame.DataFrame'>\n",
      "Index: 89990 entries, 0 to 89095\n",
      "Data columns (total 13 columns):\n",
      " #   Column                        Non-Null Count  Dtype  \n",
      "---  ------                        --------------  -----  \n",
      " 0   accepts_mercadopago           89109 non-null  float64\n",
      " 1   automatic_relist              89109 non-null  float64\n",
      " 2   is_USD                        89109 non-null  float64\n",
      " 3   listing_type_id_free          89109 non-null  float64\n",
      " 4   listing_type_id_gold          89109 non-null  float64\n",
      " 5   listing_type_id_gold_premium  89109 non-null  float64\n",
      " 6   listing_type_id_gold_pro      89109 non-null  float64\n",
      " 7   listing_type_id_gold_special  89109 non-null  float64\n",
      " 8   listing_type_id_silver        89109 non-null  float64\n",
      " 9   buying_mode_buy_it_now        89109 non-null  float64\n",
      " 10  buying_mode_classified        89109 non-null  float64\n",
      " 11  status_not_yet_active         89109 non-null  float64\n",
      " 12  status_paused                 89109 non-null  float64\n",
      "dtypes: float64(13)\n",
      "memory usage: 9.6 MB\n"
     ]
    }
   ],
   "source": [
    "optimized_df.info()"
   ]
  },
  {
   "cell_type": "code",
   "execution_count": 410,
   "id": "ecff2b15",
   "metadata": {},
   "outputs": [
    {
     "data": {
      "text/html": [
       "<div>\n",
       "<style scoped>\n",
       "    .dataframe tbody tr th:only-of-type {\n",
       "        vertical-align: middle;\n",
       "    }\n",
       "\n",
       "    .dataframe tbody tr th {\n",
       "        vertical-align: top;\n",
       "    }\n",
       "\n",
       "    .dataframe thead th {\n",
       "        text-align: right;\n",
       "    }\n",
       "</style>\n",
       "<table border=\"1\" class=\"dataframe\">\n",
       "  <thead>\n",
       "    <tr style=\"text-align: right;\">\n",
       "      <th></th>\n",
       "      <th>accepts_mercadopago</th>\n",
       "      <th>automatic_relist</th>\n",
       "      <th>is_USD</th>\n",
       "      <th>listing_type_id_free</th>\n",
       "      <th>listing_type_id_gold</th>\n",
       "      <th>listing_type_id_gold_premium</th>\n",
       "      <th>listing_type_id_gold_pro</th>\n",
       "      <th>listing_type_id_gold_special</th>\n",
       "      <th>listing_type_id_silver</th>\n",
       "      <th>buying_mode_buy_it_now</th>\n",
       "      <th>buying_mode_classified</th>\n",
       "      <th>status_not_yet_active</th>\n",
       "      <th>status_paused</th>\n",
       "    </tr>\n",
       "  </thead>\n",
       "  <tbody>\n",
       "    <tr>\n",
       "      <th>count</th>\n",
       "      <td>89109.000000</td>\n",
       "      <td>89109.000000</td>\n",
       "      <td>89109.000000</td>\n",
       "      <td>89109.000000</td>\n",
       "      <td>89109.000000</td>\n",
       "      <td>89109.000000</td>\n",
       "      <td>89109.000000</td>\n",
       "      <td>89109.000000</td>\n",
       "      <td>89109.000000</td>\n",
       "      <td>89109.000000</td>\n",
       "      <td>89109.000000</td>\n",
       "      <td>89109.000000</td>\n",
       "      <td>89109.000000</td>\n",
       "    </tr>\n",
       "    <tr>\n",
       "      <th>mean</th>\n",
       "      <td>0.977791</td>\n",
       "      <td>0.047212</td>\n",
       "      <td>0.005656</td>\n",
       "      <td>0.214782</td>\n",
       "      <td>0.024307</td>\n",
       "      <td>0.008585</td>\n",
       "      <td>0.000146</td>\n",
       "      <td>0.030188</td>\n",
       "      <td>0.091506</td>\n",
       "      <td>0.970037</td>\n",
       "      <td>0.022209</td>\n",
       "      <td>0.000011</td>\n",
       "      <td>0.033577</td>\n",
       "    </tr>\n",
       "    <tr>\n",
       "      <th>std</th>\n",
       "      <td>0.147363</td>\n",
       "      <td>0.212093</td>\n",
       "      <td>0.074994</td>\n",
       "      <td>0.410673</td>\n",
       "      <td>0.154002</td>\n",
       "      <td>0.092257</td>\n",
       "      <td>0.012078</td>\n",
       "      <td>0.171105</td>\n",
       "      <td>0.288329</td>\n",
       "      <td>0.170487</td>\n",
       "      <td>0.147363</td>\n",
       "      <td>0.003350</td>\n",
       "      <td>0.180138</td>\n",
       "    </tr>\n",
       "    <tr>\n",
       "      <th>min</th>\n",
       "      <td>0.000000</td>\n",
       "      <td>0.000000</td>\n",
       "      <td>0.000000</td>\n",
       "      <td>0.000000</td>\n",
       "      <td>0.000000</td>\n",
       "      <td>0.000000</td>\n",
       "      <td>0.000000</td>\n",
       "      <td>0.000000</td>\n",
       "      <td>0.000000</td>\n",
       "      <td>0.000000</td>\n",
       "      <td>0.000000</td>\n",
       "      <td>0.000000</td>\n",
       "      <td>0.000000</td>\n",
       "    </tr>\n",
       "    <tr>\n",
       "      <th>25%</th>\n",
       "      <td>1.000000</td>\n",
       "      <td>0.000000</td>\n",
       "      <td>0.000000</td>\n",
       "      <td>0.000000</td>\n",
       "      <td>0.000000</td>\n",
       "      <td>0.000000</td>\n",
       "      <td>0.000000</td>\n",
       "      <td>0.000000</td>\n",
       "      <td>0.000000</td>\n",
       "      <td>1.000000</td>\n",
       "      <td>0.000000</td>\n",
       "      <td>0.000000</td>\n",
       "      <td>0.000000</td>\n",
       "    </tr>\n",
       "    <tr>\n",
       "      <th>50%</th>\n",
       "      <td>1.000000</td>\n",
       "      <td>0.000000</td>\n",
       "      <td>0.000000</td>\n",
       "      <td>0.000000</td>\n",
       "      <td>0.000000</td>\n",
       "      <td>0.000000</td>\n",
       "      <td>0.000000</td>\n",
       "      <td>0.000000</td>\n",
       "      <td>0.000000</td>\n",
       "      <td>1.000000</td>\n",
       "      <td>0.000000</td>\n",
       "      <td>0.000000</td>\n",
       "      <td>0.000000</td>\n",
       "    </tr>\n",
       "    <tr>\n",
       "      <th>75%</th>\n",
       "      <td>1.000000</td>\n",
       "      <td>0.000000</td>\n",
       "      <td>0.000000</td>\n",
       "      <td>0.000000</td>\n",
       "      <td>0.000000</td>\n",
       "      <td>0.000000</td>\n",
       "      <td>0.000000</td>\n",
       "      <td>0.000000</td>\n",
       "      <td>0.000000</td>\n",
       "      <td>1.000000</td>\n",
       "      <td>0.000000</td>\n",
       "      <td>0.000000</td>\n",
       "      <td>0.000000</td>\n",
       "    </tr>\n",
       "    <tr>\n",
       "      <th>max</th>\n",
       "      <td>1.000000</td>\n",
       "      <td>1.000000</td>\n",
       "      <td>1.000000</td>\n",
       "      <td>1.000000</td>\n",
       "      <td>1.000000</td>\n",
       "      <td>1.000000</td>\n",
       "      <td>1.000000</td>\n",
       "      <td>1.000000</td>\n",
       "      <td>1.000000</td>\n",
       "      <td>1.000000</td>\n",
       "      <td>1.000000</td>\n",
       "      <td>1.000000</td>\n",
       "      <td>1.000000</td>\n",
       "    </tr>\n",
       "  </tbody>\n",
       "</table>\n",
       "</div>"
      ],
      "text/plain": [
       "       accepts_mercadopago  automatic_relist        is_USD  \\\n",
       "count         89109.000000      89109.000000  89109.000000   \n",
       "mean              0.977791          0.047212      0.005656   \n",
       "std               0.147363          0.212093      0.074994   \n",
       "min               0.000000          0.000000      0.000000   \n",
       "25%               1.000000          0.000000      0.000000   \n",
       "50%               1.000000          0.000000      0.000000   \n",
       "75%               1.000000          0.000000      0.000000   \n",
       "max               1.000000          1.000000      1.000000   \n",
       "\n",
       "       listing_type_id_free  listing_type_id_gold  \\\n",
       "count          89109.000000          89109.000000   \n",
       "mean               0.214782              0.024307   \n",
       "std                0.410673              0.154002   \n",
       "min                0.000000              0.000000   \n",
       "25%                0.000000              0.000000   \n",
       "50%                0.000000              0.000000   \n",
       "75%                0.000000              0.000000   \n",
       "max                1.000000              1.000000   \n",
       "\n",
       "       listing_type_id_gold_premium  listing_type_id_gold_pro  \\\n",
       "count                  89109.000000              89109.000000   \n",
       "mean                       0.008585                  0.000146   \n",
       "std                        0.092257                  0.012078   \n",
       "min                        0.000000                  0.000000   \n",
       "25%                        0.000000                  0.000000   \n",
       "50%                        0.000000                  0.000000   \n",
       "75%                        0.000000                  0.000000   \n",
       "max                        1.000000                  1.000000   \n",
       "\n",
       "       listing_type_id_gold_special  listing_type_id_silver  \\\n",
       "count                  89109.000000            89109.000000   \n",
       "mean                       0.030188                0.091506   \n",
       "std                        0.171105                0.288329   \n",
       "min                        0.000000                0.000000   \n",
       "25%                        0.000000                0.000000   \n",
       "50%                        0.000000                0.000000   \n",
       "75%                        0.000000                0.000000   \n",
       "max                        1.000000                1.000000   \n",
       "\n",
       "       buying_mode_buy_it_now  buying_mode_classified  status_not_yet_active  \\\n",
       "count            89109.000000            89109.000000           89109.000000   \n",
       "mean                 0.970037                0.022209               0.000011   \n",
       "std                  0.170487                0.147363               0.003350   \n",
       "min                  0.000000                0.000000               0.000000   \n",
       "25%                  1.000000                0.000000               0.000000   \n",
       "50%                  1.000000                0.000000               0.000000   \n",
       "75%                  1.000000                0.000000               0.000000   \n",
       "max                  1.000000                1.000000               1.000000   \n",
       "\n",
       "       status_paused  \n",
       "count   89109.000000  \n",
       "mean        0.033577  \n",
       "std         0.180138  \n",
       "min         0.000000  \n",
       "25%         0.000000  \n",
       "50%         0.000000  \n",
       "75%         0.000000  \n",
       "max         1.000000  "
      ]
     },
     "execution_count": 410,
     "metadata": {},
     "output_type": "execute_result"
    }
   ],
   "source": [
    "X_train_transformed_df[features].describe()"
   ]
  },
  {
   "cell_type": "markdown",
   "id": "3d917a89",
   "metadata": {},
   "source": [
    "---\n",
    "---"
   ]
  },
  {
   "cell_type": "markdown",
   "id": "26ec49e0",
   "metadata": {},
   "source": [
    "# 4. Features visualization"
   ]
  },
  {
   "cell_type": "markdown",
   "id": "643b838d",
   "metadata": {},
   "source": [
    "### Predictiveness"
   ]
  },
  {
   "cell_type": "code",
   "execution_count": 411,
   "id": "0fa01cdb",
   "metadata": {},
   "outputs": [
    {
     "name": "stdout",
     "output_type": "stream",
     "text": [
      "Numerical features for filtering:\n",
      "['accepts_mercadopago', 'automatic_relist', 'is_USD', 'listing_type_id_free', 'listing_type_id_gold', 'listing_type_id_gold_premium', 'listing_type_id_gold_pro', 'listing_type_id_gold_special', 'listing_type_id_silver', 'buying_mode_buy_it_now', 'buying_mode_classified', 'status_not_yet_active', 'status_paused']\n"
     ]
    }
   ],
   "source": [
    "# Get the numerical columns\n",
    "numerical_features = X_train_transformed_df[features].select_dtypes(include=['number','bool']).columns.tolist()\n",
    "\n",
    "print(\"Numerical features for filtering:\")\n",
    "print(numerical_features)"
   ]
  },
  {
   "cell_type": "code",
   "execution_count": 412,
   "id": "db8f53c5",
   "metadata": {},
   "outputs": [
    {
     "name": "stdout",
     "output_type": "stream",
     "text": [
      "CORRELATION\n"
     ]
    },
    {
     "data": {
      "text/plain": [
       "listing_type_id_silver          0.168811\n",
       "listing_type_id_gold_special    0.156955\n",
       "listing_type_id_gold            0.102546\n",
       "buying_mode_buy_it_now          0.099804\n",
       "original_price                  0.078787\n",
       "                                  ...   \n",
       "stop_time                      -0.005523\n",
       "seller_id                      -0.007380\n",
       "official_store_id              -0.019184\n",
       "buying_mode_classified         -0.092842\n",
       "listing_type_id_free           -0.485303\n",
       "Name: target_encoded, Length: 24, dtype: float64"
      ]
     },
     "execution_count": 412,
     "metadata": {},
     "output_type": "execute_result"
    }
   ],
   "source": [
    "# Join X_train_transformed_df with y_train_df for correlation analysis\n",
    "df_corr = X_train_transformed_df.copy()\n",
    "df_corr['target'] = y_train_df.reset_index(drop=True)\n",
    "\n",
    "# If 'target' is categorical, encode it for correlation calculation\n",
    "df_corr['target_encoded'] = (df_corr['target'] == 'new').astype(int)\n",
    "\n",
    "# Compute correlation with the target\n",
    "print(\"CORRELATION\")\n",
    "correlations = df_corr.corr(numeric_only=True)['target_encoded'].sort_values(ascending=False)\n",
    "correlations[1:]  # Exclude the target itself from the results"
   ]
  },
  {
   "cell_type": "code",
   "execution_count": 413,
   "id": "3e5e05cf",
   "metadata": {},
   "outputs": [
    {
     "name": "stdout",
     "output_type": "stream",
     "text": [
      "PREDICTIVENESS\n"
     ]
    },
    {
     "data": {
      "text/plain": [
       "listing_type_id_free            0.485303\n",
       "listing_type_id_silver          0.168811\n",
       "listing_type_id_gold_special    0.156955\n",
       "listing_type_id_gold            0.102546\n",
       "buying_mode_buy_it_now          0.099804\n",
       "                                  ...   \n",
       "available_quantity              0.001577\n",
       "accepts_mercadopago             0.001256\n",
       "listing_type_id_gold_premium    0.001252\n",
       "start_time                      0.000507\n",
       "sold_quantity                   0.000484\n",
       "Name: target_encoded, Length: 24, dtype: float64"
      ]
     },
     "execution_count": 413,
     "metadata": {},
     "output_type": "execute_result"
    }
   ],
   "source": [
    "print(\"PREDICTIVENESS\")\n",
    "predictiveness = abs(correlations[1:]).sort_values(ascending=False)\n",
    "predictiveness"
   ]
  },
  {
   "cell_type": "code",
   "execution_count": 414,
   "id": "f9ccff91",
   "metadata": {},
   "outputs": [
    {
     "name": "stdout",
     "output_type": "stream",
     "text": [
      "Best predictor for 'new' items is 'listing_type_id_free', while worst is 'sold_quantity'\n"
     ]
    }
   ],
   "source": [
    "print(f\"Best predictor for 'new' items is '{predictiveness.idxmax()}', while worst is '{predictiveness.idxmin()}'\")"
   ]
  },
  {
   "cell_type": "markdown",
   "id": "1ba94afb",
   "metadata": {},
   "source": [
    "It's evident that there's a clear correlation between 'free' seller-users (who mostly sell used items) and paying sellers (actual businesses offering new items). Interestingly, the **'gold_premium' tier is not a good predictor.**"
   ]
  },
  {
   "cell_type": "code",
   "execution_count": 415,
   "id": "c59d0d71",
   "metadata": {},
   "outputs": [],
   "source": [
    "df_corr.drop(columns=['target'], inplace=True)  # Ensure 'target_encoded' is not in df_corr before adding it"
   ]
  },
  {
   "cell_type": "code",
   "execution_count": 416,
   "id": "fed4ca2a",
   "metadata": {},
   "outputs": [
    {
     "data": {
      "image/png": "[encoded data removed]",
      "text/plain": [
       "<Figure size 1000x800 with 2 Axes>"
      ]
     },
     "metadata": {},
     "output_type": "display_data"
    }
   ],
   "source": [
    "# Compute correlation matrix for numerical features\n",
    "corr_matrix = df_corr[numerical_features].corr()\n",
    "\n",
    "# Plot correlation heatmap\n",
    "plt.figure(figsize=(10, 8))\n",
    "sns.heatmap(corr_matrix, annot=True, cmap='coolwarm', fmt='.2f')\n",
    "plt.title('Correlation Matrix of Numerical Features')\n",
    "plt.show()"
   ]
  },
  {
   "cell_type": "code",
   "execution_count": 417,
   "id": "5eee52e3",
   "metadata": {},
   "outputs": [
    {
     "data": {
      "text/plain": [
       "accepts_mercadopago             881\n",
       "automatic_relist                881\n",
       "is_USD                          881\n",
       "listing_type_id_free            881\n",
       "listing_type_id_gold            881\n",
       "listing_type_id_gold_premium    881\n",
       "listing_type_id_gold_pro        881\n",
       "listing_type_id_gold_special    881\n",
       "listing_type_id_silver          881\n",
       "buying_mode_buy_it_now          881\n",
       "buying_mode_classified          881\n",
       "status_not_yet_active           881\n",
       "status_paused                   881\n",
       "dtype: int64"
      ]
     },
     "execution_count": 417,
     "metadata": {},
     "output_type": "execute_result"
    }
   ],
   "source": [
    "df_corr[features].isna().sum()"
   ]
  },
  {
   "cell_type": "code",
   "execution_count": 418,
   "id": "9ebe4b35",
   "metadata": {},
   "outputs": [
    {
     "name": "stdout",
     "output_type": "stream",
     "text": [
      "<class 'pandas.core.series.Series'>\n",
      "Index: 89109 entries, 0 to 89999\n",
      "Series name: None\n",
      "Non-Null Count  Dtype \n",
      "--------------  ----- \n",
      "89109 non-null  object\n",
      "dtypes: object(1)\n",
      "memory usage: 1.4+ MB\n"
     ]
    }
   ],
   "source": [
    "y_train_df.info()"
   ]
  },
  {
   "cell_type": "code",
   "execution_count": 419,
   "id": "163d4ae5",
   "metadata": {},
   "outputs": [
    {
     "name": "stdout",
     "output_type": "stream",
     "text": [
      "<class 'pandas.core.frame.DataFrame'>\n",
      "Index: 89109 entries, 0 to 89999\n",
      "Data columns (total 38 columns):\n",
      " #   Column                            Non-Null Count  Dtype  \n",
      "---  ------                            --------------  -----  \n",
      " 0   seller_address                    89109 non-null  object \n",
      " 1   warranty                          34890 non-null  object \n",
      " 2   deal_ids                          89109 non-null  object \n",
      " 3   base_price                        89109 non-null  float64\n",
      " 4   shipping                          89109 non-null  object \n",
      " 5   non_mercado_pago_payment_methods  89109 non-null  object \n",
      " 6   seller_id                         89109 non-null  int64  \n",
      " 7   variations                        89109 non-null  object \n",
      " 8   site_id                           89109 non-null  object \n",
      " 9   listing_type_id                   89109 non-null  object \n",
      " 10  price                             89109 non-null  float64\n",
      " 11  attributes                        89109 non-null  object \n",
      " 12  buying_mode                       89109 non-null  object \n",
      " 13  tags                              89109 non-null  object \n",
      " 14  parent_item_id                    68604 non-null  object \n",
      " 15  category_id                       89109 non-null  object \n",
      " 16  descriptions                      89109 non-null  object \n",
      " 17  last_updated                      89109 non-null  object \n",
      " 18  pictures                          89109 non-null  object \n",
      " 19  id                                89109 non-null  object \n",
      " 20  official_store_id                 743 non-null    float64\n",
      " 21  accepts_mercadopago               89109 non-null  uint8  \n",
      " 22  original_price                    130 non-null    float64\n",
      " 23  thumbnail                         89109 non-null  object \n",
      " 24  title                             89109 non-null  object \n",
      " 25  automatic_relist                  89109 non-null  uint8  \n",
      " 26  date_created                      89109 non-null  object \n",
      " 27  secure_thumbnail                  89109 non-null  object \n",
      " 28  stop_time                         89109 non-null  int64  \n",
      " 29  status                            89109 non-null  object \n",
      " 30  video_id                          2635 non-null   object \n",
      " 31  catalog_product_id                7 non-null      float64\n",
      " 32  initial_quantity                  89109 non-null  int64  \n",
      " 33  start_time                        89109 non-null  int64  \n",
      " 34  permalink                         89109 non-null  object \n",
      " 35  sold_quantity                     89109 non-null  int64  \n",
      " 36  available_quantity                89109 non-null  int64  \n",
      " 37  is_USD                            89109 non-null  uint8  \n",
      "dtypes: float64(5), int64(6), object(24), uint8(3)\n",
      "memory usage: 26.7+ MB\n"
     ]
    }
   ],
   "source": [
    "X_train_df.info()"
   ]
  }
 ],
 "metadata": {
  "kernelspec": {
   "display_name": ".venv",
   "language": "python",
   "name": "python3"
  },
  "language_info": {
   "codemirror_mode": {
    "name": "ipython",
    "version": 3
   },
   "file_extension": ".py",
   "mimetype": "text/x-python",
   "name": "python",
   "nbconvert_exporter": "python",
   "pygments_lexer": "ipython3",
   "version": "3.11.7"
  }
 },
 "nbformat": 4,
 "nbformat_minor": 5
}

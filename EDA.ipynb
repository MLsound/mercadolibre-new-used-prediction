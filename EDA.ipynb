{
 "cells": [
  {
   "cell_type": "code",
   "execution_count": 1,
   "id": "edbabc84",
   "metadata": {},
   "outputs": [],
   "source": [
    "import pandas as pd\n",
    "import numpy as np\n",
    "import matplotlib.pyplot as plt\n",
    "import seaborn as sns\n",
    "from new_or_used import build_dataset"
   ]
  },
  {
   "cell_type": "code",
   "execution_count": 2,
   "id": "a4415153",
   "metadata": {},
   "outputs": [],
   "source": [
    "X_train, y_train, X_test, y_test = build_dataset()"
   ]
  },
  {
   "cell_type": "code",
   "execution_count": 3,
   "id": "ccad51f9",
   "metadata": {},
   "outputs": [],
   "source": [
    "X_train_df = pd.DataFrame(X_train)\n",
    "X_test_df = pd.DataFrame(X_test)\n",
    "y_train_df = pd.Series(y_train)\n",
    "y_test_df = pd.Series(y_test)"
   ]
  },
  {
   "cell_type": "markdown",
   "id": "02fe515b",
   "metadata": {},
   "source": [
    "# EDA"
   ]
  },
  {
   "cell_type": "markdown",
   "id": "7cc1e1a4",
   "metadata": {},
   "source": [
    "# 1. Understanding data structure"
   ]
  },
  {
   "cell_type": "code",
   "execution_count": 4,
   "id": "7fbb61e9",
   "metadata": {},
   "outputs": [
    {
     "name": "stdout",
     "output_type": "stream",
     "text": [
      "Provided dataset has 45 variables and 100000 items\n",
      "It was splitted into 90.0% training and 10.0% test items\n"
     ]
    }
   ],
   "source": [
    "# Dataset size\n",
    "n = len(X_train+X_test)\n",
    "print(f\"Provided dataset has {len(X_train_df.columns)} variables and {n} items\")\n",
    "print(f\"It was splitted into {len(X_train_df)/n*100:.1f}% training and {len(X_test_df)/n*100:.1f}% test items\")"
   ]
  },
  {
   "cell_type": "markdown",
   "id": "d4d2b5e6",
   "metadata": {},
   "source": [
    "## 1.1 Features"
   ]
  },
  {
   "cell_type": "code",
   "execution_count": 5,
   "id": "e084d68a",
   "metadata": {},
   "outputs": [
    {
     "data": {
      "text/plain": [
       "Index(['seller_address', 'warranty', 'sub_status', 'condition', 'deal_ids',\n",
       "       'base_price', 'shipping', 'non_mercado_pago_payment_methods',\n",
       "       'seller_id', 'variations', 'site_id', 'listing_type_id', 'price',\n",
       "       'attributes', 'buying_mode', 'tags', 'listing_source', 'parent_item_id',\n",
       "       'coverage_areas', 'category_id', 'descriptions', 'last_updated',\n",
       "       'international_delivery_mode', 'pictures', 'id', 'official_store_id',\n",
       "       'differential_pricing', 'accepts_mercadopago', 'original_price',\n",
       "       'currency_id', 'thumbnail', 'title', 'automatic_relist', 'date_created',\n",
       "       'secure_thumbnail', 'stop_time', 'status', 'video_id',\n",
       "       'catalog_product_id', 'subtitle', 'initial_quantity', 'start_time',\n",
       "       'permalink', 'sold_quantity', 'available_quantity'],\n",
       "      dtype='object')"
      ]
     },
     "execution_count": 5,
     "metadata": {},
     "output_type": "execute_result"
    }
   ],
   "source": [
    "X_train_df.columns"
   ]
  },
  {
   "cell_type": "code",
   "execution_count": 6,
   "id": "44e64fb7",
   "metadata": {},
   "outputs": [
    {
     "data": {
      "text/html": [
       "<div>\n",
       "<style scoped>\n",
       "    .dataframe tbody tr th:only-of-type {\n",
       "        vertical-align: middle;\n",
       "    }\n",
       "\n",
       "    .dataframe tbody tr th {\n",
       "        vertical-align: top;\n",
       "    }\n",
       "\n",
       "    .dataframe thead th {\n",
       "        text-align: right;\n",
       "    }\n",
       "</style>\n",
       "<table border=\"1\" class=\"dataframe\">\n",
       "  <thead>\n",
       "    <tr style=\"text-align: right;\">\n",
       "      <th></th>\n",
       "      <th>seller_address</th>\n",
       "      <th>warranty</th>\n",
       "      <th>sub_status</th>\n",
       "      <th>condition</th>\n",
       "      <th>deal_ids</th>\n",
       "      <th>base_price</th>\n",
       "      <th>shipping</th>\n",
       "      <th>non_mercado_pago_payment_methods</th>\n",
       "      <th>seller_id</th>\n",
       "      <th>variations</th>\n",
       "      <th>site_id</th>\n",
       "      <th>listing_type_id</th>\n",
       "      <th>price</th>\n",
       "      <th>attributes</th>\n",
       "      <th>buying_mode</th>\n",
       "      <th>...</th>\n",
       "      <th>thumbnail</th>\n",
       "      <th>title</th>\n",
       "      <th>automatic_relist</th>\n",
       "      <th>date_created</th>\n",
       "      <th>secure_thumbnail</th>\n",
       "      <th>stop_time</th>\n",
       "      <th>status</th>\n",
       "      <th>video_id</th>\n",
       "      <th>catalog_product_id</th>\n",
       "      <th>subtitle</th>\n",
       "      <th>initial_quantity</th>\n",
       "      <th>start_time</th>\n",
       "      <th>permalink</th>\n",
       "      <th>sold_quantity</th>\n",
       "      <th>available_quantity</th>\n",
       "    </tr>\n",
       "  </thead>\n",
       "  <tbody>\n",
       "    <tr>\n",
       "      <th>52532</th>\n",
       "      <td>{'country': {'name': 'Argentina', 'id': 'AR'},...</td>\n",
       "      <td>None</td>\n",
       "      <td>[]</td>\n",
       "      <td>new</td>\n",
       "      <td>[]</td>\n",
       "      <td>135.00</td>\n",
       "      <td>{'local_pick_up': True, 'methods': [], 'tags':...</td>\n",
       "      <td>[]</td>\n",
       "      <td>6628350050</td>\n",
       "      <td>[]</td>\n",
       "      <td>MLA</td>\n",
       "      <td>bronze</td>\n",
       "      <td>135.00</td>\n",
       "      <td>[]</td>\n",
       "      <td>buy_it_now</td>\n",
       "      <td>...</td>\n",
       "      <td>http://mla-s1-p.mlstatic.com/21494-MLA43952787...</td>\n",
       "      <td>Mua - Sombra 8 ( Turqueza Verdoso Verde )</td>\n",
       "      <td>False</td>\n",
       "      <td>2015-08-26T02:10:46.000Z</td>\n",
       "      <td>https://a248.e.akamai.net/mla-s1-p.mlstatic.co...</td>\n",
       "      <td>1445739046000</td>\n",
       "      <td>active</td>\n",
       "      <td>None</td>\n",
       "      <td>NaN</td>\n",
       "      <td>None</td>\n",
       "      <td>1</td>\n",
       "      <td>1440555046000</td>\n",
       "      <td>http://articulo.mercadolibre.com.ar/MLA4395278...</td>\n",
       "      <td>0</td>\n",
       "      <td>1</td>\n",
       "    </tr>\n",
       "    <tr>\n",
       "      <th>57008</th>\n",
       "      <td>{'country': {'name': 'Argentina', 'id': 'AR'},...</td>\n",
       "      <td>None</td>\n",
       "      <td>[]</td>\n",
       "      <td>used</td>\n",
       "      <td>[]</td>\n",
       "      <td>70.00</td>\n",
       "      <td>{'local_pick_up': True, 'methods': [], 'tags':...</td>\n",
       "      <td>[]</td>\n",
       "      <td>6525612246</td>\n",
       "      <td>[]</td>\n",
       "      <td>MLA</td>\n",
       "      <td>free</td>\n",
       "      <td>70.00</td>\n",
       "      <td>[]</td>\n",
       "      <td>buy_it_now</td>\n",
       "      <td>...</td>\n",
       "      <td>http://mla-s2-p.mlstatic.com/182101-MLA3619696...</td>\n",
       "      <td>Ensayos Profanos . Axel Gasquet , Martín Cucco...</td>\n",
       "      <td>False</td>\n",
       "      <td>2015-10-09T14:36:52.000Z</td>\n",
       "      <td>https://a248.e.akamai.net/mla-s2-p.mlstatic.co...</td>\n",
       "      <td>1449585412000</td>\n",
       "      <td>active</td>\n",
       "      <td>None</td>\n",
       "      <td>NaN</td>\n",
       "      <td>None</td>\n",
       "      <td>1</td>\n",
       "      <td>1444401412000</td>\n",
       "      <td>http://articulo.mercadolibre.com.ar/MLA3619696...</td>\n",
       "      <td>0</td>\n",
       "      <td>1</td>\n",
       "    </tr>\n",
       "    <tr>\n",
       "      <th>12039</th>\n",
       "      <td>{'country': {'name': 'Argentina', 'id': 'AR'},...</td>\n",
       "      <td>7 DIAS</td>\n",
       "      <td>[]</td>\n",
       "      <td>new</td>\n",
       "      <td>[]</td>\n",
       "      <td>249.99</td>\n",
       "      <td>{'local_pick_up': True, 'methods': [], 'tags':...</td>\n",
       "      <td>[{'description': 'Transferencia bancaria', 'id...</td>\n",
       "      <td>7927470228</td>\n",
       "      <td>[]</td>\n",
       "      <td>MLA</td>\n",
       "      <td>silver</td>\n",
       "      <td>249.99</td>\n",
       "      <td>[]</td>\n",
       "      <td>buy_it_now</td>\n",
       "      <td>...</td>\n",
       "      <td>http://mla-s2-p.mlstatic.com/22663-MLA62052284...</td>\n",
       "      <td>Esmaltes De Hello Kitty! Pack X 24 P/ Spa De N...</td>\n",
       "      <td>False</td>\n",
       "      <td>2015-08-21T00:06:48.000Z</td>\n",
       "      <td>https://a248.e.akamai.net/mla-s2-p.mlstatic.co...</td>\n",
       "      <td>1445299608000</td>\n",
       "      <td>active</td>\n",
       "      <td>None</td>\n",
       "      <td>NaN</td>\n",
       "      <td>None</td>\n",
       "      <td>5</td>\n",
       "      <td>1440115608000</td>\n",
       "      <td>http://articulo.mercadolibre.com.ar/MLA6205228...</td>\n",
       "      <td>97</td>\n",
       "      <td>3</td>\n",
       "    </tr>\n",
       "    <tr>\n",
       "      <th>16722</th>\n",
       "      <td>{'country': {'name': 'Argentina', 'id': 'AR'},...</td>\n",
       "      <td>None</td>\n",
       "      <td>[]</td>\n",
       "      <td>new</td>\n",
       "      <td>[]</td>\n",
       "      <td>2200.00</td>\n",
       "      <td>{'local_pick_up': True, 'methods': [], 'tags':...</td>\n",
       "      <td>[]</td>\n",
       "      <td>8689508838</td>\n",
       "      <td>[]</td>\n",
       "      <td>MLA</td>\n",
       "      <td>gold_special</td>\n",
       "      <td>2200.00</td>\n",
       "      <td>[]</td>\n",
       "      <td>buy_it_now</td>\n",
       "      <td>...</td>\n",
       "      <td>http://mla-s2-p.mlstatic.com/611501-MLA7609680...</td>\n",
       "      <td>Licor Grand Marnier Magnum 2 Litros - Origen F...</td>\n",
       "      <td>True</td>\n",
       "      <td>2015-09-01T14:32:49.000Z</td>\n",
       "      <td>https://a248.e.akamai.net/mla-s2-p.mlstatic.co...</td>\n",
       "      <td>1446301968000</td>\n",
       "      <td>active</td>\n",
       "      <td>None</td>\n",
       "      <td>NaN</td>\n",
       "      <td>None</td>\n",
       "      <td>1</td>\n",
       "      <td>1441117968000</td>\n",
       "      <td>http://articulo.mercadolibre.com.ar/MLA7609680...</td>\n",
       "      <td>0</td>\n",
       "      <td>1</td>\n",
       "    </tr>\n",
       "    <tr>\n",
       "      <th>77682</th>\n",
       "      <td>{'country': {'name': 'Argentina', 'id': 'AR'},...</td>\n",
       "      <td>None</td>\n",
       "      <td>[]</td>\n",
       "      <td>used</td>\n",
       "      <td>[]</td>\n",
       "      <td>4700.00</td>\n",
       "      <td>{'local_pick_up': True, 'methods': [], 'tags':...</td>\n",
       "      <td>[{'description': 'Transferencia bancaria', 'id...</td>\n",
       "      <td>9176527055</td>\n",
       "      <td>[]</td>\n",
       "      <td>MLA</td>\n",
       "      <td>bronze</td>\n",
       "      <td>4700.00</td>\n",
       "      <td>[]</td>\n",
       "      <td>buy_it_now</td>\n",
       "      <td>...</td>\n",
       "      <td>http://mla-s1-p.mlstatic.com/860301-MLA1417253...</td>\n",
       "      <td>Carruaje Estilo Rococo De Porcelana Capodimonte</td>\n",
       "      <td>False</td>\n",
       "      <td>2015-09-14T18:00:32.000Z</td>\n",
       "      <td>https://a248.e.akamai.net/mla-s1-p.mlstatic.co...</td>\n",
       "      <td>1447437632000</td>\n",
       "      <td>active</td>\n",
       "      <td>None</td>\n",
       "      <td>NaN</td>\n",
       "      <td>None</td>\n",
       "      <td>1</td>\n",
       "      <td>1442253632000</td>\n",
       "      <td>http://articulo.mercadolibre.com.ar/MLA1417253...</td>\n",
       "      <td>0</td>\n",
       "      <td>1</td>\n",
       "    </tr>\n",
       "  </tbody>\n",
       "</table>\n",
       "<p>5 rows × 45 columns</p>\n",
       "</div>"
      ],
      "text/plain": [
       "                                          seller_address warranty sub_status  \\\n",
       "52532  {'country': {'name': 'Argentina', 'id': 'AR'},...     None         []   \n",
       "57008  {'country': {'name': 'Argentina', 'id': 'AR'},...     None         []   \n",
       "12039  {'country': {'name': 'Argentina', 'id': 'AR'},...   7 DIAS         []   \n",
       "16722  {'country': {'name': 'Argentina', 'id': 'AR'},...     None         []   \n",
       "77682  {'country': {'name': 'Argentina', 'id': 'AR'},...     None         []   \n",
       "\n",
       "      condition deal_ids  base_price  \\\n",
       "52532       new       []      135.00   \n",
       "57008      used       []       70.00   \n",
       "12039       new       []      249.99   \n",
       "16722       new       []     2200.00   \n",
       "77682      used       []     4700.00   \n",
       "\n",
       "                                                shipping  \\\n",
       "52532  {'local_pick_up': True, 'methods': [], 'tags':...   \n",
       "57008  {'local_pick_up': True, 'methods': [], 'tags':...   \n",
       "12039  {'local_pick_up': True, 'methods': [], 'tags':...   \n",
       "16722  {'local_pick_up': True, 'methods': [], 'tags':...   \n",
       "77682  {'local_pick_up': True, 'methods': [], 'tags':...   \n",
       "\n",
       "                        non_mercado_pago_payment_methods   seller_id  \\\n",
       "52532                                                 []  6628350050   \n",
       "57008                                                 []  6525612246   \n",
       "12039  [{'description': 'Transferencia bancaria', 'id...  7927470228   \n",
       "16722                                                 []  8689508838   \n",
       "77682  [{'description': 'Transferencia bancaria', 'id...  9176527055   \n",
       "\n",
       "      variations site_id listing_type_id    price attributes buying_mode  ...  \\\n",
       "52532         []     MLA          bronze   135.00         []  buy_it_now  ...   \n",
       "57008         []     MLA            free    70.00         []  buy_it_now  ...   \n",
       "12039         []     MLA          silver   249.99         []  buy_it_now  ...   \n",
       "16722         []     MLA    gold_special  2200.00         []  buy_it_now  ...   \n",
       "77682         []     MLA          bronze  4700.00         []  buy_it_now  ...   \n",
       "\n",
       "                                               thumbnail  \\\n",
       "52532  http://mla-s1-p.mlstatic.com/21494-MLA43952787...   \n",
       "57008  http://mla-s2-p.mlstatic.com/182101-MLA3619696...   \n",
       "12039  http://mla-s2-p.mlstatic.com/22663-MLA62052284...   \n",
       "16722  http://mla-s2-p.mlstatic.com/611501-MLA7609680...   \n",
       "77682  http://mla-s1-p.mlstatic.com/860301-MLA1417253...   \n",
       "\n",
       "                                                   title automatic_relist  \\\n",
       "52532          Mua - Sombra 8 ( Turqueza Verdoso Verde )            False   \n",
       "57008  Ensayos Profanos . Axel Gasquet , Martín Cucco...            False   \n",
       "12039  Esmaltes De Hello Kitty! Pack X 24 P/ Spa De N...            False   \n",
       "16722  Licor Grand Marnier Magnum 2 Litros - Origen F...             True   \n",
       "77682    Carruaje Estilo Rococo De Porcelana Capodimonte            False   \n",
       "\n",
       "                   date_created  \\\n",
       "52532  2015-08-26T02:10:46.000Z   \n",
       "57008  2015-10-09T14:36:52.000Z   \n",
       "12039  2015-08-21T00:06:48.000Z   \n",
       "16722  2015-09-01T14:32:49.000Z   \n",
       "77682  2015-09-14T18:00:32.000Z   \n",
       "\n",
       "                                        secure_thumbnail      stop_time  \\\n",
       "52532  https://a248.e.akamai.net/mla-s1-p.mlstatic.co...  1445739046000   \n",
       "57008  https://a248.e.akamai.net/mla-s2-p.mlstatic.co...  1449585412000   \n",
       "12039  https://a248.e.akamai.net/mla-s2-p.mlstatic.co...  1445299608000   \n",
       "16722  https://a248.e.akamai.net/mla-s2-p.mlstatic.co...  1446301968000   \n",
       "77682  https://a248.e.akamai.net/mla-s1-p.mlstatic.co...  1447437632000   \n",
       "\n",
       "       status video_id catalog_product_id subtitle  initial_quantity  \\\n",
       "52532  active     None                NaN     None                 1   \n",
       "57008  active     None                NaN     None                 1   \n",
       "12039  active     None                NaN     None                 5   \n",
       "16722  active     None                NaN     None                 1   \n",
       "77682  active     None                NaN     None                 1   \n",
       "\n",
       "          start_time                                          permalink  \\\n",
       "52532  1440555046000  http://articulo.mercadolibre.com.ar/MLA4395278...   \n",
       "57008  1444401412000  http://articulo.mercadolibre.com.ar/MLA3619696...   \n",
       "12039  1440115608000  http://articulo.mercadolibre.com.ar/MLA6205228...   \n",
       "16722  1441117968000  http://articulo.mercadolibre.com.ar/MLA7609680...   \n",
       "77682  1442253632000  http://articulo.mercadolibre.com.ar/MLA1417253...   \n",
       "\n",
       "       sold_quantity available_quantity  \n",
       "52532              0                  1  \n",
       "57008              0                  1  \n",
       "12039             97                  3  \n",
       "16722              0                  1  \n",
       "77682              0                  1  \n",
       "\n",
       "[5 rows x 45 columns]"
      ]
     },
     "execution_count": 6,
     "metadata": {},
     "output_type": "execute_result"
    }
   ],
   "source": [
    "X_train_df.sample(5)  # Display a sample of the training data"
   ]
  },
  {
   "cell_type": "code",
   "execution_count": 7,
   "id": "cc9aa68f",
   "metadata": {},
   "outputs": [
    {
     "data": {
      "text/html": [
       "<div>\n",
       "<style scoped>\n",
       "    .dataframe tbody tr th:only-of-type {\n",
       "        vertical-align: middle;\n",
       "    }\n",
       "\n",
       "    .dataframe tbody tr th {\n",
       "        vertical-align: top;\n",
       "    }\n",
       "\n",
       "    .dataframe thead th {\n",
       "        text-align: right;\n",
       "    }\n",
       "</style>\n",
       "<table border=\"1\" class=\"dataframe\">\n",
       "  <thead>\n",
       "    <tr style=\"text-align: right;\">\n",
       "      <th></th>\n",
       "      <th>buying_mode</th>\n",
       "      <th>tags</th>\n",
       "      <th>listing_source</th>\n",
       "      <th>parent_item_id</th>\n",
       "      <th>coverage_areas</th>\n",
       "      <th>category_id</th>\n",
       "      <th>descriptions</th>\n",
       "      <th>last_updated</th>\n",
       "      <th>international_delivery_mode</th>\n",
       "      <th>pictures</th>\n",
       "      <th>id</th>\n",
       "      <th>official_store_id</th>\n",
       "      <th>differential_pricing</th>\n",
       "      <th>accepts_mercadopago</th>\n",
       "      <th>original_price</th>\n",
       "      <th>currency_id</th>\n",
       "      <th>thumbnail</th>\n",
       "    </tr>\n",
       "  </thead>\n",
       "  <tbody>\n",
       "    <tr>\n",
       "      <th>83599</th>\n",
       "      <td>buy_it_now</td>\n",
       "      <td>[dragged_bids_and_visits]</td>\n",
       "      <td></td>\n",
       "      <td>MLA1395444012</td>\n",
       "      <td>[]</td>\n",
       "      <td>MLA1227</td>\n",
       "      <td>[{'id': 'MLA8734792633-921916503'}]</td>\n",
       "      <td>2015-09-16T12:38:18.000Z</td>\n",
       "      <td>none</td>\n",
       "      <td>[{'size': '321x500', 'secure_url': 'https://a2...</td>\n",
       "      <td>MLA8734792633</td>\n",
       "      <td>NaN</td>\n",
       "      <td>None</td>\n",
       "      <td>True</td>\n",
       "      <td>NaN</td>\n",
       "      <td>ARS</td>\n",
       "      <td>http://mla-s1-p.mlstatic.com/863601-MLA8734792...</td>\n",
       "    </tr>\n",
       "    <tr>\n",
       "      <th>31274</th>\n",
       "      <td>buy_it_now</td>\n",
       "      <td>[]</td>\n",
       "      <td></td>\n",
       "      <td>None</td>\n",
       "      <td>[]</td>\n",
       "      <td>MLA15197</td>\n",
       "      <td>[{'id': 'MLA6313941901-941261444'}]</td>\n",
       "      <td>2015-10-09T20:36:14.000Z</td>\n",
       "      <td>none</td>\n",
       "      <td>[{'size': '210x210', 'secure_url': 'https://a2...</td>\n",
       "      <td>MLA6313941901</td>\n",
       "      <td>NaN</td>\n",
       "      <td>None</td>\n",
       "      <td>True</td>\n",
       "      <td>NaN</td>\n",
       "      <td>ARS</td>\n",
       "      <td>http://mla-s2-p.mlstatic.com/807901-MLA6313941...</td>\n",
       "    </tr>\n",
       "    <tr>\n",
       "      <th>75635</th>\n",
       "      <td>buy_it_now</td>\n",
       "      <td>[]</td>\n",
       "      <td></td>\n",
       "      <td>None</td>\n",
       "      <td>[]</td>\n",
       "      <td>MLA1227</td>\n",
       "      <td>[{'id': 'MLA6779615238-938872914'}]</td>\n",
       "      <td>2015-10-06T19:45:18.000Z</td>\n",
       "      <td>none</td>\n",
       "      <td>[{'size': '288x447', 'secure_url': 'https://a2...</td>\n",
       "      <td>MLA6779615238</td>\n",
       "      <td>NaN</td>\n",
       "      <td>None</td>\n",
       "      <td>True</td>\n",
       "      <td>NaN</td>\n",
       "      <td>ARS</td>\n",
       "      <td>http://mla-s2-p.mlstatic.com/466901-MLA6779615...</td>\n",
       "    </tr>\n",
       "    <tr>\n",
       "      <th>42449</th>\n",
       "      <td>buy_it_now</td>\n",
       "      <td>[dragged_bids_and_visits]</td>\n",
       "      <td></td>\n",
       "      <td>MLA2149466552</td>\n",
       "      <td>[]</td>\n",
       "      <td>MLA373864</td>\n",
       "      <td>[{'id': 'MLA6558387258-943692744'}]</td>\n",
       "      <td>2015-10-13T18:57:50.000Z</td>\n",
       "      <td>none</td>\n",
       "      <td>[{'size': '375x500', 'secure_url': 'https://a2...</td>\n",
       "      <td>MLA6558387258</td>\n",
       "      <td>NaN</td>\n",
       "      <td>None</td>\n",
       "      <td>True</td>\n",
       "      <td>NaN</td>\n",
       "      <td>ARS</td>\n",
       "      <td>http://mla-s1-p.mlstatic.com/511701-MLA6558387...</td>\n",
       "    </tr>\n",
       "    <tr>\n",
       "      <th>56223</th>\n",
       "      <td>buy_it_now</td>\n",
       "      <td>[dragged_bids_and_visits]</td>\n",
       "      <td></td>\n",
       "      <td>MLA6908411312</td>\n",
       "      <td>[]</td>\n",
       "      <td>MLA44020</td>\n",
       "      <td>[{'id': 'MLA9753710090-896779959'}]</td>\n",
       "      <td>2015-08-17T14:43:13.000Z</td>\n",
       "      <td>none</td>\n",
       "      <td>[{'size': '342x500', 'secure_url': 'https://a2...</td>\n",
       "      <td>MLA9753710090</td>\n",
       "      <td>NaN</td>\n",
       "      <td>None</td>\n",
       "      <td>True</td>\n",
       "      <td>NaN</td>\n",
       "      <td>ARS</td>\n",
       "      <td>http://mla-s1-p.mlstatic.com/4072-MLA975371009...</td>\n",
       "    </tr>\n",
       "  </tbody>\n",
       "</table>\n",
       "</div>"
      ],
      "text/plain": [
       "      buying_mode                       tags listing_source parent_item_id  \\\n",
       "83599  buy_it_now  [dragged_bids_and_visits]                 MLA1395444012   \n",
       "31274  buy_it_now                         []                          None   \n",
       "75635  buy_it_now                         []                          None   \n",
       "42449  buy_it_now  [dragged_bids_and_visits]                 MLA2149466552   \n",
       "56223  buy_it_now  [dragged_bids_and_visits]                 MLA6908411312   \n",
       "\n",
       "      coverage_areas category_id                         descriptions  \\\n",
       "83599             []     MLA1227  [{'id': 'MLA8734792633-921916503'}]   \n",
       "31274             []    MLA15197  [{'id': 'MLA6313941901-941261444'}]   \n",
       "75635             []     MLA1227  [{'id': 'MLA6779615238-938872914'}]   \n",
       "42449             []   MLA373864  [{'id': 'MLA6558387258-943692744'}]   \n",
       "56223             []    MLA44020  [{'id': 'MLA9753710090-896779959'}]   \n",
       "\n",
       "                   last_updated international_delivery_mode  \\\n",
       "83599  2015-09-16T12:38:18.000Z                        none   \n",
       "31274  2015-10-09T20:36:14.000Z                        none   \n",
       "75635  2015-10-06T19:45:18.000Z                        none   \n",
       "42449  2015-10-13T18:57:50.000Z                        none   \n",
       "56223  2015-08-17T14:43:13.000Z                        none   \n",
       "\n",
       "                                                pictures             id  \\\n",
       "83599  [{'size': '321x500', 'secure_url': 'https://a2...  MLA8734792633   \n",
       "31274  [{'size': '210x210', 'secure_url': 'https://a2...  MLA6313941901   \n",
       "75635  [{'size': '288x447', 'secure_url': 'https://a2...  MLA6779615238   \n",
       "42449  [{'size': '375x500', 'secure_url': 'https://a2...  MLA6558387258   \n",
       "56223  [{'size': '342x500', 'secure_url': 'https://a2...  MLA9753710090   \n",
       "\n",
       "       official_store_id differential_pricing  accepts_mercadopago  \\\n",
       "83599                NaN                 None                 True   \n",
       "31274                NaN                 None                 True   \n",
       "75635                NaN                 None                 True   \n",
       "42449                NaN                 None                 True   \n",
       "56223                NaN                 None                 True   \n",
       "\n",
       "       original_price currency_id  \\\n",
       "83599             NaN         ARS   \n",
       "31274             NaN         ARS   \n",
       "75635             NaN         ARS   \n",
       "42449             NaN         ARS   \n",
       "56223             NaN         ARS   \n",
       "\n",
       "                                               thumbnail  \n",
       "83599  http://mla-s1-p.mlstatic.com/863601-MLA8734792...  \n",
       "31274  http://mla-s2-p.mlstatic.com/807901-MLA6313941...  \n",
       "75635  http://mla-s2-p.mlstatic.com/466901-MLA6779615...  \n",
       "42449  http://mla-s1-p.mlstatic.com/511701-MLA6558387...  \n",
       "56223  http://mla-s1-p.mlstatic.com/4072-MLA975371009...  "
      ]
     },
     "execution_count": 7,
     "metadata": {},
     "output_type": "execute_result"
    }
   ],
   "source": [
    "# There are too many columns to display all at once, so we will show a subset\n",
    "X_train_df[['buying_mode', 'tags', 'listing_source', 'parent_item_id',\n",
    "       'coverage_areas', 'category_id', 'descriptions', 'last_updated',\n",
    "       'international_delivery_mode', 'pictures', 'id', 'official_store_id',\n",
    "       'differential_pricing', 'accepts_mercadopago', 'original_price',\n",
    "       'currency_id', 'thumbnail']].sample(5)"
   ]
  },
  {
   "cell_type": "markdown",
   "id": "57627c3a",
   "metadata": {},
   "source": [
    "Probably, `condition` feature should be deleted because it's the actual target. This hypotesis have to be checked first."
   ]
  },
  {
   "cell_type": "markdown",
   "id": "2cd6ad5d",
   "metadata": {},
   "source": [
    "`international_delivery_mode` has a wrong 'none' value so it needs to be corrected."
   ]
  },
  {
   "cell_type": "code",
   "execution_count": 8,
   "id": "138433e7",
   "metadata": {},
   "outputs": [
    {
     "name": "stdout",
     "output_type": "stream",
     "text": [
      "<class 'pandas.core.frame.DataFrame'>\n",
      "RangeIndex: 90000 entries, 0 to 89999\n",
      "Data columns (total 45 columns):\n",
      " #   Column                            Non-Null Count  Dtype  \n",
      "---  ------                            --------------  -----  \n",
      " 0   seller_address                    90000 non-null  object \n",
      " 1   warranty                          35243 non-null  object \n",
      " 2   sub_status                        90000 non-null  object \n",
      " 3   condition                         90000 non-null  object \n",
      " 4   deal_ids                          90000 non-null  object \n",
      " 5   base_price                        90000 non-null  float64\n",
      " 6   shipping                          90000 non-null  object \n",
      " 7   non_mercado_pago_payment_methods  90000 non-null  object \n",
      " 8   seller_id                         90000 non-null  int64  \n",
      " 9   variations                        90000 non-null  object \n",
      " 10  site_id                           90000 non-null  object \n",
      " 11  listing_type_id                   90000 non-null  object \n",
      " 12  price                             90000 non-null  float64\n",
      " 13  attributes                        90000 non-null  object \n",
      " 14  buying_mode                       90000 non-null  object \n",
      " 15  tags                              90000 non-null  object \n",
      " 16  listing_source                    90000 non-null  object \n",
      " 17  parent_item_id                    69310 non-null  object \n",
      " 18  coverage_areas                    90000 non-null  object \n",
      " 19  category_id                       90000 non-null  object \n",
      " 20  descriptions                      90000 non-null  object \n",
      " 21  last_updated                      90000 non-null  object \n",
      " 22  international_delivery_mode       90000 non-null  object \n",
      " 23  pictures                          90000 non-null  object \n",
      " 24  id                                90000 non-null  object \n",
      " 25  official_store_id                 745 non-null    float64\n",
      " 26  differential_pricing              0 non-null      object \n",
      " 27  accepts_mercadopago               90000 non-null  bool   \n",
      " 28  original_price                    130 non-null    float64\n",
      " 29  currency_id                       90000 non-null  object \n",
      " 30  thumbnail                         90000 non-null  object \n",
      " 31  title                             90000 non-null  object \n",
      " 32  automatic_relist                  90000 non-null  bool   \n",
      " 33  date_created                      90000 non-null  object \n",
      " 34  secure_thumbnail                  90000 non-null  object \n",
      " 35  stop_time                         90000 non-null  int64  \n",
      " 36  status                            90000 non-null  object \n",
      " 37  video_id                          2676 non-null   object \n",
      " 38  catalog_product_id                7 non-null      float64\n",
      " 39  subtitle                          0 non-null      object \n",
      " 40  initial_quantity                  90000 non-null  int64  \n",
      " 41  start_time                        90000 non-null  int64  \n",
      " 42  permalink                         90000 non-null  object \n",
      " 43  sold_quantity                     90000 non-null  int64  \n",
      " 44  available_quantity                90000 non-null  int64  \n",
      "dtypes: bool(2), float64(5), int64(6), object(32)\n",
      "memory usage: 29.7+ MB\n"
     ]
    }
   ],
   "source": [
    "X_train_df.info()"
   ]
  },
  {
   "cell_type": "markdown",
   "id": "740f89fc",
   "metadata": {},
   "source": [
    "Dataset is formed by:\n",
    "- **IDs:** `id`,`parent_item_id`, `official_store_id`, `category_id`, `site_id`, `video_id`, `catalog_product_id`, `deal_ids`, `seller_id`, `descriptions`\n",
    "- **Price-related variables:** `price`, `original_price`, `base_price`\n",
    "- **Transaction-related variables:**  `currency_id`, `accepts_mercadopago`, `warranty`\n",
    "- **Quantity-related variables:** `initial_quantity`, `sold_quantity`, `available_quantity`\n",
    "- **Post-related variables:** `title`, `thumbnail`, `pictures`, `permalink`, `secure_thumbnail`, `status`, `sub_status`, `buying_mode`, `condition`, `automatic_relist`\n",
    "- **Time-related variables:** `start_time`, `stop_time`, `date_created`, `last_updated`\n",
    "- **Seller-related variables:** `seller_address`, `listing_type_id`\n",
    "- **Tags:** `tags`, `variations`, `shipping`, `attributes`, `non_mercado_pago_payment_methods`"
   ]
  },
  {
   "cell_type": "markdown",
   "id": "af0ff709",
   "metadata": {},
   "source": [
    "As common practice, ID variables will be ignored during feature selection. Also, time-related variables won't be used."
   ]
  },
  {
   "cell_type": "code",
   "execution_count": 9,
   "id": "12f57241",
   "metadata": {},
   "outputs": [
    {
     "data": {
      "text/plain": [
       "count             90000\n",
       "unique            90000\n",
       "top       MLA4695330653\n",
       "freq                  1\n",
       "Name: id, dtype: object"
      ]
     },
     "execution_count": 9,
     "metadata": {},
     "output_type": "execute_result"
    }
   ],
   "source": [
    "X_train_df['id'].describe()"
   ]
  },
  {
   "cell_type": "code",
   "execution_count": 10,
   "id": "5e8ebe4e",
   "metadata": {},
   "outputs": [
    {
     "data": {
      "text/plain": [
       "count             69310\n",
       "unique            69310\n",
       "top       MLA6553902747\n",
       "freq                  1\n",
       "Name: parent_item_id, dtype: object"
      ]
     },
     "execution_count": 10,
     "metadata": {},
     "output_type": "execute_result"
    }
   ],
   "source": [
    "X_train_df['parent_item_id'].describe()"
   ]
  },
  {
   "cell_type": "markdown",
   "id": "39d20fd9",
   "metadata": {},
   "source": [
    "Probably, `parent_item_id` is pointing to item's `id`, because they follow the same code structure *'MLA' + identifier* (int, 10)"
   ]
  },
  {
   "cell_type": "markdown",
   "id": "5d2df4bd",
   "metadata": {},
   "source": [
    "### Identifying Missing Values"
   ]
  },
  {
   "cell_type": "markdown",
   "id": "2067ebe1",
   "metadata": {},
   "source": [
    "For some variables, we have missing values."
   ]
  },
  {
   "cell_type": "markdown",
   "id": "8f1ac9af",
   "metadata": {},
   "source": [
    "**Some nulls:**\n",
    "1. `parent_item_id` (23.0%)\n",
    "1. `warranty` (60.8%)\n",
    "\n",
    "**Almost empty:**\n",
    "1. `video_id` (97.0%)\n",
    "1. `official_store_id` (99.2%)\n",
    "1. `original_price` (99.9%)\n",
    "1. `catalog_product_id` (~100%)\n",
    "\n",
    "**No data:**\n",
    "1. `differential_pricing`\n",
    "1. `subtitle`"
   ]
  },
  {
   "cell_type": "markdown",
   "id": "572d891f",
   "metadata": {},
   "source": [
    "At a first glance, it looks like many features are null but have some content '[]', so they'll not be displayed as null by `.info()`."
   ]
  },
  {
   "cell_type": "code",
   "execution_count": 11,
   "id": "373498bf",
   "metadata": {},
   "outputs": [
    {
     "data": {
      "text/plain": [
       "count     90000\n",
       "unique        4\n",
       "top          []\n",
       "freq      89109\n",
       "Name: sub_status, dtype: object"
      ]
     },
     "execution_count": 11,
     "metadata": {},
     "output_type": "execute_result"
    }
   ],
   "source": [
    "X_train_df['sub_status'].describe()"
   ]
  },
  {
   "cell_type": "code",
   "execution_count": 12,
   "id": "91bb26f3",
   "metadata": {},
   "outputs": [
    {
     "data": {
      "text/plain": [
       "sub_status\n",
       "[]             89109\n",
       "[suspended]      871\n",
       "[expired]         13\n",
       "[deleted]          7\n",
       "Name: count, dtype: int64"
      ]
     },
     "execution_count": 12,
     "metadata": {},
     "output_type": "execute_result"
    }
   ],
   "source": [
    "# Showing options for 'sub_status'\n",
    "X_train_df['sub_status'].value_counts()"
   ]
  },
  {
   "cell_type": "markdown",
   "id": "c675c931",
   "metadata": {},
   "source": [
    "We can see that `sub_status` marks a few cases as suspended, expired, or deleted. These items should be removed from the dataset."
   ]
  },
  {
   "cell_type": "code",
   "execution_count": 13,
   "id": "fae0f118",
   "metadata": {},
   "outputs": [
    {
     "data": {
      "text/plain": [
       "count     90000\n",
       "unique       31\n",
       "top          []\n",
       "freq      89783\n",
       "Name: deal_ids, dtype: object"
      ]
     },
     "execution_count": 13,
     "metadata": {},
     "output_type": "execute_result"
    }
   ],
   "source": [
    "X_train_df['deal_ids'].describe()"
   ]
  },
  {
   "cell_type": "code",
   "execution_count": 14,
   "id": "69526a0b",
   "metadata": {},
   "outputs": [
    {
     "data": {
      "text/plain": [
       "count     90000\n",
       "unique     7375\n",
       "top          []\n",
       "freq      82626\n",
       "Name: variations, dtype: object"
      ]
     },
     "execution_count": 14,
     "metadata": {},
     "output_type": "execute_result"
    }
   ],
   "source": [
    "X_train_df['variations'].describe()"
   ]
  },
  {
   "cell_type": "code",
   "execution_count": 15,
   "id": "109a8477",
   "metadata": {},
   "outputs": [
    {
     "data": {
      "text/plain": [
       "count     90000\n",
       "unique     3118\n",
       "top          []\n",
       "freq      78850\n",
       "Name: attributes, dtype: object"
      ]
     },
     "execution_count": 15,
     "metadata": {},
     "output_type": "execute_result"
    }
   ],
   "source": [
    "X_train_df['attributes'].describe()"
   ]
  },
  {
   "cell_type": "code",
   "execution_count": 16,
   "id": "38c32e05",
   "metadata": {},
   "outputs": [
    {
     "data": {
      "text/plain": [
       "count                         90000\n",
       "unique                            8\n",
       "top       [dragged_bids_and_visits]\n",
       "freq                          65315\n",
       "Name: tags, dtype: object"
      ]
     },
     "execution_count": 16,
     "metadata": {},
     "output_type": "execute_result"
    }
   ],
   "source": [
    "X_train_df['tags'].describe()"
   ]
  },
  {
   "cell_type": "code",
   "execution_count": 17,
   "id": "71b3ccdf",
   "metadata": {},
   "outputs": [
    {
     "name": "stdout",
     "output_type": "stream",
     "text": [
      "{'good_quality_thumbnail', 'free_relist', 'poor_quality_thumbnail', 'dragged_visits', 'dragged_bids_and_visits'}\n"
     ]
    }
   ],
   "source": [
    "# Flatten all tag lists and get unique tag values\n",
    "unique_tags = set(tag for tags_list in X_train_df['tags'] for tag in tags_list)\n",
    "print(unique_tags)"
   ]
  },
  {
   "cell_type": "markdown",
   "id": "cb2685f0",
   "metadata": {},
   "source": [
    "It seems we only have 5 relevant values for 'tags'.\n",
    "\n",
    "So, it's plausible to assume that the remaining 3 appearing values are related with an empty field (NaN).\n",
    "\n",
    "It'll be explored later."
   ]
  },
  {
   "cell_type": "code",
   "execution_count": 18,
   "id": "ae51b14d",
   "metadata": {},
   "outputs": [
    {
     "data": {
      "text/plain": [
       "count     90000\n",
       "unique        1\n",
       "top            \n",
       "freq      90000\n",
       "Name: listing_source, dtype: object"
      ]
     },
     "execution_count": 18,
     "metadata": {},
     "output_type": "execute_result"
    }
   ],
   "source": [
    "X_train_df['listing_source'].describe()"
   ]
  },
  {
   "cell_type": "code",
   "execution_count": 19,
   "id": "cdeb4bd5",
   "metadata": {},
   "outputs": [
    {
     "data": {
      "text/plain": [
       "count     90000\n",
       "unique        1\n",
       "top          []\n",
       "freq      90000\n",
       "Name: coverage_areas, dtype: object"
      ]
     },
     "execution_count": 19,
     "metadata": {},
     "output_type": "execute_result"
    }
   ],
   "source": [
    "X_train_df['coverage_areas'].describe()"
   ]
  },
  {
   "cell_type": "markdown",
   "id": "54661b97",
   "metadata": {},
   "source": [
    "It's been verified that most of these features has '[]' instead of 'NaN'. It has to be modified.\n",
    "\n",
    "***Conflictive Features:*** coverage_areas, listing_source, tags, attributes, variations, deal_ids, sub_status"
   ]
  },
  {
   "cell_type": "markdown",
   "id": "2364a695",
   "metadata": {},
   "source": [
    "Both `listing_source` and `coverage_areas` are completely empty. The others have between 87% up to 99% nulls."
   ]
  },
  {
   "cell_type": "markdown",
   "id": "f83fa877",
   "metadata": {},
   "source": [
    "---"
   ]
  },
  {
   "cell_type": "markdown",
   "id": "f77174ad",
   "metadata": {},
   "source": [
    "### Variables distribution"
   ]
  },
  {
   "cell_type": "code",
   "execution_count": 20,
   "id": "6b718df9",
   "metadata": {},
   "outputs": [
    {
     "data": {
      "text/html": [
       "<div>\n",
       "<style scoped>\n",
       "    .dataframe tbody tr th:only-of-type {\n",
       "        vertical-align: middle;\n",
       "    }\n",
       "\n",
       "    .dataframe tbody tr th {\n",
       "        vertical-align: top;\n",
       "    }\n",
       "\n",
       "    .dataframe thead th {\n",
       "        text-align: right;\n",
       "    }\n",
       "</style>\n",
       "<table border=\"1\" class=\"dataframe\">\n",
       "  <thead>\n",
       "    <tr style=\"text-align: right;\">\n",
       "      <th></th>\n",
       "      <th>base_price</th>\n",
       "      <th>seller_id</th>\n",
       "      <th>price</th>\n",
       "      <th>official_store_id</th>\n",
       "      <th>original_price</th>\n",
       "      <th>stop_time</th>\n",
       "      <th>catalog_product_id</th>\n",
       "      <th>initial_quantity</th>\n",
       "      <th>start_time</th>\n",
       "      <th>sold_quantity</th>\n",
       "      <th>available_quantity</th>\n",
       "    </tr>\n",
       "  </thead>\n",
       "  <tbody>\n",
       "    <tr>\n",
       "      <th>count</th>\n",
       "      <td>9.000000e+04</td>\n",
       "      <td>9.000000e+04</td>\n",
       "      <td>9.000000e+04</td>\n",
       "      <td>745.000000</td>\n",
       "      <td>130.000000</td>\n",
       "      <td>9.000000e+04</td>\n",
       "      <td>7.000000e+00</td>\n",
       "      <td>90000.000000</td>\n",
       "      <td>9.000000e+04</td>\n",
       "      <td>90000.000000</td>\n",
       "      <td>90000.000000</td>\n",
       "    </tr>\n",
       "    <tr>\n",
       "      <th>mean</th>\n",
       "      <td>5.781341e+04</td>\n",
       "      <td>5.487386e+09</td>\n",
       "      <td>5.781352e+04</td>\n",
       "      <td>5802.018792</td>\n",
       "      <td>1492.522308</td>\n",
       "      <td>1.447648e+12</td>\n",
       "      <td>2.895700e+06</td>\n",
       "      <td>34.957178</td>\n",
       "      <td>1.442383e+12</td>\n",
       "      <td>2.328044</td>\n",
       "      <td>34.700767</td>\n",
       "    </tr>\n",
       "    <tr>\n",
       "      <th>std</th>\n",
       "      <td>9.089555e+06</td>\n",
       "      <td>2.587140e+09</td>\n",
       "      <td>9.089555e+06</td>\n",
       "      <td>2657.056302</td>\n",
       "      <td>1954.905741</td>\n",
       "      <td>3.251040e+09</td>\n",
       "      <td>1.919771e+06</td>\n",
       "      <td>421.091981</td>\n",
       "      <td>2.122683e+09</td>\n",
       "      <td>33.839328</td>\n",
       "      <td>420.811703</td>\n",
       "    </tr>\n",
       "    <tr>\n",
       "      <th>min</th>\n",
       "      <td>8.400000e-01</td>\n",
       "      <td>1.000319e+09</td>\n",
       "      <td>8.400000e-01</td>\n",
       "      <td>1024.000000</td>\n",
       "      <td>120.000000</td>\n",
       "      <td>1.444823e+12</td>\n",
       "      <td>9.440400e+04</td>\n",
       "      <td>1.000000</td>\n",
       "      <td>1.369110e+12</td>\n",
       "      <td>0.000000</td>\n",
       "      <td>1.000000</td>\n",
       "    </tr>\n",
       "    <tr>\n",
       "      <th>25%</th>\n",
       "      <td>9.000000e+01</td>\n",
       "      <td>3.184875e+09</td>\n",
       "      <td>9.000000e+01</td>\n",
       "      <td>3590.000000</td>\n",
       "      <td>449.000000</td>\n",
       "      <td>1.446313e+12</td>\n",
       "      <td>1.925518e+06</td>\n",
       "      <td>1.000000</td>\n",
       "      <td>1.441144e+12</td>\n",
       "      <td>0.000000</td>\n",
       "      <td>1.000000</td>\n",
       "    </tr>\n",
       "    <tr>\n",
       "      <th>50%</th>\n",
       "      <td>2.500000e+02</td>\n",
       "      <td>5.512496e+09</td>\n",
       "      <td>2.500000e+02</td>\n",
       "      <td>6158.000000</td>\n",
       "      <td>850.000000</td>\n",
       "      <td>1.447643e+12</td>\n",
       "      <td>3.051112e+06</td>\n",
       "      <td>1.000000</td>\n",
       "      <td>1.442524e+12</td>\n",
       "      <td>0.000000</td>\n",
       "      <td>1.000000</td>\n",
       "    </tr>\n",
       "    <tr>\n",
       "      <th>75%</th>\n",
       "      <td>8.000000e+02</td>\n",
       "      <td>7.704930e+09</td>\n",
       "      <td>8.000000e+02</td>\n",
       "      <td>8216.000000</td>\n",
       "      <td>1500.000000</td>\n",
       "      <td>1.448930e+12</td>\n",
       "      <td>4.073615e+06</td>\n",
       "      <td>2.000000</td>\n",
       "      <td>1.443800e+12</td>\n",
       "      <td>0.000000</td>\n",
       "      <td>2.000000</td>\n",
       "    </tr>\n",
       "    <tr>\n",
       "      <th>max</th>\n",
       "      <td>2.222222e+09</td>\n",
       "      <td>9.999853e+09</td>\n",
       "      <td>2.222222e+09</td>\n",
       "      <td>9996.000000</td>\n",
       "      <td>12248.000000</td>\n",
       "      <td>1.730732e+12</td>\n",
       "      <td>5.126117e+06</td>\n",
       "      <td>9999.000000</td>\n",
       "      <td>1.444900e+12</td>\n",
       "      <td>6065.000000</td>\n",
       "      <td>9999.000000</td>\n",
       "    </tr>\n",
       "  </tbody>\n",
       "</table>\n",
       "</div>"
      ],
      "text/plain": [
       "         base_price     seller_id         price  official_store_id  \\\n",
       "count  9.000000e+04  9.000000e+04  9.000000e+04         745.000000   \n",
       "mean   5.781341e+04  5.487386e+09  5.781352e+04        5802.018792   \n",
       "std    9.089555e+06  2.587140e+09  9.089555e+06        2657.056302   \n",
       "min    8.400000e-01  1.000319e+09  8.400000e-01        1024.000000   \n",
       "25%    9.000000e+01  3.184875e+09  9.000000e+01        3590.000000   \n",
       "50%    2.500000e+02  5.512496e+09  2.500000e+02        6158.000000   \n",
       "75%    8.000000e+02  7.704930e+09  8.000000e+02        8216.000000   \n",
       "max    2.222222e+09  9.999853e+09  2.222222e+09        9996.000000   \n",
       "\n",
       "       original_price     stop_time  catalog_product_id  initial_quantity  \\\n",
       "count      130.000000  9.000000e+04        7.000000e+00      90000.000000   \n",
       "mean      1492.522308  1.447648e+12        2.895700e+06         34.957178   \n",
       "std       1954.905741  3.251040e+09        1.919771e+06        421.091981   \n",
       "min        120.000000  1.444823e+12        9.440400e+04          1.000000   \n",
       "25%        449.000000  1.446313e+12        1.925518e+06          1.000000   \n",
       "50%        850.000000  1.447643e+12        3.051112e+06          1.000000   \n",
       "75%       1500.000000  1.448930e+12        4.073615e+06          2.000000   \n",
       "max      12248.000000  1.730732e+12        5.126117e+06       9999.000000   \n",
       "\n",
       "         start_time  sold_quantity  available_quantity  \n",
       "count  9.000000e+04   90000.000000        90000.000000  \n",
       "mean   1.442383e+12       2.328044           34.700767  \n",
       "std    2.122683e+09      33.839328          420.811703  \n",
       "min    1.369110e+12       0.000000            1.000000  \n",
       "25%    1.441144e+12       0.000000            1.000000  \n",
       "50%    1.442524e+12       0.000000            1.000000  \n",
       "75%    1.443800e+12       0.000000            2.000000  \n",
       "max    1.444900e+12    6065.000000         9999.000000  "
      ]
     },
     "execution_count": 20,
     "metadata": {},
     "output_type": "execute_result"
    }
   ],
   "source": [
    "# Descriptive statistics for numeric features\n",
    "X_train_df.describe(include=['number'])"
   ]
  },
  {
   "cell_type": "code",
   "execution_count": 21,
   "id": "4356a069",
   "metadata": {},
   "outputs": [
    {
     "data": {
      "text/html": [
       "<div>\n",
       "<style scoped>\n",
       "    .dataframe tbody tr th:only-of-type {\n",
       "        vertical-align: middle;\n",
       "    }\n",
       "\n",
       "    .dataframe tbody tr th {\n",
       "        vertical-align: top;\n",
       "    }\n",
       "\n",
       "    .dataframe thead th {\n",
       "        text-align: right;\n",
       "    }\n",
       "</style>\n",
       "<table border=\"1\" class=\"dataframe\">\n",
       "  <thead>\n",
       "    <tr style=\"text-align: right;\">\n",
       "      <th></th>\n",
       "      <th>accepts_mercadopago</th>\n",
       "      <th>automatic_relist</th>\n",
       "    </tr>\n",
       "  </thead>\n",
       "  <tbody>\n",
       "    <tr>\n",
       "      <th>count</th>\n",
       "      <td>90000</td>\n",
       "      <td>90000</td>\n",
       "    </tr>\n",
       "    <tr>\n",
       "      <th>unique</th>\n",
       "      <td>2</td>\n",
       "      <td>2</td>\n",
       "    </tr>\n",
       "    <tr>\n",
       "      <th>top</th>\n",
       "      <td>True</td>\n",
       "      <td>False</td>\n",
       "    </tr>\n",
       "    <tr>\n",
       "      <th>freq</th>\n",
       "      <td>88018</td>\n",
       "      <td>85773</td>\n",
       "    </tr>\n",
       "  </tbody>\n",
       "</table>\n",
       "</div>"
      ],
      "text/plain": [
       "       accepts_mercadopago automatic_relist\n",
       "count                90000            90000\n",
       "unique                   2                2\n",
       "top                   True            False\n",
       "freq                 88018            85773"
      ]
     },
     "execution_count": 21,
     "metadata": {},
     "output_type": "execute_result"
    }
   ],
   "source": [
    "# Descriptive statistics for bool features\n",
    "X_train_df.describe(include=['bool'])"
   ]
  },
  {
   "cell_type": "markdown",
   "id": "c8e9edcf",
   "metadata": {},
   "source": [
    "**Observations:**\n",
    "\n",
    "* **Price Discrepancy & Outliers**: The `base_price` and `price` columns show extreme outliers and a heavily right-skewed distribution, where the majority of products are inexpensive, but a few are exceptionally high-priced.\n",
    "* **Seller Diversity**: The dataset covers a wide range of sellers.\n",
    "* **Lack of Official Store & Catalog Data**: Most products are not from official stores nor linked to specific catalog product IDs, indicating a diverse marketplace with many independent sellers and general listings.\n",
    "* **Sparse Discount Information**: `original_price` is rarely recorded, suggesting that discounts aren't a primary feature in the majority of these listings.\n",
    "* **Inventory & Sales Distribution**: While most listings have low initial and available quantities and sell few items, there are some high-volume listings that significantly impact the average `initial_quantity`, `sold_quantity`, and `available_quantity`. This suggests a \"power law\" distribution typical of sales data, where a small percentage of listings account for a large percentage of sales."
   ]
  },
  {
   "cell_type": "code",
   "execution_count": 22,
   "id": "7a2c8612",
   "metadata": {},
   "outputs": [
    {
     "data": {
      "text/html": [
       "<div>\n",
       "<style scoped>\n",
       "    .dataframe tbody tr th:only-of-type {\n",
       "        vertical-align: middle;\n",
       "    }\n",
       "\n",
       "    .dataframe tbody tr th {\n",
       "        vertical-align: top;\n",
       "    }\n",
       "\n",
       "    .dataframe thead th {\n",
       "        text-align: right;\n",
       "    }\n",
       "</style>\n",
       "<table border=\"1\" class=\"dataframe\">\n",
       "  <thead>\n",
       "    <tr style=\"text-align: right;\">\n",
       "      <th></th>\n",
       "      <th>seller_address</th>\n",
       "      <th>warranty</th>\n",
       "      <th>sub_status</th>\n",
       "      <th>condition</th>\n",
       "      <th>deal_ids</th>\n",
       "      <th>shipping</th>\n",
       "      <th>non_mercado_pago_payment_methods</th>\n",
       "      <th>variations</th>\n",
       "      <th>site_id</th>\n",
       "      <th>listing_type_id</th>\n",
       "      <th>attributes</th>\n",
       "      <th>buying_mode</th>\n",
       "      <th>tags</th>\n",
       "      <th>listing_source</th>\n",
       "      <th>parent_item_id</th>\n",
       "      <th>...</th>\n",
       "      <th>descriptions</th>\n",
       "      <th>last_updated</th>\n",
       "      <th>international_delivery_mode</th>\n",
       "      <th>pictures</th>\n",
       "      <th>id</th>\n",
       "      <th>differential_pricing</th>\n",
       "      <th>currency_id</th>\n",
       "      <th>thumbnail</th>\n",
       "      <th>title</th>\n",
       "      <th>date_created</th>\n",
       "      <th>secure_thumbnail</th>\n",
       "      <th>status</th>\n",
       "      <th>video_id</th>\n",
       "      <th>subtitle</th>\n",
       "      <th>permalink</th>\n",
       "    </tr>\n",
       "  </thead>\n",
       "  <tbody>\n",
       "    <tr>\n",
       "      <th>count</th>\n",
       "      <td>18000</td>\n",
       "      <td>7010</td>\n",
       "      <td>18000</td>\n",
       "      <td>18000</td>\n",
       "      <td>18000</td>\n",
       "      <td>18000</td>\n",
       "      <td>18000</td>\n",
       "      <td>18000</td>\n",
       "      <td>18000</td>\n",
       "      <td>18000</td>\n",
       "      <td>18000</td>\n",
       "      <td>18000</td>\n",
       "      <td>18000</td>\n",
       "      <td>18000</td>\n",
       "      <td>13870</td>\n",
       "      <td>...</td>\n",
       "      <td>18000</td>\n",
       "      <td>18000</td>\n",
       "      <td>18000</td>\n",
       "      <td>18000</td>\n",
       "      <td>18000</td>\n",
       "      <td>0</td>\n",
       "      <td>18000</td>\n",
       "      <td>18000</td>\n",
       "      <td>18000</td>\n",
       "      <td>18000</td>\n",
       "      <td>18000</td>\n",
       "      <td>18000</td>\n",
       "      <td>497</td>\n",
       "      <td>0</td>\n",
       "      <td>18000</td>\n",
       "    </tr>\n",
       "    <tr>\n",
       "      <th>unique</th>\n",
       "      <td>1712</td>\n",
       "      <td>2785</td>\n",
       "      <td>4</td>\n",
       "      <td>2</td>\n",
       "      <td>13</td>\n",
       "      <td>23</td>\n",
       "      <td>83</td>\n",
       "      <td>1482</td>\n",
       "      <td>1</td>\n",
       "      <td>7</td>\n",
       "      <td>654</td>\n",
       "      <td>3</td>\n",
       "      <td>7</td>\n",
       "      <td>1</td>\n",
       "      <td>13870</td>\n",
       "      <td>...</td>\n",
       "      <td>17536</td>\n",
       "      <td>17828</td>\n",
       "      <td>1</td>\n",
       "      <td>17840</td>\n",
       "      <td>18000</td>\n",
       "      <td>0</td>\n",
       "      <td>2</td>\n",
       "      <td>17835</td>\n",
       "      <td>17917</td>\n",
       "      <td>17467</td>\n",
       "      <td>17835</td>\n",
       "      <td>3</td>\n",
       "      <td>382</td>\n",
       "      <td>0</td>\n",
       "      <td>18000</td>\n",
       "    </tr>\n",
       "    <tr>\n",
       "      <th>top</th>\n",
       "      <td>{'country': {'name': 'Argentina', 'id': 'AR'},...</td>\n",
       "      <td>Sí</td>\n",
       "      <td>[]</td>\n",
       "      <td>new</td>\n",
       "      <td>[]</td>\n",
       "      <td>{'local_pick_up': True, 'methods': [], 'tags':...</td>\n",
       "      <td>[]</td>\n",
       "      <td>[]</td>\n",
       "      <td>MLA</td>\n",
       "      <td>bronze</td>\n",
       "      <td>[]</td>\n",
       "      <td>buy_it_now</td>\n",
       "      <td>[dragged_bids_and_visits]</td>\n",
       "      <td></td>\n",
       "      <td>MLA3187719821</td>\n",
       "      <td>...</td>\n",
       "      <td>[]</td>\n",
       "      <td>2015-09-04T22:10:47.000Z</td>\n",
       "      <td>none</td>\n",
       "      <td>[]</td>\n",
       "      <td>MLA5318071280</td>\n",
       "      <td>NaN</td>\n",
       "      <td>ARS</td>\n",
       "      <td></td>\n",
       "      <td>50 Suspensores Para Short De Baño Tela Calada</td>\n",
       "      <td>2015-09-28T14:10:39.000Z</td>\n",
       "      <td></td>\n",
       "      <td>active</td>\n",
       "      <td>QQNfOicE_o8</td>\n",
       "      <td>NaN</td>\n",
       "      <td>http://articulo.mercadolibre.com.ar/MLA5318071...</td>\n",
       "    </tr>\n",
       "    <tr>\n",
       "      <th>freq</th>\n",
       "      <td>719</td>\n",
       "      <td>1060</td>\n",
       "      <td>17834</td>\n",
       "      <td>9635</td>\n",
       "      <td>17956</td>\n",
       "      <td>7477</td>\n",
       "      <td>5454</td>\n",
       "      <td>16519</td>\n",
       "      <td>18000</td>\n",
       "      <td>11393</td>\n",
       "      <td>15787</td>\n",
       "      <td>17485</td>\n",
       "      <td>13081</td>\n",
       "      <td>18000</td>\n",
       "      <td>1</td>\n",
       "      <td>...</td>\n",
       "      <td>465</td>\n",
       "      <td>3</td>\n",
       "      <td>18000</td>\n",
       "      <td>161</td>\n",
       "      <td>1</td>\n",
       "      <td>NaN</td>\n",
       "      <td>17891</td>\n",
       "      <td>161</td>\n",
       "      <td>11</td>\n",
       "      <td>4</td>\n",
       "      <td>161</td>\n",
       "      <td>17245</td>\n",
       "      <td>59</td>\n",
       "      <td>NaN</td>\n",
       "      <td>1</td>\n",
       "    </tr>\n",
       "  </tbody>\n",
       "</table>\n",
       "<p>4 rows × 32 columns</p>\n",
       "</div>"
      ],
      "text/plain": [
       "                                           seller_address warranty sub_status  \\\n",
       "count                                               18000     7010      18000   \n",
       "unique                                               1712     2785          4   \n",
       "top     {'country': {'name': 'Argentina', 'id': 'AR'},...       Sí         []   \n",
       "freq                                                  719     1060      17834   \n",
       "\n",
       "       condition deal_ids                                           shipping  \\\n",
       "count      18000    18000                                              18000   \n",
       "unique         2       13                                                 23   \n",
       "top          new       []  {'local_pick_up': True, 'methods': [], 'tags':...   \n",
       "freq        9635    17956                                               7477   \n",
       "\n",
       "       non_mercado_pago_payment_methods variations site_id listing_type_id  \\\n",
       "count                             18000      18000   18000           18000   \n",
       "unique                               83       1482       1               7   \n",
       "top                                  []         []     MLA          bronze   \n",
       "freq                               5454      16519   18000           11393   \n",
       "\n",
       "       attributes buying_mode                       tags listing_source  \\\n",
       "count       18000       18000                      18000          18000   \n",
       "unique        654           3                          7              1   \n",
       "top            []  buy_it_now  [dragged_bids_and_visits]                  \n",
       "freq        15787       17485                      13081          18000   \n",
       "\n",
       "       parent_item_id  ... descriptions              last_updated  \\\n",
       "count           13870  ...        18000                     18000   \n",
       "unique          13870  ...        17536                     17828   \n",
       "top     MLA3187719821  ...           []  2015-09-04T22:10:47.000Z   \n",
       "freq                1  ...          465                         3   \n",
       "\n",
       "       international_delivery_mode pictures             id  \\\n",
       "count                        18000    18000          18000   \n",
       "unique                           1    17840          18000   \n",
       "top                           none       []  MLA5318071280   \n",
       "freq                         18000      161              1   \n",
       "\n",
       "       differential_pricing currency_id thumbnail  \\\n",
       "count                     0       18000     18000   \n",
       "unique                    0           2     17835   \n",
       "top                     NaN         ARS             \n",
       "freq                    NaN       17891       161   \n",
       "\n",
       "                                                title  \\\n",
       "count                                           18000   \n",
       "unique                                          17917   \n",
       "top     50 Suspensores Para Short De Baño Tela Calada   \n",
       "freq                                               11   \n",
       "\n",
       "                    date_created secure_thumbnail  status     video_id  \\\n",
       "count                      18000            18000   18000          497   \n",
       "unique                     17467            17835       3          382   \n",
       "top     2015-09-28T14:10:39.000Z                   active  QQNfOicE_o8   \n",
       "freq                           4              161   17245           59   \n",
       "\n",
       "       subtitle                                          permalink  \n",
       "count         0                                              18000  \n",
       "unique        0                                              18000  \n",
       "top         NaN  http://articulo.mercadolibre.com.ar/MLA5318071...  \n",
       "freq        NaN                                                  1  \n",
       "\n",
       "[4 rows x 32 columns]"
      ]
     },
     "execution_count": 22,
     "metadata": {},
     "output_type": "execute_result"
    }
   ],
   "source": [
    "# Descriptive statistics for string features\n",
    "# NOTE: Due to the large number of columns and rows, we will sample a subset of the data\n",
    "X_train_df.sample(int(len(X_train_df)*0.2)).describe(include=['object']) # pd.describe() for 'objects' is a time consuming process"
   ]
  },
  {
   "cell_type": "code",
   "execution_count": 23,
   "id": "fdd598fb",
   "metadata": {},
   "outputs": [
    {
     "data": {
      "text/plain": [
       "array(['active', 'paused', 'closed', 'not_yet_active'], dtype=object)"
      ]
     },
     "execution_count": 23,
     "metadata": {},
     "output_type": "execute_result"
    }
   ],
   "source": [
    "X_train_df['status'].unique()"
   ]
  },
  {
   "cell_type": "code",
   "execution_count": 24,
   "id": "8b7095bd",
   "metadata": {},
   "outputs": [
    {
     "data": {
      "text/plain": [
       "[{'country': {'name': 'Argentina', 'id': 'AR'},\n",
       "  'state': {'name': 'Buenos Aires', 'id': 'AR-B'},\n",
       "  'city': {'name': 'Ituzaingó', 'id': 'TUxBQ0lUVTNjNDFm'}}]"
      ]
     },
     "execution_count": 24,
     "metadata": {},
     "output_type": "execute_result"
    }
   ],
   "source": [
    "X_train_df['seller_address'].sample().to_list()"
   ]
  },
  {
   "cell_type": "code",
   "execution_count": 25,
   "id": "4ff42d13",
   "metadata": {},
   "outputs": [
    {
     "data": {
      "text/plain": [
       "count      90000\n",
       "unique         4\n",
       "top       active\n",
       "freq       86116\n",
       "Name: status, dtype: object"
      ]
     },
     "execution_count": 25,
     "metadata": {},
     "output_type": "execute_result"
    }
   ],
   "source": [
    "X_train_df['status'].describe()"
   ]
  },
  {
   "cell_type": "markdown",
   "id": "77105349",
   "metadata": {},
   "source": [
    "### Unique values"
   ]
  },
  {
   "cell_type": "code",
   "execution_count": 26,
   "id": "33e6820c",
   "metadata": {},
   "outputs": [],
   "source": [
    "def create_unique_value_lists(df: pd.DataFrame) -> dict:\n",
    "    \"\"\"\n",
    "    Creates a dictionary of unique values for each column in a DataFrame,\n",
    "    but only if the number of unique values in a column is less than 16.\n",
    "\n",
    "    Args:\n",
    "        df: The input pandas DataFrame.\n",
    "\n",
    "    Returns:\n",
    "        A dictionary where keys are column names and values are lists of\n",
    "        unique values for those columns, subject to the condition.\n",
    "    \"\"\"\n",
    "    unique_values_dict = {}\n",
    "    for column in df.columns:\n",
    "        # Check if the column contains dictionaries or other unhashable types\n",
    "        # and convert them to strings for unique() to work.\n",
    "        # This is a robust way to handle mixed types or potential unhashable objects.\n",
    "        if df[column].apply(lambda x: isinstance(x, (dict, list, set))).any():\n",
    "            unique_vals = df[column].astype(str).unique()\n",
    "        else:\n",
    "            unique_vals = df[column].unique()\n",
    "\n",
    "        if len(unique_vals) < 16:\n",
    "            unique_values_dict[column] = unique_vals.tolist()\n",
    "    return unique_values_dict"
   ]
  },
  {
   "cell_type": "code",
   "execution_count": 27,
   "id": "514042ab",
   "metadata": {},
   "outputs": [
    {
     "data": {
      "text/plain": [
       "array([''], dtype=object)"
      ]
     },
     "execution_count": 27,
     "metadata": {},
     "output_type": "execute_result"
    }
   ],
   "source": [
    "X_train_df['listing_source'].unique()"
   ]
  },
  {
   "cell_type": "code",
   "execution_count": 28,
   "id": "cd02ee85",
   "metadata": {},
   "outputs": [
    {
     "name": "stdout",
     "output_type": "stream",
     "text": [
      "Unique values (with less than 16 possibilities):\n",
      "Column 'site_id': ['MLA']\n",
      "Column 'listing_source': ['']\n",
      "Column 'coverage_areas': ['[]']\n",
      "Column 'international_delivery_mode': ['none']\n",
      "Column 'differential_pricing': [None]\n",
      "Column 'subtitle': [None]\n",
      "Column 'condition': ['new', 'used']\n",
      "Column 'accepts_mercadopago': [True, False]\n",
      "Column 'currency_id': ['ARS', 'USD']\n",
      "Column 'automatic_relist': [False, True]\n",
      "Column 'buying_mode': ['buy_it_now', 'classified', 'auction']\n",
      "Column 'sub_status': ['[]', \"['suspended']\", \"['expired']\", \"['deleted']\"]\n",
      "Column 'status': ['active', 'paused', 'closed', 'not_yet_active']\n",
      "Column 'listing_type_id': ['bronze', 'silver', 'free', 'gold_special', 'gold', 'gold_premium', 'gold_pro']\n",
      "Column 'tags': [\"['dragged_bids_and_visits']\", '[]', \"['good_quality_thumbnail', 'dragged_bids_and_visits']\", \"['good_quality_thumbnail']\", \"['dragged_visits']\", \"['dragged_visits', 'free_relist']\", \"['poor_quality_thumbnail', 'dragged_bids_and_visits']\", \"['poor_quality_thumbnail']\"]\n",
      "Column 'catalog_product_id': [nan, 800744.0, 5093232.0, 3050291.0, 5126117.0, 94404.0, 3051112.0, 3053998.0]\n"
     ]
    }
   ],
   "source": [
    "# Get unique values for each column with less than 16 unique values\n",
    "filtered_unique_values = create_unique_value_lists(X_train_df)\n",
    "filtered_unique_values = sorted(filtered_unique_values.items(), key=lambda x: len(x[1]), reverse=False)\n",
    "\n",
    "print(\"Unique values (with less than 16 possibilities):\")\n",
    "for col, values in filtered_unique_values:\n",
    "    print(f\"Column '{col}': {values}\")"
   ]
  },
  {
   "cell_type": "code",
   "execution_count": 29,
   "id": "4040cb08",
   "metadata": {},
   "outputs": [
    {
     "data": {
      "text/plain": [
       "tags\n",
       "[dragged_bids_and_visits]                            65315\n",
       "[]                                                   22412\n",
       "[good_quality_thumbnail, dragged_bids_and_visits]     1191\n",
       "[dragged_visits]                                       464\n",
       "[good_quality_thumbnail]                               346\n",
       "[dragged_visits, free_relist]                          259\n",
       "[poor_quality_thumbnail, dragged_bids_and_visits]       10\n",
       "[poor_quality_thumbnail]                                 3\n",
       "Name: count, dtype: int64"
      ]
     },
     "execution_count": 29,
     "metadata": {},
     "output_type": "execute_result"
    }
   ],
   "source": [
    "X_train_df['tags'].value_counts()"
   ]
  },
  {
   "cell_type": "markdown",
   "id": "b7bf3d1c",
   "metadata": {},
   "source": [
    "**Observations:**\n",
    "- It looks like `tags` work as a list of strings that specify every tag that applies to that item.\n",
    "- It appears that `site_id` is always 'MLA'.\n",
    "- Some are binary features: `condition`, `currency_id`, `automatic_relist`\n",
    "- `catalog_product_id` is almost empty (just a few items with data)."
   ]
  },
  {
   "cell_type": "markdown",
   "id": "7a412dba",
   "metadata": {},
   "source": [
    "For this dataset, `site_id` doesn't add any information because it's 'MLA' value for every item. Therefore, it won't be used."
   ]
  },
  {
   "cell_type": "code",
   "execution_count": 30,
   "id": "2c51ba1b",
   "metadata": {},
   "outputs": [
    {
     "data": {
      "text/plain": [
       "count     90000\n",
       "unique        1\n",
       "top         MLA\n",
       "freq      90000\n",
       "Name: site_id, dtype: object"
      ]
     },
     "execution_count": 30,
     "metadata": {},
     "output_type": "execute_result"
    }
   ],
   "source": [
    "X_train_df['site_id'].describe()"
   ]
  },
  {
   "cell_type": "markdown",
   "id": "d258e365",
   "metadata": {},
   "source": [
    "### Outliers"
   ]
  },
  {
   "cell_type": "markdown",
   "id": "fc77e802",
   "metadata": {},
   "source": [
    "### Correlation"
   ]
  },
  {
   "cell_type": "code",
   "execution_count": 31,
   "id": "3261c98f",
   "metadata": {},
   "outputs": [
    {
     "name": "stdout",
     "output_type": "stream",
     "text": [
      "Numerical features for filtering:\n",
      "['base_price', 'seller_id', 'price', 'official_store_id', 'original_price', 'stop_time', 'catalog_product_id', 'initial_quantity', 'start_time', 'sold_quantity', 'available_quantity']\n"
     ]
    }
   ],
   "source": [
    "# Get the numerical columns\n",
    "numerical_features = X_train_df.select_dtypes(include=['number']).columns.tolist()\n",
    "\n",
    "print(\"Numerical features for filtering:\")\n",
    "print(numerical_features)"
   ]
  },
  {
   "cell_type": "code",
   "execution_count": 32,
   "id": "6cf190dd",
   "metadata": {},
   "outputs": [
    {
     "data": {
      "image/png": "[encoded data removed]",
      "text/plain": [
       "<Figure size 1000x800 with 2 Axes>"
      ]
     },
     "metadata": {},
     "output_type": "display_data"
    }
   ],
   "source": [
    "# Compute correlation matrix for numerical features\n",
    "corr_matrix = X_train_df[numerical_features].corr()\n",
    "\n",
    "# Plot correlation heatmap\n",
    "plt.figure(figsize=(10, 8))\n",
    "sns.heatmap(corr_matrix, annot=True, cmap='coolwarm', fmt='.2f')\n",
    "plt.title('Correlation Matrix of Numerical Features')\n",
    "plt.show()"
   ]
  },
  {
   "cell_type": "markdown",
   "id": "231d3f3d",
   "metadata": {},
   "source": [
    "**Observations:**\n",
    "- ***Linear correlation:***\n",
    "    - best_price/price/original_price\n",
    "    - initial_quantity/available_quantity\n",
    "- ***Positive correlation:***\n",
    "    1. catalog_product_id/seller_id\n",
    "    1. catalog_product_id/initial_quantity/sold_quantity/available_quantity\n",
    "    1. start_time/stop_time\n",
    "    1. original_price/initial_quantity/available_quantity/sold_quantity\n",
    "    1. start_time/catalog_product_id\n",
    "- ***Negative correlation:***\n",
    "    1. catalog_product_id/price/base_price\n",
    "    1. official_store_id/initial_quantity/available_quantity\n",
    "    1. official_store_id/original_price"
   ]
  },
  {
   "cell_type": "markdown",
   "id": "99d3a8f0",
   "metadata": {},
   "source": [
    "**Insights:**\n",
    "- High correlation between different price & quantity variables is expectable.\n",
    "- Both `catalog_product_id` & `official_store_id` have a strong negative correlation with price & quantity variables. However, these features had a lot of null values, then they won't be useful for inference.\n",
    "\n"
   ]
  },
  {
   "cell_type": "markdown",
   "id": "03bbfd96",
   "metadata": {},
   "source": [
    "## 1.2 Target variable"
   ]
  },
  {
   "cell_type": "code",
   "execution_count": 5,
   "id": "e928cf8d",
   "metadata": {},
   "outputs": [
    {
     "data": {
      "text/plain": [
       "count     90000\n",
       "unique        2\n",
       "top         new\n",
       "freq      48352\n",
       "dtype: object"
      ]
     },
     "execution_count": 5,
     "metadata": {},
     "output_type": "execute_result"
    }
   ],
   "source": [
    "# Target variable distribution\n",
    "y_train_df.describe()"
   ]
  },
  {
   "cell_type": "code",
   "execution_count": 6,
   "id": "e010d8f0",
   "metadata": {},
   "outputs": [
    {
     "data": {
      "text/plain": [
       "count     90000\n",
       "unique        2\n",
       "top         new\n",
       "freq      48352\n",
       "Name: condition, dtype: object"
      ]
     },
     "execution_count": 6,
     "metadata": {},
     "output_type": "execute_result"
    }
   ],
   "source": [
    "X_train_df['condition'].describe()"
   ]
  },
  {
   "cell_type": "code",
   "execution_count": 7,
   "id": "c8c2bb6c",
   "metadata": {},
   "outputs": [
    {
     "name": "stdout",
     "output_type": "stream",
     "text": [
      "No mismatches detected between 'condition' and target variable.\n"
     ]
    }
   ],
   "source": [
    "detected = False\n",
    "for i, row in enumerate(X_train_df['condition']):\n",
    "    if row == y_train_df.iloc[i]:\n",
    "        pass\n",
    "    else:\n",
    "        print(f\"Mismatch at index {i}:\", row)\n",
    "        detected = True\n",
    "if not detected:\n",
    "    print(\"No mismatches detected between 'condition' and target variable.\")"
   ]
  },
  {
   "cell_type": "code",
   "execution_count": 8,
   "id": "8f6ff6cc",
   "metadata": {},
   "outputs": [
    {
     "data": {
      "text/plain": [
       "Index(['seller_address', 'warranty', 'sub_status', 'deal_ids', 'base_price',\n",
       "       'shipping', 'non_mercado_pago_payment_methods', 'seller_id',\n",
       "       'variations', 'site_id', 'listing_type_id', 'price', 'attributes',\n",
       "       'buying_mode', 'tags', 'listing_source', 'parent_item_id',\n",
       "       'coverage_areas', 'category_id', 'descriptions', 'last_updated',\n",
       "       'international_delivery_mode', 'pictures', 'id', 'official_store_id',\n",
       "       'differential_pricing', 'accepts_mercadopago', 'original_price',\n",
       "       'currency_id', 'thumbnail', 'title', 'automatic_relist', 'date_created',\n",
       "       'secure_thumbnail', 'stop_time', 'status', 'video_id',\n",
       "       'catalog_product_id', 'subtitle', 'initial_quantity', 'start_time',\n",
       "       'permalink', 'sold_quantity', 'available_quantity'],\n",
       "      dtype='object')"
      ]
     },
     "execution_count": 8,
     "metadata": {},
     "output_type": "execute_result"
    }
   ],
   "source": [
    "X_test_df.columns"
   ]
  },
  {
   "cell_type": "markdown",
   "id": "97a6af52",
   "metadata": {},
   "source": [
    "As we verified, the column `condition` is effectively the target value. We will remove it from dataset."
   ]
  },
  {
   "cell_type": "markdown",
   "id": "3b3bc812",
   "metadata": {},
   "source": [
    "Actually, it should've been removed by the `new_or_used.py` script, but it seems that feature was forgotten for the test split.\n",
    "\n",
    "The `build_dataset()` function should be fixed to delete it previously."
   ]
  },
  {
   "cell_type": "code",
   "execution_count": 9,
   "id": "7a338c16",
   "metadata": {},
   "outputs": [],
   "source": [
    "# Remove 'condition' column as it is the target variable\n",
    "del X_train_df['condition']"
   ]
  },
  {
   "cell_type": "code",
   "execution_count": 10,
   "id": "d3cb0c5e",
   "metadata": {},
   "outputs": [
    {
     "data": {
      "text/plain": [
       "Index(['seller_address', 'warranty', 'sub_status', 'deal_ids', 'base_price',\n",
       "       'shipping', 'non_mercado_pago_payment_methods', 'seller_id',\n",
       "       'variations', 'site_id', 'listing_type_id', 'price', 'attributes',\n",
       "       'buying_mode', 'tags', 'listing_source', 'parent_item_id',\n",
       "       'coverage_areas', 'category_id', 'descriptions', 'last_updated',\n",
       "       'international_delivery_mode', 'pictures', 'id', 'official_store_id',\n",
       "       'differential_pricing', 'accepts_mercadopago', 'original_price',\n",
       "       'currency_id', 'thumbnail', 'title', 'automatic_relist', 'date_created',\n",
       "       'secure_thumbnail', 'stop_time', 'status', 'video_id',\n",
       "       'catalog_product_id', 'subtitle', 'initial_quantity', 'start_time',\n",
       "       'permalink', 'sold_quantity', 'available_quantity'],\n",
       "      dtype='object')"
      ]
     },
     "execution_count": 10,
     "metadata": {},
     "output_type": "execute_result"
    }
   ],
   "source": [
    "X_train_df.columns"
   ]
  },
  {
   "cell_type": "markdown",
   "id": "b3513fa1",
   "metadata": {},
   "source": [
    "# 2. Feature Engineering"
   ]
  },
  {
   "cell_type": "markdown",
   "id": "4eefdb7d",
   "metadata": {},
   "source": [
    "## Removing empty values"
   ]
  },
  {
   "cell_type": "code",
   "execution_count": 11,
   "id": "800d4d48",
   "metadata": {},
   "outputs": [
    {
     "data": {
      "text/html": [
       "<div>\n",
       "<style scoped>\n",
       "    .dataframe tbody tr th:only-of-type {\n",
       "        vertical-align: middle;\n",
       "    }\n",
       "\n",
       "    .dataframe tbody tr th {\n",
       "        vertical-align: top;\n",
       "    }\n",
       "\n",
       "    .dataframe thead th {\n",
       "        text-align: right;\n",
       "    }\n",
       "</style>\n",
       "<table border=\"1\" class=\"dataframe\">\n",
       "  <thead>\n",
       "    <tr style=\"text-align: right;\">\n",
       "      <th></th>\n",
       "      <th>differential_pricing</th>\n",
       "      <th>subtitle</th>\n",
       "      <th>listing_source</th>\n",
       "      <th>coverage_areas</th>\n",
       "      <th>international_delivery_mode</th>\n",
       "    </tr>\n",
       "  </thead>\n",
       "  <tbody>\n",
       "    <tr>\n",
       "      <th>count</th>\n",
       "      <td>0</td>\n",
       "      <td>0</td>\n",
       "      <td>90000</td>\n",
       "      <td>90000</td>\n",
       "      <td>90000</td>\n",
       "    </tr>\n",
       "    <tr>\n",
       "      <th>unique</th>\n",
       "      <td>0</td>\n",
       "      <td>0</td>\n",
       "      <td>1</td>\n",
       "      <td>1</td>\n",
       "      <td>1</td>\n",
       "    </tr>\n",
       "    <tr>\n",
       "      <th>top</th>\n",
       "      <td>NaN</td>\n",
       "      <td>NaN</td>\n",
       "      <td></td>\n",
       "      <td>[]</td>\n",
       "      <td>none</td>\n",
       "    </tr>\n",
       "    <tr>\n",
       "      <th>freq</th>\n",
       "      <td>NaN</td>\n",
       "      <td>NaN</td>\n",
       "      <td>90000</td>\n",
       "      <td>90000</td>\n",
       "      <td>90000</td>\n",
       "    </tr>\n",
       "  </tbody>\n",
       "</table>\n",
       "</div>"
      ],
      "text/plain": [
       "       differential_pricing subtitle listing_source coverage_areas  \\\n",
       "count                     0        0          90000          90000   \n",
       "unique                    0        0              1              1   \n",
       "top                     NaN      NaN                            []   \n",
       "freq                    NaN      NaN          90000          90000   \n",
       "\n",
       "       international_delivery_mode  \n",
       "count                        90000  \n",
       "unique                           1  \n",
       "top                           none  \n",
       "freq                         90000  "
      ]
     },
     "execution_count": 11,
     "metadata": {},
     "output_type": "execute_result"
    }
   ],
   "source": [
    "empty_columns = ['differential_pricing', 'subtitle', 'listing_source', 'coverage_areas','international_delivery_mode']\n",
    "X_train_df[empty_columns].describe()"
   ]
  },
  {
   "cell_type": "code",
   "execution_count": 12,
   "id": "541b490b",
   "metadata": {},
   "outputs": [],
   "source": [
    "# Remove empty columns\n",
    "X_train_df.drop(columns=empty_columns, inplace=True)\n",
    "y_train_df.drop(columns=empty_columns, inplace=True)"
   ]
  },
  {
   "cell_type": "markdown",
   "id": "068b29e3",
   "metadata": {},
   "source": [
    "## Missing Values handling\n",
    "- Nulls: `parent_item_id`, `warranty`\n",
    "- empty list ('[]'): `sub_status`, `tags`"
   ]
  },
  {
   "cell_type": "markdown",
   "id": "64101fbf",
   "metadata": {},
   "source": [
    "### Nulls\n",
    "We have previously detected missing values for `parent_item_id` and `warranty`, but these features won't be taken in consideration, so handling missing values is no needed by now."
   ]
  },
  {
   "cell_type": "markdown",
   "id": "f36562e6",
   "metadata": {},
   "source": [
    "### Empty lists\n",
    "Some features has '[]' values"
   ]
  },
  {
   "cell_type": "code",
   "execution_count": 13,
   "id": "c954b8e2",
   "metadata": {},
   "outputs": [],
   "source": [
    "# Convert the column to string type to ensure consistency\n",
    "X_train_df['sub_status'] = X_train_df['sub_status'].astype(str)\n",
    "X_train_df['sub_status'] = X_train_df['sub_status'].replace('[]', np.nan)"
   ]
  },
  {
   "cell_type": "code",
   "execution_count": 14,
   "id": "9fcb7c12",
   "metadata": {},
   "outputs": [
    {
     "data": {
      "text/plain": [
       "array([nan, \"['suspended']\", \"['expired']\", \"['deleted']\"], dtype=object)"
      ]
     },
     "execution_count": 14,
     "metadata": {},
     "output_type": "execute_result"
    }
   ],
   "source": [
    "X_train_df['sub_status'].unique()"
   ]
  },
  {
   "cell_type": "code",
   "execution_count": 15,
   "id": "59351d4d",
   "metadata": {},
   "outputs": [
    {
     "name": "stdout",
     "output_type": "stream",
     "text": [
      "Removed 891 items (-0.99%) with 'sub_status' data.\n"
     ]
    }
   ],
   "source": [
    "# Remove items where 'sub_status' contains any data (not active items)\n",
    "original = len(X_train_df)\n",
    "mask = X_train_df['sub_status'].isna()\n",
    "X_train_df = X_train_df[mask]\n",
    "y_train_df = y_train_df[mask]\n",
    "cleaned = len(X_train_df)\n",
    "print(f\"Removed {original - cleaned} items ({cleaned/original-1:.2%}) with 'sub_status' data.\")"
   ]
  },
  {
   "cell_type": "code",
   "execution_count": 16,
   "id": "922eb2f0",
   "metadata": {},
   "outputs": [
    {
     "data": {
      "text/plain": [
       "array([nan], dtype=object)"
      ]
     },
     "execution_count": 16,
     "metadata": {},
     "output_type": "execute_result"
    }
   ],
   "source": [
    "# Double check if values were removed correctly\n",
    "X_train_df['sub_status'].unique()"
   ]
  },
  {
   "cell_type": "code",
   "execution_count": 17,
   "id": "2c25ee29",
   "metadata": {},
   "outputs": [],
   "source": [
    "# 'sub_status' is no longer needed, so we can drop it\n",
    "X_train_df.drop(columns=['sub_status'], inplace=True)"
   ]
  },
  {
   "cell_type": "markdown",
   "id": "463b5e37",
   "metadata": {},
   "source": [
    "## Outliers handling"
   ]
  },
  {
   "cell_type": "code",
   "execution_count": 18,
   "id": "11f428e2",
   "metadata": {},
   "outputs": [],
   "source": [
    "def remove_outliers_iqr(df: pd.DataFrame, column: str, iqr_factor: float = 1.5) -> pd.DataFrame:\n",
    "    \"\"\"\n",
    "    Removes outliers from a specified column in a DataFrame using the IQR method.\n",
    "\n",
    "    Args:\n",
    "        df (pd.DataFrame): The input DataFrame.\n",
    "        column (str): The name of the numerical column to remove outliers from.\n",
    "        iqr_factor (float): The multiplier for the IQR to define outlier bounds (default is 1.5).\n",
    "\n",
    "    Returns:\n",
    "        pd.DataFrame: A new DataFrame with outliers removed from the specified column.\n",
    "    \"\"\"\n",
    "    Q1 = df[column].quantile(0.25)\n",
    "    Q3 = df[column].quantile(0.75)\n",
    "    IQR = Q3 - Q1\n",
    "\n",
    "    lower_bound = Q1 - iqr_factor * IQR\n",
    "    upper_bound = Q3 + iqr_factor * IQR\n",
    "\n",
    "    # Filter out the outliers\n",
    "    df_no_outliers = df[(df[column] >= lower_bound) & (df[column] <= upper_bound)]\n",
    "\n",
    "    print(f\"Outliers removed from '{column}' using IQR method (factor: {iqr_factor}):\")\n",
    "    print(f\"  Original rows: {len(df)}\")\n",
    "    print(f\"  Rows after outlier removal: {len(df_no_outliers)}\")\n",
    "    print(f\"  Outliers removed: {len(df) - len(df_no_outliers)}\")\n",
    "\n",
    "    return df_no_outliers"
   ]
  },
  {
   "cell_type": "code",
   "execution_count": 19,
   "id": "c1e2c056",
   "metadata": {},
   "outputs": [
    {
     "name": "stdout",
     "output_type": "stream",
     "text": [
      "Outliers removed from 'price' using IQR method (factor: 1.5):\n",
      "  Original rows: 89109\n",
      "  Rows after outlier removal: 76108\n",
      "  Outliers removed: 13001\n",
      "\n",
      "Outliers removed from 'initial_quantity' using IQR method (factor: 1.5):\n",
      "  Original rows: 76108\n",
      "  Rows after outlier removal: 64161\n",
      "  Outliers removed: 11947\n",
      "\n"
     ]
    }
   ],
   "source": [
    "continuous_features = ['price', 'initial_quantity']\n",
    "\n",
    "# Initialize the DataFrame that will store the cumulatively filtered data.\n",
    "X_train_outlier_df = X_train_df.copy()\n",
    "\n",
    "for feature in continuous_features:\n",
    "    X_train_outlier_df = remove_outliers_iqr(X_train_outlier_df.copy(), feature, iqr_factor=1.5)\n",
    "    print()"
   ]
  },
  {
   "cell_type": "markdown",
   "id": "8b502ad7",
   "metadata": {},
   "source": [
    "## Normalization\n",
    "Min-max scaling will be applied to continues values."
   ]
  },
  {
   "cell_type": "code",
   "execution_count": 20,
   "id": "eab3afc6",
   "metadata": {},
   "outputs": [
    {
     "name": "stdout",
     "output_type": "stream",
     "text": [
      "DataFrame after Min-Max Scaling:\n"
     ]
    },
    {
     "data": {
      "text/html": [
       "<div>\n",
       "<style scoped>\n",
       "    .dataframe tbody tr th:only-of-type {\n",
       "        vertical-align: middle;\n",
       "    }\n",
       "\n",
       "    .dataframe tbody tr th {\n",
       "        vertical-align: top;\n",
       "    }\n",
       "\n",
       "    .dataframe thead th {\n",
       "        text-align: right;\n",
       "    }\n",
       "</style>\n",
       "<table border=\"1\" class=\"dataframe\">\n",
       "  <thead>\n",
       "    <tr style=\"text-align: right;\">\n",
       "      <th></th>\n",
       "      <th>price</th>\n",
       "      <th>initial_quantity</th>\n",
       "    </tr>\n",
       "  </thead>\n",
       "  <tbody>\n",
       "    <tr>\n",
       "      <th>count</th>\n",
       "      <td>8.910900e+04</td>\n",
       "      <td>89109.000000</td>\n",
       "    </tr>\n",
       "    <tr>\n",
       "      <th>mean</th>\n",
       "      <td>2.626932e-05</td>\n",
       "      <td>0.003386</td>\n",
       "    </tr>\n",
       "    <tr>\n",
       "      <th>std</th>\n",
       "      <td>4.110698e-03</td>\n",
       "      <td>0.042288</td>\n",
       "    </tr>\n",
       "    <tr>\n",
       "      <th>min</th>\n",
       "      <td>0.000000e+00</td>\n",
       "      <td>0.000000</td>\n",
       "    </tr>\n",
       "    <tr>\n",
       "      <th>25%</th>\n",
       "      <td>4.012200e-08</td>\n",
       "      <td>0.000000</td>\n",
       "    </tr>\n",
       "    <tr>\n",
       "      <th>50%</th>\n",
       "      <td>1.121220e-07</td>\n",
       "      <td>0.000000</td>\n",
       "    </tr>\n",
       "    <tr>\n",
       "      <th>75%</th>\n",
       "      <td>3.596220e-07</td>\n",
       "      <td>0.000100</td>\n",
       "    </tr>\n",
       "    <tr>\n",
       "      <th>max</th>\n",
       "      <td>1.000000e+00</td>\n",
       "      <td>1.000000</td>\n",
       "    </tr>\n",
       "  </tbody>\n",
       "</table>\n",
       "</div>"
      ],
      "text/plain": [
       "              price  initial_quantity\n",
       "count  8.910900e+04      89109.000000\n",
       "mean   2.626932e-05          0.003386\n",
       "std    4.110698e-03          0.042288\n",
       "min    0.000000e+00          0.000000\n",
       "25%    4.012200e-08          0.000000\n",
       "50%    1.121220e-07          0.000000\n",
       "75%    3.596220e-07          0.000100\n",
       "max    1.000000e+00          1.000000"
      ]
     },
     "execution_count": 20,
     "metadata": {},
     "output_type": "execute_result"
    }
   ],
   "source": [
    "from sklearn.preprocessing import MinMaxScaler\n",
    "\n",
    "X_train_scaled_df = X_train_outlier_df.copy().dropna()\n",
    "\n",
    "# 1. Initialize the scaler\n",
    "scaler = MinMaxScaler()\n",
    "\n",
    "# 2. Fit the scaler to your continuous data (learn min and max from training data)\n",
    "scaler.fit(X_train_df[continuous_features]) # Use your training data here\n",
    "# SAVE SCALER FOR FUTURE USE\n",
    "\n",
    "# 3. Transform the continuous features\n",
    "X_train_scaled_df[continuous_features] = scaler.transform(X_train_df[continuous_features])\n",
    "\n",
    "print(\"DataFrame after Min-Max Scaling:\")\n",
    "X_train_scaled_df[['price','initial_quantity']].describe()"
   ]
  },
  {
   "cell_type": "markdown",
   "id": "ae0fb331",
   "metadata": {},
   "source": [
    "### Merge to original dataframe"
   ]
  },
  {
   "cell_type": "code",
   "execution_count": 21,
   "id": "9a4f2061",
   "metadata": {},
   "outputs": [],
   "source": [
    "# 1. Identify non-continuous features from the original DataFrame\n",
    "# These are the columns you want to keep as they are from X_train_df\n",
    "non_continuous_features = [col for col in X_train_df.columns if col not in continuous_features]\n",
    "\n",
    "# 2. Select these non-continuous features from X_train_df\n",
    "df_non_continuous = X_train_df[non_continuous_features]\n",
    "\n",
    "# 3. Rename columns in X_train_scaled_df to add '_scaled' suffix\n",
    "X_train_scaled_df.drop(columns=non_continuous_features, inplace=True)  # Drop original continuous features\n",
    "X_train_scaled_df_renamed = X_train_scaled_df.add_suffix('_scaled')\n",
    "\n",
    "# 4. Concatenate the non-continuous features and the scaled features\n",
    "X_train_df = pd.concat([df_non_continuous, X_train_scaled_df_renamed], axis=1)"
   ]
  },
  {
   "cell_type": "markdown",
   "id": "b1385762",
   "metadata": {},
   "source": [
    "## Binary Encoding"
   ]
  },
  {
   "cell_type": "code",
   "execution_count": 22,
   "id": "2cd3be4a",
   "metadata": {},
   "outputs": [
    {
     "data": {
      "text/plain": [
       "currency_id\n",
       "ARS    88605\n",
       "USD      504\n",
       "Name: count, dtype: int64"
      ]
     },
     "execution_count": 22,
     "metadata": {},
     "output_type": "execute_result"
    }
   ],
   "source": [
    "X_train_df['currency_id'].value_counts()"
   ]
  },
  {
   "cell_type": "code",
   "execution_count": 23,
   "id": "0afd4749",
   "metadata": {},
   "outputs": [],
   "source": [
    "# Create the new boolean feature 'is_USD'\n",
    "X_train_df['is_USD'] = (X_train_df['currency_id'] == 'USD')\n",
    "\n",
    "# Store it as numeric (1/0)\n",
    "X_train_df['is_USD'] = X_train_df['is_USD'].astype('uint8')"
   ]
  },
  {
   "cell_type": "code",
   "execution_count": 24,
   "id": "2d28763f",
   "metadata": {},
   "outputs": [],
   "source": [
    "X_train_df.drop(columns=['currency_id'], inplace=True)"
   ]
  },
  {
   "cell_type": "code",
   "execution_count": 25,
   "id": "45817202",
   "metadata": {},
   "outputs": [
    {
     "data": {
      "text/plain": [
       "is_USD\n",
       "0    89486\n",
       "1      504\n",
       "Name: count, dtype: int64"
      ]
     },
     "execution_count": 25,
     "metadata": {},
     "output_type": "execute_result"
    }
   ],
   "source": [
    "X_train_df['is_USD'].value_counts()"
   ]
  },
  {
   "cell_type": "code",
   "execution_count": 26,
   "id": "aab31ea7",
   "metadata": {},
   "outputs": [
    {
     "data": {
      "text/html": [
       "<div>\n",
       "<style scoped>\n",
       "    .dataframe tbody tr th:only-of-type {\n",
       "        vertical-align: middle;\n",
       "    }\n",
       "\n",
       "    .dataframe tbody tr th {\n",
       "        vertical-align: top;\n",
       "    }\n",
       "\n",
       "    .dataframe thead th {\n",
       "        text-align: right;\n",
       "    }\n",
       "</style>\n",
       "<table border=\"1\" class=\"dataframe\">\n",
       "  <thead>\n",
       "    <tr style=\"text-align: right;\">\n",
       "      <th></th>\n",
       "      <th>seller_address</th>\n",
       "      <th>warranty</th>\n",
       "      <th>deal_ids</th>\n",
       "      <th>base_price</th>\n",
       "      <th>shipping</th>\n",
       "      <th>non_mercado_pago_payment_methods</th>\n",
       "      <th>seller_id</th>\n",
       "      <th>variations</th>\n",
       "      <th>site_id</th>\n",
       "      <th>listing_type_id</th>\n",
       "      <th>attributes</th>\n",
       "      <th>buying_mode</th>\n",
       "      <th>tags</th>\n",
       "      <th>parent_item_id</th>\n",
       "      <th>category_id</th>\n",
       "      <th>...</th>\n",
       "      <th>title</th>\n",
       "      <th>automatic_relist</th>\n",
       "      <th>date_created</th>\n",
       "      <th>secure_thumbnail</th>\n",
       "      <th>stop_time</th>\n",
       "      <th>status</th>\n",
       "      <th>video_id</th>\n",
       "      <th>catalog_product_id</th>\n",
       "      <th>start_time</th>\n",
       "      <th>permalink</th>\n",
       "      <th>sold_quantity</th>\n",
       "      <th>available_quantity</th>\n",
       "      <th>price_scaled</th>\n",
       "      <th>initial_quantity_scaled</th>\n",
       "      <th>is_USD</th>\n",
       "    </tr>\n",
       "  </thead>\n",
       "  <tbody>\n",
       "    <tr>\n",
       "      <th>0</th>\n",
       "      <td>{'country': {'name': 'Argentina', 'id': 'AR'},...</td>\n",
       "      <td>None</td>\n",
       "      <td>[]</td>\n",
       "      <td>80.0</td>\n",
       "      <td>{'local_pick_up': True, 'methods': [], 'tags':...</td>\n",
       "      <td>[{'description': 'Transferencia bancaria', 'id...</td>\n",
       "      <td>8.208882e+09</td>\n",
       "      <td>[]</td>\n",
       "      <td>MLA</td>\n",
       "      <td>bronze</td>\n",
       "      <td>[]</td>\n",
       "      <td>buy_it_now</td>\n",
       "      <td>[dragged_bids_and_visits]</td>\n",
       "      <td>MLA6553902747</td>\n",
       "      <td>MLA126406</td>\n",
       "      <td>...</td>\n",
       "      <td>Auriculares Samsung Originales Manos Libres Ca...</td>\n",
       "      <td>False</td>\n",
       "      <td>2015-09-05T20:42:53.000Z</td>\n",
       "      <td>https://a248.e.akamai.net/mla-s1-p.mlstatic.co...</td>\n",
       "      <td>1.446670e+12</td>\n",
       "      <td>active</td>\n",
       "      <td>None</td>\n",
       "      <td>NaN</td>\n",
       "      <td>1.441486e+12</td>\n",
       "      <td>http://articulo.mercadolibre.com.ar/MLA4695330...</td>\n",
       "      <td>0.0</td>\n",
       "      <td>1.0</td>\n",
       "      <td>3.562200e-08</td>\n",
       "      <td>0.0000</td>\n",
       "      <td>0</td>\n",
       "    </tr>\n",
       "    <tr>\n",
       "      <th>1</th>\n",
       "      <td>{'country': {'name': 'Argentina', 'id': 'AR'},...</td>\n",
       "      <td>NUESTRA REPUTACION</td>\n",
       "      <td>[]</td>\n",
       "      <td>2650.0</td>\n",
       "      <td>{'local_pick_up': True, 'methods': [], 'tags':...</td>\n",
       "      <td>[{'description': 'Transferencia bancaria', 'id...</td>\n",
       "      <td>8.141699e+09</td>\n",
       "      <td>[]</td>\n",
       "      <td>MLA</td>\n",
       "      <td>silver</td>\n",
       "      <td>[]</td>\n",
       "      <td>buy_it_now</td>\n",
       "      <td>[]</td>\n",
       "      <td>MLA7727150374</td>\n",
       "      <td>MLA10267</td>\n",
       "      <td>...</td>\n",
       "      <td>Cuchillo Daga Acero Carbón Casco Yelmo Solinge...</td>\n",
       "      <td>False</td>\n",
       "      <td>2015-09-26T18:08:30.000Z</td>\n",
       "      <td>https://a248.e.akamai.net/mla-s1-p.mlstatic.co...</td>\n",
       "      <td>1.448475e+12</td>\n",
       "      <td>active</td>\n",
       "      <td>None</td>\n",
       "      <td>NaN</td>\n",
       "      <td>1.443291e+12</td>\n",
       "      <td>http://articulo.mercadolibre.com.ar/MLA7160447...</td>\n",
       "      <td>0.0</td>\n",
       "      <td>1.0</td>\n",
       "      <td>1.192122e-06</td>\n",
       "      <td>0.0000</td>\n",
       "      <td>0</td>\n",
       "    </tr>\n",
       "    <tr>\n",
       "      <th>2</th>\n",
       "      <td>{'country': {'name': 'Argentina', 'id': 'AR'},...</td>\n",
       "      <td>None</td>\n",
       "      <td>[]</td>\n",
       "      <td>60.0</td>\n",
       "      <td>{'local_pick_up': True, 'methods': [], 'tags':...</td>\n",
       "      <td>[{'description': 'Transferencia bancaria', 'id...</td>\n",
       "      <td>8.386097e+09</td>\n",
       "      <td>[]</td>\n",
       "      <td>MLA</td>\n",
       "      <td>bronze</td>\n",
       "      <td>[]</td>\n",
       "      <td>buy_it_now</td>\n",
       "      <td>[dragged_bids_and_visits]</td>\n",
       "      <td>MLA6561247998</td>\n",
       "      <td>MLA1227</td>\n",
       "      <td>...</td>\n",
       "      <td>Antigua Revista Billiken, N° 1826, Año 1954</td>\n",
       "      <td>False</td>\n",
       "      <td>2015-09-09T23:57:07.000Z</td>\n",
       "      <td>https://a248.e.akamai.net/mla-s1-p.mlstatic.co...</td>\n",
       "      <td>1.447027e+12</td>\n",
       "      <td>active</td>\n",
       "      <td>None</td>\n",
       "      <td>NaN</td>\n",
       "      <td>1.441843e+12</td>\n",
       "      <td>http://articulo.mercadolibre.com.ar/MLA7367189...</td>\n",
       "      <td>0.0</td>\n",
       "      <td>1.0</td>\n",
       "      <td>2.662200e-08</td>\n",
       "      <td>0.0000</td>\n",
       "      <td>0</td>\n",
       "    </tr>\n",
       "    <tr>\n",
       "      <th>3</th>\n",
       "      <td>{'country': {'name': 'Argentina', 'id': 'AR'},...</td>\n",
       "      <td>None</td>\n",
       "      <td>[]</td>\n",
       "      <td>580.0</td>\n",
       "      <td>{'local_pick_up': True, 'methods': [], 'tags':...</td>\n",
       "      <td>[{'description': 'Transferencia bancaria', 'id...</td>\n",
       "      <td>5.377752e+09</td>\n",
       "      <td>[]</td>\n",
       "      <td>MLA</td>\n",
       "      <td>silver</td>\n",
       "      <td>[]</td>\n",
       "      <td>buy_it_now</td>\n",
       "      <td>[]</td>\n",
       "      <td>None</td>\n",
       "      <td>MLA86345</td>\n",
       "      <td>...</td>\n",
       "      <td>Alarma Guardtex Gx412 Seguridad Para El Automo...</td>\n",
       "      <td>False</td>\n",
       "      <td>2015-09-28T18:47:56.000Z</td>\n",
       "      <td>https://a248.e.akamai.net/mla-s2-p.mlstatic.co...</td>\n",
       "      <td>1.449192e+12</td>\n",
       "      <td>active</td>\n",
       "      <td>None</td>\n",
       "      <td>NaN</td>\n",
       "      <td>1.443466e+12</td>\n",
       "      <td>http://articulo.mercadolibre.com.ar/MLA9191625...</td>\n",
       "      <td>0.0</td>\n",
       "      <td>1.0</td>\n",
       "      <td>2.606220e-07</td>\n",
       "      <td>0.0000</td>\n",
       "      <td>0</td>\n",
       "    </tr>\n",
       "    <tr>\n",
       "      <th>4</th>\n",
       "      <td>{'country': {'name': 'Argentina', 'id': 'AR'},...</td>\n",
       "      <td>MI REPUTACION.</td>\n",
       "      <td>[]</td>\n",
       "      <td>30.0</td>\n",
       "      <td>{'local_pick_up': True, 'methods': [], 'tags':...</td>\n",
       "      <td>[{'description': 'Transferencia bancaria', 'id...</td>\n",
       "      <td>2.938071e+09</td>\n",
       "      <td>[]</td>\n",
       "      <td>MLA</td>\n",
       "      <td>bronze</td>\n",
       "      <td>[]</td>\n",
       "      <td>buy_it_now</td>\n",
       "      <td>[dragged_bids_and_visits]</td>\n",
       "      <td>MLA3133256685</td>\n",
       "      <td>MLA41287</td>\n",
       "      <td>...</td>\n",
       "      <td>Serenata - Jennifer Blake</td>\n",
       "      <td>False</td>\n",
       "      <td>2015-08-24T22:07:20.000Z</td>\n",
       "      <td>https://a248.e.akamai.net/mla-s2-p.mlstatic.co...</td>\n",
       "      <td>1.445638e+12</td>\n",
       "      <td>active</td>\n",
       "      <td>None</td>\n",
       "      <td>NaN</td>\n",
       "      <td>1.440454e+12</td>\n",
       "      <td>http://articulo.mercadolibre.com.ar/MLA7787961...</td>\n",
       "      <td>0.0</td>\n",
       "      <td>1.0</td>\n",
       "      <td>1.312200e-08</td>\n",
       "      <td>0.0000</td>\n",
       "      <td>0</td>\n",
       "    </tr>\n",
       "    <tr>\n",
       "      <th>...</th>\n",
       "      <td>...</td>\n",
       "      <td>...</td>\n",
       "      <td>...</td>\n",
       "      <td>...</td>\n",
       "      <td>...</td>\n",
       "      <td>...</td>\n",
       "      <td>...</td>\n",
       "      <td>...</td>\n",
       "      <td>...</td>\n",
       "      <td>...</td>\n",
       "      <td>...</td>\n",
       "      <td>...</td>\n",
       "      <td>...</td>\n",
       "      <td>...</td>\n",
       "      <td>...</td>\n",
       "      <td>...</td>\n",
       "      <td>...</td>\n",
       "      <td>...</td>\n",
       "      <td>...</td>\n",
       "      <td>...</td>\n",
       "      <td>...</td>\n",
       "      <td>...</td>\n",
       "      <td>...</td>\n",
       "      <td>...</td>\n",
       "      <td>...</td>\n",
       "      <td>...</td>\n",
       "      <td>...</td>\n",
       "      <td>...</td>\n",
       "      <td>...</td>\n",
       "      <td>...</td>\n",
       "      <td>...</td>\n",
       "    </tr>\n",
       "    <tr>\n",
       "      <th>88910</th>\n",
       "      <td>NaN</td>\n",
       "      <td>NaN</td>\n",
       "      <td>NaN</td>\n",
       "      <td>NaN</td>\n",
       "      <td>NaN</td>\n",
       "      <td>NaN</td>\n",
       "      <td>NaN</td>\n",
       "      <td>NaN</td>\n",
       "      <td>NaN</td>\n",
       "      <td>NaN</td>\n",
       "      <td>NaN</td>\n",
       "      <td>NaN</td>\n",
       "      <td>NaN</td>\n",
       "      <td>NaN</td>\n",
       "      <td>NaN</td>\n",
       "      <td>...</td>\n",
       "      <td>NaN</td>\n",
       "      <td>NaN</td>\n",
       "      <td>NaN</td>\n",
       "      <td>NaN</td>\n",
       "      <td>NaN</td>\n",
       "      <td>NaN</td>\n",
       "      <td>NaN</td>\n",
       "      <td>NaN</td>\n",
       "      <td>NaN</td>\n",
       "      <td>NaN</td>\n",
       "      <td>NaN</td>\n",
       "      <td>NaN</td>\n",
       "      <td>1.706220e-07</td>\n",
       "      <td>0.0000</td>\n",
       "      <td>0</td>\n",
       "    </tr>\n",
       "    <tr>\n",
       "      <th>88923</th>\n",
       "      <td>NaN</td>\n",
       "      <td>NaN</td>\n",
       "      <td>NaN</td>\n",
       "      <td>NaN</td>\n",
       "      <td>NaN</td>\n",
       "      <td>NaN</td>\n",
       "      <td>NaN</td>\n",
       "      <td>NaN</td>\n",
       "      <td>NaN</td>\n",
       "      <td>NaN</td>\n",
       "      <td>NaN</td>\n",
       "      <td>NaN</td>\n",
       "      <td>NaN</td>\n",
       "      <td>NaN</td>\n",
       "      <td>NaN</td>\n",
       "      <td>...</td>\n",
       "      <td>NaN</td>\n",
       "      <td>NaN</td>\n",
       "      <td>NaN</td>\n",
       "      <td>NaN</td>\n",
       "      <td>NaN</td>\n",
       "      <td>NaN</td>\n",
       "      <td>NaN</td>\n",
       "      <td>NaN</td>\n",
       "      <td>NaN</td>\n",
       "      <td>NaN</td>\n",
       "      <td>NaN</td>\n",
       "      <td>NaN</td>\n",
       "      <td>8.467200e-08</td>\n",
       "      <td>0.0000</td>\n",
       "      <td>0</td>\n",
       "    </tr>\n",
       "    <tr>\n",
       "      <th>88944</th>\n",
       "      <td>NaN</td>\n",
       "      <td>NaN</td>\n",
       "      <td>NaN</td>\n",
       "      <td>NaN</td>\n",
       "      <td>NaN</td>\n",
       "      <td>NaN</td>\n",
       "      <td>NaN</td>\n",
       "      <td>NaN</td>\n",
       "      <td>NaN</td>\n",
       "      <td>NaN</td>\n",
       "      <td>NaN</td>\n",
       "      <td>NaN</td>\n",
       "      <td>NaN</td>\n",
       "      <td>NaN</td>\n",
       "      <td>NaN</td>\n",
       "      <td>...</td>\n",
       "      <td>NaN</td>\n",
       "      <td>NaN</td>\n",
       "      <td>NaN</td>\n",
       "      <td>NaN</td>\n",
       "      <td>NaN</td>\n",
       "      <td>NaN</td>\n",
       "      <td>NaN</td>\n",
       "      <td>NaN</td>\n",
       "      <td>NaN</td>\n",
       "      <td>NaN</td>\n",
       "      <td>NaN</td>\n",
       "      <td>NaN</td>\n",
       "      <td>1.121220e-07</td>\n",
       "      <td>0.0003</td>\n",
       "      <td>0</td>\n",
       "    </tr>\n",
       "    <tr>\n",
       "      <th>89058</th>\n",
       "      <td>NaN</td>\n",
       "      <td>NaN</td>\n",
       "      <td>NaN</td>\n",
       "      <td>NaN</td>\n",
       "      <td>NaN</td>\n",
       "      <td>NaN</td>\n",
       "      <td>NaN</td>\n",
       "      <td>NaN</td>\n",
       "      <td>NaN</td>\n",
       "      <td>NaN</td>\n",
       "      <td>NaN</td>\n",
       "      <td>NaN</td>\n",
       "      <td>NaN</td>\n",
       "      <td>NaN</td>\n",
       "      <td>NaN</td>\n",
       "      <td>...</td>\n",
       "      <td>NaN</td>\n",
       "      <td>NaN</td>\n",
       "      <td>NaN</td>\n",
       "      <td>NaN</td>\n",
       "      <td>NaN</td>\n",
       "      <td>NaN</td>\n",
       "      <td>NaN</td>\n",
       "      <td>NaN</td>\n",
       "      <td>NaN</td>\n",
       "      <td>NaN</td>\n",
       "      <td>NaN</td>\n",
       "      <td>NaN</td>\n",
       "      <td>1.706220e-07</td>\n",
       "      <td>0.0001</td>\n",
       "      <td>0</td>\n",
       "    </tr>\n",
       "    <tr>\n",
       "      <th>89095</th>\n",
       "      <td>NaN</td>\n",
       "      <td>NaN</td>\n",
       "      <td>NaN</td>\n",
       "      <td>NaN</td>\n",
       "      <td>NaN</td>\n",
       "      <td>NaN</td>\n",
       "      <td>NaN</td>\n",
       "      <td>NaN</td>\n",
       "      <td>NaN</td>\n",
       "      <td>NaN</td>\n",
       "      <td>NaN</td>\n",
       "      <td>NaN</td>\n",
       "      <td>NaN</td>\n",
       "      <td>NaN</td>\n",
       "      <td>NaN</td>\n",
       "      <td>...</td>\n",
       "      <td>NaN</td>\n",
       "      <td>NaN</td>\n",
       "      <td>NaN</td>\n",
       "      <td>NaN</td>\n",
       "      <td>NaN</td>\n",
       "      <td>NaN</td>\n",
       "      <td>NaN</td>\n",
       "      <td>NaN</td>\n",
       "      <td>NaN</td>\n",
       "      <td>NaN</td>\n",
       "      <td>NaN</td>\n",
       "      <td>NaN</td>\n",
       "      <td>1.121220e-07</td>\n",
       "      <td>0.0000</td>\n",
       "      <td>0</td>\n",
       "    </tr>\n",
       "  </tbody>\n",
       "</table>\n",
       "<p>89990 rows × 38 columns</p>\n",
       "</div>"
      ],
      "text/plain": [
       "                                          seller_address            warranty  \\\n",
       "0      {'country': {'name': 'Argentina', 'id': 'AR'},...                None   \n",
       "1      {'country': {'name': 'Argentina', 'id': 'AR'},...  NUESTRA REPUTACION   \n",
       "2      {'country': {'name': 'Argentina', 'id': 'AR'},...                None   \n",
       "3      {'country': {'name': 'Argentina', 'id': 'AR'},...                None   \n",
       "4      {'country': {'name': 'Argentina', 'id': 'AR'},...      MI REPUTACION.   \n",
       "...                                                  ...                 ...   \n",
       "88910                                                NaN                 NaN   \n",
       "88923                                                NaN                 NaN   \n",
       "88944                                                NaN                 NaN   \n",
       "89058                                                NaN                 NaN   \n",
       "89095                                                NaN                 NaN   \n",
       "\n",
       "      deal_ids  base_price                                           shipping  \\\n",
       "0           []        80.0  {'local_pick_up': True, 'methods': [], 'tags':...   \n",
       "1           []      2650.0  {'local_pick_up': True, 'methods': [], 'tags':...   \n",
       "2           []        60.0  {'local_pick_up': True, 'methods': [], 'tags':...   \n",
       "3           []       580.0  {'local_pick_up': True, 'methods': [], 'tags':...   \n",
       "4           []        30.0  {'local_pick_up': True, 'methods': [], 'tags':...   \n",
       "...        ...         ...                                                ...   \n",
       "88910      NaN         NaN                                                NaN   \n",
       "88923      NaN         NaN                                                NaN   \n",
       "88944      NaN         NaN                                                NaN   \n",
       "89058      NaN         NaN                                                NaN   \n",
       "89095      NaN         NaN                                                NaN   \n",
       "\n",
       "                        non_mercado_pago_payment_methods     seller_id  \\\n",
       "0      [{'description': 'Transferencia bancaria', 'id...  8.208882e+09   \n",
       "1      [{'description': 'Transferencia bancaria', 'id...  8.141699e+09   \n",
       "2      [{'description': 'Transferencia bancaria', 'id...  8.386097e+09   \n",
       "3      [{'description': 'Transferencia bancaria', 'id...  5.377752e+09   \n",
       "4      [{'description': 'Transferencia bancaria', 'id...  2.938071e+09   \n",
       "...                                                  ...           ...   \n",
       "88910                                                NaN           NaN   \n",
       "88923                                                NaN           NaN   \n",
       "88944                                                NaN           NaN   \n",
       "89058                                                NaN           NaN   \n",
       "89095                                                NaN           NaN   \n",
       "\n",
       "      variations site_id listing_type_id attributes buying_mode  \\\n",
       "0             []     MLA          bronze         []  buy_it_now   \n",
       "1             []     MLA          silver         []  buy_it_now   \n",
       "2             []     MLA          bronze         []  buy_it_now   \n",
       "3             []     MLA          silver         []  buy_it_now   \n",
       "4             []     MLA          bronze         []  buy_it_now   \n",
       "...          ...     ...             ...        ...         ...   \n",
       "88910        NaN     NaN             NaN        NaN         NaN   \n",
       "88923        NaN     NaN             NaN        NaN         NaN   \n",
       "88944        NaN     NaN             NaN        NaN         NaN   \n",
       "89058        NaN     NaN             NaN        NaN         NaN   \n",
       "89095        NaN     NaN             NaN        NaN         NaN   \n",
       "\n",
       "                            tags parent_item_id category_id  ...  \\\n",
       "0      [dragged_bids_and_visits]  MLA6553902747   MLA126406  ...   \n",
       "1                             []  MLA7727150374    MLA10267  ...   \n",
       "2      [dragged_bids_and_visits]  MLA6561247998     MLA1227  ...   \n",
       "3                             []           None    MLA86345  ...   \n",
       "4      [dragged_bids_and_visits]  MLA3133256685    MLA41287  ...   \n",
       "...                          ...            ...         ...  ...   \n",
       "88910                        NaN            NaN         NaN  ...   \n",
       "88923                        NaN            NaN         NaN  ...   \n",
       "88944                        NaN            NaN         NaN  ...   \n",
       "89058                        NaN            NaN         NaN  ...   \n",
       "89095                        NaN            NaN         NaN  ...   \n",
       "\n",
       "                                                   title automatic_relist  \\\n",
       "0      Auriculares Samsung Originales Manos Libres Ca...            False   \n",
       "1      Cuchillo Daga Acero Carbón Casco Yelmo Solinge...            False   \n",
       "2            Antigua Revista Billiken, N° 1826, Año 1954            False   \n",
       "3      Alarma Guardtex Gx412 Seguridad Para El Automo...            False   \n",
       "4                              Serenata - Jennifer Blake            False   \n",
       "...                                                  ...              ...   \n",
       "88910                                                NaN              NaN   \n",
       "88923                                                NaN              NaN   \n",
       "88944                                                NaN              NaN   \n",
       "89058                                                NaN              NaN   \n",
       "89095                                                NaN              NaN   \n",
       "\n",
       "                   date_created  \\\n",
       "0      2015-09-05T20:42:53.000Z   \n",
       "1      2015-09-26T18:08:30.000Z   \n",
       "2      2015-09-09T23:57:07.000Z   \n",
       "3      2015-09-28T18:47:56.000Z   \n",
       "4      2015-08-24T22:07:20.000Z   \n",
       "...                         ...   \n",
       "88910                       NaN   \n",
       "88923                       NaN   \n",
       "88944                       NaN   \n",
       "89058                       NaN   \n",
       "89095                       NaN   \n",
       "\n",
       "                                        secure_thumbnail     stop_time  \\\n",
       "0      https://a248.e.akamai.net/mla-s1-p.mlstatic.co...  1.446670e+12   \n",
       "1      https://a248.e.akamai.net/mla-s1-p.mlstatic.co...  1.448475e+12   \n",
       "2      https://a248.e.akamai.net/mla-s1-p.mlstatic.co...  1.447027e+12   \n",
       "3      https://a248.e.akamai.net/mla-s2-p.mlstatic.co...  1.449192e+12   \n",
       "4      https://a248.e.akamai.net/mla-s2-p.mlstatic.co...  1.445638e+12   \n",
       "...                                                  ...           ...   \n",
       "88910                                                NaN           NaN   \n",
       "88923                                                NaN           NaN   \n",
       "88944                                                NaN           NaN   \n",
       "89058                                                NaN           NaN   \n",
       "89095                                                NaN           NaN   \n",
       "\n",
       "       status  video_id catalog_product_id    start_time  \\\n",
       "0      active      None                NaN  1.441486e+12   \n",
       "1      active      None                NaN  1.443291e+12   \n",
       "2      active      None                NaN  1.441843e+12   \n",
       "3      active      None                NaN  1.443466e+12   \n",
       "4      active      None                NaN  1.440454e+12   \n",
       "...       ...       ...                ...           ...   \n",
       "88910     NaN       NaN                NaN           NaN   \n",
       "88923     NaN       NaN                NaN           NaN   \n",
       "88944     NaN       NaN                NaN           NaN   \n",
       "89058     NaN       NaN                NaN           NaN   \n",
       "89095     NaN       NaN                NaN           NaN   \n",
       "\n",
       "                                               permalink sold_quantity  \\\n",
       "0      http://articulo.mercadolibre.com.ar/MLA4695330...           0.0   \n",
       "1      http://articulo.mercadolibre.com.ar/MLA7160447...           0.0   \n",
       "2      http://articulo.mercadolibre.com.ar/MLA7367189...           0.0   \n",
       "3      http://articulo.mercadolibre.com.ar/MLA9191625...           0.0   \n",
       "4      http://articulo.mercadolibre.com.ar/MLA7787961...           0.0   \n",
       "...                                                  ...           ...   \n",
       "88910                                                NaN           NaN   \n",
       "88923                                                NaN           NaN   \n",
       "88944                                                NaN           NaN   \n",
       "89058                                                NaN           NaN   \n",
       "89095                                                NaN           NaN   \n",
       "\n",
       "      available_quantity  price_scaled initial_quantity_scaled is_USD  \n",
       "0                    1.0  3.562200e-08                  0.0000      0  \n",
       "1                    1.0  1.192122e-06                  0.0000      0  \n",
       "2                    1.0  2.662200e-08                  0.0000      0  \n",
       "3                    1.0  2.606220e-07                  0.0000      0  \n",
       "4                    1.0  1.312200e-08                  0.0000      0  \n",
       "...                  ...           ...                     ...    ...  \n",
       "88910                NaN  1.706220e-07                  0.0000      0  \n",
       "88923                NaN  8.467200e-08                  0.0000      0  \n",
       "88944                NaN  1.121220e-07                  0.0003      0  \n",
       "89058                NaN  1.706220e-07                  0.0001      0  \n",
       "89095                NaN  1.121220e-07                  0.0000      0  \n",
       "\n",
       "[89990 rows x 38 columns]"
      ]
     },
     "execution_count": 26,
     "metadata": {},
     "output_type": "execute_result"
    }
   ],
   "source": [
    "X_train_df"
   ]
  },
  {
   "cell_type": "code",
   "execution_count": 27,
   "id": "efa014de",
   "metadata": {},
   "outputs": [],
   "source": [
    "# Convert booleans into integers\n",
    "for col in ['accepts_mercadopago', 'automatic_relist']:\n",
    "    X_train_df[col] = X_train_df[col].dropna().astype('uint8')"
   ]
  },
  {
   "cell_type": "markdown",
   "id": "b1876af3",
   "metadata": {},
   "source": [
    "## One-hot encoding\n",
    "**(Categorical features)**"
   ]
  },
  {
   "cell_type": "code",
   "execution_count": 28,
   "id": "ef672cc8",
   "metadata": {},
   "outputs": [
    {
     "data": {
      "text/plain": [
       "listing_type_id\n",
       "bronze          56182\n",
       "free            19139\n",
       "silver           8154\n",
       "gold_special     2690\n",
       "gold             2166\n",
       "gold_premium      765\n",
       "gold_pro           13\n",
       "Name: count, dtype: int64"
      ]
     },
     "execution_count": 28,
     "metadata": {},
     "output_type": "execute_result"
    }
   ],
   "source": [
    "X_train_df['listing_type_id'].value_counts()"
   ]
  },
  {
   "cell_type": "markdown",
   "id": "ac8ae222",
   "metadata": {},
   "source": [
    "Since these categories (bronze, free, etc.) don't have an inherent ordinal relationship (e.g., 'gold' isn't necessarily \"greater\" than 'silver' in a numerical sense that a model would understand without context, even if they represent tiers), one-hot encoding is a suitable choice."
   ]
  },
  {
   "cell_type": "code",
   "execution_count": 29,
   "id": "6034b64a",
   "metadata": {},
   "outputs": [
    {
     "data": {
      "text/plain": [
       "buying_mode\n",
       "buy_it_now    86439\n",
       "classified     1979\n",
       "auction         691\n",
       "Name: count, dtype: int64"
      ]
     },
     "execution_count": 29,
     "metadata": {},
     "output_type": "execute_result"
    }
   ],
   "source": [
    "X_train_df['buying_mode'].value_counts()"
   ]
  },
  {
   "cell_type": "code",
   "execution_count": 30,
   "id": "347abecd",
   "metadata": {},
   "outputs": [
    {
     "data": {
      "text/plain": [
       "status\n",
       "active            86116\n",
       "paused             2992\n",
       "not_yet_active        1\n",
       "Name: count, dtype: int64"
      ]
     },
     "execution_count": 30,
     "metadata": {},
     "output_type": "execute_result"
    }
   ],
   "source": [
    "X_train_df['status'].value_counts()"
   ]
  },
  {
   "cell_type": "code",
   "execution_count": 31,
   "id": "634d8968",
   "metadata": {},
   "outputs": [],
   "source": [
    "from sklearn.preprocessing import OneHotEncoder\n",
    "\n",
    "# Define the columns to encode\n",
    "categorical_features = ['listing_type_id', 'buying_mode', 'status']\n",
    "\n",
    "# Initialize OneHotEncoder\n",
    "encoder = OneHotEncoder(handle_unknown='ignore', sparse_output=False, drop='first') # drop='first' for multicollinearity\n",
    "\n",
    "# Fit and transform the selected categorical columns\n",
    "encoded_data = encoder.fit_transform(X_train_df[categorical_features])\n",
    "\n",
    "# Get the feature names for the new columns\n",
    "encoded_feature_names = encoder.get_feature_names_out(categorical_features)\n",
    "\n",
    "# Create a DataFrame from the encoded array\n",
    "ecoded_features = pd.DataFrame(encoded_data, columns=encoded_feature_names)\n",
    "\n",
    "# Concatenate with the original DataFrame (dropping the original categorical columns)\n",
    "X_train_transformed_df = pd.concat([X_train_df.drop(columns=categorical_features), ecoded_features], axis=1)"
   ]
  },
  {
   "cell_type": "code",
   "execution_count": 32,
   "id": "30441e25",
   "metadata": {},
   "outputs": [
    {
     "data": {
      "text/html": [
       "<div>\n",
       "<style scoped>\n",
       "    .dataframe tbody tr th:only-of-type {\n",
       "        vertical-align: middle;\n",
       "    }\n",
       "\n",
       "    .dataframe tbody tr th {\n",
       "        vertical-align: top;\n",
       "    }\n",
       "\n",
       "    .dataframe thead th {\n",
       "        text-align: right;\n",
       "    }\n",
       "</style>\n",
       "<table border=\"1\" class=\"dataframe\">\n",
       "  <thead>\n",
       "    <tr style=\"text-align: right;\">\n",
       "      <th></th>\n",
       "      <th>seller_address</th>\n",
       "      <th>warranty</th>\n",
       "      <th>deal_ids</th>\n",
       "      <th>base_price</th>\n",
       "      <th>shipping</th>\n",
       "      <th>non_mercado_pago_payment_methods</th>\n",
       "      <th>seller_id</th>\n",
       "      <th>variations</th>\n",
       "      <th>site_id</th>\n",
       "      <th>attributes</th>\n",
       "      <th>tags</th>\n",
       "      <th>parent_item_id</th>\n",
       "      <th>category_id</th>\n",
       "      <th>descriptions</th>\n",
       "      <th>last_updated</th>\n",
       "      <th>...</th>\n",
       "      <th>initial_quantity_scaled</th>\n",
       "      <th>is_USD</th>\n",
       "      <th>listing_type_id_free</th>\n",
       "      <th>listing_type_id_gold</th>\n",
       "      <th>listing_type_id_gold_premium</th>\n",
       "      <th>listing_type_id_gold_pro</th>\n",
       "      <th>listing_type_id_gold_special</th>\n",
       "      <th>listing_type_id_silver</th>\n",
       "      <th>listing_type_id_nan</th>\n",
       "      <th>buying_mode_buy_it_now</th>\n",
       "      <th>buying_mode_classified</th>\n",
       "      <th>buying_mode_nan</th>\n",
       "      <th>status_not_yet_active</th>\n",
       "      <th>status_paused</th>\n",
       "      <th>status_nan</th>\n",
       "    </tr>\n",
       "  </thead>\n",
       "  <tbody>\n",
       "    <tr>\n",
       "      <th>78908</th>\n",
       "      <td>{'country': {'name': 'Argentina', 'id': 'AR'},...</td>\n",
       "      <td>None</td>\n",
       "      <td>[]</td>\n",
       "      <td>160.00</td>\n",
       "      <td>{'local_pick_up': True, 'methods': [], 'tags':...</td>\n",
       "      <td>[{'description': 'Transferencia bancaria', 'id...</td>\n",
       "      <td>5.213966e+09</td>\n",
       "      <td>[]</td>\n",
       "      <td>MLA</td>\n",
       "      <td>[]</td>\n",
       "      <td>[dragged_bids_and_visits]</td>\n",
       "      <td>MLA1057830753</td>\n",
       "      <td>MLA6315</td>\n",
       "      <td>[{'id': 'MLA6413415474-924376921'}]</td>\n",
       "      <td>2015-09-19T03:46:13.000Z</td>\n",
       "      <td>...</td>\n",
       "      <td>0.001400</td>\n",
       "      <td>0.0</td>\n",
       "      <td>0.0</td>\n",
       "      <td>0.0</td>\n",
       "      <td>0.0</td>\n",
       "      <td>0.0</td>\n",
       "      <td>0.0</td>\n",
       "      <td>0.0</td>\n",
       "      <td>0.0</td>\n",
       "      <td>1.0</td>\n",
       "      <td>0.0</td>\n",
       "      <td>0.0</td>\n",
       "      <td>0.0</td>\n",
       "      <td>0.0</td>\n",
       "      <td>0.0</td>\n",
       "    </tr>\n",
       "    <tr>\n",
       "      <th>85692</th>\n",
       "      <td>{'country': {'name': 'Argentina', 'id': 'AR'},...</td>\n",
       "      <td>None</td>\n",
       "      <td>[]</td>\n",
       "      <td>225.00</td>\n",
       "      <td>{'local_pick_up': False, 'methods': [], 'tags'...</td>\n",
       "      <td>[{'description': 'Transferencia bancaria', 'id...</td>\n",
       "      <td>7.060837e+09</td>\n",
       "      <td>[{'attribute_combinations': [{'value_id': '920...</td>\n",
       "      <td>MLA</td>\n",
       "      <td>[{'value_id': 'male', 'attribute_group_id': 'D...</td>\n",
       "      <td>[dragged_bids_and_visits]</td>\n",
       "      <td>MLA3089369319</td>\n",
       "      <td>MLA26536</td>\n",
       "      <td>[{'id': 'MLA3838400806-921309197'}]</td>\n",
       "      <td>2015-09-18T13:21:51.000Z</td>\n",
       "      <td>...</td>\n",
       "      <td>0.000000</td>\n",
       "      <td>0.0</td>\n",
       "      <td>1.0</td>\n",
       "      <td>0.0</td>\n",
       "      <td>0.0</td>\n",
       "      <td>0.0</td>\n",
       "      <td>0.0</td>\n",
       "      <td>0.0</td>\n",
       "      <td>0.0</td>\n",
       "      <td>1.0</td>\n",
       "      <td>0.0</td>\n",
       "      <td>0.0</td>\n",
       "      <td>0.0</td>\n",
       "      <td>0.0</td>\n",
       "      <td>0.0</td>\n",
       "    </tr>\n",
       "    <tr>\n",
       "      <th>32830</th>\n",
       "      <td>{'country': {'name': 'Argentina', 'id': 'AR'},...</td>\n",
       "      <td>None</td>\n",
       "      <td>[]</td>\n",
       "      <td>50.00</td>\n",
       "      <td>{'local_pick_up': False, 'methods': [], 'tags'...</td>\n",
       "      <td>[]</td>\n",
       "      <td>7.283501e+09</td>\n",
       "      <td>[]</td>\n",
       "      <td>MLA</td>\n",
       "      <td>[]</td>\n",
       "      <td>[]</td>\n",
       "      <td>None</td>\n",
       "      <td>MLA72685</td>\n",
       "      <td>[{'id': 'MLA2563108015-924855245'}]</td>\n",
       "      <td>2015-09-19T22:04:46.000Z</td>\n",
       "      <td>...</td>\n",
       "      <td>0.009802</td>\n",
       "      <td>0.0</td>\n",
       "      <td>0.0</td>\n",
       "      <td>0.0</td>\n",
       "      <td>0.0</td>\n",
       "      <td>0.0</td>\n",
       "      <td>0.0</td>\n",
       "      <td>0.0</td>\n",
       "      <td>0.0</td>\n",
       "      <td>1.0</td>\n",
       "      <td>0.0</td>\n",
       "      <td>0.0</td>\n",
       "      <td>0.0</td>\n",
       "      <td>0.0</td>\n",
       "      <td>0.0</td>\n",
       "    </tr>\n",
       "    <tr>\n",
       "      <th>89656</th>\n",
       "      <td>{'country': {'name': 'Argentina', 'id': 'AR'},...</td>\n",
       "      <td>None</td>\n",
       "      <td>[]</td>\n",
       "      <td>199.00</td>\n",
       "      <td>{'local_pick_up': True, 'methods': [], 'tags':...</td>\n",
       "      <td>[{'description': 'Transferencia bancaria', 'id...</td>\n",
       "      <td>3.984101e+09</td>\n",
       "      <td>[]</td>\n",
       "      <td>MLA</td>\n",
       "      <td>[]</td>\n",
       "      <td>[dragged_bids_and_visits]</td>\n",
       "      <td>MLA2673110723</td>\n",
       "      <td>MLA11794</td>\n",
       "      <td>[{'id': 'MLA2133858488-919364695'}]</td>\n",
       "      <td>2015-09-13T17:24:39.000Z</td>\n",
       "      <td>...</td>\n",
       "      <td>NaN</td>\n",
       "      <td>0.0</td>\n",
       "      <td>0.0</td>\n",
       "      <td>0.0</td>\n",
       "      <td>0.0</td>\n",
       "      <td>0.0</td>\n",
       "      <td>0.0</td>\n",
       "      <td>0.0</td>\n",
       "      <td>1.0</td>\n",
       "      <td>0.0</td>\n",
       "      <td>0.0</td>\n",
       "      <td>1.0</td>\n",
       "      <td>0.0</td>\n",
       "      <td>0.0</td>\n",
       "      <td>1.0</td>\n",
       "    </tr>\n",
       "    <tr>\n",
       "      <th>70042</th>\n",
       "      <td>{'country': {'name': 'Argentina', 'id': 'AR'},...</td>\n",
       "      <td>Sin garantía</td>\n",
       "      <td>[]</td>\n",
       "      <td>399.99</td>\n",
       "      <td>{'local_pick_up': False, 'methods': [], 'tags'...</td>\n",
       "      <td>[{'description': 'Acordar con el comprador', '...</td>\n",
       "      <td>6.003493e+09</td>\n",
       "      <td>[]</td>\n",
       "      <td>MLA</td>\n",
       "      <td>[]</td>\n",
       "      <td>[dragged_bids_and_visits]</td>\n",
       "      <td>MLA7167560506</td>\n",
       "      <td>MLA374224</td>\n",
       "      <td>[{'id': 'MLA6940160362-922847653'}]</td>\n",
       "      <td>2015-09-17T12:31:43.000Z</td>\n",
       "      <td>...</td>\n",
       "      <td>0.000000</td>\n",
       "      <td>0.0</td>\n",
       "      <td>0.0</td>\n",
       "      <td>0.0</td>\n",
       "      <td>0.0</td>\n",
       "      <td>0.0</td>\n",
       "      <td>0.0</td>\n",
       "      <td>0.0</td>\n",
       "      <td>0.0</td>\n",
       "      <td>1.0</td>\n",
       "      <td>0.0</td>\n",
       "      <td>0.0</td>\n",
       "      <td>0.0</td>\n",
       "      <td>0.0</td>\n",
       "      <td>0.0</td>\n",
       "    </tr>\n",
       "  </tbody>\n",
       "</table>\n",
       "<p>5 rows × 48 columns</p>\n",
       "</div>"
      ],
      "text/plain": [
       "                                          seller_address      warranty  \\\n",
       "78908  {'country': {'name': 'Argentina', 'id': 'AR'},...          None   \n",
       "85692  {'country': {'name': 'Argentina', 'id': 'AR'},...          None   \n",
       "32830  {'country': {'name': 'Argentina', 'id': 'AR'},...          None   \n",
       "89656  {'country': {'name': 'Argentina', 'id': 'AR'},...          None   \n",
       "70042  {'country': {'name': 'Argentina', 'id': 'AR'},...  Sin garantía   \n",
       "\n",
       "      deal_ids  base_price                                           shipping  \\\n",
       "78908       []      160.00  {'local_pick_up': True, 'methods': [], 'tags':...   \n",
       "85692       []      225.00  {'local_pick_up': False, 'methods': [], 'tags'...   \n",
       "32830       []       50.00  {'local_pick_up': False, 'methods': [], 'tags'...   \n",
       "89656       []      199.00  {'local_pick_up': True, 'methods': [], 'tags':...   \n",
       "70042       []      399.99  {'local_pick_up': False, 'methods': [], 'tags'...   \n",
       "\n",
       "                        non_mercado_pago_payment_methods     seller_id  \\\n",
       "78908  [{'description': 'Transferencia bancaria', 'id...  5.213966e+09   \n",
       "85692  [{'description': 'Transferencia bancaria', 'id...  7.060837e+09   \n",
       "32830                                                 []  7.283501e+09   \n",
       "89656  [{'description': 'Transferencia bancaria', 'id...  3.984101e+09   \n",
       "70042  [{'description': 'Acordar con el comprador', '...  6.003493e+09   \n",
       "\n",
       "                                              variations site_id  \\\n",
       "78908                                                 []     MLA   \n",
       "85692  [{'attribute_combinations': [{'value_id': '920...     MLA   \n",
       "32830                                                 []     MLA   \n",
       "89656                                                 []     MLA   \n",
       "70042                                                 []     MLA   \n",
       "\n",
       "                                              attributes  \\\n",
       "78908                                                 []   \n",
       "85692  [{'value_id': 'male', 'attribute_group_id': 'D...   \n",
       "32830                                                 []   \n",
       "89656                                                 []   \n",
       "70042                                                 []   \n",
       "\n",
       "                            tags parent_item_id category_id  \\\n",
       "78908  [dragged_bids_and_visits]  MLA1057830753     MLA6315   \n",
       "85692  [dragged_bids_and_visits]  MLA3089369319    MLA26536   \n",
       "32830                         []           None    MLA72685   \n",
       "89656  [dragged_bids_and_visits]  MLA2673110723    MLA11794   \n",
       "70042  [dragged_bids_and_visits]  MLA7167560506   MLA374224   \n",
       "\n",
       "                              descriptions              last_updated  ...  \\\n",
       "78908  [{'id': 'MLA6413415474-924376921'}]  2015-09-19T03:46:13.000Z  ...   \n",
       "85692  [{'id': 'MLA3838400806-921309197'}]  2015-09-18T13:21:51.000Z  ...   \n",
       "32830  [{'id': 'MLA2563108015-924855245'}]  2015-09-19T22:04:46.000Z  ...   \n",
       "89656  [{'id': 'MLA2133858488-919364695'}]  2015-09-13T17:24:39.000Z  ...   \n",
       "70042  [{'id': 'MLA6940160362-922847653'}]  2015-09-17T12:31:43.000Z  ...   \n",
       "\n",
       "      initial_quantity_scaled is_USD  listing_type_id_free  \\\n",
       "78908                0.001400    0.0                   0.0   \n",
       "85692                0.000000    0.0                   1.0   \n",
       "32830                0.009802    0.0                   0.0   \n",
       "89656                     NaN    0.0                   0.0   \n",
       "70042                0.000000    0.0                   0.0   \n",
       "\n",
       "       listing_type_id_gold  listing_type_id_gold_premium  \\\n",
       "78908                   0.0                           0.0   \n",
       "85692                   0.0                           0.0   \n",
       "32830                   0.0                           0.0   \n",
       "89656                   0.0                           0.0   \n",
       "70042                   0.0                           0.0   \n",
       "\n",
       "      listing_type_id_gold_pro listing_type_id_gold_special  \\\n",
       "78908                      0.0                          0.0   \n",
       "85692                      0.0                          0.0   \n",
       "32830                      0.0                          0.0   \n",
       "89656                      0.0                          0.0   \n",
       "70042                      0.0                          0.0   \n",
       "\n",
       "       listing_type_id_silver listing_type_id_nan buying_mode_buy_it_now  \\\n",
       "78908                     0.0                 0.0                    1.0   \n",
       "85692                     0.0                 0.0                    1.0   \n",
       "32830                     0.0                 0.0                    1.0   \n",
       "89656                     0.0                 1.0                    0.0   \n",
       "70042                     0.0                 0.0                    1.0   \n",
       "\n",
       "       buying_mode_classified buying_mode_nan  status_not_yet_active  \\\n",
       "78908                     0.0             0.0                    0.0   \n",
       "85692                     0.0             0.0                    0.0   \n",
       "32830                     0.0             0.0                    0.0   \n",
       "89656                     0.0             1.0                    0.0   \n",
       "70042                     0.0             0.0                    0.0   \n",
       "\n",
       "       status_paused status_nan  \n",
       "78908            0.0        0.0  \n",
       "85692            0.0        0.0  \n",
       "32830            0.0        0.0  \n",
       "89656            0.0        1.0  \n",
       "70042            0.0        0.0  \n",
       "\n",
       "[5 rows x 48 columns]"
      ]
     },
     "execution_count": 32,
     "metadata": {},
     "output_type": "execute_result"
    }
   ],
   "source": [
    "X_train_transformed_df.sample(5)  # Display a sample of the transformed training data"
   ]
  },
  {
   "cell_type": "markdown",
   "id": "5641cfed",
   "metadata": {},
   "source": [
    "## Final result"
   ]
  },
  {
   "cell_type": "code",
   "execution_count": 33,
   "id": "548eaada",
   "metadata": {},
   "outputs": [
    {
     "name": "stdout",
     "output_type": "stream",
     "text": [
      "Number of features:\n",
      " - Before transformations: 38\n",
      " - After transformations: 48\n",
      "Increase of 10 features (26.32%)\n"
     ]
    }
   ],
   "source": [
    "before_len = len(X_train_df.columns)\n",
    "after_len = len(X_train_transformed_df.columns)\n",
    "dif_len = after_len - before_len\n",
    "print(\"Number of features:\")\n",
    "print(f\" - Before transformations: {before_len}\")\n",
    "print(f\" - After transformations: {after_len}\")\n",
    "print(f\"Increase of {dif_len} features ({(dif_len/before_len):.2%})\")"
   ]
  },
  {
   "cell_type": "markdown",
   "id": "e6c8f9ce",
   "metadata": {},
   "source": [
    "# 3. Feature Selection"
   ]
  },
  {
   "cell_type": "code",
   "execution_count": 34,
   "id": "d2290c9f",
   "metadata": {},
   "outputs": [],
   "source": [
    "# Store all features in a list\n",
    "features = X_train_transformed_df.columns.tolist()"
   ]
  },
  {
   "cell_type": "markdown",
   "id": "2d71c8af",
   "metadata": {},
   "source": [
    "During missing values analysis it was noticed that these variables were problematic:\n",
    "`site_id`,`video_id`, `official_store_id`, `original_price`, `catalog_product_id`,`deal_ids`"
   ]
  },
  {
   "cell_type": "code",
   "execution_count": 35,
   "id": "ab6b61a4",
   "metadata": {},
   "outputs": [],
   "source": [
    "# As it was stated before, ID variables will be ignored during feature selection.\n",
    "# Also, time-related and tags variables won't be used.\n",
    "id_variables = ['id', 'parent_item_id', 'official_store_id', 'category_id', 'site_id', 'video_id', 'catalog_product_id', 'deal_ids', 'seller_id', 'descriptions']\n",
    "time_variables = ['start_time', 'stop_time', 'date_created', 'last_updated']\n",
    "tag_variables = ['tags', 'variations', 'shipping', 'attributes', 'non_mercado_pago_payment_methods']\n",
    "post_related_variables = ['title', 'permalink', 'secure_thumbnail', 'thumbnail', 'pictures'] "
   ]
  },
  {
   "cell_type": "code",
   "execution_count": 36,
   "id": "ce9a225c",
   "metadata": {},
   "outputs": [
    {
     "name": "stdout",
     "output_type": "stream",
     "text": [
      "Selected features (18):\n"
     ]
    },
    {
     "data": {
      "text/plain": [
       "\"['accepts_mercadopago', 'automatic_relist', 'price_scaled', 'initial_quantity_scaled', 'is_USD', 'listing_type_id_free', 'listing_type_id_gold', 'listing_type_id_gold_premium', 'listing_type_id_gold_pro', 'listing_type_id_gold_special', 'listing_type_id_silver', 'listing_type_id_nan', 'buying_mode_buy_it_now', 'buying_mode_classified', 'buying_mode_nan', 'status_not_yet_active', 'status_paused', 'status_nan']\""
      ]
     },
     "execution_count": 36,
     "metadata": {},
     "output_type": "execute_result"
    }
   ],
   "source": [
    "# Remove specific features that are not needed for the analysis\n",
    "[features.remove(x) for x in (id_variables + time_variables + tag_variables + post_related_variables)]\n",
    "\n",
    "# Remove other specific features that are not relevant for the analysis\n",
    "other_features = ['original_price', 'base_price', 'warranty', 'seller_address', 'sold_quantity', 'available_quantity']\n",
    "[features.remove(x) for x in other_features]\n",
    "\n",
    "# Show the selected features\n",
    "print(f\"Selected features ({len(features)}):\")\n",
    "str(features)"
   ]
  },
  {
   "cell_type": "markdown",
   "id": "cba9f35e",
   "metadata": {},
   "source": [
    "**Criteria:**\n",
    "* **Highly correlated features:**\n",
    "    * **Quantity:** Only `initial_quantity` will be used. The hypothesis is that it could serve to differentiate brand-new items because usually there are more than one available.\n",
    "    * **Price:** Only `price` will be used.\n",
    "* **Unrelated features:**\n",
    "    * Seller address is not relevant for our target.\n",
    "    * Warranty has a lot of missing values, and there is a lot of diversity of arbitrary values; it's difficult to extract useful information from this feature.\n",
    "    * Post-related features."
   ]
  },
  {
   "cell_type": "code",
   "execution_count": 37,
   "id": "cec79bab",
   "metadata": {},
   "outputs": [
    {
     "data": {
      "text/plain": [
       "Index(['accepts_mercadopago', 'automatic_relist', 'price_scaled',\n",
       "       'initial_quantity_scaled', 'is_USD', 'listing_type_id_free',\n",
       "       'listing_type_id_gold', 'listing_type_id_gold_premium',\n",
       "       'listing_type_id_gold_pro', 'listing_type_id_gold_special',\n",
       "       'listing_type_id_silver', 'listing_type_id_nan',\n",
       "       'buying_mode_buy_it_now', 'buying_mode_classified', 'buying_mode_nan',\n",
       "       'status_not_yet_active', 'status_paused', 'status_nan'],\n",
       "      dtype='object')"
      ]
     },
     "execution_count": 37,
     "metadata": {},
     "output_type": "execute_result"
    }
   ],
   "source": [
    "X_train_transformed_df[features].columns"
   ]
  },
  {
   "cell_type": "markdown",
   "id": "100338a2",
   "metadata": {},
   "source": [
    "### Dype Optimization\n",
    "Every variable will be transformed to its optimal size based on its content, minimizing storage, processing, and training."
   ]
  },
  {
   "cell_type": "code",
   "execution_count": 38,
   "id": "430314bb",
   "metadata": {},
   "outputs": [
    {
     "name": "stdout",
     "output_type": "stream",
     "text": [
      "<class 'pandas.core.frame.DataFrame'>\n",
      "Index: 89999 entries, 0 to 89911\n",
      "Data columns (total 18 columns):\n",
      " #   Column                        Non-Null Count  Dtype  \n",
      "---  ------                        --------------  -----  \n",
      " 0   accepts_mercadopago           89109 non-null  float64\n",
      " 1   automatic_relist              89109 non-null  float64\n",
      " 2   price_scaled                  89109 non-null  float64\n",
      " 3   initial_quantity_scaled       89109 non-null  float64\n",
      " 4   is_USD                        89990 non-null  float64\n",
      " 5   listing_type_id_free          89990 non-null  float64\n",
      " 6   listing_type_id_gold          89990 non-null  float64\n",
      " 7   listing_type_id_gold_premium  89990 non-null  float64\n",
      " 8   listing_type_id_gold_pro      89990 non-null  float64\n",
      " 9   listing_type_id_gold_special  89990 non-null  float64\n",
      " 10  listing_type_id_silver        89990 non-null  float64\n",
      " 11  listing_type_id_nan           89990 non-null  float64\n",
      " 12  buying_mode_buy_it_now        89990 non-null  float64\n",
      " 13  buying_mode_classified        89990 non-null  float64\n",
      " 14  buying_mode_nan               89990 non-null  float64\n",
      " 15  status_not_yet_active         89990 non-null  float64\n",
      " 16  status_paused                 89990 non-null  float64\n",
      " 17  status_nan                    89990 non-null  float64\n",
      "dtypes: float64(18)\n",
      "memory usage: 13.0 MB\n"
     ]
    }
   ],
   "source": [
    "X_train_transformed_df[features].info()"
   ]
  },
  {
   "cell_type": "code",
   "execution_count": 39,
   "id": "d99d7298",
   "metadata": {},
   "outputs": [
    {
     "name": "stdout",
     "output_type": "stream",
     "text": [
      "                              Min_Value  Max_Value\n",
      "accepts_mercadopago                 0.0        1.0\n",
      "automatic_relist                    0.0        1.0\n",
      "price_scaled                        0.0        1.0\n",
      "initial_quantity_scaled             0.0        1.0\n",
      "is_USD                              0.0        1.0\n",
      "listing_type_id_free                0.0        1.0\n",
      "listing_type_id_gold                0.0        1.0\n",
      "listing_type_id_gold_premium        0.0        1.0\n",
      "listing_type_id_gold_pro            0.0        1.0\n",
      "listing_type_id_gold_special        0.0        1.0\n",
      "listing_type_id_silver              0.0        1.0\n",
      "listing_type_id_nan                 0.0        1.0\n",
      "buying_mode_buy_it_now              0.0        1.0\n",
      "buying_mode_classified              0.0        1.0\n",
      "buying_mode_nan                     0.0        1.0\n",
      "status_not_yet_active               0.0        1.0\n",
      "status_paused                       0.0        1.0\n",
      "status_nan                          0.0        1.0\n"
     ]
    }
   ],
   "source": [
    "df = X_train_transformed_df[features].copy()\n",
    "\n",
    "# Select only numerical columns\n",
    "numerical_features = df.select_dtypes(include=[np.number]).columns\n",
    "\n",
    "min_max_values = pd.DataFrame(columns=['Min_Value', 'Max_Value'])\n",
    "\n",
    "for col in numerical_features:\n",
    "    min_val = df[col].min()\n",
    "    max_val = df[col].max()\n",
    "    min_max_values.loc[col] = [min_val, max_val]\n",
    "\n",
    "print(min_max_values)"
   ]
  },
  {
   "cell_type": "markdown",
   "id": "a1e627ff",
   "metadata": {},
   "source": [
    "All are unsigned integers:\n",
    "- For bool-type lower variable will be used (uint8).\n",
    "- For `initial_quantity` 'int32' will be enough.\n",
    "- For `price` 'int64' will be needed."
   ]
  },
  {
   "cell_type": "code",
   "execution_count": 40,
   "id": "95649924",
   "metadata": {},
   "outputs": [
    {
     "data": {
      "text/plain": [
       "seller_address              890\n",
       "warranty                  55109\n",
       "deal_ids                    890\n",
       "base_price                  890\n",
       "shipping                    890\n",
       "                          ...  \n",
       "buying_mode_classified        9\n",
       "buying_mode_nan               9\n",
       "status_not_yet_active         9\n",
       "status_paused                 9\n",
       "status_nan                    9\n",
       "Length: 48, dtype: int64"
      ]
     },
     "execution_count": 40,
     "metadata": {},
     "output_type": "execute_result"
    }
   ],
   "source": [
    "X_train_transformed_df.isnull().sum()"
   ]
  },
  {
   "cell_type": "code",
   "execution_count": 42,
   "id": "f5ea0ee3",
   "metadata": {},
   "outputs": [],
   "source": [
    "bool_features = features\n",
    "bool_features.remove('price_scaled')\n",
    "bool_features.remove('initial_quantity_scaled')"
   ]
  },
  {
   "cell_type": "code",
   "execution_count": 43,
   "id": "98a0ee61",
   "metadata": {},
   "outputs": [
    {
     "name": "stdout",
     "output_type": "stream",
     "text": [
      "<class 'pandas.core.frame.DataFrame'>\n",
      "Index: 89999 entries, 0 to 89911\n",
      "Data columns (total 16 columns):\n",
      " #   Column                        Non-Null Count  Dtype  \n",
      "---  ------                        --------------  -----  \n",
      " 0   accepts_mercadopago           89109 non-null  float64\n",
      " 1   automatic_relist              89109 non-null  float64\n",
      " 2   is_USD                        89990 non-null  float64\n",
      " 3   listing_type_id_free          89990 non-null  float64\n",
      " 4   listing_type_id_gold          89990 non-null  float64\n",
      " 5   listing_type_id_gold_premium  89990 non-null  float64\n",
      " 6   listing_type_id_gold_pro      89990 non-null  float64\n",
      " 7   listing_type_id_gold_special  89990 non-null  float64\n",
      " 8   listing_type_id_silver        89990 non-null  float64\n",
      " 9   listing_type_id_nan           89990 non-null  float64\n",
      " 10  buying_mode_buy_it_now        89990 non-null  float64\n",
      " 11  buying_mode_classified        89990 non-null  float64\n",
      " 12  buying_mode_nan               89990 non-null  float64\n",
      " 13  status_not_yet_active         89990 non-null  float64\n",
      " 14  status_paused                 89990 non-null  float64\n",
      " 15  status_nan                    89990 non-null  float64\n",
      "dtypes: float64(16)\n",
      "memory usage: 11.7 MB\n"
     ]
    }
   ],
   "source": [
    "X_train_transformed_df[features].info()"
   ]
  },
  {
   "cell_type": "code",
   "execution_count": 44,
   "id": "2dc85850",
   "metadata": {},
   "outputs": [],
   "source": [
    "optimized_df = X_train_transformed_df[features].copy()\n",
    "\n",
    "for col in optimized_df.columns:\n",
    "        optimized_df[col] = pd.to_numeric(optimized_df[col], downcast='integer')"
   ]
  },
  {
   "cell_type": "code",
   "execution_count": 45,
   "id": "3d9c25eb",
   "metadata": {},
   "outputs": [
    {
     "name": "stdout",
     "output_type": "stream",
     "text": [
      "<class 'pandas.core.frame.DataFrame'>\n",
      "Index: 89999 entries, 0 to 89911\n",
      "Data columns (total 16 columns):\n",
      " #   Column                        Non-Null Count  Dtype  \n",
      "---  ------                        --------------  -----  \n",
      " 0   accepts_mercadopago           89109 non-null  float64\n",
      " 1   automatic_relist              89109 non-null  float64\n",
      " 2   is_USD                        89990 non-null  float64\n",
      " 3   listing_type_id_free          89990 non-null  float64\n",
      " 4   listing_type_id_gold          89990 non-null  float64\n",
      " 5   listing_type_id_gold_premium  89990 non-null  float64\n",
      " 6   listing_type_id_gold_pro      89990 non-null  float64\n",
      " 7   listing_type_id_gold_special  89990 non-null  float64\n",
      " 8   listing_type_id_silver        89990 non-null  float64\n",
      " 9   listing_type_id_nan           89990 non-null  float64\n",
      " 10  buying_mode_buy_it_now        89990 non-null  float64\n",
      " 11  buying_mode_classified        89990 non-null  float64\n",
      " 12  buying_mode_nan               89990 non-null  float64\n",
      " 13  status_not_yet_active         89990 non-null  float64\n",
      " 14  status_paused                 89990 non-null  float64\n",
      " 15  status_nan                    89990 non-null  float64\n",
      "dtypes: float64(16)\n",
      "memory usage: 11.7 MB\n"
     ]
    }
   ],
   "source": [
    "optimized_df.info()"
   ]
  },
  {
   "cell_type": "code",
   "execution_count": 46,
   "id": "ecff2b15",
   "metadata": {},
   "outputs": [
    {
     "data": {
      "text/html": [
       "<div>\n",
       "<style scoped>\n",
       "    .dataframe tbody tr th:only-of-type {\n",
       "        vertical-align: middle;\n",
       "    }\n",
       "\n",
       "    .dataframe tbody tr th {\n",
       "        vertical-align: top;\n",
       "    }\n",
       "\n",
       "    .dataframe thead th {\n",
       "        text-align: right;\n",
       "    }\n",
       "</style>\n",
       "<table border=\"1\" class=\"dataframe\">\n",
       "  <thead>\n",
       "    <tr style=\"text-align: right;\">\n",
       "      <th></th>\n",
       "      <th>accepts_mercadopago</th>\n",
       "      <th>automatic_relist</th>\n",
       "      <th>is_USD</th>\n",
       "      <th>listing_type_id_free</th>\n",
       "      <th>listing_type_id_gold</th>\n",
       "      <th>listing_type_id_gold_premium</th>\n",
       "      <th>listing_type_id_gold_pro</th>\n",
       "      <th>listing_type_id_gold_special</th>\n",
       "      <th>listing_type_id_silver</th>\n",
       "      <th>listing_type_id_nan</th>\n",
       "      <th>buying_mode_buy_it_now</th>\n",
       "      <th>buying_mode_classified</th>\n",
       "      <th>buying_mode_nan</th>\n",
       "      <th>status_not_yet_active</th>\n",
       "      <th>status_paused</th>\n",
       "      <th>status_nan</th>\n",
       "    </tr>\n",
       "  </thead>\n",
       "  <tbody>\n",
       "    <tr>\n",
       "      <th>count</th>\n",
       "      <td>89109.000000</td>\n",
       "      <td>89109.000000</td>\n",
       "      <td>89990.000000</td>\n",
       "      <td>89990.000000</td>\n",
       "      <td>89990.000000</td>\n",
       "      <td>89990.000000</td>\n",
       "      <td>89990.000000</td>\n",
       "      <td>89990.000000</td>\n",
       "      <td>89990.000000</td>\n",
       "      <td>89990.000000</td>\n",
       "      <td>89990.000000</td>\n",
       "      <td>89990.000000</td>\n",
       "      <td>89990.000000</td>\n",
       "      <td>89990.000000</td>\n",
       "      <td>89990.000000</td>\n",
       "      <td>89990.000000</td>\n",
       "    </tr>\n",
       "    <tr>\n",
       "      <th>mean</th>\n",
       "      <td>0.977791</td>\n",
       "      <td>0.047212</td>\n",
       "      <td>0.005601</td>\n",
       "      <td>0.212679</td>\n",
       "      <td>0.024069</td>\n",
       "      <td>0.008501</td>\n",
       "      <td>0.000144</td>\n",
       "      <td>0.029892</td>\n",
       "      <td>0.090610</td>\n",
       "      <td>0.009790</td>\n",
       "      <td>0.960540</td>\n",
       "      <td>0.021991</td>\n",
       "      <td>0.009790</td>\n",
       "      <td>0.000011</td>\n",
       "      <td>0.033248</td>\n",
       "      <td>0.009790</td>\n",
       "    </tr>\n",
       "    <tr>\n",
       "      <th>std</th>\n",
       "      <td>0.147363</td>\n",
       "      <td>0.212093</td>\n",
       "      <td>0.074628</td>\n",
       "      <td>0.409205</td>\n",
       "      <td>0.153265</td>\n",
       "      <td>0.091808</td>\n",
       "      <td>0.012018</td>\n",
       "      <td>0.170291</td>\n",
       "      <td>0.287055</td>\n",
       "      <td>0.098459</td>\n",
       "      <td>0.194688</td>\n",
       "      <td>0.146656</td>\n",
       "      <td>0.098459</td>\n",
       "      <td>0.003334</td>\n",
       "      <td>0.179285</td>\n",
       "      <td>0.098459</td>\n",
       "    </tr>\n",
       "    <tr>\n",
       "      <th>min</th>\n",
       "      <td>0.000000</td>\n",
       "      <td>0.000000</td>\n",
       "      <td>0.000000</td>\n",
       "      <td>0.000000</td>\n",
       "      <td>0.000000</td>\n",
       "      <td>0.000000</td>\n",
       "      <td>0.000000</td>\n",
       "      <td>0.000000</td>\n",
       "      <td>0.000000</td>\n",
       "      <td>0.000000</td>\n",
       "      <td>0.000000</td>\n",
       "      <td>0.000000</td>\n",
       "      <td>0.000000</td>\n",
       "      <td>0.000000</td>\n",
       "      <td>0.000000</td>\n",
       "      <td>0.000000</td>\n",
       "    </tr>\n",
       "    <tr>\n",
       "      <th>25%</th>\n",
       "      <td>1.000000</td>\n",
       "      <td>0.000000</td>\n",
       "      <td>0.000000</td>\n",
       "      <td>0.000000</td>\n",
       "      <td>0.000000</td>\n",
       "      <td>0.000000</td>\n",
       "      <td>0.000000</td>\n",
       "      <td>0.000000</td>\n",
       "      <td>0.000000</td>\n",
       "      <td>0.000000</td>\n",
       "      <td>1.000000</td>\n",
       "      <td>0.000000</td>\n",
       "      <td>0.000000</td>\n",
       "      <td>0.000000</td>\n",
       "      <td>0.000000</td>\n",
       "      <td>0.000000</td>\n",
       "    </tr>\n",
       "    <tr>\n",
       "      <th>50%</th>\n",
       "      <td>1.000000</td>\n",
       "      <td>0.000000</td>\n",
       "      <td>0.000000</td>\n",
       "      <td>0.000000</td>\n",
       "      <td>0.000000</td>\n",
       "      <td>0.000000</td>\n",
       "      <td>0.000000</td>\n",
       "      <td>0.000000</td>\n",
       "      <td>0.000000</td>\n",
       "      <td>0.000000</td>\n",
       "      <td>1.000000</td>\n",
       "      <td>0.000000</td>\n",
       "      <td>0.000000</td>\n",
       "      <td>0.000000</td>\n",
       "      <td>0.000000</td>\n",
       "      <td>0.000000</td>\n",
       "    </tr>\n",
       "    <tr>\n",
       "      <th>75%</th>\n",
       "      <td>1.000000</td>\n",
       "      <td>0.000000</td>\n",
       "      <td>0.000000</td>\n",
       "      <td>0.000000</td>\n",
       "      <td>0.000000</td>\n",
       "      <td>0.000000</td>\n",
       "      <td>0.000000</td>\n",
       "      <td>0.000000</td>\n",
       "      <td>0.000000</td>\n",
       "      <td>0.000000</td>\n",
       "      <td>1.000000</td>\n",
       "      <td>0.000000</td>\n",
       "      <td>0.000000</td>\n",
       "      <td>0.000000</td>\n",
       "      <td>0.000000</td>\n",
       "      <td>0.000000</td>\n",
       "    </tr>\n",
       "    <tr>\n",
       "      <th>max</th>\n",
       "      <td>1.000000</td>\n",
       "      <td>1.000000</td>\n",
       "      <td>1.000000</td>\n",
       "      <td>1.000000</td>\n",
       "      <td>1.000000</td>\n",
       "      <td>1.000000</td>\n",
       "      <td>1.000000</td>\n",
       "      <td>1.000000</td>\n",
       "      <td>1.000000</td>\n",
       "      <td>1.000000</td>\n",
       "      <td>1.000000</td>\n",
       "      <td>1.000000</td>\n",
       "      <td>1.000000</td>\n",
       "      <td>1.000000</td>\n",
       "      <td>1.000000</td>\n",
       "      <td>1.000000</td>\n",
       "    </tr>\n",
       "  </tbody>\n",
       "</table>\n",
       "</div>"
      ],
      "text/plain": [
       "       accepts_mercadopago  automatic_relist        is_USD  \\\n",
       "count         89109.000000      89109.000000  89990.000000   \n",
       "mean              0.977791          0.047212      0.005601   \n",
       "std               0.147363          0.212093      0.074628   \n",
       "min               0.000000          0.000000      0.000000   \n",
       "25%               1.000000          0.000000      0.000000   \n",
       "50%               1.000000          0.000000      0.000000   \n",
       "75%               1.000000          0.000000      0.000000   \n",
       "max               1.000000          1.000000      1.000000   \n",
       "\n",
       "       listing_type_id_free  listing_type_id_gold  \\\n",
       "count          89990.000000          89990.000000   \n",
       "mean               0.212679              0.024069   \n",
       "std                0.409205              0.153265   \n",
       "min                0.000000              0.000000   \n",
       "25%                0.000000              0.000000   \n",
       "50%                0.000000              0.000000   \n",
       "75%                0.000000              0.000000   \n",
       "max                1.000000              1.000000   \n",
       "\n",
       "       listing_type_id_gold_premium  listing_type_id_gold_pro  \\\n",
       "count                  89990.000000              89990.000000   \n",
       "mean                       0.008501                  0.000144   \n",
       "std                        0.091808                  0.012018   \n",
       "min                        0.000000                  0.000000   \n",
       "25%                        0.000000                  0.000000   \n",
       "50%                        0.000000                  0.000000   \n",
       "75%                        0.000000                  0.000000   \n",
       "max                        1.000000                  1.000000   \n",
       "\n",
       "       listing_type_id_gold_special  listing_type_id_silver  \\\n",
       "count                  89990.000000            89990.000000   \n",
       "mean                       0.029892                0.090610   \n",
       "std                        0.170291                0.287055   \n",
       "min                        0.000000                0.000000   \n",
       "25%                        0.000000                0.000000   \n",
       "50%                        0.000000                0.000000   \n",
       "75%                        0.000000                0.000000   \n",
       "max                        1.000000                1.000000   \n",
       "\n",
       "       listing_type_id_nan  buying_mode_buy_it_now  buying_mode_classified  \\\n",
       "count         89990.000000            89990.000000            89990.000000   \n",
       "mean              0.009790                0.960540                0.021991   \n",
       "std               0.098459                0.194688                0.146656   \n",
       "min               0.000000                0.000000                0.000000   \n",
       "25%               0.000000                1.000000                0.000000   \n",
       "50%               0.000000                1.000000                0.000000   \n",
       "75%               0.000000                1.000000                0.000000   \n",
       "max               1.000000                1.000000                1.000000   \n",
       "\n",
       "       buying_mode_nan  status_not_yet_active  status_paused    status_nan  \n",
       "count     89990.000000           89990.000000   89990.000000  89990.000000  \n",
       "mean          0.009790               0.000011       0.033248      0.009790  \n",
       "std           0.098459               0.003334       0.179285      0.098459  \n",
       "min           0.000000               0.000000       0.000000      0.000000  \n",
       "25%           0.000000               0.000000       0.000000      0.000000  \n",
       "50%           0.000000               0.000000       0.000000      0.000000  \n",
       "75%           0.000000               0.000000       0.000000      0.000000  \n",
       "max           1.000000               1.000000       1.000000      1.000000  "
      ]
     },
     "execution_count": 46,
     "metadata": {},
     "output_type": "execute_result"
    }
   ],
   "source": [
    "X_train_transformed_df[features].describe()"
   ]
  },
  {
   "cell_type": "markdown",
   "id": "3d917a89",
   "metadata": {},
   "source": [
    "---\n",
    "---"
   ]
  },
  {
   "cell_type": "markdown",
   "id": "26ec49e0",
   "metadata": {},
   "source": [
    "# 4. Features visualization"
   ]
  },
  {
   "cell_type": "markdown",
   "id": "643b838d",
   "metadata": {},
   "source": [
    "### Predictiveness"
   ]
  },
  {
   "cell_type": "code",
   "execution_count": 47,
   "id": "0fa01cdb",
   "metadata": {},
   "outputs": [
    {
     "name": "stdout",
     "output_type": "stream",
     "text": [
      "Numerical features for filtering:\n",
      "['accepts_mercadopago', 'automatic_relist', 'is_USD', 'listing_type_id_free', 'listing_type_id_gold', 'listing_type_id_gold_premium', 'listing_type_id_gold_pro', 'listing_type_id_gold_special', 'listing_type_id_silver', 'listing_type_id_nan', 'buying_mode_buy_it_now', 'buying_mode_classified', 'buying_mode_nan', 'status_not_yet_active', 'status_paused', 'status_nan']\n"
     ]
    }
   ],
   "source": [
    "# Get the numerical columns\n",
    "numerical_features = X_train_transformed_df[features].select_dtypes(include=['number','bool']).columns.tolist()\n",
    "\n",
    "print(\"Numerical features for filtering:\")\n",
    "print(numerical_features)"
   ]
  },
  {
   "cell_type": "code",
   "execution_count": 48,
   "id": "db8f53c5",
   "metadata": {},
   "outputs": [
    {
     "name": "stdout",
     "output_type": "stream",
     "text": [
      "CORRELATION\n"
     ]
    },
    {
     "data": {
      "text/plain": [
       "listing_type_id_silver          0.171104\n",
       "listing_type_id_gold_special    0.157898\n",
       "buying_mode_buy_it_now          0.138468\n",
       "listing_type_id_gold            0.103611\n",
       "original_price                  0.078787\n",
       "                                  ...   \n",
       "buying_mode_classified         -0.090729\n",
       "buying_mode_nan                -0.105976\n",
       "listing_type_id_nan            -0.105976\n",
       "status_nan                     -0.105976\n",
       "listing_type_id_free           -0.476448\n",
       "Name: target_encoded, Length: 27, dtype: float64"
      ]
     },
     "execution_count": 48,
     "metadata": {},
     "output_type": "execute_result"
    }
   ],
   "source": [
    "# Join X_train_transformed_df with y_train_df for correlation analysis\n",
    "df_corr = X_train_transformed_df.copy()\n",
    "df_corr['target'] = y_train_df.reset_index(drop=True)\n",
    "\n",
    "# If 'target' is categorical, encode it for correlation calculation\n",
    "df_corr['target_encoded'] = (df_corr['target'] == 'new').astype(int)\n",
    "\n",
    "# Compute correlation with the target\n",
    "print(\"CORRELATION\")\n",
    "correlations = df_corr.corr(numeric_only=True)['target_encoded'].sort_values(ascending=False)\n",
    "correlations[1:]  # Exclude the target itself from the results"
   ]
  },
  {
   "cell_type": "code",
   "execution_count": 49,
   "id": "3e5e05cf",
   "metadata": {},
   "outputs": [
    {
     "name": "stdout",
     "output_type": "stream",
     "text": [
      "PREDICTIVENESS\n"
     ]
    },
    {
     "data": {
      "text/plain": [
       "listing_type_id_free            0.476448\n",
       "listing_type_id_silver          0.171104\n",
       "listing_type_id_gold_special    0.157898\n",
       "buying_mode_buy_it_now          0.138468\n",
       "buying_mode_nan                 0.105976\n",
       "                                  ...   \n",
       "available_quantity              0.001577\n",
       "accepts_mercadopago             0.001256\n",
       "price_scaled                    0.000968\n",
       "start_time                      0.000507\n",
       "sold_quantity                   0.000484\n",
       "Name: target_encoded, Length: 27, dtype: float64"
      ]
     },
     "execution_count": 49,
     "metadata": {},
     "output_type": "execute_result"
    }
   ],
   "source": [
    "print(\"PREDICTIVENESS\")\n",
    "predictiveness = abs(correlations[1:]).sort_values(ascending=False)\n",
    "predictiveness"
   ]
  },
  {
   "cell_type": "code",
   "execution_count": 50,
   "id": "f9ccff91",
   "metadata": {},
   "outputs": [
    {
     "name": "stdout",
     "output_type": "stream",
     "text": [
      "Best predictor for 'new' items is 'listing_type_id_free', while worst is 'sold_quantity'\n"
     ]
    }
   ],
   "source": [
    "print(f\"Best predictor for 'new' items is '{predictiveness.idxmax()}', while worst is '{predictiveness.idxmin()}'\")"
   ]
  },
  {
   "cell_type": "markdown",
   "id": "1ba94afb",
   "metadata": {},
   "source": [
    "It's evident that there's a clear correlation between 'free' seller-users (who mostly sell used items) and paying sellers (actual businesses offering new items). Interestingly, the **'gold_premium' tier is not a good predictor.**"
   ]
  },
  {
   "cell_type": "code",
   "execution_count": 51,
   "id": "c59d0d71",
   "metadata": {},
   "outputs": [],
   "source": [
    "df_corr.drop(columns=['target'], inplace=True)  # Ensure 'target_encoded' is not in df_corr before adding it"
   ]
  },
  {
   "cell_type": "code",
   "execution_count": 52,
   "id": "fed4ca2a",
   "metadata": {},
   "outputs": [
    {
     "data": {
      "image/png": "[encoded data removed]",
      "text/plain": [
       "<Figure size 1000x800 with 2 Axes>"
      ]
     },
     "metadata": {},
     "output_type": "display_data"
    }
   ],
   "source": [
    "# Compute correlation matrix for numerical features\n",
    "corr_matrix = df_corr[numerical_features].corr()\n",
    "\n",
    "# Plot correlation heatmap\n",
    "plt.figure(figsize=(10, 8))\n",
    "sns.heatmap(corr_matrix, annot=True, cmap='coolwarm', fmt='.2f')\n",
    "plt.title('Correlation Matrix of Numerical Features')\n",
    "plt.show()"
   ]
  },
  {
   "cell_type": "code",
   "execution_count": 53,
   "id": "5eee52e3",
   "metadata": {},
   "outputs": [
    {
     "data": {
      "text/plain": [
       "accepts_mercadopago             890\n",
       "automatic_relist                890\n",
       "is_USD                            9\n",
       "listing_type_id_free              9\n",
       "listing_type_id_gold              9\n",
       "listing_type_id_gold_premium      9\n",
       "listing_type_id_gold_pro          9\n",
       "listing_type_id_gold_special      9\n",
       "listing_type_id_silver            9\n",
       "listing_type_id_nan               9\n",
       "buying_mode_buy_it_now            9\n",
       "buying_mode_classified            9\n",
       "buying_mode_nan                   9\n",
       "status_not_yet_active             9\n",
       "status_paused                     9\n",
       "status_nan                        9\n",
       "dtype: int64"
      ]
     },
     "execution_count": 53,
     "metadata": {},
     "output_type": "execute_result"
    }
   ],
   "source": [
    "df_corr[features].isna().sum()"
   ]
  },
  {
   "cell_type": "markdown",
   "id": "413f3eaa",
   "metadata": {},
   "source": [
    "‼️ Some missing values need to be solved"
   ]
  },
  {
   "cell_type": "code",
   "execution_count": 54,
   "id": "697cc537",
   "metadata": {},
   "outputs": [],
   "source": [
    "features_train = X_train_transformed_df[features].copy()\n",
    "target_train = y_train_df.copy()"
   ]
  },
  {
   "cell_type": "code",
   "execution_count": 55,
   "id": "9ebe4b35",
   "metadata": {},
   "outputs": [
    {
     "name": "stdout",
     "output_type": "stream",
     "text": [
      "<class 'pandas.core.series.Series'>\n",
      "Index: 89109 entries, 0 to 89999\n",
      "Series name: None\n",
      "Non-Null Count  Dtype \n",
      "--------------  ----- \n",
      "89109 non-null  object\n",
      "dtypes: object(1)\n",
      "memory usage: 1.4+ MB\n"
     ]
    }
   ],
   "source": [
    "target_train.info()"
   ]
  },
  {
   "cell_type": "code",
   "execution_count": 56,
   "id": "163d4ae5",
   "metadata": {},
   "outputs": [
    {
     "name": "stdout",
     "output_type": "stream",
     "text": [
      "<class 'pandas.core.frame.DataFrame'>\n",
      "Index: 89999 entries, 0 to 89911\n",
      "Data columns (total 16 columns):\n",
      " #   Column                        Non-Null Count  Dtype  \n",
      "---  ------                        --------------  -----  \n",
      " 0   accepts_mercadopago           89109 non-null  float64\n",
      " 1   automatic_relist              89109 non-null  float64\n",
      " 2   is_USD                        89990 non-null  float64\n",
      " 3   listing_type_id_free          89990 non-null  float64\n",
      " 4   listing_type_id_gold          89990 non-null  float64\n",
      " 5   listing_type_id_gold_premium  89990 non-null  float64\n",
      " 6   listing_type_id_gold_pro      89990 non-null  float64\n",
      " 7   listing_type_id_gold_special  89990 non-null  float64\n",
      " 8   listing_type_id_silver        89990 non-null  float64\n",
      " 9   listing_type_id_nan           89990 non-null  float64\n",
      " 10  buying_mode_buy_it_now        89990 non-null  float64\n",
      " 11  buying_mode_classified        89990 non-null  float64\n",
      " 12  buying_mode_nan               89990 non-null  float64\n",
      " 13  status_not_yet_active         89990 non-null  float64\n",
      " 14  status_paused                 89990 non-null  float64\n",
      " 15  status_nan                    89990 non-null  float64\n",
      "dtypes: float64(16)\n",
      "memory usage: 11.7 MB\n"
     ]
    }
   ],
   "source": [
    "features_train.info()"
   ]
  },
  {
   "cell_type": "markdown",
   "id": "f8eec0ff",
   "metadata": {},
   "source": [
    "---\n",
    "---\n",
    "## CHECK THIS: Missing values"
   ]
  },
  {
   "cell_type": "markdown",
   "id": "72bd2b4b",
   "metadata": {},
   "source": [
    "\n",
    "Se están generando nulls al procesar:\n",
    "- 0   accepts_mercadopago           89109 non-null  float64\n",
    "- 1   automatic_relist              89109 non-null  float64\n",
    "\n",
    "Probable index error"
   ]
  },
  {
   "cell_type": "code",
   "execution_count": 57,
   "id": "128e1a4e",
   "metadata": {},
   "outputs": [],
   "source": [
    "features_train = features_train.dropna(axis=0, how='any') # Remove rows where all features are NaN\n",
    "target_train = target_train[features_train.index] # Remove target values that do not match the features index"
   ]
  },
  {
   "cell_type": "markdown",
   "id": "ea542fdd",
   "metadata": {},
   "source": [
    "---\n",
    "---\n",
    "# Quick training test"
   ]
  },
  {
   "cell_type": "markdown",
   "id": "54896350",
   "metadata": {},
   "source": [
    "## Preprocessing for testing split"
   ]
  },
  {
   "cell_type": "markdown",
   "id": "3c5f7814",
   "metadata": {},
   "source": [
    "### Removing empty values"
   ]
  },
  {
   "cell_type": "code",
   "execution_count": 62,
   "id": "bac212e1",
   "metadata": {},
   "outputs": [],
   "source": [
    "empty_columns = ['differential_pricing', 'subtitle', 'listing_source', 'coverage_areas','international_delivery_mode']\n",
    "# Remove empty columns\n",
    "X_test_df.drop(columns=empty_columns, inplace=True)\n",
    "y_test_df.drop(columns=empty_columns, inplace=True)"
   ]
  },
  {
   "cell_type": "markdown",
   "id": "be36d0bf",
   "metadata": {},
   "source": [
    "### Missing Values handling"
   ]
  },
  {
   "cell_type": "code",
   "execution_count": 63,
   "id": "ef8e9876",
   "metadata": {},
   "outputs": [],
   "source": [
    "# Convert the column to string type to ensure consistency\n",
    "X_test_df['sub_status'] = X_test_df['sub_status'].astype(str)\n",
    "X_test_df['sub_status'] = X_test_df['sub_status'].replace('[]', np.nan)"
   ]
  },
  {
   "cell_type": "code",
   "execution_count": 65,
   "id": "c9986685",
   "metadata": {},
   "outputs": [
    {
     "name": "stdout",
     "output_type": "stream",
     "text": [
      "Removed 95 items (-0.95%) with 'sub_status' data.\n"
     ]
    }
   ],
   "source": [
    "# Remove items where 'sub_status' contains any data (not active items)\n",
    "original = len(X_test_df)\n",
    "mask = X_test_df['sub_status'].isna()\n",
    "X_test_df = X_test_df[mask]\n",
    "y_test_df = y_test_df[mask]\n",
    "cleaned = len(X_test_df)\n",
    "print(f\"Removed {original - cleaned} items ({cleaned/original-1:.2%}) with 'sub_status' data.\")"
   ]
  },
  {
   "cell_type": "code",
   "execution_count": 67,
   "id": "c1a2aed3",
   "metadata": {},
   "outputs": [],
   "source": [
    "# 'sub_status' is no longer needed, so we can drop it\n",
    "X_test_df.drop(columns=['sub_status'], inplace=True)"
   ]
  },
  {
   "cell_type": "markdown",
   "id": "9c076194",
   "metadata": {},
   "source": [
    "### Outliers handling"
   ]
  },
  {
   "cell_type": "code",
   "execution_count": 68,
   "id": "76d8aad0",
   "metadata": {},
   "outputs": [],
   "source": [
    "def remove_outliers_iqr(df: pd.DataFrame, column: str, iqr_factor: float = 1.5) -> pd.DataFrame:\n",
    "    \"\"\"\n",
    "    Removes outliers from a specified column in a DataFrame using the IQR method.\n",
    "\n",
    "    Args:\n",
    "        df (pd.DataFrame): The input DataFrame.\n",
    "        column (str): The name of the numerical column to remove outliers from.\n",
    "        iqr_factor (float): The multiplier for the IQR to define outlier bounds (default is 1.5).\n",
    "\n",
    "    Returns:\n",
    "        pd.DataFrame: A new DataFrame with outliers removed from the specified column.\n",
    "    \"\"\"\n",
    "    Q1 = df[column].quantile(0.25)\n",
    "    Q3 = df[column].quantile(0.75)\n",
    "    IQR = Q3 - Q1\n",
    "\n",
    "    lower_bound = Q1 - iqr_factor * IQR\n",
    "    upper_bound = Q3 + iqr_factor * IQR\n",
    "\n",
    "    # Filter out the outliers\n",
    "    df_no_outliers = df[(df[column] >= lower_bound) & (df[column] <= upper_bound)]\n",
    "\n",
    "    print(f\"Outliers removed from '{column}' using IQR method (factor: {iqr_factor}):\")\n",
    "    print(f\"  Original rows: {len(df)}\")\n",
    "    print(f\"  Rows after outlier removal: {len(df_no_outliers)}\")\n",
    "    print(f\"  Outliers removed: {len(df) - len(df_no_outliers)}\")\n",
    "\n",
    "    return df_no_outliers"
   ]
  },
  {
   "cell_type": "code",
   "execution_count": 69,
   "id": "8902e59c",
   "metadata": {},
   "outputs": [
    {
     "name": "stdout",
     "output_type": "stream",
     "text": [
      "Outliers removed from 'price' using IQR method (factor: 1.5):\n",
      "  Original rows: 9905\n",
      "  Rows after outlier removal: 8484\n",
      "  Outliers removed: 1421\n",
      "\n",
      "Outliers removed from 'initial_quantity' using IQR method (factor: 1.5):\n",
      "  Original rows: 8484\n",
      "  Rows after outlier removal: 7114\n",
      "  Outliers removed: 1370\n",
      "\n"
     ]
    }
   ],
   "source": [
    "continuous_features = ['price', 'initial_quantity']\n",
    "\n",
    "# Initialize the DataFrame that will store the cumulatively filtered data.\n",
    "X_test_outlier_df = X_test_df.copy()\n",
    "\n",
    "for feature in continuous_features:\n",
    "    X_test_outlier_df = remove_outliers_iqr(X_test_outlier_df.copy(), feature, iqr_factor=1.5)\n",
    "    print()"
   ]
  },
  {
   "cell_type": "markdown",
   "id": "414dd512",
   "metadata": {},
   "source": [
    "### Normalization\n",
    "Min-max scaling will be applied to continues values."
   ]
  },
  {
   "cell_type": "code",
   "execution_count": 71,
   "id": "519659e0",
   "metadata": {},
   "outputs": [
    {
     "ename": "KeyError",
     "evalue": "\"None of [Index(['price', 'initial_quantity'], dtype='object')] are in the [columns]\"",
     "output_type": "error",
     "traceback": [
      "\u001b[31m---------------------------------------------------------------------------\u001b[39m",
      "\u001b[31mKeyError\u001b[39m                                  Traceback (most recent call last)",
      "\u001b[36mCell\u001b[39m\u001b[36m \u001b[39m\u001b[32mIn[71]\u001b[39m\u001b[32m, line 9\u001b[39m\n\u001b[32m      6\u001b[39m scaler = MinMaxScaler()\n\u001b[32m      8\u001b[39m \u001b[38;5;66;03m# 2. Fit the scaler to your continuous data (learn min and max from training data)\u001b[39;00m\n\u001b[32m----> \u001b[39m\u001b[32m9\u001b[39m scaler.fit(\u001b[43mX_train_df\u001b[49m\u001b[43m[\u001b[49m\u001b[43mcontinuous_features\u001b[49m\u001b[43m]\u001b[49m) \u001b[38;5;66;03m# Use your training data here\u001b[39;00m\n\u001b[32m     11\u001b[39m \u001b[38;5;66;03m# 3. Transform the continuous features\u001b[39;00m\n\u001b[32m     12\u001b[39m X_test_scaled_df[continuous_features] = scaler.transform(X_test_df[continuous_features])\n",
      "\u001b[36mFile \u001b[39m\u001b[32m~/Documents/Programación/MELI/[MeLi] Cod Ex DS/.venv/lib/python3.11/site-packages/pandas/core/frame.py:4113\u001b[39m, in \u001b[36mDataFrame.__getitem__\u001b[39m\u001b[34m(self, key)\u001b[39m\n\u001b[32m   4111\u001b[39m     \u001b[38;5;28;01mif\u001b[39;00m is_iterator(key):\n\u001b[32m   4112\u001b[39m         key = \u001b[38;5;28mlist\u001b[39m(key)\n\u001b[32m-> \u001b[39m\u001b[32m4113\u001b[39m     indexer = \u001b[38;5;28;43mself\u001b[39;49m\u001b[43m.\u001b[49m\u001b[43mcolumns\u001b[49m\u001b[43m.\u001b[49m\u001b[43m_get_indexer_strict\u001b[49m\u001b[43m(\u001b[49m\u001b[43mkey\u001b[49m\u001b[43m,\u001b[49m\u001b[43m \u001b[49m\u001b[33;43m\"\u001b[39;49m\u001b[33;43mcolumns\u001b[39;49m\u001b[33;43m\"\u001b[39;49m\u001b[43m)\u001b[49m[\u001b[32m1\u001b[39m]\n\u001b[32m   4115\u001b[39m \u001b[38;5;66;03m# take() does not accept boolean indexers\u001b[39;00m\n\u001b[32m   4116\u001b[39m \u001b[38;5;28;01mif\u001b[39;00m \u001b[38;5;28mgetattr\u001b[39m(indexer, \u001b[33m\"\u001b[39m\u001b[33mdtype\u001b[39m\u001b[33m\"\u001b[39m, \u001b[38;5;28;01mNone\u001b[39;00m) == \u001b[38;5;28mbool\u001b[39m:\n",
      "\u001b[36mFile \u001b[39m\u001b[32m~/Documents/Programación/MELI/[MeLi] Cod Ex DS/.venv/lib/python3.11/site-packages/pandas/core/indexes/base.py:6212\u001b[39m, in \u001b[36mIndex._get_indexer_strict\u001b[39m\u001b[34m(self, key, axis_name)\u001b[39m\n\u001b[32m   6209\u001b[39m \u001b[38;5;28;01melse\u001b[39;00m:\n\u001b[32m   6210\u001b[39m     keyarr, indexer, new_indexer = \u001b[38;5;28mself\u001b[39m._reindex_non_unique(keyarr)\n\u001b[32m-> \u001b[39m\u001b[32m6212\u001b[39m \u001b[38;5;28;43mself\u001b[39;49m\u001b[43m.\u001b[49m\u001b[43m_raise_if_missing\u001b[49m\u001b[43m(\u001b[49m\u001b[43mkeyarr\u001b[49m\u001b[43m,\u001b[49m\u001b[43m \u001b[49m\u001b[43mindexer\u001b[49m\u001b[43m,\u001b[49m\u001b[43m \u001b[49m\u001b[43maxis_name\u001b[49m\u001b[43m)\u001b[49m\n\u001b[32m   6214\u001b[39m keyarr = \u001b[38;5;28mself\u001b[39m.take(indexer)\n\u001b[32m   6215\u001b[39m \u001b[38;5;28;01mif\u001b[39;00m \u001b[38;5;28misinstance\u001b[39m(key, Index):\n\u001b[32m   6216\u001b[39m     \u001b[38;5;66;03m# GH 42790 - Preserve name from an Index\u001b[39;00m\n",
      "\u001b[36mFile \u001b[39m\u001b[32m~/Documents/Programación/MELI/[MeLi] Cod Ex DS/.venv/lib/python3.11/site-packages/pandas/core/indexes/base.py:6261\u001b[39m, in \u001b[36mIndex._raise_if_missing\u001b[39m\u001b[34m(self, key, indexer, axis_name)\u001b[39m\n\u001b[32m   6259\u001b[39m \u001b[38;5;28;01mif\u001b[39;00m nmissing:\n\u001b[32m   6260\u001b[39m     \u001b[38;5;28;01mif\u001b[39;00m nmissing == \u001b[38;5;28mlen\u001b[39m(indexer):\n\u001b[32m-> \u001b[39m\u001b[32m6261\u001b[39m         \u001b[38;5;28;01mraise\u001b[39;00m \u001b[38;5;167;01mKeyError\u001b[39;00m(\u001b[33mf\u001b[39m\u001b[33m\"\u001b[39m\u001b[33mNone of [\u001b[39m\u001b[38;5;132;01m{\u001b[39;00mkey\u001b[38;5;132;01m}\u001b[39;00m\u001b[33m] are in the [\u001b[39m\u001b[38;5;132;01m{\u001b[39;00maxis_name\u001b[38;5;132;01m}\u001b[39;00m\u001b[33m]\u001b[39m\u001b[33m\"\u001b[39m)\n\u001b[32m   6263\u001b[39m     not_found = \u001b[38;5;28mlist\u001b[39m(ensure_index(key)[missing_mask.nonzero()[\u001b[32m0\u001b[39m]].unique())\n\u001b[32m   6264\u001b[39m     \u001b[38;5;28;01mraise\u001b[39;00m \u001b[38;5;167;01mKeyError\u001b[39;00m(\u001b[33mf\u001b[39m\u001b[33m\"\u001b[39m\u001b[38;5;132;01m{\u001b[39;00mnot_found\u001b[38;5;132;01m}\u001b[39;00m\u001b[33m not in index\u001b[39m\u001b[33m\"\u001b[39m)\n",
      "\u001b[31mKeyError\u001b[39m: \"None of [Index(['price', 'initial_quantity'], dtype='object')] are in the [columns]\""
     ]
    }
   ],
   "source": [
    "from sklearn.preprocessing import MinMaxScaler\n",
    "\n",
    "X_test_scaled_df = X_test_outlier_df.copy().dropna()\n",
    "\n",
    "# 1. Initialize the scaler\n",
    "scaler = MinMaxScaler()\n",
    "\n",
    "# 2. Fit the scaler to your continuous data (learn min and max from training data)\n",
    "#scaler.fit(X_train_df[continuous_features]) # Use your training data here\n",
    "# LOAD SCALER PREVIOUSLY FITTED\n",
    "\n",
    "# 3. Transform the continuous features\n",
    "X_test_scaled_df[continuous_features] = scaler.transform(X_test_df[continuous_features])\n",
    "\n",
    "print(\"DataFrame after Min-Max Scaling:\")\n",
    "X_test_scaled_df[['price','initial_quantity']].describe()"
   ]
  },
  {
   "cell_type": "markdown",
   "id": "e0be9e84",
   "metadata": {},
   "source": [
    "### Merge to original dataframe"
   ]
  },
  {
   "cell_type": "code",
   "execution_count": null,
   "id": "503ee2b5",
   "metadata": {},
   "outputs": [],
   "source": [
    "# 1. Identify non-continuous features from the original DataFrame\n",
    "# These are the columns you want to keep as they are from X_test_df\n",
    "non_continuous_features = [col for col in X_test_df.columns if col not in continuous_features]\n",
    "\n",
    "# 2. Select these non-continuous features from X_test_df\n",
    "df_non_continuous = X_test_df[non_continuous_features]\n",
    "\n",
    "# 3. Rename columns in X_test_scaled_df to add '_scaled' suffix\n",
    "X_test_scaled_df.drop(columns=non_continuous_features, inplace=True)  # Drop original continuous features\n",
    "X_test_scaled_df_renamed = X_test_scaled_df.add_suffix('_scaled')\n",
    "\n",
    "# 4. Concatenate the non-continuous features and the scaled features\n",
    "X_test_df = pd.concat([df_non_continuous, X_test_scaled_df_renamed], axis=1)"
   ]
  },
  {
   "cell_type": "markdown",
   "id": "6019eed3",
   "metadata": {},
   "source": [
    "### Binary Encoding"
   ]
  },
  {
   "cell_type": "code",
   "execution_count": 74,
   "id": "c200e4bf",
   "metadata": {},
   "outputs": [],
   "source": [
    "# Create the new boolean feature 'is_USD'\n",
    "X_test_df['is_USD'] = (X_test_df['currency_id'] == 'USD')\n",
    "\n",
    "# Store it as numeric (1/0)\n",
    "X_test_df['is_USD'] = X_test_df['is_USD'].astype('uint8')"
   ]
  },
  {
   "cell_type": "code",
   "execution_count": 75,
   "id": "2e737ddf",
   "metadata": {},
   "outputs": [],
   "source": [
    "X_test_df.drop(columns=['currency_id'], inplace=True)"
   ]
  },
  {
   "cell_type": "code",
   "execution_count": 77,
   "id": "3ac248f3",
   "metadata": {},
   "outputs": [],
   "source": [
    "# Convert booleans into integers\n",
    "for col in ['accepts_mercadopago', 'automatic_relist']:\n",
    "    X_test_df[col] = X_test_df[col].dropna().astype('uint8')"
   ]
  },
  {
   "cell_type": "markdown",
   "id": "665919f0",
   "metadata": {},
   "source": [
    "### One-hot encoding\n",
    "**(Categorical features)**"
   ]
  },
  {
   "cell_type": "code",
   "execution_count": null,
   "id": "0eb563fa",
   "metadata": {},
   "outputs": [],
   "source": [
    "from sklearn.preprocessing import OneHotEncoder\n",
    "\n",
    "# Define the columns to encode\n",
    "categorical_features = ['listing_type_id', 'buying_mode', 'status']\n",
    "\n",
    "# Initialize OneHotEncoder\n",
    "encoder = OneHotEncoder(handle_unknown='ignore', sparse_output=False, drop='first') # drop='first' for multicollinearity\n",
    "\n",
    "# Fit and transform the selected categorical columns\n",
    "encoded_data = encoder.fit_transform(X_test_df[categorical_features])\n",
    "\n",
    "# Get the feature names for the new columns\n",
    "encoded_feature_names = encoder.get_feature_names_out(categorical_features)\n",
    "\n",
    "# Create a DataFrame from the encoded array\n",
    "ecoded_features = pd.DataFrame(encoded_data, columns=encoded_feature_names)\n",
    "\n",
    "# Concatenate with the original DataFrame (dropping the original categorical columns)\n",
    "X_test_transformed_df = pd.concat([X_test_df.drop(columns=categorical_features), ecoded_features], axis=1)"
   ]
  },
  {
   "cell_type": "code",
   "execution_count": null,
   "id": "8159bb8b",
   "metadata": {},
   "outputs": [
    {
     "data": {
      "text/html": [
       "<div>\n",
       "<style scoped>\n",
       "    .dataframe tbody tr th:only-of-type {\n",
       "        vertical-align: middle;\n",
       "    }\n",
       "\n",
       "    .dataframe tbody tr th {\n",
       "        vertical-align: top;\n",
       "    }\n",
       "\n",
       "    .dataframe thead th {\n",
       "        text-align: right;\n",
       "    }\n",
       "</style>\n",
       "<table border=\"1\" class=\"dataframe\">\n",
       "  <thead>\n",
       "    <tr style=\"text-align: right;\">\n",
       "      <th></th>\n",
       "      <th>seller_address</th>\n",
       "      <th>warranty</th>\n",
       "      <th>deal_ids</th>\n",
       "      <th>base_price</th>\n",
       "      <th>shipping</th>\n",
       "      <th>non_mercado_pago_payment_methods</th>\n",
       "      <th>seller_id</th>\n",
       "      <th>variations</th>\n",
       "      <th>site_id</th>\n",
       "      <th>attributes</th>\n",
       "      <th>tags</th>\n",
       "      <th>parent_item_id</th>\n",
       "      <th>category_id</th>\n",
       "      <th>descriptions</th>\n",
       "      <th>last_updated</th>\n",
       "      <th>...</th>\n",
       "      <th>initial_quantity_scaled</th>\n",
       "      <th>is_USD</th>\n",
       "      <th>listing_type_id_free</th>\n",
       "      <th>listing_type_id_gold</th>\n",
       "      <th>listing_type_id_gold_premium</th>\n",
       "      <th>listing_type_id_gold_pro</th>\n",
       "      <th>listing_type_id_gold_special</th>\n",
       "      <th>listing_type_id_silver</th>\n",
       "      <th>listing_type_id_nan</th>\n",
       "      <th>buying_mode_buy_it_now</th>\n",
       "      <th>buying_mode_classified</th>\n",
       "      <th>buying_mode_nan</th>\n",
       "      <th>status_not_yet_active</th>\n",
       "      <th>status_paused</th>\n",
       "      <th>status_nan</th>\n",
       "    </tr>\n",
       "  </thead>\n",
       "  <tbody>\n",
       "    <tr>\n",
       "      <th>78908</th>\n",
       "      <td>{'country': {'name': 'Argentina', 'id': 'AR'},...</td>\n",
       "      <td>None</td>\n",
       "      <td>[]</td>\n",
       "      <td>160.00</td>\n",
       "      <td>{'local_pick_up': True, 'methods': [], 'tags':...</td>\n",
       "      <td>[{'description': 'Transferencia bancaria', 'id...</td>\n",
       "      <td>5.213966e+09</td>\n",
       "      <td>[]</td>\n",
       "      <td>MLA</td>\n",
       "      <td>[]</td>\n",
       "      <td>[dragged_bids_and_visits]</td>\n",
       "      <td>MLA1057830753</td>\n",
       "      <td>MLA6315</td>\n",
       "      <td>[{'id': 'MLA6413415474-924376921'}]</td>\n",
       "      <td>2015-09-19T03:46:13.000Z</td>\n",
       "      <td>...</td>\n",
       "      <td>0.001400</td>\n",
       "      <td>0.0</td>\n",
       "      <td>0.0</td>\n",
       "      <td>0.0</td>\n",
       "      <td>0.0</td>\n",
       "      <td>0.0</td>\n",
       "      <td>0.0</td>\n",
       "      <td>0.0</td>\n",
       "      <td>0.0</td>\n",
       "      <td>1.0</td>\n",
       "      <td>0.0</td>\n",
       "      <td>0.0</td>\n",
       "      <td>0.0</td>\n",
       "      <td>0.0</td>\n",
       "      <td>0.0</td>\n",
       "    </tr>\n",
       "    <tr>\n",
       "      <th>85692</th>\n",
       "      <td>{'country': {'name': 'Argentina', 'id': 'AR'},...</td>\n",
       "      <td>None</td>\n",
       "      <td>[]</td>\n",
       "      <td>225.00</td>\n",
       "      <td>{'local_pick_up': False, 'methods': [], 'tags'...</td>\n",
       "      <td>[{'description': 'Transferencia bancaria', 'id...</td>\n",
       "      <td>7.060837e+09</td>\n",
       "      <td>[{'attribute_combinations': [{'value_id': '920...</td>\n",
       "      <td>MLA</td>\n",
       "      <td>[{'value_id': 'male', 'attribute_group_id': 'D...</td>\n",
       "      <td>[dragged_bids_and_visits]</td>\n",
       "      <td>MLA3089369319</td>\n",
       "      <td>MLA26536</td>\n",
       "      <td>[{'id': 'MLA3838400806-921309197'}]</td>\n",
       "      <td>2015-09-18T13:21:51.000Z</td>\n",
       "      <td>...</td>\n",
       "      <td>0.000000</td>\n",
       "      <td>0.0</td>\n",
       "      <td>1.0</td>\n",
       "      <td>0.0</td>\n",
       "      <td>0.0</td>\n",
       "      <td>0.0</td>\n",
       "      <td>0.0</td>\n",
       "      <td>0.0</td>\n",
       "      <td>0.0</td>\n",
       "      <td>1.0</td>\n",
       "      <td>0.0</td>\n",
       "      <td>0.0</td>\n",
       "      <td>0.0</td>\n",
       "      <td>0.0</td>\n",
       "      <td>0.0</td>\n",
       "    </tr>\n",
       "    <tr>\n",
       "      <th>32830</th>\n",
       "      <td>{'country': {'name': 'Argentina', 'id': 'AR'},...</td>\n",
       "      <td>None</td>\n",
       "      <td>[]</td>\n",
       "      <td>50.00</td>\n",
       "      <td>{'local_pick_up': False, 'methods': [], 'tags'...</td>\n",
       "      <td>[]</td>\n",
       "      <td>7.283501e+09</td>\n",
       "      <td>[]</td>\n",
       "      <td>MLA</td>\n",
       "      <td>[]</td>\n",
       "      <td>[]</td>\n",
       "      <td>None</td>\n",
       "      <td>MLA72685</td>\n",
       "      <td>[{'id': 'MLA2563108015-924855245'}]</td>\n",
       "      <td>2015-09-19T22:04:46.000Z</td>\n",
       "      <td>...</td>\n",
       "      <td>0.009802</td>\n",
       "      <td>0.0</td>\n",
       "      <td>0.0</td>\n",
       "      <td>0.0</td>\n",
       "      <td>0.0</td>\n",
       "      <td>0.0</td>\n",
       "      <td>0.0</td>\n",
       "      <td>0.0</td>\n",
       "      <td>0.0</td>\n",
       "      <td>1.0</td>\n",
       "      <td>0.0</td>\n",
       "      <td>0.0</td>\n",
       "      <td>0.0</td>\n",
       "      <td>0.0</td>\n",
       "      <td>0.0</td>\n",
       "    </tr>\n",
       "    <tr>\n",
       "      <th>89656</th>\n",
       "      <td>{'country': {'name': 'Argentina', 'id': 'AR'},...</td>\n",
       "      <td>None</td>\n",
       "      <td>[]</td>\n",
       "      <td>199.00</td>\n",
       "      <td>{'local_pick_up': True, 'methods': [], 'tags':...</td>\n",
       "      <td>[{'description': 'Transferencia bancaria', 'id...</td>\n",
       "      <td>3.984101e+09</td>\n",
       "      <td>[]</td>\n",
       "      <td>MLA</td>\n",
       "      <td>[]</td>\n",
       "      <td>[dragged_bids_and_visits]</td>\n",
       "      <td>MLA2673110723</td>\n",
       "      <td>MLA11794</td>\n",
       "      <td>[{'id': 'MLA2133858488-919364695'}]</td>\n",
       "      <td>2015-09-13T17:24:39.000Z</td>\n",
       "      <td>...</td>\n",
       "      <td>NaN</td>\n",
       "      <td>0.0</td>\n",
       "      <td>0.0</td>\n",
       "      <td>0.0</td>\n",
       "      <td>0.0</td>\n",
       "      <td>0.0</td>\n",
       "      <td>0.0</td>\n",
       "      <td>0.0</td>\n",
       "      <td>1.0</td>\n",
       "      <td>0.0</td>\n",
       "      <td>0.0</td>\n",
       "      <td>1.0</td>\n",
       "      <td>0.0</td>\n",
       "      <td>0.0</td>\n",
       "      <td>1.0</td>\n",
       "    </tr>\n",
       "    <tr>\n",
       "      <th>70042</th>\n",
       "      <td>{'country': {'name': 'Argentina', 'id': 'AR'},...</td>\n",
       "      <td>Sin garantía</td>\n",
       "      <td>[]</td>\n",
       "      <td>399.99</td>\n",
       "      <td>{'local_pick_up': False, 'methods': [], 'tags'...</td>\n",
       "      <td>[{'description': 'Acordar con el comprador', '...</td>\n",
       "      <td>6.003493e+09</td>\n",
       "      <td>[]</td>\n",
       "      <td>MLA</td>\n",
       "      <td>[]</td>\n",
       "      <td>[dragged_bids_and_visits]</td>\n",
       "      <td>MLA7167560506</td>\n",
       "      <td>MLA374224</td>\n",
       "      <td>[{'id': 'MLA6940160362-922847653'}]</td>\n",
       "      <td>2015-09-17T12:31:43.000Z</td>\n",
       "      <td>...</td>\n",
       "      <td>0.000000</td>\n",
       "      <td>0.0</td>\n",
       "      <td>0.0</td>\n",
       "      <td>0.0</td>\n",
       "      <td>0.0</td>\n",
       "      <td>0.0</td>\n",
       "      <td>0.0</td>\n",
       "      <td>0.0</td>\n",
       "      <td>0.0</td>\n",
       "      <td>1.0</td>\n",
       "      <td>0.0</td>\n",
       "      <td>0.0</td>\n",
       "      <td>0.0</td>\n",
       "      <td>0.0</td>\n",
       "      <td>0.0</td>\n",
       "    </tr>\n",
       "  </tbody>\n",
       "</table>\n",
       "<p>5 rows × 48 columns</p>\n",
       "</div>"
      ],
      "text/plain": [
       "                                          seller_address      warranty  \\\n",
       "78908  {'country': {'name': 'Argentina', 'id': 'AR'},...          None   \n",
       "85692  {'country': {'name': 'Argentina', 'id': 'AR'},...          None   \n",
       "32830  {'country': {'name': 'Argentina', 'id': 'AR'},...          None   \n",
       "89656  {'country': {'name': 'Argentina', 'id': 'AR'},...          None   \n",
       "70042  {'country': {'name': 'Argentina', 'id': 'AR'},...  Sin garantía   \n",
       "\n",
       "      deal_ids  base_price                                           shipping  \\\n",
       "78908       []      160.00  {'local_pick_up': True, 'methods': [], 'tags':...   \n",
       "85692       []      225.00  {'local_pick_up': False, 'methods': [], 'tags'...   \n",
       "32830       []       50.00  {'local_pick_up': False, 'methods': [], 'tags'...   \n",
       "89656       []      199.00  {'local_pick_up': True, 'methods': [], 'tags':...   \n",
       "70042       []      399.99  {'local_pick_up': False, 'methods': [], 'tags'...   \n",
       "\n",
       "                        non_mercado_pago_payment_methods     seller_id  \\\n",
       "78908  [{'description': 'Transferencia bancaria', 'id...  5.213966e+09   \n",
       "85692  [{'description': 'Transferencia bancaria', 'id...  7.060837e+09   \n",
       "32830                                                 []  7.283501e+09   \n",
       "89656  [{'description': 'Transferencia bancaria', 'id...  3.984101e+09   \n",
       "70042  [{'description': 'Acordar con el comprador', '...  6.003493e+09   \n",
       "\n",
       "                                              variations site_id  \\\n",
       "78908                                                 []     MLA   \n",
       "85692  [{'attribute_combinations': [{'value_id': '920...     MLA   \n",
       "32830                                                 []     MLA   \n",
       "89656                                                 []     MLA   \n",
       "70042                                                 []     MLA   \n",
       "\n",
       "                                              attributes  \\\n",
       "78908                                                 []   \n",
       "85692  [{'value_id': 'male', 'attribute_group_id': 'D...   \n",
       "32830                                                 []   \n",
       "89656                                                 []   \n",
       "70042                                                 []   \n",
       "\n",
       "                            tags parent_item_id category_id  \\\n",
       "78908  [dragged_bids_and_visits]  MLA1057830753     MLA6315   \n",
       "85692  [dragged_bids_and_visits]  MLA3089369319    MLA26536   \n",
       "32830                         []           None    MLA72685   \n",
       "89656  [dragged_bids_and_visits]  MLA2673110723    MLA11794   \n",
       "70042  [dragged_bids_and_visits]  MLA7167560506   MLA374224   \n",
       "\n",
       "                              descriptions              last_updated  ...  \\\n",
       "78908  [{'id': 'MLA6413415474-924376921'}]  2015-09-19T03:46:13.000Z  ...   \n",
       "85692  [{'id': 'MLA3838400806-921309197'}]  2015-09-18T13:21:51.000Z  ...   \n",
       "32830  [{'id': 'MLA2563108015-924855245'}]  2015-09-19T22:04:46.000Z  ...   \n",
       "89656  [{'id': 'MLA2133858488-919364695'}]  2015-09-13T17:24:39.000Z  ...   \n",
       "70042  [{'id': 'MLA6940160362-922847653'}]  2015-09-17T12:31:43.000Z  ...   \n",
       "\n",
       "      initial_quantity_scaled is_USD  listing_type_id_free  \\\n",
       "78908                0.001400    0.0                   0.0   \n",
       "85692                0.000000    0.0                   1.0   \n",
       "32830                0.009802    0.0                   0.0   \n",
       "89656                     NaN    0.0                   0.0   \n",
       "70042                0.000000    0.0                   0.0   \n",
       "\n",
       "       listing_type_id_gold  listing_type_id_gold_premium  \\\n",
       "78908                   0.0                           0.0   \n",
       "85692                   0.0                           0.0   \n",
       "32830                   0.0                           0.0   \n",
       "89656                   0.0                           0.0   \n",
       "70042                   0.0                           0.0   \n",
       "\n",
       "      listing_type_id_gold_pro listing_type_id_gold_special  \\\n",
       "78908                      0.0                          0.0   \n",
       "85692                      0.0                          0.0   \n",
       "32830                      0.0                          0.0   \n",
       "89656                      0.0                          0.0   \n",
       "70042                      0.0                          0.0   \n",
       "\n",
       "       listing_type_id_silver listing_type_id_nan buying_mode_buy_it_now  \\\n",
       "78908                     0.0                 0.0                    1.0   \n",
       "85692                     0.0                 0.0                    1.0   \n",
       "32830                     0.0                 0.0                    1.0   \n",
       "89656                     0.0                 1.0                    0.0   \n",
       "70042                     0.0                 0.0                    1.0   \n",
       "\n",
       "       buying_mode_classified buying_mode_nan  status_not_yet_active  \\\n",
       "78908                     0.0             0.0                    0.0   \n",
       "85692                     0.0             0.0                    0.0   \n",
       "32830                     0.0             0.0                    0.0   \n",
       "89656                     0.0             1.0                    0.0   \n",
       "70042                     0.0             0.0                    0.0   \n",
       "\n",
       "       status_paused status_nan  \n",
       "78908            0.0        0.0  \n",
       "85692            0.0        0.0  \n",
       "32830            0.0        0.0  \n",
       "89656            0.0        1.0  \n",
       "70042            0.0        0.0  \n",
       "\n",
       "[5 rows x 48 columns]"
      ]
     },
     "metadata": {},
     "output_type": "display_data"
    }
   ],
   "source": [
    "X_test_transformed_df.sample(5)  # Display a sample of the transformed training data"
   ]
  },
  {
   "cell_type": "markdown",
   "id": "dbf0e494",
   "metadata": {},
   "source": [
    "## Final result"
   ]
  },
  {
   "cell_type": "code",
   "execution_count": null,
   "id": "bde8fa4c",
   "metadata": {},
   "outputs": [
    {
     "name": "stdout",
     "output_type": "stream",
     "text": [
      "Number of features:\n",
      " - Before transformations: 38\n",
      " - After transformations: 48\n",
      "Increase of 10 features (26.32%)\n"
     ]
    }
   ],
   "source": [
    "before_len = len(X_test_df.columns)\n",
    "after_len = len(X_test_transformed_df.columns)\n",
    "dif_len = after_len - before_len\n",
    "print(\"Number of features:\")\n",
    "print(f\" - Before transformations: {before_len}\")\n",
    "print(f\" - After transformations: {after_len}\")\n",
    "print(f\"Increase of {dif_len} features ({(dif_len/before_len):.2%})\")"
   ]
  },
  {
   "cell_type": "markdown",
   "id": "b4478721",
   "metadata": {},
   "source": [
    "## Training"
   ]
  },
  {
   "cell_type": "code",
   "execution_count": 58,
   "id": "0eb4ac3f",
   "metadata": {},
   "outputs": [],
   "source": [
    "import pandas as pd\n",
    "from sklearn.model_selection import train_test_split\n",
    "from sklearn.preprocessing import StandardScaler # Good practice for many models\n",
    "from sklearn.linear_model import LogisticRegression\n",
    "from sklearn.metrics import accuracy_score, classification_report, confusion_matrix\n",
    "from sklearn.datasets import make_classification # To create a sample dataset\n",
    "\n",
    "# Initialize the Logistic Regression model\n",
    "model = LogisticRegression(random_state=42) # random_state for reproducibility"
   ]
  },
  {
   "cell_type": "code",
   "execution_count": 59,
   "id": "ce0928e9",
   "metadata": {},
   "outputs": [
    {
     "name": "stdout",
     "output_type": "stream",
     "text": [
      "Training the Logistic Regression model...\n",
      "Model training complete.\n"
     ]
    }
   ],
   "source": [
    "# Train the model using the scaled training data\n",
    "print(\"Training the Logistic Regression model...\")\n",
    "model.fit(features_train, target_train)\n",
    "print(\"Model training complete.\")"
   ]
  },
  {
   "cell_type": "code",
   "execution_count": 60,
   "id": "e6ab8aaa",
   "metadata": {},
   "outputs": [
    {
     "name": "stderr",
     "output_type": "stream",
     "text": [
      "/Users/alejandrolloveras/Documents/Programación/MELI/[MeLi] Cod Ex DS/.venv/lib/python3.11/site-packages/sklearn/utils/validation.py:2749: UserWarning: X does not have valid feature names, but LogisticRegression was fitted with feature names\n",
      "  warnings.warn(\n"
     ]
    },
    {
     "ename": "ValueError",
     "evalue": "Expected 2D array, got 1D array instead:\narray=[{'seller_address': {'country': {'name': 'Argentina', 'id': 'AR'}, 'state': {'name': 'Buenos Aires', 'id': 'AR-B'}, 'city': {'name': 'General Rodríguez', 'id': 'TUxBQ0dFTjY4NTg'}}, 'warranty': None, 'sub_status': [], 'deal_ids': [], 'base_price': 6700.0, 'shipping': {'local_pick_up': True, 'methods': [], 'tags': [], 'free_shipping': False, 'mode': 'custom', 'dimensions': None}, 'non_mercado_pago_payment_methods': [{'description': 'Transferencia bancaria', 'id': 'MLATB', 'type': 'G'}, {'description': 'Tarjeta de crédito', 'id': 'MLAOT', 'type': 'N'}, {'description': 'Efectivo', 'id': 'MLAMO', 'type': 'G'}], 'seller_id': 6469674142, 'variations': [], 'site_id': 'MLA', 'listing_type_id': 'silver', 'price': 6700.0, 'attributes': [], 'buying_mode': 'buy_it_now', 'tags': ['dragged_bids_and_visits'], 'listing_source': '', 'parent_item_id': 'MLA2392767270', 'coverage_areas': [], 'category_id': 'MLA1902', 'descriptions': [\"{'id': 'MLA9379759063-915417858'}\"], 'last_updated': '2015-09-08T21:17:58.000Z', 'international_delivery_mode': 'none', 'pictures': [{'size': '500x375', 'secure_url': 'https://a248.e.akamai.net/mla-s1-p.mlstatic.com/884001-MLA9379759063_032015-O.jpg', 'max_size': '1200x900', 'url': 'http://mla-s1-p.mlstatic.com/884001-MLA9379759063_032015-O.jpg', 'quality': '', 'id': '884001-MLA9379759063_032015'}, {'size': '500x464', 'secure_url': 'https://a248.e.akamai.net/mla-s2-p.mlstatic.com/310101-MLA9379759063_032015-O.jpg', 'max_size': '1200x1114', 'url': 'http://mla-s2-p.mlstatic.com/310101-MLA9379759063_032015-O.jpg', 'quality': '', 'id': '310101-MLA9379759063_032015'}, {'size': '500x375', 'secure_url': 'https://a248.e.akamai.net/mla-s1-p.mlstatic.com/804001-MLA9379759063_032015-O.jpg', 'max_size': '1200x900', 'url': 'http://mla-s1-p.mlstatic.com/804001-MLA9379759063_032015-O.jpg', 'quality': '', 'id': '804001-MLA9379759063_032015'}, {'size': '500x375', 'secure_url': 'https://a248.e.akamai.net/mla-s1-p.mlstatic.com/846001-MLA9379759063_032015-O.jpg', 'max_size': '1200x900', 'url': 'http://mla-s1-p.mlstatic.com/846001-MLA9379759063_032015-O.jpg', 'quality': '', 'id': '846001-MLA9379759063_032015'}, {'size': '381x500', 'secure_url': 'https://a248.e.akamai.net/mla-s2-p.mlstatic.com/657001-MLA9379759063_032015-O.jpg', 'max_size': '916x1200', 'url': 'http://mla-s2-p.mlstatic.com/657001-MLA9379759063_032015-O.jpg', 'quality': '', 'id': '657001-MLA9379759063_032015'}, {'size': '500x375', 'secure_url': 'https://a248.e.akamai.net/mla-s2-p.mlstatic.com/131001-MLA9379759063_032015-O.jpg', 'max_size': '1200x900', 'url': 'http://mla-s2-p.mlstatic.com/131001-MLA9379759063_032015-O.jpg', 'quality': '', 'id': '131001-MLA9379759063_032015'}], 'id': 'MLA9379759063', 'official_store_id': None, 'differential_pricing': None, 'accepts_mercadopago': True, 'original_price': None, 'currency_id': 'ARS', 'thumbnail': 'http://mla-s1-p.mlstatic.com/884001-MLA9379759063_032015-I.jpg', 'title': 'Escritorio Secretter Espectacular', 'automatic_relist': False, 'date_created': '2015-09-08T21:17:57.000Z', 'secure_thumbnail': 'https://a248.e.akamai.net/mla-s1-p.mlstatic.com/884001-MLA9379759063_032015-I.jpg', 'stop_time': 1446931077000, 'status': 'active', 'video_id': None, 'catalog_product_id': None, 'subtitle': None, 'initial_quantity': 1, 'start_time': 1441747077000, 'permalink': 'http://articulo.mercadolibre.com.ar/MLA9379759063-escritorio-secretter-espectacular-_JM', 'sold_quantity': 0, 'available_quantity': 1}\n {'seller_address': {'country': {'name': 'Argentina', 'id': 'AR'}, 'state': {'name': 'Capital Federal', 'id': 'AR-C'}, 'city': {'name': 'MICROCENTRO', 'id': ''}}, 'warranty': 'Sí', 'sub_status': [], 'deal_ids': [], 'base_price': 119.0, 'shipping': {'local_pick_up': False, 'methods': [], 'tags': [], 'free_shipping': False, 'mode': 'not_specified', 'dimensions': None}, 'non_mercado_pago_payment_methods': [], 'seller_id': 5921388606, 'variations': [], 'site_id': 'MLA', 'listing_type_id': 'bronze', 'price': 119.0, 'attributes': [], 'buying_mode': 'buy_it_now', 'tags': ['dragged_bids_and_visits'], 'listing_source': '', 'parent_item_id': 'MLA9748425635', 'coverage_areas': [], 'category_id': 'MLA3530', 'descriptions': [\"{'id': 'MLA8701321701-906672998'}\"], 'last_updated': '2015-08-29T12:55:05.000Z', 'international_delivery_mode': 'none', 'pictures': [{'size': '500x375', 'secure_url': 'https://a248.e.akamai.net/mla-s2-p.mlstatic.com/17326-MLA8701321701_072014-O.jpg', 'max_size': '1200x900', 'url': 'http://mla-s2-p.mlstatic.com/17326-MLA8701321701_072014-O.jpg', 'quality': '', 'id': '17326-MLA8701321701_072014'}, {'size': '500x375', 'secure_url': 'https://a248.e.akamai.net/mla-s1-p.mlstatic.com/17375-MLA8701321701_072014-O.jpg', 'max_size': '1200x900', 'url': 'http://mla-s1-p.mlstatic.com/17375-MLA8701321701_072014-O.jpg', 'quality': '', 'id': '17375-MLA8701321701_072014'}, {'size': '500x375', 'secure_url': 'https://a248.e.akamai.net/mla-s1-p.mlstatic.com/17343-MLA8701321701_072014-O.jpg', 'max_size': '1200x900', 'url': 'http://mla-s1-p.mlstatic.com/17343-MLA8701321701_072014-O.jpg', 'quality': '', 'id': '17343-MLA8701321701_072014'}], 'id': 'MLA8701321701', 'official_store_id': None, 'differential_pricing': None, 'accepts_mercadopago': True, 'original_price': None, 'currency_id': 'ARS', 'thumbnail': 'http://mla-s2-p.mlstatic.com/17326-MLA8701321701_072014-I.jpg', 'title': 'Stassen Espatulas Milenio Numero 3 Codigo 590-3', 'automatic_relist': False, 'date_created': '2015-08-29T12:55:03.000Z', 'secure_thumbnail': 'https://a248.e.akamai.net/mla-s2-p.mlstatic.com/17326-MLA8701321701_072014-I.jpg', 'stop_time': 1446036902000, 'status': 'active', 'video_id': None, 'catalog_product_id': None, 'subtitle': None, 'initial_quantity': 19, 'start_time': 1440852902000, 'permalink': 'http://articulo.mercadolibre.com.ar/MLA8701321701-stassen-espatulas-milenio-numero-3-codigo-590-3-_JM', 'sold_quantity': 0, 'available_quantity': 19}\n {'seller_address': {'country': {'name': 'Argentina', 'id': 'AR'}, 'state': {'name': 'Buenos Aires', 'id': 'AR-B'}, 'city': {'name': 'Morón', 'id': 'TUxBQ01PUmI1NTBj'}}, 'warranty': 'Sí', 'sub_status': [], 'deal_ids': [], 'base_price': 450.0, 'shipping': {'local_pick_up': False, 'methods': [], 'tags': [], 'free_shipping': False, 'mode': 'me2', 'dimensions': None}, 'non_mercado_pago_payment_methods': [], 'seller_id': 5675694703, 'variations': [], 'site_id': 'MLA', 'listing_type_id': 'bronze', 'price': 450.0, 'attributes': [], 'buying_mode': 'buy_it_now', 'tags': ['dragged_bids_and_visits'], 'listing_source': '', 'parent_item_id': 'MLA6473720967', 'coverage_areas': [], 'category_id': 'MLA6440', 'descriptions': [\"{'id': 'MLA7219741922-927838921'}\"], 'last_updated': '2015-09-23T12:41:09.000Z', 'international_delivery_mode': 'none', 'pictures': [{'size': '312x308', 'secure_url': 'https://a248.e.akamai.net/mla-s1-p.mlstatic.com/360601-MLA7219741922_072015-O.jpg', 'max_size': '312x308', 'url': 'http://mla-s1-p.mlstatic.com/360601-MLA7219741922_072015-O.jpg', 'quality': '', 'id': '360601-MLA7219741922_072015'}, {'size': '421x416', 'secure_url': 'https://a248.e.akamai.net/mla-s1-p.mlstatic.com/137501-MLA7219741922_072015-O.jpg', 'max_size': '421x416', 'url': 'http://mla-s1-p.mlstatic.com/137501-MLA7219741922_072015-O.jpg', 'quality': '', 'id': '137501-MLA7219741922_072015'}, {'size': '277x139', 'secure_url': 'https://a248.e.akamai.net/mla-s1-p.mlstatic.com/524601-MLA7219741922_072015-O.jpg', 'max_size': '277x139', 'url': 'http://mla-s1-p.mlstatic.com/524601-MLA7219741922_072015-O.jpg', 'quality': '', 'id': '524601-MLA7219741922_072015'}], 'id': 'MLA7219741922', 'official_store_id': None, 'differential_pricing': None, 'accepts_mercadopago': True, 'original_price': None, 'currency_id': 'ARS', 'thumbnail': 'http://mla-s1-p.mlstatic.com/360601-MLA7219741922_072015-I.jpg', 'title': 'Charm Britania Plata 925 Ovalado!!! Armá La Tuya!!!', 'automatic_relist': False, 'date_created': '2015-09-23T12:41:07.000Z', 'secure_thumbnail': 'https://a248.e.akamai.net/mla-s1-p.mlstatic.com/360601-MLA7219741922_072015-I.jpg', 'stop_time': 1448196067000, 'status': 'active', 'video_id': None, 'catalog_product_id': None, 'subtitle': None, 'initial_quantity': 2, 'start_time': 1443012067000, 'permalink': 'http://articulo.mercadolibre.com.ar/MLA7219741922-charm-britania-plata-925-ovalado-arma-la-tuya-_JM', 'sold_quantity': 0, 'available_quantity': 2}\n ...\n {'seller_address': {'country': {'name': 'Argentina', 'id': 'AR'}, 'state': {'name': 'Buenos Aires', 'id': 'AR-B'}, 'city': {'name': 'Morón', 'id': 'TUxBQ01PUmI1NTBj'}}, 'warranty': None, 'sub_status': [], 'deal_ids': [], 'base_price': 600.0, 'shipping': {'local_pick_up': False, 'methods': [], 'tags': [], 'free_shipping': False, 'mode': 'me2', 'dimensions': None}, 'non_mercado_pago_payment_methods': [], 'seller_id': 7300544890, 'variations': [{'attribute_combinations': [{'value_id': '92025', 'name': 'Color Primario', 'value_name': 'Negro', 'id': '83000'}, {'value_id': '101995', 'name': 'Talle', 'value_name': 'M', 'id': '93000'}], 'seller_custom_field': None, 'picture_ids': ['990801-MLA20408435180_092015'], 'sold_quantity': 0, 'available_quantity': 1, 'id': 9473023844, 'price': 600}], 'site_id': 'MLA', 'listing_type_id': 'bronze', 'price': 600.0, 'attributes': [{'value_id': 'male', 'attribute_group_id': 'DFLT', 'name': 'Género', 'value_name': 'Hombre', 'attribute_group_name': 'Otros', 'id': 'GENDER'}, {'value_id': 'Season-Autumn-Winter', 'attribute_group_id': 'FIND', 'name': 'Season', 'value_name': 'Autumn-Winter', 'attribute_group_name': 'Ficha técnica', 'id': 'Season'}], 'buying_mode': 'buy_it_now', 'tags': [], 'listing_source': '', 'parent_item_id': None, 'coverage_areas': [], 'category_id': 'MLA24696', 'descriptions': [\"{'id': 'MLA4632330570-913473882'}\"], 'last_updated': '2015-09-06T22:29:45.000Z', 'international_delivery_mode': 'none', 'pictures': [{'size': '500x375', 'secure_url': 'https://a248.e.akamai.net/mla-s2-p.mlstatic.com/990801-MLA4632330570_092015-O.jpg', 'max_size': '1200x900', 'url': 'http://mla-s2-p.mlstatic.com/990801-MLA4632330570_092015-O.jpg', 'quality': '', 'id': '990801-MLA4632330570_092015'}], 'id': 'MLA4632330570', 'official_store_id': None, 'differential_pricing': None, 'accepts_mercadopago': True, 'original_price': None, 'currency_id': 'ARS', 'thumbnail': 'http://mla-s2-p.mlstatic.com/990801-MLA4632330570_092015-I.jpg', 'title': 'Campera De Cuero Negra', 'automatic_relist': False, 'date_created': '2015-09-06T22:29:30.000Z', 'secure_thumbnail': 'https://a248.e.akamai.net/mla-s2-p.mlstatic.com/990801-MLA4632330570_092015-I.jpg', 'stop_time': 1446762578000, 'status': 'active', 'video_id': None, 'catalog_product_id': None, 'subtitle': None, 'initial_quantity': 1, 'start_time': 1441578570000, 'permalink': 'http://articulo.mercadolibre.com.ar/MLA4632330570-campera-de-cuero-negra-_JM', 'sold_quantity': 0, 'available_quantity': 1}\n {'seller_address': {'country': {'name': 'Argentina', 'id': 'AR'}, 'state': {'name': 'Capital Federal', 'id': 'AR-C'}, 'city': {'name': 'Balvanera', 'id': 'TUxBQkJBTDMxMDZa'}}, 'warranty': 'Buen estado, se verifica al entregar. la totalidad de nuestro material se encuentra completa y en buen estado. nuestra reputación en mercado libre nos respalda.', 'sub_status': [], 'deal_ids': [], 'base_price': 50.0, 'shipping': {'local_pick_up': True, 'methods': [], 'tags': [], 'free_shipping': False, 'mode': 'me2', 'dimensions': None}, 'non_mercado_pago_payment_methods': [{'description': 'Transferencia bancaria', 'id': 'MLATB', 'type': 'G'}, {'description': 'Efectivo', 'id': 'MLAMO', 'type': 'G'}], 'seller_id': 6600908485, 'variations': [], 'site_id': 'MLA', 'listing_type_id': 'bronze', 'price': 50.0, 'attributes': [], 'buying_mode': 'buy_it_now', 'tags': ['dragged_bids_and_visits'], 'listing_source': '', 'parent_item_id': 'MLA6491109186', 'coverage_areas': [], 'category_id': 'MLA34202', 'descriptions': [\"{'id': 'MLA2763645587-897880642'}\"], 'last_updated': '2015-08-18T17:23:33.000Z', 'international_delivery_mode': 'none', 'pictures': [{'size': '387x500', 'secure_url': 'https://a248.e.akamai.net/mla-s1-p.mlstatic.com/20035-MLA2763645587_102014-O.jpg', 'max_size': '931x1200', 'url': 'http://mla-s1-p.mlstatic.com/20035-MLA2763645587_102014-O.jpg', 'quality': '', 'id': '20035-MLA2763645587_102014'}], 'id': 'MLA2763645587', 'official_store_id': None, 'differential_pricing': None, 'accepts_mercadopago': True, 'original_price': None, 'currency_id': 'ARS', 'thumbnail': 'http://mla-s1-p.mlstatic.com/20035-MLA2763645587_102014-I.jpg', 'title': 'Psicodrama Y Teatro Moderno, Jean Fanchette. F2', 'automatic_relist': False, 'date_created': '2015-08-18T17:22:28.000Z', 'secure_thumbnail': 'https://a248.e.akamai.net/mla-s1-p.mlstatic.com/20035-MLA2763645587_102014-I.jpg', 'stop_time': 1445102548000, 'status': 'active', 'video_id': None, 'catalog_product_id': None, 'subtitle': None, 'initial_quantity': 1, 'start_time': 1439918548000, 'permalink': 'http://articulo.mercadolibre.com.ar/MLA2763645587-psicodrama-y-teatro-moderno-jean-fanchette-f2-_JM', 'sold_quantity': 0, 'available_quantity': 1}\n {'seller_address': {'country': {'name': 'Argentina', 'id': 'AR'}, 'state': {'name': 'Capital Federal', 'id': 'AR-C'}, 'city': {'name': 'San Telmo', 'id': 'TUxBQlNBTjgxMzNa'}}, 'warranty': None, 'sub_status': [], 'deal_ids': [], 'base_price': 75.0, 'shipping': {'local_pick_up': True, 'methods': [], 'tags': [], 'free_shipping': False, 'mode': 'me2', 'dimensions': None}, 'non_mercado_pago_payment_methods': [{'description': 'Transferencia bancaria', 'id': 'MLATB', 'type': 'G'}, {'description': 'Efectivo', 'id': 'MLAMO', 'type': 'G'}], 'seller_id': 8133492021, 'variations': [], 'site_id': 'MLA', 'listing_type_id': 'bronze', 'price': 75.0, 'attributes': [], 'buying_mode': 'buy_it_now', 'tags': ['dragged_bids_and_visits'], 'listing_source': '', 'parent_item_id': 'MLA3503278374', 'coverage_areas': [], 'category_id': 'MLA48855', 'descriptions': [\"{'id': 'MLA9372431786-925955158'}\"], 'last_updated': '2015-09-21T13:02:18.000Z', 'international_delivery_mode': 'none', 'pictures': [{'size': '375x500', 'secure_url': 'https://a248.e.akamai.net/mla-s1-p.mlstatic.com/763101-MLA9372431786_032015-O.jpg', 'max_size': '900x1200', 'url': 'http://mla-s1-p.mlstatic.com/763101-MLA9372431786_032015-O.jpg', 'quality': '', 'id': '763101-MLA9372431786_032015'}, {'size': '375x500', 'secure_url': 'https://a248.e.akamai.net/mla-s2-p.mlstatic.com/732101-MLA9372431786_032015-O.jpg', 'max_size': '900x1200', 'url': 'http://mla-s2-p.mlstatic.com/732101-MLA9372431786_032015-O.jpg', 'quality': '', 'id': '732101-MLA9372431786_032015'}, {'size': '375x500', 'secure_url': 'https://a248.e.akamai.net/mla-s2-p.mlstatic.com/895101-MLA9372431786_032015-O.jpg', 'max_size': '900x1200', 'url': 'http://mla-s2-p.mlstatic.com/895101-MLA9372431786_032015-O.jpg', 'quality': '', 'id': '895101-MLA9372431786_032015'}], 'id': 'MLA9372431786', 'official_store_id': None, 'differential_pricing': None, 'accepts_mercadopago': True, 'original_price': None, 'currency_id': 'ARS', 'thumbnail': 'http://mla-s1-p.mlstatic.com/763101-MLA9372431786_032015-I.jpg', 'title': 'Libro Religioso Practicas Piadosas Nuestra Sra. De Fatima', 'automatic_relist': False, 'date_created': '2015-09-21T13:02:16.000Z', 'secure_thumbnail': 'https://a248.e.akamai.net/mla-s1-p.mlstatic.com/763101-MLA9372431786_032015-I.jpg', 'stop_time': 1448024536000, 'status': 'active', 'video_id': None, 'catalog_product_id': None, 'subtitle': None, 'initial_quantity': 1, 'start_time': 1442840536000, 'permalink': 'http://articulo.mercadolibre.com.ar/MLA9372431786-libro-religioso-practicas-piadosas-nuestra-sra-de-fatima-_JM', 'sold_quantity': 0, 'available_quantity': 1}].\nReshape your data either using array.reshape(-1, 1) if your data has a single feature or array.reshape(1, -1) if it contains a single sample.",
     "output_type": "error",
     "traceback": [
      "\u001b[31m---------------------------------------------------------------------------\u001b[39m",
      "\u001b[31mValueError\u001b[39m                                Traceback (most recent call last)",
      "\u001b[36mCell\u001b[39m\u001b[36m \u001b[39m\u001b[32mIn[60]\u001b[39m\u001b[32m, line 2\u001b[39m\n\u001b[32m      1\u001b[39m \u001b[38;5;66;03m# Predict on the scaled test data\u001b[39;00m\n\u001b[32m----> \u001b[39m\u001b[32m2\u001b[39m y_pred = \u001b[43mmodel\u001b[49m\u001b[43m.\u001b[49m\u001b[43mpredict\u001b[49m\u001b[43m(\u001b[49m\u001b[43mX_test\u001b[49m\u001b[43m)\u001b[49m\n\u001b[32m      4\u001b[39m \u001b[38;5;66;03m# Getprediction probabilities (useful for ROC curves, etc.\u001b[39;00m\n\u001b[32m      5\u001b[39m y_pred_proba = model.predict_proba(X_test_scaled_df) \n",
      "\u001b[36mFile \u001b[39m\u001b[32m~/Documents/Programación/MELI/[MeLi] Cod Ex DS/.venv/lib/python3.11/site-packages/sklearn/linear_model/_base.py:375\u001b[39m, in \u001b[36mLinearClassifierMixin.predict\u001b[39m\u001b[34m(self, X)\u001b[39m\n\u001b[32m    361\u001b[39m \u001b[38;5;250m\u001b[39m\u001b[33;03m\"\"\"\u001b[39;00m\n\u001b[32m    362\u001b[39m \u001b[33;03mPredict class labels for samples in X.\u001b[39;00m\n\u001b[32m    363\u001b[39m \n\u001b[32m   (...)\u001b[39m\u001b[32m    372\u001b[39m \u001b[33;03m    Vector containing the class labels for each sample.\u001b[39;00m\n\u001b[32m    373\u001b[39m \u001b[33;03m\"\"\"\u001b[39;00m\n\u001b[32m    374\u001b[39m xp, _ = get_namespace(X)\n\u001b[32m--> \u001b[39m\u001b[32m375\u001b[39m scores = \u001b[38;5;28;43mself\u001b[39;49m\u001b[43m.\u001b[49m\u001b[43mdecision_function\u001b[49m\u001b[43m(\u001b[49m\u001b[43mX\u001b[49m\u001b[43m)\u001b[49m\n\u001b[32m    376\u001b[39m \u001b[38;5;28;01mif\u001b[39;00m \u001b[38;5;28mlen\u001b[39m(scores.shape) == \u001b[32m1\u001b[39m:\n\u001b[32m    377\u001b[39m     indices = xp.astype(scores > \u001b[32m0\u001b[39m, indexing_dtype(xp))\n",
      "\u001b[36mFile \u001b[39m\u001b[32m~/Documents/Programación/MELI/[MeLi] Cod Ex DS/.venv/lib/python3.11/site-packages/sklearn/linear_model/_base.py:352\u001b[39m, in \u001b[36mLinearClassifierMixin.decision_function\u001b[39m\u001b[34m(self, X)\u001b[39m\n\u001b[32m    349\u001b[39m check_is_fitted(\u001b[38;5;28mself\u001b[39m)\n\u001b[32m    350\u001b[39m xp, _ = get_namespace(X)\n\u001b[32m--> \u001b[39m\u001b[32m352\u001b[39m X = \u001b[43mvalidate_data\u001b[49m\u001b[43m(\u001b[49m\u001b[38;5;28;43mself\u001b[39;49m\u001b[43m,\u001b[49m\u001b[43m \u001b[49m\u001b[43mX\u001b[49m\u001b[43m,\u001b[49m\u001b[43m \u001b[49m\u001b[43maccept_sparse\u001b[49m\u001b[43m=\u001b[49m\u001b[33;43m\"\u001b[39;49m\u001b[33;43mcsr\u001b[39;49m\u001b[33;43m\"\u001b[39;49m\u001b[43m,\u001b[49m\u001b[43m \u001b[49m\u001b[43mreset\u001b[49m\u001b[43m=\u001b[49m\u001b[38;5;28;43;01mFalse\u001b[39;49;00m\u001b[43m)\u001b[49m\n\u001b[32m    353\u001b[39m scores = safe_sparse_dot(X, \u001b[38;5;28mself\u001b[39m.coef_.T, dense_output=\u001b[38;5;28;01mTrue\u001b[39;00m) + \u001b[38;5;28mself\u001b[39m.intercept_\n\u001b[32m    354\u001b[39m \u001b[38;5;28;01mreturn\u001b[39;00m (\n\u001b[32m    355\u001b[39m     xp.reshape(scores, (-\u001b[32m1\u001b[39m,))\n\u001b[32m    356\u001b[39m     \u001b[38;5;28;01mif\u001b[39;00m (scores.ndim > \u001b[32m1\u001b[39m \u001b[38;5;129;01mand\u001b[39;00m scores.shape[\u001b[32m1\u001b[39m] == \u001b[32m1\u001b[39m)\n\u001b[32m    357\u001b[39m     \u001b[38;5;28;01melse\u001b[39;00m scores\n\u001b[32m    358\u001b[39m )\n",
      "\u001b[36mFile \u001b[39m\u001b[32m~/Documents/Programación/MELI/[MeLi] Cod Ex DS/.venv/lib/python3.11/site-packages/sklearn/utils/validation.py:2954\u001b[39m, in \u001b[36mvalidate_data\u001b[39m\u001b[34m(_estimator, X, y, reset, validate_separately, skip_check_array, **check_params)\u001b[39m\n\u001b[32m   2952\u001b[39m         out = X, y\n\u001b[32m   2953\u001b[39m \u001b[38;5;28;01melif\u001b[39;00m \u001b[38;5;129;01mnot\u001b[39;00m no_val_X \u001b[38;5;129;01mand\u001b[39;00m no_val_y:\n\u001b[32m-> \u001b[39m\u001b[32m2954\u001b[39m     out = \u001b[43mcheck_array\u001b[49m\u001b[43m(\u001b[49m\u001b[43mX\u001b[49m\u001b[43m,\u001b[49m\u001b[43m \u001b[49m\u001b[43minput_name\u001b[49m\u001b[43m=\u001b[49m\u001b[33;43m\"\u001b[39;49m\u001b[33;43mX\u001b[39;49m\u001b[33;43m\"\u001b[39;49m\u001b[43m,\u001b[49m\u001b[43m \u001b[49m\u001b[43m*\u001b[49m\u001b[43m*\u001b[49m\u001b[43mcheck_params\u001b[49m\u001b[43m)\u001b[49m\n\u001b[32m   2955\u001b[39m \u001b[38;5;28;01melif\u001b[39;00m no_val_X \u001b[38;5;129;01mand\u001b[39;00m \u001b[38;5;129;01mnot\u001b[39;00m no_val_y:\n\u001b[32m   2956\u001b[39m     out = _check_y(y, **check_params)\n",
      "\u001b[36mFile \u001b[39m\u001b[32m~/Documents/Programación/MELI/[MeLi] Cod Ex DS/.venv/lib/python3.11/site-packages/sklearn/utils/validation.py:1091\u001b[39m, in \u001b[36mcheck_array\u001b[39m\u001b[34m(array, accept_sparse, accept_large_sparse, dtype, order, copy, force_writeable, force_all_finite, ensure_all_finite, ensure_non_negative, ensure_2d, allow_nd, ensure_min_samples, ensure_min_features, estimator, input_name)\u001b[39m\n\u001b[32m   1084\u001b[39m         \u001b[38;5;28;01melse\u001b[39;00m:\n\u001b[32m   1085\u001b[39m             msg = (\n\u001b[32m   1086\u001b[39m                 \u001b[33mf\u001b[39m\u001b[33m\"\u001b[39m\u001b[33mExpected 2D array, got 1D array instead:\u001b[39m\u001b[38;5;130;01m\\n\u001b[39;00m\u001b[33marray=\u001b[39m\u001b[38;5;132;01m{\u001b[39;00marray\u001b[38;5;132;01m}\u001b[39;00m\u001b[33m.\u001b[39m\u001b[38;5;130;01m\\n\u001b[39;00m\u001b[33m\"\u001b[39m\n\u001b[32m   1087\u001b[39m                 \u001b[33m\"\u001b[39m\u001b[33mReshape your data either using array.reshape(-1, 1) if \u001b[39m\u001b[33m\"\u001b[39m\n\u001b[32m   1088\u001b[39m                 \u001b[33m\"\u001b[39m\u001b[33myour data has a single feature or array.reshape(1, -1) \u001b[39m\u001b[33m\"\u001b[39m\n\u001b[32m   1089\u001b[39m                 \u001b[33m\"\u001b[39m\u001b[33mif it contains a single sample.\u001b[39m\u001b[33m\"\u001b[39m\n\u001b[32m   1090\u001b[39m             )\n\u001b[32m-> \u001b[39m\u001b[32m1091\u001b[39m         \u001b[38;5;28;01mraise\u001b[39;00m \u001b[38;5;167;01mValueError\u001b[39;00m(msg)\n\u001b[32m   1093\u001b[39m \u001b[38;5;28;01mif\u001b[39;00m dtype_numeric \u001b[38;5;129;01mand\u001b[39;00m \u001b[38;5;28mhasattr\u001b[39m(array.dtype, \u001b[33m\"\u001b[39m\u001b[33mkind\u001b[39m\u001b[33m\"\u001b[39m) \u001b[38;5;129;01mand\u001b[39;00m array.dtype.kind \u001b[38;5;129;01min\u001b[39;00m \u001b[33m\"\u001b[39m\u001b[33mUSV\u001b[39m\u001b[33m\"\u001b[39m:\n\u001b[32m   1094\u001b[39m     \u001b[38;5;28;01mraise\u001b[39;00m \u001b[38;5;167;01mValueError\u001b[39;00m(\n\u001b[32m   1095\u001b[39m         \u001b[33m\"\u001b[39m\u001b[33mdtype=\u001b[39m\u001b[33m'\u001b[39m\u001b[33mnumeric\u001b[39m\u001b[33m'\u001b[39m\u001b[33m is not compatible with arrays of bytes/strings.\u001b[39m\u001b[33m\"\u001b[39m\n\u001b[32m   1096\u001b[39m         \u001b[33m\"\u001b[39m\u001b[33mConvert your data to numeric values explicitly instead.\u001b[39m\u001b[33m\"\u001b[39m\n\u001b[32m   1097\u001b[39m     )\n",
      "\u001b[31mValueError\u001b[39m: Expected 2D array, got 1D array instead:\narray=[{'seller_address': {'country': {'name': 'Argentina', 'id': 'AR'}, 'state': {'name': 'Buenos Aires', 'id': 'AR-B'}, 'city': {'name': 'General Rodríguez', 'id': 'TUxBQ0dFTjY4NTg'}}, 'warranty': None, 'sub_status': [], 'deal_ids': [], 'base_price': 6700.0, 'shipping': {'local_pick_up': True, 'methods': [], 'tags': [], 'free_shipping': False, 'mode': 'custom', 'dimensions': None}, 'non_mercado_pago_payment_methods': [{'description': 'Transferencia bancaria', 'id': 'MLATB', 'type': 'G'}, {'description': 'Tarjeta de crédito', 'id': 'MLAOT', 'type': 'N'}, {'description': 'Efectivo', 'id': 'MLAMO', 'type': 'G'}], 'seller_id': 6469674142, 'variations': [], 'site_id': 'MLA', 'listing_type_id': 'silver', 'price': 6700.0, 'attributes': [], 'buying_mode': 'buy_it_now', 'tags': ['dragged_bids_and_visits'], 'listing_source': '', 'parent_item_id': 'MLA2392767270', 'coverage_areas': [], 'category_id': 'MLA1902', 'descriptions': [\"{'id': 'MLA9379759063-915417858'}\"], 'last_updated': '2015-09-08T21:17:58.000Z', 'international_delivery_mode': 'none', 'pictures': [{'size': '500x375', 'secure_url': 'https://a248.e.akamai.net/mla-s1-p.mlstatic.com/884001-MLA9379759063_032015-O.jpg', 'max_size': '1200x900', 'url': 'http://mla-s1-p.mlstatic.com/884001-MLA9379759063_032015-O.jpg', 'quality': '', 'id': '884001-MLA9379759063_032015'}, {'size': '500x464', 'secure_url': 'https://a248.e.akamai.net/mla-s2-p.mlstatic.com/310101-MLA9379759063_032015-O.jpg', 'max_size': '1200x1114', 'url': 'http://mla-s2-p.mlstatic.com/310101-MLA9379759063_032015-O.jpg', 'quality': '', 'id': '310101-MLA9379759063_032015'}, {'size': '500x375', 'secure_url': 'https://a248.e.akamai.net/mla-s1-p.mlstatic.com/804001-MLA9379759063_032015-O.jpg', 'max_size': '1200x900', 'url': 'http://mla-s1-p.mlstatic.com/804001-MLA9379759063_032015-O.jpg', 'quality': '', 'id': '804001-MLA9379759063_032015'}, {'size': '500x375', 'secure_url': 'https://a248.e.akamai.net/mla-s1-p.mlstatic.com/846001-MLA9379759063_032015-O.jpg', 'max_size': '1200x900', 'url': 'http://mla-s1-p.mlstatic.com/846001-MLA9379759063_032015-O.jpg', 'quality': '', 'id': '846001-MLA9379759063_032015'}, {'size': '381x500', 'secure_url': 'https://a248.e.akamai.net/mla-s2-p.mlstatic.com/657001-MLA9379759063_032015-O.jpg', 'max_size': '916x1200', 'url': 'http://mla-s2-p.mlstatic.com/657001-MLA9379759063_032015-O.jpg', 'quality': '', 'id': '657001-MLA9379759063_032015'}, {'size': '500x375', 'secure_url': 'https://a248.e.akamai.net/mla-s2-p.mlstatic.com/131001-MLA9379759063_032015-O.jpg', 'max_size': '1200x900', 'url': 'http://mla-s2-p.mlstatic.com/131001-MLA9379759063_032015-O.jpg', 'quality': '', 'id': '131001-MLA9379759063_032015'}], 'id': 'MLA9379759063', 'official_store_id': None, 'differential_pricing': None, 'accepts_mercadopago': True, 'original_price': None, 'currency_id': 'ARS', 'thumbnail': 'http://mla-s1-p.mlstatic.com/884001-MLA9379759063_032015-I.jpg', 'title': 'Escritorio Secretter Espectacular', 'automatic_relist': False, 'date_created': '2015-09-08T21:17:57.000Z', 'secure_thumbnail': 'https://a248.e.akamai.net/mla-s1-p.mlstatic.com/884001-MLA9379759063_032015-I.jpg', 'stop_time': 1446931077000, 'status': 'active', 'video_id': None, 'catalog_product_id': None, 'subtitle': None, 'initial_quantity': 1, 'start_time': 1441747077000, 'permalink': 'http://articulo.mercadolibre.com.ar/MLA9379759063-escritorio-secretter-espectacular-_JM', 'sold_quantity': 0, 'available_quantity': 1}\n {'seller_address': {'country': {'name': 'Argentina', 'id': 'AR'}, 'state': {'name': 'Capital Federal', 'id': 'AR-C'}, 'city': {'name': 'MICROCENTRO', 'id': ''}}, 'warranty': 'Sí', 'sub_status': [], 'deal_ids': [], 'base_price': 119.0, 'shipping': {'local_pick_up': False, 'methods': [], 'tags': [], 'free_shipping': False, 'mode': 'not_specified', 'dimensions': None}, 'non_mercado_pago_payment_methods': [], 'seller_id': 5921388606, 'variations': [], 'site_id': 'MLA', 'listing_type_id': 'bronze', 'price': 119.0, 'attributes': [], 'buying_mode': 'buy_it_now', 'tags': ['dragged_bids_and_visits'], 'listing_source': '', 'parent_item_id': 'MLA9748425635', 'coverage_areas': [], 'category_id': 'MLA3530', 'descriptions': [\"{'id': 'MLA8701321701-906672998'}\"], 'last_updated': '2015-08-29T12:55:05.000Z', 'international_delivery_mode': 'none', 'pictures': [{'size': '500x375', 'secure_url': 'https://a248.e.akamai.net/mla-s2-p.mlstatic.com/17326-MLA8701321701_072014-O.jpg', 'max_size': '1200x900', 'url': 'http://mla-s2-p.mlstatic.com/17326-MLA8701321701_072014-O.jpg', 'quality': '', 'id': '17326-MLA8701321701_072014'}, {'size': '500x375', 'secure_url': 'https://a248.e.akamai.net/mla-s1-p.mlstatic.com/17375-MLA8701321701_072014-O.jpg', 'max_size': '1200x900', 'url': 'http://mla-s1-p.mlstatic.com/17375-MLA8701321701_072014-O.jpg', 'quality': '', 'id': '17375-MLA8701321701_072014'}, {'size': '500x375', 'secure_url': 'https://a248.e.akamai.net/mla-s1-p.mlstatic.com/17343-MLA8701321701_072014-O.jpg', 'max_size': '1200x900', 'url': 'http://mla-s1-p.mlstatic.com/17343-MLA8701321701_072014-O.jpg', 'quality': '', 'id': '17343-MLA8701321701_072014'}], 'id': 'MLA8701321701', 'official_store_id': None, 'differential_pricing': None, 'accepts_mercadopago': True, 'original_price': None, 'currency_id': 'ARS', 'thumbnail': 'http://mla-s2-p.mlstatic.com/17326-MLA8701321701_072014-I.jpg', 'title': 'Stassen Espatulas Milenio Numero 3 Codigo 590-3', 'automatic_relist': False, 'date_created': '2015-08-29T12:55:03.000Z', 'secure_thumbnail': 'https://a248.e.akamai.net/mla-s2-p.mlstatic.com/17326-MLA8701321701_072014-I.jpg', 'stop_time': 1446036902000, 'status': 'active', 'video_id': None, 'catalog_product_id': None, 'subtitle': None, 'initial_quantity': 19, 'start_time': 1440852902000, 'permalink': 'http://articulo.mercadolibre.com.ar/MLA8701321701-stassen-espatulas-milenio-numero-3-codigo-590-3-_JM', 'sold_quantity': 0, 'available_quantity': 19}\n {'seller_address': {'country': {'name': 'Argentina', 'id': 'AR'}, 'state': {'name': 'Buenos Aires', 'id': 'AR-B'}, 'city': {'name': 'Morón', 'id': 'TUxBQ01PUmI1NTBj'}}, 'warranty': 'Sí', 'sub_status': [], 'deal_ids': [], 'base_price': 450.0, 'shipping': {'local_pick_up': False, 'methods': [], 'tags': [], 'free_shipping': False, 'mode': 'me2', 'dimensions': None}, 'non_mercado_pago_payment_methods': [], 'seller_id': 5675694703, 'variations': [], 'site_id': 'MLA', 'listing_type_id': 'bronze', 'price': 450.0, 'attributes': [], 'buying_mode': 'buy_it_now', 'tags': ['dragged_bids_and_visits'], 'listing_source': '', 'parent_item_id': 'MLA6473720967', 'coverage_areas': [], 'category_id': 'MLA6440', 'descriptions': [\"{'id': 'MLA7219741922-927838921'}\"], 'last_updated': '2015-09-23T12:41:09.000Z', 'international_delivery_mode': 'none', 'pictures': [{'size': '312x308', 'secure_url': 'https://a248.e.akamai.net/mla-s1-p.mlstatic.com/360601-MLA7219741922_072015-O.jpg', 'max_size': '312x308', 'url': 'http://mla-s1-p.mlstatic.com/360601-MLA7219741922_072015-O.jpg', 'quality': '', 'id': '360601-MLA7219741922_072015'}, {'size': '421x416', 'secure_url': 'https://a248.e.akamai.net/mla-s1-p.mlstatic.com/137501-MLA7219741922_072015-O.jpg', 'max_size': '421x416', 'url': 'http://mla-s1-p.mlstatic.com/137501-MLA7219741922_072015-O.jpg', 'quality': '', 'id': '137501-MLA7219741922_072015'}, {'size': '277x139', 'secure_url': 'https://a248.e.akamai.net/mla-s1-p.mlstatic.com/524601-MLA7219741922_072015-O.jpg', 'max_size': '277x139', 'url': 'http://mla-s1-p.mlstatic.com/524601-MLA7219741922_072015-O.jpg', 'quality': '', 'id': '524601-MLA7219741922_072015'}], 'id': 'MLA7219741922', 'official_store_id': None, 'differential_pricing': None, 'accepts_mercadopago': True, 'original_price': None, 'currency_id': 'ARS', 'thumbnail': 'http://mla-s1-p.mlstatic.com/360601-MLA7219741922_072015-I.jpg', 'title': 'Charm Britania Plata 925 Ovalado!!! Armá La Tuya!!!', 'automatic_relist': False, 'date_created': '2015-09-23T12:41:07.000Z', 'secure_thumbnail': 'https://a248.e.akamai.net/mla-s1-p.mlstatic.com/360601-MLA7219741922_072015-I.jpg', 'stop_time': 1448196067000, 'status': 'active', 'video_id': None, 'catalog_product_id': None, 'subtitle': None, 'initial_quantity': 2, 'start_time': 1443012067000, 'permalink': 'http://articulo.mercadolibre.com.ar/MLA7219741922-charm-britania-plata-925-ovalado-arma-la-tuya-_JM', 'sold_quantity': 0, 'available_quantity': 2}\n ...\n {'seller_address': {'country': {'name': 'Argentina', 'id': 'AR'}, 'state': {'name': 'Buenos Aires', 'id': 'AR-B'}, 'city': {'name': 'Morón', 'id': 'TUxBQ01PUmI1NTBj'}}, 'warranty': None, 'sub_status': [], 'deal_ids': [], 'base_price': 600.0, 'shipping': {'local_pick_up': False, 'methods': [], 'tags': [], 'free_shipping': False, 'mode': 'me2', 'dimensions': None}, 'non_mercado_pago_payment_methods': [], 'seller_id': 7300544890, 'variations': [{'attribute_combinations': [{'value_id': '92025', 'name': 'Color Primario', 'value_name': 'Negro', 'id': '83000'}, {'value_id': '101995', 'name': 'Talle', 'value_name': 'M', 'id': '93000'}], 'seller_custom_field': None, 'picture_ids': ['990801-MLA20408435180_092015'], 'sold_quantity': 0, 'available_quantity': 1, 'id': 9473023844, 'price': 600}], 'site_id': 'MLA', 'listing_type_id': 'bronze', 'price': 600.0, 'attributes': [{'value_id': 'male', 'attribute_group_id': 'DFLT', 'name': 'Género', 'value_name': 'Hombre', 'attribute_group_name': 'Otros', 'id': 'GENDER'}, {'value_id': 'Season-Autumn-Winter', 'attribute_group_id': 'FIND', 'name': 'Season', 'value_name': 'Autumn-Winter', 'attribute_group_name': 'Ficha técnica', 'id': 'Season'}], 'buying_mode': 'buy_it_now', 'tags': [], 'listing_source': '', 'parent_item_id': None, 'coverage_areas': [], 'category_id': 'MLA24696', 'descriptions': [\"{'id': 'MLA4632330570-913473882'}\"], 'last_updated': '2015-09-06T22:29:45.000Z', 'international_delivery_mode': 'none', 'pictures': [{'size': '500x375', 'secure_url': 'https://a248.e.akamai.net/mla-s2-p.mlstatic.com/990801-MLA4632330570_092015-O.jpg', 'max_size': '1200x900', 'url': 'http://mla-s2-p.mlstatic.com/990801-MLA4632330570_092015-O.jpg', 'quality': '', 'id': '990801-MLA4632330570_092015'}], 'id': 'MLA4632330570', 'official_store_id': None, 'differential_pricing': None, 'accepts_mercadopago': True, 'original_price': None, 'currency_id': 'ARS', 'thumbnail': 'http://mla-s2-p.mlstatic.com/990801-MLA4632330570_092015-I.jpg', 'title': 'Campera De Cuero Negra', 'automatic_relist': False, 'date_created': '2015-09-06T22:29:30.000Z', 'secure_thumbnail': 'https://a248.e.akamai.net/mla-s2-p.mlstatic.com/990801-MLA4632330570_092015-I.jpg', 'stop_time': 1446762578000, 'status': 'active', 'video_id': None, 'catalog_product_id': None, 'subtitle': None, 'initial_quantity': 1, 'start_time': 1441578570000, 'permalink': 'http://articulo.mercadolibre.com.ar/MLA4632330570-campera-de-cuero-negra-_JM', 'sold_quantity': 0, 'available_quantity': 1}\n {'seller_address': {'country': {'name': 'Argentina', 'id': 'AR'}, 'state': {'name': 'Capital Federal', 'id': 'AR-C'}, 'city': {'name': 'Balvanera', 'id': 'TUxBQkJBTDMxMDZa'}}, 'warranty': 'Buen estado, se verifica al entregar. la totalidad de nuestro material se encuentra completa y en buen estado. nuestra reputación en mercado libre nos respalda.', 'sub_status': [], 'deal_ids': [], 'base_price': 50.0, 'shipping': {'local_pick_up': True, 'methods': [], 'tags': [], 'free_shipping': False, 'mode': 'me2', 'dimensions': None}, 'non_mercado_pago_payment_methods': [{'description': 'Transferencia bancaria', 'id': 'MLATB', 'type': 'G'}, {'description': 'Efectivo', 'id': 'MLAMO', 'type': 'G'}], 'seller_id': 6600908485, 'variations': [], 'site_id': 'MLA', 'listing_type_id': 'bronze', 'price': 50.0, 'attributes': [], 'buying_mode': 'buy_it_now', 'tags': ['dragged_bids_and_visits'], 'listing_source': '', 'parent_item_id': 'MLA6491109186', 'coverage_areas': [], 'category_id': 'MLA34202', 'descriptions': [\"{'id': 'MLA2763645587-897880642'}\"], 'last_updated': '2015-08-18T17:23:33.000Z', 'international_delivery_mode': 'none', 'pictures': [{'size': '387x500', 'secure_url': 'https://a248.e.akamai.net/mla-s1-p.mlstatic.com/20035-MLA2763645587_102014-O.jpg', 'max_size': '931x1200', 'url': 'http://mla-s1-p.mlstatic.com/20035-MLA2763645587_102014-O.jpg', 'quality': '', 'id': '20035-MLA2763645587_102014'}], 'id': 'MLA2763645587', 'official_store_id': None, 'differential_pricing': None, 'accepts_mercadopago': True, 'original_price': None, 'currency_id': 'ARS', 'thumbnail': 'http://mla-s1-p.mlstatic.com/20035-MLA2763645587_102014-I.jpg', 'title': 'Psicodrama Y Teatro Moderno, Jean Fanchette. F2', 'automatic_relist': False, 'date_created': '2015-08-18T17:22:28.000Z', 'secure_thumbnail': 'https://a248.e.akamai.net/mla-s1-p.mlstatic.com/20035-MLA2763645587_102014-I.jpg', 'stop_time': 1445102548000, 'status': 'active', 'video_id': None, 'catalog_product_id': None, 'subtitle': None, 'initial_quantity': 1, 'start_time': 1439918548000, 'permalink': 'http://articulo.mercadolibre.com.ar/MLA2763645587-psicodrama-y-teatro-moderno-jean-fanchette-f2-_JM', 'sold_quantity': 0, 'available_quantity': 1}\n {'seller_address': {'country': {'name': 'Argentina', 'id': 'AR'}, 'state': {'name': 'Capital Federal', 'id': 'AR-C'}, 'city': {'name': 'San Telmo', 'id': 'TUxBQlNBTjgxMzNa'}}, 'warranty': None, 'sub_status': [], 'deal_ids': [], 'base_price': 75.0, 'shipping': {'local_pick_up': True, 'methods': [], 'tags': [], 'free_shipping': False, 'mode': 'me2', 'dimensions': None}, 'non_mercado_pago_payment_methods': [{'description': 'Transferencia bancaria', 'id': 'MLATB', 'type': 'G'}, {'description': 'Efectivo', 'id': 'MLAMO', 'type': 'G'}], 'seller_id': 8133492021, 'variations': [], 'site_id': 'MLA', 'listing_type_id': 'bronze', 'price': 75.0, 'attributes': [], 'buying_mode': 'buy_it_now', 'tags': ['dragged_bids_and_visits'], 'listing_source': '', 'parent_item_id': 'MLA3503278374', 'coverage_areas': [], 'category_id': 'MLA48855', 'descriptions': [\"{'id': 'MLA9372431786-925955158'}\"], 'last_updated': '2015-09-21T13:02:18.000Z', 'international_delivery_mode': 'none', 'pictures': [{'size': '375x500', 'secure_url': 'https://a248.e.akamai.net/mla-s1-p.mlstatic.com/763101-MLA9372431786_032015-O.jpg', 'max_size': '900x1200', 'url': 'http://mla-s1-p.mlstatic.com/763101-MLA9372431786_032015-O.jpg', 'quality': '', 'id': '763101-MLA9372431786_032015'}, {'size': '375x500', 'secure_url': 'https://a248.e.akamai.net/mla-s2-p.mlstatic.com/732101-MLA9372431786_032015-O.jpg', 'max_size': '900x1200', 'url': 'http://mla-s2-p.mlstatic.com/732101-MLA9372431786_032015-O.jpg', 'quality': '', 'id': '732101-MLA9372431786_032015'}, {'size': '375x500', 'secure_url': 'https://a248.e.akamai.net/mla-s2-p.mlstatic.com/895101-MLA9372431786_032015-O.jpg', 'max_size': '900x1200', 'url': 'http://mla-s2-p.mlstatic.com/895101-MLA9372431786_032015-O.jpg', 'quality': '', 'id': '895101-MLA9372431786_032015'}], 'id': 'MLA9372431786', 'official_store_id': None, 'differential_pricing': None, 'accepts_mercadopago': True, 'original_price': None, 'currency_id': 'ARS', 'thumbnail': 'http://mla-s1-p.mlstatic.com/763101-MLA9372431786_032015-I.jpg', 'title': 'Libro Religioso Practicas Piadosas Nuestra Sra. De Fatima', 'automatic_relist': False, 'date_created': '2015-09-21T13:02:16.000Z', 'secure_thumbnail': 'https://a248.e.akamai.net/mla-s1-p.mlstatic.com/763101-MLA9372431786_032015-I.jpg', 'stop_time': 1448024536000, 'status': 'active', 'video_id': None, 'catalog_product_id': None, 'subtitle': None, 'initial_quantity': 1, 'start_time': 1442840536000, 'permalink': 'http://articulo.mercadolibre.com.ar/MLA9372431786-libro-religioso-practicas-piadosas-nuestra-sra-de-fatima-_JM', 'sold_quantity': 0, 'available_quantity': 1}].\nReshape your data either using array.reshape(-1, 1) if your data has a single feature or array.reshape(1, -1) if it contains a single sample."
     ]
    }
   ],
   "source": [
    "# Predict on the scaled test data\n",
    "y_pred = model.predict(X_test)\n",
    "\n",
    "# Getprediction probabilities (useful for ROC curves, etc.\n",
    "y_pred_proba = model.predict_proba(X_test_scaled_df) "
   ]
  },
  {
   "cell_type": "code",
   "execution_count": null,
   "id": "b7f6773e",
   "metadata": {},
   "outputs": [],
   "source": [
    "# Evaluate Performance\n",
    "\n",
    "# Accuracy Score\n",
    "accuracy = accuracy_score(y_test, y_pred)\n",
    "print(f\"Accuracy: {accuracy:.4f}\")\n",
    "\n",
    "# Confusion Matrix\n",
    "conf_matrix = confusion_matrix(y_test, y_pred)\n",
    "print(\"\\nConfusion Matrix:\")\n",
    "print(conf_matrix)\n",
    "\n",
    "# Classification Report (provides Precision, Recall, F1-Score for each class)\n",
    "class_report = classification_report(y_test, y_pred)\n",
    "print(\"\\nClassification Report:\")\n",
    "print(class_report)"
   ]
  }
 ],
 "metadata": {
  "kernelspec": {
   "display_name": ".venv",
   "language": "python",
   "name": "python3"
  },
  "language_info": {
   "codemirror_mode": {
    "name": "ipython",
    "version": 3
   },
   "file_extension": ".py",
   "mimetype": "text/x-python",
   "name": "python",
   "nbconvert_exporter": "python",
   "pygments_lexer": "ipython3",
   "version": "3.11.7"
  }
 },
 "nbformat": 4,
 "nbformat_minor": 5
}

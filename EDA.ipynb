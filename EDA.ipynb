{
 "cells": [
  {
   "cell_type": "markdown",
   "id": "02fe515b",
   "metadata": {},
   "source": [
    "# Exploratory Data Analysis (EDA)"
   ]
  },
  {
   "cell_type": "code",
   "execution_count": 1,
   "id": "edbabc84",
   "metadata": {},
   "outputs": [],
   "source": [
    "import pandas as pd\n",
    "import numpy as np\n",
    "import matplotlib.pyplot as plt\n",
    "import seaborn as sns\n",
    "from new_or_used import build_dataset"
   ]
  },
  {
   "cell_type": "code",
   "execution_count": 2,
   "id": "a4415153",
   "metadata": {},
   "outputs": [],
   "source": [
    "X_train, y_train, X_test, y_test = build_dataset()"
   ]
  },
  {
   "cell_type": "code",
   "execution_count": 3,
   "id": "ccad51f9",
   "metadata": {},
   "outputs": [],
   "source": [
    "X_train_df = pd.DataFrame(X_train)\n",
    "X_test_df = pd.DataFrame(X_test)\n",
    "y_train_df = pd.Series(y_train)\n",
    "y_test_df = pd.Series(y_test)"
   ]
  },
  {
   "cell_type": "markdown",
   "id": "7cc1e1a4",
   "metadata": {},
   "source": [
    "# 1. Understanding data structure"
   ]
  },
  {
   "cell_type": "code",
   "execution_count": 4,
   "id": "7fbb61e9",
   "metadata": {},
   "outputs": [
    {
     "name": "stdout",
     "output_type": "stream",
     "text": [
      "Provided dataset has 45 variables and 100000 items\n",
      "It was splitted into 90.0% training and 10.0% test items\n"
     ]
    }
   ],
   "source": [
    "# Dataset size\n",
    "n = len(X_train+X_test)\n",
    "print(f\"Provided dataset has {len(X_train_df.columns)} variables and {n} items\")\n",
    "print(f\"It was splitted into {len(X_train_df)/n*100:.1f}% training and {len(X_test_df)/n*100:.1f}% test items\")"
   ]
  },
  {
   "cell_type": "markdown",
   "id": "d4d2b5e6",
   "metadata": {},
   "source": [
    "## 1.1 Features"
   ]
  },
  {
   "cell_type": "code",
   "execution_count": 5,
   "id": "e084d68a",
   "metadata": {},
   "outputs": [
    {
     "data": {
      "text/plain": [
       "Index(['seller_address', 'warranty', 'sub_status', 'condition', 'deal_ids',\n",
       "       'base_price', 'shipping', 'non_mercado_pago_payment_methods',\n",
       "       'seller_id', 'variations', 'site_id', 'listing_type_id', 'price',\n",
       "       'attributes', 'buying_mode', 'tags', 'listing_source', 'parent_item_id',\n",
       "       'coverage_areas', 'category_id', 'descriptions', 'last_updated',\n",
       "       'international_delivery_mode', 'pictures', 'id', 'official_store_id',\n",
       "       'differential_pricing', 'accepts_mercadopago', 'original_price',\n",
       "       'currency_id', 'thumbnail', 'title', 'automatic_relist', 'date_created',\n",
       "       'secure_thumbnail', 'stop_time', 'status', 'video_id',\n",
       "       'catalog_product_id', 'subtitle', 'initial_quantity', 'start_time',\n",
       "       'permalink', 'sold_quantity', 'available_quantity'],\n",
       "      dtype='object')"
      ]
     },
     "execution_count": 5,
     "metadata": {},
     "output_type": "execute_result"
    }
   ],
   "source": [
    "X_train_df.columns"
   ]
  },
  {
   "cell_type": "code",
   "execution_count": 6,
   "id": "44e64fb7",
   "metadata": {},
   "outputs": [
    {
     "data": {
      "text/html": [
       "<div>\n",
       "<style scoped>\n",
       "    .dataframe tbody tr th:only-of-type {\n",
       "        vertical-align: middle;\n",
       "    }\n",
       "\n",
       "    .dataframe tbody tr th {\n",
       "        vertical-align: top;\n",
       "    }\n",
       "\n",
       "    .dataframe thead th {\n",
       "        text-align: right;\n",
       "    }\n",
       "</style>\n",
       "<table border=\"1\" class=\"dataframe\">\n",
       "  <thead>\n",
       "    <tr style=\"text-align: right;\">\n",
       "      <th></th>\n",
       "      <th>seller_address</th>\n",
       "      <th>warranty</th>\n",
       "      <th>sub_status</th>\n",
       "      <th>condition</th>\n",
       "      <th>deal_ids</th>\n",
       "      <th>base_price</th>\n",
       "      <th>shipping</th>\n",
       "      <th>non_mercado_pago_payment_methods</th>\n",
       "      <th>seller_id</th>\n",
       "      <th>variations</th>\n",
       "      <th>site_id</th>\n",
       "      <th>listing_type_id</th>\n",
       "      <th>price</th>\n",
       "      <th>attributes</th>\n",
       "      <th>buying_mode</th>\n",
       "      <th>...</th>\n",
       "      <th>thumbnail</th>\n",
       "      <th>title</th>\n",
       "      <th>automatic_relist</th>\n",
       "      <th>date_created</th>\n",
       "      <th>secure_thumbnail</th>\n",
       "      <th>stop_time</th>\n",
       "      <th>status</th>\n",
       "      <th>video_id</th>\n",
       "      <th>catalog_product_id</th>\n",
       "      <th>subtitle</th>\n",
       "      <th>initial_quantity</th>\n",
       "      <th>start_time</th>\n",
       "      <th>permalink</th>\n",
       "      <th>sold_quantity</th>\n",
       "      <th>available_quantity</th>\n",
       "    </tr>\n",
       "  </thead>\n",
       "  <tbody>\n",
       "    <tr>\n",
       "      <th>83194</th>\n",
       "      <td>{'country': {'name': 'Argentina', 'id': 'AR'},...</td>\n",
       "      <td>Se entrega en caja sellada, el cadete que lo e...</td>\n",
       "      <td>[]</td>\n",
       "      <td>new</td>\n",
       "      <td>[]</td>\n",
       "      <td>100.0</td>\n",
       "      <td>{'local_pick_up': False, 'methods': [], 'tags'...</td>\n",
       "      <td>[]</td>\n",
       "      <td>7835318510</td>\n",
       "      <td>[]</td>\n",
       "      <td>MLA</td>\n",
       "      <td>bronze</td>\n",
       "      <td>100.0</td>\n",
       "      <td>[]</td>\n",
       "      <td>buy_it_now</td>\n",
       "      <td>...</td>\n",
       "      <td>http://mla-s1-p.mlstatic.com/248401-MLA8500852...</td>\n",
       "      <td>Consolador Anal Plug Anal Mediano 13 X 4cm</td>\n",
       "      <td>False</td>\n",
       "      <td>2015-08-26T22:03:50.000Z</td>\n",
       "      <td>https://a248.e.akamai.net/mla-s1-p.mlstatic.co...</td>\n",
       "      <td>1445810630000</td>\n",
       "      <td>active</td>\n",
       "      <td>None</td>\n",
       "      <td>NaN</td>\n",
       "      <td>None</td>\n",
       "      <td>1</td>\n",
       "      <td>1440626630000</td>\n",
       "      <td>http://articulo.mercadolibre.com.ar/MLA8500852...</td>\n",
       "      <td>0</td>\n",
       "      <td>1</td>\n",
       "    </tr>\n",
       "    <tr>\n",
       "      <th>7535</th>\n",
       "      <td>{'country': {'name': 'Argentina', 'id': 'AR'},...</td>\n",
       "      <td>None</td>\n",
       "      <td>[]</td>\n",
       "      <td>used</td>\n",
       "      <td>[]</td>\n",
       "      <td>3000.0</td>\n",
       "      <td>{'local_pick_up': False, 'methods': [], 'tags'...</td>\n",
       "      <td>[]</td>\n",
       "      <td>8706577905</td>\n",
       "      <td>[{'attribute_combinations': [{'value_id': '920...</td>\n",
       "      <td>MLA</td>\n",
       "      <td>free</td>\n",
       "      <td>3000.0</td>\n",
       "      <td>[{'value_id': 'female', 'attribute_group_id': ...</td>\n",
       "      <td>buy_it_now</td>\n",
       "      <td>...</td>\n",
       "      <td>http://mla-s1-p.mlstatic.com/592701-MLA2222034...</td>\n",
       "      <td>Cartera Jackie Smith De Cuero Graneado Color N...</td>\n",
       "      <td>False</td>\n",
       "      <td>2015-10-12T16:54:55.000Z</td>\n",
       "      <td>https://a248.e.akamai.net/mla-s1-p.mlstatic.co...</td>\n",
       "      <td>1449852895000</td>\n",
       "      <td>active</td>\n",
       "      <td>None</td>\n",
       "      <td>NaN</td>\n",
       "      <td>None</td>\n",
       "      <td>1</td>\n",
       "      <td>1444668895000</td>\n",
       "      <td>http://articulo.mercadolibre.com.ar/MLA2222034...</td>\n",
       "      <td>0</td>\n",
       "      <td>1</td>\n",
       "    </tr>\n",
       "    <tr>\n",
       "      <th>35120</th>\n",
       "      <td>{'country': {'name': 'Argentina', 'id': 'AR'},...</td>\n",
       "      <td>None</td>\n",
       "      <td>[]</td>\n",
       "      <td>used</td>\n",
       "      <td>[]</td>\n",
       "      <td>10000.0</td>\n",
       "      <td>{'local_pick_up': False, 'methods': [], 'tags'...</td>\n",
       "      <td>[]</td>\n",
       "      <td>6191545966</td>\n",
       "      <td>[]</td>\n",
       "      <td>MLA</td>\n",
       "      <td>free</td>\n",
       "      <td>10000.0</td>\n",
       "      <td>[]</td>\n",
       "      <td>buy_it_now</td>\n",
       "      <td>...</td>\n",
       "      <td>http://mla-s1-p.mlstatic.com/752501-MLA6534916...</td>\n",
       "      <td>Reloj Hombre Tag Heur</td>\n",
       "      <td>False</td>\n",
       "      <td>2015-09-05T00:33:34.000Z</td>\n",
       "      <td>https://a248.e.akamai.net/mla-s1-p.mlstatic.co...</td>\n",
       "      <td>1446597213000</td>\n",
       "      <td>paused</td>\n",
       "      <td>None</td>\n",
       "      <td>NaN</td>\n",
       "      <td>None</td>\n",
       "      <td>1</td>\n",
       "      <td>1441413213000</td>\n",
       "      <td>http://articulo.mercadolibre.com.ar/MLA6534916...</td>\n",
       "      <td>0</td>\n",
       "      <td>1</td>\n",
       "    </tr>\n",
       "    <tr>\n",
       "      <th>73458</th>\n",
       "      <td>{'country': {'name': 'Argentina', 'id': 'AR'},...</td>\n",
       "      <td>Sí</td>\n",
       "      <td>[]</td>\n",
       "      <td>used</td>\n",
       "      <td>[]</td>\n",
       "      <td>1800.0</td>\n",
       "      <td>{'local_pick_up': True, 'methods': [], 'tags':...</td>\n",
       "      <td>[{'description': 'Transferencia bancaria', 'id...</td>\n",
       "      <td>5468194559</td>\n",
       "      <td>[]</td>\n",
       "      <td>MLA</td>\n",
       "      <td>bronze</td>\n",
       "      <td>1800.0</td>\n",
       "      <td>[]</td>\n",
       "      <td>buy_it_now</td>\n",
       "      <td>...</td>\n",
       "      <td>http://mla-s1-p.mlstatic.com/747201-MLA9903613...</td>\n",
       "      <td>Roca Mineral Geoda Cristales Cuarzo Amatista A...</td>\n",
       "      <td>False</td>\n",
       "      <td>2015-08-24T04:05:24.000Z</td>\n",
       "      <td>https://a248.e.akamai.net/mla-s1-p.mlstatic.co...</td>\n",
       "      <td>1445573124000</td>\n",
       "      <td>active</td>\n",
       "      <td>None</td>\n",
       "      <td>NaN</td>\n",
       "      <td>None</td>\n",
       "      <td>1</td>\n",
       "      <td>1440389124000</td>\n",
       "      <td>http://articulo.mercadolibre.com.ar/MLA9903613...</td>\n",
       "      <td>0</td>\n",
       "      <td>1</td>\n",
       "    </tr>\n",
       "    <tr>\n",
       "      <th>53528</th>\n",
       "      <td>{'country': {'name': 'Argentina', 'id': 'AR'},...</td>\n",
       "      <td>LOS LIBROS SON REVISADOS ANTES DE PUBLICAR, PO...</td>\n",
       "      <td>[]</td>\n",
       "      <td>used</td>\n",
       "      <td>[]</td>\n",
       "      <td>50.0</td>\n",
       "      <td>{'local_pick_up': True, 'methods': [], 'tags':...</td>\n",
       "      <td>[{'description': 'Transferencia bancaria', 'id...</td>\n",
       "      <td>7242452883</td>\n",
       "      <td>[]</td>\n",
       "      <td>MLA</td>\n",
       "      <td>free</td>\n",
       "      <td>50.0</td>\n",
       "      <td>[]</td>\n",
       "      <td>buy_it_now</td>\n",
       "      <td>...</td>\n",
       "      <td>http://mla-s1-p.mlstatic.com/11259-MLA29622537...</td>\n",
       "      <td>Pablo Rojas Paz - Campo Argentino. Vida Y Cost...</td>\n",
       "      <td>False</td>\n",
       "      <td>2015-09-23T23:50:03.000Z</td>\n",
       "      <td>https://a248.e.akamai.net/mla-s1-p.mlstatic.co...</td>\n",
       "      <td>1448236203000</td>\n",
       "      <td>active</td>\n",
       "      <td>None</td>\n",
       "      <td>NaN</td>\n",
       "      <td>None</td>\n",
       "      <td>1</td>\n",
       "      <td>1443052203000</td>\n",
       "      <td>http://articulo.mercadolibre.com.ar/MLA2962253...</td>\n",
       "      <td>0</td>\n",
       "      <td>1</td>\n",
       "    </tr>\n",
       "  </tbody>\n",
       "</table>\n",
       "<p>5 rows × 45 columns</p>\n",
       "</div>"
      ],
      "text/plain": [
       "                                          seller_address  \\\n",
       "83194  {'country': {'name': 'Argentina', 'id': 'AR'},...   \n",
       "7535   {'country': {'name': 'Argentina', 'id': 'AR'},...   \n",
       "35120  {'country': {'name': 'Argentina', 'id': 'AR'},...   \n",
       "73458  {'country': {'name': 'Argentina', 'id': 'AR'},...   \n",
       "53528  {'country': {'name': 'Argentina', 'id': 'AR'},...   \n",
       "\n",
       "                                                warranty sub_status condition  \\\n",
       "83194  Se entrega en caja sellada, el cadete que lo e...         []       new   \n",
       "7535                                                None         []      used   \n",
       "35120                                               None         []      used   \n",
       "73458                                                 Sí         []      used   \n",
       "53528  LOS LIBROS SON REVISADOS ANTES DE PUBLICAR, PO...         []      used   \n",
       "\n",
       "      deal_ids  base_price                                           shipping  \\\n",
       "83194       []       100.0  {'local_pick_up': False, 'methods': [], 'tags'...   \n",
       "7535        []      3000.0  {'local_pick_up': False, 'methods': [], 'tags'...   \n",
       "35120       []     10000.0  {'local_pick_up': False, 'methods': [], 'tags'...   \n",
       "73458       []      1800.0  {'local_pick_up': True, 'methods': [], 'tags':...   \n",
       "53528       []        50.0  {'local_pick_up': True, 'methods': [], 'tags':...   \n",
       "\n",
       "                        non_mercado_pago_payment_methods   seller_id  \\\n",
       "83194                                                 []  7835318510   \n",
       "7535                                                  []  8706577905   \n",
       "35120                                                 []  6191545966   \n",
       "73458  [{'description': 'Transferencia bancaria', 'id...  5468194559   \n",
       "53528  [{'description': 'Transferencia bancaria', 'id...  7242452883   \n",
       "\n",
       "                                              variations site_id  \\\n",
       "83194                                                 []     MLA   \n",
       "7535   [{'attribute_combinations': [{'value_id': '920...     MLA   \n",
       "35120                                                 []     MLA   \n",
       "73458                                                 []     MLA   \n",
       "53528                                                 []     MLA   \n",
       "\n",
       "      listing_type_id    price  \\\n",
       "83194          bronze    100.0   \n",
       "7535             free   3000.0   \n",
       "35120            free  10000.0   \n",
       "73458          bronze   1800.0   \n",
       "53528            free     50.0   \n",
       "\n",
       "                                              attributes buying_mode  ...  \\\n",
       "83194                                                 []  buy_it_now  ...   \n",
       "7535   [{'value_id': 'female', 'attribute_group_id': ...  buy_it_now  ...   \n",
       "35120                                                 []  buy_it_now  ...   \n",
       "73458                                                 []  buy_it_now  ...   \n",
       "53528                                                 []  buy_it_now  ...   \n",
       "\n",
       "                                               thumbnail  \\\n",
       "83194  http://mla-s1-p.mlstatic.com/248401-MLA8500852...   \n",
       "7535   http://mla-s1-p.mlstatic.com/592701-MLA2222034...   \n",
       "35120  http://mla-s1-p.mlstatic.com/752501-MLA6534916...   \n",
       "73458  http://mla-s1-p.mlstatic.com/747201-MLA9903613...   \n",
       "53528  http://mla-s1-p.mlstatic.com/11259-MLA29622537...   \n",
       "\n",
       "                                                   title automatic_relist  \\\n",
       "83194         Consolador Anal Plug Anal Mediano 13 X 4cm            False   \n",
       "7535   Cartera Jackie Smith De Cuero Graneado Color N...            False   \n",
       "35120                              Reloj Hombre Tag Heur            False   \n",
       "73458  Roca Mineral Geoda Cristales Cuarzo Amatista A...            False   \n",
       "53528  Pablo Rojas Paz - Campo Argentino. Vida Y Cost...            False   \n",
       "\n",
       "                   date_created  \\\n",
       "83194  2015-08-26T22:03:50.000Z   \n",
       "7535   2015-10-12T16:54:55.000Z   \n",
       "35120  2015-09-05T00:33:34.000Z   \n",
       "73458  2015-08-24T04:05:24.000Z   \n",
       "53528  2015-09-23T23:50:03.000Z   \n",
       "\n",
       "                                        secure_thumbnail      stop_time  \\\n",
       "83194  https://a248.e.akamai.net/mla-s1-p.mlstatic.co...  1445810630000   \n",
       "7535   https://a248.e.akamai.net/mla-s1-p.mlstatic.co...  1449852895000   \n",
       "35120  https://a248.e.akamai.net/mla-s1-p.mlstatic.co...  1446597213000   \n",
       "73458  https://a248.e.akamai.net/mla-s1-p.mlstatic.co...  1445573124000   \n",
       "53528  https://a248.e.akamai.net/mla-s1-p.mlstatic.co...  1448236203000   \n",
       "\n",
       "       status video_id catalog_product_id subtitle  initial_quantity  \\\n",
       "83194  active     None                NaN     None                 1   \n",
       "7535   active     None                NaN     None                 1   \n",
       "35120  paused     None                NaN     None                 1   \n",
       "73458  active     None                NaN     None                 1   \n",
       "53528  active     None                NaN     None                 1   \n",
       "\n",
       "          start_time                                          permalink  \\\n",
       "83194  1440626630000  http://articulo.mercadolibre.com.ar/MLA8500852...   \n",
       "7535   1444668895000  http://articulo.mercadolibre.com.ar/MLA2222034...   \n",
       "35120  1441413213000  http://articulo.mercadolibre.com.ar/MLA6534916...   \n",
       "73458  1440389124000  http://articulo.mercadolibre.com.ar/MLA9903613...   \n",
       "53528  1443052203000  http://articulo.mercadolibre.com.ar/MLA2962253...   \n",
       "\n",
       "       sold_quantity available_quantity  \n",
       "83194              0                  1  \n",
       "7535               0                  1  \n",
       "35120              0                  1  \n",
       "73458              0                  1  \n",
       "53528              0                  1  \n",
       "\n",
       "[5 rows x 45 columns]"
      ]
     },
     "execution_count": 6,
     "metadata": {},
     "output_type": "execute_result"
    }
   ],
   "source": [
    "X_train_df.sample(5)  # Display a sample of the training data"
   ]
  },
  {
   "cell_type": "code",
   "execution_count": 7,
   "id": "cc9aa68f",
   "metadata": {},
   "outputs": [
    {
     "data": {
      "text/html": [
       "<div>\n",
       "<style scoped>\n",
       "    .dataframe tbody tr th:only-of-type {\n",
       "        vertical-align: middle;\n",
       "    }\n",
       "\n",
       "    .dataframe tbody tr th {\n",
       "        vertical-align: top;\n",
       "    }\n",
       "\n",
       "    .dataframe thead th {\n",
       "        text-align: right;\n",
       "    }\n",
       "</style>\n",
       "<table border=\"1\" class=\"dataframe\">\n",
       "  <thead>\n",
       "    <tr style=\"text-align: right;\">\n",
       "      <th></th>\n",
       "      <th>buying_mode</th>\n",
       "      <th>tags</th>\n",
       "      <th>listing_source</th>\n",
       "      <th>parent_item_id</th>\n",
       "      <th>coverage_areas</th>\n",
       "      <th>category_id</th>\n",
       "      <th>descriptions</th>\n",
       "      <th>last_updated</th>\n",
       "      <th>international_delivery_mode</th>\n",
       "      <th>pictures</th>\n",
       "      <th>id</th>\n",
       "      <th>official_store_id</th>\n",
       "      <th>differential_pricing</th>\n",
       "      <th>accepts_mercadopago</th>\n",
       "      <th>original_price</th>\n",
       "      <th>currency_id</th>\n",
       "      <th>thumbnail</th>\n",
       "    </tr>\n",
       "  </thead>\n",
       "  <tbody>\n",
       "    <tr>\n",
       "      <th>75942</th>\n",
       "      <td>buy_it_now</td>\n",
       "      <td>[dragged_bids_and_visits]</td>\n",
       "      <td></td>\n",
       "      <td>MLA6866095440</td>\n",
       "      <td>[]</td>\n",
       "      <td>MLA3067</td>\n",
       "      <td>[{'id': 'MLA1448719386-921443155'}]</td>\n",
       "      <td>2015-09-15T19:44:59.000Z</td>\n",
       "      <td>none</td>\n",
       "      <td>[{'size': '329x500', 'secure_url': 'https://a2...</td>\n",
       "      <td>MLA1448719386</td>\n",
       "      <td>NaN</td>\n",
       "      <td>None</td>\n",
       "      <td>True</td>\n",
       "      <td>NaN</td>\n",
       "      <td>ARS</td>\n",
       "      <td>http://mla-s1-p.mlstatic.com/20848-MLA14487193...</td>\n",
       "    </tr>\n",
       "    <tr>\n",
       "      <th>39765</th>\n",
       "      <td>buy_it_now</td>\n",
       "      <td>[dragged_bids_and_visits]</td>\n",
       "      <td></td>\n",
       "      <td>MLA7515247153</td>\n",
       "      <td>[]</td>\n",
       "      <td>MLA40547</td>\n",
       "      <td>[{'id': 'MLA8570917174-914549902'}]</td>\n",
       "      <td>2015-09-08T02:33:31.000Z</td>\n",
       "      <td>none</td>\n",
       "      <td>[{'size': '375x500', 'secure_url': 'https://a2...</td>\n",
       "      <td>MLA8570917174</td>\n",
       "      <td>NaN</td>\n",
       "      <td>None</td>\n",
       "      <td>True</td>\n",
       "      <td>NaN</td>\n",
       "      <td>ARS</td>\n",
       "      <td>http://mla-s1-p.mlstatic.com/20681-MLA85709171...</td>\n",
       "    </tr>\n",
       "    <tr>\n",
       "      <th>49454</th>\n",
       "      <td>buy_it_now</td>\n",
       "      <td>[dragged_bids_and_visits]</td>\n",
       "      <td></td>\n",
       "      <td>MLA3452753860</td>\n",
       "      <td>[]</td>\n",
       "      <td>MLA35923</td>\n",
       "      <td>[]</td>\n",
       "      <td>2015-10-09T15:15:16.000Z</td>\n",
       "      <td>none</td>\n",
       "      <td>[{'size': '500x328', 'secure_url': 'https://a2...</td>\n",
       "      <td>MLA3859544939</td>\n",
       "      <td>NaN</td>\n",
       "      <td>None</td>\n",
       "      <td>True</td>\n",
       "      <td>NaN</td>\n",
       "      <td>ARS</td>\n",
       "      <td>http://mla-s1-p.mlstatic.com/6215-MLA385954493...</td>\n",
       "    </tr>\n",
       "    <tr>\n",
       "      <th>21858</th>\n",
       "      <td>buy_it_now</td>\n",
       "      <td>[dragged_bids_and_visits]</td>\n",
       "      <td></td>\n",
       "      <td>MLA6031767747</td>\n",
       "      <td>[]</td>\n",
       "      <td>MLA26536</td>\n",
       "      <td>[{'id': 'MLA3241351421-911701567'}]</td>\n",
       "      <td>2015-09-18T13:20:39.000Z</td>\n",
       "      <td>none</td>\n",
       "      <td>[{'size': '500x373', 'secure_url': 'https://a2...</td>\n",
       "      <td>MLA3241351421</td>\n",
       "      <td>NaN</td>\n",
       "      <td>None</td>\n",
       "      <td>True</td>\n",
       "      <td>NaN</td>\n",
       "      <td>ARS</td>\n",
       "      <td>http://mla-s1-p.mlstatic.com/4478-MLA324135142...</td>\n",
       "    </tr>\n",
       "    <tr>\n",
       "      <th>82016</th>\n",
       "      <td>buy_it_now</td>\n",
       "      <td>[]</td>\n",
       "      <td></td>\n",
       "      <td>None</td>\n",
       "      <td>[]</td>\n",
       "      <td>MLA369716</td>\n",
       "      <td>[{'id': 'MLA8985754063-900406196'}]</td>\n",
       "      <td>2015-08-25T15:29:40.000Z</td>\n",
       "      <td>none</td>\n",
       "      <td>[{'size': '500x500', 'secure_url': 'https://a2...</td>\n",
       "      <td>MLA8985754063</td>\n",
       "      <td>NaN</td>\n",
       "      <td>None</td>\n",
       "      <td>True</td>\n",
       "      <td>NaN</td>\n",
       "      <td>ARS</td>\n",
       "      <td>http://mla-s1-p.mlstatic.com/555701-MLA8985754...</td>\n",
       "    </tr>\n",
       "  </tbody>\n",
       "</table>\n",
       "</div>"
      ],
      "text/plain": [
       "      buying_mode                       tags listing_source parent_item_id  \\\n",
       "75942  buy_it_now  [dragged_bids_and_visits]                 MLA6866095440   \n",
       "39765  buy_it_now  [dragged_bids_and_visits]                 MLA7515247153   \n",
       "49454  buy_it_now  [dragged_bids_and_visits]                 MLA3452753860   \n",
       "21858  buy_it_now  [dragged_bids_and_visits]                 MLA6031767747   \n",
       "82016  buy_it_now                         []                          None   \n",
       "\n",
       "      coverage_areas category_id                         descriptions  \\\n",
       "75942             []     MLA3067  [{'id': 'MLA1448719386-921443155'}]   \n",
       "39765             []    MLA40547  [{'id': 'MLA8570917174-914549902'}]   \n",
       "49454             []    MLA35923                                   []   \n",
       "21858             []    MLA26536  [{'id': 'MLA3241351421-911701567'}]   \n",
       "82016             []   MLA369716  [{'id': 'MLA8985754063-900406196'}]   \n",
       "\n",
       "                   last_updated international_delivery_mode  \\\n",
       "75942  2015-09-15T19:44:59.000Z                        none   \n",
       "39765  2015-09-08T02:33:31.000Z                        none   \n",
       "49454  2015-10-09T15:15:16.000Z                        none   \n",
       "21858  2015-09-18T13:20:39.000Z                        none   \n",
       "82016  2015-08-25T15:29:40.000Z                        none   \n",
       "\n",
       "                                                pictures             id  \\\n",
       "75942  [{'size': '329x500', 'secure_url': 'https://a2...  MLA1448719386   \n",
       "39765  [{'size': '375x500', 'secure_url': 'https://a2...  MLA8570917174   \n",
       "49454  [{'size': '500x328', 'secure_url': 'https://a2...  MLA3859544939   \n",
       "21858  [{'size': '500x373', 'secure_url': 'https://a2...  MLA3241351421   \n",
       "82016  [{'size': '500x500', 'secure_url': 'https://a2...  MLA8985754063   \n",
       "\n",
       "       official_store_id differential_pricing  accepts_mercadopago  \\\n",
       "75942                NaN                 None                 True   \n",
       "39765                NaN                 None                 True   \n",
       "49454                NaN                 None                 True   \n",
       "21858                NaN                 None                 True   \n",
       "82016                NaN                 None                 True   \n",
       "\n",
       "       original_price currency_id  \\\n",
       "75942             NaN         ARS   \n",
       "39765             NaN         ARS   \n",
       "49454             NaN         ARS   \n",
       "21858             NaN         ARS   \n",
       "82016             NaN         ARS   \n",
       "\n",
       "                                               thumbnail  \n",
       "75942  http://mla-s1-p.mlstatic.com/20848-MLA14487193...  \n",
       "39765  http://mla-s1-p.mlstatic.com/20681-MLA85709171...  \n",
       "49454  http://mla-s1-p.mlstatic.com/6215-MLA385954493...  \n",
       "21858  http://mla-s1-p.mlstatic.com/4478-MLA324135142...  \n",
       "82016  http://mla-s1-p.mlstatic.com/555701-MLA8985754...  "
      ]
     },
     "execution_count": 7,
     "metadata": {},
     "output_type": "execute_result"
    }
   ],
   "source": [
    "# There are too many columns to display all at once, so we will show a subset\n",
    "X_train_df[['buying_mode', 'tags', 'listing_source', 'parent_item_id',\n",
    "       'coverage_areas', 'category_id', 'descriptions', 'last_updated',\n",
    "       'international_delivery_mode', 'pictures', 'id', 'official_store_id',\n",
    "       'differential_pricing', 'accepts_mercadopago', 'original_price',\n",
    "       'currency_id', 'thumbnail']].sample(5)"
   ]
  },
  {
   "cell_type": "markdown",
   "id": "57627c3a",
   "metadata": {},
   "source": [
    "Probably, `condition` feature should be deleted because it's the actual target. This hypotesis have to be checked first."
   ]
  },
  {
   "cell_type": "markdown",
   "id": "2cd6ad5d",
   "metadata": {},
   "source": [
    "`international_delivery_mode` has a wrong 'none' value so it needs to be corrected."
   ]
  },
  {
   "cell_type": "code",
   "execution_count": 8,
   "id": "138433e7",
   "metadata": {},
   "outputs": [
    {
     "name": "stdout",
     "output_type": "stream",
     "text": [
      "<class 'pandas.core.frame.DataFrame'>\n",
      "RangeIndex: 90000 entries, 0 to 89999\n",
      "Data columns (total 45 columns):\n",
      " #   Column                            Non-Null Count  Dtype  \n",
      "---  ------                            --------------  -----  \n",
      " 0   seller_address                    90000 non-null  object \n",
      " 1   warranty                          35243 non-null  object \n",
      " 2   sub_status                        90000 non-null  object \n",
      " 3   condition                         90000 non-null  object \n",
      " 4   deal_ids                          90000 non-null  object \n",
      " 5   base_price                        90000 non-null  float64\n",
      " 6   shipping                          90000 non-null  object \n",
      " 7   non_mercado_pago_payment_methods  90000 non-null  object \n",
      " 8   seller_id                         90000 non-null  int64  \n",
      " 9   variations                        90000 non-null  object \n",
      " 10  site_id                           90000 non-null  object \n",
      " 11  listing_type_id                   90000 non-null  object \n",
      " 12  price                             90000 non-null  float64\n",
      " 13  attributes                        90000 non-null  object \n",
      " 14  buying_mode                       90000 non-null  object \n",
      " 15  tags                              90000 non-null  object \n",
      " 16  listing_source                    90000 non-null  object \n",
      " 17  parent_item_id                    69310 non-null  object \n",
      " 18  coverage_areas                    90000 non-null  object \n",
      " 19  category_id                       90000 non-null  object \n",
      " 20  descriptions                      90000 non-null  object \n",
      " 21  last_updated                      90000 non-null  object \n",
      " 22  international_delivery_mode       90000 non-null  object \n",
      " 23  pictures                          90000 non-null  object \n",
      " 24  id                                90000 non-null  object \n",
      " 25  official_store_id                 745 non-null    float64\n",
      " 26  differential_pricing              0 non-null      object \n",
      " 27  accepts_mercadopago               90000 non-null  bool   \n",
      " 28  original_price                    130 non-null    float64\n",
      " 29  currency_id                       90000 non-null  object \n",
      " 30  thumbnail                         90000 non-null  object \n",
      " 31  title                             90000 non-null  object \n",
      " 32  automatic_relist                  90000 non-null  bool   \n",
      " 33  date_created                      90000 non-null  object \n",
      " 34  secure_thumbnail                  90000 non-null  object \n",
      " 35  stop_time                         90000 non-null  int64  \n",
      " 36  status                            90000 non-null  object \n",
      " 37  video_id                          2676 non-null   object \n",
      " 38  catalog_product_id                7 non-null      float64\n",
      " 39  subtitle                          0 non-null      object \n",
      " 40  initial_quantity                  90000 non-null  int64  \n",
      " 41  start_time                        90000 non-null  int64  \n",
      " 42  permalink                         90000 non-null  object \n",
      " 43  sold_quantity                     90000 non-null  int64  \n",
      " 44  available_quantity                90000 non-null  int64  \n",
      "dtypes: bool(2), float64(5), int64(6), object(32)\n",
      "memory usage: 29.7+ MB\n"
     ]
    }
   ],
   "source": [
    "X_train_df.info()"
   ]
  },
  {
   "cell_type": "markdown",
   "id": "740f89fc",
   "metadata": {},
   "source": [
    "Dataset is formed by:\n",
    "- **IDs:** `id`,`parent_item_id`, `official_store_id`, `category_id`, `site_id`, `video_id`, `catalog_product_id`, `deal_ids`, `seller_id`, `descriptions`\n",
    "- **Price-related variables:** `price`, `original_price`, `base_price`\n",
    "- **Transaction-related variables:**  `currency_id`, `accepts_mercadopago`, `warranty`\n",
    "- **Quantity-related variables:** `initial_quantity`, `sold_quantity`, `available_quantity`\n",
    "- **Post-related variables:** `title`, `thumbnail`, `pictures`, `permalink`, `secure_thumbnail`, `status`, `sub_status`, `buying_mode`, `condition`, `automatic_relist`\n",
    "- **Time-related variables:** `start_time`, `stop_time`, `date_created`, `last_updated`\n",
    "- **Seller-related variables:** `seller_address`, `listing_type_id`\n",
    "- **Tags:** `tags`, `variations`, `shipping`, `attributes`, `non_mercado_pago_payment_methods`"
   ]
  },
  {
   "cell_type": "markdown",
   "id": "af0ff709",
   "metadata": {},
   "source": [
    "As common practice, ID variables will be ignored during feature selection. Also, time-related variables won't be used."
   ]
  },
  {
   "cell_type": "code",
   "execution_count": 9,
   "id": "12f57241",
   "metadata": {},
   "outputs": [
    {
     "data": {
      "text/plain": [
       "count             90000\n",
       "unique            90000\n",
       "top       MLA4695330653\n",
       "freq                  1\n",
       "Name: id, dtype: object"
      ]
     },
     "execution_count": 9,
     "metadata": {},
     "output_type": "execute_result"
    }
   ],
   "source": [
    "X_train_df['id'].describe()"
   ]
  },
  {
   "cell_type": "code",
   "execution_count": 10,
   "id": "5e8ebe4e",
   "metadata": {},
   "outputs": [
    {
     "data": {
      "text/plain": [
       "count             69310\n",
       "unique            69310\n",
       "top       MLA6553902747\n",
       "freq                  1\n",
       "Name: parent_item_id, dtype: object"
      ]
     },
     "execution_count": 10,
     "metadata": {},
     "output_type": "execute_result"
    }
   ],
   "source": [
    "X_train_df['parent_item_id'].describe()"
   ]
  },
  {
   "cell_type": "markdown",
   "id": "39d20fd9",
   "metadata": {},
   "source": [
    "Probably, `parent_item_id` is pointing to item's `id`, because they follow the same code structure *'MLA' + identifier* (int, 10)"
   ]
  },
  {
   "cell_type": "markdown",
   "id": "5d2df4bd",
   "metadata": {},
   "source": [
    "### Identifying Missing Values"
   ]
  },
  {
   "cell_type": "markdown",
   "id": "2067ebe1",
   "metadata": {},
   "source": [
    "For some variables, we have missing values."
   ]
  },
  {
   "cell_type": "markdown",
   "id": "8f1ac9af",
   "metadata": {},
   "source": [
    "**Some nulls:**\n",
    "1. `parent_item_id` (23.0%)\n",
    "1. `warranty` (60.8%)\n",
    "\n",
    "**Almost empty:**\n",
    "1. `video_id` (97.0%)\n",
    "1. `official_store_id` (99.2%)\n",
    "1. `original_price` (99.9%)\n",
    "1. `catalog_product_id` (~100%)\n",
    "\n",
    "**No data:**\n",
    "1. `differential_pricing`\n",
    "1. `subtitle`"
   ]
  },
  {
   "cell_type": "markdown",
   "id": "572d891f",
   "metadata": {},
   "source": [
    "At a first glance, it looks like many features are null but have some content '[]', so they'll not be displayed as null by `.info()`."
   ]
  },
  {
   "cell_type": "code",
   "execution_count": 11,
   "id": "373498bf",
   "metadata": {},
   "outputs": [
    {
     "data": {
      "text/plain": [
       "count     90000\n",
       "unique        4\n",
       "top          []\n",
       "freq      89109\n",
       "Name: sub_status, dtype: object"
      ]
     },
     "execution_count": 11,
     "metadata": {},
     "output_type": "execute_result"
    }
   ],
   "source": [
    "X_train_df['sub_status'].describe()"
   ]
  },
  {
   "cell_type": "code",
   "execution_count": 12,
   "id": "91bb26f3",
   "metadata": {},
   "outputs": [
    {
     "data": {
      "text/plain": [
       "sub_status\n",
       "[]             89109\n",
       "[suspended]      871\n",
       "[expired]         13\n",
       "[deleted]          7\n",
       "Name: count, dtype: int64"
      ]
     },
     "execution_count": 12,
     "metadata": {},
     "output_type": "execute_result"
    }
   ],
   "source": [
    "# Showing options for 'sub_status'\n",
    "X_train_df['sub_status'].value_counts()"
   ]
  },
  {
   "cell_type": "markdown",
   "id": "c675c931",
   "metadata": {},
   "source": [
    "We can see that `sub_status` marks a few cases as suspended, expired, or deleted. These items should be removed from the dataset."
   ]
  },
  {
   "cell_type": "code",
   "execution_count": 13,
   "id": "fae0f118",
   "metadata": {},
   "outputs": [
    {
     "data": {
      "text/plain": [
       "count     90000\n",
       "unique       31\n",
       "top          []\n",
       "freq      89783\n",
       "Name: deal_ids, dtype: object"
      ]
     },
     "execution_count": 13,
     "metadata": {},
     "output_type": "execute_result"
    }
   ],
   "source": [
    "X_train_df['deal_ids'].describe()"
   ]
  },
  {
   "cell_type": "code",
   "execution_count": 14,
   "id": "69526a0b",
   "metadata": {},
   "outputs": [
    {
     "data": {
      "text/plain": [
       "count     90000\n",
       "unique     7375\n",
       "top          []\n",
       "freq      82626\n",
       "Name: variations, dtype: object"
      ]
     },
     "execution_count": 14,
     "metadata": {},
     "output_type": "execute_result"
    }
   ],
   "source": [
    "X_train_df['variations'].describe()"
   ]
  },
  {
   "cell_type": "code",
   "execution_count": 15,
   "id": "109a8477",
   "metadata": {},
   "outputs": [
    {
     "data": {
      "text/plain": [
       "count     90000\n",
       "unique     3118\n",
       "top          []\n",
       "freq      78850\n",
       "Name: attributes, dtype: object"
      ]
     },
     "execution_count": 15,
     "metadata": {},
     "output_type": "execute_result"
    }
   ],
   "source": [
    "X_train_df['attributes'].describe()"
   ]
  },
  {
   "cell_type": "code",
   "execution_count": 16,
   "id": "38c32e05",
   "metadata": {},
   "outputs": [
    {
     "data": {
      "text/plain": [
       "count                         90000\n",
       "unique                            8\n",
       "top       [dragged_bids_and_visits]\n",
       "freq                          65315\n",
       "Name: tags, dtype: object"
      ]
     },
     "execution_count": 16,
     "metadata": {},
     "output_type": "execute_result"
    }
   ],
   "source": [
    "X_train_df['tags'].describe()"
   ]
  },
  {
   "cell_type": "code",
   "execution_count": 17,
   "id": "71b3ccdf",
   "metadata": {},
   "outputs": [
    {
     "name": "stdout",
     "output_type": "stream",
     "text": [
      "{'good_quality_thumbnail', 'dragged_bids_and_visits', 'dragged_visits', 'poor_quality_thumbnail', 'free_relist'}\n"
     ]
    }
   ],
   "source": [
    "# Flatten all tag lists and get unique tag values\n",
    "unique_tags = set(tag for tags_list in X_train_df['tags'] for tag in tags_list)\n",
    "print(unique_tags)"
   ]
  },
  {
   "cell_type": "markdown",
   "id": "cb2685f0",
   "metadata": {},
   "source": [
    "It seems we only have 5 relevant values for 'tags'.\n",
    "\n",
    "So, it's plausible to assume that the remaining 3 appearing values are related with an empty field (NaN).\n",
    "\n",
    "It'll be explored later."
   ]
  },
  {
   "cell_type": "code",
   "execution_count": 18,
   "id": "ae51b14d",
   "metadata": {},
   "outputs": [
    {
     "data": {
      "text/plain": [
       "count     90000\n",
       "unique        1\n",
       "top            \n",
       "freq      90000\n",
       "Name: listing_source, dtype: object"
      ]
     },
     "execution_count": 18,
     "metadata": {},
     "output_type": "execute_result"
    }
   ],
   "source": [
    "X_train_df['listing_source'].describe()"
   ]
  },
  {
   "cell_type": "code",
   "execution_count": 19,
   "id": "cdeb4bd5",
   "metadata": {},
   "outputs": [
    {
     "data": {
      "text/plain": [
       "count     90000\n",
       "unique        1\n",
       "top          []\n",
       "freq      90000\n",
       "Name: coverage_areas, dtype: object"
      ]
     },
     "execution_count": 19,
     "metadata": {},
     "output_type": "execute_result"
    }
   ],
   "source": [
    "X_train_df['coverage_areas'].describe()"
   ]
  },
  {
   "cell_type": "markdown",
   "id": "54661b97",
   "metadata": {},
   "source": [
    "It's been verified that most of these features has '[]' instead of 'NaN'. It has to be modified.\n",
    "\n",
    "***Conflictive Features:*** coverage_areas, listing_source, tags, attributes, variations, deal_ids, sub_status"
   ]
  },
  {
   "cell_type": "markdown",
   "id": "2364a695",
   "metadata": {},
   "source": [
    "Both `listing_source` and `coverage_areas` are completely empty. The others have between 87% up to 99% nulls."
   ]
  },
  {
   "cell_type": "markdown",
   "id": "f83fa877",
   "metadata": {},
   "source": [
    "---"
   ]
  },
  {
   "cell_type": "markdown",
   "id": "f77174ad",
   "metadata": {},
   "source": [
    "### Variables distribution"
   ]
  },
  {
   "cell_type": "code",
   "execution_count": 20,
   "id": "6b718df9",
   "metadata": {},
   "outputs": [
    {
     "data": {
      "text/html": [
       "<div>\n",
       "<style scoped>\n",
       "    .dataframe tbody tr th:only-of-type {\n",
       "        vertical-align: middle;\n",
       "    }\n",
       "\n",
       "    .dataframe tbody tr th {\n",
       "        vertical-align: top;\n",
       "    }\n",
       "\n",
       "    .dataframe thead th {\n",
       "        text-align: right;\n",
       "    }\n",
       "</style>\n",
       "<table border=\"1\" class=\"dataframe\">\n",
       "  <thead>\n",
       "    <tr style=\"text-align: right;\">\n",
       "      <th></th>\n",
       "      <th>base_price</th>\n",
       "      <th>seller_id</th>\n",
       "      <th>price</th>\n",
       "      <th>official_store_id</th>\n",
       "      <th>original_price</th>\n",
       "      <th>stop_time</th>\n",
       "      <th>catalog_product_id</th>\n",
       "      <th>initial_quantity</th>\n",
       "      <th>start_time</th>\n",
       "      <th>sold_quantity</th>\n",
       "      <th>available_quantity</th>\n",
       "    </tr>\n",
       "  </thead>\n",
       "  <tbody>\n",
       "    <tr>\n",
       "      <th>count</th>\n",
       "      <td>9.000000e+04</td>\n",
       "      <td>9.000000e+04</td>\n",
       "      <td>9.000000e+04</td>\n",
       "      <td>745.000000</td>\n",
       "      <td>130.000000</td>\n",
       "      <td>9.000000e+04</td>\n",
       "      <td>7.000000e+00</td>\n",
       "      <td>90000.000000</td>\n",
       "      <td>9.000000e+04</td>\n",
       "      <td>90000.000000</td>\n",
       "      <td>90000.000000</td>\n",
       "    </tr>\n",
       "    <tr>\n",
       "      <th>mean</th>\n",
       "      <td>5.781341e+04</td>\n",
       "      <td>5.487386e+09</td>\n",
       "      <td>5.781352e+04</td>\n",
       "      <td>5802.018792</td>\n",
       "      <td>1492.522308</td>\n",
       "      <td>1.447648e+12</td>\n",
       "      <td>2.895700e+06</td>\n",
       "      <td>34.957178</td>\n",
       "      <td>1.442383e+12</td>\n",
       "      <td>2.328044</td>\n",
       "      <td>34.700767</td>\n",
       "    </tr>\n",
       "    <tr>\n",
       "      <th>std</th>\n",
       "      <td>9.089555e+06</td>\n",
       "      <td>2.587140e+09</td>\n",
       "      <td>9.089555e+06</td>\n",
       "      <td>2657.056302</td>\n",
       "      <td>1954.905741</td>\n",
       "      <td>3.251040e+09</td>\n",
       "      <td>1.919771e+06</td>\n",
       "      <td>421.091981</td>\n",
       "      <td>2.122683e+09</td>\n",
       "      <td>33.839328</td>\n",
       "      <td>420.811703</td>\n",
       "    </tr>\n",
       "    <tr>\n",
       "      <th>min</th>\n",
       "      <td>8.400000e-01</td>\n",
       "      <td>1.000319e+09</td>\n",
       "      <td>8.400000e-01</td>\n",
       "      <td>1024.000000</td>\n",
       "      <td>120.000000</td>\n",
       "      <td>1.444823e+12</td>\n",
       "      <td>9.440400e+04</td>\n",
       "      <td>1.000000</td>\n",
       "      <td>1.369110e+12</td>\n",
       "      <td>0.000000</td>\n",
       "      <td>1.000000</td>\n",
       "    </tr>\n",
       "    <tr>\n",
       "      <th>25%</th>\n",
       "      <td>9.000000e+01</td>\n",
       "      <td>3.184875e+09</td>\n",
       "      <td>9.000000e+01</td>\n",
       "      <td>3590.000000</td>\n",
       "      <td>449.000000</td>\n",
       "      <td>1.446313e+12</td>\n",
       "      <td>1.925518e+06</td>\n",
       "      <td>1.000000</td>\n",
       "      <td>1.441144e+12</td>\n",
       "      <td>0.000000</td>\n",
       "      <td>1.000000</td>\n",
       "    </tr>\n",
       "    <tr>\n",
       "      <th>50%</th>\n",
       "      <td>2.500000e+02</td>\n",
       "      <td>5.512496e+09</td>\n",
       "      <td>2.500000e+02</td>\n",
       "      <td>6158.000000</td>\n",
       "      <td>850.000000</td>\n",
       "      <td>1.447643e+12</td>\n",
       "      <td>3.051112e+06</td>\n",
       "      <td>1.000000</td>\n",
       "      <td>1.442524e+12</td>\n",
       "      <td>0.000000</td>\n",
       "      <td>1.000000</td>\n",
       "    </tr>\n",
       "    <tr>\n",
       "      <th>75%</th>\n",
       "      <td>8.000000e+02</td>\n",
       "      <td>7.704930e+09</td>\n",
       "      <td>8.000000e+02</td>\n",
       "      <td>8216.000000</td>\n",
       "      <td>1500.000000</td>\n",
       "      <td>1.448930e+12</td>\n",
       "      <td>4.073615e+06</td>\n",
       "      <td>2.000000</td>\n",
       "      <td>1.443800e+12</td>\n",
       "      <td>0.000000</td>\n",
       "      <td>2.000000</td>\n",
       "    </tr>\n",
       "    <tr>\n",
       "      <th>max</th>\n",
       "      <td>2.222222e+09</td>\n",
       "      <td>9.999853e+09</td>\n",
       "      <td>2.222222e+09</td>\n",
       "      <td>9996.000000</td>\n",
       "      <td>12248.000000</td>\n",
       "      <td>1.730732e+12</td>\n",
       "      <td>5.126117e+06</td>\n",
       "      <td>9999.000000</td>\n",
       "      <td>1.444900e+12</td>\n",
       "      <td>6065.000000</td>\n",
       "      <td>9999.000000</td>\n",
       "    </tr>\n",
       "  </tbody>\n",
       "</table>\n",
       "</div>"
      ],
      "text/plain": [
       "         base_price     seller_id         price  official_store_id  \\\n",
       "count  9.000000e+04  9.000000e+04  9.000000e+04         745.000000   \n",
       "mean   5.781341e+04  5.487386e+09  5.781352e+04        5802.018792   \n",
       "std    9.089555e+06  2.587140e+09  9.089555e+06        2657.056302   \n",
       "min    8.400000e-01  1.000319e+09  8.400000e-01        1024.000000   \n",
       "25%    9.000000e+01  3.184875e+09  9.000000e+01        3590.000000   \n",
       "50%    2.500000e+02  5.512496e+09  2.500000e+02        6158.000000   \n",
       "75%    8.000000e+02  7.704930e+09  8.000000e+02        8216.000000   \n",
       "max    2.222222e+09  9.999853e+09  2.222222e+09        9996.000000   \n",
       "\n",
       "       original_price     stop_time  catalog_product_id  initial_quantity  \\\n",
       "count      130.000000  9.000000e+04        7.000000e+00      90000.000000   \n",
       "mean      1492.522308  1.447648e+12        2.895700e+06         34.957178   \n",
       "std       1954.905741  3.251040e+09        1.919771e+06        421.091981   \n",
       "min        120.000000  1.444823e+12        9.440400e+04          1.000000   \n",
       "25%        449.000000  1.446313e+12        1.925518e+06          1.000000   \n",
       "50%        850.000000  1.447643e+12        3.051112e+06          1.000000   \n",
       "75%       1500.000000  1.448930e+12        4.073615e+06          2.000000   \n",
       "max      12248.000000  1.730732e+12        5.126117e+06       9999.000000   \n",
       "\n",
       "         start_time  sold_quantity  available_quantity  \n",
       "count  9.000000e+04   90000.000000        90000.000000  \n",
       "mean   1.442383e+12       2.328044           34.700767  \n",
       "std    2.122683e+09      33.839328          420.811703  \n",
       "min    1.369110e+12       0.000000            1.000000  \n",
       "25%    1.441144e+12       0.000000            1.000000  \n",
       "50%    1.442524e+12       0.000000            1.000000  \n",
       "75%    1.443800e+12       0.000000            2.000000  \n",
       "max    1.444900e+12    6065.000000         9999.000000  "
      ]
     },
     "execution_count": 20,
     "metadata": {},
     "output_type": "execute_result"
    }
   ],
   "source": [
    "# Descriptive statistics for numeric features\n",
    "X_train_df.describe(include=['number'])"
   ]
  },
  {
   "cell_type": "code",
   "execution_count": 21,
   "id": "4356a069",
   "metadata": {},
   "outputs": [
    {
     "data": {
      "text/html": [
       "<div>\n",
       "<style scoped>\n",
       "    .dataframe tbody tr th:only-of-type {\n",
       "        vertical-align: middle;\n",
       "    }\n",
       "\n",
       "    .dataframe tbody tr th {\n",
       "        vertical-align: top;\n",
       "    }\n",
       "\n",
       "    .dataframe thead th {\n",
       "        text-align: right;\n",
       "    }\n",
       "</style>\n",
       "<table border=\"1\" class=\"dataframe\">\n",
       "  <thead>\n",
       "    <tr style=\"text-align: right;\">\n",
       "      <th></th>\n",
       "      <th>accepts_mercadopago</th>\n",
       "      <th>automatic_relist</th>\n",
       "    </tr>\n",
       "  </thead>\n",
       "  <tbody>\n",
       "    <tr>\n",
       "      <th>count</th>\n",
       "      <td>90000</td>\n",
       "      <td>90000</td>\n",
       "    </tr>\n",
       "    <tr>\n",
       "      <th>unique</th>\n",
       "      <td>2</td>\n",
       "      <td>2</td>\n",
       "    </tr>\n",
       "    <tr>\n",
       "      <th>top</th>\n",
       "      <td>True</td>\n",
       "      <td>False</td>\n",
       "    </tr>\n",
       "    <tr>\n",
       "      <th>freq</th>\n",
       "      <td>88018</td>\n",
       "      <td>85773</td>\n",
       "    </tr>\n",
       "  </tbody>\n",
       "</table>\n",
       "</div>"
      ],
      "text/plain": [
       "       accepts_mercadopago automatic_relist\n",
       "count                90000            90000\n",
       "unique                   2                2\n",
       "top                   True            False\n",
       "freq                 88018            85773"
      ]
     },
     "execution_count": 21,
     "metadata": {},
     "output_type": "execute_result"
    }
   ],
   "source": [
    "# Descriptive statistics for bool features\n",
    "X_train_df.describe(include=['bool'])"
   ]
  },
  {
   "cell_type": "markdown",
   "id": "c8e9edcf",
   "metadata": {},
   "source": [
    "**Observations:**\n",
    "\n",
    "* **Price Discrepancy & Outliers**: The `base_price` and `price` columns show extreme outliers and a heavily right-skewed distribution, where the majority of products are inexpensive, but a few are exceptionally high-priced.\n",
    "* **Seller Diversity**: The dataset covers a wide range of sellers.\n",
    "* **Lack of Official Store & Catalog Data**: Most products are not from official stores nor linked to specific catalog product IDs, indicating a diverse marketplace with many independent sellers and general listings.\n",
    "* **Sparse Discount Information**: `original_price` is rarely recorded, suggesting that discounts aren't a primary feature in the majority of these listings.\n",
    "* **Inventory & Sales Distribution**: While most listings have low initial and available quantities and sell few items, there are some high-volume listings that significantly impact the average `initial_quantity`, `sold_quantity`, and `available_quantity`. This suggests a \"power law\" distribution typical of sales data, where a small percentage of listings account for a large percentage of sales."
   ]
  },
  {
   "cell_type": "code",
   "execution_count": 22,
   "id": "7a2c8612",
   "metadata": {},
   "outputs": [
    {
     "data": {
      "text/html": [
       "<div>\n",
       "<style scoped>\n",
       "    .dataframe tbody tr th:only-of-type {\n",
       "        vertical-align: middle;\n",
       "    }\n",
       "\n",
       "    .dataframe tbody tr th {\n",
       "        vertical-align: top;\n",
       "    }\n",
       "\n",
       "    .dataframe thead th {\n",
       "        text-align: right;\n",
       "    }\n",
       "</style>\n",
       "<table border=\"1\" class=\"dataframe\">\n",
       "  <thead>\n",
       "    <tr style=\"text-align: right;\">\n",
       "      <th></th>\n",
       "      <th>seller_address</th>\n",
       "      <th>warranty</th>\n",
       "      <th>sub_status</th>\n",
       "      <th>condition</th>\n",
       "      <th>deal_ids</th>\n",
       "      <th>shipping</th>\n",
       "      <th>non_mercado_pago_payment_methods</th>\n",
       "      <th>variations</th>\n",
       "      <th>site_id</th>\n",
       "      <th>listing_type_id</th>\n",
       "      <th>attributes</th>\n",
       "      <th>buying_mode</th>\n",
       "      <th>tags</th>\n",
       "      <th>listing_source</th>\n",
       "      <th>parent_item_id</th>\n",
       "      <th>...</th>\n",
       "      <th>descriptions</th>\n",
       "      <th>last_updated</th>\n",
       "      <th>international_delivery_mode</th>\n",
       "      <th>pictures</th>\n",
       "      <th>id</th>\n",
       "      <th>differential_pricing</th>\n",
       "      <th>currency_id</th>\n",
       "      <th>thumbnail</th>\n",
       "      <th>title</th>\n",
       "      <th>date_created</th>\n",
       "      <th>secure_thumbnail</th>\n",
       "      <th>status</th>\n",
       "      <th>video_id</th>\n",
       "      <th>subtitle</th>\n",
       "      <th>permalink</th>\n",
       "    </tr>\n",
       "  </thead>\n",
       "  <tbody>\n",
       "    <tr>\n",
       "      <th>count</th>\n",
       "      <td>18000</td>\n",
       "      <td>7092</td>\n",
       "      <td>18000</td>\n",
       "      <td>18000</td>\n",
       "      <td>18000</td>\n",
       "      <td>18000</td>\n",
       "      <td>18000</td>\n",
       "      <td>18000</td>\n",
       "      <td>18000</td>\n",
       "      <td>18000</td>\n",
       "      <td>18000</td>\n",
       "      <td>18000</td>\n",
       "      <td>18000</td>\n",
       "      <td>18000</td>\n",
       "      <td>13852</td>\n",
       "      <td>...</td>\n",
       "      <td>18000</td>\n",
       "      <td>18000</td>\n",
       "      <td>18000</td>\n",
       "      <td>18000</td>\n",
       "      <td>18000</td>\n",
       "      <td>0</td>\n",
       "      <td>18000</td>\n",
       "      <td>18000</td>\n",
       "      <td>18000</td>\n",
       "      <td>18000</td>\n",
       "      <td>18000</td>\n",
       "      <td>18000</td>\n",
       "      <td>514</td>\n",
       "      <td>0</td>\n",
       "      <td>18000</td>\n",
       "    </tr>\n",
       "    <tr>\n",
       "      <th>unique</th>\n",
       "      <td>1729</td>\n",
       "      <td>2819</td>\n",
       "      <td>4</td>\n",
       "      <td>2</td>\n",
       "      <td>16</td>\n",
       "      <td>23</td>\n",
       "      <td>88</td>\n",
       "      <td>1543</td>\n",
       "      <td>1</td>\n",
       "      <td>7</td>\n",
       "      <td>650</td>\n",
       "      <td>3</td>\n",
       "      <td>7</td>\n",
       "      <td>1</td>\n",
       "      <td>13852</td>\n",
       "      <td>...</td>\n",
       "      <td>17513</td>\n",
       "      <td>17831</td>\n",
       "      <td>1</td>\n",
       "      <td>17854</td>\n",
       "      <td>18000</td>\n",
       "      <td>0</td>\n",
       "      <td>2</td>\n",
       "      <td>17846</td>\n",
       "      <td>17906</td>\n",
       "      <td>17443</td>\n",
       "      <td>17846</td>\n",
       "      <td>3</td>\n",
       "      <td>401</td>\n",
       "      <td>0</td>\n",
       "      <td>18000</td>\n",
       "    </tr>\n",
       "    <tr>\n",
       "      <th>top</th>\n",
       "      <td>{'country': {'name': 'Argentina', 'id': 'AR'},...</td>\n",
       "      <td>Sí</td>\n",
       "      <td>[]</td>\n",
       "      <td>new</td>\n",
       "      <td>[]</td>\n",
       "      <td>{'local_pick_up': True, 'methods': [], 'tags':...</td>\n",
       "      <td>[]</td>\n",
       "      <td>[]</td>\n",
       "      <td>MLA</td>\n",
       "      <td>bronze</td>\n",
       "      <td>[]</td>\n",
       "      <td>buy_it_now</td>\n",
       "      <td>[dragged_bids_and_visits]</td>\n",
       "      <td></td>\n",
       "      <td>MLA8382557405</td>\n",
       "      <td>...</td>\n",
       "      <td>[]</td>\n",
       "      <td>2015-09-18T13:23:33.000Z</td>\n",
       "      <td>none</td>\n",
       "      <td>[]</td>\n",
       "      <td>MLA5580061422</td>\n",
       "      <td>NaN</td>\n",
       "      <td>ARS</td>\n",
       "      <td></td>\n",
       "      <td>50 Suspensores Para Short De Baño Tela Calada</td>\n",
       "      <td>2015-09-16T22:27:19.000Z</td>\n",
       "      <td></td>\n",
       "      <td>active</td>\n",
       "      <td>QQNfOicE_o8</td>\n",
       "      <td>NaN</td>\n",
       "      <td>http://articulo.mercadolibre.com.ar/MLA5580061...</td>\n",
       "    </tr>\n",
       "    <tr>\n",
       "      <th>freq</th>\n",
       "      <td>746</td>\n",
       "      <td>1039</td>\n",
       "      <td>17855</td>\n",
       "      <td>9613</td>\n",
       "      <td>17962</td>\n",
       "      <td>7593</td>\n",
       "      <td>5598</td>\n",
       "      <td>16458</td>\n",
       "      <td>18000</td>\n",
       "      <td>11382</td>\n",
       "      <td>15729</td>\n",
       "      <td>17487</td>\n",
       "      <td>13041</td>\n",
       "      <td>18000</td>\n",
       "      <td>1</td>\n",
       "      <td>...</td>\n",
       "      <td>488</td>\n",
       "      <td>3</td>\n",
       "      <td>18000</td>\n",
       "      <td>147</td>\n",
       "      <td>1</td>\n",
       "      <td>NaN</td>\n",
       "      <td>17912</td>\n",
       "      <td>147</td>\n",
       "      <td>14</td>\n",
       "      <td>4</td>\n",
       "      <td>147</td>\n",
       "      <td>17243</td>\n",
       "      <td>54</td>\n",
       "      <td>NaN</td>\n",
       "      <td>1</td>\n",
       "    </tr>\n",
       "  </tbody>\n",
       "</table>\n",
       "<p>4 rows × 32 columns</p>\n",
       "</div>"
      ],
      "text/plain": [
       "                                           seller_address warranty sub_status  \\\n",
       "count                                               18000     7092      18000   \n",
       "unique                                               1729     2819          4   \n",
       "top     {'country': {'name': 'Argentina', 'id': 'AR'},...       Sí         []   \n",
       "freq                                                  746     1039      17855   \n",
       "\n",
       "       condition deal_ids                                           shipping  \\\n",
       "count      18000    18000                                              18000   \n",
       "unique         2       16                                                 23   \n",
       "top          new       []  {'local_pick_up': True, 'methods': [], 'tags':...   \n",
       "freq        9613    17962                                               7593   \n",
       "\n",
       "       non_mercado_pago_payment_methods variations site_id listing_type_id  \\\n",
       "count                             18000      18000   18000           18000   \n",
       "unique                               88       1543       1               7   \n",
       "top                                  []         []     MLA          bronze   \n",
       "freq                               5598      16458   18000           11382   \n",
       "\n",
       "       attributes buying_mode                       tags listing_source  \\\n",
       "count       18000       18000                      18000          18000   \n",
       "unique        650           3                          7              1   \n",
       "top            []  buy_it_now  [dragged_bids_and_visits]                  \n",
       "freq        15729       17487                      13041          18000   \n",
       "\n",
       "       parent_item_id  ... descriptions              last_updated  \\\n",
       "count           13852  ...        18000                     18000   \n",
       "unique          13852  ...        17513                     17831   \n",
       "top     MLA8382557405  ...           []  2015-09-18T13:23:33.000Z   \n",
       "freq                1  ...          488                         3   \n",
       "\n",
       "       international_delivery_mode pictures             id  \\\n",
       "count                        18000    18000          18000   \n",
       "unique                           1    17854          18000   \n",
       "top                           none       []  MLA5580061422   \n",
       "freq                         18000      147              1   \n",
       "\n",
       "       differential_pricing currency_id thumbnail  \\\n",
       "count                     0       18000     18000   \n",
       "unique                    0           2     17846   \n",
       "top                     NaN         ARS             \n",
       "freq                    NaN       17912       147   \n",
       "\n",
       "                                                title  \\\n",
       "count                                           18000   \n",
       "unique                                          17906   \n",
       "top     50 Suspensores Para Short De Baño Tela Calada   \n",
       "freq                                               14   \n",
       "\n",
       "                    date_created secure_thumbnail  status     video_id  \\\n",
       "count                      18000            18000   18000          514   \n",
       "unique                     17443            17846       3          401   \n",
       "top     2015-09-16T22:27:19.000Z                   active  QQNfOicE_o8   \n",
       "freq                           4              147   17243           54   \n",
       "\n",
       "       subtitle                                          permalink  \n",
       "count         0                                              18000  \n",
       "unique        0                                              18000  \n",
       "top         NaN  http://articulo.mercadolibre.com.ar/MLA5580061...  \n",
       "freq        NaN                                                  1  \n",
       "\n",
       "[4 rows x 32 columns]"
      ]
     },
     "execution_count": 22,
     "metadata": {},
     "output_type": "execute_result"
    }
   ],
   "source": [
    "# Descriptive statistics for string features\n",
    "# NOTE: Due to the large number of columns and rows, we will sample a subset of the data\n",
    "X_train_df.sample(int(len(X_train_df)*0.2)).describe(include=['object']) # pd.describe() for 'objects' is a time consuming process"
   ]
  },
  {
   "cell_type": "code",
   "execution_count": 23,
   "id": "fdd598fb",
   "metadata": {},
   "outputs": [
    {
     "data": {
      "text/plain": [
       "array(['active', 'paused', 'closed', 'not_yet_active'], dtype=object)"
      ]
     },
     "execution_count": 23,
     "metadata": {},
     "output_type": "execute_result"
    }
   ],
   "source": [
    "X_train_df['status'].unique()"
   ]
  },
  {
   "cell_type": "code",
   "execution_count": 24,
   "id": "8b7095bd",
   "metadata": {},
   "outputs": [
    {
     "data": {
      "text/plain": [
       "[{'country': {'name': 'Argentina', 'id': 'AR'},\n",
       "  'state': {'name': 'Capital Federal', 'id': 'AR-C'},\n",
       "  'city': {'name': 'Caballito', 'id': 'TUxBQkNBQjM4MDda'}}]"
      ]
     },
     "execution_count": 24,
     "metadata": {},
     "output_type": "execute_result"
    }
   ],
   "source": [
    "X_train_df['seller_address'].sample().to_list()"
   ]
  },
  {
   "cell_type": "code",
   "execution_count": 25,
   "id": "4ff42d13",
   "metadata": {},
   "outputs": [
    {
     "data": {
      "text/plain": [
       "count      90000\n",
       "unique         4\n",
       "top       active\n",
       "freq       86116\n",
       "Name: status, dtype: object"
      ]
     },
     "execution_count": 25,
     "metadata": {},
     "output_type": "execute_result"
    }
   ],
   "source": [
    "X_train_df['status'].describe()"
   ]
  },
  {
   "cell_type": "markdown",
   "id": "77105349",
   "metadata": {},
   "source": [
    "### Unique values"
   ]
  },
  {
   "cell_type": "code",
   "execution_count": 26,
   "id": "33e6820c",
   "metadata": {},
   "outputs": [],
   "source": [
    "def create_unique_value_lists(df: pd.DataFrame) -> dict:\n",
    "    \"\"\"\n",
    "    Creates a dictionary of unique values for each column in a DataFrame,\n",
    "    but only if the number of unique values in a column is less than 16.\n",
    "\n",
    "    Args:\n",
    "        df: The input pandas DataFrame.\n",
    "\n",
    "    Returns:\n",
    "        A dictionary where keys are column names and values are lists of\n",
    "        unique values for those columns, subject to the condition.\n",
    "    \"\"\"\n",
    "    unique_values_dict = {}\n",
    "    for column in df.columns:\n",
    "        # Check if the column contains dictionaries or other unhashable types\n",
    "        # and convert them to strings for unique() to work.\n",
    "        # This is a robust way to handle mixed types or potential unhashable objects.\n",
    "        if df[column].apply(lambda x: isinstance(x, (dict, list, set))).any():\n",
    "            unique_vals = df[column].astype(str).unique()\n",
    "        else:\n",
    "            unique_vals = df[column].unique()\n",
    "\n",
    "        if len(unique_vals) < 16:\n",
    "            unique_values_dict[column] = unique_vals.tolist()\n",
    "    return unique_values_dict"
   ]
  },
  {
   "cell_type": "code",
   "execution_count": 27,
   "id": "514042ab",
   "metadata": {},
   "outputs": [
    {
     "data": {
      "text/plain": [
       "array([''], dtype=object)"
      ]
     },
     "execution_count": 27,
     "metadata": {},
     "output_type": "execute_result"
    }
   ],
   "source": [
    "X_train_df['listing_source'].unique()"
   ]
  },
  {
   "cell_type": "code",
   "execution_count": 28,
   "id": "cd02ee85",
   "metadata": {},
   "outputs": [
    {
     "name": "stdout",
     "output_type": "stream",
     "text": [
      "Unique values (with less than 16 possibilities):\n",
      "Column 'site_id': ['MLA']\n",
      "Column 'listing_source': ['']\n",
      "Column 'coverage_areas': ['[]']\n",
      "Column 'international_delivery_mode': ['none']\n",
      "Column 'differential_pricing': [None]\n",
      "Column 'subtitle': [None]\n",
      "Column 'condition': ['new', 'used']\n",
      "Column 'accepts_mercadopago': [True, False]\n",
      "Column 'currency_id': ['ARS', 'USD']\n",
      "Column 'automatic_relist': [False, True]\n",
      "Column 'buying_mode': ['buy_it_now', 'classified', 'auction']\n",
      "Column 'sub_status': ['[]', \"['suspended']\", \"['expired']\", \"['deleted']\"]\n",
      "Column 'status': ['active', 'paused', 'closed', 'not_yet_active']\n",
      "Column 'listing_type_id': ['bronze', 'silver', 'free', 'gold_special', 'gold', 'gold_premium', 'gold_pro']\n",
      "Column 'tags': [\"['dragged_bids_and_visits']\", '[]', \"['good_quality_thumbnail', 'dragged_bids_and_visits']\", \"['good_quality_thumbnail']\", \"['dragged_visits']\", \"['dragged_visits', 'free_relist']\", \"['poor_quality_thumbnail', 'dragged_bids_and_visits']\", \"['poor_quality_thumbnail']\"]\n",
      "Column 'catalog_product_id': [nan, 800744.0, 5093232.0, 3050291.0, 5126117.0, 94404.0, 3051112.0, 3053998.0]\n"
     ]
    }
   ],
   "source": [
    "# Get unique values for each column with less than 16 unique values\n",
    "filtered_unique_values = create_unique_value_lists(X_train_df)\n",
    "filtered_unique_values = sorted(filtered_unique_values.items(), key=lambda x: len(x[1]), reverse=False)\n",
    "\n",
    "print(\"Unique values (with less than 16 possibilities):\")\n",
    "for col, values in filtered_unique_values:\n",
    "    print(f\"Column '{col}': {values}\")"
   ]
  },
  {
   "cell_type": "code",
   "execution_count": 29,
   "id": "4040cb08",
   "metadata": {},
   "outputs": [
    {
     "data": {
      "text/plain": [
       "tags\n",
       "[dragged_bids_and_visits]                            65315\n",
       "[]                                                   22412\n",
       "[good_quality_thumbnail, dragged_bids_and_visits]     1191\n",
       "[dragged_visits]                                       464\n",
       "[good_quality_thumbnail]                               346\n",
       "[dragged_visits, free_relist]                          259\n",
       "[poor_quality_thumbnail, dragged_bids_and_visits]       10\n",
       "[poor_quality_thumbnail]                                 3\n",
       "Name: count, dtype: int64"
      ]
     },
     "execution_count": 29,
     "metadata": {},
     "output_type": "execute_result"
    }
   ],
   "source": [
    "X_train_df['tags'].value_counts()"
   ]
  },
  {
   "cell_type": "markdown",
   "id": "b7bf3d1c",
   "metadata": {},
   "source": [
    "**Observations:**\n",
    "- It looks like `tags` work as a list of strings that specify every tag that applies to that item.\n",
    "- It appears that `site_id` is always 'MLA'.\n",
    "- Some are binary features: `condition`, `currency_id`, `automatic_relist`\n",
    "- `catalog_product_id` is almost empty (just a few items with data)."
   ]
  },
  {
   "cell_type": "markdown",
   "id": "7a412dba",
   "metadata": {},
   "source": [
    "For this dataset, `site_id` doesn't add any information because it's 'MLA' value for every item. Therefore, it won't be used."
   ]
  },
  {
   "cell_type": "code",
   "execution_count": 30,
   "id": "2c51ba1b",
   "metadata": {},
   "outputs": [
    {
     "data": {
      "text/plain": [
       "count     90000\n",
       "unique        1\n",
       "top         MLA\n",
       "freq      90000\n",
       "Name: site_id, dtype: object"
      ]
     },
     "execution_count": 30,
     "metadata": {},
     "output_type": "execute_result"
    }
   ],
   "source": [
    "X_train_df['site_id'].describe()"
   ]
  },
  {
   "cell_type": "markdown",
   "id": "d258e365",
   "metadata": {},
   "source": [
    "### Outliers"
   ]
  },
  {
   "cell_type": "markdown",
   "id": "fc77e802",
   "metadata": {},
   "source": [
    "### Correlation"
   ]
  },
  {
   "cell_type": "code",
   "execution_count": 31,
   "id": "3261c98f",
   "metadata": {},
   "outputs": [
    {
     "name": "stdout",
     "output_type": "stream",
     "text": [
      "Numerical features for filtering:\n",
      "['base_price', 'seller_id', 'price', 'official_store_id', 'original_price', 'stop_time', 'catalog_product_id', 'initial_quantity', 'start_time', 'sold_quantity', 'available_quantity']\n"
     ]
    }
   ],
   "source": [
    "# Get the numerical columns\n",
    "numerical_features = X_train_df.select_dtypes(include=['number']).columns.tolist()\n",
    "\n",
    "print(\"Numerical features for filtering:\")\n",
    "print(numerical_features)"
   ]
  },
  {
   "cell_type": "code",
   "execution_count": 32,
   "id": "6cf190dd",
   "metadata": {},
   "outputs": [
    {
     "data": {
      "image/png": "[encoded data removed]",
      "text/plain": [
       "<Figure size 1000x800 with 2 Axes>"
      ]
     },
     "metadata": {},
     "output_type": "display_data"
    }
   ],
   "source": [
    "# Compute correlation matrix for numerical features\n",
    "corr_matrix = X_train_df[numerical_features].corr()\n",
    "\n",
    "# Plot correlation heatmap\n",
    "plt.figure(figsize=(10, 8))\n",
    "sns.heatmap(corr_matrix, annot=True, cmap='coolwarm', fmt='.2f')\n",
    "plt.title('Correlation Matrix of Numerical Features')\n",
    "plt.show()"
   ]
  },
  {
   "cell_type": "markdown",
   "id": "231d3f3d",
   "metadata": {},
   "source": [
    "**Observations:**\n",
    "- ***Linear correlation:***\n",
    "    - best_price/price/original_price\n",
    "    - initial_quantity/available_quantity\n",
    "- ***Positive correlation:***\n",
    "    1. catalog_product_id/seller_id\n",
    "    1. catalog_product_id/initial_quantity/sold_quantity/available_quantity\n",
    "    1. start_time/stop_time\n",
    "    1. original_price/initial_quantity/available_quantity/sold_quantity\n",
    "    1. start_time/catalog_product_id\n",
    "- ***Negative correlation:***\n",
    "    1. catalog_product_id/price/base_price\n",
    "    1. official_store_id/initial_quantity/available_quantity\n",
    "    1. official_store_id/original_price"
   ]
  },
  {
   "cell_type": "markdown",
   "id": "99d3a8f0",
   "metadata": {},
   "source": [
    "**Insights:**\n",
    "- High correlation between different price & quantity variables is expectable.\n",
    "- Both `catalog_product_id` & `official_store_id` have a strong negative correlation with price & quantity variables. However, these features had a lot of null values, then they won't be useful for inference.\n",
    "\n"
   ]
  },
  {
   "cell_type": "markdown",
   "id": "03bbfd96",
   "metadata": {},
   "source": [
    "## 1.2 Target variable"
   ]
  },
  {
   "cell_type": "code",
   "execution_count": 33,
   "id": "e928cf8d",
   "metadata": {},
   "outputs": [
    {
     "data": {
      "text/plain": [
       "count     90000\n",
       "unique        2\n",
       "top         new\n",
       "freq      48352\n",
       "dtype: object"
      ]
     },
     "execution_count": 33,
     "metadata": {},
     "output_type": "execute_result"
    }
   ],
   "source": [
    "# Target variable distribution\n",
    "y_train_df.describe()"
   ]
  },
  {
   "cell_type": "code",
   "execution_count": 34,
   "id": "e010d8f0",
   "metadata": {},
   "outputs": [
    {
     "data": {
      "text/plain": [
       "count     90000\n",
       "unique        2\n",
       "top         new\n",
       "freq      48352\n",
       "Name: condition, dtype: object"
      ]
     },
     "execution_count": 34,
     "metadata": {},
     "output_type": "execute_result"
    }
   ],
   "source": [
    "X_train_df['condition'].describe()"
   ]
  },
  {
   "cell_type": "code",
   "execution_count": 35,
   "id": "c8c2bb6c",
   "metadata": {},
   "outputs": [
    {
     "name": "stdout",
     "output_type": "stream",
     "text": [
      "No mismatches detected between 'condition' and target variable.\n"
     ]
    }
   ],
   "source": [
    "detected = False\n",
    "for i, row in enumerate(X_train_df['condition']):\n",
    "    if row == y_train_df.iloc[i]:\n",
    "        pass\n",
    "    else:\n",
    "        print(f\"Mismatch at index {i}:\", row)\n",
    "        detected = True\n",
    "if not detected:\n",
    "    print(\"No mismatches detected between 'condition' and target variable.\")"
   ]
  },
  {
   "cell_type": "code",
   "execution_count": 36,
   "id": "8f6ff6cc",
   "metadata": {},
   "outputs": [
    {
     "data": {
      "text/plain": [
       "Index(['seller_address', 'warranty', 'sub_status', 'deal_ids', 'base_price',\n",
       "       'shipping', 'non_mercado_pago_payment_methods', 'seller_id',\n",
       "       'variations', 'site_id', 'listing_type_id', 'price', 'attributes',\n",
       "       'buying_mode', 'tags', 'listing_source', 'parent_item_id',\n",
       "       'coverage_areas', 'category_id', 'descriptions', 'last_updated',\n",
       "       'international_delivery_mode', 'pictures', 'id', 'official_store_id',\n",
       "       'differential_pricing', 'accepts_mercadopago', 'original_price',\n",
       "       'currency_id', 'thumbnail', 'title', 'automatic_relist', 'date_created',\n",
       "       'secure_thumbnail', 'stop_time', 'status', 'video_id',\n",
       "       'catalog_product_id', 'subtitle', 'initial_quantity', 'start_time',\n",
       "       'permalink', 'sold_quantity', 'available_quantity'],\n",
       "      dtype='object')"
      ]
     },
     "execution_count": 36,
     "metadata": {},
     "output_type": "execute_result"
    }
   ],
   "source": [
    "X_test_df.columns"
   ]
  },
  {
   "cell_type": "markdown",
   "id": "97a6af52",
   "metadata": {},
   "source": [
    "As we verified, the column `condition` is effectively the target value. We will remove it from dataset."
   ]
  },
  {
   "cell_type": "markdown",
   "id": "3b3bc812",
   "metadata": {},
   "source": [
    "Actually, it should've been removed by the `new_or_used.py` script, but it seems that feature was forgotten for the test split.\n",
    "\n",
    "The `build_dataset()` function should be fixed to delete it previously."
   ]
  },
  {
   "cell_type": "code",
   "execution_count": 37,
   "id": "7a338c16",
   "metadata": {},
   "outputs": [],
   "source": [
    "# Remove 'condition' column as it is the target variable\n",
    "del X_train_df['condition']"
   ]
  },
  {
   "cell_type": "code",
   "execution_count": 38,
   "id": "d3cb0c5e",
   "metadata": {},
   "outputs": [
    {
     "data": {
      "text/plain": [
       "Index(['seller_address', 'warranty', 'sub_status', 'deal_ids', 'base_price',\n",
       "       'shipping', 'non_mercado_pago_payment_methods', 'seller_id',\n",
       "       'variations', 'site_id', 'listing_type_id', 'price', 'attributes',\n",
       "       'buying_mode', 'tags', 'listing_source', 'parent_item_id',\n",
       "       'coverage_areas', 'category_id', 'descriptions', 'last_updated',\n",
       "       'international_delivery_mode', 'pictures', 'id', 'official_store_id',\n",
       "       'differential_pricing', 'accepts_mercadopago', 'original_price',\n",
       "       'currency_id', 'thumbnail', 'title', 'automatic_relist', 'date_created',\n",
       "       'secure_thumbnail', 'stop_time', 'status', 'video_id',\n",
       "       'catalog_product_id', 'subtitle', 'initial_quantity', 'start_time',\n",
       "       'permalink', 'sold_quantity', 'available_quantity'],\n",
       "      dtype='object')"
      ]
     },
     "execution_count": 38,
     "metadata": {},
     "output_type": "execute_result"
    }
   ],
   "source": [
    "X_train_df.columns"
   ]
  },
  {
   "cell_type": "markdown",
   "id": "1fd3a955",
   "metadata": {},
   "source": [
    "## 1.3 Visualization"
   ]
  },
  {
   "cell_type": "code",
   "execution_count": 39,
   "id": "13104511",
   "metadata": {},
   "outputs": [
    {
     "data": {
      "image/png": "[encoded data removed]",
      "text/plain": [
       "<Figure size 1400x600 with 2 Axes>"
      ]
     },
     "metadata": {},
     "output_type": "display_data"
    }
   ],
   "source": [
    "sns.set_style(\"whitegrid\")\n",
    "plt.figure(figsize=(14, 6))\n",
    "\n",
    "# --- Plot for 'price' ---\n",
    "plt.subplot(1, 2, 1) # This creates a 1-row, 2-column grid and selects the 1st plot\n",
    "sns.violinplot(\n",
    "    x=y_train_df,\n",
    "    y='price',\n",
    "    data=X_train_df,\n",
    "    hue=y_train_df,\n",
    "    palette='viridis',\n",
    "    inner='quartile'    # Displays quartiles within the violins for more detail\n",
    ")\n",
    "plt.title('Distribution of Price by Condition')\n",
    "plt.xlabel('Condition')\n",
    "plt.ylabel('Price')\n",
    "\n",
    "# --- Plot for 'initial_quantity' ---\n",
    "plt.subplot(1, 2, 2)\n",
    "sns.violinplot(\n",
    "    x=y_train_df,\n",
    "    y='initial_quantity',\n",
    "    data=X_train_df,\n",
    "    hue=y_train_df,\n",
    "    palette='magma',\n",
    "    inner='quartile'\n",
    ")\n",
    "plt.title('Distribution of Initial Quantity by Condition')\n",
    "plt.xlabel('Condition')\n",
    "plt.ylabel('Initial Quantity')\n",
    "\n",
    "plt.tight_layout()\n",
    "\n",
    "# Save the plot to a file\n",
    "#plt.savefig('two_sided_violin_plots.png')\n",
    "\n",
    "plt.show()"
   ]
  },
  {
   "cell_type": "markdown",
   "id": "478e38b6",
   "metadata": {},
   "source": [
    "Both features are heavily skewed, with many outliers on the upper side.\n",
    "\n",
    "What's more, `price` also shows some imbalance between classes."
   ]
  },
  {
   "cell_type": "markdown",
   "id": "b3513fa1",
   "metadata": {},
   "source": [
    "# 2. Feature Engineering"
   ]
  },
  {
   "cell_type": "code",
   "execution_count": 40,
   "id": "ba63269e",
   "metadata": {},
   "outputs": [],
   "source": [
    "X_train_df = pd.DataFrame(X_train)\n",
    "X_test_df = pd.DataFrame(X_test)\n",
    "y_train_df = pd.Series(y_train)\n",
    "y_test_df = pd.Series(y_test)"
   ]
  },
  {
   "cell_type": "code",
   "execution_count": 41,
   "id": "9cdf398e",
   "metadata": {},
   "outputs": [],
   "source": [
    "# Remove 'condition' column as it is the target variable\n",
    "del X_train_df['condition']"
   ]
  },
  {
   "cell_type": "markdown",
   "id": "4eefdb7d",
   "metadata": {},
   "source": [
    "## Removing empty values"
   ]
  },
  {
   "cell_type": "code",
   "execution_count": 42,
   "id": "800d4d48",
   "metadata": {},
   "outputs": [
    {
     "data": {
      "text/html": [
       "<div>\n",
       "<style scoped>\n",
       "    .dataframe tbody tr th:only-of-type {\n",
       "        vertical-align: middle;\n",
       "    }\n",
       "\n",
       "    .dataframe tbody tr th {\n",
       "        vertical-align: top;\n",
       "    }\n",
       "\n",
       "    .dataframe thead th {\n",
       "        text-align: right;\n",
       "    }\n",
       "</style>\n",
       "<table border=\"1\" class=\"dataframe\">\n",
       "  <thead>\n",
       "    <tr style=\"text-align: right;\">\n",
       "      <th></th>\n",
       "      <th>differential_pricing</th>\n",
       "      <th>subtitle</th>\n",
       "      <th>listing_source</th>\n",
       "      <th>coverage_areas</th>\n",
       "      <th>international_delivery_mode</th>\n",
       "    </tr>\n",
       "  </thead>\n",
       "  <tbody>\n",
       "    <tr>\n",
       "      <th>count</th>\n",
       "      <td>0</td>\n",
       "      <td>0</td>\n",
       "      <td>90000</td>\n",
       "      <td>90000</td>\n",
       "      <td>90000</td>\n",
       "    </tr>\n",
       "    <tr>\n",
       "      <th>unique</th>\n",
       "      <td>0</td>\n",
       "      <td>0</td>\n",
       "      <td>1</td>\n",
       "      <td>1</td>\n",
       "      <td>1</td>\n",
       "    </tr>\n",
       "    <tr>\n",
       "      <th>top</th>\n",
       "      <td>NaN</td>\n",
       "      <td>NaN</td>\n",
       "      <td></td>\n",
       "      <td>[]</td>\n",
       "      <td>none</td>\n",
       "    </tr>\n",
       "    <tr>\n",
       "      <th>freq</th>\n",
       "      <td>NaN</td>\n",
       "      <td>NaN</td>\n",
       "      <td>90000</td>\n",
       "      <td>90000</td>\n",
       "      <td>90000</td>\n",
       "    </tr>\n",
       "  </tbody>\n",
       "</table>\n",
       "</div>"
      ],
      "text/plain": [
       "       differential_pricing subtitle listing_source coverage_areas  \\\n",
       "count                     0        0          90000          90000   \n",
       "unique                    0        0              1              1   \n",
       "top                     NaN      NaN                            []   \n",
       "freq                    NaN      NaN          90000          90000   \n",
       "\n",
       "       international_delivery_mode  \n",
       "count                        90000  \n",
       "unique                           1  \n",
       "top                           none  \n",
       "freq                         90000  "
      ]
     },
     "execution_count": 42,
     "metadata": {},
     "output_type": "execute_result"
    }
   ],
   "source": [
    "empty_columns = ['differential_pricing', 'subtitle', 'listing_source', 'coverage_areas','international_delivery_mode']\n",
    "X_train_df[empty_columns].describe()"
   ]
  },
  {
   "cell_type": "code",
   "execution_count": 43,
   "id": "541b490b",
   "metadata": {},
   "outputs": [],
   "source": [
    "# Remove empty columns\n",
    "X_train_df.drop(columns=empty_columns, inplace=True)\n",
    "y_train_df.drop(columns=empty_columns, inplace=True)\n",
    "\n",
    "# Apply the same transformation to the test set\n",
    "X_test_df.drop(columns=empty_columns, inplace=True)\n",
    "y_test_df.drop(columns=empty_columns, inplace=True)"
   ]
  },
  {
   "cell_type": "markdown",
   "id": "068b29e3",
   "metadata": {},
   "source": [
    "## Missing Values handling\n",
    "- Nulls: `parent_item_id`, `warranty`\n",
    "- empty list ('[]'): `sub_status`, `tags`"
   ]
  },
  {
   "cell_type": "markdown",
   "id": "64101fbf",
   "metadata": {},
   "source": [
    "### Nulls\n",
    "We have previously detected missing values for `parent_item_id` and `warranty`, but these features won't be taken in consideration, so handling missing values is no needed by now."
   ]
  },
  {
   "cell_type": "markdown",
   "id": "f36562e6",
   "metadata": {},
   "source": [
    "### Empty lists\n",
    "Some features has '[]' values. Let's analyze how to handle it."
   ]
  },
  {
   "cell_type": "code",
   "execution_count": 44,
   "id": "9fcb7c12",
   "metadata": {},
   "outputs": [
    {
     "data": {
      "text/plain": [
       "array(['[]', \"['suspended']\", \"['expired']\", \"['deleted']\"], dtype=object)"
      ]
     },
     "execution_count": 44,
     "metadata": {},
     "output_type": "execute_result"
    }
   ],
   "source": [
    "X_train_df['sub_status'].astype(str).unique()"
   ]
  },
  {
   "cell_type": "markdown",
   "id": "c84ee897",
   "metadata": {},
   "source": [
    "This data could add noise to our model because it realtes to not-active items, so those would be deleted and then `sub_status` column will be also removed."
   ]
  },
  {
   "cell_type": "code",
   "execution_count": 45,
   "id": "59351d4d",
   "metadata": {},
   "outputs": [
    {
     "name": "stdout",
     "output_type": "stream",
     "text": [
      "Removed 891 items (-0.99%) with 'sub_status' data.\n"
     ]
    }
   ],
   "source": [
    "# Remove items where 'sub_status' contains any data (not active items)\n",
    "original = len(X_train_df)\n",
    "mask = X_train_df['sub_status'].astype(str) == '[]'\n",
    "X_train_df = X_train_df[mask]\n",
    "y_train_df = y_train_df[mask]\n",
    "cleaned = len(X_train_df)\n",
    "print(f\"Removed {original - cleaned} items ({cleaned/original-1:.2%}) with 'sub_status' data.\")"
   ]
  },
  {
   "cell_type": "code",
   "execution_count": 46,
   "id": "5925d7f6",
   "metadata": {},
   "outputs": [
    {
     "name": "stdout",
     "output_type": "stream",
     "text": [
      "Removed 95 items (-0.95%) with 'sub_status' data (test split).\n"
     ]
    }
   ],
   "source": [
    "# Apply the same transformation to the test set\n",
    "original = len(X_test_df)\n",
    "mask = X_test_df['sub_status'].astype(str) == '[]'\n",
    "X_test_df = X_test_df[mask]\n",
    "y_test_df = y_test_df[mask]\n",
    "cleaned = len(X_test_df)\n",
    "print(f\"Removed {original - cleaned} items ({cleaned/original-1:.2%}) with 'sub_status' data (test split).\")"
   ]
  },
  {
   "cell_type": "code",
   "execution_count": 47,
   "id": "922eb2f0",
   "metadata": {},
   "outputs": [
    {
     "data": {
      "text/plain": [
       "array(['[]'], dtype=object)"
      ]
     },
     "execution_count": 47,
     "metadata": {},
     "output_type": "execute_result"
    }
   ],
   "source": [
    "# Double check if values were removed correctly\n",
    "X_train_df['sub_status'].astype(str).unique()"
   ]
  },
  {
   "cell_type": "code",
   "execution_count": 48,
   "id": "2c25ee29",
   "metadata": {},
   "outputs": [],
   "source": [
    "# 'sub_status' is no longer needed, so we can drop it\n",
    "X_train_df.drop(columns=['sub_status'], inplace=True)\n",
    "X_test_df.drop(columns=['sub_status'], inplace=True)\n",
    "\n",
    "X_train_df.reset_index(drop=True, inplace=True)\n",
    "X_test_df.reset_index(drop=True, inplace=True)"
   ]
  },
  {
   "cell_type": "markdown",
   "id": "463b5e37",
   "metadata": {},
   "source": [
    "## Outliers handling"
   ]
  },
  {
   "cell_type": "code",
   "execution_count": 49,
   "id": "11f428e2",
   "metadata": {},
   "outputs": [],
   "source": [
    "def remove_outliers_iqr(data: list[pd.DataFrame], column: str, iqr_factor: float = 1.5) -> list[pd.DataFrame]:\n",
    "    \"\"\"\n",
    "    Removes outliers from a specified column in a DataFrame using the IQR method.\n",
    "\n",
    "    Args:\n",
    "        df (pd.DataFrame): The input DataFrame.\n",
    "        column (str): The name of the numerical column to remove outliers from.\n",
    "        iqr_factor (float): The multiplier for the IQR to define outlier bounds (default is 1.5).\n",
    "\n",
    "    Returns:\n",
    "        list[pd.DataFrame]: A list with new DataFrames for every split with outliers removed from the specified column.\n",
    "    \"\"\"\n",
    "    df_train = data[0]\n",
    "    df_test = data[1]\n",
    "\n",
    "    if column not in df_train.columns:\n",
    "        raise ValueError(f\"Column '{column}' not found in DataFrame.\")\n",
    "    \n",
    "    Q1 = df_train[column].quantile(0.25)\n",
    "    Q3 = df_train[column].quantile(0.75)\n",
    "    IQR = Q3 - Q1\n",
    "\n",
    "    lower_bound = Q1 - iqr_factor * IQR\n",
    "    upper_bound = Q3 + iqr_factor * IQR\n",
    "\n",
    "    # Filter out the outliers\n",
    "    df_train_cleaned = df_train[(df_train[column] >= lower_bound) & (df_train[column] <= upper_bound)]\n",
    "    df_test_cleaned = df_test[(df_test[column] >= lower_bound) & (df_test[column] <= upper_bound)]\n",
    "\n",
    "    print(f\"Outliers removed from '{column}' using IQR method (factor: {iqr_factor}):\")\n",
    "    print(\"\\nTRAIN SPLIT:\")\n",
    "    print(f\"  Original rows: {len(df_train)}\")\n",
    "    print(f\"  Rows after outlier removal: {len(df_train_cleaned)}\")\n",
    "    print(f\"  Outliers removed: {len(df_train) - len(df_train_cleaned)}\")\n",
    "\n",
    "    print(\"\\nTEST SPLIT:\")\n",
    "    print(f\"  Original rows: {len(df_test)}\")\n",
    "    print(f\"  Rows after outlier removal: {len(df_test_cleaned)}\")\n",
    "    print(f\"  Outliers removed: {len(df_test) - len(df_test_cleaned)}\")\n",
    "\n",
    "    return [df_train_cleaned, df_test_cleaned]"
   ]
  },
  {
   "cell_type": "code",
   "execution_count": 50,
   "id": "c1e2c056",
   "metadata": {},
   "outputs": [
    {
     "name": "stdout",
     "output_type": "stream",
     "text": [
      "Outliers removed from 'price' using IQR method (factor: 1.5):\n",
      "\n",
      "TRAIN SPLIT:\n",
      "  Original rows: 89109\n",
      "  Rows after outlier removal: 76108\n",
      "  Outliers removed: 13001\n",
      "\n",
      "TEST SPLIT:\n",
      "  Original rows: 9905\n",
      "  Rows after outlier removal: 8369\n",
      "  Outliers removed: 1536\n",
      "\n",
      "\n",
      "Outliers removed from 'initial_quantity' using IQR method (factor: 1.5):\n",
      "\n",
      "TRAIN SPLIT:\n",
      "  Original rows: 76108\n",
      "  Rows after outlier removal: 64161\n",
      "  Outliers removed: 11947\n",
      "\n",
      "TEST SPLIT:\n",
      "  Original rows: 8369\n",
      "  Rows after outlier removal: 7019\n",
      "  Outliers removed: 1350\n",
      "\n",
      "\n"
     ]
    }
   ],
   "source": [
    "continuous_features = ['price', 'initial_quantity']\n",
    "\n",
    "# Initialize the DataFrame that will store the cumulatively filtered data.\n",
    "X_train_outlier_df = X_train_df.copy()\n",
    "X_test_outlier_df = X_test_df.copy()\n",
    "\n",
    "for feature in continuous_features:\n",
    "    X_train_outlier_df, X_test_outlier_df = remove_outliers_iqr([X_train_outlier_df,X_test_outlier_df], feature, iqr_factor=1.5)\n",
    "    print('\\n')"
   ]
  },
  {
   "cell_type": "code",
   "execution_count": 51,
   "id": "84dfa944",
   "metadata": {},
   "outputs": [
    {
     "data": {
      "image/png": "[encoded data removed]",
      "text/plain": [
       "<Figure size 1400x600 with 2 Axes>"
      ]
     },
     "metadata": {},
     "output_type": "display_data"
    }
   ],
   "source": [
    "sns.set_style(\"whitegrid\")\n",
    "plt.figure(figsize=(14, 6))\n",
    "\n",
    "# --- Plot for 'price' ---\n",
    "plt.subplot(1, 2, 1)\n",
    "sns.violinplot(\n",
    "    x=y_train_df, \n",
    "    y='price',\n",
    "    hue=y_train_df,\n",
    "    data=X_train_outlier_df,\n",
    "    palette='viridis',\n",
    "    inner='quart',   # Changed from 'quartile' to 'quart' for brevity and common usage\n",
    "    split=True,      # This enables the two-sided effect\n",
    "    gap=.0001,          # Adds a small gap between the split halves\n",
    "    legend=False     # Hide redundant legend\n",
    ")\n",
    "plt.title('Distribution of Price by Condition')\n",
    "plt.xlabel('Condition')\n",
    "plt.ylabel('Price')\n",
    "\n",
    "# --- Plot for 'initial_quantity' ---\n",
    "plt.subplot(1, 2, 2)\n",
    "sns.violinplot(\n",
    "    x=y_train_df,\n",
    "    y='initial_quantity',\n",
    "    hue=y_train_df,\n",
    "    data=X_train_outlier_df,\n",
    "    palette='magma',\n",
    "    inner='quart',\n",
    "    split=True,\n",
    "    gap=.0001,\n",
    "    legend=False\n",
    ")\n",
    "plt.title('Distribution of Initial Quantity by Condition')\n",
    "plt.xlabel('Condition')\n",
    "plt.ylabel('Initial Quantity')\n",
    "\n",
    "# Save the plot to a file\n",
    "#plt.savefig('split_violin_plots.png')\n",
    "\n",
    "plt.tight_layout()\n",
    "plt.show()"
   ]
  },
  {
   "cell_type": "markdown",
   "id": "689c1be3",
   "metadata": {},
   "source": [
    "- Almost every 'used' item has a quantity equal to 1 (as originally hypothesized).\n",
    "- At lower values for `price`, there's no significant difference between target categories. For mid to higher values, the possibility of being 'new' increases."
   ]
  },
  {
   "cell_type": "markdown",
   "id": "8b502ad7",
   "metadata": {},
   "source": [
    "## Normalization\n",
    "Min-max scaling will be applied to continues values."
   ]
  },
  {
   "cell_type": "code",
   "execution_count": 52,
   "id": "eab3afc6",
   "metadata": {},
   "outputs": [
    {
     "name": "stdout",
     "output_type": "stream",
     "text": [
      "DataFrame after Min-Max Scaling:\n"
     ]
    },
    {
     "data": {
      "text/html": [
       "<div>\n",
       "<style scoped>\n",
       "    .dataframe tbody tr th:only-of-type {\n",
       "        vertical-align: middle;\n",
       "    }\n",
       "\n",
       "    .dataframe tbody tr th {\n",
       "        vertical-align: top;\n",
       "    }\n",
       "\n",
       "    .dataframe thead th {\n",
       "        text-align: right;\n",
       "    }\n",
       "</style>\n",
       "<table border=\"1\" class=\"dataframe\">\n",
       "  <thead>\n",
       "    <tr style=\"text-align: right;\">\n",
       "      <th></th>\n",
       "      <th>price</th>\n",
       "      <th>initial_quantity</th>\n",
       "    </tr>\n",
       "  </thead>\n",
       "  <tbody>\n",
       "    <tr>\n",
       "      <th>count</th>\n",
       "      <td>8.910900e+04</td>\n",
       "      <td>89109.000000</td>\n",
       "    </tr>\n",
       "    <tr>\n",
       "      <th>mean</th>\n",
       "      <td>2.626932e-05</td>\n",
       "      <td>0.003386</td>\n",
       "    </tr>\n",
       "    <tr>\n",
       "      <th>std</th>\n",
       "      <td>4.110698e-03</td>\n",
       "      <td>0.042288</td>\n",
       "    </tr>\n",
       "    <tr>\n",
       "      <th>min</th>\n",
       "      <td>0.000000e+00</td>\n",
       "      <td>0.000000</td>\n",
       "    </tr>\n",
       "    <tr>\n",
       "      <th>25%</th>\n",
       "      <td>4.012200e-08</td>\n",
       "      <td>0.000000</td>\n",
       "    </tr>\n",
       "    <tr>\n",
       "      <th>50%</th>\n",
       "      <td>1.121220e-07</td>\n",
       "      <td>0.000000</td>\n",
       "    </tr>\n",
       "    <tr>\n",
       "      <th>75%</th>\n",
       "      <td>3.596220e-07</td>\n",
       "      <td>0.000100</td>\n",
       "    </tr>\n",
       "    <tr>\n",
       "      <th>max</th>\n",
       "      <td>1.000000e+00</td>\n",
       "      <td>1.000000</td>\n",
       "    </tr>\n",
       "  </tbody>\n",
       "</table>\n",
       "</div>"
      ],
      "text/plain": [
       "              price  initial_quantity\n",
       "count  8.910900e+04      89109.000000\n",
       "mean   2.626932e-05          0.003386\n",
       "std    4.110698e-03          0.042288\n",
       "min    0.000000e+00          0.000000\n",
       "25%    4.012200e-08          0.000000\n",
       "50%    1.121220e-07          0.000000\n",
       "75%    3.596220e-07          0.000100\n",
       "max    1.000000e+00          1.000000"
      ]
     },
     "execution_count": 52,
     "metadata": {},
     "output_type": "execute_result"
    }
   ],
   "source": [
    "from sklearn.preprocessing import MinMaxScaler\n",
    "\n",
    "X_train_scaled_df = X_train_outlier_df.copy().dropna()\n",
    "X_test_scaled_df = X_test_outlier_df.copy().dropna()\n",
    "\n",
    "# 1. Initialize the scaler\n",
    "scaler = MinMaxScaler()\n",
    "\n",
    "# 2. Fit the scaler to continuous data (learn min and max from training data)\n",
    "scaler.fit(X_train_df[continuous_features])\n",
    "\n",
    "# 3. Transform the continuous features\n",
    "X_train_scaled_df[continuous_features] = scaler.transform(X_train_df[continuous_features])\n",
    "X_test_scaled_df[continuous_features] = scaler.transform(X_test_df[continuous_features])\n",
    "\n",
    "print(\"DataFrame after Min-Max Scaling:\")\n",
    "X_train_scaled_df[['price','initial_quantity']].describe()"
   ]
  },
  {
   "cell_type": "markdown",
   "id": "ae0fb331",
   "metadata": {},
   "source": [
    "### Concatenate to original dataframe"
   ]
  },
  {
   "cell_type": "code",
   "execution_count": 53,
   "id": "9a4f2061",
   "metadata": {},
   "outputs": [],
   "source": [
    "# 1. Identify non-continuous features from the original DataFrame\n",
    "non_continuous_features = [col for col in X_train_df.columns if col not in continuous_features]\n",
    "\n",
    "# 2. Select these non-continuous features\n",
    "df_train_non_continuous = X_train_df[non_continuous_features]\n",
    "df_test_non_continuous = X_test_df[non_continuous_features]\n",
    "\n",
    "# 3. Rename columns in X_train_scaled_df to add '_scaled' suffix\n",
    "X_train_scaled_df.drop(columns=non_continuous_features, inplace=True)  # Drop original continuous features\n",
    "X_train_scaled_df_renamed = X_train_scaled_df.add_suffix('_scaled')\n",
    "\n",
    "# 4. Apply the same transformation to the test set\n",
    "X_test_scaled_df.drop(columns=non_continuous_features, inplace=True)  # Drop original continuous features\n",
    "X_test_scaled_df_renamed = X_test_scaled_df.add_suffix('_scaled')\n",
    "\n",
    "# 5. Concatenate the non-continuous features and the scaled features\n",
    "X_train_df = pd.concat([df_train_non_continuous, X_train_scaled_df_renamed], axis=1)\n",
    "X_test_df = pd.concat([df_test_non_continuous, X_test_scaled_df_renamed], axis=1)"
   ]
  },
  {
   "cell_type": "markdown",
   "id": "b1385762",
   "metadata": {},
   "source": [
    "## Binary Encoding"
   ]
  },
  {
   "cell_type": "code",
   "execution_count": 54,
   "id": "2cd3be4a",
   "metadata": {},
   "outputs": [
    {
     "data": {
      "text/plain": [
       "currency_id\n",
       "ARS    88605\n",
       "USD      504\n",
       "Name: count, dtype: int64"
      ]
     },
     "execution_count": 54,
     "metadata": {},
     "output_type": "execute_result"
    }
   ],
   "source": [
    "X_train_df['currency_id'].value_counts()"
   ]
  },
  {
   "cell_type": "code",
   "execution_count": 55,
   "id": "0afd4749",
   "metadata": {},
   "outputs": [],
   "source": [
    "# Create the new boolean feature 'is_USD'\n",
    "X_train_df['is_USD'] = (X_train_df['currency_id'] == 'USD').astype('uint8') # as numeric type (1/0)\n",
    "X_train_df.drop(columns=['currency_id'], inplace=True)"
   ]
  },
  {
   "cell_type": "code",
   "execution_count": 56,
   "id": "45817202",
   "metadata": {},
   "outputs": [
    {
     "data": {
      "text/plain": [
       "is_USD\n",
       "0    88605\n",
       "1      504\n",
       "Name: count, dtype: int64"
      ]
     },
     "execution_count": 56,
     "metadata": {},
     "output_type": "execute_result"
    }
   ],
   "source": [
    "X_train_df['is_USD'].value_counts()"
   ]
  },
  {
   "cell_type": "code",
   "execution_count": 57,
   "id": "4569052c",
   "metadata": {},
   "outputs": [],
   "source": [
    "# Apply the same transformation to the test set\n",
    "X_test_df['is_USD'] = (X_test_df['currency_id'] == 'USD').astype('uint8')\n",
    "X_test_df.drop(columns=['currency_id'], inplace=True)"
   ]
  },
  {
   "cell_type": "code",
   "execution_count": 58,
   "id": "aab31ea7",
   "metadata": {},
   "outputs": [
    {
     "data": {
      "text/html": [
       "<div>\n",
       "<style scoped>\n",
       "    .dataframe tbody tr th:only-of-type {\n",
       "        vertical-align: middle;\n",
       "    }\n",
       "\n",
       "    .dataframe tbody tr th {\n",
       "        vertical-align: top;\n",
       "    }\n",
       "\n",
       "    .dataframe thead th {\n",
       "        text-align: right;\n",
       "    }\n",
       "</style>\n",
       "<table border=\"1\" class=\"dataframe\">\n",
       "  <thead>\n",
       "    <tr style=\"text-align: right;\">\n",
       "      <th></th>\n",
       "      <th>seller_address</th>\n",
       "      <th>warranty</th>\n",
       "      <th>deal_ids</th>\n",
       "      <th>base_price</th>\n",
       "      <th>shipping</th>\n",
       "      <th>non_mercado_pago_payment_methods</th>\n",
       "      <th>seller_id</th>\n",
       "      <th>variations</th>\n",
       "      <th>site_id</th>\n",
       "      <th>listing_type_id</th>\n",
       "      <th>attributes</th>\n",
       "      <th>buying_mode</th>\n",
       "      <th>tags</th>\n",
       "      <th>parent_item_id</th>\n",
       "      <th>category_id</th>\n",
       "      <th>...</th>\n",
       "      <th>title</th>\n",
       "      <th>automatic_relist</th>\n",
       "      <th>date_created</th>\n",
       "      <th>secure_thumbnail</th>\n",
       "      <th>stop_time</th>\n",
       "      <th>status</th>\n",
       "      <th>video_id</th>\n",
       "      <th>catalog_product_id</th>\n",
       "      <th>start_time</th>\n",
       "      <th>permalink</th>\n",
       "      <th>sold_quantity</th>\n",
       "      <th>available_quantity</th>\n",
       "      <th>price_scaled</th>\n",
       "      <th>initial_quantity_scaled</th>\n",
       "      <th>is_USD</th>\n",
       "    </tr>\n",
       "  </thead>\n",
       "  <tbody>\n",
       "    <tr>\n",
       "      <th>0</th>\n",
       "      <td>{'country': {'name': 'Argentina', 'id': 'AR'},...</td>\n",
       "      <td>None</td>\n",
       "      <td>[]</td>\n",
       "      <td>80.00</td>\n",
       "      <td>{'local_pick_up': True, 'methods': [], 'tags':...</td>\n",
       "      <td>[{'description': 'Transferencia bancaria', 'id...</td>\n",
       "      <td>8208882349</td>\n",
       "      <td>[]</td>\n",
       "      <td>MLA</td>\n",
       "      <td>bronze</td>\n",
       "      <td>[]</td>\n",
       "      <td>buy_it_now</td>\n",
       "      <td>[dragged_bids_and_visits]</td>\n",
       "      <td>MLA6553902747</td>\n",
       "      <td>MLA126406</td>\n",
       "      <td>...</td>\n",
       "      <td>Auriculares Samsung Originales Manos Libres Ca...</td>\n",
       "      <td>False</td>\n",
       "      <td>2015-09-05T20:42:53.000Z</td>\n",
       "      <td>https://a248.e.akamai.net/mla-s1-p.mlstatic.co...</td>\n",
       "      <td>1446669773000</td>\n",
       "      <td>active</td>\n",
       "      <td>None</td>\n",
       "      <td>NaN</td>\n",
       "      <td>1441485773000</td>\n",
       "      <td>http://articulo.mercadolibre.com.ar/MLA4695330...</td>\n",
       "      <td>0</td>\n",
       "      <td>1</td>\n",
       "      <td>3.562200e-08</td>\n",
       "      <td>0.000000</td>\n",
       "      <td>0</td>\n",
       "    </tr>\n",
       "    <tr>\n",
       "      <th>1</th>\n",
       "      <td>{'country': {'name': 'Argentina', 'id': 'AR'},...</td>\n",
       "      <td>NUESTRA REPUTACION</td>\n",
       "      <td>[]</td>\n",
       "      <td>2650.00</td>\n",
       "      <td>{'local_pick_up': True, 'methods': [], 'tags':...</td>\n",
       "      <td>[{'description': 'Transferencia bancaria', 'id...</td>\n",
       "      <td>8141699488</td>\n",
       "      <td>[]</td>\n",
       "      <td>MLA</td>\n",
       "      <td>silver</td>\n",
       "      <td>[]</td>\n",
       "      <td>buy_it_now</td>\n",
       "      <td>[]</td>\n",
       "      <td>MLA7727150374</td>\n",
       "      <td>MLA10267</td>\n",
       "      <td>...</td>\n",
       "      <td>Cuchillo Daga Acero Carbón Casco Yelmo Solinge...</td>\n",
       "      <td>False</td>\n",
       "      <td>2015-09-26T18:08:30.000Z</td>\n",
       "      <td>https://a248.e.akamai.net/mla-s1-p.mlstatic.co...</td>\n",
       "      <td>1448474910000</td>\n",
       "      <td>active</td>\n",
       "      <td>None</td>\n",
       "      <td>NaN</td>\n",
       "      <td>1443290910000</td>\n",
       "      <td>http://articulo.mercadolibre.com.ar/MLA7160447...</td>\n",
       "      <td>0</td>\n",
       "      <td>1</td>\n",
       "      <td>1.192122e-06</td>\n",
       "      <td>0.000000</td>\n",
       "      <td>0</td>\n",
       "    </tr>\n",
       "    <tr>\n",
       "      <th>2</th>\n",
       "      <td>{'country': {'name': 'Argentina', 'id': 'AR'},...</td>\n",
       "      <td>None</td>\n",
       "      <td>[]</td>\n",
       "      <td>60.00</td>\n",
       "      <td>{'local_pick_up': True, 'methods': [], 'tags':...</td>\n",
       "      <td>[{'description': 'Transferencia bancaria', 'id...</td>\n",
       "      <td>8386096505</td>\n",
       "      <td>[]</td>\n",
       "      <td>MLA</td>\n",
       "      <td>bronze</td>\n",
       "      <td>[]</td>\n",
       "      <td>buy_it_now</td>\n",
       "      <td>[dragged_bids_and_visits]</td>\n",
       "      <td>MLA6561247998</td>\n",
       "      <td>MLA1227</td>\n",
       "      <td>...</td>\n",
       "      <td>Antigua Revista Billiken, N° 1826, Año 1954</td>\n",
       "      <td>False</td>\n",
       "      <td>2015-09-09T23:57:07.000Z</td>\n",
       "      <td>https://a248.e.akamai.net/mla-s1-p.mlstatic.co...</td>\n",
       "      <td>1447027027000</td>\n",
       "      <td>active</td>\n",
       "      <td>None</td>\n",
       "      <td>NaN</td>\n",
       "      <td>1441843027000</td>\n",
       "      <td>http://articulo.mercadolibre.com.ar/MLA7367189...</td>\n",
       "      <td>0</td>\n",
       "      <td>1</td>\n",
       "      <td>2.662200e-08</td>\n",
       "      <td>0.000000</td>\n",
       "      <td>0</td>\n",
       "    </tr>\n",
       "    <tr>\n",
       "      <th>3</th>\n",
       "      <td>{'country': {'name': 'Argentina', 'id': 'AR'},...</td>\n",
       "      <td>None</td>\n",
       "      <td>[]</td>\n",
       "      <td>580.00</td>\n",
       "      <td>{'local_pick_up': True, 'methods': [], 'tags':...</td>\n",
       "      <td>[{'description': 'Transferencia bancaria', 'id...</td>\n",
       "      <td>5377752182</td>\n",
       "      <td>[]</td>\n",
       "      <td>MLA</td>\n",
       "      <td>silver</td>\n",
       "      <td>[]</td>\n",
       "      <td>buy_it_now</td>\n",
       "      <td>[]</td>\n",
       "      <td>None</td>\n",
       "      <td>MLA86345</td>\n",
       "      <td>...</td>\n",
       "      <td>Alarma Guardtex Gx412 Seguridad Para El Automo...</td>\n",
       "      <td>False</td>\n",
       "      <td>2015-09-28T18:47:56.000Z</td>\n",
       "      <td>https://a248.e.akamai.net/mla-s2-p.mlstatic.co...</td>\n",
       "      <td>1449191596000</td>\n",
       "      <td>active</td>\n",
       "      <td>None</td>\n",
       "      <td>NaN</td>\n",
       "      <td>1443466076000</td>\n",
       "      <td>http://articulo.mercadolibre.com.ar/MLA9191625...</td>\n",
       "      <td>0</td>\n",
       "      <td>1</td>\n",
       "      <td>2.606220e-07</td>\n",
       "      <td>0.000000</td>\n",
       "      <td>0</td>\n",
       "    </tr>\n",
       "    <tr>\n",
       "      <th>4</th>\n",
       "      <td>{'country': {'name': 'Argentina', 'id': 'AR'},...</td>\n",
       "      <td>MI REPUTACION.</td>\n",
       "      <td>[]</td>\n",
       "      <td>30.00</td>\n",
       "      <td>{'local_pick_up': True, 'methods': [], 'tags':...</td>\n",
       "      <td>[{'description': 'Transferencia bancaria', 'id...</td>\n",
       "      <td>2938071313</td>\n",
       "      <td>[]</td>\n",
       "      <td>MLA</td>\n",
       "      <td>bronze</td>\n",
       "      <td>[]</td>\n",
       "      <td>buy_it_now</td>\n",
       "      <td>[dragged_bids_and_visits]</td>\n",
       "      <td>MLA3133256685</td>\n",
       "      <td>MLA41287</td>\n",
       "      <td>...</td>\n",
       "      <td>Serenata - Jennifer Blake</td>\n",
       "      <td>False</td>\n",
       "      <td>2015-08-24T22:07:20.000Z</td>\n",
       "      <td>https://a248.e.akamai.net/mla-s2-p.mlstatic.co...</td>\n",
       "      <td>1445638040000</td>\n",
       "      <td>active</td>\n",
       "      <td>None</td>\n",
       "      <td>NaN</td>\n",
       "      <td>1440454040000</td>\n",
       "      <td>http://articulo.mercadolibre.com.ar/MLA7787961...</td>\n",
       "      <td>0</td>\n",
       "      <td>1</td>\n",
       "      <td>1.312200e-08</td>\n",
       "      <td>0.000000</td>\n",
       "      <td>0</td>\n",
       "    </tr>\n",
       "    <tr>\n",
       "      <th>...</th>\n",
       "      <td>...</td>\n",
       "      <td>...</td>\n",
       "      <td>...</td>\n",
       "      <td>...</td>\n",
       "      <td>...</td>\n",
       "      <td>...</td>\n",
       "      <td>...</td>\n",
       "      <td>...</td>\n",
       "      <td>...</td>\n",
       "      <td>...</td>\n",
       "      <td>...</td>\n",
       "      <td>...</td>\n",
       "      <td>...</td>\n",
       "      <td>...</td>\n",
       "      <td>...</td>\n",
       "      <td>...</td>\n",
       "      <td>...</td>\n",
       "      <td>...</td>\n",
       "      <td>...</td>\n",
       "      <td>...</td>\n",
       "      <td>...</td>\n",
       "      <td>...</td>\n",
       "      <td>...</td>\n",
       "      <td>...</td>\n",
       "      <td>...</td>\n",
       "      <td>...</td>\n",
       "      <td>...</td>\n",
       "      <td>...</td>\n",
       "      <td>...</td>\n",
       "      <td>...</td>\n",
       "      <td>...</td>\n",
       "    </tr>\n",
       "    <tr>\n",
       "      <th>89104</th>\n",
       "      <td>{'country': {'name': 'Argentina', 'id': 'AR'},...</td>\n",
       "      <td>Sin garantía</td>\n",
       "      <td>[]</td>\n",
       "      <td>68.00</td>\n",
       "      <td>{'local_pick_up': False, 'methods': [], 'tags'...</td>\n",
       "      <td>[]</td>\n",
       "      <td>9451922715</td>\n",
       "      <td>[]</td>\n",
       "      <td>MLA</td>\n",
       "      <td>bronze</td>\n",
       "      <td>[]</td>\n",
       "      <td>buy_it_now</td>\n",
       "      <td>[dragged_bids_and_visits]</td>\n",
       "      <td>MLA1130924824</td>\n",
       "      <td>MLA1227</td>\n",
       "      <td>...</td>\n",
       "      <td>El Fin De Las Libertades - Benegas Lynch (h) -...</td>\n",
       "      <td>False</td>\n",
       "      <td>2015-10-02T13:36:50.000Z</td>\n",
       "      <td>https://a248.e.akamai.net/mla-s2-p.mlstatic.co...</td>\n",
       "      <td>1448977010000</td>\n",
       "      <td>active</td>\n",
       "      <td>None</td>\n",
       "      <td>NaN</td>\n",
       "      <td>1443793010000</td>\n",
       "      <td>http://articulo.mercadolibre.com.ar/MLA1315520...</td>\n",
       "      <td>0</td>\n",
       "      <td>1</td>\n",
       "      <td>3.022200e-08</td>\n",
       "      <td>0.000000</td>\n",
       "      <td>0</td>\n",
       "    </tr>\n",
       "    <tr>\n",
       "      <th>89105</th>\n",
       "      <td>{'country': {'name': 'Argentina', 'id': 'AR'},...</td>\n",
       "      <td>None</td>\n",
       "      <td>[]</td>\n",
       "      <td>126.00</td>\n",
       "      <td>{'local_pick_up': True, 'methods': [], 'tags':...</td>\n",
       "      <td>[{'description': 'Transferencia bancaria', 'id...</td>\n",
       "      <td>4665194056</td>\n",
       "      <td>[]</td>\n",
       "      <td>MLA</td>\n",
       "      <td>bronze</td>\n",
       "      <td>[]</td>\n",
       "      <td>buy_it_now</td>\n",
       "      <td>[dragged_bids_and_visits]</td>\n",
       "      <td>MLA1317691731</td>\n",
       "      <td>MLA45559</td>\n",
       "      <td>...</td>\n",
       "      <td>Honda Wave Guardabarro Interior Trasero</td>\n",
       "      <td>False</td>\n",
       "      <td>2015-09-22T23:30:21.000Z</td>\n",
       "      <td>https://a248.e.akamai.net/mla-s1-p.mlstatic.co...</td>\n",
       "      <td>1448148621000</td>\n",
       "      <td>paused</td>\n",
       "      <td>None</td>\n",
       "      <td>NaN</td>\n",
       "      <td>1442964621000</td>\n",
       "      <td>http://articulo.mercadolibre.com.ar/MLA6934377...</td>\n",
       "      <td>1</td>\n",
       "      <td>1</td>\n",
       "      <td>5.632200e-08</td>\n",
       "      <td>0.000000</td>\n",
       "      <td>0</td>\n",
       "    </tr>\n",
       "    <tr>\n",
       "      <th>89106</th>\n",
       "      <td>{'country': {'name': 'Argentina', 'id': 'AR'},...</td>\n",
       "      <td>None</td>\n",
       "      <td>[]</td>\n",
       "      <td>300.00</td>\n",
       "      <td>{'local_pick_up': True, 'methods': [], 'tags':...</td>\n",
       "      <td>[{'description': 'Efectivo', 'id': 'MLAMO', 't...</td>\n",
       "      <td>3046474001</td>\n",
       "      <td>[]</td>\n",
       "      <td>MLA</td>\n",
       "      <td>bronze</td>\n",
       "      <td>[]</td>\n",
       "      <td>buy_it_now</td>\n",
       "      <td>[dragged_bids_and_visits]</td>\n",
       "      <td>MLA5098165723</td>\n",
       "      <td>MLA81061</td>\n",
       "      <td>...</td>\n",
       "      <td>My Little Pony Completa Latino 4 Temporadas</td>\n",
       "      <td>False</td>\n",
       "      <td>2015-08-24T21:33:51.000Z</td>\n",
       "      <td>https://a248.e.akamai.net/mla-s1-p.mlstatic.co...</td>\n",
       "      <td>1445636031000</td>\n",
       "      <td>active</td>\n",
       "      <td>None</td>\n",
       "      <td>NaN</td>\n",
       "      <td>1440452031000</td>\n",
       "      <td>http://articulo.mercadolibre.com.ar/MLA5644559...</td>\n",
       "      <td>0</td>\n",
       "      <td>1</td>\n",
       "      <td>1.346220e-07</td>\n",
       "      <td>0.000000</td>\n",
       "      <td>0</td>\n",
       "    </tr>\n",
       "    <tr>\n",
       "      <th>89107</th>\n",
       "      <td>{'country': {'name': 'Argentina', 'id': 'AR'},...</td>\n",
       "      <td>La garantia solo responde en caso de fallas de...</td>\n",
       "      <td>[]</td>\n",
       "      <td>696.58</td>\n",
       "      <td>{'local_pick_up': False, 'methods': [], 'tags'...</td>\n",
       "      <td>[{'description': 'Acordar con el comprador', '...</td>\n",
       "      <td>2373910598</td>\n",
       "      <td>[]</td>\n",
       "      <td>MLA</td>\n",
       "      <td>bronze</td>\n",
       "      <td>[]</td>\n",
       "      <td>buy_it_now</td>\n",
       "      <td>[dragged_bids_and_visits]</td>\n",
       "      <td>MLA3153148762</td>\n",
       "      <td>MLA48851</td>\n",
       "      <td>...</td>\n",
       "      <td>Accidente Cerebrovascular En La Infancia Y Ado...</td>\n",
       "      <td>False</td>\n",
       "      <td>2015-10-02T19:20:56.000Z</td>\n",
       "      <td>https://a248.e.akamai.net/mla-s2-p.mlstatic.co...</td>\n",
       "      <td>1448997656000</td>\n",
       "      <td>active</td>\n",
       "      <td>None</td>\n",
       "      <td>NaN</td>\n",
       "      <td>1443813656000</td>\n",
       "      <td>http://articulo.mercadolibre.com.ar/MLA3520244...</td>\n",
       "      <td>0</td>\n",
       "      <td>100</td>\n",
       "      <td>3.130830e-07</td>\n",
       "      <td>0.009902</td>\n",
       "      <td>0</td>\n",
       "    </tr>\n",
       "    <tr>\n",
       "      <th>89108</th>\n",
       "      <td>{'country': {'name': 'Argentina', 'id': 'AR'},...</td>\n",
       "      <td>None</td>\n",
       "      <td>[]</td>\n",
       "      <td>470.00</td>\n",
       "      <td>{'local_pick_up': True, 'methods': [], 'tags':...</td>\n",
       "      <td>[]</td>\n",
       "      <td>9518711314</td>\n",
       "      <td>[{'attribute_combinations': [{'value_id': '920...</td>\n",
       "      <td>MLA</td>\n",
       "      <td>free</td>\n",
       "      <td>[{'value_id': 'female', 'attribute_group_id': ...</td>\n",
       "      <td>buy_it_now</td>\n",
       "      <td>[dragged_bids_and_visits]</td>\n",
       "      <td>MLA3661010119</td>\n",
       "      <td>MLA109390</td>\n",
       "      <td>...</td>\n",
       "      <td>Campera De Mujer Tucci Reversible</td>\n",
       "      <td>False</td>\n",
       "      <td>2015-10-12T23:54:13.000Z</td>\n",
       "      <td>https://a248.e.akamai.net/mla-s2-p.mlstatic.co...</td>\n",
       "      <td>1449878053000</td>\n",
       "      <td>active</td>\n",
       "      <td>None</td>\n",
       "      <td>NaN</td>\n",
       "      <td>1444694053000</td>\n",
       "      <td>http://articulo.mercadolibre.com.ar/MLA8241142...</td>\n",
       "      <td>0</td>\n",
       "      <td>1</td>\n",
       "      <td>2.111220e-07</td>\n",
       "      <td>0.000000</td>\n",
       "      <td>0</td>\n",
       "    </tr>\n",
       "  </tbody>\n",
       "</table>\n",
       "<p>89109 rows × 38 columns</p>\n",
       "</div>"
      ],
      "text/plain": [
       "                                          seller_address  \\\n",
       "0      {'country': {'name': 'Argentina', 'id': 'AR'},...   \n",
       "1      {'country': {'name': 'Argentina', 'id': 'AR'},...   \n",
       "2      {'country': {'name': 'Argentina', 'id': 'AR'},...   \n",
       "3      {'country': {'name': 'Argentina', 'id': 'AR'},...   \n",
       "4      {'country': {'name': 'Argentina', 'id': 'AR'},...   \n",
       "...                                                  ...   \n",
       "89104  {'country': {'name': 'Argentina', 'id': 'AR'},...   \n",
       "89105  {'country': {'name': 'Argentina', 'id': 'AR'},...   \n",
       "89106  {'country': {'name': 'Argentina', 'id': 'AR'},...   \n",
       "89107  {'country': {'name': 'Argentina', 'id': 'AR'},...   \n",
       "89108  {'country': {'name': 'Argentina', 'id': 'AR'},...   \n",
       "\n",
       "                                                warranty deal_ids  base_price  \\\n",
       "0                                                   None       []       80.00   \n",
       "1                                     NUESTRA REPUTACION       []     2650.00   \n",
       "2                                                   None       []       60.00   \n",
       "3                                                   None       []      580.00   \n",
       "4                                         MI REPUTACION.       []       30.00   \n",
       "...                                                  ...      ...         ...   \n",
       "89104                                       Sin garantía       []       68.00   \n",
       "89105                                               None       []      126.00   \n",
       "89106                                               None       []      300.00   \n",
       "89107  La garantia solo responde en caso de fallas de...       []      696.58   \n",
       "89108                                               None       []      470.00   \n",
       "\n",
       "                                                shipping  \\\n",
       "0      {'local_pick_up': True, 'methods': [], 'tags':...   \n",
       "1      {'local_pick_up': True, 'methods': [], 'tags':...   \n",
       "2      {'local_pick_up': True, 'methods': [], 'tags':...   \n",
       "3      {'local_pick_up': True, 'methods': [], 'tags':...   \n",
       "4      {'local_pick_up': True, 'methods': [], 'tags':...   \n",
       "...                                                  ...   \n",
       "89104  {'local_pick_up': False, 'methods': [], 'tags'...   \n",
       "89105  {'local_pick_up': True, 'methods': [], 'tags':...   \n",
       "89106  {'local_pick_up': True, 'methods': [], 'tags':...   \n",
       "89107  {'local_pick_up': False, 'methods': [], 'tags'...   \n",
       "89108  {'local_pick_up': True, 'methods': [], 'tags':...   \n",
       "\n",
       "                        non_mercado_pago_payment_methods   seller_id  \\\n",
       "0      [{'description': 'Transferencia bancaria', 'id...  8208882349   \n",
       "1      [{'description': 'Transferencia bancaria', 'id...  8141699488   \n",
       "2      [{'description': 'Transferencia bancaria', 'id...  8386096505   \n",
       "3      [{'description': 'Transferencia bancaria', 'id...  5377752182   \n",
       "4      [{'description': 'Transferencia bancaria', 'id...  2938071313   \n",
       "...                                                  ...         ...   \n",
       "89104                                                 []  9451922715   \n",
       "89105  [{'description': 'Transferencia bancaria', 'id...  4665194056   \n",
       "89106  [{'description': 'Efectivo', 'id': 'MLAMO', 't...  3046474001   \n",
       "89107  [{'description': 'Acordar con el comprador', '...  2373910598   \n",
       "89108                                                 []  9518711314   \n",
       "\n",
       "                                              variations site_id  \\\n",
       "0                                                     []     MLA   \n",
       "1                                                     []     MLA   \n",
       "2                                                     []     MLA   \n",
       "3                                                     []     MLA   \n",
       "4                                                     []     MLA   \n",
       "...                                                  ...     ...   \n",
       "89104                                                 []     MLA   \n",
       "89105                                                 []     MLA   \n",
       "89106                                                 []     MLA   \n",
       "89107                                                 []     MLA   \n",
       "89108  [{'attribute_combinations': [{'value_id': '920...     MLA   \n",
       "\n",
       "      listing_type_id                                         attributes  \\\n",
       "0              bronze                                                 []   \n",
       "1              silver                                                 []   \n",
       "2              bronze                                                 []   \n",
       "3              silver                                                 []   \n",
       "4              bronze                                                 []   \n",
       "...               ...                                                ...   \n",
       "89104          bronze                                                 []   \n",
       "89105          bronze                                                 []   \n",
       "89106          bronze                                                 []   \n",
       "89107          bronze                                                 []   \n",
       "89108            free  [{'value_id': 'female', 'attribute_group_id': ...   \n",
       "\n",
       "      buying_mode                       tags parent_item_id category_id  ...  \\\n",
       "0      buy_it_now  [dragged_bids_and_visits]  MLA6553902747   MLA126406  ...   \n",
       "1      buy_it_now                         []  MLA7727150374    MLA10267  ...   \n",
       "2      buy_it_now  [dragged_bids_and_visits]  MLA6561247998     MLA1227  ...   \n",
       "3      buy_it_now                         []           None    MLA86345  ...   \n",
       "4      buy_it_now  [dragged_bids_and_visits]  MLA3133256685    MLA41287  ...   \n",
       "...           ...                        ...            ...         ...  ...   \n",
       "89104  buy_it_now  [dragged_bids_and_visits]  MLA1130924824     MLA1227  ...   \n",
       "89105  buy_it_now  [dragged_bids_and_visits]  MLA1317691731    MLA45559  ...   \n",
       "89106  buy_it_now  [dragged_bids_and_visits]  MLA5098165723    MLA81061  ...   \n",
       "89107  buy_it_now  [dragged_bids_and_visits]  MLA3153148762    MLA48851  ...   \n",
       "89108  buy_it_now  [dragged_bids_and_visits]  MLA3661010119   MLA109390  ...   \n",
       "\n",
       "                                                   title automatic_relist  \\\n",
       "0      Auriculares Samsung Originales Manos Libres Ca...            False   \n",
       "1      Cuchillo Daga Acero Carbón Casco Yelmo Solinge...            False   \n",
       "2            Antigua Revista Billiken, N° 1826, Año 1954            False   \n",
       "3      Alarma Guardtex Gx412 Seguridad Para El Automo...            False   \n",
       "4                              Serenata - Jennifer Blake            False   \n",
       "...                                                  ...              ...   \n",
       "89104  El Fin De Las Libertades - Benegas Lynch (h) -...            False   \n",
       "89105            Honda Wave Guardabarro Interior Trasero            False   \n",
       "89106        My Little Pony Completa Latino 4 Temporadas            False   \n",
       "89107  Accidente Cerebrovascular En La Infancia Y Ado...            False   \n",
       "89108                  Campera De Mujer Tucci Reversible            False   \n",
       "\n",
       "                   date_created  \\\n",
       "0      2015-09-05T20:42:53.000Z   \n",
       "1      2015-09-26T18:08:30.000Z   \n",
       "2      2015-09-09T23:57:07.000Z   \n",
       "3      2015-09-28T18:47:56.000Z   \n",
       "4      2015-08-24T22:07:20.000Z   \n",
       "...                         ...   \n",
       "89104  2015-10-02T13:36:50.000Z   \n",
       "89105  2015-09-22T23:30:21.000Z   \n",
       "89106  2015-08-24T21:33:51.000Z   \n",
       "89107  2015-10-02T19:20:56.000Z   \n",
       "89108  2015-10-12T23:54:13.000Z   \n",
       "\n",
       "                                        secure_thumbnail      stop_time  \\\n",
       "0      https://a248.e.akamai.net/mla-s1-p.mlstatic.co...  1446669773000   \n",
       "1      https://a248.e.akamai.net/mla-s1-p.mlstatic.co...  1448474910000   \n",
       "2      https://a248.e.akamai.net/mla-s1-p.mlstatic.co...  1447027027000   \n",
       "3      https://a248.e.akamai.net/mla-s2-p.mlstatic.co...  1449191596000   \n",
       "4      https://a248.e.akamai.net/mla-s2-p.mlstatic.co...  1445638040000   \n",
       "...                                                  ...            ...   \n",
       "89104  https://a248.e.akamai.net/mla-s2-p.mlstatic.co...  1448977010000   \n",
       "89105  https://a248.e.akamai.net/mla-s1-p.mlstatic.co...  1448148621000   \n",
       "89106  https://a248.e.akamai.net/mla-s1-p.mlstatic.co...  1445636031000   \n",
       "89107  https://a248.e.akamai.net/mla-s2-p.mlstatic.co...  1448997656000   \n",
       "89108  https://a248.e.akamai.net/mla-s2-p.mlstatic.co...  1449878053000   \n",
       "\n",
       "       status  video_id catalog_product_id     start_time  \\\n",
       "0      active      None                NaN  1441485773000   \n",
       "1      active      None                NaN  1443290910000   \n",
       "2      active      None                NaN  1441843027000   \n",
       "3      active      None                NaN  1443466076000   \n",
       "4      active      None                NaN  1440454040000   \n",
       "...       ...       ...                ...            ...   \n",
       "89104  active      None                NaN  1443793010000   \n",
       "89105  paused      None                NaN  1442964621000   \n",
       "89106  active      None                NaN  1440452031000   \n",
       "89107  active      None                NaN  1443813656000   \n",
       "89108  active      None                NaN  1444694053000   \n",
       "\n",
       "                                               permalink sold_quantity  \\\n",
       "0      http://articulo.mercadolibre.com.ar/MLA4695330...             0   \n",
       "1      http://articulo.mercadolibre.com.ar/MLA7160447...             0   \n",
       "2      http://articulo.mercadolibre.com.ar/MLA7367189...             0   \n",
       "3      http://articulo.mercadolibre.com.ar/MLA9191625...             0   \n",
       "4      http://articulo.mercadolibre.com.ar/MLA7787961...             0   \n",
       "...                                                  ...           ...   \n",
       "89104  http://articulo.mercadolibre.com.ar/MLA1315520...             0   \n",
       "89105  http://articulo.mercadolibre.com.ar/MLA6934377...             1   \n",
       "89106  http://articulo.mercadolibre.com.ar/MLA5644559...             0   \n",
       "89107  http://articulo.mercadolibre.com.ar/MLA3520244...             0   \n",
       "89108  http://articulo.mercadolibre.com.ar/MLA8241142...             0   \n",
       "\n",
       "      available_quantity  price_scaled initial_quantity_scaled is_USD  \n",
       "0                      1  3.562200e-08                0.000000      0  \n",
       "1                      1  1.192122e-06                0.000000      0  \n",
       "2                      1  2.662200e-08                0.000000      0  \n",
       "3                      1  2.606220e-07                0.000000      0  \n",
       "4                      1  1.312200e-08                0.000000      0  \n",
       "...                  ...           ...                     ...    ...  \n",
       "89104                  1  3.022200e-08                0.000000      0  \n",
       "89105                  1  5.632200e-08                0.000000      0  \n",
       "89106                  1  1.346220e-07                0.000000      0  \n",
       "89107                100  3.130830e-07                0.009902      0  \n",
       "89108                  1  2.111220e-07                0.000000      0  \n",
       "\n",
       "[89109 rows x 38 columns]"
      ]
     },
     "execution_count": 58,
     "metadata": {},
     "output_type": "execute_result"
    }
   ],
   "source": [
    "X_train_df"
   ]
  },
  {
   "cell_type": "code",
   "execution_count": 59,
   "id": "efa014de",
   "metadata": {},
   "outputs": [],
   "source": [
    "# Convert booleans into integers\n",
    "for col in ['accepts_mercadopago', 'automatic_relist']:\n",
    "    X_train_df[col] = X_train_df[col].dropna().astype('uint8')\n",
    "    X_test_df[col] = X_test_df[col].dropna().astype('uint8')"
   ]
  },
  {
   "cell_type": "markdown",
   "id": "b1876af3",
   "metadata": {},
   "source": [
    "## One-hot encoding\n",
    "**(Categorical features)**"
   ]
  },
  {
   "cell_type": "code",
   "execution_count": 60,
   "id": "ef672cc8",
   "metadata": {},
   "outputs": [
    {
     "data": {
      "text/plain": [
       "listing_type_id\n",
       "bronze          56182\n",
       "free            19139\n",
       "silver           8154\n",
       "gold_special     2690\n",
       "gold             2166\n",
       "gold_premium      765\n",
       "gold_pro           13\n",
       "Name: count, dtype: int64"
      ]
     },
     "execution_count": 60,
     "metadata": {},
     "output_type": "execute_result"
    }
   ],
   "source": [
    "X_train_df['listing_type_id'].value_counts()"
   ]
  },
  {
   "cell_type": "markdown",
   "id": "ac8ae222",
   "metadata": {},
   "source": [
    "Since these categories (bronze, free, etc.) don't have an inherent ordinal relationship (e.g., 'gold' isn't necessarily \"greater\" than 'silver' in a numerical sense that a model would understand without context, even if they represent tiers), one-hot encoding is a suitable choice."
   ]
  },
  {
   "cell_type": "code",
   "execution_count": 61,
   "id": "6034b64a",
   "metadata": {},
   "outputs": [
    {
     "data": {
      "text/plain": [
       "buying_mode\n",
       "buy_it_now    86439\n",
       "classified     1979\n",
       "auction         691\n",
       "Name: count, dtype: int64"
      ]
     },
     "execution_count": 61,
     "metadata": {},
     "output_type": "execute_result"
    }
   ],
   "source": [
    "X_train_df['buying_mode'].value_counts()"
   ]
  },
  {
   "cell_type": "code",
   "execution_count": 62,
   "id": "347abecd",
   "metadata": {},
   "outputs": [
    {
     "data": {
      "text/plain": [
       "status\n",
       "active            86116\n",
       "paused             2992\n",
       "not_yet_active        1\n",
       "Name: count, dtype: int64"
      ]
     },
     "execution_count": 62,
     "metadata": {},
     "output_type": "execute_result"
    }
   ],
   "source": [
    "X_train_df['status'].value_counts()"
   ]
  },
  {
   "cell_type": "code",
   "execution_count": 63,
   "id": "634d8968",
   "metadata": {},
   "outputs": [],
   "source": [
    "from sklearn.preprocessing import OneHotEncoder\n",
    "\n",
    "# Define the columns to encode\n",
    "categorical_features = ['listing_type_id', 'buying_mode', 'status']\n",
    "\n",
    "# Initialize OneHotEncoder\n",
    "encoder = OneHotEncoder(handle_unknown='ignore', sparse_output=False, drop='first')\n",
    "\n",
    "# Fit and transform the selected categorical columns\n",
    "encoded_train_data = encoder.fit_transform(X_train_df[categorical_features])\n",
    "\n",
    "# Create a DataFrame with the encoded features\n",
    "encoded_feature_names = encoder.get_feature_names_out(categorical_features)\n",
    "ecoded_features = pd.DataFrame(encoded_train_data, columns=encoded_feature_names)\n",
    "\n",
    "# Apply the same transformation to the test set\n",
    "encoded_test_data = encoder.transform(X_test_df[categorical_features])\n",
    "encoded_features_test = pd.DataFrame(encoded_test_data, columns=encoded_feature_names)\n",
    "\n",
    "# Concatenate with the original DataFrame (dropping the original categorical columns)\n",
    "X_train_transformed_df = pd.concat([X_train_df.drop(columns=categorical_features), ecoded_features], axis=1)\n",
    "X_test_transformed_df = pd.concat([X_test_df.drop(columns=categorical_features), encoded_features_test], axis=1)"
   ]
  },
  {
   "cell_type": "code",
   "execution_count": 64,
   "id": "30441e25",
   "metadata": {},
   "outputs": [
    {
     "data": {
      "text/html": [
       "<div>\n",
       "<style scoped>\n",
       "    .dataframe tbody tr th:only-of-type {\n",
       "        vertical-align: middle;\n",
       "    }\n",
       "\n",
       "    .dataframe tbody tr th {\n",
       "        vertical-align: top;\n",
       "    }\n",
       "\n",
       "    .dataframe thead th {\n",
       "        text-align: right;\n",
       "    }\n",
       "</style>\n",
       "<table border=\"1\" class=\"dataframe\">\n",
       "  <thead>\n",
       "    <tr style=\"text-align: right;\">\n",
       "      <th></th>\n",
       "      <th>seller_address</th>\n",
       "      <th>warranty</th>\n",
       "      <th>deal_ids</th>\n",
       "      <th>base_price</th>\n",
       "      <th>shipping</th>\n",
       "      <th>non_mercado_pago_payment_methods</th>\n",
       "      <th>seller_id</th>\n",
       "      <th>variations</th>\n",
       "      <th>site_id</th>\n",
       "      <th>attributes</th>\n",
       "      <th>tags</th>\n",
       "      <th>parent_item_id</th>\n",
       "      <th>category_id</th>\n",
       "      <th>descriptions</th>\n",
       "      <th>last_updated</th>\n",
       "      <th>...</th>\n",
       "      <th>sold_quantity</th>\n",
       "      <th>available_quantity</th>\n",
       "      <th>price_scaled</th>\n",
       "      <th>initial_quantity_scaled</th>\n",
       "      <th>is_USD</th>\n",
       "      <th>listing_type_id_free</th>\n",
       "      <th>listing_type_id_gold</th>\n",
       "      <th>listing_type_id_gold_premium</th>\n",
       "      <th>listing_type_id_gold_pro</th>\n",
       "      <th>listing_type_id_gold_special</th>\n",
       "      <th>listing_type_id_silver</th>\n",
       "      <th>buying_mode_buy_it_now</th>\n",
       "      <th>buying_mode_classified</th>\n",
       "      <th>status_not_yet_active</th>\n",
       "      <th>status_paused</th>\n",
       "    </tr>\n",
       "  </thead>\n",
       "  <tbody>\n",
       "    <tr>\n",
       "      <th>55899</th>\n",
       "      <td>{'country': {'name': 'Argentina', 'id': 'AR'},...</td>\n",
       "      <td>None</td>\n",
       "      <td>[]</td>\n",
       "      <td>450.0</td>\n",
       "      <td>{'local_pick_up': True, 'methods': [], 'tags':...</td>\n",
       "      <td>[{'description': 'Transferencia bancaria', 'id...</td>\n",
       "      <td>7015102226</td>\n",
       "      <td>[{'attribute_combinations': [{'value_id': '920...</td>\n",
       "      <td>MLA</td>\n",
       "      <td>[{'value_id': 'male', 'attribute_group_id': 'D...</td>\n",
       "      <td>[dragged_bids_and_visits]</td>\n",
       "      <td>MLA2734541597</td>\n",
       "      <td>MLA109391</td>\n",
       "      <td>[{'id': 'MLA4389231933-944316811'}]</td>\n",
       "      <td>2015-10-14T16:01:28.000Z</td>\n",
       "      <td>...</td>\n",
       "      <td>0</td>\n",
       "      <td>1</td>\n",
       "      <td>2.021220e-07</td>\n",
       "      <td>0.0000</td>\n",
       "      <td>0</td>\n",
       "      <td>0.0</td>\n",
       "      <td>0.0</td>\n",
       "      <td>0.0</td>\n",
       "      <td>0.0</td>\n",
       "      <td>0.0</td>\n",
       "      <td>0.0</td>\n",
       "      <td>1.0</td>\n",
       "      <td>0.0</td>\n",
       "      <td>0.0</td>\n",
       "      <td>0.0</td>\n",
       "    </tr>\n",
       "    <tr>\n",
       "      <th>38258</th>\n",
       "      <td>{'country': {'name': 'Argentina', 'id': 'AR'},...</td>\n",
       "      <td>None</td>\n",
       "      <td>[]</td>\n",
       "      <td>329.0</td>\n",
       "      <td>{'local_pick_up': False, 'methods': [], 'tags'...</td>\n",
       "      <td>[{'description': 'Transferencia bancaria', 'id...</td>\n",
       "      <td>5017703063</td>\n",
       "      <td>[]</td>\n",
       "      <td>MLA</td>\n",
       "      <td>[]</td>\n",
       "      <td>[dragged_bids_and_visits]</td>\n",
       "      <td>MLA5989810972</td>\n",
       "      <td>MLA25930</td>\n",
       "      <td>[{'id': 'MLA9236403640-935979488'}]</td>\n",
       "      <td>2015-10-02T21:55:53.000Z</td>\n",
       "      <td>...</td>\n",
       "      <td>2</td>\n",
       "      <td>5</td>\n",
       "      <td>1.476720e-07</td>\n",
       "      <td>0.0004</td>\n",
       "      <td>0</td>\n",
       "      <td>0.0</td>\n",
       "      <td>0.0</td>\n",
       "      <td>0.0</td>\n",
       "      <td>0.0</td>\n",
       "      <td>0.0</td>\n",
       "      <td>0.0</td>\n",
       "      <td>1.0</td>\n",
       "      <td>0.0</td>\n",
       "      <td>0.0</td>\n",
       "      <td>0.0</td>\n",
       "    </tr>\n",
       "    <tr>\n",
       "      <th>27583</th>\n",
       "      <td>{'country': {'name': 'Argentina', 'id': 'AR'},...</td>\n",
       "      <td>None</td>\n",
       "      <td>[]</td>\n",
       "      <td>235.0</td>\n",
       "      <td>{'local_pick_up': True, 'methods': [], 'tags':...</td>\n",
       "      <td>[]</td>\n",
       "      <td>3044275186</td>\n",
       "      <td>[]</td>\n",
       "      <td>MLA</td>\n",
       "      <td>[]</td>\n",
       "      <td>[dragged_bids_and_visits]</td>\n",
       "      <td>MLA3931342899</td>\n",
       "      <td>MLA95417</td>\n",
       "      <td>[{'id': 'MLA5304646212-937513973'}]</td>\n",
       "      <td>2015-10-05T12:55:27.000Z</td>\n",
       "      <td>...</td>\n",
       "      <td>0</td>\n",
       "      <td>1</td>\n",
       "      <td>1.053720e-07</td>\n",
       "      <td>0.0000</td>\n",
       "      <td>0</td>\n",
       "      <td>0.0</td>\n",
       "      <td>0.0</td>\n",
       "      <td>0.0</td>\n",
       "      <td>0.0</td>\n",
       "      <td>0.0</td>\n",
       "      <td>0.0</td>\n",
       "      <td>1.0</td>\n",
       "      <td>0.0</td>\n",
       "      <td>0.0</td>\n",
       "      <td>0.0</td>\n",
       "    </tr>\n",
       "    <tr>\n",
       "      <th>59305</th>\n",
       "      <td>{'country': {'name': 'Argentina', 'id': 'AR'},...</td>\n",
       "      <td>None</td>\n",
       "      <td>[]</td>\n",
       "      <td>55.0</td>\n",
       "      <td>{'local_pick_up': False, 'methods': [], 'tags'...</td>\n",
       "      <td>[]</td>\n",
       "      <td>6313816363</td>\n",
       "      <td>[]</td>\n",
       "      <td>MLA</td>\n",
       "      <td>[]</td>\n",
       "      <td>[dragged_bids_and_visits]</td>\n",
       "      <td>MLA2390260424</td>\n",
       "      <td>MLA8649</td>\n",
       "      <td>[{'id': 'MLA2872430671-905675368'}]</td>\n",
       "      <td>2015-08-28T01:54:18.000Z</td>\n",
       "      <td>...</td>\n",
       "      <td>0</td>\n",
       "      <td>1</td>\n",
       "      <td>2.437200e-08</td>\n",
       "      <td>0.0000</td>\n",
       "      <td>0</td>\n",
       "      <td>0.0</td>\n",
       "      <td>0.0</td>\n",
       "      <td>0.0</td>\n",
       "      <td>0.0</td>\n",
       "      <td>0.0</td>\n",
       "      <td>0.0</td>\n",
       "      <td>1.0</td>\n",
       "      <td>0.0</td>\n",
       "      <td>0.0</td>\n",
       "      <td>0.0</td>\n",
       "    </tr>\n",
       "    <tr>\n",
       "      <th>19849</th>\n",
       "      <td>{'country': {'name': 'Argentina', 'id': 'AR'},...</td>\n",
       "      <td>None</td>\n",
       "      <td>[]</td>\n",
       "      <td>1.0</td>\n",
       "      <td>{'local_pick_up': True, 'methods': [], 'tags':...</td>\n",
       "      <td>[{'description': 'Transferencia bancaria', 'id...</td>\n",
       "      <td>3562914479</td>\n",
       "      <td>[]</td>\n",
       "      <td>MLA</td>\n",
       "      <td>[]</td>\n",
       "      <td>[]</td>\n",
       "      <td>None</td>\n",
       "      <td>MLA1948</td>\n",
       "      <td>[{'id': 'MLA8134790813-924761999'}]</td>\n",
       "      <td>2015-10-02T00:24:07.338Z</td>\n",
       "      <td>...</td>\n",
       "      <td>0</td>\n",
       "      <td>1</td>\n",
       "      <td>7.200000e-11</td>\n",
       "      <td>0.0000</td>\n",
       "      <td>0</td>\n",
       "      <td>1.0</td>\n",
       "      <td>0.0</td>\n",
       "      <td>0.0</td>\n",
       "      <td>0.0</td>\n",
       "      <td>0.0</td>\n",
       "      <td>0.0</td>\n",
       "      <td>1.0</td>\n",
       "      <td>0.0</td>\n",
       "      <td>0.0</td>\n",
       "      <td>0.0</td>\n",
       "    </tr>\n",
       "  </tbody>\n",
       "</table>\n",
       "<p>5 rows × 45 columns</p>\n",
       "</div>"
      ],
      "text/plain": [
       "                                          seller_address warranty deal_ids  \\\n",
       "55899  {'country': {'name': 'Argentina', 'id': 'AR'},...     None       []   \n",
       "38258  {'country': {'name': 'Argentina', 'id': 'AR'},...     None       []   \n",
       "27583  {'country': {'name': 'Argentina', 'id': 'AR'},...     None       []   \n",
       "59305  {'country': {'name': 'Argentina', 'id': 'AR'},...     None       []   \n",
       "19849  {'country': {'name': 'Argentina', 'id': 'AR'},...     None       []   \n",
       "\n",
       "       base_price                                           shipping  \\\n",
       "55899       450.0  {'local_pick_up': True, 'methods': [], 'tags':...   \n",
       "38258       329.0  {'local_pick_up': False, 'methods': [], 'tags'...   \n",
       "27583       235.0  {'local_pick_up': True, 'methods': [], 'tags':...   \n",
       "59305        55.0  {'local_pick_up': False, 'methods': [], 'tags'...   \n",
       "19849         1.0  {'local_pick_up': True, 'methods': [], 'tags':...   \n",
       "\n",
       "                        non_mercado_pago_payment_methods   seller_id  \\\n",
       "55899  [{'description': 'Transferencia bancaria', 'id...  7015102226   \n",
       "38258  [{'description': 'Transferencia bancaria', 'id...  5017703063   \n",
       "27583                                                 []  3044275186   \n",
       "59305                                                 []  6313816363   \n",
       "19849  [{'description': 'Transferencia bancaria', 'id...  3562914479   \n",
       "\n",
       "                                              variations site_id  \\\n",
       "55899  [{'attribute_combinations': [{'value_id': '920...     MLA   \n",
       "38258                                                 []     MLA   \n",
       "27583                                                 []     MLA   \n",
       "59305                                                 []     MLA   \n",
       "19849                                                 []     MLA   \n",
       "\n",
       "                                              attributes  \\\n",
       "55899  [{'value_id': 'male', 'attribute_group_id': 'D...   \n",
       "38258                                                 []   \n",
       "27583                                                 []   \n",
       "59305                                                 []   \n",
       "19849                                                 []   \n",
       "\n",
       "                            tags parent_item_id category_id  \\\n",
       "55899  [dragged_bids_and_visits]  MLA2734541597   MLA109391   \n",
       "38258  [dragged_bids_and_visits]  MLA5989810972    MLA25930   \n",
       "27583  [dragged_bids_and_visits]  MLA3931342899    MLA95417   \n",
       "59305  [dragged_bids_and_visits]  MLA2390260424     MLA8649   \n",
       "19849                         []           None     MLA1948   \n",
       "\n",
       "                              descriptions              last_updated  ...  \\\n",
       "55899  [{'id': 'MLA4389231933-944316811'}]  2015-10-14T16:01:28.000Z  ...   \n",
       "38258  [{'id': 'MLA9236403640-935979488'}]  2015-10-02T21:55:53.000Z  ...   \n",
       "27583  [{'id': 'MLA5304646212-937513973'}]  2015-10-05T12:55:27.000Z  ...   \n",
       "59305  [{'id': 'MLA2872430671-905675368'}]  2015-08-28T01:54:18.000Z  ...   \n",
       "19849  [{'id': 'MLA8134790813-924761999'}]  2015-10-02T00:24:07.338Z  ...   \n",
       "\n",
       "      sold_quantity available_quantity  price_scaled  initial_quantity_scaled  \\\n",
       "55899             0                  1  2.021220e-07                   0.0000   \n",
       "38258             2                  5  1.476720e-07                   0.0004   \n",
       "27583             0                  1  1.053720e-07                   0.0000   \n",
       "59305             0                  1  2.437200e-08                   0.0000   \n",
       "19849             0                  1  7.200000e-11                   0.0000   \n",
       "\n",
       "       is_USD listing_type_id_free listing_type_id_gold  \\\n",
       "55899       0                  0.0                  0.0   \n",
       "38258       0                  0.0                  0.0   \n",
       "27583       0                  0.0                  0.0   \n",
       "59305       0                  0.0                  0.0   \n",
       "19849       0                  1.0                  0.0   \n",
       "\n",
       "       listing_type_id_gold_premium listing_type_id_gold_pro  \\\n",
       "55899                           0.0                      0.0   \n",
       "38258                           0.0                      0.0   \n",
       "27583                           0.0                      0.0   \n",
       "59305                           0.0                      0.0   \n",
       "19849                           0.0                      0.0   \n",
       "\n",
       "      listing_type_id_gold_special  listing_type_id_silver  \\\n",
       "55899                          0.0                     0.0   \n",
       "38258                          0.0                     0.0   \n",
       "27583                          0.0                     0.0   \n",
       "59305                          0.0                     0.0   \n",
       "19849                          0.0                     0.0   \n",
       "\n",
       "      buying_mode_buy_it_now  buying_mode_classified  status_not_yet_active  \\\n",
       "55899                    1.0                     0.0                    0.0   \n",
       "38258                    1.0                     0.0                    0.0   \n",
       "27583                    1.0                     0.0                    0.0   \n",
       "59305                    1.0                     0.0                    0.0   \n",
       "19849                    1.0                     0.0                    0.0   \n",
       "\n",
       "      status_paused  \n",
       "55899           0.0  \n",
       "38258           0.0  \n",
       "27583           0.0  \n",
       "59305           0.0  \n",
       "19849           0.0  \n",
       "\n",
       "[5 rows x 45 columns]"
      ]
     },
     "execution_count": 64,
     "metadata": {},
     "output_type": "execute_result"
    }
   ],
   "source": [
    "X_train_transformed_df.sample(5)  # Display a sample of the transformed training data"
   ]
  },
  {
   "cell_type": "markdown",
   "id": "5641cfed",
   "metadata": {},
   "source": [
    "## Final result"
   ]
  },
  {
   "cell_type": "code",
   "execution_count": 65,
   "id": "548eaada",
   "metadata": {},
   "outputs": [
    {
     "name": "stdout",
     "output_type": "stream",
     "text": [
      "Number of features:\n",
      " - Before transformations: 38\n",
      " - After transformations: 45\n",
      "Increase of 7 features (18.42%)\n"
     ]
    }
   ],
   "source": [
    "before_len = len(X_train_df.columns)\n",
    "after_len = len(X_train_transformed_df.columns)\n",
    "dif_len = after_len - before_len\n",
    "print(\"Number of features:\")\n",
    "print(f\" - Before transformations: {before_len}\")\n",
    "print(f\" - After transformations: {after_len}\")\n",
    "print(f\"Increase of {dif_len} features ({(dif_len/before_len):.2%})\")"
   ]
  },
  {
   "cell_type": "code",
   "execution_count": 66,
   "id": "15dc2afa",
   "metadata": {},
   "outputs": [
    {
     "name": "stdout",
     "output_type": "stream",
     "text": [
      "Number of features:\n",
      " - Before transformations: 38\n",
      " - After transformations: 45\n",
      "Increase of 7 features (18.42%)\n"
     ]
    }
   ],
   "source": [
    "before_len = len(X_test_df.columns)\n",
    "after_len = len(X_test_transformed_df.columns)\n",
    "dif_len = after_len - before_len\n",
    "print(\"Number of features:\")\n",
    "print(f\" - Before transformations: {before_len}\")\n",
    "print(f\" - After transformations: {after_len}\")\n",
    "print(f\"Increase of {dif_len} features ({(dif_len/before_len):.2%})\")"
   ]
  },
  {
   "cell_type": "markdown",
   "id": "e6c8f9ce",
   "metadata": {},
   "source": [
    "# 3. Feature Selection"
   ]
  },
  {
   "cell_type": "code",
   "execution_count": 67,
   "id": "d2290c9f",
   "metadata": {},
   "outputs": [],
   "source": [
    "# Store all features in a list\n",
    "features = X_train_transformed_df.columns.tolist()"
   ]
  },
  {
   "cell_type": "markdown",
   "id": "2d71c8af",
   "metadata": {},
   "source": [
    "During missing values analysis it was noticed that these variables were problematic:\n",
    "`site_id`,`video_id`, `official_store_id`, `original_price`, `catalog_product_id`,`deal_ids`"
   ]
  },
  {
   "cell_type": "code",
   "execution_count": 68,
   "id": "ab6b61a4",
   "metadata": {},
   "outputs": [],
   "source": [
    "# As it was stated before, ID variables will be ignored during feature selection.\n",
    "# Also, time-related and tags variables won't be used.\n",
    "id_variables = ['id', 'parent_item_id', 'official_store_id', 'category_id', 'site_id', 'video_id', 'catalog_product_id', 'deal_ids', 'seller_id', 'descriptions']\n",
    "time_variables = ['start_time', 'stop_time', 'date_created', 'last_updated']\n",
    "tag_variables = ['tags', 'variations', 'shipping', 'attributes', 'non_mercado_pago_payment_methods']\n",
    "post_related_variables = ['title', 'permalink', 'secure_thumbnail', 'thumbnail', 'pictures'] "
   ]
  },
  {
   "cell_type": "code",
   "execution_count": null,
   "id": "ce9a225c",
   "metadata": {},
   "outputs": [],
   "source": [
    "# Remove specific features that are not needed for the analysis\n",
    "[features.remove(x) for x in (id_variables + time_variables + tag_variables + post_related_variables)]\n",
    "\n",
    "# Remove other specific features that are not relevant for the analysis\n",
    "other_features = ['original_price', 'base_price', 'warranty', 'seller_address', 'sold_quantity', 'available_quantity']\n",
    "[features.remove(x) for x in other_features]\n",
    "\n",
    "# Show the selected features\n",
    "print(f\"Selected features ({len(features)}):\")\n",
    "str(features)"
   ]
  },
  {
   "cell_type": "markdown",
   "id": "cba9f35e",
   "metadata": {},
   "source": [
    "**Criteria:**\n",
    "* **Highly correlated features:**\n",
    "    * **Quantity:** Only `initial_quantity` will be used. The hypothesis is that it could serve to differentiate brand-new items because usually there are more than one available.\n",
    "    * **Price:** Only `price` will be used.\n",
    "* **Unrelated features:**\n",
    "    * Seller address is not relevant for our target.\n",
    "    * Warranty has a lot of missing values, and there is a lot of diversity of arbitrary values; it's difficult to extract useful information from this feature.\n",
    "    * Post-related features."
   ]
  },
  {
   "cell_type": "code",
   "execution_count": 74,
   "id": "cec79bab",
   "metadata": {},
   "outputs": [
    {
     "data": {
      "text/plain": [
       "Index(['accepts_mercadopago', 'automatic_relist', 'price_scaled',\n",
       "       'initial_quantity_scaled', 'is_USD', 'listing_type_id_free',\n",
       "       'listing_type_id_gold', 'listing_type_id_gold_premium',\n",
       "       'listing_type_id_gold_pro', 'listing_type_id_gold_special',\n",
       "       'listing_type_id_silver', 'buying_mode_buy_it_now',\n",
       "       'buying_mode_classified', 'status_not_yet_active', 'status_paused'],\n",
       "      dtype='object')"
      ]
     },
     "execution_count": 74,
     "metadata": {},
     "output_type": "execute_result"
    }
   ],
   "source": [
    "X_train_transformed_df[features].columns"
   ]
  },
  {
   "cell_type": "markdown",
   "id": "100338a2",
   "metadata": {},
   "source": [
    "### Dtype Optimization\n",
    "Every variable will be transformed to its optimal size based on its content, minimizing storage, processing, and training."
   ]
  },
  {
   "cell_type": "code",
   "execution_count": 289,
   "id": "430314bb",
   "metadata": {},
   "outputs": [
    {
     "name": "stdout",
     "output_type": "stream",
     "text": [
      "<class 'pandas.core.frame.DataFrame'>\n",
      "RangeIndex: 89109 entries, 0 to 89108\n",
      "Data columns (total 15 columns):\n",
      " #   Column                        Non-Null Count  Dtype  \n",
      "---  ------                        --------------  -----  \n",
      " 0   accepts_mercadopago           89109 non-null  uint8  \n",
      " 1   automatic_relist              89109 non-null  uint8  \n",
      " 2   price_scaled                  89109 non-null  float64\n",
      " 3   initial_quantity_scaled       89109 non-null  float64\n",
      " 4   is_USD                        89109 non-null  uint8  \n",
      " 5   listing_type_id_free          89109 non-null  float64\n",
      " 6   listing_type_id_gold          89109 non-null  float64\n",
      " 7   listing_type_id_gold_premium  89109 non-null  float64\n",
      " 8   listing_type_id_gold_pro      89109 non-null  float64\n",
      " 9   listing_type_id_gold_special  89109 non-null  float64\n",
      " 10  listing_type_id_silver        89109 non-null  float64\n",
      " 11  buying_mode_buy_it_now        89109 non-null  float64\n",
      " 12  buying_mode_classified        89109 non-null  float64\n",
      " 13  status_not_yet_active         89109 non-null  float64\n",
      " 14  status_paused                 89109 non-null  float64\n",
      "dtypes: float64(12), uint8(3)\n",
      "memory usage: 8.4 MB\n"
     ]
    }
   ],
   "source": [
    "X_train_transformed_df[features].info()"
   ]
  },
  {
   "cell_type": "code",
   "execution_count": 290,
   "id": "d99d7298",
   "metadata": {},
   "outputs": [
    {
     "name": "stdout",
     "output_type": "stream",
     "text": [
      "                              Min_Value  Max_Value\n",
      "accepts_mercadopago                 0.0        1.0\n",
      "automatic_relist                    0.0        1.0\n",
      "price_scaled                        0.0        1.0\n",
      "initial_quantity_scaled             0.0        1.0\n",
      "is_USD                              0.0        1.0\n",
      "listing_type_id_free                0.0        1.0\n",
      "listing_type_id_gold                0.0        1.0\n",
      "listing_type_id_gold_premium        0.0        1.0\n",
      "listing_type_id_gold_pro            0.0        1.0\n",
      "listing_type_id_gold_special        0.0        1.0\n",
      "listing_type_id_silver              0.0        1.0\n",
      "buying_mode_buy_it_now              0.0        1.0\n",
      "buying_mode_classified              0.0        1.0\n",
      "status_not_yet_active               0.0        1.0\n",
      "status_paused                       0.0        1.0\n"
     ]
    }
   ],
   "source": [
    "df = X_train_transformed_df[features].copy()\n",
    "\n",
    "# Select only numerical columns\n",
    "numerical_features = df.select_dtypes(include=[np.number]).columns\n",
    "\n",
    "min_max_values = pd.DataFrame(columns=['Min_Value', 'Max_Value'])\n",
    "\n",
    "for col in numerical_features:\n",
    "    min_val = df[col].min()\n",
    "    max_val = df[col].max()\n",
    "    min_max_values.loc[col] = [min_val, max_val]\n",
    "\n",
    "print(min_max_values)"
   ]
  },
  {
   "cell_type": "markdown",
   "id": "a1e627ff",
   "metadata": {},
   "source": [
    "All are unsigned integers:\n",
    "- For bool-type lower variable will be used (uint8).\n",
    "- For `initial_quantity` 'int32' will be enough.\n",
    "- For `price` 'int64' will be needed."
   ]
  },
  {
   "cell_type": "code",
   "execution_count": 291,
   "id": "95649924",
   "metadata": {},
   "outputs": [
    {
     "data": {
      "text/plain": [
       "seller_address                0\n",
       "warranty                  54219\n",
       "deal_ids                      0\n",
       "base_price                    0\n",
       "shipping                      0\n",
       "                          ...  \n",
       "listing_type_id_silver        0\n",
       "buying_mode_buy_it_now        0\n",
       "buying_mode_classified        0\n",
       "status_not_yet_active         0\n",
       "status_paused                 0\n",
       "Length: 45, dtype: int64"
      ]
     },
     "execution_count": 291,
     "metadata": {},
     "output_type": "execute_result"
    }
   ],
   "source": [
    "X_train_transformed_df.isnull().sum()"
   ]
  },
  {
   "cell_type": "code",
   "execution_count": 292,
   "id": "f5ea0ee3",
   "metadata": {},
   "outputs": [],
   "source": [
    "bool_features = features\n",
    "bool_features.remove('price_scaled')\n",
    "bool_features.remove('initial_quantity_scaled')"
   ]
  },
  {
   "cell_type": "code",
   "execution_count": 293,
   "id": "98a0ee61",
   "metadata": {},
   "outputs": [
    {
     "name": "stdout",
     "output_type": "stream",
     "text": [
      "<class 'pandas.core.frame.DataFrame'>\n",
      "RangeIndex: 89109 entries, 0 to 89108\n",
      "Data columns (total 13 columns):\n",
      " #   Column                        Non-Null Count  Dtype  \n",
      "---  ------                        --------------  -----  \n",
      " 0   accepts_mercadopago           89109 non-null  uint8  \n",
      " 1   automatic_relist              89109 non-null  uint8  \n",
      " 2   is_USD                        89109 non-null  uint8  \n",
      " 3   listing_type_id_free          89109 non-null  float64\n",
      " 4   listing_type_id_gold          89109 non-null  float64\n",
      " 5   listing_type_id_gold_premium  89109 non-null  float64\n",
      " 6   listing_type_id_gold_pro      89109 non-null  float64\n",
      " 7   listing_type_id_gold_special  89109 non-null  float64\n",
      " 8   listing_type_id_silver        89109 non-null  float64\n",
      " 9   buying_mode_buy_it_now        89109 non-null  float64\n",
      " 10  buying_mode_classified        89109 non-null  float64\n",
      " 11  status_not_yet_active         89109 non-null  float64\n",
      " 12  status_paused                 89109 non-null  float64\n",
      "dtypes: float64(10), uint8(3)\n",
      "memory usage: 7.1 MB\n"
     ]
    }
   ],
   "source": [
    "X_train_transformed_df[features].info()"
   ]
  },
  {
   "cell_type": "code",
   "execution_count": 294,
   "id": "2dc85850",
   "metadata": {},
   "outputs": [],
   "source": [
    "optimized_df = X_train_transformed_df[features].copy()\n",
    "\n",
    "for col in optimized_df.columns:\n",
    "        optimized_df[col] = pd.to_numeric(optimized_df[col], downcast='integer')"
   ]
  },
  {
   "cell_type": "code",
   "execution_count": 295,
   "id": "3d9c25eb",
   "metadata": {},
   "outputs": [
    {
     "name": "stdout",
     "output_type": "stream",
     "text": [
      "<class 'pandas.core.frame.DataFrame'>\n",
      "RangeIndex: 89109 entries, 0 to 89108\n",
      "Data columns (total 13 columns):\n",
      " #   Column                        Non-Null Count  Dtype\n",
      "---  ------                        --------------  -----\n",
      " 0   accepts_mercadopago           89109 non-null  int8 \n",
      " 1   automatic_relist              89109 non-null  int8 \n",
      " 2   is_USD                        89109 non-null  int8 \n",
      " 3   listing_type_id_free          89109 non-null  int8 \n",
      " 4   listing_type_id_gold          89109 non-null  int8 \n",
      " 5   listing_type_id_gold_premium  89109 non-null  int8 \n",
      " 6   listing_type_id_gold_pro      89109 non-null  int8 \n",
      " 7   listing_type_id_gold_special  89109 non-null  int8 \n",
      " 8   listing_type_id_silver        89109 non-null  int8 \n",
      " 9   buying_mode_buy_it_now        89109 non-null  int8 \n",
      " 10  buying_mode_classified        89109 non-null  int8 \n",
      " 11  status_not_yet_active         89109 non-null  int8 \n",
      " 12  status_paused                 89109 non-null  int8 \n",
      "dtypes: int8(13)\n",
      "memory usage: 1.1 MB\n"
     ]
    }
   ],
   "source": [
    "optimized_df.info()"
   ]
  },
  {
   "cell_type": "code",
   "execution_count": 296,
   "id": "ecff2b15",
   "metadata": {},
   "outputs": [
    {
     "data": {
      "text/html": [
       "<div>\n",
       "<style scoped>\n",
       "    .dataframe tbody tr th:only-of-type {\n",
       "        vertical-align: middle;\n",
       "    }\n",
       "\n",
       "    .dataframe tbody tr th {\n",
       "        vertical-align: top;\n",
       "    }\n",
       "\n",
       "    .dataframe thead th {\n",
       "        text-align: right;\n",
       "    }\n",
       "</style>\n",
       "<table border=\"1\" class=\"dataframe\">\n",
       "  <thead>\n",
       "    <tr style=\"text-align: right;\">\n",
       "      <th></th>\n",
       "      <th>accepts_mercadopago</th>\n",
       "      <th>automatic_relist</th>\n",
       "      <th>is_USD</th>\n",
       "      <th>listing_type_id_free</th>\n",
       "      <th>listing_type_id_gold</th>\n",
       "      <th>listing_type_id_gold_premium</th>\n",
       "      <th>listing_type_id_gold_pro</th>\n",
       "      <th>listing_type_id_gold_special</th>\n",
       "      <th>listing_type_id_silver</th>\n",
       "      <th>buying_mode_buy_it_now</th>\n",
       "      <th>buying_mode_classified</th>\n",
       "      <th>status_not_yet_active</th>\n",
       "      <th>status_paused</th>\n",
       "    </tr>\n",
       "  </thead>\n",
       "  <tbody>\n",
       "    <tr>\n",
       "      <th>count</th>\n",
       "      <td>89109.000000</td>\n",
       "      <td>89109.000000</td>\n",
       "      <td>89109.000000</td>\n",
       "      <td>89109.000000</td>\n",
       "      <td>89109.000000</td>\n",
       "      <td>89109.000000</td>\n",
       "      <td>89109.000000</td>\n",
       "      <td>89109.000000</td>\n",
       "      <td>89109.000000</td>\n",
       "      <td>89109.000000</td>\n",
       "      <td>89109.000000</td>\n",
       "      <td>89109.000000</td>\n",
       "      <td>89109.000000</td>\n",
       "    </tr>\n",
       "    <tr>\n",
       "      <th>mean</th>\n",
       "      <td>0.977791</td>\n",
       "      <td>0.047212</td>\n",
       "      <td>0.005656</td>\n",
       "      <td>0.214782</td>\n",
       "      <td>0.024307</td>\n",
       "      <td>0.008585</td>\n",
       "      <td>0.000146</td>\n",
       "      <td>0.030188</td>\n",
       "      <td>0.091506</td>\n",
       "      <td>0.970037</td>\n",
       "      <td>0.022209</td>\n",
       "      <td>0.000011</td>\n",
       "      <td>0.033577</td>\n",
       "    </tr>\n",
       "    <tr>\n",
       "      <th>std</th>\n",
       "      <td>0.147363</td>\n",
       "      <td>0.212093</td>\n",
       "      <td>0.074994</td>\n",
       "      <td>0.410673</td>\n",
       "      <td>0.154002</td>\n",
       "      <td>0.092257</td>\n",
       "      <td>0.012078</td>\n",
       "      <td>0.171105</td>\n",
       "      <td>0.288329</td>\n",
       "      <td>0.170487</td>\n",
       "      <td>0.147363</td>\n",
       "      <td>0.003350</td>\n",
       "      <td>0.180138</td>\n",
       "    </tr>\n",
       "    <tr>\n",
       "      <th>min</th>\n",
       "      <td>0.000000</td>\n",
       "      <td>0.000000</td>\n",
       "      <td>0.000000</td>\n",
       "      <td>0.000000</td>\n",
       "      <td>0.000000</td>\n",
       "      <td>0.000000</td>\n",
       "      <td>0.000000</td>\n",
       "      <td>0.000000</td>\n",
       "      <td>0.000000</td>\n",
       "      <td>0.000000</td>\n",
       "      <td>0.000000</td>\n",
       "      <td>0.000000</td>\n",
       "      <td>0.000000</td>\n",
       "    </tr>\n",
       "    <tr>\n",
       "      <th>25%</th>\n",
       "      <td>1.000000</td>\n",
       "      <td>0.000000</td>\n",
       "      <td>0.000000</td>\n",
       "      <td>0.000000</td>\n",
       "      <td>0.000000</td>\n",
       "      <td>0.000000</td>\n",
       "      <td>0.000000</td>\n",
       "      <td>0.000000</td>\n",
       "      <td>0.000000</td>\n",
       "      <td>1.000000</td>\n",
       "      <td>0.000000</td>\n",
       "      <td>0.000000</td>\n",
       "      <td>0.000000</td>\n",
       "    </tr>\n",
       "    <tr>\n",
       "      <th>50%</th>\n",
       "      <td>1.000000</td>\n",
       "      <td>0.000000</td>\n",
       "      <td>0.000000</td>\n",
       "      <td>0.000000</td>\n",
       "      <td>0.000000</td>\n",
       "      <td>0.000000</td>\n",
       "      <td>0.000000</td>\n",
       "      <td>0.000000</td>\n",
       "      <td>0.000000</td>\n",
       "      <td>1.000000</td>\n",
       "      <td>0.000000</td>\n",
       "      <td>0.000000</td>\n",
       "      <td>0.000000</td>\n",
       "    </tr>\n",
       "    <tr>\n",
       "      <th>75%</th>\n",
       "      <td>1.000000</td>\n",
       "      <td>0.000000</td>\n",
       "      <td>0.000000</td>\n",
       "      <td>0.000000</td>\n",
       "      <td>0.000000</td>\n",
       "      <td>0.000000</td>\n",
       "      <td>0.000000</td>\n",
       "      <td>0.000000</td>\n",
       "      <td>0.000000</td>\n",
       "      <td>1.000000</td>\n",
       "      <td>0.000000</td>\n",
       "      <td>0.000000</td>\n",
       "      <td>0.000000</td>\n",
       "    </tr>\n",
       "    <tr>\n",
       "      <th>max</th>\n",
       "      <td>1.000000</td>\n",
       "      <td>1.000000</td>\n",
       "      <td>1.000000</td>\n",
       "      <td>1.000000</td>\n",
       "      <td>1.000000</td>\n",
       "      <td>1.000000</td>\n",
       "      <td>1.000000</td>\n",
       "      <td>1.000000</td>\n",
       "      <td>1.000000</td>\n",
       "      <td>1.000000</td>\n",
       "      <td>1.000000</td>\n",
       "      <td>1.000000</td>\n",
       "      <td>1.000000</td>\n",
       "    </tr>\n",
       "  </tbody>\n",
       "</table>\n",
       "</div>"
      ],
      "text/plain": [
       "       accepts_mercadopago  automatic_relist        is_USD  \\\n",
       "count         89109.000000      89109.000000  89109.000000   \n",
       "mean              0.977791          0.047212      0.005656   \n",
       "std               0.147363          0.212093      0.074994   \n",
       "min               0.000000          0.000000      0.000000   \n",
       "25%               1.000000          0.000000      0.000000   \n",
       "50%               1.000000          0.000000      0.000000   \n",
       "75%               1.000000          0.000000      0.000000   \n",
       "max               1.000000          1.000000      1.000000   \n",
       "\n",
       "       listing_type_id_free  listing_type_id_gold  \\\n",
       "count          89109.000000          89109.000000   \n",
       "mean               0.214782              0.024307   \n",
       "std                0.410673              0.154002   \n",
       "min                0.000000              0.000000   \n",
       "25%                0.000000              0.000000   \n",
       "50%                0.000000              0.000000   \n",
       "75%                0.000000              0.000000   \n",
       "max                1.000000              1.000000   \n",
       "\n",
       "       listing_type_id_gold_premium  listing_type_id_gold_pro  \\\n",
       "count                  89109.000000              89109.000000   \n",
       "mean                       0.008585                  0.000146   \n",
       "std                        0.092257                  0.012078   \n",
       "min                        0.000000                  0.000000   \n",
       "25%                        0.000000                  0.000000   \n",
       "50%                        0.000000                  0.000000   \n",
       "75%                        0.000000                  0.000000   \n",
       "max                        1.000000                  1.000000   \n",
       "\n",
       "       listing_type_id_gold_special  listing_type_id_silver  \\\n",
       "count                  89109.000000            89109.000000   \n",
       "mean                       0.030188                0.091506   \n",
       "std                        0.171105                0.288329   \n",
       "min                        0.000000                0.000000   \n",
       "25%                        0.000000                0.000000   \n",
       "50%                        0.000000                0.000000   \n",
       "75%                        0.000000                0.000000   \n",
       "max                        1.000000                1.000000   \n",
       "\n",
       "       buying_mode_buy_it_now  buying_mode_classified  status_not_yet_active  \\\n",
       "count            89109.000000            89109.000000           89109.000000   \n",
       "mean                 0.970037                0.022209               0.000011   \n",
       "std                  0.170487                0.147363               0.003350   \n",
       "min                  0.000000                0.000000               0.000000   \n",
       "25%                  1.000000                0.000000               0.000000   \n",
       "50%                  1.000000                0.000000               0.000000   \n",
       "75%                  1.000000                0.000000               0.000000   \n",
       "max                  1.000000                1.000000               1.000000   \n",
       "\n",
       "       status_paused  \n",
       "count   89109.000000  \n",
       "mean        0.033577  \n",
       "std         0.180138  \n",
       "min         0.000000  \n",
       "25%         0.000000  \n",
       "50%         0.000000  \n",
       "75%         0.000000  \n",
       "max         1.000000  "
      ]
     },
     "execution_count": 296,
     "metadata": {},
     "output_type": "execute_result"
    }
   ],
   "source": [
    "X_train_transformed_df[features].describe()"
   ]
  },
  {
   "cell_type": "markdown",
   "id": "26ec49e0",
   "metadata": {},
   "source": [
    "# 4. Predictive capabilities"
   ]
  },
  {
   "cell_type": "markdown",
   "id": "643b838d",
   "metadata": {},
   "source": [
    "### Predictiveness"
   ]
  },
  {
   "cell_type": "code",
   "execution_count": 76,
   "id": "eba04d38",
   "metadata": {},
   "outputs": [
    {
     "data": {
      "text/plain": [
       "['accepts_mercadopago',\n",
       " 'automatic_relist',\n",
       " 'price_scaled',\n",
       " 'initial_quantity_scaled',\n",
       " 'is_USD',\n",
       " 'listing_type_id_free',\n",
       " 'listing_type_id_gold',\n",
       " 'listing_type_id_gold_premium',\n",
       " 'listing_type_id_gold_pro',\n",
       " 'listing_type_id_gold_special',\n",
       " 'listing_type_id_silver',\n",
       " 'buying_mode_buy_it_now',\n",
       " 'buying_mode_classified',\n",
       " 'status_not_yet_active',\n",
       " 'status_paused']"
      ]
     },
     "execution_count": 76,
     "metadata": {},
     "output_type": "execute_result"
    }
   ],
   "source": [
    "features"
   ]
  },
  {
   "cell_type": "code",
   "execution_count": 77,
   "id": "0fa01cdb",
   "metadata": {},
   "outputs": [
    {
     "name": "stdout",
     "output_type": "stream",
     "text": [
      "Numerical features for filtering:\n",
      "['accepts_mercadopago', 'automatic_relist', 'price_scaled', 'initial_quantity_scaled', 'is_USD', 'listing_type_id_free', 'listing_type_id_gold', 'listing_type_id_gold_premium', 'listing_type_id_gold_pro', 'listing_type_id_gold_special', 'listing_type_id_silver', 'buying_mode_buy_it_now', 'buying_mode_classified', 'status_not_yet_active', 'status_paused']\n"
     ]
    }
   ],
   "source": [
    "# Get the numerical columns\n",
    "numerical_features = X_train_transformed_df[features].select_dtypes(include=['number','bool']).columns.tolist()\n",
    "\n",
    "print(\"Numerical features for filtering:\")\n",
    "print(numerical_features)"
   ]
  },
  {
   "cell_type": "code",
   "execution_count": 78,
   "id": "db8f53c5",
   "metadata": {},
   "outputs": [
    {
     "name": "stdout",
     "output_type": "stream",
     "text": [
      "CORRELATION\n"
     ]
    },
    {
     "data": {
      "text/plain": [
       "automatic_relist                0.187453\n",
       "listing_type_id_silver          0.168811\n",
       "listing_type_id_gold_special    0.156955\n",
       "listing_type_id_gold            0.102546\n",
       "buying_mode_buy_it_now          0.099804\n",
       "accepts_mercadopago             0.092842\n",
       "initial_quantity_scaled         0.071924\n",
       "status_paused                   0.067348\n",
       "listing_type_id_gold_pro        0.011214\n",
       "status_not_yet_active           0.003110\n",
       "listing_type_id_gold_premium    0.001252\n",
       "price_scaled                   -0.000968\n",
       "is_USD                         -0.025116\n",
       "buying_mode_classified         -0.092842\n",
       "listing_type_id_free           -0.485303\n",
       "Name: target_encoded, dtype: float64"
      ]
     },
     "execution_count": 78,
     "metadata": {},
     "output_type": "execute_result"
    }
   ],
   "source": [
    "# Join X_train_transformed_df with y_train_df for correlation analysis\n",
    "df_corr = X_train_transformed_df[numerical_features].copy()\n",
    "df_corr['target'] = y_train_df.reset_index(drop=True)\n",
    "\n",
    "# If 'target' is categorical, encode it for correlation calculation\n",
    "df_corr['target_encoded'] = (df_corr['target'] == 'new').astype(int)\n",
    "\n",
    "# Compute correlation with the target\n",
    "print(\"CORRELATION\")\n",
    "correlations = df_corr.corr(numeric_only=True)['target_encoded'].sort_values(ascending=False)\n",
    "correlations[1:]  # Exclude the target itself from the results"
   ]
  },
  {
   "cell_type": "markdown",
   "id": "7b448877",
   "metadata": {},
   "source": [
    "`status` is not adding any predictive value. It's mostly unbalanced ('active' value) and doesn't add relevant information."
   ]
  },
  {
   "cell_type": "code",
   "execution_count": 299,
   "id": "3e5e05cf",
   "metadata": {},
   "outputs": [
    {
     "name": "stdout",
     "output_type": "stream",
     "text": [
      "PREDICTIVENESS\n"
     ]
    },
    {
     "data": {
      "text/plain": [
       "listing_type_id_free            0.485303\n",
       "automatic_relist                0.187453\n",
       "listing_type_id_silver          0.168811\n",
       "listing_type_id_gold_special    0.156955\n",
       "listing_type_id_gold            0.102546\n",
       "buying_mode_buy_it_now          0.099804\n",
       "accepts_mercadopago             0.092842\n",
       "buying_mode_classified          0.092842\n",
       "status_paused                   0.067348\n",
       "is_USD                          0.025116\n",
       "listing_type_id_gold_pro        0.011214\n",
       "status_not_yet_active           0.003110\n",
       "listing_type_id_gold_premium    0.001252\n",
       "Name: target_encoded, dtype: float64"
      ]
     },
     "execution_count": 299,
     "metadata": {},
     "output_type": "execute_result"
    }
   ],
   "source": [
    "print(\"PREDICTIVENESS\")\n",
    "predictiveness = abs(correlations[1:]).sort_values(ascending=False)\n",
    "predictiveness"
   ]
  },
  {
   "cell_type": "code",
   "execution_count": 303,
   "id": "f9ccff91",
   "metadata": {},
   "outputs": [
    {
     "name": "stdout",
     "output_type": "stream",
     "text": [
      "Best predictor for 'new' items is 'listing_type_id_free', while worst is 'listing_type_id_gold_premium'\n"
     ]
    }
   ],
   "source": [
    "print(f\"Best predictor for 'new' items is '{predictiveness.idxmax()}', while worst is '{predictiveness.idxmin()}'\")"
   ]
  },
  {
   "cell_type": "markdown",
   "id": "1ba94afb",
   "metadata": {},
   "source": [
    "It's evident that there's a clear correlation between 'free' seller-users (who mostly sell used items) and paying sellers (actual businesses offering new items). Interestingly, the **'gold_premium' tier is not a good predictor.**"
   ]
  },
  {
   "cell_type": "code",
   "execution_count": 304,
   "id": "c59d0d71",
   "metadata": {},
   "outputs": [],
   "source": [
    "df_corr.drop(columns=['target'], inplace=True)  # Ensure 'target_encoded' is not in df_corr before adding it"
   ]
  },
  {
   "cell_type": "code",
   "execution_count": 334,
   "id": "fed4ca2a",
   "metadata": {},
   "outputs": [
    {
     "data": {
      "image/png": "[encoded data removed]",
      "text/plain": [
       "<Figure size 1000x800 with 2 Axes>"
      ]
     },
     "metadata": {},
     "output_type": "display_data"
    }
   ],
   "source": [
    "# Compute correlation matrix for numerical features\n",
    "corr_matrix = df_corr[numerical_features].corr()\n",
    "\n",
    "# Plot correlation heatmap\n",
    "plt.figure(figsize=(10, 8))\n",
    "sns.heatmap(corr_matrix, annot=True, cmap='coolwarm', fmt='.2f')\n",
    "plt.title('Correlation Matrix of Numerical Features')\n",
    "plt.show()"
   ]
  },
  {
   "cell_type": "markdown",
   "id": "b1405cd4",
   "metadata": {},
   "source": [
    "---\n",
    "---\n",
    "# Model Design *(productive cycle)*"
   ]
  },
  {
   "cell_type": "markdown",
   "id": "91dd6115",
   "metadata": {},
   "source": [
    "# 2º iteration"
   ]
  },
  {
   "cell_type": "markdown",
   "id": "7b13b2f9",
   "metadata": {},
   "source": [
    "## Grouping dummies `listing_type_id`"
   ]
  },
  {
   "cell_type": "code",
   "execution_count": 83,
   "id": "f27761a4",
   "metadata": {},
   "outputs": [
    {
     "data": {
      "text/plain": [
       "['listing_type_id_free',\n",
       " 'listing_type_id_gold',\n",
       " 'listing_type_id_gold_premium',\n",
       " 'listing_type_id_gold_pro',\n",
       " 'listing_type_id_gold_special',\n",
       " 'listing_type_id_silver']"
      ]
     },
     "execution_count": 83,
     "metadata": {},
     "output_type": "execute_result"
    }
   ],
   "source": [
    "# Find dummy variables for feature\n",
    "[feature for feature in features if feature.startswith('listing_type_id')]"
   ]
  },
  {
   "cell_type": "code",
   "execution_count": 84,
   "id": "c14b8b18",
   "metadata": {},
   "outputs": [
    {
     "name": "stdout",
     "output_type": "stream",
     "text": [
      "Remacably, 78.5% are paid users.\n"
     ]
    }
   ],
   "source": [
    "num_paid_users = X_train_df['listing_type_id'].value_counts().tolist()\n",
    "num_paid_users.pop(1)\n",
    "print(f\"Remacably, {sum(num_paid_users)/len(X_train_df):.1%} are paid users.\")"
   ]
  },
  {
   "cell_type": "code",
   "execution_count": 85,
   "id": "103dc9fe",
   "metadata": {},
   "outputs": [],
   "source": [
    "X_train_transformed_df['free_tier'] = X_train_transformed_df['listing_type_id_free'] == True"
   ]
  },
  {
   "cell_type": "markdown",
   "id": "2a00fc2d",
   "metadata": {},
   "source": [
    "---\n",
    "# 3º iteration"
   ]
  },
  {
   "cell_type": "markdown",
   "id": "3692875b",
   "metadata": {},
   "source": [
    "### Synthetic features\n",
    "**Datetime -> `is_weekend` & `is_working_hours`**"
   ]
  },
  {
   "cell_type": "code",
   "execution_count": 86,
   "id": "fc4c2580",
   "metadata": {},
   "outputs": [
    {
     "data": {
      "text/plain": [
       "73935    2015-09-15T22:34:13.000Z\n",
       "Name: date_created, dtype: object"
      ]
     },
     "execution_count": 86,
     "metadata": {},
     "output_type": "execute_result"
    }
   ],
   "source": [
    "X_train_df['date_created'].sample()"
   ]
  },
  {
   "cell_type": "code",
   "execution_count": 87,
   "id": "57b0f072",
   "metadata": {},
   "outputs": [
    {
     "name": "stderr",
     "output_type": "stream",
     "text": [
      "/var/folders/83/9353kc_5517028y13dxby8y40000gn/T/ipykernel_58840/820055625.py:6: UserWarning: The argument 'infer_datetime_format' is deprecated and will be removed in a future version. A strict version of it is now the default, see https://pandas.pydata.org/pdeps/0004-consistent-to-datetime-parsing.html. You can safely remove this argument.\n",
      "  test_df['date_created_dt'] = pd.to_datetime(test_df['date_created'], infer_datetime_format=True)\n"
     ]
    }
   ],
   "source": [
    "test_df = X_train_df.copy()\n",
    "\n",
    "# Convert 'date_created' to datetime objects\n",
    "# The 'T' and 'Z' indicate time and UTC timezone, respectively,\n",
    "# which pandas handles automatically with 'infer_datetime_format=True'\n",
    "test_df['date_created_dt'] = pd.to_datetime(test_df['date_created'], infer_datetime_format=True)\n",
    "\n",
    "# Create the 'time_created' feature (hour of the day)\n",
    "test_df['time_created'] = test_df['date_created_dt'].dt.hour\n",
    "\n",
    "# Create the 'day_of_week' feature (0=Monday, 6=Sunday)\n",
    "test_df['day_of_week'] = test_df['date_created_dt'].dt.dayofweek\n",
    "\n",
    "# Drop the original 'date_created' (str) and intermediate datetime column\n",
    "test_df = test_df.drop(columns=['date_created', 'date_created_dt'])"
   ]
  },
  {
   "cell_type": "code",
   "execution_count": 88,
   "id": "ed9d218e",
   "metadata": {},
   "outputs": [
    {
     "data": {
      "text/html": [
       "<div>\n",
       "<style scoped>\n",
       "    .dataframe tbody tr th:only-of-type {\n",
       "        vertical-align: middle;\n",
       "    }\n",
       "\n",
       "    .dataframe tbody tr th {\n",
       "        vertical-align: top;\n",
       "    }\n",
       "\n",
       "    .dataframe thead th {\n",
       "        text-align: right;\n",
       "    }\n",
       "</style>\n",
       "<table border=\"1\" class=\"dataframe\">\n",
       "  <thead>\n",
       "    <tr style=\"text-align: right;\">\n",
       "      <th></th>\n",
       "      <th>time_created</th>\n",
       "      <th>day_of_week</th>\n",
       "    </tr>\n",
       "  </thead>\n",
       "  <tbody>\n",
       "    <tr>\n",
       "      <th>88471</th>\n",
       "      <td>1</td>\n",
       "      <td>1</td>\n",
       "    </tr>\n",
       "    <tr>\n",
       "      <th>20975</th>\n",
       "      <td>1</td>\n",
       "      <td>5</td>\n",
       "    </tr>\n",
       "    <tr>\n",
       "      <th>49022</th>\n",
       "      <td>18</td>\n",
       "      <td>2</td>\n",
       "    </tr>\n",
       "    <tr>\n",
       "      <th>24534</th>\n",
       "      <td>3</td>\n",
       "      <td>5</td>\n",
       "    </tr>\n",
       "    <tr>\n",
       "      <th>64954</th>\n",
       "      <td>10</td>\n",
       "      <td>1</td>\n",
       "    </tr>\n",
       "  </tbody>\n",
       "</table>\n",
       "</div>"
      ],
      "text/plain": [
       "       time_created  day_of_week\n",
       "88471             1            1\n",
       "20975             1            5\n",
       "49022            18            2\n",
       "24534             3            5\n",
       "64954            10            1"
      ]
     },
     "execution_count": 88,
     "metadata": {},
     "output_type": "execute_result"
    }
   ],
   "source": [
    "test_df[['time_created','day_of_week']].sample(5)  # Display a sample of the transformed test data"
   ]
  },
  {
   "cell_type": "code",
   "execution_count": 89,
   "id": "53a04ede",
   "metadata": {},
   "outputs": [],
   "source": [
    "# 1. Create 'is_weekend' feature\n",
    "# Days of the week are 0=Monday, 1=Tuesday, ..., 4=Friday, 5=Saturday, 6=Sunday\n",
    "# So, Saturday (5) and Sunday (6) are weekends.\n",
    "test_df['is_weekend'] = test_df['day_of_week'].isin([5, 6]).astype(int)\n",
    "\n",
    "# 2. Create 'is_working_hours' feature\n",
    "# Working hours are between 6 AM (inclusive) and 8 PM (inclusive)\n",
    "# This means hours 6, 7, ..., 20.\n",
    "test_df['is_working_hours'] = (\n",
    "    (test_df['time_created'] >= 6) &\n",
    "    (test_df['time_created'] <= 20)\n",
    ").astype(int)"
   ]
  },
  {
   "cell_type": "code",
   "execution_count": 90,
   "id": "d04d7eea",
   "metadata": {},
   "outputs": [
    {
     "name": "stdout",
     "output_type": "stream",
     "text": [
      "7333      new\n",
      "81408    used\n",
      "50637     new\n",
      "21824    used\n",
      "50766     new\n",
      "dtype: object\n"
     ]
    },
    {
     "data": {
      "text/html": [
       "<div>\n",
       "<style scoped>\n",
       "    .dataframe tbody tr th:only-of-type {\n",
       "        vertical-align: middle;\n",
       "    }\n",
       "\n",
       "    .dataframe tbody tr th {\n",
       "        vertical-align: top;\n",
       "    }\n",
       "\n",
       "    .dataframe thead th {\n",
       "        text-align: right;\n",
       "    }\n",
       "</style>\n",
       "<table border=\"1\" class=\"dataframe\">\n",
       "  <thead>\n",
       "    <tr style=\"text-align: right;\">\n",
       "      <th></th>\n",
       "      <th>time_created</th>\n",
       "      <th>is_working_hours</th>\n",
       "      <th>day_of_week</th>\n",
       "      <th>is_weekend</th>\n",
       "    </tr>\n",
       "  </thead>\n",
       "  <tbody>\n",
       "    <tr>\n",
       "      <th>7260</th>\n",
       "      <td>12</td>\n",
       "      <td>1</td>\n",
       "      <td>0</td>\n",
       "      <td>0</td>\n",
       "    </tr>\n",
       "    <tr>\n",
       "      <th>80604</th>\n",
       "      <td>22</td>\n",
       "      <td>0</td>\n",
       "      <td>5</td>\n",
       "      <td>1</td>\n",
       "    </tr>\n",
       "    <tr>\n",
       "      <th>50151</th>\n",
       "      <td>12</td>\n",
       "      <td>1</td>\n",
       "      <td>2</td>\n",
       "      <td>0</td>\n",
       "    </tr>\n",
       "    <tr>\n",
       "      <th>21618</th>\n",
       "      <td>0</td>\n",
       "      <td>0</td>\n",
       "      <td>2</td>\n",
       "      <td>0</td>\n",
       "    </tr>\n",
       "    <tr>\n",
       "      <th>50279</th>\n",
       "      <td>11</td>\n",
       "      <td>1</td>\n",
       "      <td>6</td>\n",
       "      <td>1</td>\n",
       "    </tr>\n",
       "  </tbody>\n",
       "</table>\n",
       "</div>"
      ],
      "text/plain": [
       "       time_created  is_working_hours  day_of_week  is_weekend\n",
       "7260             12                 1            0           0\n",
       "80604            22                 0            5           1\n",
       "50151            12                 1            2           0\n",
       "21618             0                 0            2           0\n",
       "50279            11                 1            6           1"
      ]
     },
     "execution_count": 90,
     "metadata": {},
     "output_type": "execute_result"
    }
   ],
   "source": [
    "idx = test_df.sample(5).index\n",
    "print(y_train_df.iloc[idx])\n",
    "test_df[['time_created','is_working_hours','day_of_week','is_weekend']].iloc[idx] \n"
   ]
  },
  {
   "cell_type": "code",
   "execution_count": 93,
   "id": "3d4da8ce",
   "metadata": {},
   "outputs": [
    {
     "data": {
      "image/png": "[encoded data removed]",
      "text/plain": [
       "<Figure size 800x600 with 2 Axes>"
      ]
     },
     "metadata": {},
     "output_type": "display_data"
    },
    {
     "name": "stdout",
     "output_type": "stream",
     "text": [
      "Correlation with 'target_is_new' (where 'new'=1, 'used'=0):\n",
      "target_is_new       1.000000\n",
      "is_weekend          0.001865\n",
      "day_of_week        -0.000202\n",
      "time_created       -0.000969\n",
      "is_working_hours   -0.003129\n",
      "Name: target_is_new, dtype: float64\n"
     ]
    }
   ],
   "source": [
    "# Understanding correlation with the target variable\n",
    "\n",
    "target_numerical = y_train_df.map({'new': 1, 'used': 0})\n",
    "correlation_df = test_df[['time_created', 'day_of_week', 'is_working_hours', 'is_weekend']].copy()\n",
    "correlation_df['target_is_new'] = target_numerical\n",
    "correlation_matrix = correlation_df.corr()\n",
    "\n",
    "# Graph\n",
    "plt.figure(figsize=(8, 6))\n",
    "sns.heatmap(\n",
    "    correlation_matrix,\n",
    "    annot=True,\n",
    "    cmap='coolwarm',\n",
    "    fmt=\".2f\",\n",
    "    linewidths=.5\n",
    ")\n",
    "plt.title('Correlation Matrix of New Features and Target Condition')\n",
    "plt.xticks(rotation=45, ha='right')\n",
    "plt.yticks(rotation=0)\n",
    "plt.tight_layout()\n",
    "#plt.savefig('new_features_correlation_heatmap.png')\n",
    "plt.show()\n",
    "\n",
    "print(\"Correlation with 'target_is_new' (where 'new'=1, 'used'=0):\")\n",
    "print(correlation_matrix['target_is_new'].sort_values(ascending=False))"
   ]
  },
  {
   "cell_type": "markdown",
   "id": "ef9f4929",
   "metadata": {},
   "source": [
    "While the correlation matrix might suggest that 'used' items tend to be posted more during weekends and non-working hours, this observation lacks statistical significance."
   ]
  },
  {
   "cell_type": "markdown",
   "id": "bd282813",
   "metadata": {},
   "source": [
    "Sadly, day or time do not appear to have a significant correlation with `target_condition`, rendering them less useful targets."
   ]
  },
  {
   "cell_type": "markdown",
   "id": "189d0c29",
   "metadata": {},
   "source": [
    "---"
   ]
  },
  {
   "cell_type": "code",
   "execution_count": 109,
   "id": "9df74731",
   "metadata": {},
   "outputs": [],
   "source": [
    "remove = ['listing_type_id_free',\n",
    " 'listing_type_id_gold',\n",
    " 'listing_type_id_gold_premium',\n",
    " 'listing_type_id_gold_pro',\n",
    " 'listing_type_id_gold_special',\n",
    " 'listing_type_id_silver']\n",
    "\n",
    "for feat in remove:\n",
    "    features.remove(feat)"
   ]
  },
  {
   "cell_type": "code",
   "execution_count": null,
   "id": "a2520ce1",
   "metadata": {},
   "outputs": [],
   "source": [
    "X_train_transformed_df['free_tier'] = X_train_transformed_df['listing_type_id_free'] == True\n",
    "X_test_transformed_df['free_tier'] = X_test_transformed_df['listing_type_id_free'] == True\n",
    "features.append('free_tier')"
   ]
  },
  {
   "cell_type": "code",
   "execution_count": 111,
   "id": "286776b6",
   "metadata": {},
   "outputs": [
    {
     "data": {
      "text/plain": [
       "Index(['accepts_mercadopago', 'automatic_relist', 'price_scaled',\n",
       "       'initial_quantity_scaled', 'is_USD', 'buying_mode_buy_it_now',\n",
       "       'buying_mode_classified', 'status_not_yet_active', 'status_paused',\n",
       "       'free_tier'],\n",
       "      dtype='object')"
      ]
     },
     "execution_count": 111,
     "metadata": {},
     "output_type": "execute_result"
    }
   ],
   "source": [
    "X_train_transformed_df[features].columns"
   ]
  },
  {
   "cell_type": "code",
   "execution_count": 112,
   "id": "bca16679",
   "metadata": {},
   "outputs": [
    {
     "name": "stdout",
     "output_type": "stream",
     "text": [
      "Numerical features for filtering:\n",
      "['accepts_mercadopago', 'automatic_relist', 'price_scaled', 'initial_quantity_scaled', 'is_USD', 'buying_mode_buy_it_now', 'buying_mode_classified', 'status_not_yet_active', 'status_paused', 'free_tier']\n"
     ]
    }
   ],
   "source": [
    "# Get the numerical columns\n",
    "numerical_features = X_train_transformed_df[features].select_dtypes(include=['number','bool']).columns.tolist()\n",
    "\n",
    "print(\"Numerical features for filtering:\")\n",
    "print(numerical_features)"
   ]
  },
  {
   "cell_type": "code",
   "execution_count": 113,
   "id": "f0056b8d",
   "metadata": {},
   "outputs": [
    {
     "name": "stdout",
     "output_type": "stream",
     "text": [
      "CORRELATION\n"
     ]
    },
    {
     "data": {
      "text/plain": [
       "automatic_relist           0.187453\n",
       "buying_mode_buy_it_now     0.099804\n",
       "accepts_mercadopago        0.092842\n",
       "initial_quantity_scaled    0.071924\n",
       "status_paused              0.067348\n",
       "status_not_yet_active      0.003110\n",
       "price_scaled              -0.000968\n",
       "is_USD                    -0.025116\n",
       "buying_mode_classified    -0.092842\n",
       "free_tier                 -0.485303\n",
       "Name: target_encoded, dtype: float64"
      ]
     },
     "execution_count": 113,
     "metadata": {},
     "output_type": "execute_result"
    }
   ],
   "source": [
    "# Join X_train_transformed_df with y_train_df for correlation analysis\n",
    "df_corr = X_train_transformed_df[numerical_features].copy()\n",
    "df_corr['target'] = y_train_df.reset_index(drop=True)\n",
    "\n",
    "# If 'target' is categorical, encode it for correlation calculation\n",
    "df_corr['target_encoded'] = (df_corr['target'] == 'new').astype(int)\n",
    "\n",
    "# Compute correlation with the target\n",
    "print(\"CORRELATION\")\n",
    "correlations = df_corr.corr(numeric_only=True)['target_encoded'].sort_values(ascending=False)\n",
    "correlations[1:]  # Exclude the target itself from the results"
   ]
  },
  {
   "cell_type": "markdown",
   "id": "c1f6c82a",
   "metadata": {},
   "source": [
    "`status` is not adding any predictive value. It's mostly unbalanced ('active' value) and doesn't add relevant information."
   ]
  },
  {
   "cell_type": "code",
   "execution_count": 114,
   "id": "3d8db99f",
   "metadata": {},
   "outputs": [
    {
     "name": "stdout",
     "output_type": "stream",
     "text": [
      "PREDICTIVENESS\n"
     ]
    },
    {
     "data": {
      "text/plain": [
       "free_tier                  0.485303\n",
       "automatic_relist           0.187453\n",
       "buying_mode_buy_it_now     0.099804\n",
       "accepts_mercadopago        0.092842\n",
       "buying_mode_classified     0.092842\n",
       "initial_quantity_scaled    0.071924\n",
       "status_paused              0.067348\n",
       "is_USD                     0.025116\n",
       "status_not_yet_active      0.003110\n",
       "price_scaled               0.000968\n",
       "Name: target_encoded, dtype: float64"
      ]
     },
     "execution_count": 114,
     "metadata": {},
     "output_type": "execute_result"
    }
   ],
   "source": [
    "print(\"PREDICTIVENESS\")\n",
    "predictiveness = abs(correlations[1:]).sort_values(ascending=False)\n",
    "predictiveness"
   ]
  },
  {
   "cell_type": "code",
   "execution_count": 115,
   "id": "e90d8cc8",
   "metadata": {},
   "outputs": [
    {
     "name": "stdout",
     "output_type": "stream",
     "text": [
      "Best predictor for 'new' items is 'free_tier', while worst is 'price_scaled'\n"
     ]
    }
   ],
   "source": [
    "print(f\"Best predictor for 'new' items is '{predictiveness.idxmax()}', while worst is '{predictiveness.idxmin()}'\")"
   ]
  },
  {
   "cell_type": "markdown",
   "id": "93ebd772",
   "metadata": {},
   "source": [
    "---\n",
    "# 6º iteration"
   ]
  },
  {
   "cell_type": "markdown",
   "id": "b362fdcc",
   "metadata": {},
   "source": [
    "## Categorical `quantity`"
   ]
  },
  {
   "cell_type": "code",
   "execution_count": 116,
   "id": "3550b464",
   "metadata": {},
   "outputs": [
    {
     "data": {
      "text/plain": [
       "Index(['seller_address', 'warranty', 'deal_ids', 'base_price', 'shipping',\n",
       "       'non_mercado_pago_payment_methods', 'seller_id', 'variations',\n",
       "       'site_id', 'listing_type_id', 'attributes', 'buying_mode', 'tags',\n",
       "       'parent_item_id', 'category_id', 'descriptions', 'last_updated',\n",
       "       'pictures', 'id', 'official_store_id', 'accepts_mercadopago',\n",
       "       'original_price', 'thumbnail', 'title', 'automatic_relist',\n",
       "       'date_created', 'secure_thumbnail', 'stop_time', 'status', 'video_id',\n",
       "       'catalog_product_id', 'start_time', 'permalink', 'sold_quantity',\n",
       "       'available_quantity', 'price_scaled', 'initial_quantity_scaled',\n",
       "       'is_USD'],\n",
       "      dtype='object')"
      ]
     },
     "execution_count": 116,
     "metadata": {},
     "output_type": "execute_result"
    }
   ],
   "source": [
    "X_train_df.columns"
   ]
  },
  {
   "cell_type": "code",
   "execution_count": 152,
   "id": "afc34a91",
   "metadata": {},
   "outputs": [],
   "source": [
    "quantity = pd.DataFrame(X_train)['initial_quantity']"
   ]
  },
  {
   "cell_type": "code",
   "execution_count": 153,
   "id": "a8e5d2c3",
   "metadata": {},
   "outputs": [
    {
     "data": {
      "text/plain": [
       "0        single_unit\n",
       "1        single_unit\n",
       "2        single_unit\n",
       "3        single_unit\n",
       "4        single_unit\n",
       "            ...     \n",
       "89104    single_unit\n",
       "89105          large\n",
       "89106          large\n",
       "89107          small\n",
       "89108    single_unit\n",
       "Name: quantity_category, Length: 89109, dtype: object"
      ]
     },
     "execution_count": 153,
     "metadata": {},
     "output_type": "execute_result"
    }
   ],
   "source": [
    "def categorize_quantity(quantity_value):\n",
    "    if quantity_value == 1:\n",
    "        return 'single_unit'\n",
    "    elif 1 < quantity_value < 10:\n",
    "        return 'small'\n",
    "    else: # value >= 10 or value <= 0 (assuming quantity can't be negative in real scenario)\n",
    "        return 'large'\n",
    "    \n",
    "df_test = X_train_transformed_df.copy()\n",
    "df_test['quantity_category'] = quantity.apply(categorize_quantity)\n",
    "df_test['quantity_category']"
   ]
  },
  {
   "cell_type": "code",
   "execution_count": 154,
   "id": "47e7667c",
   "metadata": {},
   "outputs": [],
   "source": [
    "# Apply one-hot encoding to the 'quantity_category' column\n",
    "df_test = pd.get_dummies(df_test, columns=['quantity_category'], prefix='quant', drop_first=False)"
   ]
  },
  {
   "cell_type": "code",
   "execution_count": 155,
   "id": "b5040eba",
   "metadata": {},
   "outputs": [
    {
     "data": {
      "text/html": [
       "<div>\n",
       "<style scoped>\n",
       "    .dataframe tbody tr th:only-of-type {\n",
       "        vertical-align: middle;\n",
       "    }\n",
       "\n",
       "    .dataframe tbody tr th {\n",
       "        vertical-align: top;\n",
       "    }\n",
       "\n",
       "    .dataframe thead th {\n",
       "        text-align: right;\n",
       "    }\n",
       "</style>\n",
       "<table border=\"1\" class=\"dataframe\">\n",
       "  <thead>\n",
       "    <tr style=\"text-align: right;\">\n",
       "      <th></th>\n",
       "      <th>quant_single_unit</th>\n",
       "      <th>quant_small</th>\n",
       "    </tr>\n",
       "  </thead>\n",
       "  <tbody>\n",
       "    <tr>\n",
       "      <th>84962</th>\n",
       "      <td>True</td>\n",
       "      <td>False</td>\n",
       "    </tr>\n",
       "    <tr>\n",
       "      <th>56390</th>\n",
       "      <td>True</td>\n",
       "      <td>False</td>\n",
       "    </tr>\n",
       "    <tr>\n",
       "      <th>78027</th>\n",
       "      <td>True</td>\n",
       "      <td>False</td>\n",
       "    </tr>\n",
       "    <tr>\n",
       "      <th>78860</th>\n",
       "      <td>False</td>\n",
       "      <td>False</td>\n",
       "    </tr>\n",
       "    <tr>\n",
       "      <th>7173</th>\n",
       "      <td>True</td>\n",
       "      <td>False</td>\n",
       "    </tr>\n",
       "  </tbody>\n",
       "</table>\n",
       "</div>"
      ],
      "text/plain": [
       "       quant_single_unit  quant_small\n",
       "84962               True        False\n",
       "56390               True        False\n",
       "78027               True        False\n",
       "78860              False        False\n",
       "7173                True        False"
      ]
     },
     "execution_count": 155,
     "metadata": {},
     "output_type": "execute_result"
    }
   ],
   "source": [
    "df_test[['quant_single_unit','quant_small']].sample(5)"
   ]
  },
  {
   "cell_type": "code",
   "execution_count": 156,
   "id": "469ae95d",
   "metadata": {},
   "outputs": [
    {
     "data": {
      "text/plain": [
       "['quant_large', 'quant_single_unit', 'quant_small']"
      ]
     },
     "execution_count": 156,
     "metadata": {},
     "output_type": "execute_result"
    }
   ],
   "source": [
    "# Store new features names\n",
    "quant_feat = [x for x in df_test.columns.to_list() if x.startswith('quant')]\n",
    "quant_feat"
   ]
  },
  {
   "cell_type": "code",
   "execution_count": 157,
   "id": "bd7e009f",
   "metadata": {},
   "outputs": [
    {
     "data": {
      "image/png": "[encoded data removed]",
      "text/plain": [
       "<Figure size 800x600 with 2 Axes>"
      ]
     },
     "metadata": {},
     "output_type": "display_data"
    },
    {
     "name": "stdout",
     "output_type": "stream",
     "text": [
      "Correlation with 'target_is_new' (where 'new'=1, 'used'=0):\n",
      "target_is_new        1.000000\n",
      "quant_large          0.350855\n",
      "quant_small          0.340787\n",
      "quant_single_unit   -0.537574\n",
      "Name: target_is_new, dtype: float64\n"
     ]
    }
   ],
   "source": [
    "# Understanding correlation with the target variable\n",
    "\n",
    "target_numerical = y_train_df.map({'new': 1, 'used': 0})\n",
    "correlation_df = df_test[quant_feat].copy()\n",
    "correlation_df['target_is_new'] = target_numerical\n",
    "correlation_matrix = correlation_df.corr()\n",
    "\n",
    "# Graph\n",
    "plt.figure(figsize=(8, 6))\n",
    "sns.heatmap(\n",
    "    correlation_matrix,\n",
    "    annot=True,\n",
    "    cmap='coolwarm',\n",
    "    fmt=\".2f\",\n",
    "    linewidths=.5\n",
    ")\n",
    "plt.title('Correlation Matrix of New Features and Target Condition')\n",
    "plt.xticks(rotation=45, ha='right')\n",
    "plt.yticks(rotation=0)\n",
    "plt.tight_layout()\n",
    "#plt.savefig('new_features_correlation_heatmap.png')\n",
    "plt.show()\n",
    "\n",
    "print(\"Correlation with 'target_is_new' (where 'new'=1, 'used'=0):\")\n",
    "print(correlation_matrix['target_is_new'].sort_values(ascending=False))"
   ]
  },
  {
   "cell_type": "markdown",
   "id": "75ac1677",
   "metadata": {},
   "source": [
    "As we can see, there's a clear correlation between target and quant_single_unit, but not for the others. So, it makes sense to  keep just a categorical feature `single_unit` instead."
   ]
  },
  {
   "cell_type": "code",
   "execution_count": 158,
   "id": "e4c78ffe",
   "metadata": {},
   "outputs": [
    {
     "data": {
      "text/plain": [
       "0         True\n",
       "1         True\n",
       "2         True\n",
       "3         True\n",
       "4         True\n",
       "         ...  \n",
       "89104     True\n",
       "89105    False\n",
       "89106    False\n",
       "89107    False\n",
       "89108     True\n",
       "Name: is_single_unit, Length: 89109, dtype: bool"
      ]
     },
     "execution_count": 158,
     "metadata": {},
     "output_type": "execute_result"
    }
   ],
   "source": [
    "df_test['is_single_unit'] = quantity == 1\n",
    "df_test['is_single_unit']"
   ]
  }
 ],
 "metadata": {
  "kernelspec": {
   "display_name": ".venv",
   "language": "python",
   "name": "python3"
  },
  "language_info": {
   "codemirror_mode": {
    "name": "ipython",
    "version": 3
   },
   "file_extension": ".py",
   "mimetype": "text/x-python",
   "name": "python",
   "nbconvert_exporter": "python",
   "pygments_lexer": "ipython3",
   "version": "3.11.7"
  }
 },
 "nbformat": 4,
 "nbformat_minor": 5
}

{
 "cells": [
  {
   "cell_type": "markdown",
   "id": "02fe515b",
   "metadata": {},
   "source": [
    "# Model Design"
   ]
  },
  {
   "cell_type": "code",
   "execution_count": 1,
   "id": "edbabc84",
   "metadata": {},
   "outputs": [],
   "source": [
    "import pandas as pd\n",
    "import matplotlib.pyplot as plt\n",
    "from sklearn.linear_model import LogisticRegression\n",
    "from sklearn.metrics import accuracy_score, classification_report, confusion_matrix, f1_score\n",
    "from scripts.data_processor import load_processed_data\n",
    "\n",
    "classes = {1: 'new', 0: 'used'} # tags for human readabilty\n",
    "save_graph = True # Option for saving graphs' images"
   ]
  },
  {
   "cell_type": "code",
   "execution_count": 2,
   "id": "a7c65435",
   "metadata": {},
   "outputs": [
    {
     "name": "stdout",
     "output_type": "stream",
     "text": [
      "Logging file loaded from './data/train_logs.csv'.\n",
      "Register contains data of 7 trainings.\n"
     ]
    },
    {
     "data": {
      "text/html": [
       "<div>\n",
       "<style scoped>\n",
       "    .dataframe tbody tr th:only-of-type {\n",
       "        vertical-align: middle;\n",
       "    }\n",
       "\n",
       "    .dataframe tbody tr th {\n",
       "        vertical-align: top;\n",
       "    }\n",
       "\n",
       "    .dataframe thead th {\n",
       "        text-align: right;\n",
       "    }\n",
       "</style>\n",
       "<table border=\"1\" class=\"dataframe\">\n",
       "  <thead>\n",
       "    <tr style=\"text-align: right;\">\n",
       "      <th></th>\n",
       "      <th>features</th>\n",
       "      <th>model</th>\n",
       "      <th>items</th>\n",
       "      <th>cm</th>\n",
       "      <th>metrics</th>\n",
       "      <th>roc_auc</th>\n",
       "    </tr>\n",
       "    <tr>\n",
       "      <th>training</th>\n",
       "      <th></th>\n",
       "      <th></th>\n",
       "      <th></th>\n",
       "      <th></th>\n",
       "      <th></th>\n",
       "      <th></th>\n",
       "    </tr>\n",
       "  </thead>\n",
       "  <tbody>\n",
       "    <tr>\n",
       "      <th>0</th>\n",
       "      <td>{'train': {'feat': ['accepts_mercadopago', 'au...</td>\n",
       "      <td>LogisticRegression</td>\n",
       "      <td>{'train': 89109, 'test': 9905}</td>\n",
       "      <td>[[0.9590577678070668, 0.04094223219293326], [0...</td>\n",
       "      <td>{'new': {'precision': 0.6804615996816554, 'rec...</td>\n",
       "      <td>0.715152</td>\n",
       "    </tr>\n",
       "    <tr>\n",
       "      <th>1</th>\n",
       "      <td>{'train': {'feat': ['accepts_mercadopago', 'au...</td>\n",
       "      <td>LogisticRegression</td>\n",
       "      <td>{'train': 89109, 'test': 9905}</td>\n",
       "      <td>[[0.9584969153112731, 0.04150308468872686], [0...</td>\n",
       "      <td>{'new': {'precision': 0.680605336519315, 'reca...</td>\n",
       "      <td>0.715201</td>\n",
       "    </tr>\n",
       "    <tr>\n",
       "      <th>2</th>\n",
       "      <td>{'train': {'feat': ['accepts_mercadopago', 'au...</td>\n",
       "      <td>LogisticRegression</td>\n",
       "      <td>{'train': 89109, 'test': 9905}</td>\n",
       "      <td>[[0.9584969153112731, 0.04150308468872686], [0...</td>\n",
       "      <td>{'new': {'precision': 0.680605336519315, 'reca...</td>\n",
       "      <td>0.715201</td>\n",
       "    </tr>\n",
       "    <tr>\n",
       "      <th>3</th>\n",
       "      <td>{'train': {'feat': ['accepts_mercadopago', 'au...</td>\n",
       "      <td>LogisticRegression</td>\n",
       "      <td>{'train': 89109, 'test': 9905}</td>\n",
       "      <td>[[0.9584969153112731, 0.04150308468872686], [0...</td>\n",
       "      <td>{'new': {'precision': 0.680605336519315, 'reca...</td>\n",
       "      <td>0.715201</td>\n",
       "    </tr>\n",
       "    <tr>\n",
       "      <th>4</th>\n",
       "      <td>{'train': {'feat': ['accepts_mercadopago', 'au...</td>\n",
       "      <td>LogisticRegression</td>\n",
       "      <td>{'train': 89109, 'test': 9905}</td>\n",
       "      <td>[[0.9584969153112731, 0.04150308468872686], [0...</td>\n",
       "      <td>{'new': {'precision': 0.680605336519315, 'reca...</td>\n",
       "      <td>0.715201</td>\n",
       "    </tr>\n",
       "    <tr>\n",
       "      <th>5</th>\n",
       "      <td>{'train': {'feat': ['accepts_mercadopago', 'au...</td>\n",
       "      <td>LogisticRegression</td>\n",
       "      <td>{'train': 89109, 'test': 9905}</td>\n",
       "      <td>[[0.5427182650962796, 0.4572817349037203], [0....</td>\n",
       "      <td>{'new': {'precision': 0.9647723496178132, 'rec...</td>\n",
       "      <td>0.759726</td>\n",
       "    </tr>\n",
       "    <tr>\n",
       "      <th>6</th>\n",
       "      <td>{'train': {'feat': ['accepts_mercadopago', 'au...</td>\n",
       "      <td>LogisticRegression</td>\n",
       "      <td>{'train': 89109, 'test': 9905}</td>\n",
       "      <td>[[0.7218171620863713, 0.2781828379136287], [0....</td>\n",
       "      <td>{'new': {'precision': 0.8847387717690193, 'rec...</td>\n",
       "      <td>0.805707</td>\n",
       "    </tr>\n",
       "  </tbody>\n",
       "</table>\n",
       "</div>"
      ],
      "text/plain": [
       "                                                   features  \\\n",
       "training                                                      \n",
       "0         {'train': {'feat': ['accepts_mercadopago', 'au...   \n",
       "1         {'train': {'feat': ['accepts_mercadopago', 'au...   \n",
       "2         {'train': {'feat': ['accepts_mercadopago', 'au...   \n",
       "3         {'train': {'feat': ['accepts_mercadopago', 'au...   \n",
       "4         {'train': {'feat': ['accepts_mercadopago', 'au...   \n",
       "5         {'train': {'feat': ['accepts_mercadopago', 'au...   \n",
       "6         {'train': {'feat': ['accepts_mercadopago', 'au...   \n",
       "\n",
       "                       model                           items  \\\n",
       "training                                                       \n",
       "0         LogisticRegression  {'train': 89109, 'test': 9905}   \n",
       "1         LogisticRegression  {'train': 89109, 'test': 9905}   \n",
       "2         LogisticRegression  {'train': 89109, 'test': 9905}   \n",
       "3         LogisticRegression  {'train': 89109, 'test': 9905}   \n",
       "4         LogisticRegression  {'train': 89109, 'test': 9905}   \n",
       "5         LogisticRegression  {'train': 89109, 'test': 9905}   \n",
       "6         LogisticRegression  {'train': 89109, 'test': 9905}   \n",
       "\n",
       "                                                         cm  \\\n",
       "training                                                      \n",
       "0         [[0.9590577678070668, 0.04094223219293326], [0...   \n",
       "1         [[0.9584969153112731, 0.04150308468872686], [0...   \n",
       "2         [[0.9584969153112731, 0.04150308468872686], [0...   \n",
       "3         [[0.9584969153112731, 0.04150308468872686], [0...   \n",
       "4         [[0.9584969153112731, 0.04150308468872686], [0...   \n",
       "5         [[0.5427182650962796, 0.4572817349037203], [0....   \n",
       "6         [[0.7218171620863713, 0.2781828379136287], [0....   \n",
       "\n",
       "                                                    metrics   roc_auc  \n",
       "training                                                               \n",
       "0         {'new': {'precision': 0.6804615996816554, 'rec...  0.715152  \n",
       "1         {'new': {'precision': 0.680605336519315, 'reca...  0.715201  \n",
       "2         {'new': {'precision': 0.680605336519315, 'reca...  0.715201  \n",
       "3         {'new': {'precision': 0.680605336519315, 'reca...  0.715201  \n",
       "4         {'new': {'precision': 0.680605336519315, 'reca...  0.715201  \n",
       "5         {'new': {'precision': 0.9647723496178132, 'rec...  0.759726  \n",
       "6         {'new': {'precision': 0.8847387717690193, 'rec...  0.805707  "
      ]
     },
     "execution_count": 2,
     "metadata": {},
     "output_type": "execute_result"
    }
   ],
   "source": [
    "# Logging file\n",
    "try:\n",
    "    history = pd.read_csv('./data/train_logs.csv',index_col='training')\n",
    "    print(\"Logging file loaded from './data/train_logs.csv'.\")\n",
    "    print(f\"Register contains data of {len(history)} trainings.\")\n",
    "except FileNotFoundError:\n",
    "    print(\"Logging file was not found. A new logging file was created.\")\n",
    "    history = pd.DataFrame(columns=['features','model','items','cm','metrics','roc_auc'])\n",
    "    history.index.name = 'training' # Set the name for the DataFrame's index\n",
    "except Exception as e:\n",
    "    # Catch other potential errors during CSV loading (e.g., parsing errors)\n",
    "    print(f\"An unexpected error occurred while loading the logging file: {e}\")\n",
    "    print(\"Creating a new logging file instead.\")\n",
    "    history = pd.DataFrame(columns=['features', 'model', 'items', 'cm', 'metrics', 'roc_auc'])\n",
    "    history.index.name = 'training'\n",
    "history"
   ]
  },
  {
   "cell_type": "code",
   "execution_count": null,
   "id": "54bf7374",
   "metadata": {},
   "outputs": [],
   "source": [
    "# Remove last record ('undo' feature)\n",
    "# history = history.drop(index=len(history)-1)"
   ]
  },
  {
   "cell_type": "markdown",
   "id": "1bb0d589",
   "metadata": {},
   "source": [
    "***NOTE:*** *Each section of this notebook should be run independently, as they correspond to distinct iterations of the productive cycle, alternating between EDA & Feature Selection (`EDA.ipynb`) and Train & Evaluate (`model_design.ipynb`).*\n",
    "\n",
    "---\n",
    "---"
   ]
  },
  {
   "cell_type": "markdown",
   "id": "ea542fdd",
   "metadata": {},
   "source": [
    "# 1º iteration - Quick training test"
   ]
  },
  {
   "cell_type": "code",
   "execution_count": null,
   "id": "cb1af3fe",
   "metadata": {},
   "outputs": [],
   "source": [
    "index = len(history) # used for logging\n",
    "history.loc[index] = None # Creates an empty row"
   ]
  },
  {
   "cell_type": "code",
   "execution_count": 25,
   "id": "05b94891",
   "metadata": {},
   "outputs": [
    {
     "name": "stdout",
     "output_type": "stream",
     "text": [
      "Importing data from 'new_or_used.py'…\n",
      "Starting preprocessing…\n",
      "Succesfully finished.\n",
      "\n"
     ]
    }
   ],
   "source": [
    "X_train, y_train, X_test, y_test = load_processed_data()"
   ]
  },
  {
   "cell_type": "code",
   "execution_count": 127,
   "id": "b963d7e1",
   "metadata": {},
   "outputs": [],
   "source": [
    "y_train_lbl = y_train.map(classes)\n",
    "y_test_lbl = y_test.map(classes)"
   ]
  },
  {
   "cell_type": "markdown",
   "id": "36131631",
   "metadata": {},
   "source": [
    "### Dataset info"
   ]
  },
  {
   "cell_type": "code",
   "execution_count": 133,
   "id": "0cda91d0",
   "metadata": {},
   "outputs": [
    {
     "name": "stdout",
     "output_type": "stream",
     "text": [
      "Split sizes: 89109 train, 9905 test\n"
     ]
    }
   ],
   "source": [
    "size = {'train':len(X_train),'test':len(X_test)}\n",
    "print(\"Split sizes: {} train, {} test\".format(size['train'], size['test']))"
   ]
  },
  {
   "cell_type": "code",
   "execution_count": 134,
   "id": "88ce086f",
   "metadata": {},
   "outputs": [],
   "source": [
    "features = {'train': {'feat': None, 'target': None},\n",
    "            'test': {'feat': None, 'target': None}}"
   ]
  },
  {
   "cell_type": "markdown",
   "id": "53c34576",
   "metadata": {},
   "source": [
    "#### Train split"
   ]
  },
  {
   "cell_type": "code",
   "execution_count": 137,
   "id": "7cc1c8ed",
   "metadata": {},
   "outputs": [
    {
     "name": "stdout",
     "output_type": "stream",
     "text": [
      "<class 'pandas.core.frame.DataFrame'>\n",
      "RangeIndex: 89109 entries, 0 to 89108\n",
      "Data columns (total 15 columns):\n",
      " #   Column                        Non-Null Count  Dtype  \n",
      "---  ------                        --------------  -----  \n",
      " 0   accepts_mercadopago           89109 non-null  uint8  \n",
      " 1   automatic_relist              89109 non-null  uint8  \n",
      " 2   price_scaled                  89109 non-null  float64\n",
      " 3   initial_quantity_scaled       89109 non-null  float64\n",
      " 4   is_USD                        89109 non-null  uint8  \n",
      " 5   listing_type_id_free          89109 non-null  float64\n",
      " 6   listing_type_id_gold          89109 non-null  float64\n",
      " 7   listing_type_id_gold_premium  89109 non-null  float64\n",
      " 8   listing_type_id_gold_pro      89109 non-null  float64\n",
      " 9   listing_type_id_gold_special  89109 non-null  float64\n",
      " 10  listing_type_id_silver        89109 non-null  float64\n",
      " 11  buying_mode_buy_it_now        89109 non-null  float64\n",
      " 12  buying_mode_classified        89109 non-null  float64\n",
      " 13  status_not_yet_active         89109 non-null  float64\n",
      " 14  status_paused                 89109 non-null  float64\n",
      "dtypes: float64(12), uint8(3)\n",
      "memory usage: 8.4 MB\n"
     ]
    }
   ],
   "source": [
    "X_train.info()"
   ]
  },
  {
   "cell_type": "code",
   "execution_count": 138,
   "id": "7a94e33a",
   "metadata": {},
   "outputs": [
    {
     "data": {
      "text/plain": [
       "new     47859\n",
       "used    41250\n",
       "Name: count, dtype: int64"
      ]
     },
     "execution_count": 138,
     "metadata": {},
     "output_type": "execute_result"
    }
   ],
   "source": [
    "y_train_lbl.value_counts()"
   ]
  },
  {
   "cell_type": "markdown",
   "id": "f549b0e8",
   "metadata": {},
   "source": [
    "#### Test split"
   ]
  },
  {
   "cell_type": "code",
   "execution_count": 140,
   "id": "ea9622be",
   "metadata": {},
   "outputs": [
    {
     "name": "stdout",
     "output_type": "stream",
     "text": [
      "<class 'pandas.core.frame.DataFrame'>\n",
      "RangeIndex: 9905 entries, 0 to 9904\n",
      "Data columns (total 15 columns):\n",
      " #   Column                        Non-Null Count  Dtype  \n",
      "---  ------                        --------------  -----  \n",
      " 0   accepts_mercadopago           9905 non-null   uint8  \n",
      " 1   automatic_relist              9905 non-null   uint8  \n",
      " 2   price_scaled                  9905 non-null   float64\n",
      " 3   initial_quantity_scaled       9905 non-null   float64\n",
      " 4   is_USD                        9905 non-null   uint8  \n",
      " 5   listing_type_id_free          9905 non-null   float64\n",
      " 6   listing_type_id_gold          9905 non-null   float64\n",
      " 7   listing_type_id_gold_premium  9905 non-null   float64\n",
      " 8   listing_type_id_gold_pro      9905 non-null   float64\n",
      " 9   listing_type_id_gold_special  9905 non-null   float64\n",
      " 10  listing_type_id_silver        9905 non-null   float64\n",
      " 11  buying_mode_buy_it_now        9905 non-null   float64\n",
      " 12  buying_mode_classified        9905 non-null   float64\n",
      " 13  status_not_yet_active         9905 non-null   float64\n",
      " 14  status_paused                 9905 non-null   float64\n",
      "dtypes: float64(12), uint8(3)\n",
      "memory usage: 957.7 KB\n"
     ]
    }
   ],
   "source": [
    "X_test.info()"
   ]
  },
  {
   "cell_type": "code",
   "execution_count": 141,
   "id": "0e2008ee",
   "metadata": {},
   "outputs": [
    {
     "data": {
      "text/plain": [
       "new     5349\n",
       "used    4556\n",
       "Name: count, dtype: int64"
      ]
     },
     "execution_count": 141,
     "metadata": {},
     "output_type": "execute_result"
    }
   ],
   "source": [
    "y_test_lbl.value_counts()"
   ]
  },
  {
   "cell_type": "markdown",
   "id": "2dc18292",
   "metadata": {},
   "source": [
    "#### Logging"
   ]
  },
  {
   "cell_type": "code",
   "execution_count": 142,
   "id": "32178828",
   "metadata": {},
   "outputs": [],
   "source": [
    "# Keep tracking of every feature\n",
    "history.at[index, 'items'] = size\n",
    "features['train']['feat'] = X_train.columns.to_list()\n",
    "features['test']['feat'] = X_test.columns.to_list()\n",
    "features['train']['target'] = y_train_lbl.value_counts().to_dict()\n",
    "features['test']['target'] = y_test_lbl.value_counts().to_dict()\n",
    "history.at[index, 'features'] = features"
   ]
  },
  {
   "cell_type": "markdown",
   "id": "4e2f6320",
   "metadata": {},
   "source": [
    "## Model training"
   ]
  },
  {
   "cell_type": "code",
   "execution_count": null,
   "id": "73087e62",
   "metadata": {},
   "outputs": [],
   "source": [
    "# Initialize the Logistic Regression model\n",
    "model = LogisticRegression(random_state=42)\n",
    "history.at[index, 'model'] = model.__class__.__name__ # for logging"
   ]
  },
  {
   "cell_type": "code",
   "execution_count": 146,
   "id": "ce0928e9",
   "metadata": {},
   "outputs": [
    {
     "name": "stdout",
     "output_type": "stream",
     "text": [
      "Training the Logistic Regression model...\n",
      "Model training complete.\n"
     ]
    }
   ],
   "source": [
    "# Train the model using the scaled training data\n",
    "print(\"Training the Logistic Regression model...\")\n",
    "model.fit(X_train, y_train)\n",
    "print(\"Model training complete.\")"
   ]
  },
  {
   "cell_type": "markdown",
   "id": "bd593829",
   "metadata": {},
   "source": [
    "## Model evaluation"
   ]
  },
  {
   "cell_type": "code",
   "execution_count": 35,
   "id": "e6ab8aaa",
   "metadata": {},
   "outputs": [],
   "source": [
    "# Predict on the scaled test data\n",
    "y_pred = model.predict(X_test)\n",
    "y_pred_lbl = pd.Series(y_pred).map(classes)\n",
    "\n",
    "# Getprediction probabilities (useful for ROC curves, etc.\n",
    "y_pred_proba = model.predict_proba(X_test) "
   ]
  },
  {
   "cell_type": "code",
   "execution_count": null,
   "id": "b7f6773e",
   "metadata": {},
   "outputs": [
    {
     "name": "stdout",
     "output_type": "stream",
     "text": [
      "Accuracy: 0.7347\n",
      "\n",
      "Classification Report:\n",
      "              precision    recall  f1-score   support\n",
      "\n",
      "         new      0.680     0.959     0.796      5349\n",
      "        used      0.907     0.471     0.620      4556\n",
      "\n",
      "    accuracy                          0.735      9905\n",
      "   macro avg      0.794     0.715     0.708      9905\n",
      "weighted avg      0.785     0.735     0.715      9905\n",
      "\n"
     ]
    }
   ],
   "source": [
    "# PERFORMANCE EVALUATION\n",
    "# Accuracy Score\n",
    "accuracy = accuracy_score(y_test, y_pred)\n",
    "print(f\"Accuracy: {accuracy:.4f}\")\n",
    "\n",
    "# Classification Report (provides Precision, Recall, F1-Score for each class)\n",
    "class_report = classification_report(y_test_lbl, y_pred_lbl, digits=3)\n",
    "print(\"\\nClassification Report:\")\n",
    "print(class_report)"
   ]
  },
  {
   "cell_type": "code",
   "execution_count": 45,
   "id": "521bed92",
   "metadata": {},
   "outputs": [
    {
     "data": {
      "text/plain": [
       "0.7959944108057755"
      ]
     },
     "execution_count": 45,
     "metadata": {},
     "output_type": "execute_result"
    }
   ],
   "source": [
    "f1_score(y_test, y_pred, average='binary')"
   ]
  },
  {
   "cell_type": "code",
   "execution_count": 53,
   "id": "088646ec",
   "metadata": {},
   "outputs": [
    {
     "data": {
      "image/png": "[encoded data removed]",
      "text/plain": [
       "<Figure size 800x600 with 2 Axes>"
      ]
     },
     "metadata": {},
     "output_type": "display_data"
    }
   ],
   "source": [
    "import matplotlib.pyplot as plt\n",
    "import seaborn as sns\n",
    "\n",
    "# Calculate the confusion matrix\n",
    "conf_matrix = confusion_matrix(y_test_lbl, y_pred_lbl)\n",
    "\n",
    "# Plot the confusion matrix\n",
    "plt.figure(figsize=(8, 6))\n",
    "sns.heatmap(conf_matrix, annot=True, fmt='d', cmap='Blues',\n",
    "            xticklabels=['Predicted New', 'Predicted Used'],\n",
    "            yticklabels=['Actual New', 'Actual Used'])\n",
    "plt.xlabel('Predicted Label')\n",
    "plt.ylabel('True Label')\n",
    "plt.title('Confusion Matrix')\n",
    "plt.tight_layout()\n",
    "if save_graph: plt.savefig('confusion_matrix.png')"
   ]
  },
  {
   "cell_type": "code",
   "execution_count": 38,
   "id": "a4e0a823",
   "metadata": {},
   "outputs": [
    {
     "data": {
      "image/png": "[encoded data removed]",
      "text/plain": [
       "<Figure size 800x600 with 1 Axes>"
      ]
     },
     "metadata": {},
     "output_type": "display_data"
    }
   ],
   "source": [
    "import matplotlib.pyplot as plt\n",
    "from sklearn.metrics import roc_curve, auc\n",
    "\n",
    "# Extract the probabilities of the positive class (second column)\n",
    "#y_pred_proba_positive = y_pred_proba[:, 1]\n",
    "\n",
    "# Calculate ROC curve and AUC\n",
    "fpr, tpr, thresholds = roc_curve(y_test, y_pred)\n",
    "roc_auc = auc(fpr, tpr)\n",
    "\n",
    "# Plot the ROC curve\n",
    "plt.figure(figsize=(8, 6))\n",
    "plt.plot(fpr, tpr, color='darkorange', lw=2, label=f'ROC curve (area = {roc_auc:.2f})')\n",
    "plt.plot([0, 1], [0, 1], color='navy', lw=2, linestyle='--', label='Random Classifier')\n",
    "plt.xlim([0.0, 1.0])\n",
    "plt.ylim([0.0, 1.05])\n",
    "plt.xlabel('False Positive Rate')\n",
    "plt.ylabel('True Positive Rate')\n",
    "plt.title('Receiver Operating Characteristic (ROC) Curve')\n",
    "plt.legend(loc='lower right')\n",
    "plt.grid(True)\n",
    "plt.tight_layout()\n",
    "if save_graph: plt.savefig('roc_auc_curve.png')"
   ]
  },
  {
   "cell_type": "markdown",
   "id": "ca2c442b",
   "metadata": {},
   "source": [
    "#### Logging"
   ]
  },
  {
   "cell_type": "code",
   "execution_count": null,
   "id": "542d7139",
   "metadata": {},
   "outputs": [],
   "source": [
    "# Keep tracking of every metric\n",
    "history.at[index, 'cm'] = confusion_matrix(y_test_lbl, y_pred_lbl,normalize='true').tolist()\n",
    "history.at[index, 'metrics'] = classification_report(y_test_lbl, y_pred_lbl,output_dict=True)\n",
    "history.at[index, 'roc_auc'] = auc(fpr, tpr)\n",
    "history.to_csv('./data/train_logs.csv') # Save logging file locally"
   ]
  },
  {
   "cell_type": "code",
   "execution_count": 193,
   "id": "529a1748",
   "metadata": {},
   "outputs": [
    {
     "data": {
      "text/plain": [
       "features    {'train': {'feat': ['accepts_mercadopago', 'au...\n",
       "model                                      LogisticRegression\n",
       "items                          {'train': 89109, 'test': 9905}\n",
       "cm          [[0.9590577678070668, 0.04094223219293326], [0...\n",
       "metrics     {'new': {'precision': 0.6804615996816554, 'rec...\n",
       "roc_auc                                              0.715152\n",
       "Name: 0, dtype: object"
      ]
     },
     "execution_count": 193,
     "metadata": {},
     "output_type": "execute_result"
    }
   ],
   "source": [
    "history.iloc[index]"
   ]
  },
  {
   "cell_type": "markdown",
   "id": "2ebaf810",
   "metadata": {},
   "source": [
    "## Analysis"
   ]
  },
  {
   "cell_type": "markdown",
   "id": "9436a801",
   "metadata": {},
   "source": [
    "**Key Takeaways:**\n",
    "\n",
    "1.  **Class Imbalance in Prediction Quality:** The model is **heavily biased towards predicting \"new.\"** It's excellent at identifying \"new\" items (high recall of 0.96 for 'new'), meaning it correctly catches 96% of all actual \"new\" items. However, it **struggles significantly with identifying \"used\" items** (low recall of 0.47 for 'used'), correctly identifying less than half of them. When the model does predict \"used,\" it's usually correct (high precision of 0.91 for 'used'), but it misses a substantial number of actual \"used\" items. This manifests as a high count of **False Negatives for 'used'** (actual 'used' items misclassified as 'new') and, equivalently, a high count of **False Positives for 'new'** (actual 'used' items misclassified as 'new').\n",
    "\n",
    "2.  **High False Positives for \"new\" / High False Negatives for \"used\":** The **2409 False Positives for \"new\"** in the confusion matrix explicitly mean that 2409 items that were **actually \"used\" were incorrectly classified as \"new.\"** This large number directly explains the low recall for \"used\" ($2147 \\text{ TP} / (2147 \\text{ TP} + 2409 \\text{ FN}) = 0.47$).\n",
    "\n",
    "3.  **Accuracy is Misleading:** With a significant imbalance in performance across classes and given the class distribution (5349 'new' vs. 4556 'used'), **accuracy alone is not a reliable metric.** The model's strong performance on the slightly larger class ('new') inflates the overall accuracy, masking its poor ability to identify 'used' items.\n",
    "\n",
    "**Conclusions:**\n",
    "\n",
    "* Some features are **poor predictors** of the target, showing **correlations close to 0**. This likely contributes to the high number of false positives observed.\n",
    "* The continuous variables `price` and `quantity` exhibit **highly skewed distributions** with a significant presence of positive outliers. For 'cantidad' in particular, it appears more beneficial to consider if the quantity is simply **greater than 1**, as this seems to influence the probability of an item being 'new'. This suggests a valuable opportunity for feature engineering.\n",
    "* Regarding the **dummy variables for `listing_type_id`**, only certain categories appear to be relevant. Specifically, the distinction between **paid and free users** seems to be a key differentiator. Notably, 'gold_pro' and 'gold_premium' tiers show little correlation, while lower-tier categories exhibit stronger predictive power.\n",
    "* The **`status` variable** should not be considered for the model, as the **vast majority of items are 'active'**, providing very little discriminating information."
   ]
  },
  {
   "cell_type": "markdown",
   "id": "058f355b",
   "metadata": {},
   "source": [
    "---\n",
    "# 2º iteration - Grouping dummies"
   ]
  },
  {
   "cell_type": "code",
   "execution_count": null,
   "id": "d94dfebb",
   "metadata": {},
   "outputs": [],
   "source": [
    "index = len(history) # used for logging\n",
    "history.loc[index] = None # Creates an empty row"
   ]
  },
  {
   "cell_type": "code",
   "execution_count": 6,
   "id": "d9d92411",
   "metadata": {},
   "outputs": [
    {
     "name": "stdout",
     "output_type": "stream",
     "text": [
      "Importing data from 'new_or_used.py'…\n",
      "Starting preprocessing…\n",
      "Succesfully finished.\n",
      "\n"
     ]
    }
   ],
   "source": [
    "X_train, y_train, X_test, y_test = load_processed_data()"
   ]
  },
  {
   "cell_type": "code",
   "execution_count": 7,
   "id": "301f4d7b",
   "metadata": {},
   "outputs": [
    {
     "data": {
      "text/plain": [
       "Index(['accepts_mercadopago', 'automatic_relist', 'price_scaled',\n",
       "       'initial_quantity_scaled', 'is_USD', 'free_tier',\n",
       "       'buying_mode_buy_it_now', 'buying_mode_classified'],\n",
       "      dtype='object')"
      ]
     },
     "execution_count": 7,
     "metadata": {},
     "output_type": "execute_result"
    }
   ],
   "source": [
    "X_train.columns"
   ]
  },
  {
   "cell_type": "code",
   "execution_count": 8,
   "id": "d508601b",
   "metadata": {},
   "outputs": [],
   "source": [
    "y_train_lbl = y_train.map(classes)\n",
    "y_test_lbl = y_test.map(classes)"
   ]
  },
  {
   "cell_type": "markdown",
   "id": "5f819af2",
   "metadata": {},
   "source": [
    "### Dataset info"
   ]
  },
  {
   "cell_type": "code",
   "execution_count": 9,
   "id": "e36d9533",
   "metadata": {},
   "outputs": [
    {
     "name": "stdout",
     "output_type": "stream",
     "text": [
      "Split sizes: 89109 train, 9905 test\n"
     ]
    }
   ],
   "source": [
    "size = {'train':len(X_train),'test':len(X_test)}\n",
    "print(\"Split sizes: {} train, {} test\".format(size['train'], size['test']))"
   ]
  },
  {
   "cell_type": "code",
   "execution_count": 10,
   "id": "55c5e1cd",
   "metadata": {},
   "outputs": [],
   "source": [
    "features = {'train': {'feat': None, 'target': None},\n",
    "            'test': {'feat': None, 'target': None}}"
   ]
  },
  {
   "cell_type": "markdown",
   "id": "b8214f18",
   "metadata": {},
   "source": [
    "#### Train split"
   ]
  },
  {
   "cell_type": "code",
   "execution_count": 13,
   "id": "edf75a34",
   "metadata": {},
   "outputs": [
    {
     "name": "stdout",
     "output_type": "stream",
     "text": [
      "<class 'pandas.core.frame.DataFrame'>\n",
      "RangeIndex: 89109 entries, 0 to 89108\n",
      "Data columns (total 8 columns):\n",
      " #   Column                   Non-Null Count  Dtype  \n",
      "---  ------                   --------------  -----  \n",
      " 0   accepts_mercadopago      89109 non-null  uint8  \n",
      " 1   automatic_relist         89109 non-null  uint8  \n",
      " 2   price_scaled             89109 non-null  float64\n",
      " 3   initial_quantity_scaled  89109 non-null  float64\n",
      " 4   is_USD                   89109 non-null  uint8  \n",
      " 5   free_tier                89109 non-null  bool   \n",
      " 6   buying_mode_buy_it_now   89109 non-null  float64\n",
      " 7   buying_mode_classified   89109 non-null  float64\n",
      "dtypes: bool(1), float64(4), uint8(3)\n",
      "memory usage: 3.1 MB\n"
     ]
    }
   ],
   "source": [
    "X_train.info()"
   ]
  },
  {
   "cell_type": "code",
   "execution_count": 14,
   "id": "5f5d673e",
   "metadata": {},
   "outputs": [
    {
     "data": {
      "text/plain": [
       "new     47859\n",
       "used    41250\n",
       "Name: count, dtype: int64"
      ]
     },
     "execution_count": 14,
     "metadata": {},
     "output_type": "execute_result"
    }
   ],
   "source": [
    "y_train_lbl.value_counts()"
   ]
  },
  {
   "cell_type": "markdown",
   "id": "15b5c003",
   "metadata": {},
   "source": [
    "#### Test split"
   ]
  },
  {
   "cell_type": "code",
   "execution_count": 16,
   "id": "f8f12ca1",
   "metadata": {},
   "outputs": [],
   "source": [
    "X_train.drop(columns=['price_scaled'], inplace=True)\n",
    "X_test.drop(columns=['price_scaled'], inplace=True)"
   ]
  },
  {
   "cell_type": "code",
   "execution_count": 17,
   "id": "ebd2be72",
   "metadata": {},
   "outputs": [],
   "source": [
    "X_train.drop(columns=['is_USD'], inplace=True)\n",
    "X_test.drop(columns=['is_USD'], inplace=True)"
   ]
  },
  {
   "cell_type": "code",
   "execution_count": 18,
   "id": "8b6d3f29",
   "metadata": {},
   "outputs": [
    {
     "name": "stdout",
     "output_type": "stream",
     "text": [
      "<class 'pandas.core.frame.DataFrame'>\n",
      "RangeIndex: 9905 entries, 0 to 9904\n",
      "Data columns (total 6 columns):\n",
      " #   Column                   Non-Null Count  Dtype  \n",
      "---  ------                   --------------  -----  \n",
      " 0   accepts_mercadopago      9905 non-null   uint8  \n",
      " 1   automatic_relist         9905 non-null   uint8  \n",
      " 2   initial_quantity_scaled  9905 non-null   float64\n",
      " 3   free_tier                9905 non-null   bool   \n",
      " 4   buying_mode_buy_it_now   9905 non-null   float64\n",
      " 5   buying_mode_classified   9905 non-null   float64\n",
      "dtypes: bool(1), float64(3), uint8(2)\n",
      "memory usage: 261.3 KB\n"
     ]
    }
   ],
   "source": [
    "X_test.info()"
   ]
  },
  {
   "cell_type": "code",
   "execution_count": 19,
   "id": "0fcaa4c0",
   "metadata": {},
   "outputs": [
    {
     "data": {
      "text/plain": [
       "new     5349\n",
       "used    4556\n",
       "Name: count, dtype: int64"
      ]
     },
     "execution_count": 19,
     "metadata": {},
     "output_type": "execute_result"
    }
   ],
   "source": [
    "y_test_lbl.value_counts()"
   ]
  },
  {
   "cell_type": "markdown",
   "id": "2c1bc8fb",
   "metadata": {},
   "source": [
    "#### Logging"
   ]
  },
  {
   "cell_type": "code",
   "execution_count": 21,
   "id": "16b78884",
   "metadata": {},
   "outputs": [],
   "source": [
    "# Keep tracking of every feature\n",
    "history.at[index, 'items'] = size\n",
    "features['train']['feat'] = X_train.columns.to_list()\n",
    "features['test']['feat'] = X_test.columns.to_list()\n",
    "features['train']['target'] = y_train_lbl.value_counts().to_dict()\n",
    "features['test']['target'] = y_test_lbl.value_counts().to_dict()\n",
    "history.at[index, 'features'] = features"
   ]
  },
  {
   "cell_type": "code",
   "execution_count": 22,
   "id": "8fff20fe",
   "metadata": {},
   "outputs": [
    {
     "data": {
      "text/html": [
       "<div>\n",
       "<style scoped>\n",
       "    .dataframe tbody tr th:only-of-type {\n",
       "        vertical-align: middle;\n",
       "    }\n",
       "\n",
       "    .dataframe tbody tr th {\n",
       "        vertical-align: top;\n",
       "    }\n",
       "\n",
       "    .dataframe thead th {\n",
       "        text-align: right;\n",
       "    }\n",
       "</style>\n",
       "<table border=\"1\" class=\"dataframe\">\n",
       "  <thead>\n",
       "    <tr style=\"text-align: right;\">\n",
       "      <th></th>\n",
       "      <th>features</th>\n",
       "      <th>model</th>\n",
       "      <th>items</th>\n",
       "      <th>cm</th>\n",
       "      <th>metrics</th>\n",
       "      <th>roc_auc</th>\n",
       "    </tr>\n",
       "    <tr>\n",
       "      <th>training</th>\n",
       "      <th></th>\n",
       "      <th></th>\n",
       "      <th></th>\n",
       "      <th></th>\n",
       "      <th></th>\n",
       "      <th></th>\n",
       "    </tr>\n",
       "  </thead>\n",
       "  <tbody>\n",
       "    <tr>\n",
       "      <th>0</th>\n",
       "      <td>{'train': {'feat': ['accepts_mercadopago', 'au...</td>\n",
       "      <td>LogisticRegression</td>\n",
       "      <td>{'train': 89109, 'test': 9905}</td>\n",
       "      <td>[[0.9590577678070668, 0.04094223219293326], [0...</td>\n",
       "      <td>{'new': {'precision': 0.6804615996816554, 'rec...</td>\n",
       "      <td>0.715152</td>\n",
       "    </tr>\n",
       "    <tr>\n",
       "      <th>1</th>\n",
       "      <td>{'train': {'feat': ['accepts_mercadopago', 'au...</td>\n",
       "      <td>NaN</td>\n",
       "      <td>{'train': 89109, 'test': 9905}</td>\n",
       "      <td>NaN</td>\n",
       "      <td>NaN</td>\n",
       "      <td>NaN</td>\n",
       "    </tr>\n",
       "  </tbody>\n",
       "</table>\n",
       "</div>"
      ],
      "text/plain": [
       "                                                   features  \\\n",
       "training                                                      \n",
       "0         {'train': {'feat': ['accepts_mercadopago', 'au...   \n",
       "1         {'train': {'feat': ['accepts_mercadopago', 'au...   \n",
       "\n",
       "                       model                           items  \\\n",
       "training                                                       \n",
       "0         LogisticRegression  {'train': 89109, 'test': 9905}   \n",
       "1                        NaN  {'train': 89109, 'test': 9905}   \n",
       "\n",
       "                                                         cm  \\\n",
       "training                                                      \n",
       "0         [[0.9590577678070668, 0.04094223219293326], [0...   \n",
       "1                                                       NaN   \n",
       "\n",
       "                                                    metrics   roc_auc  \n",
       "training                                                               \n",
       "0         {'new': {'precision': 0.6804615996816554, 'rec...  0.715152  \n",
       "1                                                       NaN       NaN  "
      ]
     },
     "execution_count": 22,
     "metadata": {},
     "output_type": "execute_result"
    }
   ],
   "source": [
    "history"
   ]
  },
  {
   "cell_type": "markdown",
   "id": "7a4dc5d1",
   "metadata": {},
   "source": [
    "## Model training"
   ]
  },
  {
   "cell_type": "code",
   "execution_count": 23,
   "id": "831979cd",
   "metadata": {},
   "outputs": [],
   "source": [
    "# Initialize the Logistic Regression model\n",
    "model = LogisticRegression(random_state=42)\n",
    "history.at[index, 'model'] = model.__class__.__name__ # for logging"
   ]
  },
  {
   "cell_type": "code",
   "execution_count": 24,
   "id": "c05043ea",
   "metadata": {},
   "outputs": [
    {
     "name": "stdout",
     "output_type": "stream",
     "text": [
      "Training the Logistic Regression model...\n",
      "Model training complete.\n"
     ]
    }
   ],
   "source": [
    "# Train the model using the scaled training data\n",
    "print(\"Training the Logistic Regression model...\")\n",
    "model.fit(X_train, y_train)\n",
    "print(\"Model training complete.\")"
   ]
  },
  {
   "cell_type": "markdown",
   "id": "c4f10203",
   "metadata": {},
   "source": [
    "## Model evaluation"
   ]
  },
  {
   "cell_type": "code",
   "execution_count": 25,
   "id": "066ed3b5",
   "metadata": {},
   "outputs": [],
   "source": [
    "# Predict on the scaled test data\n",
    "y_pred = model.predict(X_test)\n",
    "y_pred_lbl = pd.Series(y_pred).map(classes)\n",
    "\n",
    "# Getprediction probabilities (useful for ROC curves, etc.\n",
    "y_pred_proba = model.predict_proba(X_test) "
   ]
  },
  {
   "cell_type": "code",
   "execution_count": 26,
   "id": "f552e714",
   "metadata": {},
   "outputs": [
    {
     "name": "stdout",
     "output_type": "stream",
     "text": [
      "Accuracy: 0.7347\n",
      "\n",
      "Classification Report:\n",
      "              precision    recall  f1-score   support\n",
      "\n",
      "         new      0.681     0.958     0.796      5349\n",
      "        used      0.906     0.472     0.621      4556\n",
      "\n",
      "    accuracy                          0.735      9905\n",
      "   macro avg      0.794     0.715     0.708      9905\n",
      "weighted avg      0.784     0.735     0.715      9905\n",
      "\n"
     ]
    }
   ],
   "source": [
    "# PERFORMANCE EVALUATION\n",
    "# Accuracy Score\n",
    "accuracy = accuracy_score(y_test, y_pred)\n",
    "print(f\"Accuracy: {accuracy:.4f}\")\n",
    "\n",
    "# Classification Report (provides Precision, Recall, F1-Score for each class)\n",
    "class_report = classification_report(y_test_lbl, y_pred_lbl,digits=3)\n",
    "print(\"\\nClassification Report:\")\n",
    "print(class_report)"
   ]
  },
  {
   "cell_type": "code",
   "execution_count": 27,
   "id": "a05e566c",
   "metadata": {},
   "outputs": [
    {
     "data": {
      "image/png": "[encoded data removed]",
      "text/plain": [
       "<Figure size 800x600 with 2 Axes>"
      ]
     },
     "metadata": {},
     "output_type": "display_data"
    }
   ],
   "source": [
    "import matplotlib.pyplot as plt\n",
    "import seaborn as sns\n",
    "\n",
    "# Calculate the confusion matrix\n",
    "conf_matrix = confusion_matrix(y_test_lbl, y_pred_lbl)\n",
    "\n",
    "# Plot the confusion matrix\n",
    "plt.figure(figsize=(8, 6))\n",
    "sns.heatmap(conf_matrix, annot=True, fmt='d', cmap='Blues',\n",
    "            xticklabels=['Predicted New', 'Predicted Used'],\n",
    "            yticklabels=['Actual New', 'Actual Used'])\n",
    "plt.xlabel('Predicted Label')\n",
    "plt.ylabel('True Label')\n",
    "plt.title('Confusion Matrix')\n",
    "plt.tight_layout()\n",
    "if save_graph: plt.savefig('confusion_matrix.png')"
   ]
  },
  {
   "cell_type": "code",
   "execution_count": 28,
   "id": "79e9949c",
   "metadata": {},
   "outputs": [
    {
     "data": {
      "image/png": "[encoded data removed]",
      "text/plain": [
       "<Figure size 800x600 with 1 Axes>"
      ]
     },
     "metadata": {},
     "output_type": "display_data"
    }
   ],
   "source": [
    "import matplotlib.pyplot as plt\n",
    "from sklearn.metrics import roc_curve, auc\n",
    "\n",
    "# Extract the probabilities of the positive class (second column)\n",
    "#y_pred_proba_positive = y_pred_proba[:, 1]\n",
    "\n",
    "# Calculate ROC curve and AUC\n",
    "fpr, tpr, thresholds = roc_curve(y_test, y_pred)\n",
    "roc_auc = auc(fpr, tpr)\n",
    "\n",
    "# Plot the ROC curve\n",
    "plt.figure(figsize=(8, 6))\n",
    "plt.plot(fpr, tpr, color='darkorange', lw=2, label=f'ROC curve (area = {roc_auc:.2f})')\n",
    "plt.plot([0, 1], [0, 1], color='navy', lw=2, linestyle='--', label='Random Classifier')\n",
    "plt.xlim([0.0, 1.0])\n",
    "plt.ylim([0.0, 1.05])\n",
    "plt.xlabel('False Positive Rate')\n",
    "plt.ylabel('True Positive Rate')\n",
    "plt.title('Receiver Operating Characteristic (ROC) Curve')\n",
    "plt.legend(loc='lower right')\n",
    "plt.grid(True)\n",
    "plt.tight_layout()\n",
    "if save_graph: plt.savefig('roc_auc_curve.png')"
   ]
  },
  {
   "cell_type": "markdown",
   "id": "959eab27",
   "metadata": {},
   "source": [
    "#### Logging"
   ]
  },
  {
   "cell_type": "code",
   "execution_count": 29,
   "id": "f2a8cbcd",
   "metadata": {},
   "outputs": [],
   "source": [
    "# Keep tracking of every metric\n",
    "history.at[index, 'cm'] = confusion_matrix(y_test_lbl, y_pred_lbl,normalize='true').tolist()\n",
    "history.at[index, 'metrics'] = classification_report(y_test_lbl, y_pred_lbl,output_dict=True)\n",
    "history.at[index, 'roc_auc'] = auc(fpr, tpr)\n",
    "history.to_csv('./data/train_logs.csv') # Save logging file locally"
   ]
  },
  {
   "cell_type": "code",
   "execution_count": 30,
   "id": "dff52961",
   "metadata": {},
   "outputs": [
    {
     "data": {
      "text/plain": [
       "features    {'train': {'feat': ['accepts_mercadopago', 'au...\n",
       "model                                      LogisticRegression\n",
       "items                          {'train': 89109, 'test': 9905}\n",
       "cm          [[0.9584969153112731, 0.04150308468872686], [0...\n",
       "metrics     {'new': {'precision': 0.680605336519315, 'reca...\n",
       "roc_auc                                              0.715201\n",
       "Name: 1, dtype: object"
      ]
     },
     "execution_count": 30,
     "metadata": {},
     "output_type": "execute_result"
    }
   ],
   "source": [
    "history.iloc[index]"
   ]
  },
  {
   "cell_type": "markdown",
   "id": "47b0aad2",
   "metadata": {},
   "source": [
    "## Analysis"
   ]
  },
  {
   "cell_type": "markdown",
   "id": "44874e5f",
   "metadata": {},
   "source": [
    "**Key Takeaways:**\n",
    "\n",
    "1. The number of **features** was **reduced by 46.7%** without significant impact on performance.\n",
    "\n",
    "**Conclusions:**\n",
    "\n",
    "* This represents an improvement in hardware usage, reducing memory needs and processing time."
   ]
  },
  {
   "cell_type": "markdown",
   "id": "da7ae6ae",
   "metadata": {},
   "source": [
    "---\n",
    "# 3º iteration - Synthetic features"
   ]
  },
  {
   "cell_type": "code",
   "execution_count": null,
   "id": "2b8acb9b",
   "metadata": {},
   "outputs": [],
   "source": [
    "index = len(history) # used for logging\n",
    "history.loc[index] = None # Creates an empty row"
   ]
  },
  {
   "cell_type": "code",
   "execution_count": 56,
   "id": "23c9709b",
   "metadata": {},
   "outputs": [
    {
     "name": "stdout",
     "output_type": "stream",
     "text": [
      "Importing data from 'new_or_used.py'…\n",
      "Starting preprocessing…\n",
      "Succesfully finished.\n",
      "\n"
     ]
    }
   ],
   "source": [
    "X_train, y_train, X_test, y_test = load_processed_data()"
   ]
  },
  {
   "cell_type": "code",
   "execution_count": 57,
   "id": "36f7cd95",
   "metadata": {},
   "outputs": [
    {
     "data": {
      "text/plain": [
       "Index(['accepts_mercadopago', 'automatic_relist', 'price_scaled',\n",
       "       'initial_quantity_scaled', 'is_USD', 'free_tier',\n",
       "       'buying_mode_buy_it_now', 'buying_mode_classified', 'is_weekend',\n",
       "       'is_working_hours'],\n",
       "      dtype='object')"
      ]
     },
     "execution_count": 57,
     "metadata": {},
     "output_type": "execute_result"
    }
   ],
   "source": [
    "X_train.columns"
   ]
  },
  {
   "cell_type": "code",
   "execution_count": 58,
   "id": "532da60e",
   "metadata": {},
   "outputs": [],
   "source": [
    "y_train_lbl = y_train.map(classes)\n",
    "y_test_lbl = y_test.map(classes)"
   ]
  },
  {
   "cell_type": "markdown",
   "id": "7039cfb8",
   "metadata": {},
   "source": [
    "### Dataset info"
   ]
  },
  {
   "cell_type": "code",
   "execution_count": 59,
   "id": "b3e096fe",
   "metadata": {},
   "outputs": [
    {
     "name": "stdout",
     "output_type": "stream",
     "text": [
      "Split sizes: 89109 train, 9905 test\n"
     ]
    }
   ],
   "source": [
    "size = {'train':len(X_train),'test':len(X_test)}\n",
    "print(\"Split sizes: {} train, {} test\".format(size['train'], size['test']))"
   ]
  },
  {
   "cell_type": "code",
   "execution_count": 60,
   "id": "4e832e5b",
   "metadata": {},
   "outputs": [],
   "source": [
    "features = {'train': {'feat': None, 'target': None},\n",
    "            'test': {'feat': None, 'target': None}}"
   ]
  },
  {
   "cell_type": "markdown",
   "id": "e613ba20",
   "metadata": {},
   "source": [
    "#### Train split"
   ]
  },
  {
   "cell_type": "code",
   "execution_count": 61,
   "id": "ce022776",
   "metadata": {},
   "outputs": [
    {
     "name": "stdout",
     "output_type": "stream",
     "text": [
      "<class 'pandas.core.frame.DataFrame'>\n",
      "RangeIndex: 89109 entries, 0 to 89108\n",
      "Data columns (total 10 columns):\n",
      " #   Column                   Non-Null Count  Dtype  \n",
      "---  ------                   --------------  -----  \n",
      " 0   accepts_mercadopago      89109 non-null  uint8  \n",
      " 1   automatic_relist         89109 non-null  uint8  \n",
      " 2   price_scaled             89109 non-null  float64\n",
      " 3   initial_quantity_scaled  89109 non-null  float64\n",
      " 4   is_USD                   89109 non-null  uint8  \n",
      " 5   free_tier                89109 non-null  bool   \n",
      " 6   buying_mode_buy_it_now   89109 non-null  float64\n",
      " 7   buying_mode_classified   89109 non-null  float64\n",
      " 8   is_weekend               89109 non-null  int64  \n",
      " 9   is_working_hours         89109 non-null  int64  \n",
      "dtypes: bool(1), float64(4), int64(2), uint8(3)\n",
      "memory usage: 4.4 MB\n"
     ]
    }
   ],
   "source": [
    "X_train.info()"
   ]
  },
  {
   "cell_type": "code",
   "execution_count": 62,
   "id": "e7f44e96",
   "metadata": {},
   "outputs": [
    {
     "data": {
      "text/plain": [
       "new     47859\n",
       "used    41250\n",
       "Name: count, dtype: int64"
      ]
     },
     "execution_count": 62,
     "metadata": {},
     "output_type": "execute_result"
    }
   ],
   "source": [
    "y_train_lbl.value_counts()"
   ]
  },
  {
   "cell_type": "markdown",
   "id": "2527b554",
   "metadata": {},
   "source": [
    "#### Test split"
   ]
  },
  {
   "cell_type": "code",
   "execution_count": 64,
   "id": "fb4d3430",
   "metadata": {},
   "outputs": [],
   "source": [
    "X_train.drop(columns=['price_scaled'], inplace=True)\n",
    "X_test.drop(columns=['price_scaled'], inplace=True)"
   ]
  },
  {
   "cell_type": "code",
   "execution_count": 65,
   "id": "1ea6d118",
   "metadata": {},
   "outputs": [],
   "source": [
    "X_train.drop(columns=['is_USD'], inplace=True)\n",
    "X_test.drop(columns=['is_USD'], inplace=True)"
   ]
  },
  {
   "cell_type": "code",
   "execution_count": 66,
   "id": "7557e1c8",
   "metadata": {},
   "outputs": [
    {
     "name": "stdout",
     "output_type": "stream",
     "text": [
      "<class 'pandas.core.frame.DataFrame'>\n",
      "RangeIndex: 9905 entries, 0 to 9904\n",
      "Data columns (total 8 columns):\n",
      " #   Column                   Non-Null Count  Dtype  \n",
      "---  ------                   --------------  -----  \n",
      " 0   accepts_mercadopago      9905 non-null   uint8  \n",
      " 1   automatic_relist         9905 non-null   uint8  \n",
      " 2   initial_quantity_scaled  9905 non-null   float64\n",
      " 3   free_tier                9905 non-null   bool   \n",
      " 4   buying_mode_buy_it_now   9905 non-null   float64\n",
      " 5   buying_mode_classified   9905 non-null   float64\n",
      " 6   is_weekend               9905 non-null   int64  \n",
      " 7   is_working_hours         9905 non-null   int64  \n",
      "dtypes: bool(1), float64(3), int64(2), uint8(2)\n",
      "memory usage: 416.1 KB\n"
     ]
    }
   ],
   "source": [
    "X_test.info()"
   ]
  },
  {
   "cell_type": "code",
   "execution_count": 67,
   "id": "e7e6f005",
   "metadata": {},
   "outputs": [
    {
     "data": {
      "text/plain": [
       "new     5349\n",
       "used    4556\n",
       "Name: count, dtype: int64"
      ]
     },
     "execution_count": 67,
     "metadata": {},
     "output_type": "execute_result"
    }
   ],
   "source": [
    "y_test_lbl.value_counts()"
   ]
  },
  {
   "cell_type": "markdown",
   "id": "cc11a003",
   "metadata": {},
   "source": [
    "#### Logging"
   ]
  },
  {
   "cell_type": "code",
   "execution_count": 70,
   "id": "0acc3f0e",
   "metadata": {},
   "outputs": [],
   "source": [
    "# Keep tracking of every feature\n",
    "history.at[index, 'items'] = size\n",
    "features['train']['feat'] = X_train.columns.to_list()\n",
    "features['test']['feat'] = X_test.columns.to_list()\n",
    "features['train']['target'] = y_train_lbl.value_counts().to_dict()\n",
    "features['test']['target'] = y_test_lbl.value_counts().to_dict()\n",
    "history.at[index, 'features'] = features"
   ]
  },
  {
   "cell_type": "code",
   "execution_count": 71,
   "id": "fb7c1a44",
   "metadata": {},
   "outputs": [
    {
     "data": {
      "text/html": [
       "<div>\n",
       "<style scoped>\n",
       "    .dataframe tbody tr th:only-of-type {\n",
       "        vertical-align: middle;\n",
       "    }\n",
       "\n",
       "    .dataframe tbody tr th {\n",
       "        vertical-align: top;\n",
       "    }\n",
       "\n",
       "    .dataframe thead th {\n",
       "        text-align: right;\n",
       "    }\n",
       "</style>\n",
       "<table border=\"1\" class=\"dataframe\">\n",
       "  <thead>\n",
       "    <tr style=\"text-align: right;\">\n",
       "      <th></th>\n",
       "      <th>features</th>\n",
       "      <th>model</th>\n",
       "      <th>items</th>\n",
       "      <th>cm</th>\n",
       "      <th>metrics</th>\n",
       "      <th>roc_auc</th>\n",
       "    </tr>\n",
       "    <tr>\n",
       "      <th>training</th>\n",
       "      <th></th>\n",
       "      <th></th>\n",
       "      <th></th>\n",
       "      <th></th>\n",
       "      <th></th>\n",
       "      <th></th>\n",
       "    </tr>\n",
       "  </thead>\n",
       "  <tbody>\n",
       "    <tr>\n",
       "      <th>0</th>\n",
       "      <td>{'train': {'feat': ['accepts_mercadopago', 'au...</td>\n",
       "      <td>LogisticRegression</td>\n",
       "      <td>{'train': 89109, 'test': 9905}</td>\n",
       "      <td>[[0.9590577678070668, 0.04094223219293326], [0...</td>\n",
       "      <td>{'new': {'precision': 0.6804615996816554, 'rec...</td>\n",
       "      <td>0.715152</td>\n",
       "    </tr>\n",
       "    <tr>\n",
       "      <th>1</th>\n",
       "      <td>{'train': {'feat': ['accepts_mercadopago', 'au...</td>\n",
       "      <td>LogisticRegression</td>\n",
       "      <td>{'train': 89109, 'test': 9905}</td>\n",
       "      <td>[[0.9584969153112731, 0.04150308468872686], [0...</td>\n",
       "      <td>{'new': {'precision': 0.680605336519315, 'reca...</td>\n",
       "      <td>0.715201</td>\n",
       "    </tr>\n",
       "    <tr>\n",
       "      <th>2</th>\n",
       "      <td>{'train': {'feat': ['accepts_mercadopago', 'au...</td>\n",
       "      <td>NaN</td>\n",
       "      <td>{'train': 89109, 'test': 9905}</td>\n",
       "      <td>NaN</td>\n",
       "      <td>NaN</td>\n",
       "      <td>NaN</td>\n",
       "    </tr>\n",
       "  </tbody>\n",
       "</table>\n",
       "</div>"
      ],
      "text/plain": [
       "                                                   features  \\\n",
       "training                                                      \n",
       "0         {'train': {'feat': ['accepts_mercadopago', 'au...   \n",
       "1         {'train': {'feat': ['accepts_mercadopago', 'au...   \n",
       "2         {'train': {'feat': ['accepts_mercadopago', 'au...   \n",
       "\n",
       "                       model                           items  \\\n",
       "training                                                       \n",
       "0         LogisticRegression  {'train': 89109, 'test': 9905}   \n",
       "1         LogisticRegression  {'train': 89109, 'test': 9905}   \n",
       "2                        NaN  {'train': 89109, 'test': 9905}   \n",
       "\n",
       "                                                         cm  \\\n",
       "training                                                      \n",
       "0         [[0.9590577678070668, 0.04094223219293326], [0...   \n",
       "1         [[0.9584969153112731, 0.04150308468872686], [0...   \n",
       "2                                                       NaN   \n",
       "\n",
       "                                                    metrics   roc_auc  \n",
       "training                                                               \n",
       "0         {'new': {'precision': 0.6804615996816554, 'rec...  0.715152  \n",
       "1         {'new': {'precision': 0.680605336519315, 'reca...  0.715201  \n",
       "2                                                       NaN       NaN  "
      ]
     },
     "execution_count": 71,
     "metadata": {},
     "output_type": "execute_result"
    }
   ],
   "source": [
    "history"
   ]
  },
  {
   "cell_type": "markdown",
   "id": "43323426",
   "metadata": {},
   "source": [
    "## Model training"
   ]
  },
  {
   "cell_type": "code",
   "execution_count": null,
   "id": "3e19e13a",
   "metadata": {},
   "outputs": [],
   "source": [
    "# Initialize the Logistic Regression model\n",
    "model = LogisticRegression(class_weight='balanced', random_state=42) # Added balanced classes\n",
    "history.at[index, 'model'] = model.__class__.__name__ # for logging"
   ]
  },
  {
   "cell_type": "code",
   "execution_count": 86,
   "id": "523f4be9",
   "metadata": {},
   "outputs": [
    {
     "name": "stdout",
     "output_type": "stream",
     "text": [
      "Training the Logistic Regression model...\n",
      "Model training complete.\n"
     ]
    }
   ],
   "source": [
    "# Train the model using the scaled training data\n",
    "print(\"Training the Logistic Regression model...\")\n",
    "model.fit(X_train, y_train)\n",
    "print(\"Model training complete.\")"
   ]
  },
  {
   "cell_type": "markdown",
   "id": "1a846272",
   "metadata": {},
   "source": [
    "## Model evaluation"
   ]
  },
  {
   "cell_type": "code",
   "execution_count": 83,
   "id": "38137b18",
   "metadata": {},
   "outputs": [],
   "source": [
    "# Predict on the scaled test data\n",
    "y_pred = model.predict(X_test)\n",
    "y_pred_lbl = pd.Series(y_pred).map(classes)\n",
    "\n",
    "# Getprediction probabilities (useful for ROC curves, etc.\n",
    "y_pred_proba = model.predict_proba(X_test) "
   ]
  },
  {
   "cell_type": "code",
   "execution_count": 85,
   "id": "1a353243",
   "metadata": {},
   "outputs": [
    {
     "name": "stdout",
     "output_type": "stream",
     "text": [
      "Accuracy: 0.7347\n",
      "\n",
      "Classification Report:\n",
      "              precision    recall  f1-score   support\n",
      "\n",
      "         new      0.681     0.958     0.796      5349\n",
      "        used      0.906     0.472     0.621      4556\n",
      "\n",
      "    accuracy                          0.735      9905\n",
      "   macro avg      0.794     0.715     0.708      9905\n",
      "weighted avg      0.784     0.735     0.715      9905\n",
      "\n"
     ]
    }
   ],
   "source": [
    "# PERFORMANCE EVALUATION\n",
    "# Accuracy Score\n",
    "accuracy = accuracy_score(y_test, y_pred)\n",
    "print(f\"Accuracy: {accuracy:.4f}\")\n",
    "\n",
    "# Classification Report (provides Precision, Recall, F1-Score for each class)\n",
    "class_report = classification_report(y_test_lbl, y_pred_lbl,digits=3)\n",
    "print(\"\\nClassification Report:\")\n",
    "print(class_report)"
   ]
  },
  {
   "cell_type": "code",
   "execution_count": 76,
   "id": "98dabe2b",
   "metadata": {},
   "outputs": [
    {
     "data": {
      "image/png": "[encoded data removed]",
      "text/plain": [
       "<Figure size 800x600 with 2 Axes>"
      ]
     },
     "metadata": {},
     "output_type": "display_data"
    }
   ],
   "source": [
    "import matplotlib.pyplot as plt\n",
    "import seaborn as sns\n",
    "\n",
    "# Calculate the confusion matrix\n",
    "conf_matrix = confusion_matrix(y_test_lbl, y_pred_lbl)\n",
    "\n",
    "# Plot the confusion matrix\n",
    "plt.figure(figsize=(8, 6))\n",
    "sns.heatmap(conf_matrix, annot=True, fmt='d', cmap='Blues',\n",
    "            xticklabels=['Predicted New', 'Predicted Used'],\n",
    "            yticklabels=['Actual New', 'Actual Used'])\n",
    "plt.xlabel('Predicted Label')\n",
    "plt.ylabel('True Label')\n",
    "plt.title('Confusion Matrix')\n",
    "plt.tight_layout()\n",
    "if save_graph: plt.savefig('confusion_matrix.png')"
   ]
  },
  {
   "cell_type": "code",
   "execution_count": 78,
   "id": "c76cc117",
   "metadata": {},
   "outputs": [
    {
     "data": {
      "image/png": "[encoded data removed]",
      "text/plain": [
       "<Figure size 800x600 with 1 Axes>"
      ]
     },
     "metadata": {},
     "output_type": "display_data"
    }
   ],
   "source": [
    "import matplotlib.pyplot as plt\n",
    "from sklearn.metrics import roc_curve, auc\n",
    "\n",
    "# Extract the probabilities of the positive class (second column)\n",
    "#y_pred_proba_positive = y_pred_proba[:, 1]\n",
    "\n",
    "# Calculate ROC curve and AUC\n",
    "fpr, tpr, thresholds = roc_curve(y_test, y_pred)\n",
    "roc_auc = auc(fpr, tpr)\n",
    "\n",
    "# Plot the ROC curve\n",
    "plt.figure(figsize=(8, 6))\n",
    "plt.plot(fpr, tpr, color='darkorange', lw=2, label=f'ROC curve (area = {roc_auc:.2f})')\n",
    "plt.plot([0, 1], [0, 1], color='navy', lw=2, linestyle='--', label='Random Classifier')\n",
    "plt.xlim([0.0, 1.0])\n",
    "plt.ylim([0.0, 1.05])\n",
    "plt.xlabel('False Positive Rate')\n",
    "plt.ylabel('True Positive Rate')\n",
    "plt.title('Receiver Operating Characteristic (ROC) Curve')\n",
    "plt.legend(loc='lower right')\n",
    "plt.grid(True)\n",
    "plt.tight_layout()\n",
    "if save_graph: plt.savefig('roc_auc_curve.png')"
   ]
  },
  {
   "cell_type": "markdown",
   "id": "e81c98f9",
   "metadata": {},
   "source": [
    "#### Logging"
   ]
  },
  {
   "cell_type": "code",
   "execution_count": 79,
   "id": "c72a8a9a",
   "metadata": {},
   "outputs": [],
   "source": [
    "# Keep tracking of every metric\n",
    "history.at[index, 'cm'] = confusion_matrix(y_test_lbl, y_pred_lbl,normalize='true').tolist()\n",
    "history.at[index, 'metrics'] = classification_report(y_test_lbl, y_pred_lbl,output_dict=True)\n",
    "history.at[index, 'roc_auc'] = auc(fpr, tpr)\n",
    "history.to_csv('./data/train_logs.csv') # Save logging file locally"
   ]
  },
  {
   "cell_type": "code",
   "execution_count": 80,
   "id": "7cd197d3",
   "metadata": {},
   "outputs": [
    {
     "data": {
      "text/plain": [
       "features    {'train': {'feat': ['accepts_mercadopago', 'au...\n",
       "model                                      LogisticRegression\n",
       "items                          {'train': 89109, 'test': 9905}\n",
       "cm          [[0.9584969153112731, 0.04150308468872686], [0...\n",
       "metrics     {'new': {'precision': 0.680605336519315, 'reca...\n",
       "roc_auc                                              0.715201\n",
       "Name: 2, dtype: object"
      ]
     },
     "execution_count": 80,
     "metadata": {},
     "output_type": "execute_result"
    }
   ],
   "source": [
    "history.iloc[index]"
   ]
  },
  {
   "cell_type": "markdown",
   "id": "c21f1b6c",
   "metadata": {},
   "source": [
    "## Analysis"
   ]
  },
  {
   "cell_type": "markdown",
   "id": "4bb4a978",
   "metadata": {},
   "source": [
    "**Key Takeaways:**\n",
    "\n",
    "1. There's no any improvement by adding time-related features.\n",
    "1. Model had exactly the same results as previous training.\n",
    "\n",
    "**Conclusions:**\n",
    "\n",
    "* Consistent metric and confusion matrix results across successive classification model trainings often indicate the presence of a few predominant features. \n",
    "* This stability implies that the model's decision-making process is heavily reliant on these powerful features, making it less susceptible to minor variations or noise from less influential ones."
   ]
  },
  {
   "cell_type": "markdown",
   "id": "3272f11b",
   "metadata": {},
   "source": [
    "### Coefficients Importance"
   ]
  },
  {
   "cell_type": "code",
   "execution_count": null,
   "id": "4f600c9f",
   "metadata": {},
   "outputs": [],
   "source": [
    "feature_names = X_train.columns"
   ]
  },
  {
   "cell_type": "code",
   "execution_count": null,
   "id": "ca0e8839",
   "metadata": {},
   "outputs": [
    {
     "name": "stdout",
     "output_type": "stream",
     "text": [
      "Model Intercept: -0.6540249894308093\n",
      "\n",
      "Coefficients for each feature:\n",
      "accepts_mercadopago: 0.2041\n",
      "automatic_relist: 2.3862\n",
      "initial_quantity_scaled: 17.7865\n",
      "free_tier: -3.1183\n",
      "buying_mode_buy_it_now: 0.8281\n",
      "buying_mode_classified: -0.6810\n",
      "is_weekend: -0.2090\n",
      "is_working_hours: 0.2146\n",
      "\n",
      "--- Features by Absolute Magnitude (Most Influential) ---\n",
      "                   Feature  Coefficient  Abs_Coefficient\n",
      "2  initial_quantity_scaled    17.786505        17.786505\n",
      "3                free_tier    -3.118316         3.118316\n",
      "1         automatic_relist     2.386157         2.386157\n",
      "4   buying_mode_buy_it_now     0.828097         0.828097\n",
      "5   buying_mode_classified    -0.681040         0.681040\n",
      "7         is_working_hours     0.214642         0.214642\n",
      "6               is_weekend    -0.209016         0.209016\n",
      "0      accepts_mercadopago     0.204146         0.204146\n"
     ]
    }
   ],
   "source": [
    "# Let's access the coefficients to verify what feature is more influential\n",
    "coefficients = model.coef_[0]\n",
    "intercept = model.intercept_[0] \n",
    "\n",
    "print(\"Model Intercept:\", intercept)\n",
    "print(\"\\nCoefficients for each feature:\")\n",
    "for feature, coef in zip(feature_names, coefficients):\n",
    "    print(f\"{feature}: {coef:.4f}\")\n",
    "\n",
    "print(\"\\n--- Features by Absolute Magnitude (Most Influential) ---\")\n",
    "# Create a DataFrame to sort by absolute coefficient magnitude\n",
    "coef_df = pd.DataFrame({'Feature': feature_names, 'Coefficient': coefficients})\n",
    "coef_df['Abs_Coefficient'] = coef_df['Coefficient'].abs()\n",
    "sorted_coef_df = coef_df.sort_values(by='Abs_Coefficient', ascending=False)\n",
    "print(sorted_coef_df)"
   ]
  },
  {
   "cell_type": "markdown",
   "id": "f62e85d4",
   "metadata": {},
   "source": [
    "`initial_quantity_scaled` was by far **the most influential feature** for this model, while **it is actually NOT a strong predictor**, as demonstrated during the predictiveness analysis (0.071924 correlation to target) in the EDA notebook.\n",
    "\n",
    "Next logical step is to remove it from selected features and check how the model performs."
   ]
  },
  {
   "cell_type": "markdown",
   "id": "cdfd4a0c",
   "metadata": {},
   "source": [
    "---\n",
    "# 4º iteration - Removing 'quantity'"
   ]
  },
  {
   "cell_type": "code",
   "execution_count": null,
   "id": "3b7f3d80",
   "metadata": {},
   "outputs": [],
   "source": [
    "index = len(history) # used for logging\n",
    "history.loc[index] = None # Creates an empty row"
   ]
  },
  {
   "cell_type": "code",
   "execution_count": 106,
   "id": "9b1d0e06",
   "metadata": {},
   "outputs": [
    {
     "name": "stdout",
     "output_type": "stream",
     "text": [
      "Importing data from 'new_or_used.py'…\n"
     ]
    },
    {
     "name": "stdout",
     "output_type": "stream",
     "text": [
      "Starting preprocessing…\n",
      "Succesfully finished.\n",
      "\n"
     ]
    }
   ],
   "source": [
    "X_train, y_train, X_test, y_test = load_processed_data()"
   ]
  },
  {
   "cell_type": "code",
   "execution_count": 107,
   "id": "1f3df773",
   "metadata": {},
   "outputs": [
    {
     "data": {
      "text/plain": [
       "Index(['accepts_mercadopago', 'automatic_relist', 'price_scaled', 'is_USD',\n",
       "       'free_tier', 'buying_mode_buy_it_now', 'buying_mode_classified',\n",
       "       'is_weekend', 'is_working_hours'],\n",
       "      dtype='object')"
      ]
     },
     "execution_count": 107,
     "metadata": {},
     "output_type": "execute_result"
    }
   ],
   "source": [
    "X_train.columns"
   ]
  },
  {
   "cell_type": "code",
   "execution_count": 108,
   "id": "b3804bf3",
   "metadata": {},
   "outputs": [],
   "source": [
    "y_train_lbl = y_train.map(classes)\n",
    "y_test_lbl = y_test.map(classes)"
   ]
  },
  {
   "cell_type": "markdown",
   "id": "f00006eb",
   "metadata": {},
   "source": [
    "### Dataset info"
   ]
  },
  {
   "cell_type": "code",
   "execution_count": 109,
   "id": "3a1906cc",
   "metadata": {},
   "outputs": [
    {
     "name": "stdout",
     "output_type": "stream",
     "text": [
      "Split sizes: 89109 train, 9905 test\n"
     ]
    }
   ],
   "source": [
    "size = {'train':len(X_train),'test':len(X_test)}\n",
    "print(\"Split sizes: {} train, {} test\".format(size['train'], size['test']))"
   ]
  },
  {
   "cell_type": "code",
   "execution_count": 110,
   "id": "03432220",
   "metadata": {},
   "outputs": [],
   "source": [
    "features = {'train': {'feat': None, 'target': None},\n",
    "            'test': {'feat': None, 'target': None}}"
   ]
  },
  {
   "cell_type": "markdown",
   "id": "72601f33",
   "metadata": {},
   "source": [
    "#### Train split"
   ]
  },
  {
   "cell_type": "code",
   "execution_count": 111,
   "id": "c75662f6",
   "metadata": {},
   "outputs": [
    {
     "name": "stdout",
     "output_type": "stream",
     "text": [
      "<class 'pandas.core.frame.DataFrame'>\n",
      "RangeIndex: 89109 entries, 0 to 89108\n",
      "Data columns (total 9 columns):\n",
      " #   Column                  Non-Null Count  Dtype  \n",
      "---  ------                  --------------  -----  \n",
      " 0   accepts_mercadopago     89109 non-null  uint8  \n",
      " 1   automatic_relist        89109 non-null  uint8  \n",
      " 2   price_scaled            89109 non-null  float64\n",
      " 3   is_USD                  89109 non-null  uint8  \n",
      " 4   free_tier               89109 non-null  bool   \n",
      " 5   buying_mode_buy_it_now  89109 non-null  float64\n",
      " 6   buying_mode_classified  89109 non-null  float64\n",
      " 7   is_weekend              89109 non-null  int64  \n",
      " 8   is_working_hours        89109 non-null  int64  \n",
      "dtypes: bool(1), float64(3), int64(2), uint8(3)\n",
      "memory usage: 3.7 MB\n"
     ]
    }
   ],
   "source": [
    "X_train.info()"
   ]
  },
  {
   "cell_type": "code",
   "execution_count": 112,
   "id": "a24fcb56",
   "metadata": {},
   "outputs": [
    {
     "data": {
      "text/plain": [
       "new     47859\n",
       "used    41250\n",
       "Name: count, dtype: int64"
      ]
     },
     "execution_count": 112,
     "metadata": {},
     "output_type": "execute_result"
    }
   ],
   "source": [
    "y_train_lbl.value_counts()"
   ]
  },
  {
   "cell_type": "markdown",
   "id": "a6510e76",
   "metadata": {},
   "source": [
    "#### Test split"
   ]
  },
  {
   "cell_type": "code",
   "execution_count": 114,
   "id": "a1744d54",
   "metadata": {},
   "outputs": [
    {
     "name": "stdout",
     "output_type": "stream",
     "text": [
      "<class 'pandas.core.frame.DataFrame'>\n",
      "RangeIndex: 9905 entries, 0 to 9904\n",
      "Data columns (total 9 columns):\n",
      " #   Column                  Non-Null Count  Dtype  \n",
      "---  ------                  --------------  -----  \n",
      " 0   accepts_mercadopago     9905 non-null   uint8  \n",
      " 1   automatic_relist        9905 non-null   uint8  \n",
      " 2   price_scaled            9905 non-null   float64\n",
      " 3   is_USD                  9905 non-null   uint8  \n",
      " 4   free_tier               9905 non-null   bool   \n",
      " 5   buying_mode_buy_it_now  9905 non-null   float64\n",
      " 6   buying_mode_classified  9905 non-null   float64\n",
      " 7   is_weekend              9905 non-null   int64  \n",
      " 8   is_working_hours        9905 non-null   int64  \n",
      "dtypes: bool(1), float64(3), int64(2), uint8(3)\n",
      "memory usage: 425.7 KB\n"
     ]
    }
   ],
   "source": [
    "X_test.info()"
   ]
  },
  {
   "cell_type": "code",
   "execution_count": 115,
   "id": "b3a518ab",
   "metadata": {},
   "outputs": [
    {
     "data": {
      "text/plain": [
       "new     5349\n",
       "used    4556\n",
       "Name: count, dtype: int64"
      ]
     },
     "execution_count": 115,
     "metadata": {},
     "output_type": "execute_result"
    }
   ],
   "source": [
    "y_test_lbl.value_counts()"
   ]
  },
  {
   "cell_type": "markdown",
   "id": "4e6763f3",
   "metadata": {},
   "source": [
    "#### Logging"
   ]
  },
  {
   "cell_type": "code",
   "execution_count": 117,
   "id": "cb1cb29a",
   "metadata": {},
   "outputs": [],
   "source": [
    "# Keep tracking of every feature\n",
    "history.at[index, 'items'] = size\n",
    "features['train']['feat'] = X_train.columns.to_list()\n",
    "features['test']['feat'] = X_test.columns.to_list()\n",
    "features['train']['target'] = y_train_lbl.value_counts().to_dict()\n",
    "features['test']['target'] = y_test_lbl.value_counts().to_dict()\n",
    "history.at[index, 'features'] = features"
   ]
  },
  {
   "cell_type": "code",
   "execution_count": null,
   "id": "5d249de7",
   "metadata": {},
   "outputs": [
    {
     "data": {
      "text/html": [
       "<div>\n",
       "<style scoped>\n",
       "    .dataframe tbody tr th:only-of-type {\n",
       "        vertical-align: middle;\n",
       "    }\n",
       "\n",
       "    .dataframe tbody tr th {\n",
       "        vertical-align: top;\n",
       "    }\n",
       "\n",
       "    .dataframe thead th {\n",
       "        text-align: right;\n",
       "    }\n",
       "</style>\n",
       "<table border=\"1\" class=\"dataframe\">\n",
       "  <thead>\n",
       "    <tr style=\"text-align: right;\">\n",
       "      <th></th>\n",
       "      <th>features</th>\n",
       "      <th>model</th>\n",
       "      <th>items</th>\n",
       "      <th>cm</th>\n",
       "      <th>metrics</th>\n",
       "      <th>roc_auc</th>\n",
       "    </tr>\n",
       "    <tr>\n",
       "      <th>training</th>\n",
       "      <th></th>\n",
       "      <th></th>\n",
       "      <th></th>\n",
       "      <th></th>\n",
       "      <th></th>\n",
       "      <th></th>\n",
       "    </tr>\n",
       "  </thead>\n",
       "  <tbody>\n",
       "    <tr>\n",
       "      <th>0</th>\n",
       "      <td>{'train': {'feat': ['accepts_mercadopago', 'au...</td>\n",
       "      <td>LogisticRegression</td>\n",
       "      <td>{'train': 89109, 'test': 9905}</td>\n",
       "      <td>[[0.9590577678070668, 0.04094223219293326], [0...</td>\n",
       "      <td>{'new': {'precision': 0.6804615996816554, 'rec...</td>\n",
       "      <td>0.715152</td>\n",
       "    </tr>\n",
       "    <tr>\n",
       "      <th>1</th>\n",
       "      <td>{'train': {'feat': ['accepts_mercadopago', 'au...</td>\n",
       "      <td>LogisticRegression</td>\n",
       "      <td>{'train': 89109, 'test': 9905}</td>\n",
       "      <td>[[0.9584969153112731, 0.04150308468872686], [0...</td>\n",
       "      <td>{'new': {'precision': 0.680605336519315, 'reca...</td>\n",
       "      <td>0.715201</td>\n",
       "    </tr>\n",
       "    <tr>\n",
       "      <th>2</th>\n",
       "      <td>{'train': {'feat': ['accepts_mercadopago', 'au...</td>\n",
       "      <td>LogisticRegression</td>\n",
       "      <td>{'train': 89109, 'test': 9905}</td>\n",
       "      <td>[[0.9584969153112731, 0.04150308468872686], [0...</td>\n",
       "      <td>{'new': {'precision': 0.680605336519315, 'reca...</td>\n",
       "      <td>0.715201</td>\n",
       "    </tr>\n",
       "    <tr>\n",
       "      <th>3</th>\n",
       "      <td>{'train': {'feat': ['accepts_mercadopago', 'au...</td>\n",
       "      <td>LogisticRegression</td>\n",
       "      <td>{'train': 89109, 'test': 9905}</td>\n",
       "      <td>NaN</td>\n",
       "      <td>NaN</td>\n",
       "      <td>NaN</td>\n",
       "    </tr>\n",
       "  </tbody>\n",
       "</table>\n",
       "</div>"
      ],
      "text/plain": [
       "                                                   features  \\\n",
       "training                                                      \n",
       "0         {'train': {'feat': ['accepts_mercadopago', 'au...   \n",
       "1         {'train': {'feat': ['accepts_mercadopago', 'au...   \n",
       "2         {'train': {'feat': ['accepts_mercadopago', 'au...   \n",
       "3         {'train': {'feat': ['accepts_mercadopago', 'au...   \n",
       "\n",
       "                       model                           items  \\\n",
       "training                                                       \n",
       "0         LogisticRegression  {'train': 89109, 'test': 9905}   \n",
       "1         LogisticRegression  {'train': 89109, 'test': 9905}   \n",
       "2         LogisticRegression  {'train': 89109, 'test': 9905}   \n",
       "3         LogisticRegression  {'train': 89109, 'test': 9905}   \n",
       "\n",
       "                                                         cm  \\\n",
       "training                                                      \n",
       "0         [[0.9590577678070668, 0.04094223219293326], [0...   \n",
       "1         [[0.9584969153112731, 0.04150308468872686], [0...   \n",
       "2         [[0.9584969153112731, 0.04150308468872686], [0...   \n",
       "3                                                       NaN   \n",
       "\n",
       "                                                    metrics   roc_auc  \n",
       "training                                                               \n",
       "0         {'new': {'precision': 0.6804615996816554, 'rec...  0.715152  \n",
       "1         {'new': {'precision': 0.680605336519315, 'reca...  0.715201  \n",
       "2         {'new': {'precision': 0.680605336519315, 'reca...  0.715201  \n",
       "3                                                       NaN       NaN  "
      ]
     },
     "execution_count": 21,
     "metadata": {},
     "output_type": "execute_result"
    }
   ],
   "source": [
    "history"
   ]
  },
  {
   "cell_type": "markdown",
   "id": "db0c9bd3",
   "metadata": {},
   "source": [
    "## Model training"
   ]
  },
  {
   "cell_type": "code",
   "execution_count": 118,
   "id": "aadd458b",
   "metadata": {},
   "outputs": [],
   "source": [
    "# Initialize the Logistic Regression model\n",
    "model = LogisticRegression(class_weight='balanced', random_state=42)\n",
    "history.at[index, 'model'] = model.__class__.__name__ # for logging"
   ]
  },
  {
   "cell_type": "code",
   "execution_count": 119,
   "id": "c333c2c4",
   "metadata": {},
   "outputs": [
    {
     "name": "stdout",
     "output_type": "stream",
     "text": [
      "Training the Logistic Regression model...\n",
      "Model training complete.\n"
     ]
    }
   ],
   "source": [
    "# Train the model using the scaled training data\n",
    "print(\"Training the Logistic Regression model...\")\n",
    "model.fit(X_train, y_train)\n",
    "print(\"Model training complete.\")"
   ]
  },
  {
   "cell_type": "markdown",
   "id": "a028fb6e",
   "metadata": {},
   "source": [
    "## Model evaluation"
   ]
  },
  {
   "cell_type": "code",
   "execution_count": 120,
   "id": "7f0dacc7",
   "metadata": {},
   "outputs": [],
   "source": [
    "# Predict on the scaled test data\n",
    "y_pred = model.predict(X_test)\n",
    "y_pred_lbl = pd.Series(y_pred).map(classes)\n",
    "\n",
    "# Getprediction probabilities (useful for ROC curves, etc.\n",
    "y_pred_proba = model.predict_proba(X_test) "
   ]
  },
  {
   "cell_type": "code",
   "execution_count": 121,
   "id": "4c5809f4",
   "metadata": {},
   "outputs": [
    {
     "name": "stdout",
     "output_type": "stream",
     "text": [
      "Accuracy: 0.7347\n",
      "\n",
      "Classification Report:\n",
      "              precision    recall  f1-score   support\n",
      "\n",
      "         new      0.681     0.958     0.796      5349\n",
      "        used      0.906     0.472     0.621      4556\n",
      "\n",
      "    accuracy                          0.735      9905\n",
      "   macro avg      0.794     0.715     0.708      9905\n",
      "weighted avg      0.784     0.735     0.715      9905\n",
      "\n"
     ]
    }
   ],
   "source": [
    "# PERFORMANCE EVALUATION\n",
    "# Accuracy Score\n",
    "accuracy = accuracy_score(y_test, y_pred)\n",
    "print(f\"Accuracy: {accuracy:.4f}\")\n",
    "\n",
    "# Classification Report (provides Precision, Recall, F1-Score for each class)\n",
    "class_report = classification_report(y_test_lbl, y_pred_lbl,digits=3)\n",
    "print(\"\\nClassification Report:\")\n",
    "print(class_report)"
   ]
  },
  {
   "cell_type": "code",
   "execution_count": 122,
   "id": "0f419c3e",
   "metadata": {},
   "outputs": [
    {
     "data": {
      "image/png": "[encoded data removed]",
      "text/plain": [
       "<Figure size 800x600 with 2 Axes>"
      ]
     },
     "metadata": {},
     "output_type": "display_data"
    }
   ],
   "source": [
    "import matplotlib.pyplot as plt\n",
    "import seaborn as sns\n",
    "\n",
    "# Calculate the confusion matrix\n",
    "conf_matrix = confusion_matrix(y_test_lbl, y_pred_lbl)\n",
    "\n",
    "# Plot the confusion matrix\n",
    "plt.figure(figsize=(8, 6))\n",
    "sns.heatmap(conf_matrix, annot=True, fmt='d', cmap='Blues',\n",
    "            xticklabels=['Predicted New', 'Predicted Used'],\n",
    "            yticklabels=['Actual New', 'Actual Used'])\n",
    "plt.xlabel('Predicted Label')\n",
    "plt.ylabel('True Label')\n",
    "plt.title('Confusion Matrix')\n",
    "plt.tight_layout()\n",
    "if save_graph: plt.savefig('confusion_matrix.png')"
   ]
  },
  {
   "cell_type": "code",
   "execution_count": 123,
   "id": "d8d6095d",
   "metadata": {},
   "outputs": [
    {
     "data": {
      "image/png": "[encoded data removed]",
      "text/plain": [
       "<Figure size 800x600 with 1 Axes>"
      ]
     },
     "metadata": {},
     "output_type": "display_data"
    }
   ],
   "source": [
    "import matplotlib.pyplot as plt\n",
    "from sklearn.metrics import roc_curve, auc\n",
    "\n",
    "# Extract the probabilities of the positive class (second column)\n",
    "#y_pred_proba_positive = y_pred_proba[:, 1]\n",
    "\n",
    "# Calculate ROC curve and AUC\n",
    "fpr, tpr, thresholds = roc_curve(y_test, y_pred)\n",
    "roc_auc = auc(fpr, tpr)\n",
    "\n",
    "# Plot the ROC curve\n",
    "plt.figure(figsize=(8, 6))\n",
    "plt.plot(fpr, tpr, color='darkorange', lw=2, label=f'ROC curve (area = {roc_auc:.2f})')\n",
    "plt.plot([0, 1], [0, 1], color='navy', lw=2, linestyle='--', label='Random Classifier')\n",
    "plt.xlim([0.0, 1.0])\n",
    "plt.ylim([0.0, 1.05])\n",
    "plt.xlabel('False Positive Rate')\n",
    "plt.ylabel('True Positive Rate')\n",
    "plt.title('Receiver Operating Characteristic (ROC) Curve')\n",
    "plt.legend(loc='lower right')\n",
    "plt.grid(True)\n",
    "plt.tight_layout()\n",
    "if save_graph: plt.savefig('roc_auc_curve.png')"
   ]
  },
  {
   "cell_type": "markdown",
   "id": "bcb20549",
   "metadata": {},
   "source": [
    "#### Logging"
   ]
  },
  {
   "cell_type": "code",
   "execution_count": 124,
   "id": "ca2d9e13",
   "metadata": {},
   "outputs": [],
   "source": [
    "# Keep tracking of every metric\n",
    "history.at[index, 'cm'] = confusion_matrix(y_test_lbl, y_pred_lbl,normalize='true').tolist()\n",
    "history.at[index, 'metrics'] = classification_report(y_test_lbl, y_pred_lbl,output_dict=True)\n",
    "history.at[index, 'roc_auc'] = auc(fpr, tpr)\n",
    "history.to_csv('./data/train_logs.csv') # Save logging file locally"
   ]
  },
  {
   "cell_type": "code",
   "execution_count": 125,
   "id": "51f9b1de",
   "metadata": {},
   "outputs": [
    {
     "data": {
      "text/plain": [
       "features    {'train': {'feat': ['accepts_mercadopago', 'au...\n",
       "model                                      LogisticRegression\n",
       "items                          {'train': 89109, 'test': 9905}\n",
       "cm          [[0.9584969153112731, 0.04150308468872686], [0...\n",
       "metrics     {'new': {'precision': 0.680605336519315, 'reca...\n",
       "roc_auc                                              0.715201\n",
       "Name: 5, dtype: object"
      ]
     },
     "execution_count": 125,
     "metadata": {},
     "output_type": "execute_result"
    }
   ],
   "source": [
    "history.iloc[index]"
   ]
  },
  {
   "cell_type": "markdown",
   "id": "af7e90ed",
   "metadata": {},
   "source": [
    "### Coefficients Importance"
   ]
  },
  {
   "cell_type": "code",
   "execution_count": 130,
   "id": "024d8f4b",
   "metadata": {},
   "outputs": [],
   "source": [
    "feature_names = X_train.columns"
   ]
  },
  {
   "cell_type": "code",
   "execution_count": 131,
   "id": "d4831a2e",
   "metadata": {},
   "outputs": [
    {
     "name": "stdout",
     "output_type": "stream",
     "text": [
      "Model Intercept: -0.6929335869890125\n",
      "\n",
      "Coefficients for each feature:\n",
      "accepts_mercadopago: 0.2103\n",
      "automatic_relist: 2.4364\n",
      "price_scaled: 0.0018\n",
      "is_USD: 0.8070\n",
      "free_tier: -3.1393\n",
      "buying_mode_buy_it_now: 0.8888\n",
      "buying_mode_classified: -0.8917\n",
      "is_weekend: -0.2085\n",
      "is_working_hours: 0.2137\n",
      "\n",
      "--- Features by Absolute Magnitude (Most Influential) ---\n",
      "                  Feature  Coefficient  Abs_Coefficient\n",
      "4               free_tier    -3.139337         3.139337\n",
      "1        automatic_relist     2.436413         2.436413\n",
      "6  buying_mode_classified    -0.891730         0.891730\n",
      "5  buying_mode_buy_it_now     0.888835         0.888835\n",
      "3                  is_USD     0.807041         0.807041\n",
      "8        is_working_hours     0.213657         0.213657\n",
      "0     accepts_mercadopago     0.210295         0.210295\n",
      "7              is_weekend    -0.208487         0.208487\n",
      "2            price_scaled     0.001750         0.001750\n"
     ]
    }
   ],
   "source": [
    "# Let's access the coefficients to verify what feature is more influential\n",
    "coefficients = model.coef_[0]\n",
    "intercept = model.intercept_[0] \n",
    "\n",
    "print(\"Model Intercept:\", intercept)\n",
    "print(\"\\nCoefficients for each feature:\")\n",
    "for feature, coef in zip(feature_names, coefficients):\n",
    "    print(f\"{feature}: {coef:.4f}\")\n",
    "\n",
    "print(\"\\n--- Features by Absolute Magnitude (Most Influential) ---\")\n",
    "# Create a DataFrame to sort by absolute coefficient magnitude\n",
    "coef_df = pd.DataFrame({'Feature': feature_names, 'Coefficient': coefficients})\n",
    "coef_df['Abs_Coefficient'] = coef_df['Coefficient'].abs()\n",
    "sorted_coef_df = coef_df.sort_values(by='Abs_Coefficient', ascending=False)\n",
    "print(sorted_coef_df)"
   ]
  },
  {
   "cell_type": "markdown",
   "id": "85b239db",
   "metadata": {},
   "source": [
    "**Features' Predictiveness**\n",
    "1. free_tier                  0.485303 (#1)\n",
    "1. automatic_relist           0.187453 (#2)\n",
    "1. buying_mode_buy_it_now     0.099804 (#4)\n",
    "1. accepts_mercadopago        0.092842 (#7)\n",
    "1. buying_mode_classified     0.092842 (#3)\n",
    "1. initial_quantity_scaled    0.071924\n",
    "1. price_scaled               0.000968"
   ]
  },
  {
   "cell_type": "markdown",
   "id": "da489d5e",
   "metadata": {},
   "source": [
    "## Analysis"
   ]
  },
  {
   "cell_type": "markdown",
   "id": "30fa8855",
   "metadata": {},
   "source": [
    "**Key Takeaways:**\n",
    "\n",
    "1. Model had similar results as before.\n",
    "1. Notice how the coefficients of the remaining features have slightly changed. \n",
    "\n",
    "**Conclusions:**\n",
    "\n",
    "* `initial_quantity_scaled` was indeed not contributing meaningfully to the model's actual predictive performance. Its large coefficient in the original model was likely a statistical artifact (e.g., related to multicollinearity), rather than a reflection of true predictive power.\n",
    "* The model found that `free_tier` and `automatic_relist` are now the most prominent drivers of prediction, which aligns with them being the second and third most influential in your original model."
   ]
  },
  {
   "cell_type": "markdown",
   "id": "f60d1df8",
   "metadata": {},
   "source": [
    "---\n",
    "# 5º iteration - Regularization"
   ]
  },
  {
   "cell_type": "code",
   "execution_count": null,
   "id": "b392a3d9",
   "metadata": {},
   "outputs": [],
   "source": [
    "index = len(history) # used for logging\n",
    "history.loc[index] = None # Creates an empty row"
   ]
  },
  {
   "cell_type": "code",
   "execution_count": 4,
   "id": "fb9a2b6e",
   "metadata": {},
   "outputs": [
    {
     "name": "stdout",
     "output_type": "stream",
     "text": [
      "Importing data from 'new_or_used.py'…\n",
      "Starting preprocessing…\n",
      "Succesfully finished.\n",
      "\n"
     ]
    }
   ],
   "source": [
    "X_train, y_train, X_test, y_test = load_processed_data()"
   ]
  },
  {
   "cell_type": "code",
   "execution_count": 6,
   "id": "1886362c",
   "metadata": {},
   "outputs": [],
   "source": [
    "y_train_lbl = y_train.map(classes)\n",
    "y_test_lbl = y_test.map(classes)"
   ]
  },
  {
   "cell_type": "markdown",
   "id": "4b62f94a",
   "metadata": {},
   "source": [
    "### Dataset info"
   ]
  },
  {
   "cell_type": "code",
   "execution_count": 7,
   "id": "b579cb0f",
   "metadata": {},
   "outputs": [
    {
     "name": "stdout",
     "output_type": "stream",
     "text": [
      "Split sizes: 89109 train, 9905 test\n"
     ]
    }
   ],
   "source": [
    "size = {'train':len(X_train),'test':len(X_test)}\n",
    "print(\"Split sizes: {} train, {} test\".format(size['train'], size['test']))"
   ]
  },
  {
   "cell_type": "code",
   "execution_count": 8,
   "id": "184eeb5b",
   "metadata": {},
   "outputs": [],
   "source": [
    "features = {'train': {'feat': None, 'target': None},\n",
    "            'test': {'feat': None, 'target': None}}"
   ]
  },
  {
   "cell_type": "markdown",
   "id": "4e4106a6",
   "metadata": {},
   "source": [
    "#### Train split"
   ]
  },
  {
   "cell_type": "code",
   "execution_count": 9,
   "id": "c2f57ee5",
   "metadata": {},
   "outputs": [
    {
     "name": "stdout",
     "output_type": "stream",
     "text": [
      "<class 'pandas.core.frame.DataFrame'>\n",
      "RangeIndex: 89109 entries, 0 to 89108\n",
      "Data columns (total 9 columns):\n",
      " #   Column                  Non-Null Count  Dtype  \n",
      "---  ------                  --------------  -----  \n",
      " 0   accepts_mercadopago     89109 non-null  uint8  \n",
      " 1   automatic_relist        89109 non-null  uint8  \n",
      " 2   price_scaled            89109 non-null  float64\n",
      " 3   is_USD                  89109 non-null  uint8  \n",
      " 4   free_tier               89109 non-null  bool   \n",
      " 5   buying_mode_buy_it_now  89109 non-null  float64\n",
      " 6   buying_mode_classified  89109 non-null  float64\n",
      " 7   is_weekend              89109 non-null  int64  \n",
      " 8   is_working_hours        89109 non-null  int64  \n",
      "dtypes: bool(1), float64(3), int64(2), uint8(3)\n",
      "memory usage: 3.7 MB\n"
     ]
    }
   ],
   "source": [
    "X_train.info()"
   ]
  },
  {
   "cell_type": "code",
   "execution_count": 10,
   "id": "0bdab36c",
   "metadata": {},
   "outputs": [
    {
     "data": {
      "text/plain": [
       "new     47859\n",
       "used    41250\n",
       "Name: count, dtype: int64"
      ]
     },
     "execution_count": 10,
     "metadata": {},
     "output_type": "execute_result"
    }
   ],
   "source": [
    "y_train_lbl.value_counts()"
   ]
  },
  {
   "cell_type": "markdown",
   "id": "02bda372",
   "metadata": {},
   "source": [
    "#### Test split"
   ]
  },
  {
   "cell_type": "code",
   "execution_count": 11,
   "id": "167f4d6b",
   "metadata": {},
   "outputs": [],
   "source": [
    "X_train.drop(columns=['price_scaled'], inplace=True)\n",
    "X_test.drop(columns=['price_scaled'], inplace=True)"
   ]
  },
  {
   "cell_type": "code",
   "execution_count": 12,
   "id": "2e78f708",
   "metadata": {},
   "outputs": [],
   "source": [
    "X_train.drop(columns=['is_USD'], inplace=True)\n",
    "X_test.drop(columns=['is_USD'], inplace=True)"
   ]
  },
  {
   "cell_type": "code",
   "execution_count": 13,
   "id": "2712575a",
   "metadata": {},
   "outputs": [
    {
     "name": "stdout",
     "output_type": "stream",
     "text": [
      "<class 'pandas.core.frame.DataFrame'>\n",
      "RangeIndex: 9905 entries, 0 to 9904\n",
      "Data columns (total 7 columns):\n",
      " #   Column                  Non-Null Count  Dtype  \n",
      "---  ------                  --------------  -----  \n",
      " 0   accepts_mercadopago     9905 non-null   uint8  \n",
      " 1   automatic_relist        9905 non-null   uint8  \n",
      " 2   free_tier               9905 non-null   bool   \n",
      " 3   buying_mode_buy_it_now  9905 non-null   float64\n",
      " 4   buying_mode_classified  9905 non-null   float64\n",
      " 5   is_weekend              9905 non-null   int64  \n",
      " 6   is_working_hours        9905 non-null   int64  \n",
      "dtypes: bool(1), float64(2), int64(2), uint8(2)\n",
      "memory usage: 338.7 KB\n"
     ]
    }
   ],
   "source": [
    "X_test.info()"
   ]
  },
  {
   "cell_type": "code",
   "execution_count": 14,
   "id": "4bddb90a",
   "metadata": {},
   "outputs": [
    {
     "data": {
      "text/plain": [
       "new     5349\n",
       "used    4556\n",
       "Name: count, dtype: int64"
      ]
     },
     "execution_count": 14,
     "metadata": {},
     "output_type": "execute_result"
    }
   ],
   "source": [
    "y_test_lbl.value_counts()"
   ]
  },
  {
   "cell_type": "markdown",
   "id": "1e0a021e",
   "metadata": {},
   "source": [
    "#### Logging"
   ]
  },
  {
   "cell_type": "code",
   "execution_count": 16,
   "id": "220419d1",
   "metadata": {},
   "outputs": [],
   "source": [
    "# Keep tracking of every feature\n",
    "history.at[index, 'items'] = size\n",
    "features['train']['feat'] = X_train.columns.to_list()\n",
    "features['test']['feat'] = X_test.columns.to_list()\n",
    "features['train']['target'] = y_train_lbl.value_counts().to_dict()\n",
    "features['test']['target'] = y_test_lbl.value_counts().to_dict()\n",
    "history.at[index, 'features'] = features"
   ]
  },
  {
   "cell_type": "code",
   "execution_count": null,
   "id": "28a5bcb0",
   "metadata": {},
   "outputs": [],
   "source": [
    "history"
   ]
  },
  {
   "cell_type": "markdown",
   "id": "2cab45f1",
   "metadata": {},
   "source": [
    "## Model training"
   ]
  },
  {
   "cell_type": "code",
   "execution_count": 18,
   "id": "6c096854",
   "metadata": {},
   "outputs": [
    {
     "name": "stdout",
     "output_type": "stream",
     "text": [
      "Best C value: 0.1\n",
      "Best F1-score for 'used' with best C: 0.7037\n"
     ]
    }
   ],
   "source": [
    "from sklearn.model_selection import GridSearchCV\n",
    "from sklearn.metrics import f1_score, make_scorer\n",
    "\n",
    "# Define a range of C values to test\n",
    "param_grid = {'C': [0.001, 0.01, 0.1, 1, 10, 100]}\n",
    "\n",
    "# Create a scorer for the metric you care about most (e.g., F1-score for 'used' class)\n",
    "# Assuming 'used' is class 1 and 'new' is class 0\n",
    "# You might need to adjust 'pos_label' based on your class encoding if 'used' is not 1\n",
    "f1_scorer = make_scorer(f1_score, average='macro', pos_label=1)\n",
    "\n",
    "grid_search = GridSearchCV(LogisticRegression(penalty='l2', solver='liblinear', random_state=42),\n",
    "                           param_grid,\n",
    "                           cv=5, # 5-fold cross-validation\n",
    "                           scoring=f1_scorer, # Score based on the F1 for 'used'\n",
    "                           n_jobs=-1) # Use all available cores\n",
    "\n",
    "grid_search.fit(X_train, y_train)\n",
    "\n",
    "print(f\"Best C value: {grid_search.best_params_['C']}\")\n",
    "print(f\"Best F1-score for 'used' with best C: {grid_search.best_score_:.4f}\")\n",
    "\n",
    "# Access the best model\n",
    "best_model = grid_search.best_estimator_\n",
    "\n",
    "# Now evaluate this best_model on your test set"
   ]
  },
  {
   "cell_type": "code",
   "execution_count": 19,
   "id": "823f2d19",
   "metadata": {},
   "outputs": [],
   "source": [
    "# Initialize the Logistic Regression model\n",
    "#model = LogisticRegression(class_weight='balanced', random_state=42)\n",
    "model = LogisticRegression(class_weight='balanced', penalty='l2', C=0.1, solver='liblinear', random_state=42)\n",
    "history.at[index, 'model'] = model.__class__.__name__ # for logging"
   ]
  },
  {
   "cell_type": "code",
   "execution_count": 20,
   "id": "8767dec1",
   "metadata": {},
   "outputs": [
    {
     "name": "stdout",
     "output_type": "stream",
     "text": [
      "Training the Logistic Regression model...\n",
      "Model training complete.\n"
     ]
    }
   ],
   "source": [
    "# Train the model using the scaled training data\n",
    "print(\"Training the Logistic Regression model...\")\n",
    "model.fit(X_train, y_train)\n",
    "print(\"Model training complete.\")"
   ]
  },
  {
   "cell_type": "markdown",
   "id": "af7a0be7",
   "metadata": {},
   "source": [
    "## Model evaluation"
   ]
  },
  {
   "cell_type": "code",
   "execution_count": 21,
   "id": "9f7e837f",
   "metadata": {},
   "outputs": [],
   "source": [
    "# Predict on the scaled test data\n",
    "y_pred = model.predict(X_test)\n",
    "y_pred_lbl = pd.Series(y_pred).map(classes)\n",
    "\n",
    "# Getprediction probabilities (useful for ROC curves, etc.\n",
    "y_pred_proba = model.predict_proba(X_test) "
   ]
  },
  {
   "cell_type": "code",
   "execution_count": 22,
   "id": "4a596e6e",
   "metadata": {},
   "outputs": [
    {
     "name": "stdout",
     "output_type": "stream",
     "text": [
      "Accuracy: 0.7347\n",
      "\n",
      "Classification Report:\n",
      "              precision    recall  f1-score   support\n",
      "\n",
      "         new      0.681     0.958     0.796      5349\n",
      "        used      0.906     0.472     0.621      4556\n",
      "\n",
      "    accuracy                          0.735      9905\n",
      "   macro avg      0.794     0.715     0.708      9905\n",
      "weighted avg      0.784     0.735     0.715      9905\n",
      "\n"
     ]
    }
   ],
   "source": [
    "# PERFORMANCE EVALUATION\n",
    "# Accuracy Score\n",
    "accuracy = accuracy_score(y_test, y_pred)\n",
    "print(f\"Accuracy: {accuracy:.4f}\")\n",
    "\n",
    "# Classification Report (provides Precision, Recall, F1-Score for each class)\n",
    "class_report = classification_report(y_test_lbl, y_pred_lbl,digits=3)\n",
    "print(\"\\nClassification Report:\")\n",
    "print(class_report)"
   ]
  },
  {
   "cell_type": "code",
   "execution_count": 23,
   "id": "41fb6579",
   "metadata": {},
   "outputs": [
    {
     "data": {
      "text/plain": [
       "0.7153503751627156"
      ]
     },
     "execution_count": 23,
     "metadata": {},
     "output_type": "execute_result"
    }
   ],
   "source": [
    "f1_score(y_test, y_pred,average='weighted')"
   ]
  },
  {
   "cell_type": "code",
   "execution_count": 24,
   "id": "3b7cadba",
   "metadata": {},
   "outputs": [
    {
     "data": {
      "image/png": "[encoded data removed]",
      "text/plain": [
       "<Figure size 800x600 with 2 Axes>"
      ]
     },
     "metadata": {},
     "output_type": "display_data"
    }
   ],
   "source": [
    "import matplotlib.pyplot as plt\n",
    "import seaborn as sns\n",
    "\n",
    "# Calculate the confusion matrix\n",
    "conf_matrix = confusion_matrix(y_test_lbl, y_pred_lbl)\n",
    "\n",
    "# Plot the confusion matrix\n",
    "plt.figure(figsize=(8, 6))\n",
    "sns.heatmap(conf_matrix, annot=True, fmt='d', cmap='Blues',\n",
    "            xticklabels=['Predicted New', 'Predicted Used'],\n",
    "            yticklabels=['Actual New', 'Actual Used'])\n",
    "plt.xlabel('Predicted Label')\n",
    "plt.ylabel('True Label')\n",
    "plt.title('Confusion Matrix')\n",
    "plt.tight_layout()\n",
    "if save_graph: plt.savefig('confusion_matrix.png')"
   ]
  },
  {
   "cell_type": "code",
   "execution_count": 25,
   "id": "aea9dd4f",
   "metadata": {},
   "outputs": [
    {
     "data": {
      "image/png": "[encoded data removed]",
      "text/plain": [
       "<Figure size 800x600 with 1 Axes>"
      ]
     },
     "metadata": {},
     "output_type": "display_data"
    }
   ],
   "source": [
    "import matplotlib.pyplot as plt\n",
    "from sklearn.metrics import roc_curve, auc\n",
    "\n",
    "# Extract the probabilities of the positive class (second column)\n",
    "#y_pred_proba_positive = y_pred_proba[:, 1]\n",
    "\n",
    "# Calculate ROC curve and AUC\n",
    "fpr, tpr, thresholds = roc_curve(y_test, y_pred)\n",
    "roc_auc = auc(fpr, tpr)\n",
    "\n",
    "# Plot the ROC curve\n",
    "plt.figure(figsize=(8, 6))\n",
    "plt.plot(fpr, tpr, color='darkorange', lw=2, label=f'ROC curve (area = {roc_auc:.2f})')\n",
    "plt.plot([0, 1], [0, 1], color='navy', lw=2, linestyle='--', label='Random Classifier')\n",
    "plt.xlim([0.0, 1.0])\n",
    "plt.ylim([0.0, 1.05])\n",
    "plt.xlabel('False Positive Rate')\n",
    "plt.ylabel('True Positive Rate')\n",
    "plt.title('Receiver Operating Characteristic (ROC) Curve')\n",
    "plt.legend(loc='lower right')\n",
    "plt.grid(True)\n",
    "plt.tight_layout()\n",
    "if save_graph: plt.savefig('roc_auc_curve.png')"
   ]
  },
  {
   "cell_type": "markdown",
   "id": "1162458d",
   "metadata": {},
   "source": [
    "#### Logging"
   ]
  },
  {
   "cell_type": "code",
   "execution_count": 31,
   "id": "824790b5",
   "metadata": {},
   "outputs": [],
   "source": [
    "# Keep tracking of every metric\n",
    "history.at[index, 'cm'] = confusion_matrix(y_test_lbl, y_pred_lbl,normalize='true').tolist()\n",
    "history.at[index, 'metrics'] = classification_report(y_test_lbl, y_pred_lbl,output_dict=True)\n",
    "history.at[index, 'roc_auc'] = auc(fpr, tpr)\n",
    "history.to_csv('./data/train_logs.csv') # Save logging file locally"
   ]
  },
  {
   "cell_type": "code",
   "execution_count": 27,
   "id": "11b084f5",
   "metadata": {},
   "outputs": [
    {
     "data": {
      "text/plain": [
       "features    {'train': {'feat': ['accepts_mercadopago', 'au...\n",
       "model                                      LogisticRegression\n",
       "items                          {'train': 89109, 'test': 9905}\n",
       "cm          [[0.9584969153112731, 0.04150308468872686], [0...\n",
       "metrics     {'new': {'precision': 0.680605336519315, 'reca...\n",
       "roc_auc                                              0.715201\n",
       "Name: 6, dtype: object"
      ]
     },
     "execution_count": 27,
     "metadata": {},
     "output_type": "execute_result"
    }
   ],
   "source": [
    "history.iloc[index]"
   ]
  },
  {
   "cell_type": "markdown",
   "id": "67288192",
   "metadata": {},
   "source": [
    "### Coefficients Importance"
   ]
  },
  {
   "cell_type": "code",
   "execution_count": 28,
   "id": "752fe03b",
   "metadata": {},
   "outputs": [],
   "source": [
    "feature_names = X_train.columns"
   ]
  },
  {
   "cell_type": "code",
   "execution_count": 30,
   "id": "f95dd9ee",
   "metadata": {},
   "outputs": [
    {
     "name": "stdout",
     "output_type": "stream",
     "text": [
      "Model Intercept: -0.5684123844419986\n",
      "\n",
      "Coefficients for each feature:\n",
      "accepts_mercadopago: 0.1754\n",
      "automatic_relist: 2.3319\n",
      "free_tier: -3.1167\n",
      "buying_mode_buy_it_now: 0.8000\n",
      "buying_mode_classified: -0.7438\n",
      "is_weekend: -0.2084\n",
      "is_working_hours: 0.2109\n",
      "\n",
      "--- Features by Absolute Magnitude (Most Influential) ---\n",
      "                  Feature  Coefficient  Abs_Coefficient\n",
      "2               free_tier    -3.116681         3.116681\n",
      "1        automatic_relist     2.331881         2.331881\n",
      "3  buying_mode_buy_it_now     0.800023         0.800023\n",
      "4  buying_mode_classified    -0.743798         0.743798\n",
      "6        is_working_hours     0.210899         0.210899\n",
      "5              is_weekend    -0.208427         0.208427\n",
      "0     accepts_mercadopago     0.175385         0.175385\n"
     ]
    }
   ],
   "source": [
    "# Let's access the coefficients to verify what feature is more influential\n",
    "coefficients = model.coef_[0]\n",
    "intercept = model.intercept_[0] \n",
    "\n",
    "print(\"Model Intercept:\", intercept)\n",
    "print(\"\\nCoefficients for each feature:\")\n",
    "for feature, coef in zip(feature_names, coefficients):\n",
    "    print(f\"{feature}: {coef:.4f}\")\n",
    "\n",
    "print(\"\\n--- Features by Absolute Magnitude (Most Influential) ---\")\n",
    "# Create a DataFrame to sort by absolute coefficient magnitude\n",
    "coef_df = pd.DataFrame({'Feature': feature_names, 'Coefficient': coefficients})\n",
    "coef_df['Abs_Coefficient'] = coef_df['Coefficient'].abs()\n",
    "sorted_coef_df = coef_df.sort_values(by='Abs_Coefficient', ascending=False)\n",
    "print(sorted_coef_df)"
   ]
  },
  {
   "cell_type": "markdown",
   "id": "a45a1721",
   "metadata": {},
   "source": [
    "1. free_tier                  0.485303 (#1)\n",
    "1. automatic_relist           0.187453 (#2)\n",
    "1. buying_mode_buy_it_now     0.099804 (#3)\n",
    "1. accepts_mercadopago        0.092842\n",
    "1. buying_mode_classified     0.092842 (#4)\n",
    "1. initial_quantity_scaled    0.071924\n",
    "1. status_paused              0.067348\n",
    "1. is_USD                     0.025116\n",
    "1. status_not_yet_active      0.003110\n",
    "1. price_scaled               0.000968"
   ]
  },
  {
   "cell_type": "markdown",
   "id": "0fa8a37d",
   "metadata": {},
   "source": [
    "## Analysis"
   ]
  },
  {
   "cell_type": "markdown",
   "id": "a43e3bca",
   "metadata": {},
   "source": [
    "1. Model had similar results as before.\n",
    "1. Notice how the coefficients of the remaining features have slightly changed.\n",
    "\n",
    "**Conclusions:**\n",
    "\n",
    "* Even when it's not impacting in model performance, we can see that applying L2 reg is penalizing even more `accepts_mercadopago`. However, this was detected to be more correlated with target that other features."
   ]
  },
  {
   "cell_type": "markdown",
   "id": "280d8f9a",
   "metadata": {},
   "source": [
    "---\n",
    "# 6º iteration - Categorical quantity"
   ]
  },
  {
   "cell_type": "code",
   "execution_count": null,
   "id": "d31655e5",
   "metadata": {},
   "outputs": [],
   "source": [
    "index = len(history) # used for logging\n",
    "history.loc[index] = None # Creates an empty row"
   ]
  },
  {
   "cell_type": "code",
   "execution_count": 45,
   "id": "f59ddc3d",
   "metadata": {},
   "outputs": [
    {
     "name": "stdout",
     "output_type": "stream",
     "text": [
      "Importing data from 'new_or_used.py'…\n",
      "Starting preprocessing…\n",
      "Succesfully finished.\n",
      "\n"
     ]
    }
   ],
   "source": [
    "X_train, y_train, X_test, y_test = load_processed_data()"
   ]
  },
  {
   "cell_type": "code",
   "execution_count": 46,
   "id": "bdc76890",
   "metadata": {},
   "outputs": [
    {
     "data": {
      "text/plain": [
       "Index(['accepts_mercadopago', 'automatic_relist', 'price_scaled', 'is_USD',\n",
       "       'free_tier', 'buying_mode_buy_it_now', 'buying_mode_classified',\n",
       "       'is_weekend', 'is_working_hours', 'quant_single_unit', 'quant_small'],\n",
       "      dtype='object')"
      ]
     },
     "execution_count": 46,
     "metadata": {},
     "output_type": "execute_result"
    }
   ],
   "source": [
    "X_train.columns"
   ]
  },
  {
   "cell_type": "code",
   "execution_count": 47,
   "id": "08bec7af",
   "metadata": {},
   "outputs": [],
   "source": [
    "y_train_lbl = y_train.map(classes)\n",
    "y_test_lbl = y_test.map(classes)"
   ]
  },
  {
   "cell_type": "markdown",
   "id": "049d3f42",
   "metadata": {},
   "source": [
    "### Dataset info"
   ]
  },
  {
   "cell_type": "code",
   "execution_count": 48,
   "id": "267d8e6a",
   "metadata": {},
   "outputs": [
    {
     "name": "stdout",
     "output_type": "stream",
     "text": [
      "Split sizes: 89109 train, 9905 test\n"
     ]
    }
   ],
   "source": [
    "size = {'train':len(X_train),'test':len(X_test)}\n",
    "print(\"Split sizes: {} train, {} test\".format(size['train'], size['test']))"
   ]
  },
  {
   "cell_type": "code",
   "execution_count": 49,
   "id": "9d8c71e2",
   "metadata": {},
   "outputs": [],
   "source": [
    "features = {'train': {'feat': None, 'target': None},\n",
    "            'test': {'feat': None, 'target': None}}"
   ]
  },
  {
   "cell_type": "markdown",
   "id": "a117500c",
   "metadata": {},
   "source": [
    "#### Train split"
   ]
  },
  {
   "cell_type": "code",
   "execution_count": 50,
   "id": "01b3561a",
   "metadata": {},
   "outputs": [
    {
     "name": "stdout",
     "output_type": "stream",
     "text": [
      "<class 'pandas.core.frame.DataFrame'>\n",
      "RangeIndex: 89109 entries, 0 to 89108\n",
      "Data columns (total 11 columns):\n",
      " #   Column                  Non-Null Count  Dtype  \n",
      "---  ------                  --------------  -----  \n",
      " 0   accepts_mercadopago     89109 non-null  uint8  \n",
      " 1   automatic_relist        89109 non-null  uint8  \n",
      " 2   price_scaled            89109 non-null  float64\n",
      " 3   is_USD                  89109 non-null  uint8  \n",
      " 4   free_tier               89109 non-null  bool   \n",
      " 5   buying_mode_buy_it_now  89109 non-null  float64\n",
      " 6   buying_mode_classified  89109 non-null  float64\n",
      " 7   is_weekend              89109 non-null  int64  \n",
      " 8   is_working_hours        89109 non-null  int64  \n",
      " 9   quant_single_unit       89109 non-null  bool   \n",
      " 10  quant_small             89109 non-null  bool   \n",
      "dtypes: bool(3), float64(3), int64(2), uint8(3)\n",
      "memory usage: 3.9 MB\n"
     ]
    }
   ],
   "source": [
    "X_train.info()"
   ]
  },
  {
   "cell_type": "code",
   "execution_count": 51,
   "id": "86c79348",
   "metadata": {},
   "outputs": [
    {
     "data": {
      "text/plain": [
       "new     47859\n",
       "used    41250\n",
       "Name: count, dtype: int64"
      ]
     },
     "execution_count": 51,
     "metadata": {},
     "output_type": "execute_result"
    }
   ],
   "source": [
    "y_train_lbl.value_counts()"
   ]
  },
  {
   "cell_type": "markdown",
   "id": "a4f7d7de",
   "metadata": {},
   "source": [
    "#### Test split"
   ]
  },
  {
   "cell_type": "code",
   "execution_count": 53,
   "id": "7a4922c3",
   "metadata": {},
   "outputs": [
    {
     "name": "stdout",
     "output_type": "stream",
     "text": [
      "<class 'pandas.core.frame.DataFrame'>\n",
      "RangeIndex: 9905 entries, 0 to 9904\n",
      "Data columns (total 11 columns):\n",
      " #   Column                  Non-Null Count  Dtype  \n",
      "---  ------                  --------------  -----  \n",
      " 0   accepts_mercadopago     9905 non-null   uint8  \n",
      " 1   automatic_relist        9905 non-null   uint8  \n",
      " 2   price_scaled            9905 non-null   float64\n",
      " 3   is_USD                  9905 non-null   uint8  \n",
      " 4   free_tier               9905 non-null   bool   \n",
      " 5   buying_mode_buy_it_now  9905 non-null   float64\n",
      " 6   buying_mode_classified  9905 non-null   float64\n",
      " 7   is_weekend              9905 non-null   int64  \n",
      " 8   is_working_hours        9905 non-null   int64  \n",
      " 9   quant_single_unit       9905 non-null   bool   \n",
      " 10  quant_small             9905 non-null   bool   \n",
      "dtypes: bool(3), float64(3), int64(2), uint8(3)\n",
      "memory usage: 445.1 KB\n"
     ]
    }
   ],
   "source": [
    "X_test.info()"
   ]
  },
  {
   "cell_type": "code",
   "execution_count": 54,
   "id": "c1265c17",
   "metadata": {},
   "outputs": [
    {
     "data": {
      "text/plain": [
       "new     5349\n",
       "used    4556\n",
       "Name: count, dtype: int64"
      ]
     },
     "execution_count": 54,
     "metadata": {},
     "output_type": "execute_result"
    }
   ],
   "source": [
    "y_test_lbl.value_counts()"
   ]
  },
  {
   "cell_type": "markdown",
   "id": "5cb4a17d",
   "metadata": {},
   "source": [
    "#### Logging"
   ]
  },
  {
   "cell_type": "code",
   "execution_count": null,
   "id": "35b529e3",
   "metadata": {},
   "outputs": [],
   "source": [
    "# Keep tracking of every feature\n",
    "history.at[index, 'items'] = size\n",
    "features['train']['feat'] = X_train.columns.to_list()\n",
    "features['test']['feat'] = X_test.columns.to_list()\n",
    "features['train']['target'] = y_train_lbl.value_counts().to_dict()\n",
    "features['test']['target'] = y_test_lbl.value_counts().to_dict()\n",
    "history.at[index, 'features'] = features"
   ]
  },
  {
   "cell_type": "code",
   "execution_count": null,
   "id": "9dd4b951",
   "metadata": {},
   "outputs": [
    {
     "data": {
      "text/html": [
       "<div>\n",
       "<style scoped>\n",
       "    .dataframe tbody tr th:only-of-type {\n",
       "        vertical-align: middle;\n",
       "    }\n",
       "\n",
       "    .dataframe tbody tr th {\n",
       "        vertical-align: top;\n",
       "    }\n",
       "\n",
       "    .dataframe thead th {\n",
       "        text-align: right;\n",
       "    }\n",
       "</style>\n",
       "<table border=\"1\" class=\"dataframe\">\n",
       "  <thead>\n",
       "    <tr style=\"text-align: right;\">\n",
       "      <th></th>\n",
       "      <th>features</th>\n",
       "      <th>model</th>\n",
       "      <th>items</th>\n",
       "      <th>cm</th>\n",
       "      <th>metrics</th>\n",
       "      <th>roc_auc</th>\n",
       "    </tr>\n",
       "    <tr>\n",
       "      <th>training</th>\n",
       "      <th></th>\n",
       "      <th></th>\n",
       "      <th></th>\n",
       "      <th></th>\n",
       "      <th></th>\n",
       "      <th></th>\n",
       "    </tr>\n",
       "  </thead>\n",
       "  <tbody>\n",
       "    <tr>\n",
       "      <th>0</th>\n",
       "      <td>{'train': {'feat': ['accepts_mercadopago', 'au...</td>\n",
       "      <td>LogisticRegression</td>\n",
       "      <td>{'train': 89109, 'test': 9905}</td>\n",
       "      <td>[[0.9590577678070668, 0.04094223219293326], [0...</td>\n",
       "      <td>{'new': {'precision': 0.6804615996816554, 'rec...</td>\n",
       "      <td>0.715152</td>\n",
       "    </tr>\n",
       "    <tr>\n",
       "      <th>1</th>\n",
       "      <td>{'train': {'feat': ['accepts_mercadopago', 'au...</td>\n",
       "      <td>LogisticRegression</td>\n",
       "      <td>{'train': 89109, 'test': 9905}</td>\n",
       "      <td>[[0.9584969153112731, 0.04150308468872686], [0...</td>\n",
       "      <td>{'new': {'precision': 0.680605336519315, 'reca...</td>\n",
       "      <td>0.715201</td>\n",
       "    </tr>\n",
       "    <tr>\n",
       "      <th>2</th>\n",
       "      <td>{'train': {'feat': ['accepts_mercadopago', 'au...</td>\n",
       "      <td>LogisticRegression</td>\n",
       "      <td>{'train': 89109, 'test': 9905}</td>\n",
       "      <td>[[0.9584969153112731, 0.04150308468872686], [0...</td>\n",
       "      <td>{'new': {'precision': 0.680605336519315, 'reca...</td>\n",
       "      <td>0.715201</td>\n",
       "    </tr>\n",
       "    <tr>\n",
       "      <th>3</th>\n",
       "      <td>{'train': {'feat': ['accepts_mercadopago', 'au...</td>\n",
       "      <td>LogisticRegression</td>\n",
       "      <td>{'train': 89109, 'test': 9905}</td>\n",
       "      <td>NaN</td>\n",
       "      <td>NaN</td>\n",
       "      <td>NaN</td>\n",
       "    </tr>\n",
       "  </tbody>\n",
       "</table>\n",
       "</div>"
      ],
      "text/plain": [
       "                                                   features  \\\n",
       "training                                                      \n",
       "0         {'train': {'feat': ['accepts_mercadopago', 'au...   \n",
       "1         {'train': {'feat': ['accepts_mercadopago', 'au...   \n",
       "2         {'train': {'feat': ['accepts_mercadopago', 'au...   \n",
       "3         {'train': {'feat': ['accepts_mercadopago', 'au...   \n",
       "\n",
       "                       model                           items  \\\n",
       "training                                                       \n",
       "0         LogisticRegression  {'train': 89109, 'test': 9905}   \n",
       "1         LogisticRegression  {'train': 89109, 'test': 9905}   \n",
       "2         LogisticRegression  {'train': 89109, 'test': 9905}   \n",
       "3         LogisticRegression  {'train': 89109, 'test': 9905}   \n",
       "\n",
       "                                                         cm  \\\n",
       "training                                                      \n",
       "0         [[0.9590577678070668, 0.04094223219293326], [0...   \n",
       "1         [[0.9584969153112731, 0.04150308468872686], [0...   \n",
       "2         [[0.9584969153112731, 0.04150308468872686], [0...   \n",
       "3                                                       NaN   \n",
       "\n",
       "                                                    metrics   roc_auc  \n",
       "training                                                               \n",
       "0         {'new': {'precision': 0.6804615996816554, 'rec...  0.715152  \n",
       "1         {'new': {'precision': 0.680605336519315, 'reca...  0.715201  \n",
       "2         {'new': {'precision': 0.680605336519315, 'reca...  0.715201  \n",
       "3                                                       NaN       NaN  "
      ]
     },
     "metadata": {},
     "output_type": "display_data"
    }
   ],
   "source": [
    "history"
   ]
  },
  {
   "cell_type": "markdown",
   "id": "f22b592b",
   "metadata": {},
   "source": [
    "## Model training"
   ]
  },
  {
   "cell_type": "code",
   "execution_count": 61,
   "id": "5e2a22fb",
   "metadata": {},
   "outputs": [],
   "source": [
    "# Initialize the Logistic Regression model\n",
    "#model = LogisticRegression(class_weight='balanced', random_state=42)\n",
    "model = LogisticRegression(class_weight='balanced', penalty='l2', C=0.1, solver='liblinear', random_state=42)\n",
    "history.at[index, 'model'] = model.__class__.__name__ # for logging"
   ]
  },
  {
   "cell_type": "code",
   "execution_count": 62,
   "id": "13a33288",
   "metadata": {},
   "outputs": [
    {
     "name": "stdout",
     "output_type": "stream",
     "text": [
      "Training the Logistic Regression model...\n",
      "Model training complete.\n"
     ]
    }
   ],
   "source": [
    "# Train the model using the scaled training data\n",
    "print(\"Training the Logistic Regression model...\")\n",
    "model.fit(X_train, y_train)\n",
    "print(\"Model training complete.\")"
   ]
  },
  {
   "cell_type": "markdown",
   "id": "85c7594a",
   "metadata": {},
   "source": [
    "## Model evaluation"
   ]
  },
  {
   "cell_type": "code",
   "execution_count": 63,
   "id": "05909d74",
   "metadata": {},
   "outputs": [],
   "source": [
    "# Predict on the scaled test data\n",
    "y_pred = model.predict(X_test)\n",
    "y_pred_lbl = pd.Series(y_pred).map(classes)\n",
    "\n",
    "# Getprediction probabilities (useful for ROC curves, etc.\n",
    "y_pred_proba = model.predict_proba(X_test) "
   ]
  },
  {
   "cell_type": "code",
   "execution_count": 64,
   "id": "13616502",
   "metadata": {},
   "outputs": [
    {
     "name": "stdout",
     "output_type": "stream",
     "text": [
      "Accuracy: 0.7424\n",
      "\n",
      "Classification Report:\n",
      "              precision    recall  f1-score   support\n",
      "\n",
      "         new      0.965     0.543     0.695      5349\n",
      "        used      0.645     0.977     0.777      4556\n",
      "\n",
      "    accuracy                          0.742      9905\n",
      "   macro avg      0.805     0.760     0.736      9905\n",
      "weighted avg      0.818     0.742     0.733      9905\n",
      "\n"
     ]
    }
   ],
   "source": [
    "# PERFORMANCE EVALUATION\n",
    "# Accuracy Score\n",
    "accuracy = accuracy_score(y_test, y_pred)\n",
    "print(f\"Accuracy: {accuracy:.4f}\")\n",
    "\n",
    "# Classification Report (provides Precision, Recall, F1-Score for each class)\n",
    "class_report = classification_report(y_test_lbl, y_pred_lbl,digits=3)\n",
    "print(\"\\nClassification Report:\")\n",
    "print(class_report)"
   ]
  },
  {
   "cell_type": "code",
   "execution_count": 65,
   "id": "ce5ed238",
   "metadata": {},
   "outputs": [
    {
     "data": {
      "text/plain": [
       "0.6946637951663077"
      ]
     },
     "execution_count": 65,
     "metadata": {},
     "output_type": "execute_result"
    }
   ],
   "source": [
    "f1_score(y_test, y_pred,average='binary')"
   ]
  },
  {
   "cell_type": "code",
   "execution_count": 66,
   "id": "463ac855",
   "metadata": {},
   "outputs": [
    {
     "data": {
      "image/png": "[encoded data removed]",
      "text/plain": [
       "<Figure size 800x600 with 2 Axes>"
      ]
     },
     "metadata": {},
     "output_type": "display_data"
    }
   ],
   "source": [
    "import matplotlib.pyplot as plt\n",
    "import seaborn as sns\n",
    "\n",
    "# Calculate the confusion matrix\n",
    "conf_matrix = confusion_matrix(y_test_lbl, y_pred_lbl)\n",
    "\n",
    "# Plot the confusion matrix\n",
    "plt.figure(figsize=(8, 6))\n",
    "sns.heatmap(conf_matrix, annot=True, fmt='d', cmap='Blues',\n",
    "            xticklabels=['Predicted New', 'Predicted Used'],\n",
    "            yticklabels=['Actual New', 'Actual Used'])\n",
    "plt.xlabel('Predicted Label')\n",
    "plt.ylabel('True Label')\n",
    "plt.title('Confusion Matrix')\n",
    "plt.tight_layout()\n",
    "if save_graph: plt.savefig('confusion_matrix.png')"
   ]
  },
  {
   "cell_type": "code",
   "execution_count": null,
   "id": "5046a00f",
   "metadata": {},
   "outputs": [
    {
     "data": {
      "image/png": "[encoded data removed]",
      "text/plain": [
       "<Figure size 800x600 with 1 Axes>"
      ]
     },
     "metadata": {},
     "output_type": "display_data"
    }
   ],
   "source": [
    "import matplotlib.pyplot as plt\n",
    "from sklearn.metrics import roc_curve, auc\n",
    "\n",
    "# Extract the probabilities of the positive class (second column)\n",
    "#y_pred_proba_positive = y_pred_proba[:, 1]\n",
    "\n",
    "# Calculate ROC curve and AUC\n",
    "fpr, tpr, thresholds = roc_curve(y_test, y_pred)\n",
    "roc_auc = auc(fpr, tpr)\n",
    "\n",
    "# Plot the ROC curve\n",
    "plt.figure(figsize=(8, 6))\n",
    "plt.plot(fpr, tpr, color='darkorange', lw=2, label=f'ROC curve (area = {roc_auc:.2f})')\n",
    "plt.plot([0, 1], [0, 1], color='navy', lw=2, linestyle='--', label='Random Classifier')\n",
    "plt.xlim([0.0, 1.0])\n",
    "plt.ylim([0.0, 1.05])\n",
    "plt.xlabel('False Positive Rate')\n",
    "plt.ylabel('True Positive Rate')\n",
    "plt.title('Receiver Operating Characteristic (ROC) Curve')\n",
    "plt.legend(loc='lower right')\n",
    "plt.grid(True)\n",
    "plt.tight_layout()\n",
    "if save_graph: plt.savefig('roc_auc_curve.png')"
   ]
  },
  {
   "cell_type": "markdown",
   "id": "5186501a",
   "metadata": {},
   "source": [
    "#### Logging"
   ]
  },
  {
   "cell_type": "code",
   "execution_count": null,
   "id": "3d082476",
   "metadata": {},
   "outputs": [],
   "source": [
    "# Keep tracking of every metric\n",
    "history.at[index, 'cm'] = confusion_matrix(y_test_lbl, y_pred_lbl,normalize='true').tolist()\n",
    "history.at[index, 'metrics'] = classification_report(y_test_lbl, y_pred_lbl,output_dict=True)\n",
    "history.at[index, 'roc_auc'] = auc(fpr, tpr)\n",
    "history.to_csv('./data/train_logs.csv') # Save logging file locally"
   ]
  },
  {
   "cell_type": "code",
   "execution_count": null,
   "id": "5d0045b3",
   "metadata": {},
   "outputs": [
    {
     "data": {
      "text/plain": [
       "features    {'train': {'feat': ['accepts_mercadopago', 'au...\n",
       "model                                      LogisticRegression\n",
       "items                          {'train': 89109, 'test': 9905}\n",
       "cm          [[0.5427182650962796, 0.4572817349037203], [0....\n",
       "metrics     {'new': {'precision': 0.9647723496178132, 'rec...\n",
       "roc_auc                                              0.759726\n",
       "Name: 6, dtype: object"
      ]
     },
     "execution_count": 73,
     "metadata": {},
     "output_type": "execute_result"
    }
   ],
   "source": [
    "history.iloc[index]"
   ]
  },
  {
   "cell_type": "markdown",
   "id": "d251a925",
   "metadata": {},
   "source": [
    "### Coefficients Importance"
   ]
  },
  {
   "cell_type": "code",
   "execution_count": null,
   "id": "b84bb1f2",
   "metadata": {},
   "outputs": [],
   "source": [
    "feature_names = X_train.columns"
   ]
  },
  {
   "cell_type": "code",
   "execution_count": null,
   "id": "2418ef0e",
   "metadata": {},
   "outputs": [
    {
     "name": "stdout",
     "output_type": "stream",
     "text": [
      "Model Intercept: 1.864626552270474\n",
      "\n",
      "Coefficients for each feature:\n",
      "accepts_mercadopago: 1.3194\n",
      "automatic_relist: 1.5625\n",
      "free_tier: -2.7130\n",
      "buying_mode_buy_it_now: 0.2526\n",
      "buying_mode_classified: 0.5088\n",
      "is_weekend: -0.1405\n",
      "is_working_hours: 0.1727\n",
      "quant_single_unit: -3.6907\n",
      "quant_small: -0.9940\n",
      "\n",
      "--- Features by Absolute Magnitude (Most Influential) ---\n",
      "                  Feature  Coefficient  Abs_Coefficient\n",
      "7       quant_single_unit    -3.690727         3.690727\n",
      "2               free_tier    -2.713048         2.713048\n",
      "1        automatic_relist     1.562547         1.562547\n",
      "0     accepts_mercadopago     1.319410         1.319410\n",
      "8             quant_small    -0.994010         0.994010\n",
      "4  buying_mode_classified     0.508783         0.508783\n",
      "3  buying_mode_buy_it_now     0.252574         0.252574\n",
      "6        is_working_hours     0.172680         0.172680\n",
      "5              is_weekend    -0.140487         0.140487\n"
     ]
    }
   ],
   "source": [
    "# Let's access the coefficients to verify what feature is more influential\n",
    "coefficients = model.coef_[0]\n",
    "intercept = model.intercept_[0] \n",
    "\n",
    "print(\"Model Intercept:\", intercept)\n",
    "print(\"\\nCoefficients for each feature:\")\n",
    "for feature, coef in zip(feature_names, coefficients):\n",
    "    print(f\"{feature}: {coef:.4f}\")\n",
    "\n",
    "print(\"\\n--- Features by Absolute Magnitude (Most Influential) ---\")\n",
    "# Create a DataFrame to sort by absolute coefficient magnitude\n",
    "coef_df = pd.DataFrame({'Feature': feature_names, 'Coefficient': coefficients})\n",
    "coef_df['Abs_Coefficient'] = coef_df['Coefficient'].abs()\n",
    "sorted_coef_df = coef_df.sort_values(by='Abs_Coefficient', ascending=False)\n",
    "print(sorted_coef_df)"
   ]
  },
  {
   "cell_type": "markdown",
   "id": "76c1ff41",
   "metadata": {},
   "source": [
    "1. free_tier                  0.485303 (#1)\n",
    "1. automatic_relist           0.187453 (#2)\n",
    "1. buying_mode_buy_it_now     0.099804 (#3)\n",
    "1. accepts_mercadopago        0.092842\n",
    "1. buying_mode_classified     0.092842 (#4)\n",
    "1. initial_quantity_scaled    0.071924\n",
    "1. status_paused              0.067348\n",
    "1. is_USD                     0.025116\n",
    "1. status_not_yet_active      0.003110\n",
    "1. price_scaled               0.000968"
   ]
  },
  {
   "cell_type": "markdown",
   "id": "37585e54",
   "metadata": {},
   "source": [
    "## Analysis"
   ]
  },
  {
   "cell_type": "markdown",
   "id": "2a40433e",
   "metadata": {},
   "source": [
    "1. Model had similar results as before.\n",
    "1. Notice how the coefficients of the remaining features have slightly changed.\n",
    "1. Now we moved to the other end, instead of FN we have FP.\n",
    "\n",
    "**Conclusions:**\n",
    "\n",
    "* Even when it's not impacting in model performance, we can see that applying L2 reg is penalizing even more `accepts_mercadopago`. However, this was detected to be more correlated with target that other features."
   ]
  },
  {
   "cell_type": "markdown",
   "id": "704c2911",
   "metadata": {},
   "source": [
    "---\n",
    "# 7º iteration - Synthetic features"
   ]
  },
  {
   "cell_type": "code",
   "execution_count": 3,
   "id": "87cd57f9",
   "metadata": {},
   "outputs": [],
   "source": [
    "index = len(history) # used for logging\n",
    "history.loc[index] = None # Creates an empty row"
   ]
  },
  {
   "cell_type": "code",
   "execution_count": 4,
   "id": "425e205e",
   "metadata": {},
   "outputs": [
    {
     "name": "stdout",
     "output_type": "stream",
     "text": [
      "Importing data from 'new_or_used.py'…\n",
      "Starting preprocessing…\n",
      "Succesfully finished.\n",
      "\n"
     ]
    }
   ],
   "source": [
    "X_train, y_train, X_test, y_test = load_processed_data()"
   ]
  },
  {
   "cell_type": "code",
   "execution_count": 5,
   "id": "a325eaf6",
   "metadata": {},
   "outputs": [
    {
     "data": {
      "text/plain": [
       "Index(['accepts_mercadopago', 'automatic_relist', 'price_scaled', 'is_USD',\n",
       "       'free_tier', 'buying_mode_buy_it_now', 'buying_mode_classified',\n",
       "       'is_weekend', 'is_working_hours', 'has_parent_item', 'has_store',\n",
       "       'high_ticket', 'quant_single_unit', 'quant_small'],\n",
       "      dtype='object')"
      ]
     },
     "execution_count": 5,
     "metadata": {},
     "output_type": "execute_result"
    }
   ],
   "source": [
    "X_train.columns"
   ]
  },
  {
   "cell_type": "code",
   "execution_count": 6,
   "id": "ddfb3c9f",
   "metadata": {},
   "outputs": [],
   "source": [
    "y_train_lbl = y_train.map(classes)\n",
    "y_test_lbl = y_test.map(classes)"
   ]
  },
  {
   "cell_type": "markdown",
   "id": "ea0c52dc",
   "metadata": {},
   "source": [
    "### Dataset info"
   ]
  },
  {
   "cell_type": "code",
   "execution_count": 7,
   "id": "8154822d",
   "metadata": {},
   "outputs": [
    {
     "name": "stdout",
     "output_type": "stream",
     "text": [
      "Split sizes: 89109 train, 9905 test\n"
     ]
    }
   ],
   "source": [
    "size = {'train':len(X_train),'test':len(X_test)}\n",
    "print(\"Split sizes: {} train, {} test\".format(size['train'], size['test']))"
   ]
  },
  {
   "cell_type": "code",
   "execution_count": 8,
   "id": "4cefbcd6",
   "metadata": {},
   "outputs": [],
   "source": [
    "features = {'train': {'feat': None, 'target': None},\n",
    "            'test': {'feat': None, 'target': None}}"
   ]
  },
  {
   "cell_type": "markdown",
   "id": "108c32a4",
   "metadata": {},
   "source": [
    "#### Train split"
   ]
  },
  {
   "cell_type": "code",
   "execution_count": 9,
   "id": "b0c443b5",
   "metadata": {},
   "outputs": [
    {
     "name": "stdout",
     "output_type": "stream",
     "text": [
      "<class 'pandas.core.frame.DataFrame'>\n",
      "RangeIndex: 89109 entries, 0 to 89108\n",
      "Data columns (total 14 columns):\n",
      " #   Column                  Non-Null Count  Dtype  \n",
      "---  ------                  --------------  -----  \n",
      " 0   accepts_mercadopago     89109 non-null  uint8  \n",
      " 1   automatic_relist        89109 non-null  uint8  \n",
      " 2   price_scaled            89109 non-null  float64\n",
      " 3   is_USD                  89109 non-null  uint8  \n",
      " 4   free_tier               89109 non-null  bool   \n",
      " 5   buying_mode_buy_it_now  89109 non-null  float64\n",
      " 6   buying_mode_classified  89109 non-null  float64\n",
      " 7   is_weekend              89109 non-null  int64  \n",
      " 8   is_working_hours        89109 non-null  int64  \n",
      " 9   has_parent_item         89109 non-null  bool   \n",
      " 10  has_store               89109 non-null  bool   \n",
      " 11  high_ticket             89109 non-null  bool   \n",
      " 12  quant_single_unit       89109 non-null  bool   \n",
      " 13  quant_small             89109 non-null  bool   \n",
      "dtypes: bool(6), float64(3), int64(2), uint8(3)\n",
      "memory usage: 4.2 MB\n"
     ]
    }
   ],
   "source": [
    "X_train.info()"
   ]
  },
  {
   "cell_type": "code",
   "execution_count": 10,
   "id": "7a0027fd",
   "metadata": {},
   "outputs": [
    {
     "data": {
      "text/plain": [
       "new     47859\n",
       "used    41250\n",
       "Name: count, dtype: int64"
      ]
     },
     "execution_count": 10,
     "metadata": {},
     "output_type": "execute_result"
    }
   ],
   "source": [
    "y_train_lbl.value_counts()"
   ]
  },
  {
   "cell_type": "markdown",
   "id": "88feddce",
   "metadata": {},
   "source": [
    "#### Test split"
   ]
  },
  {
   "cell_type": "code",
   "execution_count": 11,
   "id": "1014e65c",
   "metadata": {},
   "outputs": [
    {
     "name": "stdout",
     "output_type": "stream",
     "text": [
      "<class 'pandas.core.frame.DataFrame'>\n",
      "RangeIndex: 9905 entries, 0 to 9904\n",
      "Data columns (total 14 columns):\n",
      " #   Column                  Non-Null Count  Dtype  \n",
      "---  ------                  --------------  -----  \n",
      " 0   accepts_mercadopago     9905 non-null   uint8  \n",
      " 1   automatic_relist        9905 non-null   uint8  \n",
      " 2   price_scaled            9905 non-null   float64\n",
      " 3   is_USD                  9905 non-null   uint8  \n",
      " 4   free_tier               9905 non-null   bool   \n",
      " 5   buying_mode_buy_it_now  9905 non-null   float64\n",
      " 6   buying_mode_classified  9905 non-null   float64\n",
      " 7   is_weekend              9905 non-null   int64  \n",
      " 8   is_working_hours        9905 non-null   int64  \n",
      " 9   has_parent_item         9905 non-null   bool   \n",
      " 10  has_store               9905 non-null   bool   \n",
      " 11  high_ticket             9905 non-null   bool   \n",
      " 12  quant_single_unit       9905 non-null   bool   \n",
      " 13  quant_small             9905 non-null   bool   \n",
      "dtypes: bool(6), float64(3), int64(2), uint8(3)\n",
      "memory usage: 474.1 KB\n"
     ]
    }
   ],
   "source": [
    "X_test.info()"
   ]
  },
  {
   "cell_type": "code",
   "execution_count": 12,
   "id": "b7d059d4",
   "metadata": {},
   "outputs": [
    {
     "data": {
      "text/plain": [
       "new     5349\n",
       "used    4556\n",
       "Name: count, dtype: int64"
      ]
     },
     "execution_count": 12,
     "metadata": {},
     "output_type": "execute_result"
    }
   ],
   "source": [
    "y_test_lbl.value_counts()"
   ]
  },
  {
   "cell_type": "markdown",
   "id": "d178f65a",
   "metadata": {},
   "source": [
    "#### Logging"
   ]
  },
  {
   "cell_type": "code",
   "execution_count": 13,
   "id": "926727da",
   "metadata": {},
   "outputs": [],
   "source": [
    "# Keep tracking of every feature\n",
    "history.at[index, 'items'] = size\n",
    "features['train']['feat'] = X_train.columns.to_list()\n",
    "features['test']['feat'] = X_test.columns.to_list()\n",
    "features['train']['target'] = y_train_lbl.value_counts().to_dict()\n",
    "features['test']['target'] = y_test_lbl.value_counts().to_dict()\n",
    "history.at[index, 'features'] = features"
   ]
  },
  {
   "cell_type": "code",
   "execution_count": 14,
   "id": "ef081233",
   "metadata": {},
   "outputs": [
    {
     "data": {
      "text/html": [
       "<div>\n",
       "<style scoped>\n",
       "    .dataframe tbody tr th:only-of-type {\n",
       "        vertical-align: middle;\n",
       "    }\n",
       "\n",
       "    .dataframe tbody tr th {\n",
       "        vertical-align: top;\n",
       "    }\n",
       "\n",
       "    .dataframe thead th {\n",
       "        text-align: right;\n",
       "    }\n",
       "</style>\n",
       "<table border=\"1\" class=\"dataframe\">\n",
       "  <thead>\n",
       "    <tr style=\"text-align: right;\">\n",
       "      <th></th>\n",
       "      <th>features</th>\n",
       "      <th>model</th>\n",
       "      <th>items</th>\n",
       "      <th>cm</th>\n",
       "      <th>metrics</th>\n",
       "      <th>roc_auc</th>\n",
       "    </tr>\n",
       "    <tr>\n",
       "      <th>training</th>\n",
       "      <th></th>\n",
       "      <th></th>\n",
       "      <th></th>\n",
       "      <th></th>\n",
       "      <th></th>\n",
       "      <th></th>\n",
       "    </tr>\n",
       "  </thead>\n",
       "  <tbody>\n",
       "    <tr>\n",
       "      <th>0</th>\n",
       "      <td>{'train': {'feat': ['accepts_mercadopago', 'au...</td>\n",
       "      <td>LogisticRegression</td>\n",
       "      <td>{'train': 89109, 'test': 9905}</td>\n",
       "      <td>[[0.9590577678070668, 0.04094223219293326], [0...</td>\n",
       "      <td>{'new': {'precision': 0.6804615996816554, 'rec...</td>\n",
       "      <td>0.715152</td>\n",
       "    </tr>\n",
       "    <tr>\n",
       "      <th>1</th>\n",
       "      <td>{'train': {'feat': ['accepts_mercadopago', 'au...</td>\n",
       "      <td>LogisticRegression</td>\n",
       "      <td>{'train': 89109, 'test': 9905}</td>\n",
       "      <td>[[0.9584969153112731, 0.04150308468872686], [0...</td>\n",
       "      <td>{'new': {'precision': 0.680605336519315, 'reca...</td>\n",
       "      <td>0.715201</td>\n",
       "    </tr>\n",
       "    <tr>\n",
       "      <th>2</th>\n",
       "      <td>{'train': {'feat': ['accepts_mercadopago', 'au...</td>\n",
       "      <td>LogisticRegression</td>\n",
       "      <td>{'train': 89109, 'test': 9905}</td>\n",
       "      <td>[[0.9584969153112731, 0.04150308468872686], [0...</td>\n",
       "      <td>{'new': {'precision': 0.680605336519315, 'reca...</td>\n",
       "      <td>0.715201</td>\n",
       "    </tr>\n",
       "    <tr>\n",
       "      <th>3</th>\n",
       "      <td>{'train': {'feat': ['accepts_mercadopago', 'au...</td>\n",
       "      <td>LogisticRegression</td>\n",
       "      <td>{'train': 89109, 'test': 9905}</td>\n",
       "      <td>[[0.9584969153112731, 0.04150308468872686], [0...</td>\n",
       "      <td>{'new': {'precision': 0.680605336519315, 'reca...</td>\n",
       "      <td>0.715201</td>\n",
       "    </tr>\n",
       "    <tr>\n",
       "      <th>4</th>\n",
       "      <td>{'train': {'feat': ['accepts_mercadopago', 'au...</td>\n",
       "      <td>LogisticRegression</td>\n",
       "      <td>{'train': 89109, 'test': 9905}</td>\n",
       "      <td>[[0.9584969153112731, 0.04150308468872686], [0...</td>\n",
       "      <td>{'new': {'precision': 0.680605336519315, 'reca...</td>\n",
       "      <td>0.715201</td>\n",
       "    </tr>\n",
       "    <tr>\n",
       "      <th>5</th>\n",
       "      <td>{'train': {'feat': ['accepts_mercadopago', 'au...</td>\n",
       "      <td>LogisticRegression</td>\n",
       "      <td>{'train': 89109, 'test': 9905}</td>\n",
       "      <td>[[0.5427182650962796, 0.4572817349037203], [0....</td>\n",
       "      <td>{'new': {'precision': 0.9647723496178132, 'rec...</td>\n",
       "      <td>0.759726</td>\n",
       "    </tr>\n",
       "    <tr>\n",
       "      <th>6</th>\n",
       "      <td>{'train': {'feat': ['accepts_mercadopago', 'au...</td>\n",
       "      <td>LogisticRegression</td>\n",
       "      <td>{'train': 89109, 'test': 9905}</td>\n",
       "      <td>[[0.5427182650962796, 0.4572817349037203], [0....</td>\n",
       "      <td>{'new': {'precision': 0.9647723496178132, 'rec...</td>\n",
       "      <td>0.759726</td>\n",
       "    </tr>\n",
       "    <tr>\n",
       "      <th>7</th>\n",
       "      <td>{'train': {'feat': ['accepts_mercadopago', 'au...</td>\n",
       "      <td>NaN</td>\n",
       "      <td>{'train': 89109, 'test': 9905}</td>\n",
       "      <td>NaN</td>\n",
       "      <td>NaN</td>\n",
       "      <td>NaN</td>\n",
       "    </tr>\n",
       "  </tbody>\n",
       "</table>\n",
       "</div>"
      ],
      "text/plain": [
       "                                                   features  \\\n",
       "training                                                      \n",
       "0         {'train': {'feat': ['accepts_mercadopago', 'au...   \n",
       "1         {'train': {'feat': ['accepts_mercadopago', 'au...   \n",
       "2         {'train': {'feat': ['accepts_mercadopago', 'au...   \n",
       "3         {'train': {'feat': ['accepts_mercadopago', 'au...   \n",
       "4         {'train': {'feat': ['accepts_mercadopago', 'au...   \n",
       "5         {'train': {'feat': ['accepts_mercadopago', 'au...   \n",
       "6         {'train': {'feat': ['accepts_mercadopago', 'au...   \n",
       "7         {'train': {'feat': ['accepts_mercadopago', 'au...   \n",
       "\n",
       "                       model                           items  \\\n",
       "training                                                       \n",
       "0         LogisticRegression  {'train': 89109, 'test': 9905}   \n",
       "1         LogisticRegression  {'train': 89109, 'test': 9905}   \n",
       "2         LogisticRegression  {'train': 89109, 'test': 9905}   \n",
       "3         LogisticRegression  {'train': 89109, 'test': 9905}   \n",
       "4         LogisticRegression  {'train': 89109, 'test': 9905}   \n",
       "5         LogisticRegression  {'train': 89109, 'test': 9905}   \n",
       "6         LogisticRegression  {'train': 89109, 'test': 9905}   \n",
       "7                        NaN  {'train': 89109, 'test': 9905}   \n",
       "\n",
       "                                                         cm  \\\n",
       "training                                                      \n",
       "0         [[0.9590577678070668, 0.04094223219293326], [0...   \n",
       "1         [[0.9584969153112731, 0.04150308468872686], [0...   \n",
       "2         [[0.9584969153112731, 0.04150308468872686], [0...   \n",
       "3         [[0.9584969153112731, 0.04150308468872686], [0...   \n",
       "4         [[0.9584969153112731, 0.04150308468872686], [0...   \n",
       "5         [[0.5427182650962796, 0.4572817349037203], [0....   \n",
       "6         [[0.5427182650962796, 0.4572817349037203], [0....   \n",
       "7                                                       NaN   \n",
       "\n",
       "                                                    metrics   roc_auc  \n",
       "training                                                               \n",
       "0         {'new': {'precision': 0.6804615996816554, 'rec...  0.715152  \n",
       "1         {'new': {'precision': 0.680605336519315, 'reca...  0.715201  \n",
       "2         {'new': {'precision': 0.680605336519315, 'reca...  0.715201  \n",
       "3         {'new': {'precision': 0.680605336519315, 'reca...  0.715201  \n",
       "4         {'new': {'precision': 0.680605336519315, 'reca...  0.715201  \n",
       "5         {'new': {'precision': 0.9647723496178132, 'rec...  0.759726  \n",
       "6         {'new': {'precision': 0.9647723496178132, 'rec...  0.759726  \n",
       "7                                                       NaN       NaN  "
      ]
     },
     "execution_count": 14,
     "metadata": {},
     "output_type": "execute_result"
    }
   ],
   "source": [
    "history"
   ]
  },
  {
   "cell_type": "markdown",
   "id": "c7419470",
   "metadata": {},
   "source": [
    "## Model training"
   ]
  },
  {
   "cell_type": "code",
   "execution_count": 15,
   "id": "95dd6de6",
   "metadata": {},
   "outputs": [],
   "source": [
    "# Initialize the Logistic Regression model\n",
    "#model = LogisticRegression(class_weight='balanced', random_state=42)\n",
    "model = LogisticRegression(class_weight='balanced', penalty='l2', C=0.1, solver='liblinear', random_state=42)\n",
    "history.at[index, 'model'] = model.__class__.__name__ # for logging"
   ]
  },
  {
   "cell_type": "code",
   "execution_count": 16,
   "id": "06d0e786",
   "metadata": {},
   "outputs": [
    {
     "name": "stdout",
     "output_type": "stream",
     "text": [
      "Training the Logistic Regression model...\n"
     ]
    },
    {
     "name": "stdout",
     "output_type": "stream",
     "text": [
      "Model training complete.\n"
     ]
    }
   ],
   "source": [
    "# Train the model using the scaled training data\n",
    "print(\"Training the Logistic Regression model...\")\n",
    "model.fit(X_train, y_train)\n",
    "print(\"Model training complete.\")"
   ]
  },
  {
   "cell_type": "markdown",
   "id": "3c9667db",
   "metadata": {},
   "source": [
    "## Model evaluation"
   ]
  },
  {
   "cell_type": "code",
   "execution_count": 17,
   "id": "74863a11",
   "metadata": {},
   "outputs": [],
   "source": [
    "# Predict on the scaled test data\n",
    "y_pred = model.predict(X_test)\n",
    "y_pred_lbl = pd.Series(y_pred).map(classes)\n",
    "\n",
    "# Getprediction probabilities (useful for ROC curves, etc.\n",
    "y_pred_proba = model.predict_proba(X_test) "
   ]
  },
  {
   "cell_type": "code",
   "execution_count": 18,
   "id": "aa93d773",
   "metadata": {},
   "outputs": [
    {
     "name": "stdout",
     "output_type": "stream",
     "text": [
      "Accuracy: 0.7990\n",
      "\n",
      "Classification Report:\n",
      "              precision    recall  f1-score   support\n",
      "\n",
      "         new      0.885     0.722     0.795      5349\n",
      "        used      0.731     0.890     0.803      4556\n",
      "\n",
      "    accuracy                          0.799      9905\n",
      "   macro avg      0.808     0.806     0.799      9905\n",
      "weighted avg      0.814     0.799     0.799      9905\n",
      "\n"
     ]
    }
   ],
   "source": [
    "# PERFORMANCE EVALUATION\n",
    "# Accuracy Score\n",
    "accuracy = accuracy_score(y_test, y_pred)\n",
    "print(f\"Accuracy: {accuracy:.4f}\")\n",
    "\n",
    "# Classification Report (provides Precision, Recall, F1-Score for each class)\n",
    "class_report = classification_report(y_test_lbl, y_pred_lbl,digits=3)\n",
    "print(\"\\nClassification Report:\")\n",
    "print(class_report)"
   ]
  },
  {
   "cell_type": "code",
   "execution_count": 20,
   "id": "9efd19c2",
   "metadata": {},
   "outputs": [
    {
     "data": {
      "text/plain": [
       "0.7950169875424689"
      ]
     },
     "execution_count": 20,
     "metadata": {},
     "output_type": "execute_result"
    }
   ],
   "source": [
    "f1_score(y_test, y_pred,average='binary')"
   ]
  },
  {
   "cell_type": "code",
   "execution_count": 21,
   "id": "14e71fab",
   "metadata": {},
   "outputs": [
    {
     "data": {
      "image/png": "[encoded data removed]",
      "text/plain": [
       "<Figure size 800x600 with 2 Axes>"
      ]
     },
     "metadata": {},
     "output_type": "display_data"
    }
   ],
   "source": [
    "import matplotlib.pyplot as plt\n",
    "import seaborn as sns\n",
    "\n",
    "# Calculate the confusion matrix\n",
    "conf_matrix = confusion_matrix(y_test_lbl, y_pred_lbl)\n",
    "\n",
    "# Plot the confusion matrix\n",
    "plt.figure(figsize=(8, 6))\n",
    "sns.heatmap(conf_matrix, annot=True, fmt='d', cmap='Blues',\n",
    "            xticklabels=['Predicted New', 'Predicted Used'],\n",
    "            yticklabels=['Actual New', 'Actual Used'])\n",
    "plt.xlabel('Predicted Label')\n",
    "plt.ylabel('True Label')\n",
    "plt.title('Confusion Matrix')\n",
    "plt.tight_layout()\n",
    "if save_graph: plt.savefig('confusion_matrix.png')"
   ]
  },
  {
   "cell_type": "code",
   "execution_count": 22,
   "id": "72528215",
   "metadata": {},
   "outputs": [
    {
     "data": {
      "image/png": "[encoded data removed]",
      "text/plain": [
       "<Figure size 800x600 with 1 Axes>"
      ]
     },
     "metadata": {},
     "output_type": "display_data"
    }
   ],
   "source": [
    "import matplotlib.pyplot as plt\n",
    "from sklearn.metrics import roc_curve, auc\n",
    "\n",
    "# Extract the probabilities of the positive class (second column)\n",
    "#y_pred_proba_positive = y_pred_proba[:, 1]\n",
    "\n",
    "# Calculate ROC curve and AUC\n",
    "fpr, tpr, thresholds = roc_curve(y_test, y_pred)\n",
    "roc_auc = auc(fpr, tpr)\n",
    "\n",
    "# Plot the ROC curve\n",
    "plt.figure(figsize=(8, 6))\n",
    "plt.plot(fpr, tpr, color='darkorange', lw=2, label=f'ROC curve (area = {roc_auc:.2f})')\n",
    "plt.plot([0, 1], [0, 1], color='navy', lw=2, linestyle='--', label='Random Classifier')\n",
    "plt.xlim([0.0, 1.0])\n",
    "plt.ylim([0.0, 1.05])\n",
    "plt.xlabel('False Positive Rate')\n",
    "plt.ylabel('True Positive Rate')\n",
    "plt.title('Receiver Operating Characteristic (ROC) Curve')\n",
    "plt.legend(loc='lower right')\n",
    "plt.grid(True)\n",
    "plt.tight_layout()\n",
    "if save_graph: plt.savefig('roc_auc_curve.png')"
   ]
  },
  {
   "cell_type": "markdown",
   "id": "b79280d0",
   "metadata": {},
   "source": [
    "#### Logging"
   ]
  },
  {
   "cell_type": "code",
   "execution_count": 23,
   "id": "424d971f",
   "metadata": {},
   "outputs": [],
   "source": [
    "# Keep tracking of every metric\n",
    "history.at[index, 'cm'] = confusion_matrix(y_test_lbl, y_pred_lbl,normalize='true').tolist()\n",
    "history.at[index, 'metrics'] = classification_report(y_test_lbl, y_pred_lbl,output_dict=True)\n",
    "history.at[index, 'roc_auc'] = auc(fpr, tpr)\n",
    "history.to_csv('./data/train_logs.csv') # Save logging file locally"
   ]
  },
  {
   "cell_type": "code",
   "execution_count": 24,
   "id": "08c0cd40",
   "metadata": {},
   "outputs": [
    {
     "data": {
      "text/plain": [
       "features    {'train': {'feat': ['accepts_mercadopago', 'au...\n",
       "model                                      LogisticRegression\n",
       "items                          {'train': 89109, 'test': 9905}\n",
       "cm          [[0.7218171620863713, 0.2781828379136287], [0....\n",
       "metrics     {'new': {'precision': 0.8847387717690193, 'rec...\n",
       "roc_auc                                              0.805707\n",
       "Name: 7, dtype: object"
      ]
     },
     "execution_count": 24,
     "metadata": {},
     "output_type": "execute_result"
    }
   ],
   "source": [
    "history.iloc[index]"
   ]
  },
  {
   "cell_type": "markdown",
   "id": "72e13c36",
   "metadata": {},
   "source": [
    "### Coefficients Importance"
   ]
  },
  {
   "cell_type": "code",
   "execution_count": 25,
   "id": "f94b8c5e",
   "metadata": {},
   "outputs": [],
   "source": [
    "feature_names = X_train.columns"
   ]
  },
  {
   "cell_type": "code",
   "execution_count": 26,
   "id": "a29c5534",
   "metadata": {},
   "outputs": [
    {
     "name": "stdout",
     "output_type": "stream",
     "text": [
      "Model Intercept: 1.5785301610053846\n",
      "\n",
      "Coefficients for each feature:\n",
      "accepts_mercadopago: 1.9132\n",
      "automatic_relist: 1.3988\n",
      "price_scaled: -0.0103\n",
      "is_USD: 0.6663\n",
      "free_tier: -3.1383\n",
      "buying_mode_buy_it_now: 0.2128\n",
      "buying_mode_classified: -0.3346\n",
      "is_weekend: -0.1175\n",
      "is_working_hours: 0.1724\n",
      "has_parent_item: -0.7608\n",
      "has_store: 0.0393\n",
      "high_ticket: 1.0599\n",
      "quant_single_unit: -3.5038\n",
      "quant_small: -0.7997\n",
      "\n",
      "--- Features by Absolute Magnitude (Most Influential) ---\n",
      "                   Feature  Coefficient  Abs_Coefficient\n",
      "12       quant_single_unit    -3.503841         3.503841\n",
      "4                free_tier    -3.138295         3.138295\n",
      "0      accepts_mercadopago     1.913174         1.913174\n",
      "1         automatic_relist     1.398815         1.398815\n",
      "11             high_ticket     1.059936         1.059936\n",
      "13             quant_small    -0.799689         0.799689\n",
      "9          has_parent_item    -0.760776         0.760776\n",
      "3                   is_USD     0.666286         0.666286\n",
      "6   buying_mode_classified    -0.334643         0.334643\n",
      "5   buying_mode_buy_it_now     0.212809         0.212809\n",
      "8         is_working_hours     0.172445         0.172445\n",
      "7               is_weekend    -0.117453         0.117453\n",
      "10               has_store     0.039274         0.039274\n",
      "2             price_scaled    -0.010299         0.010299\n"
     ]
    }
   ],
   "source": [
    "# Let's access the coefficients to verify what feature is more influential\n",
    "coefficients = model.coef_[0]\n",
    "intercept = model.intercept_[0] \n",
    "\n",
    "print(\"Model Intercept:\", intercept)\n",
    "print(\"\\nCoefficients for each feature:\")\n",
    "for feature, coef in zip(feature_names, coefficients):\n",
    "    print(f\"{feature}: {coef:.4f}\")\n",
    "\n",
    "print(\"\\n--- Features by Absolute Magnitude (Most Influential) ---\")\n",
    "# Create a DataFrame to sort by absolute coefficient magnitude\n",
    "coef_df = pd.DataFrame({'Feature': feature_names, 'Coefficient': coefficients})\n",
    "coef_df['Abs_Coefficient'] = coef_df['Coefficient'].abs()\n",
    "sorted_coef_df = coef_df.sort_values(by='Abs_Coefficient', ascending=False)\n",
    "print(sorted_coef_df)"
   ]
  },
  {
   "cell_type": "markdown",
   "id": "0b9e21f2",
   "metadata": {},
   "source": [
    "1. free_tier                  0.485303 (#1)\n",
    "1. automatic_relist           0.187453 (#2)\n",
    "1. buying_mode_buy_it_now     0.099804 (#3)\n",
    "1. accepts_mercadopago        0.092842\n",
    "1. buying_mode_classified     0.092842 (#4)\n",
    "1. initial_quantity_scaled    0.071924\n",
    "1. status_paused              0.067348\n",
    "1. is_USD                     0.025116\n",
    "1. status_not_yet_active      0.003110\n",
    "1. price_scaled               0.000968"
   ]
  },
  {
   "cell_type": "markdown",
   "id": "38110308",
   "metadata": {},
   "source": [
    "## Analysis"
   ]
  },
  {
   "cell_type": "markdown",
   "id": "248ca206",
   "metadata": {},
   "source": [
    "1. Model performance has improved significantly.\n",
    "1. Now `accepts_mercadopago` gets relevant as expected.\n",
    "1. `price_scaled`remains without much contribution.\n",
    "\n",
    "**Conclusions:**\n",
    "* Now that price data is contained as categorical, `price_scaled` could be removed."
   ]
  },
  {
   "cell_type": "markdown",
   "id": "af63973a",
   "metadata": {},
   "source": [
    "---\n",
    "# 8º iteration - Random Forest"
   ]
  },
  {
   "cell_type": "code",
   "execution_count": 3,
   "id": "9d91d39d",
   "metadata": {},
   "outputs": [],
   "source": [
    "index = len(history) # used for logging\n",
    "history.loc[index] = None # Creates an empty row"
   ]
  },
  {
   "cell_type": "code",
   "execution_count": 4,
   "id": "1af4b233",
   "metadata": {},
   "outputs": [
    {
     "name": "stdout",
     "output_type": "stream",
     "text": [
      "Importing data from 'new_or_used.py'…\n",
      "Starting preprocessing…\n",
      "Succesfully finished.\n",
      "\n"
     ]
    }
   ],
   "source": [
    "X_train, y_train, X_test, y_test = load_processed_data()"
   ]
  },
  {
   "cell_type": "code",
   "execution_count": 5,
   "id": "256cfa83",
   "metadata": {},
   "outputs": [
    {
     "data": {
      "text/plain": [
       "Index(['accepts_mercadopago', 'automatic_relist', 'price_scaled', 'is_USD',\n",
       "       'free_tier', 'buying_mode_buy_it_now', 'buying_mode_classified',\n",
       "       'is_weekend', 'is_working_hours', 'has_parent_item', 'has_store',\n",
       "       'high_ticket', 'quant_single_unit', 'quant_small'],\n",
       "      dtype='object')"
      ]
     },
     "execution_count": 5,
     "metadata": {},
     "output_type": "execute_result"
    }
   ],
   "source": [
    "X_train.columns"
   ]
  },
  {
   "cell_type": "code",
   "execution_count": 6,
   "id": "800e1e95",
   "metadata": {},
   "outputs": [],
   "source": [
    "y_train_lbl = y_train.map(classes)\n",
    "y_test_lbl = y_test.map(classes)"
   ]
  },
  {
   "cell_type": "markdown",
   "id": "ba17d239",
   "metadata": {},
   "source": [
    "### Dataset info"
   ]
  },
  {
   "cell_type": "code",
   "execution_count": 7,
   "id": "5a16022a",
   "metadata": {},
   "outputs": [
    {
     "name": "stdout",
     "output_type": "stream",
     "text": [
      "Split sizes: 89109 train, 9905 test\n"
     ]
    }
   ],
   "source": [
    "size = {'train':len(X_train),'test':len(X_test)}\n",
    "print(\"Split sizes: {} train, {} test\".format(size['train'], size['test']))"
   ]
  },
  {
   "cell_type": "code",
   "execution_count": 8,
   "id": "fc394cd1",
   "metadata": {},
   "outputs": [],
   "source": [
    "features = {'train': {'feat': None, 'target': None},\n",
    "            'test': {'feat': None, 'target': None}}"
   ]
  },
  {
   "cell_type": "markdown",
   "id": "38fe136a",
   "metadata": {},
   "source": [
    "#### Train split"
   ]
  },
  {
   "cell_type": "code",
   "execution_count": 9,
   "id": "48c05b52",
   "metadata": {},
   "outputs": [
    {
     "name": "stdout",
     "output_type": "stream",
     "text": [
      "<class 'pandas.core.frame.DataFrame'>\n",
      "RangeIndex: 89109 entries, 0 to 89108\n",
      "Data columns (total 14 columns):\n",
      " #   Column                  Non-Null Count  Dtype  \n",
      "---  ------                  --------------  -----  \n",
      " 0   accepts_mercadopago     89109 non-null  uint8  \n",
      " 1   automatic_relist        89109 non-null  uint8  \n",
      " 2   price_scaled            89109 non-null  float64\n",
      " 3   is_USD                  89109 non-null  uint8  \n",
      " 4   free_tier               89109 non-null  bool   \n",
      " 5   buying_mode_buy_it_now  89109 non-null  float64\n",
      " 6   buying_mode_classified  89109 non-null  float64\n",
      " 7   is_weekend              89109 non-null  int64  \n",
      " 8   is_working_hours        89109 non-null  int64  \n",
      " 9   has_parent_item         89109 non-null  bool   \n",
      " 10  has_store               89109 non-null  bool   \n",
      " 11  high_ticket             89109 non-null  bool   \n",
      " 12  quant_single_unit       89109 non-null  bool   \n",
      " 13  quant_small             89109 non-null  bool   \n",
      "dtypes: bool(6), float64(3), int64(2), uint8(3)\n",
      "memory usage: 4.2 MB\n"
     ]
    }
   ],
   "source": [
    "X_train.info()"
   ]
  },
  {
   "cell_type": "code",
   "execution_count": 10,
   "id": "14ad448d",
   "metadata": {},
   "outputs": [
    {
     "data": {
      "text/plain": [
       "new     47859\n",
       "used    41250\n",
       "Name: count, dtype: int64"
      ]
     },
     "execution_count": 10,
     "metadata": {},
     "output_type": "execute_result"
    }
   ],
   "source": [
    "y_train_lbl.value_counts()"
   ]
  },
  {
   "cell_type": "markdown",
   "id": "0c417840",
   "metadata": {},
   "source": [
    "#### Test split"
   ]
  },
  {
   "cell_type": "code",
   "execution_count": 11,
   "id": "282d74aa",
   "metadata": {},
   "outputs": [
    {
     "name": "stdout",
     "output_type": "stream",
     "text": [
      "<class 'pandas.core.frame.DataFrame'>\n",
      "RangeIndex: 9905 entries, 0 to 9904\n",
      "Data columns (total 14 columns):\n",
      " #   Column                  Non-Null Count  Dtype  \n",
      "---  ------                  --------------  -----  \n",
      " 0   accepts_mercadopago     9905 non-null   uint8  \n",
      " 1   automatic_relist        9905 non-null   uint8  \n",
      " 2   price_scaled            9905 non-null   float64\n",
      " 3   is_USD                  9905 non-null   uint8  \n",
      " 4   free_tier               9905 non-null   bool   \n",
      " 5   buying_mode_buy_it_now  9905 non-null   float64\n",
      " 6   buying_mode_classified  9905 non-null   float64\n",
      " 7   is_weekend              9905 non-null   int64  \n",
      " 8   is_working_hours        9905 non-null   int64  \n",
      " 9   has_parent_item         9905 non-null   bool   \n",
      " 10  has_store               9905 non-null   bool   \n",
      " 11  high_ticket             9905 non-null   bool   \n",
      " 12  quant_single_unit       9905 non-null   bool   \n",
      " 13  quant_small             9905 non-null   bool   \n",
      "dtypes: bool(6), float64(3), int64(2), uint8(3)\n",
      "memory usage: 474.1 KB\n"
     ]
    }
   ],
   "source": [
    "X_test.info()"
   ]
  },
  {
   "cell_type": "code",
   "execution_count": 12,
   "id": "0877b0f9",
   "metadata": {},
   "outputs": [
    {
     "data": {
      "text/plain": [
       "new     5349\n",
       "used    4556\n",
       "Name: count, dtype: int64"
      ]
     },
     "execution_count": 12,
     "metadata": {},
     "output_type": "execute_result"
    }
   ],
   "source": [
    "y_test_lbl.value_counts()"
   ]
  },
  {
   "cell_type": "markdown",
   "id": "815eceb7",
   "metadata": {},
   "source": [
    "#### Logging"
   ]
  },
  {
   "cell_type": "code",
   "execution_count": 13,
   "id": "8eb40123",
   "metadata": {},
   "outputs": [],
   "source": [
    "# Keep tracking of every feature\n",
    "history.at[index, 'items'] = size\n",
    "features['train']['feat'] = X_train.columns.to_list()\n",
    "features['test']['feat'] = X_test.columns.to_list()\n",
    "features['train']['target'] = y_train_lbl.value_counts().to_dict()\n",
    "features['test']['target'] = y_test_lbl.value_counts().to_dict()\n",
    "history.at[index, 'features'] = features"
   ]
  },
  {
   "cell_type": "code",
   "execution_count": 14,
   "id": "0c220dfa",
   "metadata": {},
   "outputs": [
    {
     "data": {
      "text/html": [
       "<div>\n",
       "<style scoped>\n",
       "    .dataframe tbody tr th:only-of-type {\n",
       "        vertical-align: middle;\n",
       "    }\n",
       "\n",
       "    .dataframe tbody tr th {\n",
       "        vertical-align: top;\n",
       "    }\n",
       "\n",
       "    .dataframe thead th {\n",
       "        text-align: right;\n",
       "    }\n",
       "</style>\n",
       "<table border=\"1\" class=\"dataframe\">\n",
       "  <thead>\n",
       "    <tr style=\"text-align: right;\">\n",
       "      <th></th>\n",
       "      <th>features</th>\n",
       "      <th>model</th>\n",
       "      <th>items</th>\n",
       "      <th>cm</th>\n",
       "      <th>metrics</th>\n",
       "      <th>roc_auc</th>\n",
       "    </tr>\n",
       "    <tr>\n",
       "      <th>training</th>\n",
       "      <th></th>\n",
       "      <th></th>\n",
       "      <th></th>\n",
       "      <th></th>\n",
       "      <th></th>\n",
       "      <th></th>\n",
       "    </tr>\n",
       "  </thead>\n",
       "  <tbody>\n",
       "    <tr>\n",
       "      <th>0</th>\n",
       "      <td>{'train': {'feat': ['accepts_mercadopago', 'au...</td>\n",
       "      <td>LogisticRegression</td>\n",
       "      <td>{'train': 89109, 'test': 9905}</td>\n",
       "      <td>[[0.9590577678070668, 0.04094223219293326], [0...</td>\n",
       "      <td>{'new': {'precision': 0.6804615996816554, 'rec...</td>\n",
       "      <td>0.715152</td>\n",
       "    </tr>\n",
       "    <tr>\n",
       "      <th>1</th>\n",
       "      <td>{'train': {'feat': ['accepts_mercadopago', 'au...</td>\n",
       "      <td>LogisticRegression</td>\n",
       "      <td>{'train': 89109, 'test': 9905}</td>\n",
       "      <td>[[0.9584969153112731, 0.04150308468872686], [0...</td>\n",
       "      <td>{'new': {'precision': 0.680605336519315, 'reca...</td>\n",
       "      <td>0.715201</td>\n",
       "    </tr>\n",
       "    <tr>\n",
       "      <th>2</th>\n",
       "      <td>{'train': {'feat': ['accepts_mercadopago', 'au...</td>\n",
       "      <td>LogisticRegression</td>\n",
       "      <td>{'train': 89109, 'test': 9905}</td>\n",
       "      <td>[[0.9584969153112731, 0.04150308468872686], [0...</td>\n",
       "      <td>{'new': {'precision': 0.680605336519315, 'reca...</td>\n",
       "      <td>0.715201</td>\n",
       "    </tr>\n",
       "    <tr>\n",
       "      <th>3</th>\n",
       "      <td>{'train': {'feat': ['accepts_mercadopago', 'au...</td>\n",
       "      <td>LogisticRegression</td>\n",
       "      <td>{'train': 89109, 'test': 9905}</td>\n",
       "      <td>[[0.9584969153112731, 0.04150308468872686], [0...</td>\n",
       "      <td>{'new': {'precision': 0.680605336519315, 'reca...</td>\n",
       "      <td>0.715201</td>\n",
       "    </tr>\n",
       "    <tr>\n",
       "      <th>4</th>\n",
       "      <td>{'train': {'feat': ['accepts_mercadopago', 'au...</td>\n",
       "      <td>LogisticRegression</td>\n",
       "      <td>{'train': 89109, 'test': 9905}</td>\n",
       "      <td>[[0.9584969153112731, 0.04150308468872686], [0...</td>\n",
       "      <td>{'new': {'precision': 0.680605336519315, 'reca...</td>\n",
       "      <td>0.715201</td>\n",
       "    </tr>\n",
       "    <tr>\n",
       "      <th>5</th>\n",
       "      <td>{'train': {'feat': ['accepts_mercadopago', 'au...</td>\n",
       "      <td>LogisticRegression</td>\n",
       "      <td>{'train': 89109, 'test': 9905}</td>\n",
       "      <td>[[0.5427182650962796, 0.4572817349037203], [0....</td>\n",
       "      <td>{'new': {'precision': 0.9647723496178132, 'rec...</td>\n",
       "      <td>0.759726</td>\n",
       "    </tr>\n",
       "    <tr>\n",
       "      <th>6</th>\n",
       "      <td>{'train': {'feat': ['accepts_mercadopago', 'au...</td>\n",
       "      <td>LogisticRegression</td>\n",
       "      <td>{'train': 89109, 'test': 9905}</td>\n",
       "      <td>[[0.7218171620863713, 0.2781828379136287], [0....</td>\n",
       "      <td>{'new': {'precision': 0.8847387717690193, 'rec...</td>\n",
       "      <td>0.805707</td>\n",
       "    </tr>\n",
       "    <tr>\n",
       "      <th>7</th>\n",
       "      <td>{'train': {'feat': ['accepts_mercadopago', 'au...</td>\n",
       "      <td>NaN</td>\n",
       "      <td>{'train': 89109, 'test': 9905}</td>\n",
       "      <td>NaN</td>\n",
       "      <td>NaN</td>\n",
       "      <td>NaN</td>\n",
       "    </tr>\n",
       "  </tbody>\n",
       "</table>\n",
       "</div>"
      ],
      "text/plain": [
       "                                                   features  \\\n",
       "training                                                      \n",
       "0         {'train': {'feat': ['accepts_mercadopago', 'au...   \n",
       "1         {'train': {'feat': ['accepts_mercadopago', 'au...   \n",
       "2         {'train': {'feat': ['accepts_mercadopago', 'au...   \n",
       "3         {'train': {'feat': ['accepts_mercadopago', 'au...   \n",
       "4         {'train': {'feat': ['accepts_mercadopago', 'au...   \n",
       "5         {'train': {'feat': ['accepts_mercadopago', 'au...   \n",
       "6         {'train': {'feat': ['accepts_mercadopago', 'au...   \n",
       "7         {'train': {'feat': ['accepts_mercadopago', 'au...   \n",
       "\n",
       "                       model                           items  \\\n",
       "training                                                       \n",
       "0         LogisticRegression  {'train': 89109, 'test': 9905}   \n",
       "1         LogisticRegression  {'train': 89109, 'test': 9905}   \n",
       "2         LogisticRegression  {'train': 89109, 'test': 9905}   \n",
       "3         LogisticRegression  {'train': 89109, 'test': 9905}   \n",
       "4         LogisticRegression  {'train': 89109, 'test': 9905}   \n",
       "5         LogisticRegression  {'train': 89109, 'test': 9905}   \n",
       "6         LogisticRegression  {'train': 89109, 'test': 9905}   \n",
       "7                        NaN  {'train': 89109, 'test': 9905}   \n",
       "\n",
       "                                                         cm  \\\n",
       "training                                                      \n",
       "0         [[0.9590577678070668, 0.04094223219293326], [0...   \n",
       "1         [[0.9584969153112731, 0.04150308468872686], [0...   \n",
       "2         [[0.9584969153112731, 0.04150308468872686], [0...   \n",
       "3         [[0.9584969153112731, 0.04150308468872686], [0...   \n",
       "4         [[0.9584969153112731, 0.04150308468872686], [0...   \n",
       "5         [[0.5427182650962796, 0.4572817349037203], [0....   \n",
       "6         [[0.7218171620863713, 0.2781828379136287], [0....   \n",
       "7                                                       NaN   \n",
       "\n",
       "                                                    metrics   roc_auc  \n",
       "training                                                               \n",
       "0         {'new': {'precision': 0.6804615996816554, 'rec...  0.715152  \n",
       "1         {'new': {'precision': 0.680605336519315, 'reca...  0.715201  \n",
       "2         {'new': {'precision': 0.680605336519315, 'reca...  0.715201  \n",
       "3         {'new': {'precision': 0.680605336519315, 'reca...  0.715201  \n",
       "4         {'new': {'precision': 0.680605336519315, 'reca...  0.715201  \n",
       "5         {'new': {'precision': 0.9647723496178132, 'rec...  0.759726  \n",
       "6         {'new': {'precision': 0.8847387717690193, 'rec...  0.805707  \n",
       "7                                                       NaN       NaN  "
      ]
     },
     "execution_count": 14,
     "metadata": {},
     "output_type": "execute_result"
    }
   ],
   "source": [
    "history"
   ]
  },
  {
   "cell_type": "markdown",
   "id": "14152187",
   "metadata": {},
   "source": [
    "## Model training"
   ]
  },
  {
   "cell_type": "code",
   "execution_count": 15,
   "id": "476677b9",
   "metadata": {},
   "outputs": [],
   "source": [
    "from sklearn.ensemble import RandomForestClassifier\n",
    "\n",
    "# Initialize the Logistic Regression model\n",
    "#model = LogisticRegression(class_weight='balanced', random_state=42)\n",
    "model = RandomForestClassifier(n_estimators=100, class_weight='balanced', random_state=42)\n",
    "history.at[index, 'model'] = model.__class__.__name__ # for logging"
   ]
  },
  {
   "cell_type": "code",
   "execution_count": 16,
   "id": "b8490216",
   "metadata": {},
   "outputs": [
    {
     "name": "stdout",
     "output_type": "stream",
     "text": [
      "Training the Logistic Regression model...\n",
      "Model training complete.\n"
     ]
    }
   ],
   "source": [
    "# Train the model using the scaled training data\n",
    "print(\"Training the Logistic Regression model...\")\n",
    "model.fit(X_train, y_train)\n",
    "print(\"Model training complete.\")"
   ]
  },
  {
   "cell_type": "markdown",
   "id": "25c57c4a",
   "metadata": {},
   "source": [
    "## Model evaluation"
   ]
  },
  {
   "cell_type": "code",
   "execution_count": 17,
   "id": "c4f50e6a",
   "metadata": {},
   "outputs": [],
   "source": [
    "# Predict on the scaled test data\n",
    "y_pred = model.predict(X_test)\n",
    "y_pred_lbl = pd.Series(y_pred).map(classes)\n",
    "\n",
    "# Getprediction probabilities (useful for ROC curves, etc.\n",
    "y_pred_proba = model.predict_proba(X_test) "
   ]
  },
  {
   "cell_type": "code",
   "execution_count": 18,
   "id": "602a5afb",
   "metadata": {},
   "outputs": [
    {
     "name": "stdout",
     "output_type": "stream",
     "text": [
      "Accuracy: 0.8219\n",
      "\n",
      "Classification Report:\n",
      "              precision    recall  f1-score   support\n",
      "\n",
      "         new      0.880     0.777     0.825      5349\n",
      "        used      0.769     0.875     0.819      4556\n",
      "\n",
      "    accuracy                          0.822      9905\n",
      "   macro avg      0.824     0.826     0.822      9905\n",
      "weighted avg      0.829     0.822     0.822      9905\n",
      "\n"
     ]
    }
   ],
   "source": [
    "# PERFORMANCE EVALUATION\n",
    "# Accuracy Score\n",
    "accuracy = accuracy_score(y_test, y_pred)\n",
    "print(f\"Accuracy: {accuracy:.4f}\")\n",
    "\n",
    "# Classification Report (provides Precision, Recall, F1-Score for each class)\n",
    "class_report = classification_report(y_test_lbl, y_pred_lbl,digits=3)\n",
    "print(\"\\nClassification Report:\")\n",
    "print(class_report)"
   ]
  },
  {
   "cell_type": "code",
   "execution_count": 19,
   "id": "0f0717f1",
   "metadata": {},
   "outputs": [
    {
     "data": {
      "text/plain": [
       "0.8248610007942812"
      ]
     },
     "execution_count": 19,
     "metadata": {},
     "output_type": "execute_result"
    }
   ],
   "source": [
    "f1_score(y_test, y_pred,average='binary')"
   ]
  },
  {
   "cell_type": "code",
   "execution_count": 20,
   "id": "d2cef382",
   "metadata": {},
   "outputs": [
    {
     "data": {
      "image/png": "[encoded data removed]",
      "text/plain": [
       "<Figure size 800x600 with 2 Axes>"
      ]
     },
     "metadata": {},
     "output_type": "display_data"
    }
   ],
   "source": [
    "import matplotlib.pyplot as plt\n",
    "import seaborn as sns\n",
    "\n",
    "# Calculate the confusion matrix\n",
    "conf_matrix = confusion_matrix(y_test_lbl, y_pred_lbl)\n",
    "\n",
    "# Plot the confusion matrix\n",
    "plt.figure(figsize=(8, 6))\n",
    "sns.heatmap(conf_matrix, annot=True, fmt='d', cmap='Blues',\n",
    "            xticklabels=['Predicted New', 'Predicted Used'],\n",
    "            yticklabels=['Actual New', 'Actual Used'])\n",
    "plt.xlabel('Predicted Label')\n",
    "plt.ylabel('True Label')\n",
    "plt.title('Confusion Matrix')\n",
    "plt.tight_layout()\n",
    "if save_graph: plt.savefig('confusion_matrix.png')"
   ]
  },
  {
   "cell_type": "code",
   "execution_count": 21,
   "id": "1ad9b37d",
   "metadata": {},
   "outputs": [
    {
     "data": {
      "image/png": "[encoded data removed]",
      "text/plain": [
       "<Figure size 800x600 with 1 Axes>"
      ]
     },
     "metadata": {},
     "output_type": "display_data"
    }
   ],
   "source": [
    "import matplotlib.pyplot as plt\n",
    "from sklearn.metrics import roc_curve, auc\n",
    "\n",
    "# Extract the probabilities of the positive class (second column)\n",
    "#y_pred_proba_positive = y_pred_proba[:, 1]\n",
    "\n",
    "# Calculate ROC curve and AUC\n",
    "fpr, tpr, thresholds = roc_curve(y_test, y_pred)\n",
    "roc_auc = auc(fpr, tpr)\n",
    "\n",
    "# Plot the ROC curve\n",
    "plt.figure(figsize=(8, 6))\n",
    "plt.plot(fpr, tpr, color='darkorange', lw=2, label=f'ROC curve (area = {roc_auc:.2f})')\n",
    "plt.plot([0, 1], [0, 1], color='navy', lw=2, linestyle='--', label='Random Classifier')\n",
    "plt.xlim([0.0, 1.0])\n",
    "plt.ylim([0.0, 1.05])\n",
    "plt.xlabel('False Positive Rate')\n",
    "plt.ylabel('True Positive Rate')\n",
    "plt.title('Receiver Operating Characteristic (ROC) Curve')\n",
    "plt.legend(loc='lower right')\n",
    "plt.grid(True)\n",
    "plt.tight_layout()\n",
    "if save_graph: plt.savefig('roc_auc_curve.png')"
   ]
  },
  {
   "cell_type": "markdown",
   "id": "46981a2e",
   "metadata": {},
   "source": [
    "#### Logging"
   ]
  },
  {
   "cell_type": "code",
   "execution_count": 22,
   "id": "5663fe13",
   "metadata": {},
   "outputs": [],
   "source": [
    "# Keep tracking of every metric\n",
    "history.at[index, 'cm'] = confusion_matrix(y_test_lbl, y_pred_lbl,normalize='true').tolist()\n",
    "history.at[index, 'metrics'] = classification_report(y_test_lbl, y_pred_lbl,output_dict=True)\n",
    "history.at[index, 'roc_auc'] = auc(fpr, tpr)\n",
    "history.to_csv('./data/train_logs.csv') # Save logging file locally"
   ]
  },
  {
   "cell_type": "code",
   "execution_count": 23,
   "id": "55a89531",
   "metadata": {},
   "outputs": [
    {
     "data": {
      "text/plain": [
       "features    {'train': {'feat': ['accepts_mercadopago', 'au...\n",
       "model                                  RandomForestClassifier\n",
       "items                          {'train': 89109, 'test': 9905}\n",
       "cm          [[0.7765937558422135, 0.2234062441577865], [0....\n",
       "metrics     {'new': {'precision': 0.8795257251746771, 'rec...\n",
       "roc_auc                                              0.825852\n",
       "Name: 7, dtype: object"
      ]
     },
     "execution_count": 23,
     "metadata": {},
     "output_type": "execute_result"
    }
   ],
   "source": [
    "history.iloc[index]"
   ]
  },
  {
   "cell_type": "markdown",
   "id": "03ab810c",
   "metadata": {},
   "source": [
    "## Analysis"
   ]
  },
  {
   "cell_type": "markdown",
   "id": "160a93a3",
   "metadata": {},
   "source": [
    "1. Model performance has improved significantly over all metrics.\n",
    "1. Better balance between precision and recall for both classes (reduced FP & FN).\n",
    "\n",
    "**Conclusions:**\n",
    "* The **Random Forest model is generally superior** for this classification task."
   ]
  }
 ],
 "metadata": {
  "kernelspec": {
   "display_name": ".venv",
   "language": "python",
   "name": "python3"
  },
  "language_info": {
   "codemirror_mode": {
    "name": "ipython",
    "version": 3
   },
   "file_extension": ".py",
   "mimetype": "text/x-python",
   "name": "python",
   "nbconvert_exporter": "python",
   "pygments_lexer": "ipython3",
   "version": "3.11.7"
  }
 },
 "nbformat": 4,
 "nbformat_minor": 5
}

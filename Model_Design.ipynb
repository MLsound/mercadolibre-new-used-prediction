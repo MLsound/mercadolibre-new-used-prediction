{
 "cells": [
  {
   "cell_type": "markdown",
   "id": "02fe515b",
   "metadata": {},
   "source": [
    "# Model Design"
   ]
  },
  {
   "cell_type": "code",
   "execution_count": null,
   "id": "edbabc84",
   "metadata": {},
   "outputs": [],
   "source": [
    "import pandas as pd\n",
    "import matplotlib.pyplot as plt\n",
    "from sklearn.linear_model import LogisticRegression\n",
    "from sklearn.metrics import accuracy_score, classification_report, confusion_matrix\n",
    "from scripts.data_processor import load_processed_data\n",
    "\n",
    "classes = {1: 'new', 0: 'used'} # tags for human readabilty\n",
    "save_graph = True # Option for saving graphs' images"
   ]
  },
  {
   "cell_type": "code",
   "execution_count": null,
   "id": "a7c65435",
   "metadata": {},
   "outputs": [
    {
     "name": "stdout",
     "output_type": "stream",
     "text": [
      "Logging file loaded from './data/train_logs.csv'.\n",
      "Register contains data of 1 trainings.\n"
     ]
    },
    {
     "data": {
      "text/html": [
       "<div>\n",
       "<style scoped>\n",
       "    .dataframe tbody tr th:only-of-type {\n",
       "        vertical-align: middle;\n",
       "    }\n",
       "\n",
       "    .dataframe tbody tr th {\n",
       "        vertical-align: top;\n",
       "    }\n",
       "\n",
       "    .dataframe thead th {\n",
       "        text-align: right;\n",
       "    }\n",
       "</style>\n",
       "<table border=\"1\" class=\"dataframe\">\n",
       "  <thead>\n",
       "    <tr style=\"text-align: right;\">\n",
       "      <th></th>\n",
       "      <th>features</th>\n",
       "      <th>model</th>\n",
       "      <th>items</th>\n",
       "      <th>cm</th>\n",
       "      <th>metrics</th>\n",
       "      <th>roc_auc</th>\n",
       "    </tr>\n",
       "    <tr>\n",
       "      <th>training</th>\n",
       "      <th></th>\n",
       "      <th></th>\n",
       "      <th></th>\n",
       "      <th></th>\n",
       "      <th></th>\n",
       "      <th></th>\n",
       "    </tr>\n",
       "  </thead>\n",
       "  <tbody>\n",
       "    <tr>\n",
       "      <th>0</th>\n",
       "      <td>{'train': {'feat': ['accepts_mercadopago', 'au...</td>\n",
       "      <td>LogisticRegression</td>\n",
       "      <td>{'train': 89109, 'test': 9905}</td>\n",
       "      <td>[[0.95905777 0.04094223]\\n [0.52875329 0.47124...</td>\n",
       "      <td>{'new': {'precision': 0.6804615996816554, 'rec...</td>\n",
       "      <td>0.715152</td>\n",
       "    </tr>\n",
       "  </tbody>\n",
       "</table>\n",
       "</div>"
      ],
      "text/plain": [
       "                                                   features  \\\n",
       "training                                                      \n",
       "0         {'train': {'feat': ['accepts_mercadopago', 'au...   \n",
       "\n",
       "                       model                           items  \\\n",
       "training                                                       \n",
       "0         LogisticRegression  {'train': 89109, 'test': 9905}   \n",
       "\n",
       "                                                         cm  \\\n",
       "training                                                      \n",
       "0         [[0.95905777 0.04094223]\\n [0.52875329 0.47124...   \n",
       "\n",
       "                                                    metrics   roc_auc  \n",
       "training                                                               \n",
       "0         {'new': {'precision': 0.6804615996816554, 'rec...  0.715152  "
      ]
     },
     "execution_count": 179,
     "metadata": {},
     "output_type": "execute_result"
    }
   ],
   "source": [
    "# Logging file\n",
    "try:\n",
    "    history = pd.read_csv('./data/train_logs.csv',index_col='training')\n",
    "    print(\"Logging file loaded from './data/train_logs.csv'.\")\n",
    "    print(f\"Register contains data of {len(history)} trainings.\")\n",
    "except FileNotFoundError:\n",
    "    print(\"Logging file was not found. A new logging file was created.\")\n",
    "    history = pd.DataFrame(columns=['features','model','items','cm','metrics','roc_auc'])\n",
    "    history.index.name = 'training' # Set the name for the DataFrame's index\n",
    "except Exception as e:\n",
    "    # Catch other potential errors during CSV loading (e.g., parsing errors)\n",
    "    print(f\"An unexpected error occurred while loading the logging file: {e}\")\n",
    "    print(\"Creating a new logging file instead.\")\n",
    "    history = pd.DataFrame(columns=['features', 'model', 'items', 'cm', 'metrics', 'roc_auc'])\n",
    "    history.index.name = 'training'\n",
    "history"
   ]
  },
  {
   "cell_type": "markdown",
   "id": "1bb0d589",
   "metadata": {},
   "source": [
    "***NOTE:*** *Each section of this notebook should be run independently, as they correspond to distinct iterations of the productive cycle, alternating between EDA & Feature Selection (`EDA.ipynb`) and Train & Evaluate (`model_design.ipynb`).*\n",
    "\n",
    "---\n",
    "\n"
   ]
  },
  {
   "cell_type": "markdown",
   "id": "ea542fdd",
   "metadata": {},
   "source": [
    "# 1º iteration - Quick training test"
   ]
  },
  {
   "cell_type": "code",
   "execution_count": 126,
   "id": "cb1af3fe",
   "metadata": {},
   "outputs": [],
   "source": [
    "index = len(history) # used for logging"
   ]
  },
  {
   "cell_type": "code",
   "execution_count": 25,
   "id": "05b94891",
   "metadata": {},
   "outputs": [
    {
     "name": "stdout",
     "output_type": "stream",
     "text": [
      "Importing data from 'new_or_used.py'…\n",
      "Starting preprocessing…\n",
      "Succesfully finished.\n",
      "\n"
     ]
    }
   ],
   "source": [
    "X_train, y_train, X_test, y_test = load_processed_data()"
   ]
  },
  {
   "cell_type": "code",
   "execution_count": 127,
   "id": "b963d7e1",
   "metadata": {},
   "outputs": [],
   "source": [
    "y_train_lbl = y_train.map(classes)\n",
    "y_test_lbl = y_test.map(classes)"
   ]
  },
  {
   "cell_type": "markdown",
   "id": "36131631",
   "metadata": {},
   "source": [
    "### Dataset info"
   ]
  },
  {
   "cell_type": "code",
   "execution_count": 133,
   "id": "0cda91d0",
   "metadata": {},
   "outputs": [
    {
     "name": "stdout",
     "output_type": "stream",
     "text": [
      "Split sizes: 89109 train, 9905 test\n"
     ]
    }
   ],
   "source": [
    "size = {'train':len(X_train),'test':len(X_test)}\n",
    "print(\"Split sizes: {} train, {} test\".format(size['train'], size['test']))"
   ]
  },
  {
   "cell_type": "code",
   "execution_count": 134,
   "id": "88ce086f",
   "metadata": {},
   "outputs": [],
   "source": [
    "features = {'train': {'feat': None, 'target': None},\n",
    "            'test': {'feat': None, 'target': None}}"
   ]
  },
  {
   "cell_type": "code",
   "execution_count": 135,
   "id": "db0a14c2",
   "metadata": {},
   "outputs": [
    {
     "data": {
      "text/plain": [
       "Index(['features', 'model', 'items', 'cm', 'metrics', 'roc_auc'], dtype='object')"
      ]
     },
     "execution_count": 135,
     "metadata": {},
     "output_type": "execute_result"
    }
   ],
   "source": [
    "history.columns"
   ]
  },
  {
   "cell_type": "code",
   "execution_count": 136,
   "id": "bf5746c9",
   "metadata": {},
   "outputs": [
    {
     "data": {
      "text/html": [
       "<div>\n",
       "<style scoped>\n",
       "    .dataframe tbody tr th:only-of-type {\n",
       "        vertical-align: middle;\n",
       "    }\n",
       "\n",
       "    .dataframe tbody tr th {\n",
       "        vertical-align: top;\n",
       "    }\n",
       "\n",
       "    .dataframe thead th {\n",
       "        text-align: right;\n",
       "    }\n",
       "</style>\n",
       "<table border=\"1\" class=\"dataframe\">\n",
       "  <thead>\n",
       "    <tr style=\"text-align: right;\">\n",
       "      <th></th>\n",
       "      <th>features</th>\n",
       "      <th>model</th>\n",
       "      <th>items</th>\n",
       "      <th>cm</th>\n",
       "      <th>metrics</th>\n",
       "      <th>roc_auc</th>\n",
       "    </tr>\n",
       "  </thead>\n",
       "  <tbody>\n",
       "    <tr>\n",
       "      <th>0</th>\n",
       "      <td>NaN</td>\n",
       "      <td>NaN</td>\n",
       "      <td>NaN</td>\n",
       "      <td>NaN</td>\n",
       "      <td>NaN</td>\n",
       "      <td>NaN</td>\n",
       "    </tr>\n",
       "  </tbody>\n",
       "</table>\n",
       "</div>"
      ],
      "text/plain": [
       "  features model items   cm metrics roc_auc\n",
       "0      NaN   NaN   NaN  NaN     NaN     NaN"
      ]
     },
     "execution_count": 136,
     "metadata": {},
     "output_type": "execute_result"
    }
   ],
   "source": [
    "history"
   ]
  },
  {
   "cell_type": "markdown",
   "id": "53c34576",
   "metadata": {},
   "source": [
    "#### Train split"
   ]
  },
  {
   "cell_type": "code",
   "execution_count": 137,
   "id": "7cc1c8ed",
   "metadata": {},
   "outputs": [
    {
     "name": "stdout",
     "output_type": "stream",
     "text": [
      "<class 'pandas.core.frame.DataFrame'>\n",
      "RangeIndex: 89109 entries, 0 to 89108\n",
      "Data columns (total 15 columns):\n",
      " #   Column                        Non-Null Count  Dtype  \n",
      "---  ------                        --------------  -----  \n",
      " 0   accepts_mercadopago           89109 non-null  uint8  \n",
      " 1   automatic_relist              89109 non-null  uint8  \n",
      " 2   price_scaled                  89109 non-null  float64\n",
      " 3   initial_quantity_scaled       89109 non-null  float64\n",
      " 4   is_USD                        89109 non-null  uint8  \n",
      " 5   listing_type_id_free          89109 non-null  float64\n",
      " 6   listing_type_id_gold          89109 non-null  float64\n",
      " 7   listing_type_id_gold_premium  89109 non-null  float64\n",
      " 8   listing_type_id_gold_pro      89109 non-null  float64\n",
      " 9   listing_type_id_gold_special  89109 non-null  float64\n",
      " 10  listing_type_id_silver        89109 non-null  float64\n",
      " 11  buying_mode_buy_it_now        89109 non-null  float64\n",
      " 12  buying_mode_classified        89109 non-null  float64\n",
      " 13  status_not_yet_active         89109 non-null  float64\n",
      " 14  status_paused                 89109 non-null  float64\n",
      "dtypes: float64(12), uint8(3)\n",
      "memory usage: 8.4 MB\n"
     ]
    }
   ],
   "source": [
    "X_train.info()"
   ]
  },
  {
   "cell_type": "code",
   "execution_count": 138,
   "id": "7a94e33a",
   "metadata": {},
   "outputs": [
    {
     "data": {
      "text/plain": [
       "new     47859\n",
       "used    41250\n",
       "Name: count, dtype: int64"
      ]
     },
     "execution_count": 138,
     "metadata": {},
     "output_type": "execute_result"
    }
   ],
   "source": [
    "y_train_lbl.value_counts()"
   ]
  },
  {
   "cell_type": "code",
   "execution_count": 139,
   "id": "7ab724cb",
   "metadata": {},
   "outputs": [
    {
     "data": {
      "text/plain": [
       "{'new': 47859, 'used': 41250}"
      ]
     },
     "execution_count": 139,
     "metadata": {},
     "output_type": "execute_result"
    }
   ],
   "source": [
    "y_train_lbl.value_counts().to_dict()"
   ]
  },
  {
   "cell_type": "markdown",
   "id": "f549b0e8",
   "metadata": {},
   "source": [
    "#### Test split"
   ]
  },
  {
   "cell_type": "code",
   "execution_count": 140,
   "id": "ea9622be",
   "metadata": {},
   "outputs": [
    {
     "name": "stdout",
     "output_type": "stream",
     "text": [
      "<class 'pandas.core.frame.DataFrame'>\n",
      "RangeIndex: 9905 entries, 0 to 9904\n",
      "Data columns (total 15 columns):\n",
      " #   Column                        Non-Null Count  Dtype  \n",
      "---  ------                        --------------  -----  \n",
      " 0   accepts_mercadopago           9905 non-null   uint8  \n",
      " 1   automatic_relist              9905 non-null   uint8  \n",
      " 2   price_scaled                  9905 non-null   float64\n",
      " 3   initial_quantity_scaled       9905 non-null   float64\n",
      " 4   is_USD                        9905 non-null   uint8  \n",
      " 5   listing_type_id_free          9905 non-null   float64\n",
      " 6   listing_type_id_gold          9905 non-null   float64\n",
      " 7   listing_type_id_gold_premium  9905 non-null   float64\n",
      " 8   listing_type_id_gold_pro      9905 non-null   float64\n",
      " 9   listing_type_id_gold_special  9905 non-null   float64\n",
      " 10  listing_type_id_silver        9905 non-null   float64\n",
      " 11  buying_mode_buy_it_now        9905 non-null   float64\n",
      " 12  buying_mode_classified        9905 non-null   float64\n",
      " 13  status_not_yet_active         9905 non-null   float64\n",
      " 14  status_paused                 9905 non-null   float64\n",
      "dtypes: float64(12), uint8(3)\n",
      "memory usage: 957.7 KB\n"
     ]
    }
   ],
   "source": [
    "X_test.info()"
   ]
  },
  {
   "cell_type": "code",
   "execution_count": 141,
   "id": "0e2008ee",
   "metadata": {},
   "outputs": [
    {
     "data": {
      "text/plain": [
       "new     5349\n",
       "used    4556\n",
       "Name: count, dtype: int64"
      ]
     },
     "execution_count": 141,
     "metadata": {},
     "output_type": "execute_result"
    }
   ],
   "source": [
    "y_test_lbl.value_counts()"
   ]
  },
  {
   "cell_type": "markdown",
   "id": "2dc18292",
   "metadata": {},
   "source": [
    "#### Logging"
   ]
  },
  {
   "cell_type": "code",
   "execution_count": 142,
   "id": "32178828",
   "metadata": {},
   "outputs": [],
   "source": [
    "# Keep tracking of every feature\n",
    "history.at[index, 'items'] = size\n",
    "features['train']['feat'] = X_train.columns.to_list()\n",
    "features['test']['feat'] = X_test.columns.to_list()\n",
    "features['train']['target'] = y_train_lbl.value_counts().to_dict()\n",
    "features['test']['target'] = y_test_lbl.value_counts().to_dict()\n",
    "history.at[index, 'features'] = features"
   ]
  },
  {
   "cell_type": "markdown",
   "id": "4e2f6320",
   "metadata": {},
   "source": [
    "## Model training"
   ]
  },
  {
   "cell_type": "code",
   "execution_count": null,
   "id": "73087e62",
   "metadata": {},
   "outputs": [],
   "source": [
    "# Initialize the Logistic Regression model\n",
    "model = LogisticRegression(random_state=42)\n",
    "history.at[index, 'model'] = model.__class__.__name__ # for logging"
   ]
  },
  {
   "cell_type": "code",
   "execution_count": 146,
   "id": "ce0928e9",
   "metadata": {},
   "outputs": [
    {
     "name": "stdout",
     "output_type": "stream",
     "text": [
      "Training the Logistic Regression model...\n",
      "Model training complete.\n"
     ]
    }
   ],
   "source": [
    "# Train the model using the scaled training data\n",
    "print(\"Training the Logistic Regression model...\")\n",
    "model.fit(X_train, y_train)\n",
    "print(\"Model training complete.\")"
   ]
  },
  {
   "cell_type": "markdown",
   "id": "bd593829",
   "metadata": {},
   "source": [
    "## Model evaluation"
   ]
  },
  {
   "cell_type": "code",
   "execution_count": 35,
   "id": "e6ab8aaa",
   "metadata": {},
   "outputs": [],
   "source": [
    "# Predict on the scaled test data\n",
    "y_pred = model.predict(X_test)\n",
    "y_pred_lbl = pd.Series(y_pred).map(classes)\n",
    "\n",
    "# Getprediction probabilities (useful for ROC curves, etc.\n",
    "y_pred_proba = model.predict_proba(X_test) "
   ]
  },
  {
   "cell_type": "code",
   "execution_count": null,
   "id": "b7f6773e",
   "metadata": {},
   "outputs": [
    {
     "name": "stdout",
     "output_type": "stream",
     "text": [
      "Accuracy: 0.7347\n",
      "\n",
      "Classification Report:\n",
      "              precision    recall  f1-score   support\n",
      "\n",
      "         new      0.680     0.959     0.796      5349\n",
      "        used      0.907     0.471     0.620      4556\n",
      "\n",
      "    accuracy                          0.735      9905\n",
      "   macro avg      0.794     0.715     0.708      9905\n",
      "weighted avg      0.785     0.735     0.715      9905\n",
      "\n"
     ]
    }
   ],
   "source": [
    "# PERFORMANCE EVALUATION\n",
    "# Accuracy Score\n",
    "accuracy = accuracy_score(y_test, y_pred)\n",
    "print(f\"Accuracy: {accuracy:.4f}\")\n",
    "\n",
    "# Classification Report (provides Precision, Recall, F1-Score for each class)\n",
    "class_report = classification_report(y_test_lbl, y_pred_lbl,digits=3)\n",
    "print(\"\\nClassification Report:\")\n",
    "print(class_report)"
   ]
  },
  {
   "cell_type": "code",
   "execution_count": 53,
   "id": "088646ec",
   "metadata": {},
   "outputs": [
    {
     "data": {
      "image/png": "[encoded data removed]",
      "text/plain": [
       "<Figure size 800x600 with 2 Axes>"
      ]
     },
     "metadata": {},
     "output_type": "display_data"
    }
   ],
   "source": [
    "import matplotlib.pyplot as plt\n",
    "import seaborn as sns\n",
    "\n",
    "# Calculate the confusion matrix\n",
    "conf_matrix = confusion_matrix(y_test_lbl, y_pred_lbl)\n",
    "\n",
    "# Plot the confusion matrix\n",
    "plt.figure(figsize=(8, 6))\n",
    "sns.heatmap(conf_matrix, annot=True, fmt='d', cmap='Blues',\n",
    "            xticklabels=['Predicted New', 'Predicted Used'],\n",
    "            yticklabels=['Actual New', 'Actual Used'])\n",
    "plt.xlabel('Predicted Label')\n",
    "plt.ylabel('True Label')\n",
    "plt.title('Confusion Matrix')\n",
    "plt.tight_layout()\n",
    "if save_graph: plt.savefig('confusion_matrix.png')"
   ]
  },
  {
   "cell_type": "code",
   "execution_count": 38,
   "id": "a4e0a823",
   "metadata": {},
   "outputs": [
    {
     "data": {
      "image/png": "[encoded data removed]",
      "text/plain": [
       "<Figure size 800x600 with 1 Axes>"
      ]
     },
     "metadata": {},
     "output_type": "display_data"
    }
   ],
   "source": [
    "import matplotlib.pyplot as plt\n",
    "from sklearn.metrics import roc_curve, auc\n",
    "\n",
    "# Extract the probabilities of the positive class (second column)\n",
    "#y_pred_proba_positive = y_pred_proba[:, 1]\n",
    "\n",
    "# Calculate ROC curve and AUC\n",
    "fpr, tpr, thresholds = roc_curve(y_test, y_pred)\n",
    "roc_auc = auc(fpr, tpr)\n",
    "\n",
    "# Plot the ROC curve\n",
    "plt.figure(figsize=(8, 6))\n",
    "plt.plot(fpr, tpr, color='darkorange', lw=2, label=f'ROC curve (area = {roc_auc:.2f})')\n",
    "plt.plot([0, 1], [0, 1], color='navy', lw=2, linestyle='--', label='Random Classifier')\n",
    "plt.xlim([0.0, 1.0])\n",
    "plt.ylim([0.0, 1.05])\n",
    "plt.xlabel('False Positive Rate')\n",
    "plt.ylabel('True Positive Rate')\n",
    "plt.title('Receiver Operating Characteristic (ROC) Curve')\n",
    "plt.legend(loc='lower right')\n",
    "plt.grid(True)\n",
    "plt.tight_layout()\n",
    "if save_graph: plt.savefig('roc_auc_curve.png')"
   ]
  },
  {
   "cell_type": "markdown",
   "id": "ca2c442b",
   "metadata": {},
   "source": [
    "#### Logging"
   ]
  },
  {
   "cell_type": "code",
   "execution_count": null,
   "id": "542d7139",
   "metadata": {},
   "outputs": [],
   "source": [
    "# Keep tracking of every metric\n",
    "history.at[index, 'cm'] = confusion_matrix(y_test_lbl, y_pred_lbl,normalize='true').tolist()\n",
    "history.at[index, 'metrics'] = classification_report(y_test_lbl, y_pred_lbl,output_dict=True)\n",
    "history.at[index, 'roc_auc'] = auc(fpr, tpr)\n",
    "history.to_csv('./data/train_logs.csv') # Save logging file locally"
   ]
  },
  {
   "cell_type": "code",
   "execution_count": 193,
   "id": "529a1748",
   "metadata": {},
   "outputs": [
    {
     "data": {
      "text/plain": [
       "features    {'train': {'feat': ['accepts_mercadopago', 'au...\n",
       "model                                      LogisticRegression\n",
       "items                          {'train': 89109, 'test': 9905}\n",
       "cm          [[0.9590577678070668, 0.04094223219293326], [0...\n",
       "metrics     {'new': {'precision': 0.6804615996816554, 'rec...\n",
       "roc_auc                                              0.715152\n",
       "Name: 0, dtype: object"
      ]
     },
     "execution_count": 193,
     "metadata": {},
     "output_type": "execute_result"
    }
   ],
   "source": [
    "history.iloc[index]"
   ]
  },
  {
   "cell_type": "markdown",
   "id": "2ebaf810",
   "metadata": {},
   "source": [
    "## Analysis"
   ]
  },
  {
   "cell_type": "markdown",
   "id": "9436a801",
   "metadata": {},
   "source": [
    "**Key Takeaways:**\n",
    "\n",
    "1.  **Class Imbalance in Prediction Quality:** The model is **heavily biased towards predicting \"new.\"** It's excellent at identifying \"new\" items (high recall of 0.96 for 'new'), meaning it correctly catches 96% of all actual \"new\" items. However, it **struggles significantly with identifying \"used\" items** (low recall of 0.47 for 'used'), correctly identifying less than half of them. When the model does predict \"used,\" it's usually correct (high precision of 0.91 for 'used'), but it misses a substantial number of actual \"used\" items. This manifests as a high count of **False Negatives for 'used'** (actual 'used' items misclassified as 'new') and, equivalently, a high count of **False Positives for 'new'** (actual 'used' items misclassified as 'new').\n",
    "\n",
    "2.  **High False Positives for \"new\" / High False Negatives for \"used\":** The **2409 False Positives for \"new\"** in the confusion matrix explicitly mean that 2409 items that were **actually \"used\" were incorrectly classified as \"new.\"** This large number directly explains the low recall for \"used\" ($2147 \\text{ TP} / (2147 \\text{ TP} + 2409 \\text{ FN}) = 0.47$).\n",
    "\n",
    "3.  **Accuracy is Misleading:** With a significant imbalance in performance across classes and given the class distribution (5349 'new' vs. 4556 'used'), **accuracy alone is not a reliable metric.** The model's strong performance on the slightly larger class ('new') inflates the overall accuracy, masking its poor ability to identify 'used' items.\n",
    "\n",
    "**Conclusions:**\n",
    "\n",
    "* Some features are **poor predictors** of the target, showing **correlations close to 0**. This likely contributes to the high number of false positives observed.\n",
    "* The continuous variables `price` and `quantity` exhibit **highly skewed distributions** with a significant presence of positive outliers. For 'cantidad' in particular, it appears more beneficial to consider if the quantity is simply **greater than 1**, as this seems to influence the probability of an item being 'new'. This suggests a valuable opportunity for feature engineering.\n",
    "* Regarding the **dummy variables for `listing_type_id`**, only certain categories appear to be relevant. Specifically, the distinction between **paid and free users** seems to be a key differentiator. Notably, 'gold_pro' and 'gold_premium' tiers show little correlation, while lower-tier categories exhibit stronger predictive power.\n",
    "* The **`status` variable** should not be considered for the model, as the **vast majority of items are 'active'**, providing very little discriminating information."
   ]
  }
 ],
 "metadata": {
  "kernelspec": {
   "display_name": ".venv",
   "language": "python",
   "name": "python3"
  },
  "language_info": {
   "codemirror_mode": {
    "name": "ipython",
    "version": 3
   },
   "file_extension": ".py",
   "mimetype": "text/x-python",
   "name": "python",
   "nbconvert_exporter": "python",
   "pygments_lexer": "ipython3",
   "version": "3.11.7"
  }
 },
 "nbformat": 4,
 "nbformat_minor": 5
}
